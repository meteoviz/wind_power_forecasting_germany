{
 "cells": [
  {
   "cell_type": "markdown",
   "id": "8fa8fb6c-b702-4bdc-8c46-bd9c61ace39e",
   "metadata": {},
   "source": [
    "# Copernicus Climate Data Store (CDS) API\n",
    "- CDS documentation: https://confluence.ecmwf.int/display/CKB/Climate+Data+Store+%28CDS%29+documentation\n",
    "- Developer and API documentation: https://cds.climate.copernicus.eu/toolbox/doc/index.html\n",
    "- Use bboxfinder tool to select a suitable geographic bounding box: http://bboxfinder.com"
   ]
  },
  {
   "cell_type": "code",
   "execution_count": 774,
   "id": "9187ec16-cff9-448e-baa1-bc624322c249",
   "metadata": {
    "tags": []
   },
   "outputs": [],
   "source": [
    "from pathlib import Path\n",
    "from itertools import product\n",
    "from math import radians\n",
    "import json\n",
    "\n",
    "import requests\n",
    "import cdsapi\n",
    "import numpy as np\n",
    "import pandas as pd\n",
    "import xarray as xr\n",
    "import matplotlib.pyplot as plt\n",
    "import cartopy.crs as ccrs\n",
    "import cartopy.feature as cfeature\n",
    "from sklearn.metrics.pairwise import haversine_distances"
   ]
  },
  {
   "cell_type": "code",
   "execution_count": 98,
   "id": "cdc11c87-a2b2-4688-876c-56b7d3cc1c3f",
   "metadata": {
    "tags": []
   },
   "outputs": [],
   "source": [
    "# Directory where data files will be downloaded\n",
    "cwd_path = Path.cwd()\n",
    "data_path = cwd_path.parent.joinpath('data')\n",
    "data_push_path = cwd_path.parent.joinpath('data_to_push')"
   ]
  },
  {
   "cell_type": "code",
   "execution_count": 99,
   "id": "4be9cd56-ce94-49b3-ba5f-1cdf577bfcee",
   "metadata": {
    "tags": []
   },
   "outputs": [
    {
     "data": {
      "text/plain": [
       "PosixPath('/Users/brand/my_code/meteoviz/course_project/data')"
      ]
     },
     "execution_count": 99,
     "metadata": {},
     "output_type": "execute_result"
    }
   ],
   "source": [
    "data_path"
   ]
  },
  {
   "cell_type": "code",
   "execution_count": 100,
   "id": "d6542a7e-1144-4e07-93cb-c922f673261f",
   "metadata": {
    "tags": []
   },
   "outputs": [
    {
     "name": "stdout",
     "output_type": "stream",
     "text": [
      "https://cds.climate.copernicus.eu/api/v2\n",
      "True\n",
      "60\n"
     ]
    }
   ],
   "source": [
    "# Make sure api key is in dot file in home dir\n",
    "cds = cdsapi.Client()\n",
    "print(cds.url)\n",
    "print(cds.verify)\n",
    "print(cds.timeout)"
   ]
  },
  {
   "cell_type": "markdown",
   "id": "e49d5268-2caf-40c4-a8f5-9ae3e6294396",
   "metadata": {},
   "source": [
    "#### Forming the API request\n",
    "- From the documentation: \"We strongly suggest to construct CDS API requests by using the CDS web interface of the relevant dataset and using the 'Show API request' button to get the code.\"\n",
    "    - hourly data single levels: https://cds.climate.copernicus.eu/cdsapp#!/dataset/reanalysis-era5-single-levels?tab=overview\n",
    "    - hourly data pressure levels: https://cds.climate.copernicus.eu/cdsapp#!/dataset/reanalysis-era5-pressure-levels?tab=overview"
   ]
  },
  {
   "cell_type": "markdown",
   "id": "1d1bdb9c-7b59-4712-865e-323f63002eed",
   "metadata": {},
   "source": [
    "#### Suitable geographic bounding box that contains all of Germany\n",
    "- Box coordinates (long,lat): 4.218,46.073,17.028,56.377\n",
    "- CDS needs it in North(0 to 90), West(0 to -180), South(0 to -90), East (0 to 180). Default: global\n",
    "    - That's `[56.38, 4.22, 46.07, 17.03]`"
   ]
  },
  {
   "cell_type": "markdown",
   "id": "c85ecd32-415d-4b10-a03e-7152d70359d7",
   "metadata": {},
   "source": [
    "#### Data size and request duration\n",
    "- One year of hourly 100m and 10m wind components (4 variables) for above bounding box is 150 MB\n",
    "- API call took 17 minutes from queued, running to completed\n",
    "\n",
    "#### Variables of interest\n",
    "- `100m_u-component_of_wind`, `100m_v-component_of_wind` and 10m components have units `m s**-1` and  are single level, instantanous parameters\n",
    "- instantaneous: Although they are valid at the specified time, and NOT an average over the model time step, such parameters cannot represent variability on short time scales. This arises because the model values are a grid box average, without variability on spatial scales smaller than the grid"
   ]
  },
  {
   "cell_type": "code",
   "execution_count": 50,
   "id": "34d5f5a7-edb1-4bb0-9849-e9ade21108a5",
   "metadata": {
    "tags": []
   },
   "outputs": [
    {
     "name": "stderr",
     "output_type": "stream",
     "text": [
      "2023-09-04 00:27:00,872 INFO Welcome to the CDS\n",
      "2023-09-04 00:27:00,873 INFO Sending request to https://cds.climate.copernicus.eu/api/v2/resources/reanalysis-era5-single-levels\n",
      "2023-09-04 00:27:01,048 INFO Request is queued\n",
      "2023-09-04 00:27:02,186 INFO Request is running\n",
      "2023-09-04 00:45:21,895 INFO Request is completed\n",
      "2023-09-04 00:45:21,896 INFO Downloading https://download-0014-clone.copernicus-climate.eu/cache-compute-0014/cache/data6/adaptor.mars.internal-1693780956.9471045-19216-15-4d4e8e02-b91a-4902-b9fe-ab2b33e28aaa.nc to /Users/brand/my_code/meteoviz/course_project/data/wind_data_2021.nc (146M)\n",
      "2023-09-04 00:45:31,129 INFO Download rate 15.8M/s                          \n"
     ]
    },
    {
     "data": {
      "text/plain": [
       "Result(content_length=153091980,content_type=application/x-netcdf,location=https://download-0014-clone.copernicus-climate.eu/cache-compute-0014/cache/data6/adaptor.mars.internal-1693780956.9471045-19216-15-4d4e8e02-b91a-4902-b9fe-ab2b33e28aaa.nc)"
      ]
     },
     "execution_count": 50,
     "metadata": {},
     "output_type": "execute_result"
    }
   ],
   "source": [
    "# # Get hourly 10m and 100m wind components for one year\n",
    "# cds.retrieve(\n",
    "#     'reanalysis-era5-single-levels',\n",
    "#     {\n",
    "#         'product_type': 'reanalysis',\n",
    "#         'format': 'netcdf',\n",
    "#         'variable': [\n",
    "#             '100m_u_component_of_wind', '100m_v_component_of_wind', '10m_u_component_of_wind',\n",
    "#             '10m_v_component_of_wind',\n",
    "#         ],\n",
    "#         'year': '2021',\n",
    "#         'month': [\n",
    "#             '01', '02', '03',\n",
    "#             '04', '05', '06',\n",
    "#             '07', '08', '09',\n",
    "#             '10', '11', '12',\n",
    "#         ],\n",
    "#         'day': [\n",
    "#             '01', '02', '03',\n",
    "#             '04', '05', '06',\n",
    "#             '07', '08', '09',\n",
    "#             '10', '11', '12',\n",
    "#             '13', '14', '15',\n",
    "#             '16', '17', '18',\n",
    "#             '19', '20', '21',\n",
    "#             '22', '23', '24',\n",
    "#             '25', '26', '27',\n",
    "#             '28', '29', '30',\n",
    "#             '31',\n",
    "#         ],\n",
    "#         'time': [\n",
    "#             '00:00', '01:00', '02:00',\n",
    "#             '03:00', '04:00', '05:00',\n",
    "#             '06:00', '07:00', '08:00',\n",
    "#             '09:00', '10:00', '11:00',\n",
    "#             '12:00', '13:00', '14:00',\n",
    "#             '15:00', '16:00', '17:00',\n",
    "#             '18:00', '19:00', '20:00',\n",
    "#             '21:00', '22:00', '23:00',\n",
    "#         ],\n",
    "#         'area': [\n",
    "#             56.38, 4.22, 46.07,\n",
    "#             17.03,\n",
    "#         ],\n",
    "#     },\n",
    "#     str(data_path.joinpath('wind_data_2021.nc')))"
   ]
  },
  {
   "cell_type": "markdown",
   "id": "c39a4c14-268c-40d5-ac58-52f6e1b3bfa9",
   "metadata": {},
   "source": [
    "#### Note\n",
    "- Is the projection of the grid: equal-area EPSG:3035 projection? \n",
    "- Grid resolution should be 30km x 30km\n",
    "    - ERA5 data is referenced in the horizontal with respect to the WGS84 ellipse (which defines the major/minor axes) and in the vertical it is referenced to the EGM96 geoid over land but over ocean it is referenced to mean sea level, with the approximation that this is assumed to be coincident with the geoid\n",
    "    - The native grid is the reduced Gaussian grid N320"
   ]
  },
  {
   "cell_type": "markdown",
   "id": "f2d7ff5a-66d8-461f-b707-867b39105c0d",
   "metadata": {},
   "source": [
    "#### Reading and writing netCDF files in Xarray\n",
    "- https://docs.xarray.dev/en/stable/user-guide/io.html"
   ]
  },
  {
   "cell_type": "markdown",
   "id": "beff0abb-ca00-4849-9e6a-4986fb27f103",
   "metadata": {},
   "source": [
    "-----"
   ]
  },
  {
   "cell_type": "markdown",
   "id": "3650bf38-f84e-49ec-8f59-71a897bc42ce",
   "metadata": {},
   "source": [
    "## Load NetCDF data into Xarray \n",
    "- Note: The grid points are the same for subsequent API calls on the same region!"
   ]
  },
  {
   "cell_type": "code",
   "execution_count": 24,
   "id": "53fe9eb8-3ff6-49cc-a0c7-8cd7ebbea3ce",
   "metadata": {
    "tags": []
   },
   "outputs": [],
   "source": [
    "# Load the NetCDF file using Xarray\n",
    "ds = xr.open_dataset(data_path.joinpath('wind_data.nc'))"
   ]
  },
  {
   "cell_type": "code",
   "execution_count": 51,
   "id": "4ae56ff4-cbfd-43a2-9d4b-8ef9e0ac5505",
   "metadata": {
    "tags": []
   },
   "outputs": [],
   "source": [
    "# Load the NetCDF file using Xarray\n",
    "ds_2021 = xr.open_dataset(data_path.joinpath('wind_data_2021.nc'))"
   ]
  },
  {
   "cell_type": "markdown",
   "id": "c55a7a79-8f20-4322-ae66-2cc21a4ee571",
   "metadata": {},
   "source": [
    "##### Check that the lat, lon coords are the same as previous dataset "
   ]
  },
  {
   "cell_type": "code",
   "execution_count": 176,
   "id": "c32e4eb1-ad9e-4162-9054-877019d238d2",
   "metadata": {
    "tags": []
   },
   "outputs": [
    {
     "data": {
      "text/plain": [
       "True"
      ]
     },
     "execution_count": 176,
     "metadata": {},
     "output_type": "execute_result"
    }
   ],
   "source": [
    "# Create 2D arrays of lat, lon pairs; shape (2184, 2)\n",
    "ds_coords = np.array(list(product(ds.latitude.values, ds.longitude.values)))\n",
    "ds_2021_coords = np.array(list(product(ds_2021.latitude.values, ds_2021.longitude.values)))\n",
    "\n",
    "# Test that they have same shape and elements\n",
    "np.array_equal(ds_coords, ds_2021_coords)"
   ]
  },
  {
   "cell_type": "code",
   "execution_count": 25,
   "id": "c9f44e23-58aa-4dfc-a0ce-08505599c229",
   "metadata": {
    "tags": []
   },
   "outputs": [
    {
     "data": {
      "text/html": [
       "<div><svg style=\"position: absolute; width: 0; height: 0; overflow: hidden\">\n",
       "<defs>\n",
       "<symbol id=\"icon-database\" viewBox=\"0 0 32 32\">\n",
       "<path d=\"M16 0c-8.837 0-16 2.239-16 5v4c0 2.761 7.163 5 16 5s16-2.239 16-5v-4c0-2.761-7.163-5-16-5z\"></path>\n",
       "<path d=\"M16 17c-8.837 0-16-2.239-16-5v6c0 2.761 7.163 5 16 5s16-2.239 16-5v-6c0 2.761-7.163 5-16 5z\"></path>\n",
       "<path d=\"M16 26c-8.837 0-16-2.239-16-5v6c0 2.761 7.163 5 16 5s16-2.239 16-5v-6c0 2.761-7.163 5-16 5z\"></path>\n",
       "</symbol>\n",
       "<symbol id=\"icon-file-text2\" viewBox=\"0 0 32 32\">\n",
       "<path d=\"M28.681 7.159c-0.694-0.947-1.662-2.053-2.724-3.116s-2.169-2.030-3.116-2.724c-1.612-1.182-2.393-1.319-2.841-1.319h-15.5c-1.378 0-2.5 1.121-2.5 2.5v27c0 1.378 1.122 2.5 2.5 2.5h23c1.378 0 2.5-1.122 2.5-2.5v-19.5c0-0.448-0.137-1.23-1.319-2.841zM24.543 5.457c0.959 0.959 1.712 1.825 2.268 2.543h-4.811v-4.811c0.718 0.556 1.584 1.309 2.543 2.268zM28 29.5c0 0.271-0.229 0.5-0.5 0.5h-23c-0.271 0-0.5-0.229-0.5-0.5v-27c0-0.271 0.229-0.5 0.5-0.5 0 0 15.499-0 15.5 0v7c0 0.552 0.448 1 1 1h7v19.5z\"></path>\n",
       "<path d=\"M23 26h-14c-0.552 0-1-0.448-1-1s0.448-1 1-1h14c0.552 0 1 0.448 1 1s-0.448 1-1 1z\"></path>\n",
       "<path d=\"M23 22h-14c-0.552 0-1-0.448-1-1s0.448-1 1-1h14c0.552 0 1 0.448 1 1s-0.448 1-1 1z\"></path>\n",
       "<path d=\"M23 18h-14c-0.552 0-1-0.448-1-1s0.448-1 1-1h14c0.552 0 1 0.448 1 1s-0.448 1-1 1z\"></path>\n",
       "</symbol>\n",
       "</defs>\n",
       "</svg>\n",
       "<style>/* CSS stylesheet for displaying xarray objects in jupyterlab.\n",
       " *\n",
       " */\n",
       "\n",
       ":root {\n",
       "  --xr-font-color0: var(--jp-content-font-color0, rgba(0, 0, 0, 1));\n",
       "  --xr-font-color2: var(--jp-content-font-color2, rgba(0, 0, 0, 0.54));\n",
       "  --xr-font-color3: var(--jp-content-font-color3, rgba(0, 0, 0, 0.38));\n",
       "  --xr-border-color: var(--jp-border-color2, #e0e0e0);\n",
       "  --xr-disabled-color: var(--jp-layout-color3, #bdbdbd);\n",
       "  --xr-background-color: var(--jp-layout-color0, white);\n",
       "  --xr-background-color-row-even: var(--jp-layout-color1, white);\n",
       "  --xr-background-color-row-odd: var(--jp-layout-color2, #eeeeee);\n",
       "}\n",
       "\n",
       "html[theme=dark],\n",
       "body[data-theme=dark],\n",
       "body.vscode-dark {\n",
       "  --xr-font-color0: rgba(255, 255, 255, 1);\n",
       "  --xr-font-color2: rgba(255, 255, 255, 0.54);\n",
       "  --xr-font-color3: rgba(255, 255, 255, 0.38);\n",
       "  --xr-border-color: #1F1F1F;\n",
       "  --xr-disabled-color: #515151;\n",
       "  --xr-background-color: #111111;\n",
       "  --xr-background-color-row-even: #111111;\n",
       "  --xr-background-color-row-odd: #313131;\n",
       "}\n",
       "\n",
       ".xr-wrap {\n",
       "  display: block !important;\n",
       "  min-width: 300px;\n",
       "  max-width: 700px;\n",
       "}\n",
       "\n",
       ".xr-text-repr-fallback {\n",
       "  /* fallback to plain text repr when CSS is not injected (untrusted notebook) */\n",
       "  display: none;\n",
       "}\n",
       "\n",
       ".xr-header {\n",
       "  padding-top: 6px;\n",
       "  padding-bottom: 6px;\n",
       "  margin-bottom: 4px;\n",
       "  border-bottom: solid 1px var(--xr-border-color);\n",
       "}\n",
       "\n",
       ".xr-header > div,\n",
       ".xr-header > ul {\n",
       "  display: inline;\n",
       "  margin-top: 0;\n",
       "  margin-bottom: 0;\n",
       "}\n",
       "\n",
       ".xr-obj-type,\n",
       ".xr-array-name {\n",
       "  margin-left: 2px;\n",
       "  margin-right: 10px;\n",
       "}\n",
       "\n",
       ".xr-obj-type {\n",
       "  color: var(--xr-font-color2);\n",
       "}\n",
       "\n",
       ".xr-sections {\n",
       "  padding-left: 0 !important;\n",
       "  display: grid;\n",
       "  grid-template-columns: 150px auto auto 1fr 20px 20px;\n",
       "}\n",
       "\n",
       ".xr-section-item {\n",
       "  display: contents;\n",
       "}\n",
       "\n",
       ".xr-section-item input {\n",
       "  display: none;\n",
       "}\n",
       "\n",
       ".xr-section-item input + label {\n",
       "  color: var(--xr-disabled-color);\n",
       "}\n",
       "\n",
       ".xr-section-item input:enabled + label {\n",
       "  cursor: pointer;\n",
       "  color: var(--xr-font-color2);\n",
       "}\n",
       "\n",
       ".xr-section-item input:enabled + label:hover {\n",
       "  color: var(--xr-font-color0);\n",
       "}\n",
       "\n",
       ".xr-section-summary {\n",
       "  grid-column: 1;\n",
       "  color: var(--xr-font-color2);\n",
       "  font-weight: 500;\n",
       "}\n",
       "\n",
       ".xr-section-summary > span {\n",
       "  display: inline-block;\n",
       "  padding-left: 0.5em;\n",
       "}\n",
       "\n",
       ".xr-section-summary-in:disabled + label {\n",
       "  color: var(--xr-font-color2);\n",
       "}\n",
       "\n",
       ".xr-section-summary-in + label:before {\n",
       "  display: inline-block;\n",
       "  content: '►';\n",
       "  font-size: 11px;\n",
       "  width: 15px;\n",
       "  text-align: center;\n",
       "}\n",
       "\n",
       ".xr-section-summary-in:disabled + label:before {\n",
       "  color: var(--xr-disabled-color);\n",
       "}\n",
       "\n",
       ".xr-section-summary-in:checked + label:before {\n",
       "  content: '▼';\n",
       "}\n",
       "\n",
       ".xr-section-summary-in:checked + label > span {\n",
       "  display: none;\n",
       "}\n",
       "\n",
       ".xr-section-summary,\n",
       ".xr-section-inline-details {\n",
       "  padding-top: 4px;\n",
       "  padding-bottom: 4px;\n",
       "}\n",
       "\n",
       ".xr-section-inline-details {\n",
       "  grid-column: 2 / -1;\n",
       "}\n",
       "\n",
       ".xr-section-details {\n",
       "  display: none;\n",
       "  grid-column: 1 / -1;\n",
       "  margin-bottom: 5px;\n",
       "}\n",
       "\n",
       ".xr-section-summary-in:checked ~ .xr-section-details {\n",
       "  display: contents;\n",
       "}\n",
       "\n",
       ".xr-array-wrap {\n",
       "  grid-column: 1 / -1;\n",
       "  display: grid;\n",
       "  grid-template-columns: 20px auto;\n",
       "}\n",
       "\n",
       ".xr-array-wrap > label {\n",
       "  grid-column: 1;\n",
       "  vertical-align: top;\n",
       "}\n",
       "\n",
       ".xr-preview {\n",
       "  color: var(--xr-font-color3);\n",
       "}\n",
       "\n",
       ".xr-array-preview,\n",
       ".xr-array-data {\n",
       "  padding: 0 5px !important;\n",
       "  grid-column: 2;\n",
       "}\n",
       "\n",
       ".xr-array-data,\n",
       ".xr-array-in:checked ~ .xr-array-preview {\n",
       "  display: none;\n",
       "}\n",
       "\n",
       ".xr-array-in:checked ~ .xr-array-data,\n",
       ".xr-array-preview {\n",
       "  display: inline-block;\n",
       "}\n",
       "\n",
       ".xr-dim-list {\n",
       "  display: inline-block !important;\n",
       "  list-style: none;\n",
       "  padding: 0 !important;\n",
       "  margin: 0;\n",
       "}\n",
       "\n",
       ".xr-dim-list li {\n",
       "  display: inline-block;\n",
       "  padding: 0;\n",
       "  margin: 0;\n",
       "}\n",
       "\n",
       ".xr-dim-list:before {\n",
       "  content: '(';\n",
       "}\n",
       "\n",
       ".xr-dim-list:after {\n",
       "  content: ')';\n",
       "}\n",
       "\n",
       ".xr-dim-list li:not(:last-child):after {\n",
       "  content: ',';\n",
       "  padding-right: 5px;\n",
       "}\n",
       "\n",
       ".xr-has-index {\n",
       "  font-weight: bold;\n",
       "}\n",
       "\n",
       ".xr-var-list,\n",
       ".xr-var-item {\n",
       "  display: contents;\n",
       "}\n",
       "\n",
       ".xr-var-item > div,\n",
       ".xr-var-item label,\n",
       ".xr-var-item > .xr-var-name span {\n",
       "  background-color: var(--xr-background-color-row-even);\n",
       "  margin-bottom: 0;\n",
       "}\n",
       "\n",
       ".xr-var-item > .xr-var-name:hover span {\n",
       "  padding-right: 5px;\n",
       "}\n",
       "\n",
       ".xr-var-list > li:nth-child(odd) > div,\n",
       ".xr-var-list > li:nth-child(odd) > label,\n",
       ".xr-var-list > li:nth-child(odd) > .xr-var-name span {\n",
       "  background-color: var(--xr-background-color-row-odd);\n",
       "}\n",
       "\n",
       ".xr-var-name {\n",
       "  grid-column: 1;\n",
       "}\n",
       "\n",
       ".xr-var-dims {\n",
       "  grid-column: 2;\n",
       "}\n",
       "\n",
       ".xr-var-dtype {\n",
       "  grid-column: 3;\n",
       "  text-align: right;\n",
       "  color: var(--xr-font-color2);\n",
       "}\n",
       "\n",
       ".xr-var-preview {\n",
       "  grid-column: 4;\n",
       "}\n",
       "\n",
       ".xr-index-preview {\n",
       "  grid-column: 2 / 5;\n",
       "  color: var(--xr-font-color2);\n",
       "}\n",
       "\n",
       ".xr-var-name,\n",
       ".xr-var-dims,\n",
       ".xr-var-dtype,\n",
       ".xr-preview,\n",
       ".xr-attrs dt {\n",
       "  white-space: nowrap;\n",
       "  overflow: hidden;\n",
       "  text-overflow: ellipsis;\n",
       "  padding-right: 10px;\n",
       "}\n",
       "\n",
       ".xr-var-name:hover,\n",
       ".xr-var-dims:hover,\n",
       ".xr-var-dtype:hover,\n",
       ".xr-attrs dt:hover {\n",
       "  overflow: visible;\n",
       "  width: auto;\n",
       "  z-index: 1;\n",
       "}\n",
       "\n",
       ".xr-var-attrs,\n",
       ".xr-var-data,\n",
       ".xr-index-data {\n",
       "  display: none;\n",
       "  background-color: var(--xr-background-color) !important;\n",
       "  padding-bottom: 5px !important;\n",
       "}\n",
       "\n",
       ".xr-var-attrs-in:checked ~ .xr-var-attrs,\n",
       ".xr-var-data-in:checked ~ .xr-var-data,\n",
       ".xr-index-data-in:checked ~ .xr-index-data {\n",
       "  display: block;\n",
       "}\n",
       "\n",
       ".xr-var-data > table {\n",
       "  float: right;\n",
       "}\n",
       "\n",
       ".xr-var-name span,\n",
       ".xr-var-data,\n",
       ".xr-index-name div,\n",
       ".xr-index-data,\n",
       ".xr-attrs {\n",
       "  padding-left: 25px !important;\n",
       "}\n",
       "\n",
       ".xr-attrs,\n",
       ".xr-var-attrs,\n",
       ".xr-var-data,\n",
       ".xr-index-data {\n",
       "  grid-column: 1 / -1;\n",
       "}\n",
       "\n",
       "dl.xr-attrs {\n",
       "  padding: 0;\n",
       "  margin: 0;\n",
       "  display: grid;\n",
       "  grid-template-columns: 125px auto;\n",
       "}\n",
       "\n",
       ".xr-attrs dt,\n",
       ".xr-attrs dd {\n",
       "  padding: 0;\n",
       "  margin: 0;\n",
       "  float: left;\n",
       "  padding-right: 10px;\n",
       "  width: auto;\n",
       "}\n",
       "\n",
       ".xr-attrs dt {\n",
       "  font-weight: normal;\n",
       "  grid-column: 1;\n",
       "}\n",
       "\n",
       ".xr-attrs dt:hover span {\n",
       "  display: inline-block;\n",
       "  background: var(--xr-background-color);\n",
       "  padding-right: 10px;\n",
       "}\n",
       "\n",
       ".xr-attrs dd {\n",
       "  grid-column: 2;\n",
       "  white-space: pre-wrap;\n",
       "  word-break: break-all;\n",
       "}\n",
       "\n",
       ".xr-icon-database,\n",
       ".xr-icon-file-text2,\n",
       ".xr-no-icon {\n",
       "  display: inline-block;\n",
       "  vertical-align: middle;\n",
       "  width: 1em;\n",
       "  height: 1.5em !important;\n",
       "  stroke-width: 0;\n",
       "  stroke: currentColor;\n",
       "  fill: currentColor;\n",
       "}\n",
       "</style><pre class='xr-text-repr-fallback'>&lt;xarray.Dataset&gt;\n",
       "Dimensions:    (longitude: 52, latitude: 42, time: 8760)\n",
       "Coordinates:\n",
       "  * longitude  (longitude) float32 4.22 4.47 4.72 4.97 ... 16.47 16.72 16.97\n",
       "  * latitude   (latitude) float32 56.32 56.07 55.82 55.57 ... 46.57 46.32 46.07\n",
       "  * time       (time) datetime64[ns] 2022-01-01 ... 2022-12-31T23:00:00\n",
       "Data variables:\n",
       "    u100       (time, latitude, longitude) float32 ...\n",
       "    v100       (time, latitude, longitude) float32 ...\n",
       "    u10        (time, latitude, longitude) float32 ...\n",
       "    v10        (time, latitude, longitude) float32 ...\n",
       "Attributes:\n",
       "    Conventions:  CF-1.6\n",
       "    history:      2023-08-27 18:02:49 GMT by grib_to_netcdf-2.25.1: /opt/ecmw...</pre><div class='xr-wrap' style='display:none'><div class='xr-header'><div class='xr-obj-type'>xarray.Dataset</div></div><ul class='xr-sections'><li class='xr-section-item'><input id='section-25675fbc-7e6e-4458-b3e6-0793f0ca18ef' class='xr-section-summary-in' type='checkbox' disabled ><label for='section-25675fbc-7e6e-4458-b3e6-0793f0ca18ef' class='xr-section-summary'  title='Expand/collapse section'>Dimensions:</label><div class='xr-section-inline-details'><ul class='xr-dim-list'><li><span class='xr-has-index'>longitude</span>: 52</li><li><span class='xr-has-index'>latitude</span>: 42</li><li><span class='xr-has-index'>time</span>: 8760</li></ul></div><div class='xr-section-details'></div></li><li class='xr-section-item'><input id='section-58205e62-28af-4a06-9dfa-93e974dc6672' class='xr-section-summary-in' type='checkbox'  checked><label for='section-58205e62-28af-4a06-9dfa-93e974dc6672' class='xr-section-summary' >Coordinates: <span>(3)</span></label><div class='xr-section-inline-details'></div><div class='xr-section-details'><ul class='xr-var-list'><li class='xr-var-item'><div class='xr-var-name'><span class='xr-has-index'>longitude</span></div><div class='xr-var-dims'>(longitude)</div><div class='xr-var-dtype'>float32</div><div class='xr-var-preview xr-preview'>4.22 4.47 4.72 ... 16.72 16.97</div><input id='attrs-5db1d4ae-7613-458e-8359-4b34b190b3d5' class='xr-var-attrs-in' type='checkbox' ><label for='attrs-5db1d4ae-7613-458e-8359-4b34b190b3d5' title='Show/Hide attributes'><svg class='icon xr-icon-file-text2'><use xlink:href='#icon-file-text2'></use></svg></label><input id='data-dcc64bef-3a03-4a0a-b867-89c87bb5fe84' class='xr-var-data-in' type='checkbox'><label for='data-dcc64bef-3a03-4a0a-b867-89c87bb5fe84' title='Show/Hide data repr'><svg class='icon xr-icon-database'><use xlink:href='#icon-database'></use></svg></label><div class='xr-var-attrs'><dl class='xr-attrs'><dt><span>units :</span></dt><dd>degrees_east</dd><dt><span>long_name :</span></dt><dd>longitude</dd></dl></div><div class='xr-var-data'><pre>array([ 4.22,  4.47,  4.72,  4.97,  5.22,  5.47,  5.72,  5.97,  6.22,  6.47,\n",
       "        6.72,  6.97,  7.22,  7.47,  7.72,  7.97,  8.22,  8.47,  8.72,  8.97,\n",
       "        9.22,  9.47,  9.72,  9.97, 10.22, 10.47, 10.72, 10.97, 11.22, 11.47,\n",
       "       11.72, 11.97, 12.22, 12.47, 12.72, 12.97, 13.22, 13.47, 13.72, 13.97,\n",
       "       14.22, 14.47, 14.72, 14.97, 15.22, 15.47, 15.72, 15.97, 16.22, 16.47,\n",
       "       16.72, 16.97], dtype=float32)</pre></div></li><li class='xr-var-item'><div class='xr-var-name'><span class='xr-has-index'>latitude</span></div><div class='xr-var-dims'>(latitude)</div><div class='xr-var-dtype'>float32</div><div class='xr-var-preview xr-preview'>56.32 56.07 55.82 ... 46.32 46.07</div><input id='attrs-862d5ab7-7f20-4e42-9355-bf149707c279' class='xr-var-attrs-in' type='checkbox' ><label for='attrs-862d5ab7-7f20-4e42-9355-bf149707c279' title='Show/Hide attributes'><svg class='icon xr-icon-file-text2'><use xlink:href='#icon-file-text2'></use></svg></label><input id='data-713c4537-e4b7-44cd-adf6-9095b5722a9e' class='xr-var-data-in' type='checkbox'><label for='data-713c4537-e4b7-44cd-adf6-9095b5722a9e' title='Show/Hide data repr'><svg class='icon xr-icon-database'><use xlink:href='#icon-database'></use></svg></label><div class='xr-var-attrs'><dl class='xr-attrs'><dt><span>units :</span></dt><dd>degrees_north</dd><dt><span>long_name :</span></dt><dd>latitude</dd></dl></div><div class='xr-var-data'><pre>array([56.32, 56.07, 55.82, 55.57, 55.32, 55.07, 54.82, 54.57, 54.32, 54.07,\n",
       "       53.82, 53.57, 53.32, 53.07, 52.82, 52.57, 52.32, 52.07, 51.82, 51.57,\n",
       "       51.32, 51.07, 50.82, 50.57, 50.32, 50.07, 49.82, 49.57, 49.32, 49.07,\n",
       "       48.82, 48.57, 48.32, 48.07, 47.82, 47.57, 47.32, 47.07, 46.82, 46.57,\n",
       "       46.32, 46.07], dtype=float32)</pre></div></li><li class='xr-var-item'><div class='xr-var-name'><span class='xr-has-index'>time</span></div><div class='xr-var-dims'>(time)</div><div class='xr-var-dtype'>datetime64[ns]</div><div class='xr-var-preview xr-preview'>2022-01-01 ... 2022-12-31T23:00:00</div><input id='attrs-c02e7622-b7af-4f78-afc1-7ea9005855dc' class='xr-var-attrs-in' type='checkbox' ><label for='attrs-c02e7622-b7af-4f78-afc1-7ea9005855dc' title='Show/Hide attributes'><svg class='icon xr-icon-file-text2'><use xlink:href='#icon-file-text2'></use></svg></label><input id='data-aa8a66d6-635f-4767-94cf-e01f7841c6cf' class='xr-var-data-in' type='checkbox'><label for='data-aa8a66d6-635f-4767-94cf-e01f7841c6cf' title='Show/Hide data repr'><svg class='icon xr-icon-database'><use xlink:href='#icon-database'></use></svg></label><div class='xr-var-attrs'><dl class='xr-attrs'><dt><span>long_name :</span></dt><dd>time</dd></dl></div><div class='xr-var-data'><pre>array([&#x27;2022-01-01T00:00:00.000000000&#x27;, &#x27;2022-01-01T01:00:00.000000000&#x27;,\n",
       "       &#x27;2022-01-01T02:00:00.000000000&#x27;, ..., &#x27;2022-12-31T21:00:00.000000000&#x27;,\n",
       "       &#x27;2022-12-31T22:00:00.000000000&#x27;, &#x27;2022-12-31T23:00:00.000000000&#x27;],\n",
       "      dtype=&#x27;datetime64[ns]&#x27;)</pre></div></li></ul></div></li><li class='xr-section-item'><input id='section-61b6b5fd-80e9-4e37-84b6-7037be4cf2ed' class='xr-section-summary-in' type='checkbox'  checked><label for='section-61b6b5fd-80e9-4e37-84b6-7037be4cf2ed' class='xr-section-summary' >Data variables: <span>(4)</span></label><div class='xr-section-inline-details'></div><div class='xr-section-details'><ul class='xr-var-list'><li class='xr-var-item'><div class='xr-var-name'><span>u100</span></div><div class='xr-var-dims'>(time, latitude, longitude)</div><div class='xr-var-dtype'>float32</div><div class='xr-var-preview xr-preview'>...</div><input id='attrs-42be25c4-b7b0-4c93-8a78-1a82564f8d42' class='xr-var-attrs-in' type='checkbox' ><label for='attrs-42be25c4-b7b0-4c93-8a78-1a82564f8d42' title='Show/Hide attributes'><svg class='icon xr-icon-file-text2'><use xlink:href='#icon-file-text2'></use></svg></label><input id='data-1feb2fec-77da-47e6-9916-5edb4236b386' class='xr-var-data-in' type='checkbox'><label for='data-1feb2fec-77da-47e6-9916-5edb4236b386' title='Show/Hide data repr'><svg class='icon xr-icon-database'><use xlink:href='#icon-database'></use></svg></label><div class='xr-var-attrs'><dl class='xr-attrs'><dt><span>units :</span></dt><dd>m s**-1</dd><dt><span>long_name :</span></dt><dd>100 metre U wind component</dd></dl></div><div class='xr-var-data'><pre>[19131840 values with dtype=float32]</pre></div></li><li class='xr-var-item'><div class='xr-var-name'><span>v100</span></div><div class='xr-var-dims'>(time, latitude, longitude)</div><div class='xr-var-dtype'>float32</div><div class='xr-var-preview xr-preview'>...</div><input id='attrs-b9e7e9a7-8907-4f26-bd3a-4474cc0cf601' class='xr-var-attrs-in' type='checkbox' ><label for='attrs-b9e7e9a7-8907-4f26-bd3a-4474cc0cf601' title='Show/Hide attributes'><svg class='icon xr-icon-file-text2'><use xlink:href='#icon-file-text2'></use></svg></label><input id='data-8f336730-9cbf-4ce1-99e5-dd0c01705f24' class='xr-var-data-in' type='checkbox'><label for='data-8f336730-9cbf-4ce1-99e5-dd0c01705f24' title='Show/Hide data repr'><svg class='icon xr-icon-database'><use xlink:href='#icon-database'></use></svg></label><div class='xr-var-attrs'><dl class='xr-attrs'><dt><span>units :</span></dt><dd>m s**-1</dd><dt><span>long_name :</span></dt><dd>100 metre V wind component</dd></dl></div><div class='xr-var-data'><pre>[19131840 values with dtype=float32]</pre></div></li><li class='xr-var-item'><div class='xr-var-name'><span>u10</span></div><div class='xr-var-dims'>(time, latitude, longitude)</div><div class='xr-var-dtype'>float32</div><div class='xr-var-preview xr-preview'>...</div><input id='attrs-ce25fca9-4279-4950-89e2-9e4c275a016a' class='xr-var-attrs-in' type='checkbox' ><label for='attrs-ce25fca9-4279-4950-89e2-9e4c275a016a' title='Show/Hide attributes'><svg class='icon xr-icon-file-text2'><use xlink:href='#icon-file-text2'></use></svg></label><input id='data-ed22db5d-88f3-4625-934f-9f0f4343e04d' class='xr-var-data-in' type='checkbox'><label for='data-ed22db5d-88f3-4625-934f-9f0f4343e04d' title='Show/Hide data repr'><svg class='icon xr-icon-database'><use xlink:href='#icon-database'></use></svg></label><div class='xr-var-attrs'><dl class='xr-attrs'><dt><span>units :</span></dt><dd>m s**-1</dd><dt><span>long_name :</span></dt><dd>10 metre U wind component</dd></dl></div><div class='xr-var-data'><pre>[19131840 values with dtype=float32]</pre></div></li><li class='xr-var-item'><div class='xr-var-name'><span>v10</span></div><div class='xr-var-dims'>(time, latitude, longitude)</div><div class='xr-var-dtype'>float32</div><div class='xr-var-preview xr-preview'>...</div><input id='attrs-43dd3656-0a6f-4d2d-929b-097d034436e0' class='xr-var-attrs-in' type='checkbox' ><label for='attrs-43dd3656-0a6f-4d2d-929b-097d034436e0' title='Show/Hide attributes'><svg class='icon xr-icon-file-text2'><use xlink:href='#icon-file-text2'></use></svg></label><input id='data-20856d53-20c9-428b-821e-30330d93393b' class='xr-var-data-in' type='checkbox'><label for='data-20856d53-20c9-428b-821e-30330d93393b' title='Show/Hide data repr'><svg class='icon xr-icon-database'><use xlink:href='#icon-database'></use></svg></label><div class='xr-var-attrs'><dl class='xr-attrs'><dt><span>units :</span></dt><dd>m s**-1</dd><dt><span>long_name :</span></dt><dd>10 metre V wind component</dd></dl></div><div class='xr-var-data'><pre>[19131840 values with dtype=float32]</pre></div></li></ul></div></li><li class='xr-section-item'><input id='section-19d27eb6-d0c8-4a67-b0e2-c281ad9cef01' class='xr-section-summary-in' type='checkbox'  ><label for='section-19d27eb6-d0c8-4a67-b0e2-c281ad9cef01' class='xr-section-summary' >Indexes: <span>(3)</span></label><div class='xr-section-inline-details'></div><div class='xr-section-details'><ul class='xr-var-list'><li class='xr-var-item'><div class='xr-index-name'><div>longitude</div></div><div class='xr-index-preview'>PandasIndex</div><div></div><input id='index-7739c7b7-358f-4fc9-b3df-bd9a63c01c68' class='xr-index-data-in' type='checkbox'/><label for='index-7739c7b7-358f-4fc9-b3df-bd9a63c01c68' title='Show/Hide index repr'><svg class='icon xr-icon-database'><use xlink:href='#icon-database'></use></svg></label><div class='xr-index-data'><pre>PandasIndex(Index([  4.21999979019165,   4.46999979019165,   4.71999979019165,\n",
       "         4.96999979019165,   5.21999979019165,   5.46999979019165,\n",
       "         5.71999979019165,   5.96999979019165,   6.21999979019165,\n",
       "         6.46999979019165,   6.71999979019165,   6.96999979019165,\n",
       "         7.21999979019165,   7.46999979019165,   7.71999979019165,\n",
       "         7.96999979019165,  8.220000267028809,  8.470000267028809,\n",
       "        8.720000267028809,  8.970000267028809,  9.220000267028809,\n",
       "        9.470000267028809,  9.720000267028809,  9.970000267028809,\n",
       "       10.220000267028809, 10.470000267028809, 10.720000267028809,\n",
       "       10.970000267028809, 11.220000267028809, 11.470000267028809,\n",
       "       11.720000267028809, 11.970000267028809, 12.220000267028809,\n",
       "       12.470000267028809, 12.720000267028809, 12.970000267028809,\n",
       "       13.220000267028809, 13.470000267028809, 13.720000267028809,\n",
       "       13.970000267028809, 14.220000267028809, 14.470000267028809,\n",
       "       14.720000267028809, 14.970000267028809, 15.220000267028809,\n",
       "       15.470000267028809, 15.720000267028809, 15.970000267028809,\n",
       "       16.219999313354492, 16.469999313354492, 16.719999313354492,\n",
       "       16.969999313354492],\n",
       "      dtype=&#x27;float32&#x27;, name=&#x27;longitude&#x27;))</pre></div></li><li class='xr-var-item'><div class='xr-index-name'><div>latitude</div></div><div class='xr-index-preview'>PandasIndex</div><div></div><input id='index-6af1a095-fbaa-4aac-a741-da715d78f33a' class='xr-index-data-in' type='checkbox'/><label for='index-6af1a095-fbaa-4aac-a741-da715d78f33a' title='Show/Hide index repr'><svg class='icon xr-icon-database'><use xlink:href='#icon-database'></use></svg></label><div class='xr-index-data'><pre>PandasIndex(Index([56.31999969482422, 56.06999969482422, 55.81999969482422,\n",
       "       55.56999969482422, 55.31999969482422, 55.06999969482422,\n",
       "       54.81999969482422, 54.56999969482422, 54.31999969482422,\n",
       "       54.06999969482422, 53.81999969482422, 53.56999969482422,\n",
       "       53.31999969482422, 53.06999969482422, 52.81999969482422,\n",
       "       52.56999969482422, 52.31999969482422, 52.06999969482422,\n",
       "       51.81999969482422, 51.56999969482422, 51.31999969482422,\n",
       "       51.06999969482422, 50.81999969482422, 50.56999969482422,\n",
       "       50.31999969482422, 50.06999969482422, 49.81999969482422,\n",
       "       49.56999969482422, 49.31999969482422, 49.06999969482422,\n",
       "       48.81999969482422, 48.56999969482422, 48.31999969482422,\n",
       "       48.06999969482422, 47.81999969482422, 47.56999969482422,\n",
       "       47.31999969482422, 47.06999969482422, 46.81999969482422,\n",
       "       46.56999969482422, 46.31999969482422, 46.06999969482422],\n",
       "      dtype=&#x27;float32&#x27;, name=&#x27;latitude&#x27;))</pre></div></li><li class='xr-var-item'><div class='xr-index-name'><div>time</div></div><div class='xr-index-preview'>PandasIndex</div><div></div><input id='index-1d30df87-780f-4186-9778-1c247b5ead01' class='xr-index-data-in' type='checkbox'/><label for='index-1d30df87-780f-4186-9778-1c247b5ead01' title='Show/Hide index repr'><svg class='icon xr-icon-database'><use xlink:href='#icon-database'></use></svg></label><div class='xr-index-data'><pre>PandasIndex(DatetimeIndex([&#x27;2022-01-01 00:00:00&#x27;, &#x27;2022-01-01 01:00:00&#x27;,\n",
       "               &#x27;2022-01-01 02:00:00&#x27;, &#x27;2022-01-01 03:00:00&#x27;,\n",
       "               &#x27;2022-01-01 04:00:00&#x27;, &#x27;2022-01-01 05:00:00&#x27;,\n",
       "               &#x27;2022-01-01 06:00:00&#x27;, &#x27;2022-01-01 07:00:00&#x27;,\n",
       "               &#x27;2022-01-01 08:00:00&#x27;, &#x27;2022-01-01 09:00:00&#x27;,\n",
       "               ...\n",
       "               &#x27;2022-12-31 14:00:00&#x27;, &#x27;2022-12-31 15:00:00&#x27;,\n",
       "               &#x27;2022-12-31 16:00:00&#x27;, &#x27;2022-12-31 17:00:00&#x27;,\n",
       "               &#x27;2022-12-31 18:00:00&#x27;, &#x27;2022-12-31 19:00:00&#x27;,\n",
       "               &#x27;2022-12-31 20:00:00&#x27;, &#x27;2022-12-31 21:00:00&#x27;,\n",
       "               &#x27;2022-12-31 22:00:00&#x27;, &#x27;2022-12-31 23:00:00&#x27;],\n",
       "              dtype=&#x27;datetime64[ns]&#x27;, name=&#x27;time&#x27;, length=8760, freq=None))</pre></div></li></ul></div></li><li class='xr-section-item'><input id='section-9fb0cb11-d148-4932-8f88-367ae21d99c4' class='xr-section-summary-in' type='checkbox'  checked><label for='section-9fb0cb11-d148-4932-8f88-367ae21d99c4' class='xr-section-summary' >Attributes: <span>(2)</span></label><div class='xr-section-inline-details'></div><div class='xr-section-details'><dl class='xr-attrs'><dt><span>Conventions :</span></dt><dd>CF-1.6</dd><dt><span>history :</span></dt><dd>2023-08-27 18:02:49 GMT by grib_to_netcdf-2.25.1: /opt/ecmwf/mars-client/bin/grib_to_netcdf.bin -S param -o /cache/data6/adaptor.mars.internal-1693159264.857704-31102-17-b5d2bf2f-fdcd-4ae0-9805-31aef5dfb1fd.nc /cache/tmp/b5d2bf2f-fdcd-4ae0-9805-31aef5dfb1fd-adaptor.mars.internal-1693158360.3663168-31102-26-tmp.grib</dd></dl></div></li></ul></div></div>"
      ],
      "text/plain": [
       "<xarray.Dataset>\n",
       "Dimensions:    (longitude: 52, latitude: 42, time: 8760)\n",
       "Coordinates:\n",
       "  * longitude  (longitude) float32 4.22 4.47 4.72 4.97 ... 16.47 16.72 16.97\n",
       "  * latitude   (latitude) float32 56.32 56.07 55.82 55.57 ... 46.57 46.32 46.07\n",
       "  * time       (time) datetime64[ns] 2022-01-01 ... 2022-12-31T23:00:00\n",
       "Data variables:\n",
       "    u100       (time, latitude, longitude) float32 ...\n",
       "    v100       (time, latitude, longitude) float32 ...\n",
       "    u10        (time, latitude, longitude) float32 ...\n",
       "    v10        (time, latitude, longitude) float32 ...\n",
       "Attributes:\n",
       "    Conventions:  CF-1.6\n",
       "    history:      2023-08-27 18:02:49 GMT by grib_to_netcdf-2.25.1: /opt/ecmw..."
      ]
     },
     "execution_count": 25,
     "metadata": {},
     "output_type": "execute_result"
    }
   ],
   "source": [
    "ds"
   ]
  },
  {
   "cell_type": "code",
   "execution_count": 52,
   "id": "60db432b-d1f7-4737-9b2e-9eddadc002b3",
   "metadata": {
    "tags": []
   },
   "outputs": [
    {
     "data": {
      "text/html": [
       "<div><svg style=\"position: absolute; width: 0; height: 0; overflow: hidden\">\n",
       "<defs>\n",
       "<symbol id=\"icon-database\" viewBox=\"0 0 32 32\">\n",
       "<path d=\"M16 0c-8.837 0-16 2.239-16 5v4c0 2.761 7.163 5 16 5s16-2.239 16-5v-4c0-2.761-7.163-5-16-5z\"></path>\n",
       "<path d=\"M16 17c-8.837 0-16-2.239-16-5v6c0 2.761 7.163 5 16 5s16-2.239 16-5v-6c0 2.761-7.163 5-16 5z\"></path>\n",
       "<path d=\"M16 26c-8.837 0-16-2.239-16-5v6c0 2.761 7.163 5 16 5s16-2.239 16-5v-6c0 2.761-7.163 5-16 5z\"></path>\n",
       "</symbol>\n",
       "<symbol id=\"icon-file-text2\" viewBox=\"0 0 32 32\">\n",
       "<path d=\"M28.681 7.159c-0.694-0.947-1.662-2.053-2.724-3.116s-2.169-2.030-3.116-2.724c-1.612-1.182-2.393-1.319-2.841-1.319h-15.5c-1.378 0-2.5 1.121-2.5 2.5v27c0 1.378 1.122 2.5 2.5 2.5h23c1.378 0 2.5-1.122 2.5-2.5v-19.5c0-0.448-0.137-1.23-1.319-2.841zM24.543 5.457c0.959 0.959 1.712 1.825 2.268 2.543h-4.811v-4.811c0.718 0.556 1.584 1.309 2.543 2.268zM28 29.5c0 0.271-0.229 0.5-0.5 0.5h-23c-0.271 0-0.5-0.229-0.5-0.5v-27c0-0.271 0.229-0.5 0.5-0.5 0 0 15.499-0 15.5 0v7c0 0.552 0.448 1 1 1h7v19.5z\"></path>\n",
       "<path d=\"M23 26h-14c-0.552 0-1-0.448-1-1s0.448-1 1-1h14c0.552 0 1 0.448 1 1s-0.448 1-1 1z\"></path>\n",
       "<path d=\"M23 22h-14c-0.552 0-1-0.448-1-1s0.448-1 1-1h14c0.552 0 1 0.448 1 1s-0.448 1-1 1z\"></path>\n",
       "<path d=\"M23 18h-14c-0.552 0-1-0.448-1-1s0.448-1 1-1h14c0.552 0 1 0.448 1 1s-0.448 1-1 1z\"></path>\n",
       "</symbol>\n",
       "</defs>\n",
       "</svg>\n",
       "<style>/* CSS stylesheet for displaying xarray objects in jupyterlab.\n",
       " *\n",
       " */\n",
       "\n",
       ":root {\n",
       "  --xr-font-color0: var(--jp-content-font-color0, rgba(0, 0, 0, 1));\n",
       "  --xr-font-color2: var(--jp-content-font-color2, rgba(0, 0, 0, 0.54));\n",
       "  --xr-font-color3: var(--jp-content-font-color3, rgba(0, 0, 0, 0.38));\n",
       "  --xr-border-color: var(--jp-border-color2, #e0e0e0);\n",
       "  --xr-disabled-color: var(--jp-layout-color3, #bdbdbd);\n",
       "  --xr-background-color: var(--jp-layout-color0, white);\n",
       "  --xr-background-color-row-even: var(--jp-layout-color1, white);\n",
       "  --xr-background-color-row-odd: var(--jp-layout-color2, #eeeeee);\n",
       "}\n",
       "\n",
       "html[theme=dark],\n",
       "body[data-theme=dark],\n",
       "body.vscode-dark {\n",
       "  --xr-font-color0: rgba(255, 255, 255, 1);\n",
       "  --xr-font-color2: rgba(255, 255, 255, 0.54);\n",
       "  --xr-font-color3: rgba(255, 255, 255, 0.38);\n",
       "  --xr-border-color: #1F1F1F;\n",
       "  --xr-disabled-color: #515151;\n",
       "  --xr-background-color: #111111;\n",
       "  --xr-background-color-row-even: #111111;\n",
       "  --xr-background-color-row-odd: #313131;\n",
       "}\n",
       "\n",
       ".xr-wrap {\n",
       "  display: block !important;\n",
       "  min-width: 300px;\n",
       "  max-width: 700px;\n",
       "}\n",
       "\n",
       ".xr-text-repr-fallback {\n",
       "  /* fallback to plain text repr when CSS is not injected (untrusted notebook) */\n",
       "  display: none;\n",
       "}\n",
       "\n",
       ".xr-header {\n",
       "  padding-top: 6px;\n",
       "  padding-bottom: 6px;\n",
       "  margin-bottom: 4px;\n",
       "  border-bottom: solid 1px var(--xr-border-color);\n",
       "}\n",
       "\n",
       ".xr-header > div,\n",
       ".xr-header > ul {\n",
       "  display: inline;\n",
       "  margin-top: 0;\n",
       "  margin-bottom: 0;\n",
       "}\n",
       "\n",
       ".xr-obj-type,\n",
       ".xr-array-name {\n",
       "  margin-left: 2px;\n",
       "  margin-right: 10px;\n",
       "}\n",
       "\n",
       ".xr-obj-type {\n",
       "  color: var(--xr-font-color2);\n",
       "}\n",
       "\n",
       ".xr-sections {\n",
       "  padding-left: 0 !important;\n",
       "  display: grid;\n",
       "  grid-template-columns: 150px auto auto 1fr 20px 20px;\n",
       "}\n",
       "\n",
       ".xr-section-item {\n",
       "  display: contents;\n",
       "}\n",
       "\n",
       ".xr-section-item input {\n",
       "  display: none;\n",
       "}\n",
       "\n",
       ".xr-section-item input + label {\n",
       "  color: var(--xr-disabled-color);\n",
       "}\n",
       "\n",
       ".xr-section-item input:enabled + label {\n",
       "  cursor: pointer;\n",
       "  color: var(--xr-font-color2);\n",
       "}\n",
       "\n",
       ".xr-section-item input:enabled + label:hover {\n",
       "  color: var(--xr-font-color0);\n",
       "}\n",
       "\n",
       ".xr-section-summary {\n",
       "  grid-column: 1;\n",
       "  color: var(--xr-font-color2);\n",
       "  font-weight: 500;\n",
       "}\n",
       "\n",
       ".xr-section-summary > span {\n",
       "  display: inline-block;\n",
       "  padding-left: 0.5em;\n",
       "}\n",
       "\n",
       ".xr-section-summary-in:disabled + label {\n",
       "  color: var(--xr-font-color2);\n",
       "}\n",
       "\n",
       ".xr-section-summary-in + label:before {\n",
       "  display: inline-block;\n",
       "  content: '►';\n",
       "  font-size: 11px;\n",
       "  width: 15px;\n",
       "  text-align: center;\n",
       "}\n",
       "\n",
       ".xr-section-summary-in:disabled + label:before {\n",
       "  color: var(--xr-disabled-color);\n",
       "}\n",
       "\n",
       ".xr-section-summary-in:checked + label:before {\n",
       "  content: '▼';\n",
       "}\n",
       "\n",
       ".xr-section-summary-in:checked + label > span {\n",
       "  display: none;\n",
       "}\n",
       "\n",
       ".xr-section-summary,\n",
       ".xr-section-inline-details {\n",
       "  padding-top: 4px;\n",
       "  padding-bottom: 4px;\n",
       "}\n",
       "\n",
       ".xr-section-inline-details {\n",
       "  grid-column: 2 / -1;\n",
       "}\n",
       "\n",
       ".xr-section-details {\n",
       "  display: none;\n",
       "  grid-column: 1 / -1;\n",
       "  margin-bottom: 5px;\n",
       "}\n",
       "\n",
       ".xr-section-summary-in:checked ~ .xr-section-details {\n",
       "  display: contents;\n",
       "}\n",
       "\n",
       ".xr-array-wrap {\n",
       "  grid-column: 1 / -1;\n",
       "  display: grid;\n",
       "  grid-template-columns: 20px auto;\n",
       "}\n",
       "\n",
       ".xr-array-wrap > label {\n",
       "  grid-column: 1;\n",
       "  vertical-align: top;\n",
       "}\n",
       "\n",
       ".xr-preview {\n",
       "  color: var(--xr-font-color3);\n",
       "}\n",
       "\n",
       ".xr-array-preview,\n",
       ".xr-array-data {\n",
       "  padding: 0 5px !important;\n",
       "  grid-column: 2;\n",
       "}\n",
       "\n",
       ".xr-array-data,\n",
       ".xr-array-in:checked ~ .xr-array-preview {\n",
       "  display: none;\n",
       "}\n",
       "\n",
       ".xr-array-in:checked ~ .xr-array-data,\n",
       ".xr-array-preview {\n",
       "  display: inline-block;\n",
       "}\n",
       "\n",
       ".xr-dim-list {\n",
       "  display: inline-block !important;\n",
       "  list-style: none;\n",
       "  padding: 0 !important;\n",
       "  margin: 0;\n",
       "}\n",
       "\n",
       ".xr-dim-list li {\n",
       "  display: inline-block;\n",
       "  padding: 0;\n",
       "  margin: 0;\n",
       "}\n",
       "\n",
       ".xr-dim-list:before {\n",
       "  content: '(';\n",
       "}\n",
       "\n",
       ".xr-dim-list:after {\n",
       "  content: ')';\n",
       "}\n",
       "\n",
       ".xr-dim-list li:not(:last-child):after {\n",
       "  content: ',';\n",
       "  padding-right: 5px;\n",
       "}\n",
       "\n",
       ".xr-has-index {\n",
       "  font-weight: bold;\n",
       "}\n",
       "\n",
       ".xr-var-list,\n",
       ".xr-var-item {\n",
       "  display: contents;\n",
       "}\n",
       "\n",
       ".xr-var-item > div,\n",
       ".xr-var-item label,\n",
       ".xr-var-item > .xr-var-name span {\n",
       "  background-color: var(--xr-background-color-row-even);\n",
       "  margin-bottom: 0;\n",
       "}\n",
       "\n",
       ".xr-var-item > .xr-var-name:hover span {\n",
       "  padding-right: 5px;\n",
       "}\n",
       "\n",
       ".xr-var-list > li:nth-child(odd) > div,\n",
       ".xr-var-list > li:nth-child(odd) > label,\n",
       ".xr-var-list > li:nth-child(odd) > .xr-var-name span {\n",
       "  background-color: var(--xr-background-color-row-odd);\n",
       "}\n",
       "\n",
       ".xr-var-name {\n",
       "  grid-column: 1;\n",
       "}\n",
       "\n",
       ".xr-var-dims {\n",
       "  grid-column: 2;\n",
       "}\n",
       "\n",
       ".xr-var-dtype {\n",
       "  grid-column: 3;\n",
       "  text-align: right;\n",
       "  color: var(--xr-font-color2);\n",
       "}\n",
       "\n",
       ".xr-var-preview {\n",
       "  grid-column: 4;\n",
       "}\n",
       "\n",
       ".xr-index-preview {\n",
       "  grid-column: 2 / 5;\n",
       "  color: var(--xr-font-color2);\n",
       "}\n",
       "\n",
       ".xr-var-name,\n",
       ".xr-var-dims,\n",
       ".xr-var-dtype,\n",
       ".xr-preview,\n",
       ".xr-attrs dt {\n",
       "  white-space: nowrap;\n",
       "  overflow: hidden;\n",
       "  text-overflow: ellipsis;\n",
       "  padding-right: 10px;\n",
       "}\n",
       "\n",
       ".xr-var-name:hover,\n",
       ".xr-var-dims:hover,\n",
       ".xr-var-dtype:hover,\n",
       ".xr-attrs dt:hover {\n",
       "  overflow: visible;\n",
       "  width: auto;\n",
       "  z-index: 1;\n",
       "}\n",
       "\n",
       ".xr-var-attrs,\n",
       ".xr-var-data,\n",
       ".xr-index-data {\n",
       "  display: none;\n",
       "  background-color: var(--xr-background-color) !important;\n",
       "  padding-bottom: 5px !important;\n",
       "}\n",
       "\n",
       ".xr-var-attrs-in:checked ~ .xr-var-attrs,\n",
       ".xr-var-data-in:checked ~ .xr-var-data,\n",
       ".xr-index-data-in:checked ~ .xr-index-data {\n",
       "  display: block;\n",
       "}\n",
       "\n",
       ".xr-var-data > table {\n",
       "  float: right;\n",
       "}\n",
       "\n",
       ".xr-var-name span,\n",
       ".xr-var-data,\n",
       ".xr-index-name div,\n",
       ".xr-index-data,\n",
       ".xr-attrs {\n",
       "  padding-left: 25px !important;\n",
       "}\n",
       "\n",
       ".xr-attrs,\n",
       ".xr-var-attrs,\n",
       ".xr-var-data,\n",
       ".xr-index-data {\n",
       "  grid-column: 1 / -1;\n",
       "}\n",
       "\n",
       "dl.xr-attrs {\n",
       "  padding: 0;\n",
       "  margin: 0;\n",
       "  display: grid;\n",
       "  grid-template-columns: 125px auto;\n",
       "}\n",
       "\n",
       ".xr-attrs dt,\n",
       ".xr-attrs dd {\n",
       "  padding: 0;\n",
       "  margin: 0;\n",
       "  float: left;\n",
       "  padding-right: 10px;\n",
       "  width: auto;\n",
       "}\n",
       "\n",
       ".xr-attrs dt {\n",
       "  font-weight: normal;\n",
       "  grid-column: 1;\n",
       "}\n",
       "\n",
       ".xr-attrs dt:hover span {\n",
       "  display: inline-block;\n",
       "  background: var(--xr-background-color);\n",
       "  padding-right: 10px;\n",
       "}\n",
       "\n",
       ".xr-attrs dd {\n",
       "  grid-column: 2;\n",
       "  white-space: pre-wrap;\n",
       "  word-break: break-all;\n",
       "}\n",
       "\n",
       ".xr-icon-database,\n",
       ".xr-icon-file-text2,\n",
       ".xr-no-icon {\n",
       "  display: inline-block;\n",
       "  vertical-align: middle;\n",
       "  width: 1em;\n",
       "  height: 1.5em !important;\n",
       "  stroke-width: 0;\n",
       "  stroke: currentColor;\n",
       "  fill: currentColor;\n",
       "}\n",
       "</style><pre class='xr-text-repr-fallback'>&lt;xarray.Dataset&gt;\n",
       "Dimensions:    (longitude: 52, latitude: 42, time: 8760)\n",
       "Coordinates:\n",
       "  * longitude  (longitude) float32 4.22 4.47 4.72 4.97 ... 16.47 16.72 16.97\n",
       "  * latitude   (latitude) float32 56.32 56.07 55.82 55.57 ... 46.57 46.32 46.07\n",
       "  * time       (time) datetime64[ns] 2021-01-01 ... 2021-12-31T23:00:00\n",
       "Data variables:\n",
       "    u100       (time, latitude, longitude) float32 ...\n",
       "    v100       (time, latitude, longitude) float32 ...\n",
       "    u10        (time, latitude, longitude) float32 ...\n",
       "    v10        (time, latitude, longitude) float32 ...\n",
       "Attributes:\n",
       "    Conventions:  CF-1.6\n",
       "    history:      2023-09-03 22:44:25 GMT by grib_to_netcdf-2.25.1: /opt/ecmw...</pre><div class='xr-wrap' style='display:none'><div class='xr-header'><div class='xr-obj-type'>xarray.Dataset</div></div><ul class='xr-sections'><li class='xr-section-item'><input id='section-69c1d5e5-de41-42b7-b8d0-879992234be4' class='xr-section-summary-in' type='checkbox' disabled ><label for='section-69c1d5e5-de41-42b7-b8d0-879992234be4' class='xr-section-summary'  title='Expand/collapse section'>Dimensions:</label><div class='xr-section-inline-details'><ul class='xr-dim-list'><li><span class='xr-has-index'>longitude</span>: 52</li><li><span class='xr-has-index'>latitude</span>: 42</li><li><span class='xr-has-index'>time</span>: 8760</li></ul></div><div class='xr-section-details'></div></li><li class='xr-section-item'><input id='section-16b14f72-4a5a-42ff-b3e5-8147b5cc9967' class='xr-section-summary-in' type='checkbox'  checked><label for='section-16b14f72-4a5a-42ff-b3e5-8147b5cc9967' class='xr-section-summary' >Coordinates: <span>(3)</span></label><div class='xr-section-inline-details'></div><div class='xr-section-details'><ul class='xr-var-list'><li class='xr-var-item'><div class='xr-var-name'><span class='xr-has-index'>longitude</span></div><div class='xr-var-dims'>(longitude)</div><div class='xr-var-dtype'>float32</div><div class='xr-var-preview xr-preview'>4.22 4.47 4.72 ... 16.72 16.97</div><input id='attrs-9b7125cf-2ef9-40d4-8e04-c013c29b310b' class='xr-var-attrs-in' type='checkbox' ><label for='attrs-9b7125cf-2ef9-40d4-8e04-c013c29b310b' title='Show/Hide attributes'><svg class='icon xr-icon-file-text2'><use xlink:href='#icon-file-text2'></use></svg></label><input id='data-9e7e4adb-332b-4954-83cc-61f138bfcba9' class='xr-var-data-in' type='checkbox'><label for='data-9e7e4adb-332b-4954-83cc-61f138bfcba9' title='Show/Hide data repr'><svg class='icon xr-icon-database'><use xlink:href='#icon-database'></use></svg></label><div class='xr-var-attrs'><dl class='xr-attrs'><dt><span>units :</span></dt><dd>degrees_east</dd><dt><span>long_name :</span></dt><dd>longitude</dd></dl></div><div class='xr-var-data'><pre>array([ 4.22,  4.47,  4.72,  4.97,  5.22,  5.47,  5.72,  5.97,  6.22,  6.47,\n",
       "        6.72,  6.97,  7.22,  7.47,  7.72,  7.97,  8.22,  8.47,  8.72,  8.97,\n",
       "        9.22,  9.47,  9.72,  9.97, 10.22, 10.47, 10.72, 10.97, 11.22, 11.47,\n",
       "       11.72, 11.97, 12.22, 12.47, 12.72, 12.97, 13.22, 13.47, 13.72, 13.97,\n",
       "       14.22, 14.47, 14.72, 14.97, 15.22, 15.47, 15.72, 15.97, 16.22, 16.47,\n",
       "       16.72, 16.97], dtype=float32)</pre></div></li><li class='xr-var-item'><div class='xr-var-name'><span class='xr-has-index'>latitude</span></div><div class='xr-var-dims'>(latitude)</div><div class='xr-var-dtype'>float32</div><div class='xr-var-preview xr-preview'>56.32 56.07 55.82 ... 46.32 46.07</div><input id='attrs-1fe81314-95ff-4a54-8566-34c5a1ed5a61' class='xr-var-attrs-in' type='checkbox' ><label for='attrs-1fe81314-95ff-4a54-8566-34c5a1ed5a61' title='Show/Hide attributes'><svg class='icon xr-icon-file-text2'><use xlink:href='#icon-file-text2'></use></svg></label><input id='data-d35718ed-1d45-467f-ba32-f3f1c67b0200' class='xr-var-data-in' type='checkbox'><label for='data-d35718ed-1d45-467f-ba32-f3f1c67b0200' title='Show/Hide data repr'><svg class='icon xr-icon-database'><use xlink:href='#icon-database'></use></svg></label><div class='xr-var-attrs'><dl class='xr-attrs'><dt><span>units :</span></dt><dd>degrees_north</dd><dt><span>long_name :</span></dt><dd>latitude</dd></dl></div><div class='xr-var-data'><pre>array([56.32, 56.07, 55.82, 55.57, 55.32, 55.07, 54.82, 54.57, 54.32, 54.07,\n",
       "       53.82, 53.57, 53.32, 53.07, 52.82, 52.57, 52.32, 52.07, 51.82, 51.57,\n",
       "       51.32, 51.07, 50.82, 50.57, 50.32, 50.07, 49.82, 49.57, 49.32, 49.07,\n",
       "       48.82, 48.57, 48.32, 48.07, 47.82, 47.57, 47.32, 47.07, 46.82, 46.57,\n",
       "       46.32, 46.07], dtype=float32)</pre></div></li><li class='xr-var-item'><div class='xr-var-name'><span class='xr-has-index'>time</span></div><div class='xr-var-dims'>(time)</div><div class='xr-var-dtype'>datetime64[ns]</div><div class='xr-var-preview xr-preview'>2021-01-01 ... 2021-12-31T23:00:00</div><input id='attrs-ece12ea8-40e6-4a6f-9fcf-55979bf95504' class='xr-var-attrs-in' type='checkbox' ><label for='attrs-ece12ea8-40e6-4a6f-9fcf-55979bf95504' title='Show/Hide attributes'><svg class='icon xr-icon-file-text2'><use xlink:href='#icon-file-text2'></use></svg></label><input id='data-8c4ce29b-e3fd-4aee-9c98-601da144b6ee' class='xr-var-data-in' type='checkbox'><label for='data-8c4ce29b-e3fd-4aee-9c98-601da144b6ee' title='Show/Hide data repr'><svg class='icon xr-icon-database'><use xlink:href='#icon-database'></use></svg></label><div class='xr-var-attrs'><dl class='xr-attrs'><dt><span>long_name :</span></dt><dd>time</dd></dl></div><div class='xr-var-data'><pre>array([&#x27;2021-01-01T00:00:00.000000000&#x27;, &#x27;2021-01-01T01:00:00.000000000&#x27;,\n",
       "       &#x27;2021-01-01T02:00:00.000000000&#x27;, ..., &#x27;2021-12-31T21:00:00.000000000&#x27;,\n",
       "       &#x27;2021-12-31T22:00:00.000000000&#x27;, &#x27;2021-12-31T23:00:00.000000000&#x27;],\n",
       "      dtype=&#x27;datetime64[ns]&#x27;)</pre></div></li></ul></div></li><li class='xr-section-item'><input id='section-6b172d77-eda4-414c-b9ad-35b68be33ef3' class='xr-section-summary-in' type='checkbox'  checked><label for='section-6b172d77-eda4-414c-b9ad-35b68be33ef3' class='xr-section-summary' >Data variables: <span>(4)</span></label><div class='xr-section-inline-details'></div><div class='xr-section-details'><ul class='xr-var-list'><li class='xr-var-item'><div class='xr-var-name'><span>u100</span></div><div class='xr-var-dims'>(time, latitude, longitude)</div><div class='xr-var-dtype'>float32</div><div class='xr-var-preview xr-preview'>...</div><input id='attrs-0eede16e-76c7-400a-9cab-469cbf4ff01b' class='xr-var-attrs-in' type='checkbox' ><label for='attrs-0eede16e-76c7-400a-9cab-469cbf4ff01b' title='Show/Hide attributes'><svg class='icon xr-icon-file-text2'><use xlink:href='#icon-file-text2'></use></svg></label><input id='data-5dd052e3-06bc-4e67-b000-6053d868f0ef' class='xr-var-data-in' type='checkbox'><label for='data-5dd052e3-06bc-4e67-b000-6053d868f0ef' title='Show/Hide data repr'><svg class='icon xr-icon-database'><use xlink:href='#icon-database'></use></svg></label><div class='xr-var-attrs'><dl class='xr-attrs'><dt><span>units :</span></dt><dd>m s**-1</dd><dt><span>long_name :</span></dt><dd>100 metre U wind component</dd></dl></div><div class='xr-var-data'><pre>[19131840 values with dtype=float32]</pre></div></li><li class='xr-var-item'><div class='xr-var-name'><span>v100</span></div><div class='xr-var-dims'>(time, latitude, longitude)</div><div class='xr-var-dtype'>float32</div><div class='xr-var-preview xr-preview'>...</div><input id='attrs-10064ae6-2ace-48a7-a2d2-51d86c83ddd3' class='xr-var-attrs-in' type='checkbox' ><label for='attrs-10064ae6-2ace-48a7-a2d2-51d86c83ddd3' title='Show/Hide attributes'><svg class='icon xr-icon-file-text2'><use xlink:href='#icon-file-text2'></use></svg></label><input id='data-8b8c0e79-95d9-4f63-88e9-f8e0f2eba8dc' class='xr-var-data-in' type='checkbox'><label for='data-8b8c0e79-95d9-4f63-88e9-f8e0f2eba8dc' title='Show/Hide data repr'><svg class='icon xr-icon-database'><use xlink:href='#icon-database'></use></svg></label><div class='xr-var-attrs'><dl class='xr-attrs'><dt><span>units :</span></dt><dd>m s**-1</dd><dt><span>long_name :</span></dt><dd>100 metre V wind component</dd></dl></div><div class='xr-var-data'><pre>[19131840 values with dtype=float32]</pre></div></li><li class='xr-var-item'><div class='xr-var-name'><span>u10</span></div><div class='xr-var-dims'>(time, latitude, longitude)</div><div class='xr-var-dtype'>float32</div><div class='xr-var-preview xr-preview'>...</div><input id='attrs-df776895-f52f-42bc-b940-cb7ee3795986' class='xr-var-attrs-in' type='checkbox' ><label for='attrs-df776895-f52f-42bc-b940-cb7ee3795986' title='Show/Hide attributes'><svg class='icon xr-icon-file-text2'><use xlink:href='#icon-file-text2'></use></svg></label><input id='data-d3166f7a-1c2c-46ba-9a72-2f0e8efa68f6' class='xr-var-data-in' type='checkbox'><label for='data-d3166f7a-1c2c-46ba-9a72-2f0e8efa68f6' title='Show/Hide data repr'><svg class='icon xr-icon-database'><use xlink:href='#icon-database'></use></svg></label><div class='xr-var-attrs'><dl class='xr-attrs'><dt><span>units :</span></dt><dd>m s**-1</dd><dt><span>long_name :</span></dt><dd>10 metre U wind component</dd></dl></div><div class='xr-var-data'><pre>[19131840 values with dtype=float32]</pre></div></li><li class='xr-var-item'><div class='xr-var-name'><span>v10</span></div><div class='xr-var-dims'>(time, latitude, longitude)</div><div class='xr-var-dtype'>float32</div><div class='xr-var-preview xr-preview'>...</div><input id='attrs-bdb12822-de0d-4c92-b546-679f2f37d588' class='xr-var-attrs-in' type='checkbox' ><label for='attrs-bdb12822-de0d-4c92-b546-679f2f37d588' title='Show/Hide attributes'><svg class='icon xr-icon-file-text2'><use xlink:href='#icon-file-text2'></use></svg></label><input id='data-600ed2ca-10e7-432b-8c09-6582bde89d2c' class='xr-var-data-in' type='checkbox'><label for='data-600ed2ca-10e7-432b-8c09-6582bde89d2c' title='Show/Hide data repr'><svg class='icon xr-icon-database'><use xlink:href='#icon-database'></use></svg></label><div class='xr-var-attrs'><dl class='xr-attrs'><dt><span>units :</span></dt><dd>m s**-1</dd><dt><span>long_name :</span></dt><dd>10 metre V wind component</dd></dl></div><div class='xr-var-data'><pre>[19131840 values with dtype=float32]</pre></div></li></ul></div></li><li class='xr-section-item'><input id='section-9c608b22-8005-4afa-bc07-ca8a7cd31499' class='xr-section-summary-in' type='checkbox'  ><label for='section-9c608b22-8005-4afa-bc07-ca8a7cd31499' class='xr-section-summary' >Indexes: <span>(3)</span></label><div class='xr-section-inline-details'></div><div class='xr-section-details'><ul class='xr-var-list'><li class='xr-var-item'><div class='xr-index-name'><div>longitude</div></div><div class='xr-index-preview'>PandasIndex</div><div></div><input id='index-557ca7c8-060b-4e39-a78f-7afe8f9d83cd' class='xr-index-data-in' type='checkbox'/><label for='index-557ca7c8-060b-4e39-a78f-7afe8f9d83cd' title='Show/Hide index repr'><svg class='icon xr-icon-database'><use xlink:href='#icon-database'></use></svg></label><div class='xr-index-data'><pre>PandasIndex(Index([  4.21999979019165,   4.46999979019165,   4.71999979019165,\n",
       "         4.96999979019165,   5.21999979019165,   5.46999979019165,\n",
       "         5.71999979019165,   5.96999979019165,   6.21999979019165,\n",
       "         6.46999979019165,   6.71999979019165,   6.96999979019165,\n",
       "         7.21999979019165,   7.46999979019165,   7.71999979019165,\n",
       "         7.96999979019165,  8.220000267028809,  8.470000267028809,\n",
       "        8.720000267028809,  8.970000267028809,  9.220000267028809,\n",
       "        9.470000267028809,  9.720000267028809,  9.970000267028809,\n",
       "       10.220000267028809, 10.470000267028809, 10.720000267028809,\n",
       "       10.970000267028809, 11.220000267028809, 11.470000267028809,\n",
       "       11.720000267028809, 11.970000267028809, 12.220000267028809,\n",
       "       12.470000267028809, 12.720000267028809, 12.970000267028809,\n",
       "       13.220000267028809, 13.470000267028809, 13.720000267028809,\n",
       "       13.970000267028809, 14.220000267028809, 14.470000267028809,\n",
       "       14.720000267028809, 14.970000267028809, 15.220000267028809,\n",
       "       15.470000267028809, 15.720000267028809, 15.970000267028809,\n",
       "       16.219999313354492, 16.469999313354492, 16.719999313354492,\n",
       "       16.969999313354492],\n",
       "      dtype=&#x27;float32&#x27;, name=&#x27;longitude&#x27;))</pre></div></li><li class='xr-var-item'><div class='xr-index-name'><div>latitude</div></div><div class='xr-index-preview'>PandasIndex</div><div></div><input id='index-ee638bac-97a7-4536-9475-54129035958c' class='xr-index-data-in' type='checkbox'/><label for='index-ee638bac-97a7-4536-9475-54129035958c' title='Show/Hide index repr'><svg class='icon xr-icon-database'><use xlink:href='#icon-database'></use></svg></label><div class='xr-index-data'><pre>PandasIndex(Index([56.31999969482422, 56.06999969482422, 55.81999969482422,\n",
       "       55.56999969482422, 55.31999969482422, 55.06999969482422,\n",
       "       54.81999969482422, 54.56999969482422, 54.31999969482422,\n",
       "       54.06999969482422, 53.81999969482422, 53.56999969482422,\n",
       "       53.31999969482422, 53.06999969482422, 52.81999969482422,\n",
       "       52.56999969482422, 52.31999969482422, 52.06999969482422,\n",
       "       51.81999969482422, 51.56999969482422, 51.31999969482422,\n",
       "       51.06999969482422, 50.81999969482422, 50.56999969482422,\n",
       "       50.31999969482422, 50.06999969482422, 49.81999969482422,\n",
       "       49.56999969482422, 49.31999969482422, 49.06999969482422,\n",
       "       48.81999969482422, 48.56999969482422, 48.31999969482422,\n",
       "       48.06999969482422, 47.81999969482422, 47.56999969482422,\n",
       "       47.31999969482422, 47.06999969482422, 46.81999969482422,\n",
       "       46.56999969482422, 46.31999969482422, 46.06999969482422],\n",
       "      dtype=&#x27;float32&#x27;, name=&#x27;latitude&#x27;))</pre></div></li><li class='xr-var-item'><div class='xr-index-name'><div>time</div></div><div class='xr-index-preview'>PandasIndex</div><div></div><input id='index-fe72da88-3ce4-4eff-a6e5-2a9a89c324de' class='xr-index-data-in' type='checkbox'/><label for='index-fe72da88-3ce4-4eff-a6e5-2a9a89c324de' title='Show/Hide index repr'><svg class='icon xr-icon-database'><use xlink:href='#icon-database'></use></svg></label><div class='xr-index-data'><pre>PandasIndex(DatetimeIndex([&#x27;2021-01-01 00:00:00&#x27;, &#x27;2021-01-01 01:00:00&#x27;,\n",
       "               &#x27;2021-01-01 02:00:00&#x27;, &#x27;2021-01-01 03:00:00&#x27;,\n",
       "               &#x27;2021-01-01 04:00:00&#x27;, &#x27;2021-01-01 05:00:00&#x27;,\n",
       "               &#x27;2021-01-01 06:00:00&#x27;, &#x27;2021-01-01 07:00:00&#x27;,\n",
       "               &#x27;2021-01-01 08:00:00&#x27;, &#x27;2021-01-01 09:00:00&#x27;,\n",
       "               ...\n",
       "               &#x27;2021-12-31 14:00:00&#x27;, &#x27;2021-12-31 15:00:00&#x27;,\n",
       "               &#x27;2021-12-31 16:00:00&#x27;, &#x27;2021-12-31 17:00:00&#x27;,\n",
       "               &#x27;2021-12-31 18:00:00&#x27;, &#x27;2021-12-31 19:00:00&#x27;,\n",
       "               &#x27;2021-12-31 20:00:00&#x27;, &#x27;2021-12-31 21:00:00&#x27;,\n",
       "               &#x27;2021-12-31 22:00:00&#x27;, &#x27;2021-12-31 23:00:00&#x27;],\n",
       "              dtype=&#x27;datetime64[ns]&#x27;, name=&#x27;time&#x27;, length=8760, freq=None))</pre></div></li></ul></div></li><li class='xr-section-item'><input id='section-a1b6da86-5b17-47d7-926b-1e79ca96a532' class='xr-section-summary-in' type='checkbox'  checked><label for='section-a1b6da86-5b17-47d7-926b-1e79ca96a532' class='xr-section-summary' >Attributes: <span>(2)</span></label><div class='xr-section-inline-details'></div><div class='xr-section-details'><dl class='xr-attrs'><dt><span>Conventions :</span></dt><dd>CF-1.6</dd><dt><span>history :</span></dt><dd>2023-09-03 22:44:25 GMT by grib_to_netcdf-2.25.1: /opt/ecmwf/mars-client/bin/grib_to_netcdf.bin -S param -o /cache/data6/adaptor.mars.internal-1693780956.9471045-19216-15-4d4e8e02-b91a-4902-b9fe-ab2b33e28aaa.nc /cache/tmp/4d4e8e02-b91a-4902-b9fe-ab2b33e28aaa-adaptor.mars.internal-1693780021.3183055-19216-28-tmp.grib</dd></dl></div></li></ul></div></div>"
      ],
      "text/plain": [
       "<xarray.Dataset>\n",
       "Dimensions:    (longitude: 52, latitude: 42, time: 8760)\n",
       "Coordinates:\n",
       "  * longitude  (longitude) float32 4.22 4.47 4.72 4.97 ... 16.47 16.72 16.97\n",
       "  * latitude   (latitude) float32 56.32 56.07 55.82 55.57 ... 46.57 46.32 46.07\n",
       "  * time       (time) datetime64[ns] 2021-01-01 ... 2021-12-31T23:00:00\n",
       "Data variables:\n",
       "    u100       (time, latitude, longitude) float32 ...\n",
       "    v100       (time, latitude, longitude) float32 ...\n",
       "    u10        (time, latitude, longitude) float32 ...\n",
       "    v10        (time, latitude, longitude) float32 ...\n",
       "Attributes:\n",
       "    Conventions:  CF-1.6\n",
       "    history:      2023-09-03 22:44:25 GMT by grib_to_netcdf-2.25.1: /opt/ecmw..."
      ]
     },
     "execution_count": 52,
     "metadata": {},
     "output_type": "execute_result"
    }
   ],
   "source": [
    "ds_2021"
   ]
  },
  {
   "cell_type": "code",
   "execution_count": 27,
   "id": "2ee46ba1-693a-487d-8a6f-4c5f6bf6322f",
   "metadata": {
    "tags": []
   },
   "outputs": [],
   "source": [
    "# Plot the first time step and first variable\n",
    "data_var = list(ds.data_vars)[0]\n",
    "data = ds[data_var].isel(time=0)"
   ]
  },
  {
   "cell_type": "code",
   "execution_count": 46,
   "id": "7041fea3-e877-4891-a1ad-bf65e648e71a",
   "metadata": {
    "tags": []
   },
   "outputs": [
    {
     "data": {
      "text/plain": [
       "'u100'"
      ]
     },
     "execution_count": 46,
     "metadata": {},
     "output_type": "execute_result"
    }
   ],
   "source": [
    "data_var"
   ]
  },
  {
   "cell_type": "code",
   "execution_count": 29,
   "id": "cdab04f1-f66a-49f9-bc61-7ed9a7fc581b",
   "metadata": {
    "tags": []
   },
   "outputs": [
    {
     "data": {
      "text/html": [
       "<div><svg style=\"position: absolute; width: 0; height: 0; overflow: hidden\">\n",
       "<defs>\n",
       "<symbol id=\"icon-database\" viewBox=\"0 0 32 32\">\n",
       "<path d=\"M16 0c-8.837 0-16 2.239-16 5v4c0 2.761 7.163 5 16 5s16-2.239 16-5v-4c0-2.761-7.163-5-16-5z\"></path>\n",
       "<path d=\"M16 17c-8.837 0-16-2.239-16-5v6c0 2.761 7.163 5 16 5s16-2.239 16-5v-6c0 2.761-7.163 5-16 5z\"></path>\n",
       "<path d=\"M16 26c-8.837 0-16-2.239-16-5v6c0 2.761 7.163 5 16 5s16-2.239 16-5v-6c0 2.761-7.163 5-16 5z\"></path>\n",
       "</symbol>\n",
       "<symbol id=\"icon-file-text2\" viewBox=\"0 0 32 32\">\n",
       "<path d=\"M28.681 7.159c-0.694-0.947-1.662-2.053-2.724-3.116s-2.169-2.030-3.116-2.724c-1.612-1.182-2.393-1.319-2.841-1.319h-15.5c-1.378 0-2.5 1.121-2.5 2.5v27c0 1.378 1.122 2.5 2.5 2.5h23c1.378 0 2.5-1.122 2.5-2.5v-19.5c0-0.448-0.137-1.23-1.319-2.841zM24.543 5.457c0.959 0.959 1.712 1.825 2.268 2.543h-4.811v-4.811c0.718 0.556 1.584 1.309 2.543 2.268zM28 29.5c0 0.271-0.229 0.5-0.5 0.5h-23c-0.271 0-0.5-0.229-0.5-0.5v-27c0-0.271 0.229-0.5 0.5-0.5 0 0 15.499-0 15.5 0v7c0 0.552 0.448 1 1 1h7v19.5z\"></path>\n",
       "<path d=\"M23 26h-14c-0.552 0-1-0.448-1-1s0.448-1 1-1h14c0.552 0 1 0.448 1 1s-0.448 1-1 1z\"></path>\n",
       "<path d=\"M23 22h-14c-0.552 0-1-0.448-1-1s0.448-1 1-1h14c0.552 0 1 0.448 1 1s-0.448 1-1 1z\"></path>\n",
       "<path d=\"M23 18h-14c-0.552 0-1-0.448-1-1s0.448-1 1-1h14c0.552 0 1 0.448 1 1s-0.448 1-1 1z\"></path>\n",
       "</symbol>\n",
       "</defs>\n",
       "</svg>\n",
       "<style>/* CSS stylesheet for displaying xarray objects in jupyterlab.\n",
       " *\n",
       " */\n",
       "\n",
       ":root {\n",
       "  --xr-font-color0: var(--jp-content-font-color0, rgba(0, 0, 0, 1));\n",
       "  --xr-font-color2: var(--jp-content-font-color2, rgba(0, 0, 0, 0.54));\n",
       "  --xr-font-color3: var(--jp-content-font-color3, rgba(0, 0, 0, 0.38));\n",
       "  --xr-border-color: var(--jp-border-color2, #e0e0e0);\n",
       "  --xr-disabled-color: var(--jp-layout-color3, #bdbdbd);\n",
       "  --xr-background-color: var(--jp-layout-color0, white);\n",
       "  --xr-background-color-row-even: var(--jp-layout-color1, white);\n",
       "  --xr-background-color-row-odd: var(--jp-layout-color2, #eeeeee);\n",
       "}\n",
       "\n",
       "html[theme=dark],\n",
       "body[data-theme=dark],\n",
       "body.vscode-dark {\n",
       "  --xr-font-color0: rgba(255, 255, 255, 1);\n",
       "  --xr-font-color2: rgba(255, 255, 255, 0.54);\n",
       "  --xr-font-color3: rgba(255, 255, 255, 0.38);\n",
       "  --xr-border-color: #1F1F1F;\n",
       "  --xr-disabled-color: #515151;\n",
       "  --xr-background-color: #111111;\n",
       "  --xr-background-color-row-even: #111111;\n",
       "  --xr-background-color-row-odd: #313131;\n",
       "}\n",
       "\n",
       ".xr-wrap {\n",
       "  display: block !important;\n",
       "  min-width: 300px;\n",
       "  max-width: 700px;\n",
       "}\n",
       "\n",
       ".xr-text-repr-fallback {\n",
       "  /* fallback to plain text repr when CSS is not injected (untrusted notebook) */\n",
       "  display: none;\n",
       "}\n",
       "\n",
       ".xr-header {\n",
       "  padding-top: 6px;\n",
       "  padding-bottom: 6px;\n",
       "  margin-bottom: 4px;\n",
       "  border-bottom: solid 1px var(--xr-border-color);\n",
       "}\n",
       "\n",
       ".xr-header > div,\n",
       ".xr-header > ul {\n",
       "  display: inline;\n",
       "  margin-top: 0;\n",
       "  margin-bottom: 0;\n",
       "}\n",
       "\n",
       ".xr-obj-type,\n",
       ".xr-array-name {\n",
       "  margin-left: 2px;\n",
       "  margin-right: 10px;\n",
       "}\n",
       "\n",
       ".xr-obj-type {\n",
       "  color: var(--xr-font-color2);\n",
       "}\n",
       "\n",
       ".xr-sections {\n",
       "  padding-left: 0 !important;\n",
       "  display: grid;\n",
       "  grid-template-columns: 150px auto auto 1fr 20px 20px;\n",
       "}\n",
       "\n",
       ".xr-section-item {\n",
       "  display: contents;\n",
       "}\n",
       "\n",
       ".xr-section-item input {\n",
       "  display: none;\n",
       "}\n",
       "\n",
       ".xr-section-item input + label {\n",
       "  color: var(--xr-disabled-color);\n",
       "}\n",
       "\n",
       ".xr-section-item input:enabled + label {\n",
       "  cursor: pointer;\n",
       "  color: var(--xr-font-color2);\n",
       "}\n",
       "\n",
       ".xr-section-item input:enabled + label:hover {\n",
       "  color: var(--xr-font-color0);\n",
       "}\n",
       "\n",
       ".xr-section-summary {\n",
       "  grid-column: 1;\n",
       "  color: var(--xr-font-color2);\n",
       "  font-weight: 500;\n",
       "}\n",
       "\n",
       ".xr-section-summary > span {\n",
       "  display: inline-block;\n",
       "  padding-left: 0.5em;\n",
       "}\n",
       "\n",
       ".xr-section-summary-in:disabled + label {\n",
       "  color: var(--xr-font-color2);\n",
       "}\n",
       "\n",
       ".xr-section-summary-in + label:before {\n",
       "  display: inline-block;\n",
       "  content: '►';\n",
       "  font-size: 11px;\n",
       "  width: 15px;\n",
       "  text-align: center;\n",
       "}\n",
       "\n",
       ".xr-section-summary-in:disabled + label:before {\n",
       "  color: var(--xr-disabled-color);\n",
       "}\n",
       "\n",
       ".xr-section-summary-in:checked + label:before {\n",
       "  content: '▼';\n",
       "}\n",
       "\n",
       ".xr-section-summary-in:checked + label > span {\n",
       "  display: none;\n",
       "}\n",
       "\n",
       ".xr-section-summary,\n",
       ".xr-section-inline-details {\n",
       "  padding-top: 4px;\n",
       "  padding-bottom: 4px;\n",
       "}\n",
       "\n",
       ".xr-section-inline-details {\n",
       "  grid-column: 2 / -1;\n",
       "}\n",
       "\n",
       ".xr-section-details {\n",
       "  display: none;\n",
       "  grid-column: 1 / -1;\n",
       "  margin-bottom: 5px;\n",
       "}\n",
       "\n",
       ".xr-section-summary-in:checked ~ .xr-section-details {\n",
       "  display: contents;\n",
       "}\n",
       "\n",
       ".xr-array-wrap {\n",
       "  grid-column: 1 / -1;\n",
       "  display: grid;\n",
       "  grid-template-columns: 20px auto;\n",
       "}\n",
       "\n",
       ".xr-array-wrap > label {\n",
       "  grid-column: 1;\n",
       "  vertical-align: top;\n",
       "}\n",
       "\n",
       ".xr-preview {\n",
       "  color: var(--xr-font-color3);\n",
       "}\n",
       "\n",
       ".xr-array-preview,\n",
       ".xr-array-data {\n",
       "  padding: 0 5px !important;\n",
       "  grid-column: 2;\n",
       "}\n",
       "\n",
       ".xr-array-data,\n",
       ".xr-array-in:checked ~ .xr-array-preview {\n",
       "  display: none;\n",
       "}\n",
       "\n",
       ".xr-array-in:checked ~ .xr-array-data,\n",
       ".xr-array-preview {\n",
       "  display: inline-block;\n",
       "}\n",
       "\n",
       ".xr-dim-list {\n",
       "  display: inline-block !important;\n",
       "  list-style: none;\n",
       "  padding: 0 !important;\n",
       "  margin: 0;\n",
       "}\n",
       "\n",
       ".xr-dim-list li {\n",
       "  display: inline-block;\n",
       "  padding: 0;\n",
       "  margin: 0;\n",
       "}\n",
       "\n",
       ".xr-dim-list:before {\n",
       "  content: '(';\n",
       "}\n",
       "\n",
       ".xr-dim-list:after {\n",
       "  content: ')';\n",
       "}\n",
       "\n",
       ".xr-dim-list li:not(:last-child):after {\n",
       "  content: ',';\n",
       "  padding-right: 5px;\n",
       "}\n",
       "\n",
       ".xr-has-index {\n",
       "  font-weight: bold;\n",
       "}\n",
       "\n",
       ".xr-var-list,\n",
       ".xr-var-item {\n",
       "  display: contents;\n",
       "}\n",
       "\n",
       ".xr-var-item > div,\n",
       ".xr-var-item label,\n",
       ".xr-var-item > .xr-var-name span {\n",
       "  background-color: var(--xr-background-color-row-even);\n",
       "  margin-bottom: 0;\n",
       "}\n",
       "\n",
       ".xr-var-item > .xr-var-name:hover span {\n",
       "  padding-right: 5px;\n",
       "}\n",
       "\n",
       ".xr-var-list > li:nth-child(odd) > div,\n",
       ".xr-var-list > li:nth-child(odd) > label,\n",
       ".xr-var-list > li:nth-child(odd) > .xr-var-name span {\n",
       "  background-color: var(--xr-background-color-row-odd);\n",
       "}\n",
       "\n",
       ".xr-var-name {\n",
       "  grid-column: 1;\n",
       "}\n",
       "\n",
       ".xr-var-dims {\n",
       "  grid-column: 2;\n",
       "}\n",
       "\n",
       ".xr-var-dtype {\n",
       "  grid-column: 3;\n",
       "  text-align: right;\n",
       "  color: var(--xr-font-color2);\n",
       "}\n",
       "\n",
       ".xr-var-preview {\n",
       "  grid-column: 4;\n",
       "}\n",
       "\n",
       ".xr-index-preview {\n",
       "  grid-column: 2 / 5;\n",
       "  color: var(--xr-font-color2);\n",
       "}\n",
       "\n",
       ".xr-var-name,\n",
       ".xr-var-dims,\n",
       ".xr-var-dtype,\n",
       ".xr-preview,\n",
       ".xr-attrs dt {\n",
       "  white-space: nowrap;\n",
       "  overflow: hidden;\n",
       "  text-overflow: ellipsis;\n",
       "  padding-right: 10px;\n",
       "}\n",
       "\n",
       ".xr-var-name:hover,\n",
       ".xr-var-dims:hover,\n",
       ".xr-var-dtype:hover,\n",
       ".xr-attrs dt:hover {\n",
       "  overflow: visible;\n",
       "  width: auto;\n",
       "  z-index: 1;\n",
       "}\n",
       "\n",
       ".xr-var-attrs,\n",
       ".xr-var-data,\n",
       ".xr-index-data {\n",
       "  display: none;\n",
       "  background-color: var(--xr-background-color) !important;\n",
       "  padding-bottom: 5px !important;\n",
       "}\n",
       "\n",
       ".xr-var-attrs-in:checked ~ .xr-var-attrs,\n",
       ".xr-var-data-in:checked ~ .xr-var-data,\n",
       ".xr-index-data-in:checked ~ .xr-index-data {\n",
       "  display: block;\n",
       "}\n",
       "\n",
       ".xr-var-data > table {\n",
       "  float: right;\n",
       "}\n",
       "\n",
       ".xr-var-name span,\n",
       ".xr-var-data,\n",
       ".xr-index-name div,\n",
       ".xr-index-data,\n",
       ".xr-attrs {\n",
       "  padding-left: 25px !important;\n",
       "}\n",
       "\n",
       ".xr-attrs,\n",
       ".xr-var-attrs,\n",
       ".xr-var-data,\n",
       ".xr-index-data {\n",
       "  grid-column: 1 / -1;\n",
       "}\n",
       "\n",
       "dl.xr-attrs {\n",
       "  padding: 0;\n",
       "  margin: 0;\n",
       "  display: grid;\n",
       "  grid-template-columns: 125px auto;\n",
       "}\n",
       "\n",
       ".xr-attrs dt,\n",
       ".xr-attrs dd {\n",
       "  padding: 0;\n",
       "  margin: 0;\n",
       "  float: left;\n",
       "  padding-right: 10px;\n",
       "  width: auto;\n",
       "}\n",
       "\n",
       ".xr-attrs dt {\n",
       "  font-weight: normal;\n",
       "  grid-column: 1;\n",
       "}\n",
       "\n",
       ".xr-attrs dt:hover span {\n",
       "  display: inline-block;\n",
       "  background: var(--xr-background-color);\n",
       "  padding-right: 10px;\n",
       "}\n",
       "\n",
       ".xr-attrs dd {\n",
       "  grid-column: 2;\n",
       "  white-space: pre-wrap;\n",
       "  word-break: break-all;\n",
       "}\n",
       "\n",
       ".xr-icon-database,\n",
       ".xr-icon-file-text2,\n",
       ".xr-no-icon {\n",
       "  display: inline-block;\n",
       "  vertical-align: middle;\n",
       "  width: 1em;\n",
       "  height: 1.5em !important;\n",
       "  stroke-width: 0;\n",
       "  stroke: currentColor;\n",
       "  fill: currentColor;\n",
       "}\n",
       "</style><pre class='xr-text-repr-fallback'>&lt;xarray.DataArray &#x27;u100&#x27; (latitude: 42, longitude: 52)&gt;\n",
       "[2184 values with dtype=float32]\n",
       "Coordinates:\n",
       "  * longitude  (longitude) float32 4.22 4.47 4.72 4.97 ... 16.47 16.72 16.97\n",
       "  * latitude   (latitude) float32 56.32 56.07 55.82 55.57 ... 46.57 46.32 46.07\n",
       "    time       datetime64[ns] 2022-01-01\n",
       "Attributes:\n",
       "    units:      m s**-1\n",
       "    long_name:  100 metre U wind component</pre><div class='xr-wrap' style='display:none'><div class='xr-header'><div class='xr-obj-type'>xarray.DataArray</div><div class='xr-array-name'>'u100'</div><ul class='xr-dim-list'><li><span class='xr-has-index'>latitude</span>: 42</li><li><span class='xr-has-index'>longitude</span>: 52</li></ul></div><ul class='xr-sections'><li class='xr-section-item'><div class='xr-array-wrap'><input id='section-c582b5e2-2447-4ed5-8979-4ea8fb66c20c' class='xr-array-in' type='checkbox' checked><label for='section-c582b5e2-2447-4ed5-8979-4ea8fb66c20c' title='Show/hide data repr'><svg class='icon xr-icon-database'><use xlink:href='#icon-database'></use></svg></label><div class='xr-array-preview xr-preview'><span>...</span></div><div class='xr-array-data'><pre>[2184 values with dtype=float32]</pre></div></div></li><li class='xr-section-item'><input id='section-d2943152-50ff-4393-952f-0a20fecd4175' class='xr-section-summary-in' type='checkbox'  checked><label for='section-d2943152-50ff-4393-952f-0a20fecd4175' class='xr-section-summary' >Coordinates: <span>(3)</span></label><div class='xr-section-inline-details'></div><div class='xr-section-details'><ul class='xr-var-list'><li class='xr-var-item'><div class='xr-var-name'><span class='xr-has-index'>longitude</span></div><div class='xr-var-dims'>(longitude)</div><div class='xr-var-dtype'>float32</div><div class='xr-var-preview xr-preview'>4.22 4.47 4.72 ... 16.72 16.97</div><input id='attrs-fcb7e2f0-6b1d-49f7-942e-dd49b38429fb' class='xr-var-attrs-in' type='checkbox' ><label for='attrs-fcb7e2f0-6b1d-49f7-942e-dd49b38429fb' title='Show/Hide attributes'><svg class='icon xr-icon-file-text2'><use xlink:href='#icon-file-text2'></use></svg></label><input id='data-67749718-fda2-4e78-8865-97704096dcb4' class='xr-var-data-in' type='checkbox'><label for='data-67749718-fda2-4e78-8865-97704096dcb4' title='Show/Hide data repr'><svg class='icon xr-icon-database'><use xlink:href='#icon-database'></use></svg></label><div class='xr-var-attrs'><dl class='xr-attrs'><dt><span>units :</span></dt><dd>degrees_east</dd><dt><span>long_name :</span></dt><dd>longitude</dd></dl></div><div class='xr-var-data'><pre>array([ 4.22,  4.47,  4.72,  4.97,  5.22,  5.47,  5.72,  5.97,  6.22,  6.47,\n",
       "        6.72,  6.97,  7.22,  7.47,  7.72,  7.97,  8.22,  8.47,  8.72,  8.97,\n",
       "        9.22,  9.47,  9.72,  9.97, 10.22, 10.47, 10.72, 10.97, 11.22, 11.47,\n",
       "       11.72, 11.97, 12.22, 12.47, 12.72, 12.97, 13.22, 13.47, 13.72, 13.97,\n",
       "       14.22, 14.47, 14.72, 14.97, 15.22, 15.47, 15.72, 15.97, 16.22, 16.47,\n",
       "       16.72, 16.97], dtype=float32)</pre></div></li><li class='xr-var-item'><div class='xr-var-name'><span class='xr-has-index'>latitude</span></div><div class='xr-var-dims'>(latitude)</div><div class='xr-var-dtype'>float32</div><div class='xr-var-preview xr-preview'>56.32 56.07 55.82 ... 46.32 46.07</div><input id='attrs-847474ec-83e2-4014-9288-b00e93175a68' class='xr-var-attrs-in' type='checkbox' ><label for='attrs-847474ec-83e2-4014-9288-b00e93175a68' title='Show/Hide attributes'><svg class='icon xr-icon-file-text2'><use xlink:href='#icon-file-text2'></use></svg></label><input id='data-88fa1dcc-6bec-4501-9f2c-e581c5cf5d3f' class='xr-var-data-in' type='checkbox'><label for='data-88fa1dcc-6bec-4501-9f2c-e581c5cf5d3f' title='Show/Hide data repr'><svg class='icon xr-icon-database'><use xlink:href='#icon-database'></use></svg></label><div class='xr-var-attrs'><dl class='xr-attrs'><dt><span>units :</span></dt><dd>degrees_north</dd><dt><span>long_name :</span></dt><dd>latitude</dd></dl></div><div class='xr-var-data'><pre>array([56.32, 56.07, 55.82, 55.57, 55.32, 55.07, 54.82, 54.57, 54.32, 54.07,\n",
       "       53.82, 53.57, 53.32, 53.07, 52.82, 52.57, 52.32, 52.07, 51.82, 51.57,\n",
       "       51.32, 51.07, 50.82, 50.57, 50.32, 50.07, 49.82, 49.57, 49.32, 49.07,\n",
       "       48.82, 48.57, 48.32, 48.07, 47.82, 47.57, 47.32, 47.07, 46.82, 46.57,\n",
       "       46.32, 46.07], dtype=float32)</pre></div></li><li class='xr-var-item'><div class='xr-var-name'><span>time</span></div><div class='xr-var-dims'>()</div><div class='xr-var-dtype'>datetime64[ns]</div><div class='xr-var-preview xr-preview'>2022-01-01</div><input id='attrs-b984fd6d-7299-4572-a593-a7bb89ead49c' class='xr-var-attrs-in' type='checkbox' ><label for='attrs-b984fd6d-7299-4572-a593-a7bb89ead49c' title='Show/Hide attributes'><svg class='icon xr-icon-file-text2'><use xlink:href='#icon-file-text2'></use></svg></label><input id='data-c4a639ef-3e90-4a0e-9d0c-b48ea8ae152c' class='xr-var-data-in' type='checkbox'><label for='data-c4a639ef-3e90-4a0e-9d0c-b48ea8ae152c' title='Show/Hide data repr'><svg class='icon xr-icon-database'><use xlink:href='#icon-database'></use></svg></label><div class='xr-var-attrs'><dl class='xr-attrs'><dt><span>long_name :</span></dt><dd>time</dd></dl></div><div class='xr-var-data'><pre>array(&#x27;2022-01-01T00:00:00.000000000&#x27;, dtype=&#x27;datetime64[ns]&#x27;)</pre></div></li></ul></div></li><li class='xr-section-item'><input id='section-40a4e15a-f973-44d2-9d31-c9730e7b9d7b' class='xr-section-summary-in' type='checkbox'  ><label for='section-40a4e15a-f973-44d2-9d31-c9730e7b9d7b' class='xr-section-summary' >Indexes: <span>(2)</span></label><div class='xr-section-inline-details'></div><div class='xr-section-details'><ul class='xr-var-list'><li class='xr-var-item'><div class='xr-index-name'><div>longitude</div></div><div class='xr-index-preview'>PandasIndex</div><div></div><input id='index-db071558-b06e-4f69-96f7-c2f0ac443064' class='xr-index-data-in' type='checkbox'/><label for='index-db071558-b06e-4f69-96f7-c2f0ac443064' title='Show/Hide index repr'><svg class='icon xr-icon-database'><use xlink:href='#icon-database'></use></svg></label><div class='xr-index-data'><pre>PandasIndex(Index([  4.21999979019165,   4.46999979019165,   4.71999979019165,\n",
       "         4.96999979019165,   5.21999979019165,   5.46999979019165,\n",
       "         5.71999979019165,   5.96999979019165,   6.21999979019165,\n",
       "         6.46999979019165,   6.71999979019165,   6.96999979019165,\n",
       "         7.21999979019165,   7.46999979019165,   7.71999979019165,\n",
       "         7.96999979019165,  8.220000267028809,  8.470000267028809,\n",
       "        8.720000267028809,  8.970000267028809,  9.220000267028809,\n",
       "        9.470000267028809,  9.720000267028809,  9.970000267028809,\n",
       "       10.220000267028809, 10.470000267028809, 10.720000267028809,\n",
       "       10.970000267028809, 11.220000267028809, 11.470000267028809,\n",
       "       11.720000267028809, 11.970000267028809, 12.220000267028809,\n",
       "       12.470000267028809, 12.720000267028809, 12.970000267028809,\n",
       "       13.220000267028809, 13.470000267028809, 13.720000267028809,\n",
       "       13.970000267028809, 14.220000267028809, 14.470000267028809,\n",
       "       14.720000267028809, 14.970000267028809, 15.220000267028809,\n",
       "       15.470000267028809, 15.720000267028809, 15.970000267028809,\n",
       "       16.219999313354492, 16.469999313354492, 16.719999313354492,\n",
       "       16.969999313354492],\n",
       "      dtype=&#x27;float32&#x27;, name=&#x27;longitude&#x27;))</pre></div></li><li class='xr-var-item'><div class='xr-index-name'><div>latitude</div></div><div class='xr-index-preview'>PandasIndex</div><div></div><input id='index-6a061a7c-d55d-4119-85cf-0e0c67307d79' class='xr-index-data-in' type='checkbox'/><label for='index-6a061a7c-d55d-4119-85cf-0e0c67307d79' title='Show/Hide index repr'><svg class='icon xr-icon-database'><use xlink:href='#icon-database'></use></svg></label><div class='xr-index-data'><pre>PandasIndex(Index([56.31999969482422, 56.06999969482422, 55.81999969482422,\n",
       "       55.56999969482422, 55.31999969482422, 55.06999969482422,\n",
       "       54.81999969482422, 54.56999969482422, 54.31999969482422,\n",
       "       54.06999969482422, 53.81999969482422, 53.56999969482422,\n",
       "       53.31999969482422, 53.06999969482422, 52.81999969482422,\n",
       "       52.56999969482422, 52.31999969482422, 52.06999969482422,\n",
       "       51.81999969482422, 51.56999969482422, 51.31999969482422,\n",
       "       51.06999969482422, 50.81999969482422, 50.56999969482422,\n",
       "       50.31999969482422, 50.06999969482422, 49.81999969482422,\n",
       "       49.56999969482422, 49.31999969482422, 49.06999969482422,\n",
       "       48.81999969482422, 48.56999969482422, 48.31999969482422,\n",
       "       48.06999969482422, 47.81999969482422, 47.56999969482422,\n",
       "       47.31999969482422, 47.06999969482422, 46.81999969482422,\n",
       "       46.56999969482422, 46.31999969482422, 46.06999969482422],\n",
       "      dtype=&#x27;float32&#x27;, name=&#x27;latitude&#x27;))</pre></div></li></ul></div></li><li class='xr-section-item'><input id='section-945b708a-251e-418f-9c8b-39ca4a455faa' class='xr-section-summary-in' type='checkbox'  checked><label for='section-945b708a-251e-418f-9c8b-39ca4a455faa' class='xr-section-summary' >Attributes: <span>(2)</span></label><div class='xr-section-inline-details'></div><div class='xr-section-details'><dl class='xr-attrs'><dt><span>units :</span></dt><dd>m s**-1</dd><dt><span>long_name :</span></dt><dd>100 metre U wind component</dd></dl></div></li></ul></div></div>"
      ],
      "text/plain": [
       "<xarray.DataArray 'u100' (latitude: 42, longitude: 52)>\n",
       "[2184 values with dtype=float32]\n",
       "Coordinates:\n",
       "  * longitude  (longitude) float32 4.22 4.47 4.72 4.97 ... 16.47 16.72 16.97\n",
       "  * latitude   (latitude) float32 56.32 56.07 55.82 55.57 ... 46.57 46.32 46.07\n",
       "    time       datetime64[ns] 2022-01-01\n",
       "Attributes:\n",
       "    units:      m s**-1\n",
       "    long_name:  100 metre U wind component"
      ]
     },
     "execution_count": 29,
     "metadata": {},
     "output_type": "execute_result"
    }
   ],
   "source": [
    "data"
   ]
  },
  {
   "cell_type": "code",
   "execution_count": 90,
   "id": "79b4356d-df86-480e-b9ba-e488d20da352",
   "metadata": {
    "tags": []
   },
   "outputs": [],
   "source": [
    "# Extract latitude and longitude data\n",
    "lat = ds.latitude.values\n",
    "lon = ds.longitude.values"
   ]
  },
  {
   "cell_type": "code",
   "execution_count": 31,
   "id": "87990651-c5d5-4fea-a80e-26e1896c8706",
   "metadata": {
    "tags": []
   },
   "outputs": [
    {
     "data": {
      "text/plain": [
       "array([56.32, 56.07, 55.82, 55.57, 55.32, 55.07, 54.82, 54.57, 54.32,\n",
       "       54.07, 53.82, 53.57, 53.32, 53.07, 52.82, 52.57, 52.32, 52.07,\n",
       "       51.82, 51.57, 51.32, 51.07, 50.82, 50.57, 50.32, 50.07, 49.82,\n",
       "       49.57, 49.32, 49.07, 48.82, 48.57, 48.32, 48.07, 47.82, 47.57,\n",
       "       47.32, 47.07, 46.82, 46.57, 46.32, 46.07], dtype=float32)"
      ]
     },
     "execution_count": 31,
     "metadata": {},
     "output_type": "execute_result"
    }
   ],
   "source": [
    "lat"
   ]
  },
  {
   "cell_type": "code",
   "execution_count": 387,
   "id": "fab45d62-a8c5-4b27-850f-d3a283ebedaf",
   "metadata": {
    "tags": []
   },
   "outputs": [],
   "source": [
    "# Create meshgrid for lat and lon values\n",
    "lon, lat = np.meshgrid(lon, lat)"
   ]
  },
  {
   "cell_type": "markdown",
   "id": "aff01bb3-e426-4468-9f0d-78cf508d4827",
   "metadata": {},
   "source": [
    "[56.38, 4.22, 46.07, 17.03]"
   ]
  },
  {
   "cell_type": "code",
   "execution_count": 389,
   "id": "6ef69ddf-e2a3-459f-a916-043b93880155",
   "metadata": {
    "tags": []
   },
   "outputs": [
    {
     "data": {
      "text/plain": [
       "(42, 52)"
      ]
     },
     "execution_count": 389,
     "metadata": {},
     "output_type": "execute_result"
    }
   ],
   "source": [
    "lon.shape"
   ]
  },
  {
   "cell_type": "markdown",
   "id": "1e45c79a-343b-4af4-be93-66f3093b5a06",
   "metadata": {},
   "source": [
    "### Plotting the grid points over Germany and validating the haversine calculation works"
   ]
  },
  {
   "cell_type": "code",
   "execution_count": 535,
   "id": "723503c1-5b12-442e-93eb-c69790cb5eb7",
   "metadata": {
    "tags": []
   },
   "outputs": [
    {
     "data": {
      "image/png": "[encoded data removed]",
      "text/plain": [
       "<Figure size 704x528 with 2 Axes>"
      ]
     },
     "metadata": {},
     "output_type": "display_data"
    }
   ],
   "source": [
    "# Create a figure and axis with cartopy projection\n",
    "fig, ax = plt.subplots(subplot_kw={'projection': ccrs.PlateCarree()})\n",
    "ax.set_extent([5, 16, 46, 56])  # Extent for Germany\n",
    "\n",
    "# Plot the data\n",
    "data.plot(ax=ax, transform=ccrs.PlateCarree(), cmap='viridis', add_colorbar=True)\n",
    "\n",
    "# Plot the grid points\n",
    "ax.scatter(lon, lat, color='red', s=1, transform=ccrs.PlateCarree())\n",
    "\n",
    "# Haversine validation ----------\n",
    "# Plot test turbine location\n",
    "ax.scatter([13.901308,], [53.350347,], color='blue', s=3, transform=ccrs.PlateCarree(), marker='*', zorder=2)\n",
    "# Plot turbine's closest grid point based on results of haversine calcluation\n",
    "ax.scatter([13.97,], [53.32,], color='blue', s=1, transform=ccrs.PlateCarree(), zorder=2)\n",
    "# Hottest grid point representing 458 turbines\n",
    "ax.scatter([8.97,], [54.07,], color='red', s=25, transform=ccrs.PlateCarree(), zorder=2)\n",
    "\n",
    "\n",
    "# Add map features for context\n",
    "ax.add_feature(cfeature.BORDERS, linestyle=':')\n",
    "ax.add_feature(cfeature.COASTLINE)\n",
    "ax.add_feature(cfeature.LAND, edgecolor='black')\n",
    "ax.set_title(f\"{data_var} over Germany with Grid Points\")\n",
    "\n",
    "plt.show()"
   ]
  },
  {
   "cell_type": "markdown",
   "id": "4fb47d60-87c1-4c26-8357-b6e0dccaac4a",
   "metadata": {},
   "source": [
    "-----"
   ]
  },
  {
   "cell_type": "markdown",
   "id": "f71597fc-ba71-44eb-94ae-2760dae41686",
   "metadata": {},
   "source": [
    "## Calculating the closest grid point for each turbine\n",
    "- \"When you download ERA5 data, the grid geometry of your output data depends on the selected data format:\n",
    "    - If you request the data in the native GRIB format it is delivered with the above grid geometry.\n",
    "    - If you request the data in NetCDF format, _it is automatically converted and interpolated from the above grids to a regular lat/lon grid_.\"\n",
    "        - \"If you are using a NetCDF file, then your data is in EPSG:4326 geographic coordinates (aka WGS84 projection)\"\n",
    "    - https://confluence.ecmwf.int/display/CKB/ERA5%3A+What+is+the+spatial+reference\n",
    "- Three possible methods to calculate the nearest grid point\n",
    "    - Use Haversine distance?\n",
    "        - https://scikit-learn.org/stable/modules/generated/sklearn.metrics.pairwise.haversine_distances.html\n",
    "        - \"determine Great Circle distances between locations (good if your data is in lat/lon format)\"\n",
    "    - KDTree\n",
    "        - https://scikit-learn.org/stable/modules/generated/sklearn.neighbors.KDTree.html\n",
    "    - Nearest-neighbor interpolation\n",
    "        - https://en.wikipedia.org/wiki/Nearest-neighbor_interpolation\n",
    "        - https://stackoverflow.com/questions/30873844/identifying-the-nearest-grid-point\n",
    "        - Scipy `scipy.interpolate.RegularGridInterpolator`: https://docs.scipy.org/doc/scipy/reference/generated/scipy.interpolate.RegularGridInterpolator.html\\\n",
    "- Projected coordinate system (or planar, grid)\n",
    "    - A standardized cartesian coordinate system that models the Earth (or more commonly, a large region thereof) as a plane, measuring locations from an arbitrary origin point along x and y axes more or less aligned with the cardinal directions"
   ]
  },
  {
   "cell_type": "code",
   "execution_count": 121,
   "id": "70d13afc-5d94-4ac2-a8de-fb0b3cc56a99",
   "metadata": {
    "tags": []
   },
   "outputs": [
    {
     "data": {
      "text/plain": [
       "array([ 4.22,  4.47,  4.72,  4.97,  5.22,  5.47,  5.72,  5.97,  6.22,\n",
       "        6.47,  6.72,  6.97,  7.22,  7.47,  7.72,  7.97,  8.22,  8.47,\n",
       "        8.72,  8.97,  9.22,  9.47,  9.72,  9.97, 10.22, 10.47, 10.72,\n",
       "       10.97, 11.22, 11.47, 11.72, 11.97, 12.22, 12.47, 12.72, 12.97,\n",
       "       13.22, 13.47, 13.72, 13.97, 14.22, 14.47, 14.72, 14.97, 15.22,\n",
       "       15.47, 15.72, 15.97, 16.22, 16.47, 16.72, 16.97], dtype=float32)"
      ]
     },
     "execution_count": 121,
     "metadata": {},
     "output_type": "execute_result"
    }
   ],
   "source": [
    "ds.longitude.values"
   ]
  },
  {
   "cell_type": "code",
   "execution_count": 68,
   "id": "8b047bcf-1d58-4310-8bdc-fca68aca7b4d",
   "metadata": {
    "tags": []
   },
   "outputs": [
    {
     "data": {
      "text/plain": [
       "array([56.32, 56.07, 55.82, 55.57, 55.32, 55.07, 54.82, 54.57, 54.32,\n",
       "       54.07, 53.82, 53.57, 53.32, 53.07, 52.82, 52.57, 52.32, 52.07,\n",
       "       51.82, 51.57, 51.32, 51.07, 50.82, 50.57, 50.32, 50.07, 49.82,\n",
       "       49.57, 49.32, 49.07, 48.82, 48.57, 48.32, 48.07, 47.82, 47.57,\n",
       "       47.32, 47.07, 46.82, 46.57, 46.32, 46.07], dtype=float32)"
      ]
     },
     "execution_count": 68,
     "metadata": {},
     "output_type": "execute_result"
    }
   ],
   "source": [
    "ds.latitude.values"
   ]
  },
  {
   "cell_type": "code",
   "execution_count": 81,
   "id": "3db81503-49ac-4660-b4cb-78f0be727180",
   "metadata": {
    "tags": []
   },
   "outputs": [
    {
     "data": {
      "text/plain": [
       "[(4.22, 56.32), (4.22, 56.07), (4.22, 55.82), (4.22, 55.57), (4.22, 55.32)]"
      ]
     },
     "execution_count": 81,
     "metadata": {},
     "output_type": "execute_result"
    }
   ],
   "source": [
    "# Using itertools' product to get all 2,184 coordinate (lat, lon) pairs\n",
    "list(product(ds.longitude.values, ds.latitude.values))[:5]"
   ]
  },
  {
   "cell_type": "code",
   "execution_count": 82,
   "id": "da0562b4-a476-4b38-8b9c-31638cba9d8f",
   "metadata": {
    "tags": []
   },
   "outputs": [
    {
     "data": {
      "text/plain": [
       "2184"
      ]
     },
     "execution_count": 82,
     "metadata": {},
     "output_type": "execute_result"
    }
   ],
   "source": [
    "len(list(product(ds.longitude.values, ds.latitude.values)))"
   ]
  },
  {
   "cell_type": "markdown",
   "id": "8ae149ed-1401-4a05-b397-ca5fb0482c14",
   "metadata": {
    "tags": []
   },
   "source": [
    "-----"
   ]
  },
  {
   "cell_type": "markdown",
   "id": "7d4e15e7-67f2-4333-a612-a7581f5b48a2",
   "metadata": {},
   "source": [
    "## Test haversine equation\n",
    "- The first coordinate of each point is assumed to be the latitude, the second is the longitude, given in radians\n",
    "- https://scikit-learn.org/stable/modules/generated/sklearn.metrics.pairwise.haversine_distances.html"
   ]
  },
  {
   "cell_type": "code",
   "execution_count": 403,
   "id": "b51780a3-bd77-49c3-80e3-397b2ab9e9c7",
   "metadata": {
    "tags": []
   },
   "outputs": [
    {
     "data": {
      "text/plain": [
       "array([[  0.        , 479.31408256],\n",
       "       [479.31408256,   0.        ]])"
      ]
     },
     "execution_count": 403,
     "metadata": {},
     "output_type": "execute_result"
    }
   ],
   "source": [
    "# Great circle distance should be 474km\n",
    "# Must use order lat, lon!\n",
    "bonn = [50.73, 7.09]\n",
    "berlin = [52.52, 13.41]\n",
    "\n",
    "# Convert decimal degrees to radians\n",
    "bonn_in_radians = [radians(decimal_degree) for decimal_degree in bonn]\n",
    "berlin_in_radians = [radians(decimal_degree) for decimal_degree in berlin]\n",
    "\n",
    "# Calculate haversine and multiply by Earth radius in km to get distance in km (or radius in m for distance in m)\n",
    "result = haversine_distances([bonn_in_radians, berlin_in_radians]) * 6371\n",
    "result"
   ]
  },
  {
   "cell_type": "code",
   "execution_count": 404,
   "id": "270c15f3-4bc2-4944-943e-65c9537489d0",
   "metadata": {
    "tags": []
   },
   "outputs": [],
   "source": [
    "# Add additional points\n",
    "bsas = [-34.83333, -58.5166646]\n",
    "paris = [49.0083899664, 2.53844117956]\n",
    "bsas_in_radians = [radians(decimal_degree) for decimal_degree in bsas]\n",
    "paris_in_radians = [radians(decimal_degree) for decimal_degree in paris]"
   ]
  },
  {
   "cell_type": "code",
   "execution_count": 405,
   "id": "2ef60dfc-a0f3-49f5-b292-b1b976cef80d",
   "metadata": {
    "tags": []
   },
   "outputs": [
    {
     "data": {
      "text/plain": [
       "[[0.8854055295367234, 0.12374384396639797]]"
      ]
     },
     "execution_count": 405,
     "metadata": {},
     "output_type": "execute_result"
    }
   ],
   "source": [
    "[bonn_in_radians]"
   ]
  },
  {
   "cell_type": "markdown",
   "id": "a420f017-4a83-43ca-814d-e6539c94a9f7",
   "metadata": {},
   "source": [
    "#### Calculate distances from X using an array of locations in the 2D array Y"
   ]
  },
  {
   "cell_type": "code",
   "execution_count": 406,
   "id": "573328b7-0783-4161-9e1e-a4316d29f231",
   "metadata": {
    "tags": []
   },
   "outputs": [
    {
     "data": {
      "text/plain": [
       "array([[  479.31408256, 11470.55838348,   378.13054497]])"
      ]
     },
     "execution_count": 406,
     "metadata": {},
     "output_type": "execute_result"
    }
   ],
   "source": [
    "# 2D array (or list inside list) of the point of interest; this will be the turbine location! \n",
    "X = [bonn_in_radians]\n",
    "# The three other locations (this will be the grid points)\n",
    "Y = [berlin_in_radians, bsas_in_radians, paris_in_radians]\n",
    "\n",
    "# Calculate distances from Bonn (the point of interest) to the other locations\n",
    "result = haversine_distances(X, Y)\n",
    "result_in_km = result * 6371\n",
    "result_in_km"
   ]
  },
  {
   "cell_type": "code",
   "execution_count": 413,
   "id": "7beb5020-9d0a-41c0-afa8-dcd503cbbf53",
   "metadata": {
    "tags": []
   },
   "outputs": [
    {
     "name": "stdout",
     "output_type": "stream",
     "text": [
      "Distance: 378.13054497006664 km\n",
      "2\n",
      "(56.32, 4.72)\n"
     ]
    }
   ],
   "source": [
    "# Get minimum distance; this will be the closest grid point\n",
    "closest_distance = result_in_km.min()\n",
    "\n",
    "# Index of closest distance\n",
    "idx_closest = np.argmin(result_in_km)\n",
    "\n",
    "print(f'Distance: {closest_distance} km')\n",
    "print(idx_closest)\n",
    "print(grid_points[idx_closest])"
   ]
  },
  {
   "cell_type": "markdown",
   "id": "c1764fa0-e650-4b7e-843e-1ef93e214e10",
   "metadata": {},
   "source": [
    "----"
   ]
  },
  {
   "cell_type": "markdown",
   "id": "84fc7ce3-2b5b-4ea1-98bc-8f499724157d",
   "metadata": {},
   "source": [
    "## Calculating the nearest grid point for every turbine in dataset\n",
    "- And adding the nearest grid point as a new column"
   ]
  },
  {
   "cell_type": "markdown",
   "id": "abb993b9-4ce2-4fe4-853a-0b4405e3498c",
   "metadata": {},
   "source": [
    "### Read in turbine data"
   ]
  },
  {
   "cell_type": "code",
   "execution_count": 566,
   "id": "24cd9223-fd38-4e09-add6-3cbd3fc469a8",
   "metadata": {
    "tags": []
   },
   "outputs": [],
   "source": [
    "# Read in turbine data\n",
    "df = pd.read_pickle(data_push_path / 'df_turbines_knn_wrangled.pkl')"
   ]
  },
  {
   "cell_type": "code",
   "execution_count": 733,
   "id": "693fb7a0-28f0-4c88-826d-640114ff13b2",
   "metadata": {
    "tags": []
   },
   "outputs": [],
   "source": [
    "# Cartesian product of grid latitude and longitude values\n",
    "grid_points = tuple(product(ds.latitude.values, ds.longitude.values))\n",
    "\n",
    "# Nested list comprehension to convert each decimal degree to radians, creating 2D matrix shape (2184, 2)\n",
    "grid_points_radians = np.array([[radians(decimal_degree) for decimal_degree in decimal_degree_pair] for decimal_degree_pair in grid_points])"
   ]
  },
  {
   "cell_type": "markdown",
   "id": "b3353ab3-b13c-49fc-a043-f97f6c629abc",
   "metadata": {},
   "source": [
    "#### Custom function to calculate haversine distances and get nearest grid point"
   ]
  },
  {
   "cell_type": "code",
   "execution_count": 570,
   "id": "a37248ee-1449-438a-b046-4c01773efe09",
   "metadata": {
    "tags": []
   },
   "outputs": [],
   "source": [
    "# This is my most stable func so far\n",
    "def calc_nearest_grid_point(row, grid_points):\n",
    "    # turbine lat, lon decimal degrees in list\n",
    "    turbine_lat_lon = [row.Breitengrad, row.Laengengrad]\n",
    "    # convert decimal degrees to radians and reshape to 2D array\n",
    "    turbine_lat_lon_radians = np.array([[radians(decimal_degree) for decimal_degree in turbine_lat_lon]])\n",
    "    \n",
    "    # Nested list comprehension to convert each grid point's decimal degree to radians, creating 2D matrix shape (2184, 2)\n",
    "    grid_points_radians = np.array([[radians(decimal_degree) for decimal_degree in decimal_degree_pair] for decimal_degree_pair in grid_points])\n",
    "    \n",
    "    # calculate haversine distances of all grid points from turbine\n",
    "    # X is the turbine coords in radians as 2D matrix; Y is grid points in radians as 2D matrix\n",
    "    distances = haversine_distances(turbine_lat_lon_radians, grid_points_radians)\n",
    "    # multiply by Earth radius in km (6371 km) to get distance in km (or radius in m for distance in m)\n",
    "    distances_in_km = distances * 6371\n",
    "    \n",
    "    # Get shortest distance; this is the closest grid point's distance in km\n",
    "    shortest_distance = distances_in_km.min()\n",
    "    # Index of shortest distance\n",
    "    idx_closest = np.argmin(distances_in_km)\n",
    "    # Get lat, lon coords of closest grid point by indexing\n",
    "    nearest_grid_point_to_turbine = grid_points[idx_closest]\n",
    "    \n",
    "    # row['nearest_grid_point'] = nearest_grid_point_to_turbine\n",
    "    \n",
    "    return nearest_grid_point_to_turbine"
   ]
  },
  {
   "cell_type": "code",
   "execution_count": 571,
   "id": "20cfa764-11f9-45c4-9a53-d40e2e0bbf96",
   "metadata": {
    "tags": []
   },
   "outputs": [],
   "source": [
    "# takes c. 1 minute to run\n",
    "# df['nearest_grid_point'] = df[['Breitengrad', 'Laengengrad']].apply(calc_nearest_grid_point, grid_points=grid_points, axis=1)"
   ]
  },
  {
   "cell_type": "code",
   "execution_count": 574,
   "id": "97f141df-9ad9-4ddb-ae67-9c12574660f5",
   "metadata": {
    "tags": []
   },
   "outputs": [],
   "source": [
    "# df.loc[10178, ['Breitengrad', 'Laengengrad', 'nearest_grid_point']]"
   ]
  },
  {
   "cell_type": "code",
   "execution_count": 575,
   "id": "7fba5c6c-f25e-4d6b-b71c-9ddd5033c4e8",
   "metadata": {
    "tags": []
   },
   "outputs": [
    {
     "data": {
      "text/html": [
       "<div>\n",
       "<style scoped>\n",
       "    .dataframe tbody tr th:only-of-type {\n",
       "        vertical-align: middle;\n",
       "    }\n",
       "\n",
       "    .dataframe tbody tr th {\n",
       "        vertical-align: top;\n",
       "    }\n",
       "\n",
       "    .dataframe thead th {\n",
       "        text-align: right;\n",
       "    }\n",
       "</style>\n",
       "<table border=\"1\" class=\"dataframe\">\n",
       "  <thead>\n",
       "    <tr style=\"text-align: right;\">\n",
       "      <th></th>\n",
       "      <th>Breitengrad</th>\n",
       "      <th>Laengengrad</th>\n",
       "      <th>nearest_grid_point</th>\n",
       "    </tr>\n",
       "  </thead>\n",
       "  <tbody>\n",
       "    <tr>\n",
       "      <th>19507</th>\n",
       "      <td>52.000143</td>\n",
       "      <td>12.839271</td>\n",
       "      <td>(52.07, 12.72)</td>\n",
       "    </tr>\n",
       "    <tr>\n",
       "      <th>24366</th>\n",
       "      <td>54.034055</td>\n",
       "      <td>12.189490</td>\n",
       "      <td>(54.07, 12.22)</td>\n",
       "    </tr>\n",
       "    <tr>\n",
       "      <th>24858</th>\n",
       "      <td>51.776701</td>\n",
       "      <td>8.147305</td>\n",
       "      <td>(51.82, 8.22)</td>\n",
       "    </tr>\n",
       "    <tr>\n",
       "      <th>25776</th>\n",
       "      <td>51.104760</td>\n",
       "      <td>6.430310</td>\n",
       "      <td>(51.07, 6.47)</td>\n",
       "    </tr>\n",
       "  </tbody>\n",
       "</table>\n",
       "</div>"
      ],
      "text/plain": [
       "       Breitengrad  Laengengrad nearest_grid_point\n",
       "19507    52.000143    12.839271     (52.07, 12.72)\n",
       "24366    54.034055    12.189490     (54.07, 12.22)\n",
       "24858    51.776701     8.147305      (51.82, 8.22)\n",
       "25776    51.104760     6.430310      (51.07, 6.47)"
      ]
     },
     "execution_count": 575,
     "metadata": {},
     "output_type": "execute_result"
    }
   ],
   "source": [
    "df[['Breitengrad', 'Laengengrad', 'nearest_grid_point']].sample(4)"
   ]
  },
  {
   "cell_type": "markdown",
   "id": "f0069b64-56b5-4009-a5e4-10073f738168",
   "metadata": {},
   "source": [
    "#### Save df as pickle object to save progress"
   ]
  },
  {
   "cell_type": "code",
   "execution_count": 498,
   "id": "318e708c-6bcf-43e4-b6f3-13cab87a08a8",
   "metadata": {
    "tags": []
   },
   "outputs": [],
   "source": [
    "# save df to data to push dir so it lands in GitHub repo\n",
    "# df.to_pickle(data_push_path / 'df_turbines_knn_blades_haversine.pkl')"
   ]
  },
  {
   "cell_type": "markdown",
   "id": "7b9c4832-fb8d-4286-9f26-1af97e0239ed",
   "metadata": {},
   "source": [
    "-----"
   ]
  },
  {
   "cell_type": "markdown",
   "id": "96a67a58-9018-4e3e-8e2f-bf33b84326cd",
   "metadata": {},
   "source": [
    "### Get array of grid points that are unused\n",
    "- 2,184 unique coordinate pairs in CDS\n",
    "- 758 unique used by turbines\n",
    "- 1,426 grid points are unused"
   ]
  },
  {
   "cell_type": "code",
   "execution_count": 738,
   "id": "68100f91-bac7-4696-a88e-ba2c1877e09e",
   "metadata": {
    "tags": []
   },
   "outputs": [],
   "source": [
    "# 2,184 coordinate pairs from CDS data bounding box\n",
    "# 42 latitude x 52 longitude = 2,184\n",
    "grid_points_set = set(grid_points)"
   ]
  },
  {
   "cell_type": "code",
   "execution_count": 740,
   "id": "090d57e7-0347-452d-8d2d-49a927e210b5",
   "metadata": {
    "tags": []
   },
   "outputs": [],
   "source": [
    "# create set of tuples\n",
    "# set(zip(grid_points_array.T[0], grid_points_array.T[1]))"
   ]
  },
  {
   "cell_type": "code",
   "execution_count": 648,
   "id": "2f2eba3b-a08a-44d3-887b-50b169b3b826",
   "metadata": {
    "tags": []
   },
   "outputs": [
    {
     "data": {
      "text/plain": [
       "(758,)"
      ]
     },
     "execution_count": 648,
     "metadata": {},
     "output_type": "execute_result"
    }
   ],
   "source": [
    "# Only 758 are nearest points for turbines\n",
    "# 1,426 grid points are unused out of the 2,184\n",
    "# 1D array of unique tuples\n",
    "used_grid_points = np.unique(df['nearest_grid_point'].to_numpy())\n",
    "used_grid_points.shape"
   ]
  },
  {
   "cell_type": "markdown",
   "id": "f61618ab-ba46-4e2c-9903-342c0c95e097",
   "metadata": {},
   "source": [
    "#### I can use this set of unused grid points to reduce the xarray dataset size"
   ]
  },
  {
   "cell_type": "code",
   "execution_count": 742,
   "id": "b5497fd8-4eab-4db4-92f9-f361aa97b2a6",
   "metadata": {
    "tags": []
   },
   "outputs": [],
   "source": [
    "# Set of used grid points; also 758 since all are unique\n",
    "# I can use these to reduce xarray dataset size! \n",
    "\n",
    "# cast array as set\n",
    "grid_points_used_set = set(used_grid_points)"
   ]
  },
  {
   "cell_type": "code",
   "execution_count": 746,
   "id": "4fdf6fc4-95a8-436e-b535-0f4eff9e887c",
   "metadata": {
    "tags": []
   },
   "outputs": [],
   "source": [
    "# Set of 1,426 unused grid points\n",
    "unused_grid_points = grid_points_set.difference(grid_points_used_set)"
   ]
  },
  {
   "cell_type": "code",
   "execution_count": 749,
   "id": "bff74d1b-1104-457d-99bf-66281b52128e",
   "metadata": {
    "tags": []
   },
   "outputs": [
    {
     "data": {
      "text/plain": [
       "2184"
      ]
     },
     "execution_count": 749,
     "metadata": {},
     "output_type": "execute_result"
    }
   ],
   "source": [
    "len(grid_points_set.union(grid_points_used_set))"
   ]
  },
  {
   "cell_type": "code",
   "execution_count": 745,
   "id": "7326027b-8675-461b-ac38-d02474395fd9",
   "metadata": {
    "tags": []
   },
   "outputs": [],
   "source": [
    "# vertical stack the used grid points and reshape\n",
    "# used_grid_points_2d = np.vstack(np.unique(df['nearest_grid_point'].to_numpy())).reshape(758, 2)\n",
    "# used_grid_points_2d"
   ]
  },
  {
   "cell_type": "code",
   "execution_count": 642,
   "id": "1a85202b-2c32-4185-8955-4c4ad0639749",
   "metadata": {
    "tags": []
   },
   "outputs": [
    {
     "data": {
      "text/plain": [
       "array([56.32, 56.32, 56.32, ..., 46.07, 46.07, 46.07], dtype=float32)"
      ]
     },
     "execution_count": 642,
     "metadata": {},
     "output_type": "execute_result"
    }
   ],
   "source": [
    "# access the 2184 latitudes\n",
    "np.array(grid_points)[:,0]"
   ]
  },
  {
   "cell_type": "code",
   "execution_count": 683,
   "id": "05e2413a-859b-4f06-8325-71f88feb6218",
   "metadata": {
    "tags": []
   },
   "outputs": [
    {
     "data": {
      "text/plain": [
       "array([ 4.22,  4.47,  4.72, ..., 16.47, 16.72, 16.97], dtype=float32)"
      ]
     },
     "execution_count": 683,
     "metadata": {},
     "output_type": "execute_result"
    }
   ],
   "source": [
    "# access the 2184 longitudes\n",
    "np.array(grid_points)[:,1]"
   ]
  },
  {
   "cell_type": "markdown",
   "id": "cbc826df-19a7-4836-aff9-438431315b45",
   "metadata": {},
   "source": [
    "-----"
   ]
  },
  {
   "cell_type": "markdown",
   "id": "7855acc9-29a6-46d2-8289-2c901c1349fc",
   "metadata": {},
   "source": [
    "## Add elevation data for each of the 758 used grid points\n",
    "- Use Open-Elevation. It's a free and open-source alternative to the Google Elevation API and similar offerings\n",
    "    - https://github.com/Jorl17/open-elevation\n",
    "    - https://open-elevation.com/"
   ]
  },
  {
   "cell_type": "markdown",
   "id": "30cf9717-f13c-43d6-a4fe-156e71f9efe8",
   "metadata": {},
   "source": [
    "#### Function that fetches elevation data from Open-Elevation"
   ]
  },
  {
   "cell_type": "code",
   "execution_count": 900,
   "id": "e34b7d62-2b9b-43db-9c56-fac76a3975f1",
   "metadata": {
    "tags": []
   },
   "outputs": [],
   "source": [
    "url_endpoint = \"https://api.open-elevation.com/api/v1/lookup\"\n",
    "\n",
    "def fetch_elevation_data(coordinates):\n",
    "    \"\"\"\n",
    "    Fetch elevations for list of coordinates in lat, lon tuples\n",
    "    \"\"\"\n",
    "    # Format coordinates according to Open-Elevation requirements\n",
    "    # Lat and lons are type float32 (not JSON serializable); cast to Python float64\n",
    "    grid_point_locations = [{\"latitude\": float(lat), \"longitude\": float(lon)} for lat, lon in coordinates]\n",
    "    # Make POST request\n",
    "    response = requests.post(url_endpoint, json={\"locations\": grid_point_locations})\n",
    "    if response.status_code == 200:  \n",
    "        # Decode JSON response object to Python dict\n",
    "        datadict = response.json()\n",
    "        # Return decoded object as dict\n",
    "        return datadict\n",
    "    else:\n",
    "        return f'Request failed'"
   ]
  },
  {
   "cell_type": "code",
   "execution_count": 837,
   "id": "f7f12110-9145-43c4-bf3e-0a31b4617951",
   "metadata": {
    "tags": []
   },
   "outputs": [],
   "source": [
    "# list of lat,lon tuples -> (47.07, 5.72)\n",
    "# Careful: this gives values of type numpy.float32 with is not JSON serializable!\n",
    "coordinates_needing_elevation = used_grid_points.tolist()"
   ]
  },
  {
   "cell_type": "markdown",
   "id": "e1b644cd-7cde-4c0f-a26f-1ed9cdb3498e",
   "metadata": {},
   "source": [
    "#### Call function and fetch data via API"
   ]
  },
  {
   "cell_type": "code",
   "execution_count": 838,
   "id": "5d6e4ae7-d1ca-4ed5-985b-d947b0f5ee88",
   "metadata": {
    "tags": []
   },
   "outputs": [],
   "source": [
    "# Call function to fetch elevation data\n",
    "# elevation_datadict = fetch_elevation_data(coordinates_needing_elevation)"
   ]
  },
  {
   "cell_type": "markdown",
   "id": "ca1da9b4-22b2-429a-bec2-d11cf89f0443",
   "metadata": {},
   "source": [
    "##### Construct dataframe using response data"
   ]
  },
  {
   "cell_type": "code",
   "execution_count": 887,
   "id": "3bdef33c-830c-468c-a69e-052d2b6d68f0",
   "metadata": {
    "tags": []
   },
   "outputs": [
    {
     "name": "stdout",
     "output_type": "stream",
     "text": [
      "<class 'pandas.core.frame.DataFrame'>\n",
      "RangeIndex: 758 entries, 0 to 757\n",
      "Data columns (total 3 columns):\n",
      " #   Column     Non-Null Count  Dtype  \n",
      "---  ------     --------------  -----  \n",
      " 0   latitude   758 non-null    float64\n",
      " 1   longitude  758 non-null    float64\n",
      " 2   elevation  758 non-null    float64\n",
      "dtypes: float64(3)\n",
      "memory usage: 17.9 KB\n"
     ]
    }
   ],
   "source": [
    "# load datadict results into dataframe\n",
    "df_elevations = pd.DataFrame(elevation_datadict['results'])\n",
    "df_elevations.info()"
   ]
  },
  {
   "cell_type": "code",
   "execution_count": 888,
   "id": "9d82a9bc-dfcc-41f8-bcc0-0094e32bfd1d",
   "metadata": {
    "tags": []
   },
   "outputs": [
    {
     "data": {
      "text/html": [
       "<div>\n",
       "<style scoped>\n",
       "    .dataframe tbody tr th:only-of-type {\n",
       "        vertical-align: middle;\n",
       "    }\n",
       "\n",
       "    .dataframe tbody tr th {\n",
       "        vertical-align: top;\n",
       "    }\n",
       "\n",
       "    .dataframe thead th {\n",
       "        text-align: right;\n",
       "    }\n",
       "</style>\n",
       "<table border=\"1\" class=\"dataframe\">\n",
       "  <thead>\n",
       "    <tr style=\"text-align: right;\">\n",
       "      <th></th>\n",
       "      <th>latitude</th>\n",
       "      <th>longitude</th>\n",
       "      <th>elevation</th>\n",
       "      <th>nearest_grid_point</th>\n",
       "    </tr>\n",
       "  </thead>\n",
       "  <tbody>\n",
       "    <tr>\n",
       "      <th>0</th>\n",
       "      <td>47.07</td>\n",
       "      <td>5.72</td>\n",
       "      <td>256.0</td>\n",
       "      <td>(47.07, 5.72)</td>\n",
       "    </tr>\n",
       "    <tr>\n",
       "      <th>1</th>\n",
       "      <td>47.57</td>\n",
       "      <td>7.72</td>\n",
       "      <td>506.0</td>\n",
       "      <td>(47.57, 7.72)</td>\n",
       "    </tr>\n",
       "    <tr>\n",
       "      <th>2</th>\n",
       "      <td>47.57</td>\n",
       "      <td>7.97</td>\n",
       "      <td>435.0</td>\n",
       "      <td>(47.57, 7.97)</td>\n",
       "    </tr>\n",
       "    <tr>\n",
       "      <th>3</th>\n",
       "      <td>47.57</td>\n",
       "      <td>10.22</td>\n",
       "      <td>833.0</td>\n",
       "      <td>(47.57, 10.22)</td>\n",
       "    </tr>\n",
       "    <tr>\n",
       "      <th>4</th>\n",
       "      <td>47.57</td>\n",
       "      <td>10.72</td>\n",
       "      <td>798.0</td>\n",
       "      <td>(47.57, 10.72)</td>\n",
       "    </tr>\n",
       "  </tbody>\n",
       "</table>\n",
       "</div>"
      ],
      "text/plain": [
       "   latitude  longitude  elevation nearest_grid_point\n",
       "0     47.07       5.72      256.0      (47.07, 5.72)\n",
       "1     47.57       7.72      506.0      (47.57, 7.72)\n",
       "2     47.57       7.97      435.0      (47.57, 7.97)\n",
       "3     47.57      10.22      833.0     (47.57, 10.22)\n",
       "4     47.57      10.72      798.0     (47.57, 10.72)"
      ]
     },
     "execution_count": 888,
     "metadata": {},
     "output_type": "execute_result"
    }
   ],
   "source": [
    "# create new column with coordinates as tuples of lat, lon casted as float32 to match dtype in df\n",
    "df_elevations['nearest_grid_point'] = df_elevations.apply(lambda row: (np.float32(row.latitude), np.float32(row.longitude)), axis=1)\n",
    "df_elevations.head()"
   ]
  },
  {
   "cell_type": "code",
   "execution_count": 899,
   "id": "79029776-f75e-4e66-8b9c-cf79ff9ebf92",
   "metadata": {
    "tags": []
   },
   "outputs": [
    {
     "data": {
      "text/plain": [
       "nearest_grid_point\n",
       "True    758\n",
       "Name: count, dtype: int64"
      ]
     },
     "execution_count": 899,
     "metadata": {},
     "output_type": "execute_result"
    }
   ],
   "source": [
    "# tuple objects are equal\n",
    "df_elevations['nearest_grid_point'].isin(df['nearest_grid_point']).value_counts()"
   ]
  },
  {
   "cell_type": "code",
   "execution_count": 892,
   "id": "945e2cec-b9c6-4767-bf81-fd312193824a",
   "metadata": {
    "tags": []
   },
   "outputs": [
    {
     "data": {
      "text/plain": [
       "numpy.float32"
      ]
     },
     "execution_count": 892,
     "metadata": {},
     "output_type": "execute_result"
    }
   ],
   "source": [
    "type(df['nearest_grid_point'].to_list()[0][0])"
   ]
  },
  {
   "cell_type": "code",
   "execution_count": 893,
   "id": "d85e1a9d-55c9-4d7f-b8a0-8ca249b98882",
   "metadata": {
    "tags": []
   },
   "outputs": [
    {
     "data": {
      "text/plain": [
       "numpy.float32"
      ]
     },
     "execution_count": 893,
     "metadata": {},
     "output_type": "execute_result"
    }
   ],
   "source": [
    "type(df_elevations['nearest_grid_point'].to_list()[0][0])"
   ]
  },
  {
   "cell_type": "code",
   "execution_count": 898,
   "id": "82207170-2a64-4a9e-b23a-065e23cded6e",
   "metadata": {
    "tags": []
   },
   "outputs": [
    {
     "name": "stdout",
     "output_type": "stream",
     "text": [
      "set()\n",
      "set()\n"
     ]
    }
   ],
   "source": [
    "# Check that there's no difference between the two sets\n",
    "elevation_set = set(df_elevations['nearest_grid_point'].to_list())\n",
    "print(elevation_set.difference(grid_points_used_set))\n",
    "print(grid_points_used_set.difference(elevation_set))"
   ]
  },
  {
   "cell_type": "markdown",
   "id": "e6bf15be-03d0-401d-892f-6a73c8e6c3db",
   "metadata": {},
   "source": [
    "#### Merge elevation into main `df` using key `nearest_grid_point`"
   ]
  },
  {
   "cell_type": "code",
   "execution_count": null,
   "id": "42bc0efa-626c-4857-9769-77de9b437a81",
   "metadata": {},
   "outputs": [],
   "source": []
  },
  {
   "cell_type": "code",
   "execution_count": null,
   "id": "3c67f04b-1ce1-4597-897a-1714baebcf8f",
   "metadata": {},
   "outputs": [],
   "source": []
  },
  {
   "cell_type": "code",
   "execution_count": null,
   "id": "3024d93e-86ad-4bac-9003-e56c3e6e5ccf",
   "metadata": {},
   "outputs": [],
   "source": []
  },
  {
   "cell_type": "code",
   "execution_count": null,
   "id": "71f0dbd3-c210-43bf-8d7a-077ad798914e",
   "metadata": {},
   "outputs": [],
   "source": []
  },
  {
   "cell_type": "code",
   "execution_count": null,
   "id": "99d202a6-72c2-43e6-9056-981439880295",
   "metadata": {},
   "outputs": [],
   "source": []
  },
  {
   "cell_type": "markdown",
   "id": "7aa0afd3-30d4-41e2-945b-9b17507adf28",
   "metadata": {},
   "source": [
    "----"
   ]
  },
  {
   "cell_type": "markdown",
   "id": "f587780e-bbb6-425f-8ba4-249a9e682352",
   "metadata": {},
   "source": [
    "## Periods/intervals during which turbine is operational "
   ]
  },
  {
   "cell_type": "code",
   "execution_count": 499,
   "id": "b6f950bb-ab70-44ad-8447-dba7c8ee012b",
   "metadata": {
    "tags": []
   },
   "outputs": [
    {
     "name": "stdout",
     "output_type": "stream",
     "text": [
      "<class 'pandas.core.frame.DataFrame'>\n",
      "RangeIndex: 30645 entries, 0 to 30644\n",
      "Data columns (total 26 columns):\n",
      " #   Column                                 Non-Null Count  Dtype         \n",
      "---  ------                                 --------------  -----         \n",
      " 0   EinheitMastrNummer                     30645 non-null  object        \n",
      " 1   DatumLetzteAktualisierung              30645 non-null  datetime64[ns]\n",
      " 2   Bundesland                             30645 non-null  object        \n",
      " 3   Postleitzahl                           30645 non-null  int64         \n",
      " 4   Ort                                    30645 non-null  object        \n",
      " 5   Laengengrad                            30645 non-null  float64       \n",
      " 6   Breitengrad                            30645 non-null  float64       \n",
      " 7   Registrierungsdatum                    30645 non-null  datetime64[ns]\n",
      " 8   Inbetriebnahmedatum                    30645 non-null  datetime64[ns]\n",
      " 9   EinheitBetriebsstatus                  30645 non-null  object        \n",
      " 10  DatumEndgueltigeStilllegung            1158 non-null   datetime64[ns]\n",
      " 11  DatumBeginnVoruebergehendeStilllegung  68 non-null     datetime64[ns]\n",
      " 12  DatumWiederaufnahmeBetrieb             6 non-null      datetime64[ns]\n",
      " 13  NameStromerzeugungseinheit             30645 non-null  object        \n",
      " 14  Nettonennleistung                      30645 non-null  float64       \n",
      " 15  AnschlussAnHoechstOderHochSpannung     22071 non-null  float64       \n",
      " 16  Einspeisungsart                        30207 non-null  object        \n",
      " 17  NameWindpark                           29859 non-null  object        \n",
      " 18  Hersteller                             30388 non-null  object        \n",
      " 19  Technologie                            30645 non-null  object        \n",
      " 20  Typenbezeichnung                       30383 non-null  object        \n",
      " 21  Nabenhoehe                             30645 non-null  float64       \n",
      " 22  Rotordurchmesser                       30645 non-null  float64       \n",
      " 23  Rotorblattenteisungssystem             23266 non-null  float64       \n",
      " 24  area_blades                            30645 non-null  int64         \n",
      " 25  nearest_grid_point                     30645 non-null  object        \n",
      "dtypes: datetime64[ns](6), float64(7), int64(2), object(11)\n",
      "memory usage: 6.1+ MB\n"
     ]
    }
   ],
   "source": [
    "df.info()"
   ]
  },
  {
   "cell_type": "code",
   "execution_count": 503,
   "id": "b301c958-c7d0-40df-8f1f-a4d01efa6e21",
   "metadata": {
    "tags": []
   },
   "outputs": [],
   "source": [
    "date_columns = [\n",
    "    'Inbetriebnahmedatum', \n",
    "    'DatumEndgueltigeStilllegung',\n",
    "    'DatumBeginnVoruebergehendeStilllegung',\n",
    "    'DatumWiederaufnahmeBetrieb',\n",
    "]"
   ]
  },
  {
   "cell_type": "code",
   "execution_count": 519,
   "id": "5e351359-24d0-478e-bc32-3e4714d54cdd",
   "metadata": {
    "tags": []
   },
   "outputs": [
    {
     "data": {
      "text/html": [
       "<div>\n",
       "<style scoped>\n",
       "    .dataframe tbody tr th:only-of-type {\n",
       "        vertical-align: middle;\n",
       "    }\n",
       "\n",
       "    .dataframe tbody tr th {\n",
       "        vertical-align: top;\n",
       "    }\n",
       "\n",
       "    .dataframe thead th {\n",
       "        text-align: right;\n",
       "    }\n",
       "</style>\n",
       "<table border=\"1\" class=\"dataframe\">\n",
       "  <thead>\n",
       "    <tr style=\"text-align: right;\">\n",
       "      <th></th>\n",
       "      <th>Inbetriebnahmedatum</th>\n",
       "      <th>DatumEndgueltigeStilllegung</th>\n",
       "      <th>DatumBeginnVoruebergehendeStilllegung</th>\n",
       "      <th>DatumWiederaufnahmeBetrieb</th>\n",
       "    </tr>\n",
       "  </thead>\n",
       "  <tbody>\n",
       "    <tr>\n",
       "      <th>8812</th>\n",
       "      <td>2010-03-25</td>\n",
       "      <td>2020-07-15</td>\n",
       "      <td>2020-07-14</td>\n",
       "      <td>NaT</td>\n",
       "    </tr>\n",
       "    <tr>\n",
       "      <th>8818</th>\n",
       "      <td>2010-03-23</td>\n",
       "      <td>2020-07-14</td>\n",
       "      <td>2020-07-13</td>\n",
       "      <td>NaT</td>\n",
       "    </tr>\n",
       "    <tr>\n",
       "      <th>8824</th>\n",
       "      <td>2010-03-18</td>\n",
       "      <td>2020-07-25</td>\n",
       "      <td>2020-07-24</td>\n",
       "      <td>NaT</td>\n",
       "    </tr>\n",
       "    <tr>\n",
       "      <th>8841</th>\n",
       "      <td>2010-03-19</td>\n",
       "      <td>2020-05-29</td>\n",
       "      <td>2020-05-28</td>\n",
       "      <td>NaT</td>\n",
       "    </tr>\n",
       "    <tr>\n",
       "      <th>8842</th>\n",
       "      <td>2010-03-22</td>\n",
       "      <td>2020-07-23</td>\n",
       "      <td>2020-07-22</td>\n",
       "      <td>NaT</td>\n",
       "    </tr>\n",
       "    <tr>\n",
       "      <th>8845</th>\n",
       "      <td>2010-03-19</td>\n",
       "      <td>2020-07-17</td>\n",
       "      <td>2020-07-16</td>\n",
       "      <td>NaT</td>\n",
       "    </tr>\n",
       "    <tr>\n",
       "      <th>8878</th>\n",
       "      <td>2003-12-06</td>\n",
       "      <td>2020-08-11</td>\n",
       "      <td>2020-08-10</td>\n",
       "      <td>NaT</td>\n",
       "    </tr>\n",
       "    <tr>\n",
       "      <th>8955</th>\n",
       "      <td>2009-09-25</td>\n",
       "      <td>2020-08-19</td>\n",
       "      <td>2020-08-18</td>\n",
       "      <td>NaT</td>\n",
       "    </tr>\n",
       "    <tr>\n",
       "      <th>8958</th>\n",
       "      <td>2009-09-17</td>\n",
       "      <td>2020-06-25</td>\n",
       "      <td>2020-06-24</td>\n",
       "      <td>NaT</td>\n",
       "    </tr>\n",
       "    <tr>\n",
       "      <th>8960</th>\n",
       "      <td>2009-09-25</td>\n",
       "      <td>2020-06-23</td>\n",
       "      <td>2020-06-22</td>\n",
       "      <td>NaT</td>\n",
       "    </tr>\n",
       "    <tr>\n",
       "      <th>9869</th>\n",
       "      <td>2002-12-11</td>\n",
       "      <td>2019-09-02</td>\n",
       "      <td>2019-09-01</td>\n",
       "      <td>NaT</td>\n",
       "    </tr>\n",
       "    <tr>\n",
       "      <th>9870</th>\n",
       "      <td>2002-12-11</td>\n",
       "      <td>2019-09-02</td>\n",
       "      <td>2019-09-01</td>\n",
       "      <td>NaT</td>\n",
       "    </tr>\n",
       "    <tr>\n",
       "      <th>12987</th>\n",
       "      <td>1997-07-22</td>\n",
       "      <td>2022-01-10</td>\n",
       "      <td>2021-09-15</td>\n",
       "      <td>NaT</td>\n",
       "    </tr>\n",
       "    <tr>\n",
       "      <th>14988</th>\n",
       "      <td>1998-06-22</td>\n",
       "      <td>2020-12-16</td>\n",
       "      <td>2020-12-15</td>\n",
       "      <td>NaT</td>\n",
       "    </tr>\n",
       "    <tr>\n",
       "      <th>18186</th>\n",
       "      <td>1998-05-18</td>\n",
       "      <td>2022-03-29</td>\n",
       "      <td>2021-09-14</td>\n",
       "      <td>NaT</td>\n",
       "    </tr>\n",
       "    <tr>\n",
       "      <th>18187</th>\n",
       "      <td>1998-05-19</td>\n",
       "      <td>2022-03-29</td>\n",
       "      <td>2021-09-14</td>\n",
       "      <td>NaT</td>\n",
       "    </tr>\n",
       "    <tr>\n",
       "      <th>19415</th>\n",
       "      <td>1997-12-01</td>\n",
       "      <td>2022-05-31</td>\n",
       "      <td>2021-05-01</td>\n",
       "      <td>NaT</td>\n",
       "    </tr>\n",
       "    <tr>\n",
       "      <th>26200</th>\n",
       "      <td>2012-12-12</td>\n",
       "      <td>2022-05-02</td>\n",
       "      <td>2022-05-01</td>\n",
       "      <td>NaT</td>\n",
       "    </tr>\n",
       "    <tr>\n",
       "      <th>26331</th>\n",
       "      <td>2004-12-30</td>\n",
       "      <td>2019-04-19</td>\n",
       "      <td>2019-04-18</td>\n",
       "      <td>NaT</td>\n",
       "    </tr>\n",
       "    <tr>\n",
       "      <th>29052</th>\n",
       "      <td>1992-07-15</td>\n",
       "      <td>2022-11-14</td>\n",
       "      <td>2021-01-01</td>\n",
       "      <td>NaT</td>\n",
       "    </tr>\n",
       "    <tr>\n",
       "      <th>30340</th>\n",
       "      <td>2021-12-14</td>\n",
       "      <td>2022-04-06</td>\n",
       "      <td>2022-03-01</td>\n",
       "      <td>NaT</td>\n",
       "    </tr>\n",
       "  </tbody>\n",
       "</table>\n",
       "</div>"
      ],
      "text/plain": [
       "      Inbetriebnahmedatum DatumEndgueltigeStilllegung  \\\n",
       "8812           2010-03-25                  2020-07-15   \n",
       "8818           2010-03-23                  2020-07-14   \n",
       "8824           2010-03-18                  2020-07-25   \n",
       "8841           2010-03-19                  2020-05-29   \n",
       "8842           2010-03-22                  2020-07-23   \n",
       "8845           2010-03-19                  2020-07-17   \n",
       "8878           2003-12-06                  2020-08-11   \n",
       "8955           2009-09-25                  2020-08-19   \n",
       "8958           2009-09-17                  2020-06-25   \n",
       "8960           2009-09-25                  2020-06-23   \n",
       "9869           2002-12-11                  2019-09-02   \n",
       "9870           2002-12-11                  2019-09-02   \n",
       "12987          1997-07-22                  2022-01-10   \n",
       "14988          1998-06-22                  2020-12-16   \n",
       "18186          1998-05-18                  2022-03-29   \n",
       "18187          1998-05-19                  2022-03-29   \n",
       "19415          1997-12-01                  2022-05-31   \n",
       "26200          2012-12-12                  2022-05-02   \n",
       "26331          2004-12-30                  2019-04-19   \n",
       "29052          1992-07-15                  2022-11-14   \n",
       "30340          2021-12-14                  2022-04-06   \n",
       "\n",
       "      DatumBeginnVoruebergehendeStilllegung DatumWiederaufnahmeBetrieb  \n",
       "8812                             2020-07-14                        NaT  \n",
       "8818                             2020-07-13                        NaT  \n",
       "8824                             2020-07-24                        NaT  \n",
       "8841                             2020-05-28                        NaT  \n",
       "8842                             2020-07-22                        NaT  \n",
       "8845                             2020-07-16                        NaT  \n",
       "8878                             2020-08-10                        NaT  \n",
       "8955                             2020-08-18                        NaT  \n",
       "8958                             2020-06-24                        NaT  \n",
       "8960                             2020-06-22                        NaT  \n",
       "9869                             2019-09-01                        NaT  \n",
       "9870                             2019-09-01                        NaT  \n",
       "12987                            2021-09-15                        NaT  \n",
       "14988                            2020-12-15                        NaT  \n",
       "18186                            2021-09-14                        NaT  \n",
       "18187                            2021-09-14                        NaT  \n",
       "19415                            2021-05-01                        NaT  \n",
       "26200                            2022-05-01                        NaT  \n",
       "26331                            2019-04-18                        NaT  \n",
       "29052                            2021-01-01                        NaT  \n",
       "30340                            2022-03-01                        NaT  "
      ]
     },
     "execution_count": 519,
     "metadata": {},
     "output_type": "execute_result"
    }
   ],
   "source": [
    "df[date_columns][(df['DatumEndgueltigeStilllegung'].notna()) & (df['DatumBeginnVoruebergehendeStilllegung'].notna())]"
   ]
  },
  {
   "cell_type": "code",
   "execution_count": 524,
   "id": "09bab2f8-af4b-4667-8366-ace8e8dddf61",
   "metadata": {
    "tags": []
   },
   "outputs": [
    {
     "data": {
      "text/html": [
       "<div>\n",
       "<style scoped>\n",
       "    .dataframe tbody tr th:only-of-type {\n",
       "        vertical-align: middle;\n",
       "    }\n",
       "\n",
       "    .dataframe tbody tr th {\n",
       "        vertical-align: top;\n",
       "    }\n",
       "\n",
       "    .dataframe thead th {\n",
       "        text-align: right;\n",
       "    }\n",
       "</style>\n",
       "<table border=\"1\" class=\"dataframe\">\n",
       "  <thead>\n",
       "    <tr style=\"text-align: right;\">\n",
       "      <th></th>\n",
       "      <th>Inbetriebnahmedatum</th>\n",
       "      <th>DatumEndgueltigeStilllegung</th>\n",
       "      <th>DatumBeginnVoruebergehendeStilllegung</th>\n",
       "      <th>DatumWiederaufnahmeBetrieb</th>\n",
       "    </tr>\n",
       "  </thead>\n",
       "  <tbody>\n",
       "    <tr>\n",
       "      <th>26</th>\n",
       "      <td>2000-08-03</td>\n",
       "      <td>2021-03-01</td>\n",
       "      <td>NaT</td>\n",
       "      <td>NaT</td>\n",
       "    </tr>\n",
       "    <tr>\n",
       "      <th>27</th>\n",
       "      <td>2000-08-04</td>\n",
       "      <td>2021-03-01</td>\n",
       "      <td>NaT</td>\n",
       "      <td>NaT</td>\n",
       "    </tr>\n",
       "    <tr>\n",
       "      <th>28</th>\n",
       "      <td>2000-08-03</td>\n",
       "      <td>2021-03-01</td>\n",
       "      <td>NaT</td>\n",
       "      <td>NaT</td>\n",
       "    </tr>\n",
       "    <tr>\n",
       "      <th>29</th>\n",
       "      <td>2000-08-09</td>\n",
       "      <td>2021-03-01</td>\n",
       "      <td>NaT</td>\n",
       "      <td>NaT</td>\n",
       "    </tr>\n",
       "    <tr>\n",
       "      <th>30</th>\n",
       "      <td>2000-08-07</td>\n",
       "      <td>2021-03-01</td>\n",
       "      <td>NaT</td>\n",
       "      <td>NaT</td>\n",
       "    </tr>\n",
       "    <tr>\n",
       "      <th>...</th>\n",
       "      <td>...</td>\n",
       "      <td>...</td>\n",
       "      <td>...</td>\n",
       "      <td>...</td>\n",
       "    </tr>\n",
       "    <tr>\n",
       "      <th>30336</th>\n",
       "      <td>2012-06-25</td>\n",
       "      <td>2019-02-15</td>\n",
       "      <td>NaT</td>\n",
       "      <td>NaT</td>\n",
       "    </tr>\n",
       "    <tr>\n",
       "      <th>30476</th>\n",
       "      <td>2022-05-27</td>\n",
       "      <td>2023-05-01</td>\n",
       "      <td>NaT</td>\n",
       "      <td>NaT</td>\n",
       "    </tr>\n",
       "    <tr>\n",
       "      <th>30485</th>\n",
       "      <td>2022-03-01</td>\n",
       "      <td>2022-04-26</td>\n",
       "      <td>NaT</td>\n",
       "      <td>NaT</td>\n",
       "    </tr>\n",
       "    <tr>\n",
       "      <th>30543</th>\n",
       "      <td>2021-05-14</td>\n",
       "      <td>2022-05-16</td>\n",
       "      <td>NaT</td>\n",
       "      <td>NaT</td>\n",
       "    </tr>\n",
       "    <tr>\n",
       "      <th>30577</th>\n",
       "      <td>2022-12-05</td>\n",
       "      <td>2023-02-01</td>\n",
       "      <td>NaT</td>\n",
       "      <td>NaT</td>\n",
       "    </tr>\n",
       "  </tbody>\n",
       "</table>\n",
       "<p>1136 rows × 4 columns</p>\n",
       "</div>"
      ],
      "text/plain": [
       "      Inbetriebnahmedatum DatumEndgueltigeStilllegung  \\\n",
       "26             2000-08-03                  2021-03-01   \n",
       "27             2000-08-04                  2021-03-01   \n",
       "28             2000-08-03                  2021-03-01   \n",
       "29             2000-08-09                  2021-03-01   \n",
       "30             2000-08-07                  2021-03-01   \n",
       "...                   ...                         ...   \n",
       "30336          2012-06-25                  2019-02-15   \n",
       "30476          2022-05-27                  2023-05-01   \n",
       "30485          2022-03-01                  2022-04-26   \n",
       "30543          2021-05-14                  2022-05-16   \n",
       "30577          2022-12-05                  2023-02-01   \n",
       "\n",
       "      DatumBeginnVoruebergehendeStilllegung DatumWiederaufnahmeBetrieb  \n",
       "26                                      NaT                        NaT  \n",
       "27                                      NaT                        NaT  \n",
       "28                                      NaT                        NaT  \n",
       "29                                      NaT                        NaT  \n",
       "30                                      NaT                        NaT  \n",
       "...                                     ...                        ...  \n",
       "30336                                   NaT                        NaT  \n",
       "30476                                   NaT                        NaT  \n",
       "30485                                   NaT                        NaT  \n",
       "30543                                   NaT                        NaT  \n",
       "30577                                   NaT                        NaT  \n",
       "\n",
       "[1136 rows x 4 columns]"
      ]
     },
     "execution_count": 524,
     "metadata": {},
     "output_type": "execute_result"
    }
   ],
   "source": [
    "# Turbines that went into operation and were decommissioned without temporary shut-downs\n",
    "df[date_columns][(df['DatumEndgueltigeStilllegung'].notna()) & (df['DatumBeginnVoruebergehendeStilllegung'].isna()) &\n",
    "                (df['DatumWiederaufnahmeBetrieb'].isna())]"
   ]
  },
  {
   "cell_type": "code",
   "execution_count": 516,
   "id": "67cee3eb-4d5f-4780-9f6a-3a122115f5cd",
   "metadata": {
    "tags": []
   },
   "outputs": [
    {
     "data": {
      "text/plain": [
       "Timestamp('2022-01-01 00:00:00')"
      ]
     },
     "execution_count": 516,
     "metadata": {},
     "output_type": "execute_result"
    }
   ],
   "source": [
    "pd.Period('2022', freq='A').start_time"
   ]
  },
  {
   "cell_type": "code",
   "execution_count": 517,
   "id": "3a419bd6-c6bd-48fb-865d-8c9574bf1233",
   "metadata": {
    "tags": []
   },
   "outputs": [
    {
     "data": {
      "text/plain": [
       "Timestamp('2022-12-31 23:59:59.999999999')"
      ]
     },
     "execution_count": 517,
     "metadata": {},
     "output_type": "execute_result"
    }
   ],
   "source": [
    "pd.Period('2022', freq='A').end_time"
   ]
  },
  {
   "cell_type": "code",
   "execution_count": null,
   "id": "e02b8cd6-dd52-4be0-bf4f-e6069875252f",
   "metadata": {},
   "outputs": [],
   "source": []
  }
 ],
 "metadata": {
  "kernelspec": {
   "display_name": "course_project",
   "language": "python",
   "name": "course_project"
  },
  "language_info": {
   "codemirror_mode": {
    "name": "ipython",
    "version": 3
   },
   "file_extension": ".py",
   "mimetype": "text/x-python",
   "name": "python",
   "nbconvert_exporter": "python",
   "pygments_lexer": "ipython3",
   "version": "3.10.12"
  }
 },
 "nbformat": 4,
 "nbformat_minor": 5
}
