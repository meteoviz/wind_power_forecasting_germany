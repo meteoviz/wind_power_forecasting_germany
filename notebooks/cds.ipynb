{
 "cells": [
  {
   "cell_type": "markdown",
   "id": "8fa8fb6c-b702-4bdc-8c46-bd9c61ace39e",
   "metadata": {},
   "source": [
    "# Copernicus Climate Data Store (CDS) API\n",
    "- CDS documentation: https://confluence.ecmwf.int/display/CKB/Climate+Data+Store+%28CDS%29+documentation\n",
    "- Developer and API documentation: https://cds.climate.copernicus.eu/toolbox/doc/index.html\n",
    "- Use bboxfinder tool to select a suitable geographic bounding box: http://bboxfinder.com"
   ]
  },
  {
   "cell_type": "code",
   "execution_count": 1,
   "id": "9187ec16-cff9-448e-baa1-bc624322c249",
   "metadata": {
    "tags": []
   },
   "outputs": [],
   "source": [
    "from pathlib import Path\n",
    "\n",
    "import cdsapi\n",
    "import numpy as np\n",
    "import pandas as pd"
   ]
  },
  {
   "cell_type": "code",
   "execution_count": 12,
   "id": "cdc11c87-a2b2-4688-876c-56b7d3cc1c3f",
   "metadata": {
    "tags": []
   },
   "outputs": [],
   "source": [
    "# Directory where data files will be downloaded\n",
    "cwd_path = Path.cwd()\n",
    "data_path = cwd_path.parent / 'data'"
   ]
  },
  {
   "cell_type": "code",
   "execution_count": 13,
   "id": "4be9cd56-ce94-49b3-ba5f-1cdf577bfcee",
   "metadata": {
    "tags": []
   },
   "outputs": [
    {
     "data": {
      "text/plain": [
       "PosixPath('/Users/brand/my_code/meteoviz/course_project/data')"
      ]
     },
     "execution_count": 13,
     "metadata": {},
     "output_type": "execute_result"
    }
   ],
   "source": [
    "data_path"
   ]
  },
  {
   "cell_type": "code",
   "execution_count": 14,
   "id": "d6542a7e-1144-4e07-93cb-c922f673261f",
   "metadata": {
    "tags": []
   },
   "outputs": [
    {
     "name": "stdout",
     "output_type": "stream",
     "text": [
      "https://cds.climate.copernicus.eu/api/v2\n",
      "True\n",
      "60\n"
     ]
    }
   ],
   "source": [
    "# Make sure api key is in dot file in home dir\n",
    "cds = cdsapi.Client()\n",
    "print(cds.url)\n",
    "print(cds.verify)\n",
    "print(cds.timeout)"
   ]
  },
  {
   "cell_type": "markdown",
   "id": "e49d5268-2caf-40c4-a8f5-9ae3e6294396",
   "metadata": {},
   "source": [
    "#### Forming the API request\n",
    "- From the documentation: \"We strongly suggest to construct CDS API requests by using the CDS web interface of the relevant dataset and using the 'Show API request' button to get the code.\""
   ]
  },
  {
   "cell_type": "markdown",
   "id": "1d1bdb9c-7b59-4712-865e-323f63002eed",
   "metadata": {},
   "source": [
    "#### Suitable geographic bounding box that contains all of Germany\n",
    "- Box coordinates (long,lat): 4.218,46.073,17.028,56.377\n",
    "- CDS needs it in North(0 to 90), West(0 to -180), South(0 to -90), East (0 to 180). Default: global\n",
    "    - That's `[56.38, 4.22, 46.07, 17.03]`"
   ]
  },
  {
   "cell_type": "markdown",
   "id": "c85ecd32-415d-4b10-a03e-7152d70359d7",
   "metadata": {},
   "source": [
    "#### Data size and request duration\n",
    "- One year of hourly 100m and 10m wind components (4 variables) for above bounding box is 150 MB\n",
    "- API call took 17 minutes from queued, running to completed\n",
    "\n",
    "#### Variables of interest\n",
    "- `100m_u-component_of_wind`, `100m_v-component_of_wind` and 10m components have units `m s**-1` and  are single level, instantanous parameters\n",
    "- instantaneous: Although they are valid at the specified time, and NOT an average over the model time step, such parameters cannot represent variability on short time scales. This arises because the model values are a grid box average, without variability on spatial scales smaller than the grid"
   ]
  },
  {
   "cell_type": "code",
   "execution_count": 22,
   "id": "34d5f5a7-edb1-4bb0-9849-e9ade21108a5",
   "metadata": {
    "tags": []
   },
   "outputs": [
    {
     "name": "stderr",
     "output_type": "stream",
     "text": [
      "2023-08-27 19:45:59,951 INFO Welcome to the CDS\n",
      "2023-08-27 19:45:59,952 INFO Sending request to https://cds.climate.copernicus.eu/api/v2/resources/reanalysis-era5-single-levels\n",
      "2023-08-27 19:46:00,046 INFO Request is queued\n",
      "2023-08-27 19:46:01,127 INFO Request is running\n",
      "2023-08-27 20:04:21,292 INFO Request is completed\n",
      "2023-08-27 20:04:21,293 INFO Downloading https://download-0008-clone.copernicus-climate.eu/cache-compute-0008/cache/data6/adaptor.mars.internal-1693159264.857704-31102-17-b5d2bf2f-fdcd-4ae0-9805-31aef5dfb1fd.nc to /Users/brand/my_code/meteoviz/course_project/data/wind_data.nc (146M)\n",
      "2023-08-27 20:04:51,669 INFO Download rate 4.8M/s                             \n"
     ]
    },
    {
     "data": {
      "text/plain": [
       "Result(content_length=153091976,content_type=application/x-netcdf,location=https://download-0008-clone.copernicus-climate.eu/cache-compute-0008/cache/data6/adaptor.mars.internal-1693159264.857704-31102-17-b5d2bf2f-fdcd-4ae0-9805-31aef5dfb1fd.nc)"
      ]
     },
     "execution_count": 22,
     "metadata": {},
     "output_type": "execute_result"
    }
   ],
   "source": [
    "# # Get hourly 10m and 100m wind components for one year\n",
    "# cds.retrieve(\n",
    "#     'reanalysis-era5-single-levels',\n",
    "#     {\n",
    "#         'product_type': 'reanalysis',\n",
    "#         'format': 'netcdf',\n",
    "#         'variable': [\n",
    "#             '100m_u_component_of_wind', '100m_v_component_of_wind', '10m_u_component_of_wind',\n",
    "#             '10m_v_component_of_wind',\n",
    "#         ],\n",
    "#         'year': '2022',\n",
    "#         'month': [\n",
    "#             '01', '02', '03',\n",
    "#             '04', '05', '06',\n",
    "#             '07', '08', '09',\n",
    "#             '10', '11', '12',\n",
    "#         ],\n",
    "#         'day': [\n",
    "#             '01', '02', '03',\n",
    "#             '04', '05', '06',\n",
    "#             '07', '08', '09',\n",
    "#             '10', '11', '12',\n",
    "#             '13', '14', '15',\n",
    "#             '16', '17', '18',\n",
    "#             '19', '20', '21',\n",
    "#             '22', '23', '24',\n",
    "#             '25', '26', '27',\n",
    "#             '28', '29', '30',\n",
    "#             '31',\n",
    "#         ],\n",
    "#         'time': [\n",
    "#             '00:00', '01:00', '02:00',\n",
    "#             '03:00', '04:00', '05:00',\n",
    "#             '06:00', '07:00', '08:00',\n",
    "#             '09:00', '10:00', '11:00',\n",
    "#             '12:00', '13:00', '14:00',\n",
    "#             '15:00', '16:00', '17:00',\n",
    "#             '18:00', '19:00', '20:00',\n",
    "#             '21:00', '22:00', '23:00',\n",
    "#         ],\n",
    "#         'area': [\n",
    "#             56.38, 4.22, 46.07,\n",
    "#             17.03,\n",
    "#         ],\n",
    "#     },\n",
    "#     str(data_path.joinpath('wind_data.nc')))"
   ]
  },
  {
   "cell_type": "markdown",
   "id": "c39a4c14-268c-40d5-ac58-52f6e1b3bfa9",
   "metadata": {},
   "source": [
    "#### Note\n",
    "- Is the projection of the grid: equal-area EPSG:3035 projection? \n",
    "- Grid resolution should be 30km x 30km\n",
    "    - ERA5 data is referenced in the horizontal with respect to the WGS84 ellipse (which defines the major/minor axes) and in the vertical it is referenced to the EGM96 geoid over land but over ocean it is referenced to mean sea level, with the approximation that this is assumed to be coincident with the geoid\n",
    "    - The native grid is the reduced Gaussian grid N320"
   ]
  },
  {
   "cell_type": "markdown",
   "id": "f2d7ff5a-66d8-461f-b707-867b39105c0d",
   "metadata": {},
   "source": [
    "#### Reading and writing netCDF files in Xarray\n",
    "- https://docs.xarray.dev/en/stable/user-guide/io.html"
   ]
  },
  {
   "cell_type": "code",
   "execution_count": null,
   "id": "4e81b2bb-eaa4-4282-ba61-f865640a9550",
   "metadata": {},
   "outputs": [],
   "source": []
  }
 ],
 "metadata": {
  "kernelspec": {
   "display_name": "course_project",
   "language": "python",
   "name": "course_project"
  },
  "language_info": {
   "codemirror_mode": {
    "name": "ipython",
    "version": 3
   },
   "file_extension": ".py",
   "mimetype": "text/x-python",
   "name": "python",
   "nbconvert_exporter": "python",
   "pygments_lexer": "ipython3",
   "version": "3.10.12"
  }
 },
 "nbformat": 4,
 "nbformat_minor": 5
}
