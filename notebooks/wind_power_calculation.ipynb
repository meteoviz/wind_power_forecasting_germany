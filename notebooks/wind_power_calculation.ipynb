{
 "cells": [
  {
   "cell_type": "markdown",
   "id": "2bae4812-4ba9-4f8c-96ae-eaf4d7d54762",
   "metadata": {},
   "source": [
    "# Wind power calculation"
   ]
  },
  {
   "cell_type": "code",
   "execution_count": 73,
   "id": "7790d52b-7748-4ab5-9a62-7d113e1c7fb7",
   "metadata": {
    "tags": []
   },
   "outputs": [],
   "source": [
    "from pathlib import Path\n",
    "import math\n",
    "\n",
    "import pandas as pd\n",
    "import numpy as np\n",
    "from scipy.interpolate import RegularGridInterpolator"
   ]
  },
  {
   "cell_type": "code",
   "execution_count": 2,
   "id": "7c1a4ccf-ecaf-42cc-acca-b6351aa2bcba",
   "metadata": {
    "tags": []
   },
   "outputs": [],
   "source": [
    "# Directory where data files will be downloaded\n",
    "cwd_path = Path.cwd()\n",
    "data_path = cwd_path.parent.joinpath('data')\n",
    "data_push_path = cwd_path.parent.joinpath('data_to_push')"
   ]
  },
  {
   "cell_type": "code",
   "execution_count": 3,
   "id": "e78aafc8-008b-4f9c-b97a-d2a9d89f3653",
   "metadata": {
    "tags": []
   },
   "outputs": [],
   "source": [
    "# Read in latest turbine data\n",
    "# Now only 30,642 after removing 3 turbines outside bounding box\n",
    "df = pd.read_pickle(data_push_path / 'df_turbines_knn_blades_haversine_elevation.pkl')"
   ]
  },
  {
   "cell_type": "markdown",
   "id": "90b6e343-aa19-4d0c-8d11-4de3789eacef",
   "metadata": {},
   "source": [
    "## Wind power density (WPD) equation with extra terms\n",
    "My equations are as follows:  \n",
    "\n",
    "- `WPD = (1/2) * (air_density) * (area_blades_swept) * (wind_velocity**3) * (turbine_efficiency)`\n",
    "- `P_net = WPD * turbine_efficiency - P_required`\n",
    "\n",
    "#### Variable descriptions:\n",
    "- `WPD` is the wind power density in watts/m^2 (W/m^2)\n",
    "    - Units also sometimes written as Wm^-2\n",
    "- Assume constant air density of 1.225 kg/m3\n",
    "    - considered constant and equal to $1.22\\,{\\text{ }}kg{m^{ - 3}}$, according to a standard atmosphere from the International Organization for Standardization\n",
    "- `turbine_efficiency` is what % of the WPD is converted to electrical energy fed into the grid \n",
    "    - Betz limit (Cp) is 0.59 or 59%. This is the theoretical maximum efficiency converting wind power density (WPD) to electricity (assuming no other losses)\n",
    "    - In reality, most turbines extract about 20-50% (fairly large range and depends on turbine's power curve)\n",
    "    - Assume 45% converting WPD to rotational energy for the generator; here and further reduce this \n",
    "    - Turbine generator efficiency converting mechanical energy to electricity is typically around 0.8 to 0.9 (80-90%)\n",
    "    - Lump this in with Betz limit to create overall efficiency factor\n",
    "    - If WPD to generator efficiency is 50%, and generator efficiency is 80%, total turbine efficiency can be approximated like this:\n",
    "        - 0.5 × 0.8 = 0.4 (40% overall efficiency)\n",
    "- `P_required` is the electricity required by the wind turbine to operate (in watts)\n",
    "    - \"These turbines are equipped with more advanced systems such as yaw systems to orient the turbine towards the wind, advanced control systems, cooling systems for the generator, heating systems for de-icing, and sometimes hydraulic systems. The operational consumption for such turbines typically ranges from 10,000 to 50,000 Watts (10-50 kW) or 10-50 kWh for one hour.\"\n",
    "- `P_net` is the total net power in watts fed to the grid\n",
    "\n",
    "#### Note: a reminder that MW is a unit of _power_ and MWh is a unit of _energy_!\n",
    "- Power is watts (W)\n",
    "- Energy is watt-hours (Wh)"
   ]
  },
  {
   "cell_type": "markdown",
   "id": "bfee9004-01af-41fc-890a-ce2ff587b941",
   "metadata": {},
   "source": [
    "-----"
   ]
  },
  {
   "cell_type": "markdown",
   "id": "e57fa013-1dc2-40db-a64f-fa3fa1288163",
   "metadata": {},
   "source": [
    "### Calculate hourly net energy output in MWh for one turbine\n",
    "\n",
    "#### Ideas and questions:\n",
    "- Use an overall turbine efficiency of 40% (rationale explained above)\n",
    "- Use net nominal power value (Nettonennleistung) to calculate power_required to operate the turbine itself\n",
    "    - Turbines require around 1-3% of their net nominal power to operate every hour\n",
    "    - These values from wind turbine dataset are in kW!\n",
    "    - Let's approximate using 1%\n",
    "- Cut-in and cut-out wind speeds? \n",
    "    - How and where to include the typical turbine 'cut-in wind speed', the minimum wind speed needed for turbine to start running?\n",
    "        - This is typically 3-5 m/s\n",
    "    - Should I cap calculated hub height wind speed to 25 m/s? (can turbines actually take advantage of higher speeds?)\n",
    "    - \"These cut-out values reflect the typical range in which wind turbines can produce electrical power. A rated regime is not considered here since the analysis is not focused on a specific turbine wind power generation\"\n",
    "        - This is applicable to my project as well\n",
    "    - Reference under section Power Control: https://en.wikipedia.org/wiki/Wind_turbine_design#:~:text=A%20wind%20turbine%20must%20produce,power%20has%20to%20be%20limited\n",
    "    - Note: cut-off speed seems to be speed at which turbine is shut off and produces no power at all?\n",
    "- Also approximate rated/nominal wind speed at 11.2 m/s\n",
    "    - This is the wind speed above which the turbine does NOT produce more energy\n",
    "    - Came up with this value by running validation on mean values of `Nettonennleistung` and `area_blades` and then executing my `hourly_output_in_mwh` function\n",
    "        - I then observed what mean wind speed gives the closest value to the nominal power output"
   ]
  },
  {
   "cell_type": "code",
   "execution_count": 74,
   "id": "d4f6345c-0e37-4891-a0e0-7a16d9f3b297",
   "metadata": {
    "tags": []
   },
   "outputs": [
    {
     "data": {
      "text/plain": [
       "count    30642.000000\n",
       "mean      1986.239546\n",
       "std       1117.443776\n",
       "min          0.120000\n",
       "25%       1300.000000\n",
       "50%       2000.000000\n",
       "75%       2530.000000\n",
       "max       8000.000000\n",
       "Name: Nettonennleistung, dtype: float64"
      ]
     },
     "execution_count": 74,
     "metadata": {},
     "output_type": "execute_result"
    }
   ],
   "source": [
    "df['Nettonennleistung'].describe()"
   ]
  },
  {
   "cell_type": "markdown",
   "id": "70411e55-3c60-4abe-90d9-3f74e825a2ea",
   "metadata": {},
   "source": [
    "##### Function that calculates hourly net power output to grid in units MWh"
   ]
  },
  {
   "cell_type": "code",
   "execution_count": 223,
   "id": "d9764081-6838-493c-b6a7-01bea6bafa0c",
   "metadata": {
    "tags": []
   },
   "outputs": [],
   "source": [
    "def hourly_output_in_mwh(net_nominal_power, area_swept_by_blades, wind_speed_hub_height, air_density=1.225):\n",
    "    \"\"\"\n",
    "    Calculate the net hourly power output to the grid for a turbine in MWh\n",
    "    As this is power calculated for one hour, output is MWh\n",
    "    Note: input variable net_nominal_power is in kW!\n",
    "    wind_speed_hub_height is calculated using ERA5 wind speed data and in units m/s\n",
    "    \"\"\"\n",
    "    # Wind speed operational range\n",
    "    # c. 10.8 km/h\n",
    "    cut_in_speed = 3\n",
    "    # c. 93.6 km/h\n",
    "    cut_out_speed = 26\n",
    "    \n",
    "    # Typical rated wind speed (aka nominal wind speed)\n",
    "    rated_wind_speed = 11.2\n",
    "    \n",
    "    # If wind speed lies outside the cut-in and cut-out range, return 0 for no energy output\n",
    "    if wind_speed_hub_height < cut_in_speed or wind_speed_hub_height >= cut_out_speed:\n",
    "        return 0\n",
    "    \n",
    "    # The case where wind speed is above cut-in speed but still under or equal to rated speed\n",
    "    if wind_speed_hub_height <= rated_wind_speed:\n",
    "        # Typical overall turbine efficiency\n",
    "        turbine_efficiency = 0.40\n",
    "\n",
    "        # Wind power density equation in units W/m^2\n",
    "        WPD = 0.5 * air_density * area_swept_by_blades * wind_speed_hub_height**3 \n",
    "\n",
    "        # Estimate power required in watts using net nominal power of turbine in kW multiplied by percentage factor\n",
    "        power_required = (net_nominal_power * 1_000) * 0.01\n",
    "\n",
    "        # Net power output in watts after taking into account turbine efficiency and turbine power requirements\n",
    "        power_net = WPD * turbine_efficiency - power_required\n",
    "\n",
    "        # Convert watts to MW\n",
    "        power_net_mwh = power_net / 1_000_000\n",
    "\n",
    "        # Calculated for one hour so this is energy with units MWh\n",
    "        return power_net_mwh\n",
    "    \n",
    "    # The case where wind speed is above the rated speed; simply return turbine's rated power in MWh\n",
    "    else:\n",
    "        net_nominal_power_mwh = net_nominal_power / 1_000\n",
    "        return net_nominal_power_mwh"
   ]
  },
  {
   "cell_type": "markdown",
   "id": "b0d84844-ab9a-4aec-9dbf-254395f38a27",
   "metadata": {},
   "source": [
    "##### Test and validate the function for sensible output"
   ]
  },
  {
   "cell_type": "code",
   "execution_count": 224,
   "id": "95efa091-0bbf-450b-9ad0-2f231ae40f3d",
   "metadata": {
    "tags": []
   },
   "outputs": [
    {
     "data": {
      "text/plain": [
       "Nettonennleistung    1986.239546\n",
       "area_blades          5815.457705\n",
       "dtype: float64"
      ]
     },
     "execution_count": 224,
     "metadata": {},
     "output_type": "execute_result"
    }
   ],
   "source": [
    "# Take mean of input parameters and pair with various wind speeds to observe output/model behaviour\n",
    "df[['Nettonennleistung', 'area_blades']].mean()"
   ]
  },
  {
   "cell_type": "markdown",
   "id": "877a0bff-d6e2-4ea2-9412-a651fa5d2e73",
   "metadata": {},
   "source": [
    "##### Net nominal power is hit around wind speed 11-12 m/s (use 11.2?)\n",
    "- This seems to be close to the typical 'rated speed' where higher wind speeds don't produce more energy"
   ]
  },
  {
   "cell_type": "code",
   "execution_count": 225,
   "id": "3e10644a-0a06-4bb1-b18d-7e91092fd179",
   "metadata": {
    "tags": []
   },
   "outputs": [],
   "source": [
    "# Net nominal power in KW\n",
    "net_nominal_power = 1986.24\n",
    "# Area in meters\n",
    "area_swept_by_blades = 5815.5\n",
    "# Mean wind speed over the hour in m/s\n",
    "wind_speed_hub_height = 3"
   ]
  },
  {
   "cell_type": "code",
   "execution_count": 226,
   "id": "92df4056-08a2-4bc9-9386-eb0cd20682cc",
   "metadata": {
    "tags": []
   },
   "outputs": [
    {
     "data": {
      "text/plain": [
       "0.018607132499999998"
      ]
     },
     "execution_count": 226,
     "metadata": {},
     "output_type": "execute_result"
    }
   ],
   "source": [
    "# Execute function to calculate electricity (MWh) fed into grid over one hour\n",
    "hourly_output_mwh = hourly_output_in_mwh(net_nominal_power, area_swept_by_blades, wind_speed_hub_height)\n",
    "hourly_output_mwh"
   ]
  },
  {
   "cell_type": "markdown",
   "id": "d14e4eb8-4f6d-437c-9014-621bde28b019",
   "metadata": {},
   "source": [
    "-----"
   ]
  },
  {
   "cell_type": "markdown",
   "id": "80a8d1e2-6f6c-4a9f-b2b5-e6a60dd48f07",
   "metadata": {},
   "source": [
    "## Xarray and `scipy.interpolate.RegularGridInterpolator`"
   ]
  },
  {
   "cell_type": "code",
   "execution_count": null,
   "id": "12026c0e-d730-49de-b489-a9e025c32795",
   "metadata": {},
   "outputs": [],
   "source": []
  },
  {
   "cell_type": "code",
   "execution_count": null,
   "id": "aa62a02b-9640-4616-8a01-e7268831d9f7",
   "metadata": {},
   "outputs": [],
   "source": []
  },
  {
   "cell_type": "code",
   "execution_count": null,
   "id": "8feef89f-a59c-4759-961e-a95e518f6c58",
   "metadata": {},
   "outputs": [],
   "source": []
  },
  {
   "cell_type": "code",
   "execution_count": null,
   "id": "0b4a4977-f137-4731-b1f6-9f6479db54a0",
   "metadata": {},
   "outputs": [],
   "source": []
  }
 ],
 "metadata": {
  "kernelspec": {
   "display_name": "course_project",
   "language": "python",
   "name": "course_project"
  },
  "language_info": {
   "codemirror_mode": {
    "name": "ipython",
    "version": 3
   },
   "file_extension": ".py",
   "mimetype": "text/x-python",
   "name": "python",
   "nbconvert_exporter": "python",
   "pygments_lexer": "ipython3",
   "version": "3.10.12"
  }
 },
 "nbformat": 4,
 "nbformat_minor": 5
}
