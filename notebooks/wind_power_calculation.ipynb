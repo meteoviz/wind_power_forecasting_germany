{
 "cells": [
  {
   "cell_type": "markdown",
   "id": "2bae4812-4ba9-4f8c-96ae-eaf4d7d54762",
   "metadata": {},
   "source": [
    "# Wind power calculation"
   ]
  },
  {
   "cell_type": "code",
   "execution_count": 73,
   "id": "7790d52b-7748-4ab5-9a62-7d113e1c7fb7",
   "metadata": {
    "tags": []
   },
   "outputs": [],
   "source": [
    "from pathlib import Path\n",
    "import math\n",
    "\n",
    "import pandas as pd\n",
    "import numpy as np\n",
    "from scipy.interpolate import RegularGridInterpolator"
   ]
  },
  {
   "cell_type": "code",
   "execution_count": 2,
   "id": "7c1a4ccf-ecaf-42cc-acca-b6351aa2bcba",
   "metadata": {
    "tags": []
   },
   "outputs": [],
   "source": [
    "# Directory where data files will be downloaded\n",
    "cwd_path = Path.cwd()\n",
    "data_path = cwd_path.parent.joinpath('data')\n",
    "data_push_path = cwd_path.parent.joinpath('data_to_push')"
   ]
  },
  {
   "cell_type": "code",
   "execution_count": 3,
   "id": "e78aafc8-008b-4f9c-b97a-d2a9d89f3653",
   "metadata": {
    "tags": []
   },
   "outputs": [],
   "source": [
    "# Read in latest turbine data\n",
    "# Now only 30,642 after removing 3 turbines outside bounding box\n",
    "df = pd.read_pickle(data_push_path / 'df_turbines_knn_blades_haversine_elevation.pkl')"
   ]
  },
  {
   "cell_type": "markdown",
   "id": "90b6e343-aa19-4d0c-8d11-4de3789eacef",
   "metadata": {},
   "source": [
    "## Wind power density (WPD) equation with extra terms\n",
    "My equations are as follows:  \n",
    "\n",
    "- `WPD = (1/2) * (air_density) * (area_blades_swept) * (wind_velocity**3) * (turbine_efficiency)`\n",
    "- `P_net = WPD * turbine_efficiency - P_required`\n",
    "\n",
    "#### Variable descriptions:\n",
    "- `WPD` is the wind power density in watts/m^2 (W/m^2)\n",
    "- Assume constant air density of 1.225 kg/m3\n",
    "- `turbine_efficiency` is what % of the WPD is converted to electrical energy fed into the grid \n",
    "    - Betz limit (Cp) is 0.59 or 59%. This is the theoretical maximum efficiency converting wind power density (WPD) to electricity (assuming no other losses)\n",
    "    - In reality, most turbines extract about 20-50% (fairly large range and depends on turbine's power curve)\n",
    "    - Assume 50% converting WPD to rotational energy for the generator; here and further reduce this \n",
    "    - Turbine generator efficiency converting mechanical energy to electricity is typically around 0.8 to 0.9 (80-90%)\n",
    "    - Lump this in with Betz limit to create overall efficiency factor\n",
    "    - If WPD to generator efficiency is 50%, and generator efficiency is 80%, total turbine efficiency can be approximated like this:\n",
    "        - 0.5 × 0.8 = 0.4 (40% overall efficiency)\n",
    "- `P_required` is the electricity required by the wind turbine to operate (in watts)\n",
    "    - \"These turbines are equipped with more advanced systems such as yaw systems to orient the turbine towards the wind, advanced control systems, cooling systems for the generator, heating systems for de-icing, and sometimes hydraulic systems. The operational consumption for such turbines typically ranges from 10,000 to 50,000 Watts (10-50 kW) or 10-50 kWh for one hour.\"\n",
    "- `P_net` is the total net power in watts fed to the grid"
   ]
  },
  {
   "cell_type": "code",
   "execution_count": 16,
   "id": "18d61bb2-2fd5-4c8b-9bea-5391137d1a0c",
   "metadata": {
    "tags": []
   },
   "outputs": [],
   "source": [
    "def wind_power_output_in_watts(area_swept_by_blades, wind_speed_hub_height, turbine_efficiency, power_required, air_density=1.225):\n",
    "    \"\"\"\n",
    "    Calculate the net power output of a wind turbine.\n",
    "    \"\"\"\n",
    "    # Betz coefficient\n",
    "    betz_limit = 0.59\n",
    "    # Wind power equation (gross power output)\n",
    "    power = 0.5 * air_density * area_swept_by_blades * wind_speed_hub_height**3 * betz_limit * turbine_efficiency\n",
    "    # Net power output after subtracting operational power\n",
    "    power_net = power - power_required\n",
    "    \n",
    "    return power_net"
   ]
  },
  {
   "cell_type": "code",
   "execution_count": 17,
   "id": "1caa4ac3-2ad2-44b1-a58b-6bbb88ba6ded",
   "metadata": {
    "tags": []
   },
   "outputs": [
    {
     "data": {
      "text/plain": [
       "5815.457705110633"
      ]
     },
     "execution_count": 17,
     "metadata": {},
     "output_type": "execute_result"
    }
   ],
   "source": [
    "df['area_blades'].mean()"
   ]
  },
  {
   "cell_type": "code",
   "execution_count": 18,
   "id": "91b01d4c-da47-4af2-aeaa-fd7bc78335c1",
   "metadata": {
    "tags": []
   },
   "outputs": [],
   "source": [
    "# Area in meters\n",
    "area_swept_by_blades = 5815\n",
    "# Mean wind speed in m/s\n",
    "wind_speed_hub_height = 15\n",
    "# Typical turbine electrical conversion efficiency\n",
    "turbine_efficiency = 0.90\n",
    "# Estimated 2000 Watts required for operations over the hour\n",
    "power_required = 2000"
   ]
  },
  {
   "cell_type": "code",
   "execution_count": 26,
   "id": "d92f08de-864b-47e7-938f-0ddf5061ae60",
   "metadata": {
    "tags": []
   },
   "outputs": [
    {
     "data": {
      "text/plain": [
       "6380989.210937501"
      ]
     },
     "execution_count": 26,
     "metadata": {},
     "output_type": "execute_result"
    }
   ],
   "source": [
    "# Execute function to calculate electricity (in Watts) fed into grid over one hour\n",
    "output_watts = wind_power_output_in_watts(area_swept_by_blades, wind_speed_hub_height, turbine_efficiency, power_required)\n",
    "output_watts"
   ]
  },
  {
   "cell_type": "code",
   "execution_count": 25,
   "id": "6b259464-63df-4325-b15b-63b88f8f3575",
   "metadata": {
    "tags": []
   },
   "outputs": [
    {
     "data": {
      "text/plain": [
       "6380.9892109375005"
      ]
     },
     "execution_count": 25,
     "metadata": {},
     "output_type": "execute_result"
    }
   ],
   "source": [
    "# Divide by 1000 to get kW\n",
    "output_kw = output_watts / 1_000\n",
    "output_kw"
   ]
  },
  {
   "cell_type": "markdown",
   "id": "bfee9004-01af-41fc-890a-ce2ff587b941",
   "metadata": {},
   "source": [
    "-----"
   ]
  },
  {
   "cell_type": "markdown",
   "id": "e57fa013-1dc2-40db-a64f-fa3fa1288163",
   "metadata": {},
   "source": [
    "### Calculate hourly net output in MWh for one turbine\n",
    "\n",
    "#### Ideas:\n",
    "- Combine Betz limit and turbine efficiency terms\n",
    "    - Typical turbine is around 30-45% efficient (up to 50% during peak wind times)\n",
    "- Use net nominal power value (Nettonennleistung) to calculate power_required\n",
    "    - Turbines require around 1-3% of their net nominal power to operate every hour\n",
    "    - These values from wind turbine dataset are in kW!\n",
    "- How and where to include the typical turbine 'cut in wind speed', the minimum wind speed needed for turbine to start running?\n",
    "    - This is typically 3-5 m/s"
   ]
  },
  {
   "cell_type": "code",
   "execution_count": 35,
   "id": "d4f6345c-0e37-4891-a0e0-7a16d9f3b297",
   "metadata": {
    "tags": []
   },
   "outputs": [
    {
     "data": {
      "text/plain": [
       "count    30642.000000\n",
       "mean      1986.239546\n",
       "std       1117.443776\n",
       "min          0.120000\n",
       "25%       1300.000000\n",
       "50%       2000.000000\n",
       "75%       2530.000000\n",
       "max       8000.000000\n",
       "Name: Nettonennleistung, dtype: float64"
      ]
     },
     "execution_count": 35,
     "metadata": {},
     "output_type": "execute_result"
    }
   ],
   "source": [
    "df['Nettonennleistung'].describe()"
   ]
  },
  {
   "cell_type": "markdown",
   "id": "70411e55-3c60-4abe-90d9-3f74e825a2ea",
   "metadata": {},
   "source": [
    "##### Function that calculates hourly net power output to grid in units MWh"
   ]
  },
  {
   "cell_type": "code",
   "execution_count": 70,
   "id": "d9764081-6838-493c-b6a7-01bea6bafa0c",
   "metadata": {
    "tags": []
   },
   "outputs": [],
   "source": [
    "def hourly_output_in_mwh(area_swept_by_blades, wind_speed_hub_height, net_nominal_power, air_density=1.225):\n",
    "    \"\"\"\n",
    "    Calculate the net hourly power output for a turbine in MWh\n",
    "    As this is power calculated for one hour, output is MWh\n",
    "    Note: input variable net_nominal_power is in kW!\n",
    "    Variable wind_speed_hub_height is calculated using ERA5 wind speed data\n",
    "    \"\"\"\n",
    "    # Typical turbine efficiency\n",
    "    turbine_efficiency = 0.40\n",
    "    \n",
    "    # Wind power equation to calculate gross power output in Watts for the hour (Power = WPD (wind power density) * efficiency)\n",
    "    power = 0.5 * air_density * area_swept_by_blades * wind_speed_hub_height**3 * turbine_efficiency\n",
    "    \n",
    "    # Estimate power required in Watts using net nominal power of turbine in kW multiplied by percentage factor\n",
    "    power_required = (net_nominal_power * 1000) * 0.01\n",
    "    \n",
    "    # Net power output in Watts after subtracting required operational power\n",
    "    power_net = power - power_required\n",
    "    \n",
    "    # Convert Watts to MW\n",
    "    power_net_mwh = power_net / 1_000_000\n",
    "    \n",
    "    # Calculated for one hour so unit is MWh\n",
    "    return power_net_mwh"
   ]
  },
  {
   "cell_type": "markdown",
   "id": "b0d84844-ab9a-4aec-9dbf-254395f38a27",
   "metadata": {},
   "source": [
    "##### Test and validate the function for sensible output"
   ]
  },
  {
   "cell_type": "code",
   "execution_count": 71,
   "id": "3e10644a-0a06-4bb1-b18d-7e91092fd179",
   "metadata": {
    "tags": []
   },
   "outputs": [],
   "source": [
    "# Area in meters\n",
    "area_swept_by_blades = 5815\n",
    "# Mean wind speed over the hour in m/s\n",
    "wind_speed_hub_height = 15\n",
    "# Net nominal power in KW\n",
    "net_nominal_power = 2_000"
   ]
  },
  {
   "cell_type": "code",
   "execution_count": 72,
   "id": "92df4056-08a2-4bc9-9386-eb0cd20682cc",
   "metadata": {
    "tags": []
   },
   "outputs": [
    {
     "data": {
      "text/plain": [
       "4.788278125000001"
      ]
     },
     "execution_count": 72,
     "metadata": {},
     "output_type": "execute_result"
    }
   ],
   "source": [
    "# Execute function to calculate electricity (MWh) fed into grid over one hour\n",
    "hourly_output_mwh = hourly_output_in_mwh(area_swept_by_blades, wind_speed_hub_height, net_nominal_power)\n",
    "hourly_output_mwh"
   ]
  },
  {
   "cell_type": "markdown",
   "id": "d14e4eb8-4f6d-437c-9014-621bde28b019",
   "metadata": {},
   "source": [
    "-----"
   ]
  },
  {
   "cell_type": "markdown",
   "id": "80a8d1e2-6f6c-4a9f-b2b5-e6a60dd48f07",
   "metadata": {},
   "source": [
    "## Xarray and `scipy.interpolate.RegularGridInterpolator`"
   ]
  },
  {
   "cell_type": "code",
   "execution_count": null,
   "id": "12026c0e-d730-49de-b489-a9e025c32795",
   "metadata": {},
   "outputs": [],
   "source": []
  },
  {
   "cell_type": "code",
   "execution_count": null,
   "id": "aa62a02b-9640-4616-8a01-e7268831d9f7",
   "metadata": {},
   "outputs": [],
   "source": []
  },
  {
   "cell_type": "code",
   "execution_count": null,
   "id": "8feef89f-a59c-4759-961e-a95e518f6c58",
   "metadata": {},
   "outputs": [],
   "source": []
  },
  {
   "cell_type": "code",
   "execution_count": null,
   "id": "0b4a4977-f137-4731-b1f6-9f6479db54a0",
   "metadata": {},
   "outputs": [],
   "source": []
  }
 ],
 "metadata": {
  "kernelspec": {
   "display_name": "course_project",
   "language": "python",
   "name": "course_project"
  },
  "language_info": {
   "codemirror_mode": {
    "name": "ipython",
    "version": 3
   },
   "file_extension": ".py",
   "mimetype": "text/x-python",
   "name": "python",
   "nbconvert_exporter": "python",
   "pygments_lexer": "ipython3",
   "version": "3.10.12"
  }
 },
 "nbformat": 4,
 "nbformat_minor": 5
}
