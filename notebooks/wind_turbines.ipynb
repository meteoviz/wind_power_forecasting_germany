{
 "cells": [
  {
   "cell_type": "markdown",
   "id": "138d121e-8686-4230-9393-1915a9f81979",
   "metadata": {},
   "source": [
    "# Exploratory analysis of wind turbine data\n",
    "- Explaining the difference in number of turbines in Kaggle and Mastr datasets\n",
    "    - Kaggle dataset lastest registration and in operation date as 2023-05-26\n",
    "    - Mastr dataset lastest registration date is 2023-08-15\n",
    "    - 183 more turbines with in operation date after last Kaggle in operation date\n",
    "    - 533 more turbines with a registration date after last Kaggle registration date\n",
    "- Windkraft an Land: 32700\n",
    "- Windkraft auf See: 1784\n",
    "- I'm looking only at onshore turbines in column `Lage`\n",
    "- EEG Anlagen? https://www.wind-energie.de/themen/politische-arbeit/eeg/\n",
    "    - Looks like the dataset on Kaggle is processed from the EinheitenWind.xml file (original 150 MB) under the category 'Anlagen'\n",
    "    - The Kaggle CSV is only 9 MB\n",
    "- Lat and lon is NOT a required field for registering turbine one MaStR! However, postcode is required :)\n",
    "- Bruttoleistung and Nettonennleistung are required fields\n",
    "    - Bruttoleistung: Entspricht Nettonennleistung\n",
    "    - Nettonennleistung: 0 < X <= 20.000 und X <= Bruttoleistung"
   ]
  },
  {
   "cell_type": "code",
   "execution_count": 466,
   "id": "2a4ad27f-38ac-4a3c-bd56-aef385c94dd6",
   "metadata": {
    "tags": []
   },
   "outputs": [],
   "source": [
    "import sys\n",
    "from pathlib import Path\n",
    "import math\n",
    "\n",
    "import pandas as pd\n",
    "import sympy\n",
    "import numpy as np\n",
    "import matplotlib.pyplot as plt\n",
    "from sklearn.impute import KNNImputer"
   ]
  },
  {
   "cell_type": "code",
   "execution_count": 2,
   "id": "6ab71845-7efd-4557-835a-2e125a412591",
   "metadata": {
    "tags": []
   },
   "outputs": [],
   "source": [
    "# Set max number of columns to display; default 20\n",
    "pd.options.display.max_columns = 80"
   ]
  },
  {
   "cell_type": "code",
   "execution_count": 3,
   "id": "a66cb6ed-bb05-4a93-9d84-be30a205a5a0",
   "metadata": {
    "tags": []
   },
   "outputs": [
    {
     "name": "stdout",
     "output_type": "stream",
     "text": [
      "/opt/miniconda3/envs/course_project/bin/python\n",
      "3.10.12 | packaged by conda-forge | (main, Jun 23 2023, 22:39:40) [Clang 15.0.7 ]\n"
     ]
    }
   ],
   "source": [
    "print(sys.executable)\n",
    "print(sys.version)"
   ]
  },
  {
   "cell_type": "markdown",
   "id": "99a7f591-4f60-4efb-90ff-b7af15fc0804",
   "metadata": {},
   "source": [
    "----"
   ]
  },
  {
   "cell_type": "markdown",
   "id": "2b4f7b18-36af-4063-a6ce-30726d661b97",
   "metadata": {},
   "source": [
    "#### SymPy test\n",
    "- SymPy documenation: https://docs.sympy.org/latest/index.html\n",
    "- Latex printing: https://docs.sympy.org/latest/modules/printing.html#sympy.printing.latex.latex"
   ]
  },
  {
   "cell_type": "code",
   "execution_count": 132,
   "id": "8c9f6438-14c7-4a91-a98f-0d4a6753b705",
   "metadata": {
    "tags": []
   },
   "outputs": [
    {
     "data": {
      "text/latex": [
       "$\\displaystyle \\alpha\\cdot\\beta\\cdot\\rho$"
      ],
      "text/plain": [
       "\\alpha\\cdot\\beta\\cdot\\rho"
      ]
     },
     "execution_count": 132,
     "metadata": {},
     "output_type": "execute_result"
    }
   ],
   "source": [
    "# define expression of symbols\n",
    "abp = sympy.symbols(r'\\alpha\\cdot\\beta\\cdot\\rho')\n",
    "abp"
   ]
  },
  {
   "cell_type": "markdown",
   "id": "4c319599-54aa-40c1-ae93-ea5637d1b47d",
   "metadata": {},
   "source": [
    "##### Wind power equation"
   ]
  },
  {
   "cell_type": "code",
   "execution_count": 133,
   "id": "3f954b11-7120-42b9-9c07-90828b3d95a3",
   "metadata": {
    "tags": []
   },
   "outputs": [],
   "source": [
    "# Define 1/2 fraction; but this will be evaluated! I don't want that\n",
    "# one_half = sympy.Rational(1, 2)\n",
    "# This works! But it's funky syntax so that it doesn't get evaluated inside the method call\n",
    "one_half = sympy.UnevaluatedExpr(1) / 2\n",
    "\n",
    "# Define the symbolic variables\n",
    "# rho, A, v, P, r, pi = sympy.symbols('rho A v P r pi')\n",
    "rho, A, v, P_net, Cp, eta, P_required = sympy.symbols('rho A v P_net Cp eta P_required')\n",
    "\n",
    "# Express the wind power equation -> I don't want to evaluate an equation\n",
    "# P_eq = sympy.Eq(P, one_half * rho * A * v**3)\n",
    "\n",
    "# Do this instead; make sure evaluate is False otherwise the 1/2 is evaluated\n",
    "P_eq = sympy.Eq(P, sympy.Mul(one_half, rho, A, sympy.UnevaluatedExpr(sympy.Pow(v, sympy.Integer(3))), evaluate=False))"
   ]
  },
  {
   "cell_type": "code",
   "execution_count": 134,
   "id": "4b308f41-cfca-4590-8a05-64eccd0475f5",
   "metadata": {
    "tags": []
   },
   "outputs": [
    {
     "data": {
      "text/latex": [
       "$\\displaystyle P = \\frac{1}{2} \\rho A v^{3}$"
      ],
      "text/plain": [
       "Eq(P, (1/2)*rho*A*v**3)"
      ]
     },
     "execution_count": 134,
     "metadata": {},
     "output_type": "execute_result"
    }
   ],
   "source": [
    "# Wind power equation (total kinetic energy)\n",
    "P_eq"
   ]
  },
  {
   "cell_type": "markdown",
   "id": "01528070-9af9-4baa-943d-ba6c4ebdd5d1",
   "metadata": {},
   "source": [
    "#### Terms to add to the wind power equation to estimate realistic net power generation\n",
    "\n",
    "The Betz Limit, also known as the power coefficient `Cp` represents the maximum fraction of the wind's kinetic energy that can be converted to mechanical energy. Its theoretical value is approximately 0.59 or 59%.\n",
    "\n",
    "`Eta` as the efficiency of the wind turbine in converting mechanical energy to electrical energy.  \n",
    "`P_required` as the power required by the wind turbine to operate."
   ]
  },
  {
   "cell_type": "code",
   "execution_count": 135,
   "id": "5b1c5755-c621-414a-9909-029a61070bed",
   "metadata": {
    "tags": []
   },
   "outputs": [
    {
     "data": {
      "text/latex": [
       "$\\displaystyle v^{3}$"
      ],
      "text/plain": [
       "v**3"
      ]
     },
     "execution_count": 135,
     "metadata": {},
     "output_type": "execute_result"
    }
   ],
   "source": [
    "v3 = sympy.UnevaluatedExpr(sympy.Pow(v, sympy.Integer(3)))\n",
    "v3"
   ]
  },
  {
   "cell_type": "code",
   "execution_count": 136,
   "id": "541ff0d5-1e22-42ed-bef2-672048cc700d",
   "metadata": {
    "tags": []
   },
   "outputs": [
    {
     "data": {
      "text/latex": [
       "$\\displaystyle \\frac{1}{2} \\rho A v^{3}$"
      ],
      "text/plain": [
       "(1/2)*rho*A*v**3"
      ]
     },
     "execution_count": 136,
     "metadata": {},
     "output_type": "execute_result"
    }
   ],
   "source": [
    "exp = sympy.Mul(one_half, rho, A, v3, evaluate=False)\n",
    "exp"
   ]
  },
  {
   "cell_type": "markdown",
   "id": "e67f8a2d-1449-4c51-a354-dc72c178e441",
   "metadata": {},
   "source": [
    "#### Now combine and build?"
   ]
  },
  {
   "cell_type": "code",
   "execution_count": 137,
   "id": "fa2e5505-2529-49cd-8353-ea3d7d17cf2c",
   "metadata": {
    "tags": []
   },
   "outputs": [],
   "source": [
    "# P_net_eq = Eq(P_net, Rational(1, 2) * rho * A * v**3 * Cp * eta - P_required)\n",
    "\n",
    "# Express the net wind power equation considering Betz Limit, efficiency, and power requirement\n",
    "P_net_eq = sympy.Eq(P_net, sympy.Add(sympy.Mul(one_half, rho, A, sympy.UnevaluatedExpr(sympy.Pow(v, sympy.Integer(3))), evaluate=False), -Cp, -eta, -P_required, evaluate=False))"
   ]
  },
  {
   "cell_type": "code",
   "execution_count": 138,
   "id": "4c05238f-afd0-43a6-8739-677b3a664bbc",
   "metadata": {
    "tags": []
   },
   "outputs": [
    {
     "data": {
      "text/latex": [
       "$\\displaystyle P_{net} = \\frac{1}{2} \\rho A v^{3} - Cp - P_{required} - \\eta$"
      ],
      "text/plain": [
       "Eq(P_net, (1/2)*rho*A*v**3 - Cp - P_required - eta)"
      ]
     },
     "execution_count": 138,
     "metadata": {},
     "output_type": "execute_result"
    }
   ],
   "source": [
    "P_net_eq"
   ]
  },
  {
   "cell_type": "code",
   "execution_count": 139,
   "id": "0695d62c-020d-40b9-9b40-fc6ae11aab31",
   "metadata": {
    "tags": []
   },
   "outputs": [
    {
     "data": {
      "text/latex": [
       "$\\displaystyle P_{net} = \\frac{1}{2} \\rho A v^{3} - Cp - P_{required} - \\eta = P_{required}$"
      ],
      "text/plain": [
       "Eq(Eq(P_net, (1/2)*rho*A*v**3 - Cp - P_required - eta), P_required)"
      ]
     },
     "execution_count": 139,
     "metadata": {},
     "output_type": "execute_result"
    }
   ],
   "source": [
    "sympy.Eq(P_net_eq, sympy.Add(P_required, evaluate=False))"
   ]
  },
  {
   "cell_type": "code",
   "execution_count": 140,
   "id": "1b639844-1d49-42eb-89f5-c2d62cdf0d61",
   "metadata": {
    "tags": []
   },
   "outputs": [
    {
     "data": {
      "text/latex": [
       "$\\displaystyle A = \\pi r^{2}$"
      ],
      "text/plain": [
       "Eq(A, pi*r**2)"
      ]
     },
     "execution_count": 140,
     "metadata": {},
     "output_type": "execute_result"
    }
   ],
   "source": [
    "# Equation for area swept by blades (where r is blade radius)\n",
    "A_eq = sympy.Eq(A, pi * r**2)\n",
    "A_eq"
   ]
  },
  {
   "cell_type": "markdown",
   "id": "ef683f80-8e5c-4446-9331-59111016e4c3",
   "metadata": {},
   "source": [
    "Note: Jupyter notebooks use MathJax to render Latex output, and MathJax doesn’t handle Sympy’s Latex output correctly.  \n",
    "But should work fine in jupyter as it detects my environment"
   ]
  },
  {
   "cell_type": "code",
   "execution_count": 141,
   "id": "4fbc6577-70ac-4409-8490-763f16d03619",
   "metadata": {
    "tags": []
   },
   "outputs": [
    {
     "name": "stdout",
     "output_type": "stream",
     "text": [
      "P = \\frac{1}{2} \\rho A v^{3}\n"
     ]
    }
   ],
   "source": [
    "# Not using the print statement results in double backslashes for latex commands (results in errors)\n",
    "print(sympy.latex(P_eq, mode='plain'))"
   ]
  },
  {
   "cell_type": "markdown",
   "id": "67687678-bf8b-422b-b668-7950dc52a000",
   "metadata": {
    "tags": []
   },
   "source": [
    "This is a test: $P = \\frac{1}{2} \\rho A v^{3}$. Is it inline?"
   ]
  },
  {
   "cell_type": "markdown",
   "id": "50f586be-b0f1-4c49-9810-563793df49a1",
   "metadata": {},
   "source": [
    "This is a test: $\\begin{equation}P = \\frac{1}{2} \\rho A v^{3}\\end{equation}$. And this?"
   ]
  },
  {
   "cell_type": "markdown",
   "id": "97d3b3b5-9da8-4bb0-890f-ed12aed8e813",
   "metadata": {},
   "source": [
    "-----"
   ]
  },
  {
   "cell_type": "markdown",
   "id": "630a9cf7-eb1d-4ec1-9e22-e92a4aad1159",
   "metadata": {},
   "source": [
    "-----"
   ]
  },
  {
   "cell_type": "markdown",
   "id": "7302f471-52e2-4920-b2ea-2d032f32c6b0",
   "metadata": {},
   "source": [
    "## Paths "
   ]
  },
  {
   "cell_type": "code",
   "execution_count": 583,
   "id": "fcc6748f-8038-4c06-873f-67d86b57aa82",
   "metadata": {
    "tags": []
   },
   "outputs": [],
   "source": [
    "# Create absolute path object to data directory\n",
    "# Note: cwd\n",
    "cwd_path = Path.cwd()\n",
    "data_path = cwd_path.parent.joinpath('data')\n",
    "data_push_path = cwd_path.parent.joinpath('data_to_push')"
   ]
  },
  {
   "cell_type": "markdown",
   "id": "ec3b89e8-c5cb-4b1e-933c-1c787a789f0a",
   "metadata": {},
   "source": [
    "#### Helper functions"
   ]
  },
  {
   "cell_type": "code",
   "execution_count": 537,
   "id": "ca3f2147-a9fc-418b-b3b1-df6105d59dc4",
   "metadata": {
    "tags": []
   },
   "outputs": [],
   "source": [
    "def swept_area_by_blades(d):\n",
    "    \"\"\"\n",
    "    d is the diameter in meters\n",
    "    returns the so-called capture area in m^2\n",
    "    \"\"\"\n",
    "    area = 0.25 * math.pi * pow(d, 2)\n",
    "    return int(area)"
   ]
  },
  {
   "cell_type": "markdown",
   "id": "4cec979c-dd17-4a8e-8251-b797f9438592",
   "metadata": {},
   "source": [
    "----"
   ]
  },
  {
   "cell_type": "markdown",
   "id": "6ce783f8-d6cc-4b5a-8059-406368ba512f",
   "metadata": {},
   "source": [
    "### To do:\n",
    "- ~Create dataframe of both ref dfs using df.merge()~\n",
    "- ~write line to access value using category id and value id~\n",
    "- ~keep only relevant categories in catalogue~\n",
    "- ~write apply function~"
   ]
  },
  {
   "cell_type": "markdown",
   "id": "ce62aeff-5041-48a1-8dbb-a7a6803f4045",
   "metadata": {},
   "source": [
    "### Catalogue of categories and values"
   ]
  },
  {
   "cell_type": "code",
   "execution_count": 253,
   "id": "dba59010-498a-42d8-af90-645bb924a56e",
   "metadata": {
    "tags": []
   },
   "outputs": [
    {
     "data": {
      "text/html": [
       "<div>\n",
       "<style scoped>\n",
       "    .dataframe tbody tr th:only-of-type {\n",
       "        vertical-align: middle;\n",
       "    }\n",
       "\n",
       "    .dataframe tbody tr th {\n",
       "        vertical-align: top;\n",
       "    }\n",
       "\n",
       "    .dataframe thead th {\n",
       "        text-align: right;\n",
       "    }\n",
       "</style>\n",
       "<table border=\"1\" class=\"dataframe\">\n",
       "  <thead>\n",
       "    <tr style=\"text-align: right;\">\n",
       "      <th></th>\n",
       "      <th>category_name</th>\n",
       "      <th>value_id</th>\n",
       "      <th>value</th>\n",
       "    </tr>\n",
       "    <tr>\n",
       "      <th>category_id</th>\n",
       "      <th></th>\n",
       "      <th></th>\n",
       "      <th></th>\n",
       "    </tr>\n",
       "  </thead>\n",
       "  <tbody>\n",
       "    <tr>\n",
       "      <th>4</th>\n",
       "      <td>Betriebsstatus</td>\n",
       "      <td>31</td>\n",
       "      <td>In Planung</td>\n",
       "    </tr>\n",
       "    <tr>\n",
       "      <th>4</th>\n",
       "      <td>Betriebsstatus</td>\n",
       "      <td>35</td>\n",
       "      <td>In Betrieb</td>\n",
       "    </tr>\n",
       "    <tr>\n",
       "      <th>4</th>\n",
       "      <td>Betriebsstatus</td>\n",
       "      <td>37</td>\n",
       "      <td>Vorübergehend stillgelegt</td>\n",
       "    </tr>\n",
       "    <tr>\n",
       "      <th>4</th>\n",
       "      <td>Betriebsstatus</td>\n",
       "      <td>38</td>\n",
       "      <td>Endgültig stillgelegt</td>\n",
       "    </tr>\n",
       "    <tr>\n",
       "      <th>52</th>\n",
       "      <td>Einspeisungsart</td>\n",
       "      <td>688</td>\n",
       "      <td>Volleinspeisung</td>\n",
       "    </tr>\n",
       "    <tr>\n",
       "      <th>...</th>\n",
       "      <td>...</td>\n",
       "      <td>...</td>\n",
       "      <td>...</td>\n",
       "    </tr>\n",
       "    <tr>\n",
       "      <th>101</th>\n",
       "      <td>BundeslaenderEinheiten</td>\n",
       "      <td>1412</td>\n",
       "      <td>Saarland</td>\n",
       "    </tr>\n",
       "    <tr>\n",
       "      <th>101</th>\n",
       "      <td>BundeslaenderEinheiten</td>\n",
       "      <td>1413</td>\n",
       "      <td>Sachsen</td>\n",
       "    </tr>\n",
       "    <tr>\n",
       "      <th>101</th>\n",
       "      <td>BundeslaenderEinheiten</td>\n",
       "      <td>1414</td>\n",
       "      <td>Sachsen-Anhalt</td>\n",
       "    </tr>\n",
       "    <tr>\n",
       "      <th>101</th>\n",
       "      <td>BundeslaenderEinheiten</td>\n",
       "      <td>1415</td>\n",
       "      <td>Thüringen</td>\n",
       "    </tr>\n",
       "    <tr>\n",
       "      <th>101</th>\n",
       "      <td>BundeslaenderEinheiten</td>\n",
       "      <td>1416</td>\n",
       "      <td>Ausschließliche Wirtschaftszone</td>\n",
       "    </tr>\n",
       "  </tbody>\n",
       "</table>\n",
       "<p>166 rows × 3 columns</p>\n",
       "</div>"
      ],
      "text/plain": [
       "                      category_name  value_id                            value\n",
       "category_id                                                                   \n",
       "4                    Betriebsstatus        31                       In Planung\n",
       "4                    Betriebsstatus        35                       In Betrieb\n",
       "4                    Betriebsstatus        37        Vorübergehend stillgelegt\n",
       "4                    Betriebsstatus        38            Endgültig stillgelegt\n",
       "52                  Einspeisungsart       688                  Volleinspeisung\n",
       "...                             ...       ...                              ...\n",
       "101          BundeslaenderEinheiten      1412                         Saarland\n",
       "101          BundeslaenderEinheiten      1413                          Sachsen\n",
       "101          BundeslaenderEinheiten      1414                   Sachsen-Anhalt\n",
       "101          BundeslaenderEinheiten      1415                        Thüringen\n",
       "101          BundeslaenderEinheiten      1416  Ausschließliche Wirtschaftszone\n",
       "\n",
       "[166 rows x 3 columns]"
      ]
     },
     "execution_count": 253,
     "metadata": {},
     "output_type": "execute_result"
    }
   ],
   "source": [
    "# Load in catalogue ids from XML file\n",
    "df_xml_catalogue = pd.read_xml(data_path / 'Katalogkategorien.xml', encoding='utf-16')\n",
    "df_xml_catalogue.rename(columns={'Id': 'category_id', 'Name': 'category_name',}, inplace=True)\n",
    "df_xml_catalogue.set_index('category_id', inplace=True)\n",
    "\n",
    "catalogue_categories_to_keep = [\n",
    "    'Betriebsstatus',  # EinheitBetriebsstatus\n",
    "    # 'Land',\n",
    "    'BundeslaenderEinheiten',  # don't use 'Bundesland'\n",
    "    'Einspeisungsart',\n",
    "    'WindLage',\n",
    "    'WindHersteller',\n",
    "    'Windanlagentechnologie', \n",
    "]\n",
    "\n",
    "df_xml_catalogue = df_xml_catalogue[df_xml_catalogue['category_name'].isin(catalogue_categories_to_keep)]\n",
    "\n",
    "\n",
    "# Load in catalogue values from XML file\n",
    "df_xml_cat_values = pd.read_xml(data_path / 'Katalogwerte.xml', encoding='utf-16')\n",
    "df_xml_cat_values.rename(columns={'Id': 'value_id', 'Wert': 'value', 'KatalogKategorieId': 'category_id'}, inplace=True)\n",
    "df_xml_cat_values.set_index('category_id', inplace=True)\n",
    "\n",
    "\n",
    "# Merging the two dataframes\n",
    "df_cat_lookup_reference = df_xml_catalogue.merge(df_xml_cat_values, how='left', left_index=True, right_index=True)\n",
    "df_cat_lookup_reference"
   ]
  },
  {
   "cell_type": "code",
   "execution_count": 254,
   "id": "502952e2-78ce-44cf-a073-3bb3a1b341cc",
   "metadata": {
    "tags": []
   },
   "outputs": [],
   "source": [
    "# quickly search for cat names\n",
    "# df_xml_catalogue[df_xml_catalogue['category_name'].str.contains('undes')]"
   ]
  },
  {
   "cell_type": "code",
   "execution_count": 255,
   "id": "991adb6b-72e5-44ae-9d6b-5d508f95ef2f",
   "metadata": {
    "tags": []
   },
   "outputs": [],
   "source": [
    "# 5 cat ids in catalogue index not in cat_values index\n",
    "# idx_difference = df_xml_catalogue.index.difference(df_xml_cat_values.index)\n",
    "# df_xml_catalogue.loc[idx_difference]"
   ]
  },
  {
   "cell_type": "code",
   "execution_count": 256,
   "id": "2427d670-411f-4feb-addc-5298c77a8d28",
   "metadata": {
    "tags": []
   },
   "outputs": [],
   "source": [
    "# df_cat_lookup_reference[df_cat_lookup_reference['category_name'] == 'BundeslaenderEinheiten']"
   ]
  },
  {
   "cell_type": "markdown",
   "id": "b840de3d-15fd-4463-9360-a53908253431",
   "metadata": {},
   "source": [
    "-----"
   ]
  },
  {
   "cell_type": "markdown",
   "id": "8635373d-be48-4c3c-9793-1404a8c4190b",
   "metadata": {},
   "source": [
    "## Read in original XML dataset"
   ]
  },
  {
   "cell_type": "code",
   "execution_count": 400,
   "id": "886ac9a5-11f2-456b-a8d6-0e7cbe2cc444",
   "metadata": {
    "tags": []
   },
   "outputs": [
    {
     "name": "stdout",
     "output_type": "stream",
     "text": [
      "<class 'pandas.core.frame.DataFrame'>\n",
      "RangeIndex: 34822 entries, 0 to 34821\n",
      "Data columns (total 25 columns):\n",
      " #   Column                                 Non-Null Count  Dtype  \n",
      "---  ------                                 --------------  -----  \n",
      " 0   EinheitMastrNummer                     34822 non-null  object \n",
      " 1   DatumLetzteAktualisierung              34822 non-null  object \n",
      " 2   Bundesland                             34822 non-null  int64  \n",
      " 3   Postleitzahl                           33037 non-null  float64\n",
      " 4   Ort                                    33037 non-null  object \n",
      " 5   Laengengrad                            33907 non-null  float64\n",
      " 6   Breitengrad                            33907 non-null  float64\n",
      " 7   Registrierungsdatum                    34822 non-null  object \n",
      " 8   Inbetriebnahmedatum                    32208 non-null  object \n",
      " 9   EinheitBetriebsstatus                  34822 non-null  int64  \n",
      " 10  NameStromerzeugungseinheit             34822 non-null  object \n",
      " 11  Nettonennleistung                      34822 non-null  float64\n",
      " 12  AnschlussAnHoechstOderHochSpannung     24311 non-null  float64\n",
      " 13  Einspeisungsart                        34167 non-null  float64\n",
      " 14  NameWindpark                           34005 non-null  object \n",
      " 15  Lage                                   34821 non-null  float64\n",
      " 16  Hersteller                             34367 non-null  float64\n",
      " 17  Technologie                            34822 non-null  int64  \n",
      " 18  Typenbezeichnung                       34350 non-null  object \n",
      " 19  Nabenhoehe                             33956 non-null  float64\n",
      " 20  Rotordurchmesser                       34364 non-null  float64\n",
      " 21  Rotorblattenteisungssystem             25990 non-null  float64\n",
      " 22  DatumEndgueltigeStilllegung            1158 non-null   object \n",
      " 23  DatumBeginnVoruebergehendeStilllegung  68 non-null     object \n",
      " 24  DatumWiederaufnahmeBetrieb             6 non-null      object \n",
      "dtypes: float64(11), int64(3), object(11)\n",
      "memory usage: 6.6+ MB\n"
     ]
    }
   ],
   "source": [
    "# Read in data\n",
    "df_xml_original = pd.read_xml(data_path / 'EinheitenWind.xml', encoding='utf-16')\n",
    "df_xml = df_xml_original.copy()\n",
    "\n",
    "# define columns to keep\n",
    "columns_to_keep = [\n",
    "    'EinheitMastrNummer',\n",
    "    'DatumLetzteAktualisierung',\n",
    "    # 'NetzbetreiberpruefungStatus',  # Der Status der letzten Netzbetreiberprüfung, insofern eine durchgeführt wurde\n",
    "    # 'Land',  # all code 84: Deutschland\n",
    "    'Bundesland',\n",
    "    'Postleitzahl',\n",
    "    'Ort',\n",
    "    'Laengengrad',\n",
    "    'Breitengrad',\n",
    "    'Registrierungsdatum',\n",
    "    'Inbetriebnahmedatum',\n",
    "    # 'EinheitSystemstatus',  # all code 472: active\n",
    "    'EinheitBetriebsstatus',\n",
    "    'NameStromerzeugungseinheit',\n",
    "    # 'Energietraeger',  # all code 2497: Wind\n",
    "    # 'Bruttoleistung',  # float, WARNING: this is the Nettonennleistung so remove\n",
    "    'Nettonennleistung',  # float\n",
    "    'AnschlussAnHoechstOderHochSpannung',  # bool\n",
    "    'Einspeisungsart',\n",
    "    'NameWindpark',\n",
    "    'Lage',  # int\n",
    "    'Hersteller',  # int\n",
    "    'Technologie',  # int\n",
    "    'Typenbezeichnung',\n",
    "    'Nabenhoehe',\n",
    "    'Rotordurchmesser',\n",
    "    'Rotorblattenteisungssystem',  # bool\n",
    "    \n",
    "    # --- other date columns ---- \n",
    "    # 'GeplantesInbetriebnahmedatum',  # these are future dates\n",
    "    # 'DatumDesBetreiberwechsels', \n",
    "    # 'DatumRegistrierungDesBetreiberwechsels',\n",
    "    'DatumEndgueltigeStilllegung',  # need this one\n",
    "    'DatumBeginnVoruebergehendeStilllegung',\n",
    "    'DatumWiederaufnahmeBetrieb',\n",
    "]\n",
    "\n",
    "# filter columns\n",
    "df_xml = df_xml[columns_to_keep]\n",
    "df_xml.info()"
   ]
  },
  {
   "cell_type": "code",
   "execution_count": 401,
   "id": "3417a46e-bd93-4bfa-b90d-9ef6cd1b6680",
   "metadata": {
    "tags": []
   },
   "outputs": [],
   "source": [
    "# df_xml_original.info()"
   ]
  },
  {
   "cell_type": "code",
   "execution_count": 402,
   "id": "dc85ba72-681f-4359-8fac-f1da1a859631",
   "metadata": {
    "tags": []
   },
   "outputs": [],
   "source": [
    "# df_xml_original[df_xml_original['DatumWiederaufnahmeBetrieb'].notna()]"
   ]
  },
  {
   "cell_type": "code",
   "execution_count": 356,
   "id": "89eea22c-e2cc-4faf-bd54-fd676f99647c",
   "metadata": {
    "tags": []
   },
   "outputs": [],
   "source": [
    "# df_xml_original[~(df_xml_original['DatumEndgueltigeStilllegung'].isna())]"
   ]
  },
  {
   "cell_type": "code",
   "execution_count": 403,
   "id": "5af4f785-c7f7-4215-880a-cddd7d124655",
   "metadata": {
    "tags": []
   },
   "outputs": [
    {
     "data": {
      "text/html": [
       "<div>\n",
       "<style scoped>\n",
       "    .dataframe tbody tr th:only-of-type {\n",
       "        vertical-align: middle;\n",
       "    }\n",
       "\n",
       "    .dataframe tbody tr th {\n",
       "        vertical-align: top;\n",
       "    }\n",
       "\n",
       "    .dataframe thead th {\n",
       "        text-align: right;\n",
       "    }\n",
       "</style>\n",
       "<table border=\"1\" class=\"dataframe\">\n",
       "  <thead>\n",
       "    <tr style=\"text-align: right;\">\n",
       "      <th></th>\n",
       "      <th>EinheitMastrNummer</th>\n",
       "      <th>DatumLetzteAktualisierung</th>\n",
       "      <th>Bundesland</th>\n",
       "      <th>Postleitzahl</th>\n",
       "      <th>Ort</th>\n",
       "      <th>Laengengrad</th>\n",
       "      <th>Breitengrad</th>\n",
       "      <th>Registrierungsdatum</th>\n",
       "      <th>Inbetriebnahmedatum</th>\n",
       "      <th>EinheitBetriebsstatus</th>\n",
       "      <th>NameStromerzeugungseinheit</th>\n",
       "      <th>Nettonennleistung</th>\n",
       "      <th>AnschlussAnHoechstOderHochSpannung</th>\n",
       "      <th>Einspeisungsart</th>\n",
       "      <th>NameWindpark</th>\n",
       "      <th>Lage</th>\n",
       "      <th>Hersteller</th>\n",
       "      <th>Technologie</th>\n",
       "      <th>Typenbezeichnung</th>\n",
       "      <th>Nabenhoehe</th>\n",
       "      <th>Rotordurchmesser</th>\n",
       "      <th>Rotorblattenteisungssystem</th>\n",
       "      <th>DatumEndgueltigeStilllegung</th>\n",
       "      <th>DatumBeginnVoruebergehendeStilllegung</th>\n",
       "      <th>DatumWiederaufnahmeBetrieb</th>\n",
       "    </tr>\n",
       "  </thead>\n",
       "  <tbody>\n",
       "    <tr>\n",
       "      <th>4615</th>\n",
       "      <td>SEE955279524682</td>\n",
       "      <td>2019-05-28T08:26:38.0316692</td>\n",
       "      <td>1410</td>\n",
       "      <td>54595.0</td>\n",
       "      <td>Weinsheim</td>\n",
       "      <td>6.483001</td>\n",
       "      <td>50.216280</td>\n",
       "      <td>2019-05-02</td>\n",
       "      <td>2001-11-23</td>\n",
       "      <td>35</td>\n",
       "      <td>58056</td>\n",
       "      <td>1000.0</td>\n",
       "      <td>0.0</td>\n",
       "      <td>688.0</td>\n",
       "      <td>WPI Kramberg</td>\n",
       "      <td>888.0</td>\n",
       "      <td>1586.0</td>\n",
       "      <td>691</td>\n",
       "      <td>E-58/10.58</td>\n",
       "      <td>73.0</td>\n",
       "      <td>58.0</td>\n",
       "      <td>NaN</td>\n",
       "      <td>None</td>\n",
       "      <td>None</td>\n",
       "      <td>None</td>\n",
       "    </tr>\n",
       "    <tr>\n",
       "      <th>9829</th>\n",
       "      <td>SEE945834955143</td>\n",
       "      <td>2023-03-22T09:12:05.7632421</td>\n",
       "      <td>1400</td>\n",
       "      <td>17291.0</td>\n",
       "      <td>Uckerfelde</td>\n",
       "      <td>13.959032</td>\n",
       "      <td>53.269090</td>\n",
       "      <td>2021-06-29</td>\n",
       "      <td>2021-06-28</td>\n",
       "      <td>35</td>\n",
       "      <td>WKA MM4</td>\n",
       "      <td>4200.0</td>\n",
       "      <td>NaN</td>\n",
       "      <td>688.0</td>\n",
       "      <td>Windpark Bietikow</td>\n",
       "      <td>888.0</td>\n",
       "      <td>1586.0</td>\n",
       "      <td>691</td>\n",
       "      <td>Enercon E138  EP3 E2</td>\n",
       "      <td>160.0</td>\n",
       "      <td>138.0</td>\n",
       "      <td>0.0</td>\n",
       "      <td>None</td>\n",
       "      <td>None</td>\n",
       "      <td>None</td>\n",
       "    </tr>\n",
       "    <tr>\n",
       "      <th>11163</th>\n",
       "      <td>SEE939390123399</td>\n",
       "      <td>2023-05-26T11:44:38.7070806</td>\n",
       "      <td>1414</td>\n",
       "      <td>6682.0</td>\n",
       "      <td>Teuchern</td>\n",
       "      <td>11.958813</td>\n",
       "      <td>51.145445</td>\n",
       "      <td>2020-11-03</td>\n",
       "      <td>2020-10-28</td>\n",
       "      <td>35</td>\n",
       "      <td>WP Vier Berge- WEA 59N</td>\n",
       "      <td>3500.0</td>\n",
       "      <td>1.0</td>\n",
       "      <td>688.0</td>\n",
       "      <td>WP Vier Berge</td>\n",
       "      <td>888.0</td>\n",
       "      <td>1586.0</td>\n",
       "      <td>691</td>\n",
       "      <td>E-138</td>\n",
       "      <td>160.0</td>\n",
       "      <td>138.0</td>\n",
       "      <td>0.0</td>\n",
       "      <td>None</td>\n",
       "      <td>None</td>\n",
       "      <td>None</td>\n",
       "    </tr>\n",
       "  </tbody>\n",
       "</table>\n",
       "</div>"
      ],
      "text/plain": [
       "      EinheitMastrNummer    DatumLetzteAktualisierung  Bundesland  \\\n",
       "4615     SEE955279524682  2019-05-28T08:26:38.0316692        1410   \n",
       "9829     SEE945834955143  2023-03-22T09:12:05.7632421        1400   \n",
       "11163    SEE939390123399  2023-05-26T11:44:38.7070806        1414   \n",
       "\n",
       "       Postleitzahl         Ort  Laengengrad  Breitengrad Registrierungsdatum  \\\n",
       "4615        54595.0   Weinsheim     6.483001    50.216280          2019-05-02   \n",
       "9829        17291.0  Uckerfelde    13.959032    53.269090          2021-06-29   \n",
       "11163        6682.0    Teuchern    11.958813    51.145445          2020-11-03   \n",
       "\n",
       "      Inbetriebnahmedatum  EinheitBetriebsstatus NameStromerzeugungseinheit  \\\n",
       "4615           2001-11-23                     35                      58056   \n",
       "9829           2021-06-28                     35                    WKA MM4   \n",
       "11163          2020-10-28                     35     WP Vier Berge- WEA 59N   \n",
       "\n",
       "       Nettonennleistung  AnschlussAnHoechstOderHochSpannung  Einspeisungsart  \\\n",
       "4615              1000.0                                 0.0            688.0   \n",
       "9829              4200.0                                 NaN            688.0   \n",
       "11163             3500.0                                 1.0            688.0   \n",
       "\n",
       "            NameWindpark   Lage  Hersteller  Technologie  \\\n",
       "4615        WPI Kramberg  888.0      1586.0          691   \n",
       "9829   Windpark Bietikow  888.0      1586.0          691   \n",
       "11163      WP Vier Berge  888.0      1586.0          691   \n",
       "\n",
       "           Typenbezeichnung  Nabenhoehe  Rotordurchmesser  \\\n",
       "4615             E-58/10.58        73.0              58.0   \n",
       "9829   Enercon E138  EP3 E2       160.0             138.0   \n",
       "11163                 E-138       160.0             138.0   \n",
       "\n",
       "       Rotorblattenteisungssystem DatumEndgueltigeStilllegung  \\\n",
       "4615                          NaN                        None   \n",
       "9829                          0.0                        None   \n",
       "11163                         0.0                        None   \n",
       "\n",
       "      DatumBeginnVoruebergehendeStilllegung DatumWiederaufnahmeBetrieb  \n",
       "4615                                   None                       None  \n",
       "9829                                   None                       None  \n",
       "11163                                  None                       None  "
      ]
     },
     "execution_count": 403,
     "metadata": {},
     "output_type": "execute_result"
    }
   ],
   "source": [
    "df_xml.sample(3)"
   ]
  },
  {
   "cell_type": "markdown",
   "id": "30a6cc9b-dc24-495e-afd8-a133049f917b",
   "metadata": {},
   "source": [
    "### Function to replace value IDs with values in columns using lookup df"
   ]
  },
  {
   "cell_type": "code",
   "execution_count": 404,
   "id": "ea06e8e5-d10c-4fe4-9848-63a8e0bcf2af",
   "metadata": {
    "tags": []
   },
   "outputs": [
    {
     "data": {
      "text/plain": [
       "array(['Betriebsstatus', 'Einspeisungsart', 'Windanlagentechnologie',\n",
       "       'WindHersteller', 'WindLage', 'BundeslaenderEinheiten'],\n",
       "      dtype=object)"
      ]
     },
     "execution_count": 404,
     "metadata": {},
     "output_type": "execute_result"
    }
   ],
   "source": [
    "df_cat_lookup_reference['category_name'].unique()"
   ]
  },
  {
   "cell_type": "code",
   "execution_count": 405,
   "id": "e5a392a5-acbb-4a7b-8627-f742d2d4226f",
   "metadata": {
    "tags": []
   },
   "outputs": [
    {
     "data": {
      "text/html": [
       "<div>\n",
       "<style scoped>\n",
       "    .dataframe tbody tr th:only-of-type {\n",
       "        vertical-align: middle;\n",
       "    }\n",
       "\n",
       "    .dataframe tbody tr th {\n",
       "        vertical-align: top;\n",
       "    }\n",
       "\n",
       "    .dataframe thead th {\n",
       "        text-align: right;\n",
       "    }\n",
       "</style>\n",
       "<table border=\"1\" class=\"dataframe\">\n",
       "  <thead>\n",
       "    <tr style=\"text-align: right;\">\n",
       "      <th></th>\n",
       "      <th>category_name</th>\n",
       "      <th>value_id</th>\n",
       "      <th>value</th>\n",
       "    </tr>\n",
       "    <tr>\n",
       "      <th>category_id</th>\n",
       "      <th></th>\n",
       "      <th></th>\n",
       "      <th></th>\n",
       "    </tr>\n",
       "  </thead>\n",
       "  <tbody>\n",
       "    <tr>\n",
       "      <th>4</th>\n",
       "      <td>Betriebsstatus</td>\n",
       "      <td>31</td>\n",
       "      <td>In Planung</td>\n",
       "    </tr>\n",
       "    <tr>\n",
       "      <th>4</th>\n",
       "      <td>Betriebsstatus</td>\n",
       "      <td>35</td>\n",
       "      <td>In Betrieb</td>\n",
       "    </tr>\n",
       "    <tr>\n",
       "      <th>4</th>\n",
       "      <td>Betriebsstatus</td>\n",
       "      <td>37</td>\n",
       "      <td>Vorübergehend stillgelegt</td>\n",
       "    </tr>\n",
       "    <tr>\n",
       "      <th>4</th>\n",
       "      <td>Betriebsstatus</td>\n",
       "      <td>38</td>\n",
       "      <td>Endgültig stillgelegt</td>\n",
       "    </tr>\n",
       "  </tbody>\n",
       "</table>\n",
       "</div>"
      ],
      "text/plain": [
       "              category_name  value_id                      value\n",
       "category_id                                                     \n",
       "4            Betriebsstatus        31                 In Planung\n",
       "4            Betriebsstatus        35                 In Betrieb\n",
       "4            Betriebsstatus        37  Vorübergehend stillgelegt\n",
       "4            Betriebsstatus        38      Endgültig stillgelegt"
      ]
     },
     "execution_count": 405,
     "metadata": {},
     "output_type": "execute_result"
    }
   ],
   "source": [
    "df_cat_lookup_reference[df_cat_lookup_reference['category_name'] == 'Betriebsstatus']"
   ]
  },
  {
   "cell_type": "code",
   "execution_count": 406,
   "id": "4eb26926-3c0b-417a-bc20-654a03a37f09",
   "metadata": {
    "tags": []
   },
   "outputs": [],
   "source": [
    "def replace_ids_with_values(columns, df_cat_lookup_reference):\n",
    "    # col 1: Bundesland\n",
    "    if columns.index[0] == 'Bundesland':\n",
    "        try:\n",
    "            bundesland_id = columns[0]\n",
    "            bundesland_value = df_cat_lookup_reference[(\n",
    "                df_cat_lookup_reference['category_name'] == 'BundeslaenderEinheiten') & (df_cat_lookup_reference['value_id'] == bundesland_id)]['value']\n",
    "            columns[0] = bundesland_value.values.item()\n",
    "        except:\n",
    "            columns[0] = np.nan\n",
    "    else:\n",
    "        pass\n",
    "        \n",
    "    # col 2: Betriebsstatus/EinheitBetriebsstatus\n",
    "    if columns.index[1] == 'EinheitBetriebsstatus':\n",
    "        try:\n",
    "            betriebsstatus_id = columns[1]\n",
    "            betriebsstatus_value = df_cat_lookup_reference[(\n",
    "                df_cat_lookup_reference['category_name'] == 'Betriebsstatus') & (df_cat_lookup_reference['value_id'] == betriebsstatus_id)]['value']\n",
    "            columns[1] = betriebsstatus_value.values.item()\n",
    "        except:\n",
    "            columns[1] = np.nan\n",
    "    else:\n",
    "        pass\n",
    "    \n",
    "    # col 3: Einspeisungsart\n",
    "    if columns.index[2] == 'Einspeisungsart':\n",
    "        try:\n",
    "            einspeisungsart_id = columns[2]\n",
    "            einspeisungsart_value = df_cat_lookup_reference[(\n",
    "                df_cat_lookup_reference['category_name'] == 'Einspeisungsart') & (df_cat_lookup_reference['value_id'] == einspeisungsart_id)]['value']\n",
    "            columns[2] = einspeisungsart_value.values.item()\n",
    "        except:\n",
    "            columns[2] = np.nan\n",
    "    else:\n",
    "        pass\n",
    "    \n",
    "    # col 4: WindLage/Lage\n",
    "    if columns.index[3] == 'Lage':\n",
    "        try:\n",
    "            lage_id = columns[3]\n",
    "            lage_value = df_cat_lookup_reference[(\n",
    "                df_cat_lookup_reference['category_name'] == 'WindLage') & (df_cat_lookup_reference['value_id'] == lage_id)]['value']\n",
    "            columns[3] = lage_value.values.item()\n",
    "        except:\n",
    "            columns[3] = np.nan\n",
    "    else:\n",
    "        pass\n",
    "    \n",
    "    # col 5: WindHersteller/Hersteller\n",
    "    if columns.index[4] == 'Hersteller':\n",
    "        try:\n",
    "            hersteller_id = columns[4]\n",
    "            hersteller_value = df_cat_lookup_reference[(\n",
    "                df_cat_lookup_reference['category_name'] == 'WindHersteller') & (df_cat_lookup_reference['value_id'] == hersteller_id)]['value']\n",
    "            columns[4] = hersteller_value.values.item()\n",
    "        except:\n",
    "            columns[4] = np.nan\n",
    "    else:\n",
    "        pass\n",
    "    \n",
    "    # col 6: Windanlagentechnologie/Technologie\n",
    "    if columns.index[5] == 'Technologie':\n",
    "        try:\n",
    "            technologie_id = columns[5]\n",
    "            technologie_value = df_cat_lookup_reference[(\n",
    "                df_cat_lookup_reference['category_name'] == 'Windanlagentechnologie') & (df_cat_lookup_reference['value_id'] == technologie_id)]['value']\n",
    "            columns[5] = technologie_value.values.item()\n",
    "        except:\n",
    "            columns[5] = np.nan\n",
    "    else:\n",
    "        pass\n",
    "    \n",
    "    return columns"
   ]
  },
  {
   "cell_type": "code",
   "execution_count": 407,
   "id": "7a15ad49-b64d-4d7b-811c-e7ceefe9a0c7",
   "metadata": {
    "tags": []
   },
   "outputs": [],
   "source": [
    "# Run the replace function\n",
    "# Takes 1 min 40s to run on 2019 16\" MBP\n",
    "df_xml_replaced_ids = df_xml[['Bundesland', 'EinheitBetriebsstatus', 'Einspeisungsart', 'Lage', 'Hersteller', 'Technologie']].apply(\n",
    "    replace_ids_with_values, axis=1, df_cat_lookup_reference=df_cat_lookup_reference\n",
    ")\n",
    "\n",
    "# Update main df in place using new values of subset df (essentially a left-join merge)\n",
    "df_xml.update(df_xml_replaced_ids)"
   ]
  },
  {
   "cell_type": "markdown",
   "id": "2a726eca-04fb-49ba-85d0-4ebff2e1eb01",
   "metadata": {
    "tags": []
   },
   "source": [
    "### Use available postcodes to insert missing lat & lon data using postcodes CSV\n",
    "- Source: https://github.com/WZBSocialScienceCenter/plz_geocoord"
   ]
  },
  {
   "cell_type": "code",
   "execution_count": 408,
   "id": "9cb206e3-e19a-48cd-a8fd-850abf81dabc",
   "metadata": {
    "tags": []
   },
   "outputs": [
    {
     "name": "stdout",
     "output_type": "stream",
     "text": [
      "<class 'pandas.core.frame.DataFrame'>\n",
      "RangeIndex: 8298 entries, 0 to 8297\n",
      "Data columns (total 3 columns):\n",
      " #   Column     Non-Null Count  Dtype  \n",
      "---  ------     --------------  -----  \n",
      " 0   postcode   8298 non-null   int64  \n",
      " 1   latitude   8298 non-null   float64\n",
      " 2   longitude  8298 non-null   float64\n",
      "dtypes: float64(2), int64(1)\n",
      "memory usage: 194.6 KB\n"
     ]
    }
   ],
   "source": [
    "df_postcodes_coords = pd.read_csv(data_path / 'plz_geocoord.csv', sep=',')\n",
    "df_postcodes_coords.rename(columns={'Unnamed: 0': 'postcode', 'lat': 'latitude', 'lng': 'longitude'}, inplace=True)\n",
    "df_postcodes_coords.info()"
   ]
  },
  {
   "cell_type": "code",
   "execution_count": 409,
   "id": "bab2ecfe-d23a-4cb1-a357-9ed0dce61467",
   "metadata": {
    "tags": []
   },
   "outputs": [
    {
     "data": {
      "text/html": [
       "<div>\n",
       "<style scoped>\n",
       "    .dataframe tbody tr th:only-of-type {\n",
       "        vertical-align: middle;\n",
       "    }\n",
       "\n",
       "    .dataframe tbody tr th {\n",
       "        vertical-align: top;\n",
       "    }\n",
       "\n",
       "    .dataframe thead th {\n",
       "        text-align: right;\n",
       "    }\n",
       "</style>\n",
       "<table border=\"1\" class=\"dataframe\">\n",
       "  <thead>\n",
       "    <tr style=\"text-align: right;\">\n",
       "      <th></th>\n",
       "      <th>postcode</th>\n",
       "      <th>latitude</th>\n",
       "      <th>longitude</th>\n",
       "    </tr>\n",
       "  </thead>\n",
       "  <tbody>\n",
       "    <tr>\n",
       "      <th>0</th>\n",
       "      <td>1067</td>\n",
       "      <td>51.057550</td>\n",
       "      <td>13.717065</td>\n",
       "    </tr>\n",
       "    <tr>\n",
       "      <th>1</th>\n",
       "      <td>1069</td>\n",
       "      <td>51.039135</td>\n",
       "      <td>13.737675</td>\n",
       "    </tr>\n",
       "  </tbody>\n",
       "</table>\n",
       "</div>"
      ],
      "text/plain": [
       "   postcode   latitude  longitude\n",
       "0      1067  51.057550  13.717065\n",
       "1      1069  51.039135  13.737675"
      ]
     },
     "execution_count": 409,
     "metadata": {},
     "output_type": "execute_result"
    }
   ],
   "source": [
    "df_postcodes_coords.head(2)"
   ]
  },
  {
   "cell_type": "code",
   "execution_count": 410,
   "id": "0f5aee5d-b43d-4c55-85ea-024bb970b6d5",
   "metadata": {
    "tags": []
   },
   "outputs": [],
   "source": [
    "# Function that inserts lats and lons using postcode csv\n",
    "def add_coords_using_postcode(cols, df_postcodes_coords):\n",
    "    # Get turbine postcode\n",
    "    postcode_to_look_up = int(cols[0])\n",
    "    # Get row in postcode csv using postcode as key\n",
    "    lookup_row = df_postcodes_coords.loc[df_postcodes_coords['postcode'] == postcode_to_look_up]\n",
    "    # Try assigning lon and lat\n",
    "    try:\n",
    "        cols[1] = lookup_row['longitude']\n",
    "        cols[2] = lookup_row['latitude']\n",
    "    except: \n",
    "        return cols\n",
    "    return cols"
   ]
  },
  {
   "cell_type": "code",
   "execution_count": 411,
   "id": "a89d0140-7bab-4bc8-9fa7-3e9a33282980",
   "metadata": {
    "tags": []
   },
   "outputs": [
    {
     "data": {
      "text/plain": [
       "Postleitzahl\n",
       "True     912\n",
       "False      3\n",
       "Name: count, dtype: int64"
      ]
     },
     "execution_count": 411,
     "metadata": {},
     "output_type": "execute_result"
    }
   ],
   "source": [
    "# Turbines missing coords and their postcodes\n",
    "# One turbine postcode is not present in the postcode csv\n",
    "# That turbine has postcode 99095 (Erfurt, Thuringia according to Google)\n",
    "# It's a small turbine (Tesup Atlas2.0) and can be dropped\n",
    "df_xml[df_xml['Laengengrad'].isna()]['Postleitzahl'].isin(df_postcodes_coords['postcode']).value_counts()\n",
    "\n",
    "# Postal code 99095 is Erfurt, Thuringia according to Google\n",
    "# df_coords_missing[~df_coords_missing['Postleitzahl'].isin(df_postcodes_coords['postcode'])]"
   ]
  },
  {
   "cell_type": "code",
   "execution_count": 412,
   "id": "0b544a32-92ee-4e84-896e-08a675308328",
   "metadata": {
    "tags": []
   },
   "outputs": [
    {
     "data": {
      "text/plain": [
       "EinheitMastrNummer                           0\n",
       "DatumLetzteAktualisierung                    0\n",
       "Bundesland                                   0\n",
       "Postleitzahl                              1785\n",
       "Ort                                       1785\n",
       "Laengengrad                                915\n",
       "Breitengrad                                915\n",
       "Registrierungsdatum                          0\n",
       "Inbetriebnahmedatum                       2614\n",
       "EinheitBetriebsstatus                        0\n",
       "NameStromerzeugungseinheit                   0\n",
       "Nettonennleistung                            0\n",
       "AnschlussAnHoechstOderHochSpannung       10511\n",
       "Einspeisungsart                            655\n",
       "NameWindpark                               817\n",
       "Lage                                         1\n",
       "Hersteller                                 455\n",
       "Technologie                                  0\n",
       "Typenbezeichnung                           472\n",
       "Nabenhoehe                                 866\n",
       "Rotordurchmesser                           458\n",
       "Rotorblattenteisungssystem                8832\n",
       "DatumEndgueltigeStilllegung              33664\n",
       "DatumBeginnVoruebergehendeStilllegung    34754\n",
       "DatumWiederaufnahmeBetrieb               34816\n",
       "dtype: int64"
      ]
     },
     "execution_count": 412,
     "metadata": {},
     "output_type": "execute_result"
    }
   ],
   "source": [
    "df_xml.isna().sum()"
   ]
  },
  {
   "cell_type": "code",
   "execution_count": 413,
   "id": "c1b56bc1-9d34-410e-9276-57c5c5c781c1",
   "metadata": {
    "tags": []
   },
   "outputs": [],
   "source": [
    "# Dataframe of turbines missing coords\n",
    "df_coords_missing = df_xml[(df_xml['Laengengrad'].isna()) & (df_xml['Breitengrad'].isna())]\n",
    "\n",
    "# Apply function and assign values back to relevant columns\n",
    "df_coords_missing.loc[:, ['Postleitzahl', 'Laengengrad', 'Breitengrad']] = df_coords_missing[['Postleitzahl', 'Laengengrad', 'Breitengrad']].apply(\n",
    "    add_coords_using_postcode, axis=1, df_postcodes_coords=df_postcodes_coords\n",
    ")\n",
    "\n",
    "# Update original df in place using new values of subset df (essentially a left-join merge)\n",
    "df_xml.update(df_coords_missing)"
   ]
  },
  {
   "cell_type": "code",
   "execution_count": 414,
   "id": "79e2688b-9439-4bab-977d-263c21a39e3a",
   "metadata": {
    "tags": []
   },
   "outputs": [
    {
     "data": {
      "text/plain": [
       "EinheitMastrNummer                           0\n",
       "DatumLetzteAktualisierung                    0\n",
       "Bundesland                                   0\n",
       "Postleitzahl                              1785\n",
       "Ort                                       1785\n",
       "Laengengrad                                  3\n",
       "Breitengrad                                  3\n",
       "Registrierungsdatum                          0\n",
       "Inbetriebnahmedatum                       2614\n",
       "EinheitBetriebsstatus                        0\n",
       "NameStromerzeugungseinheit                   0\n",
       "Nettonennleistung                            0\n",
       "AnschlussAnHoechstOderHochSpannung       10511\n",
       "Einspeisungsart                            655\n",
       "NameWindpark                               817\n",
       "Lage                                         1\n",
       "Hersteller                                 455\n",
       "Technologie                                  0\n",
       "Typenbezeichnung                           472\n",
       "Nabenhoehe                                 866\n",
       "Rotordurchmesser                           458\n",
       "Rotorblattenteisungssystem                8832\n",
       "DatumEndgueltigeStilllegung              33664\n",
       "DatumBeginnVoruebergehendeStilllegung    34754\n",
       "DatumWiederaufnahmeBetrieb               34816\n",
       "dtype: int64"
      ]
     },
     "execution_count": 414,
     "metadata": {},
     "output_type": "execute_result"
    }
   ],
   "source": [
    "df_xml.isna().sum()"
   ]
  },
  {
   "cell_type": "markdown",
   "id": "c7e022f9-30eb-4dde-aa23-f10dde39a0f7",
   "metadata": {},
   "source": [
    "- Investivate these 1785 missing postcodes! \n",
    "    - 1688 of them are Bundesland: Ausschließliche Wirtschaftszone\n",
    "    - And all 1784 of them are offshore turbines! (Windkraft auf See)\n",
    "- Drop the 3 turbines missing coordinates.. but first look at them. Are they big turbines?\n",
    "- Then start re-using the wrangling code I wrote for the Kaggle dataset (filter for onshore turbines only, etc)"
   ]
  },
  {
   "cell_type": "code",
   "execution_count": 415,
   "id": "3603d79d-4404-4dcb-a525-8160359bf3c1",
   "metadata": {
    "tags": []
   },
   "outputs": [
    {
     "data": {
      "text/plain": [
       "Bundesland\n",
       "Ausschließliche Wirtschaftszone    1688\n",
       "Niedersachsen                        48\n",
       "Mecklenburg-Vorpommern               48\n",
       "Thüringen                             1\n",
       "Name: count, dtype: int64"
      ]
     },
     "execution_count": 415,
     "metadata": {},
     "output_type": "execute_result"
    }
   ],
   "source": [
    "df_xml[df_xml['Postleitzahl'].isna()]['Bundesland'].value_counts()"
   ]
  },
  {
   "cell_type": "markdown",
   "id": "77930556-2733-411d-afdf-5f03237cd66e",
   "metadata": {},
   "source": [
    "### Filters on `df_xml` and handling dtypes"
   ]
  },
  {
   "cell_type": "code",
   "execution_count": 416,
   "id": "b99a68cb-ecb6-44c2-a820-cfde55a696eb",
   "metadata": {
    "tags": []
   },
   "outputs": [
    {
     "name": "stdout",
     "output_type": "stream",
     "text": [
      "<class 'pandas.core.frame.DataFrame'>\n",
      "Index: 30645 entries, 0 to 34818\n",
      "Data columns (total 24 columns):\n",
      " #   Column                                 Non-Null Count  Dtype         \n",
      "---  ------                                 --------------  -----         \n",
      " 0   EinheitMastrNummer                     30645 non-null  object        \n",
      " 1   DatumLetzteAktualisierung              30645 non-null  datetime64[ns]\n",
      " 2   Bundesland                             30645 non-null  object        \n",
      " 3   Postleitzahl                           30645 non-null  int64         \n",
      " 4   Ort                                    30645 non-null  object        \n",
      " 5   Laengengrad                            30645 non-null  float64       \n",
      " 6   Breitengrad                            30645 non-null  float64       \n",
      " 7   Registrierungsdatum                    30645 non-null  datetime64[ns]\n",
      " 8   Inbetriebnahmedatum                    30645 non-null  datetime64[ns]\n",
      " 9   EinheitBetriebsstatus                  30645 non-null  object        \n",
      " 10  NameStromerzeugungseinheit             30645 non-null  object        \n",
      " 11  Nettonennleistung                      30645 non-null  float64       \n",
      " 12  AnschlussAnHoechstOderHochSpannung     22071 non-null  float64       \n",
      " 13  Einspeisungsart                        30207 non-null  object        \n",
      " 14  NameWindpark                           29859 non-null  object        \n",
      " 15  Hersteller                             30388 non-null  object        \n",
      " 16  Technologie                            30645 non-null  object        \n",
      " 17  Typenbezeichnung                       30383 non-null  object        \n",
      " 18  Nabenhoehe                             29899 non-null  float64       \n",
      " 19  Rotordurchmesser                       30267 non-null  float64       \n",
      " 20  Rotorblattenteisungssystem             23266 non-null  float64       \n",
      " 21  DatumEndgueltigeStilllegung            1158 non-null   datetime64[ns]\n",
      " 22  DatumBeginnVoruebergehendeStilllegung  68 non-null     datetime64[ns]\n",
      " 23  DatumWiederaufnahmeBetrieb             6 non-null      datetime64[ns]\n",
      "dtypes: datetime64[ns](6), float64(7), int64(1), object(10)\n",
      "memory usage: 5.8+ MB\n"
     ]
    }
   ],
   "source": [
    "# Keep only onshore turbines and then drop Lage column\n",
    "df_xml = df_xml.loc[df_xml['Lage'] == 'Windkraft an Land']\n",
    "df_xml.drop(columns=['Lage'], inplace=True)\n",
    "# Drop turbines in planning (there are 2614 of them)\n",
    "df_xml = df_xml.loc[~(df_xml['EinheitBetriebsstatus'] == 'In Planung')]\n",
    "# Convert postcodes from float to int\n",
    "df_xml['Postleitzahl'] = df_xml['Postleitzahl'].astype('int')\n",
    "# Drop the single small turbine that has nan in longitude or latitude columns (SEE900014803461)\n",
    "df_xml.dropna(subset=['Laengengrad', 'Breitengrad'], inplace=True)\n",
    "\n",
    "# Convert date features to datetime objects\n",
    "df_xml['DatumLetzteAktualisierung'] = pd.to_datetime(df_xml['DatumLetzteAktualisierung'], yearfirst=True)\n",
    "df_xml['Registrierungsdatum'] = pd.to_datetime(df_xml['Registrierungsdatum'], yearfirst=True)\n",
    "df_xml['Inbetriebnahmedatum'] = pd.to_datetime(df_xml['Inbetriebnahmedatum'], yearfirst=True)\n",
    "df_xml['DatumEndgueltigeStilllegung'] = pd.to_datetime(df_xml['DatumEndgueltigeStilllegung'], yearfirst=True)\n",
    "df_xml['DatumBeginnVoruebergehendeStilllegung'] = pd.to_datetime(df_xml['DatumBeginnVoruebergehendeStilllegung'], yearfirst=True)\n",
    "df_xml['DatumWiederaufnahmeBetrieb'] = pd.to_datetime(df_xml['DatumWiederaufnahmeBetrieb'], yearfirst=True)\n",
    "\n",
    "df_xml.info()"
   ]
  },
  {
   "cell_type": "code",
   "execution_count": 417,
   "id": "195a862a-158a-4b00-bb40-4272bb19392e",
   "metadata": {
    "tags": []
   },
   "outputs": [
    {
     "data": {
      "text/plain": [
       "EinheitMastrNummer                           0\n",
       "DatumLetzteAktualisierung                    0\n",
       "Bundesland                                   0\n",
       "Postleitzahl                                 0\n",
       "Ort                                          0\n",
       "Laengengrad                                  0\n",
       "Breitengrad                                  0\n",
       "Registrierungsdatum                          0\n",
       "Inbetriebnahmedatum                          0\n",
       "EinheitBetriebsstatus                        0\n",
       "NameStromerzeugungseinheit                   0\n",
       "Nettonennleistung                            0\n",
       "AnschlussAnHoechstOderHochSpannung        8574\n",
       "Einspeisungsart                            438\n",
       "NameWindpark                               786\n",
       "Hersteller                                 257\n",
       "Technologie                                  0\n",
       "Typenbezeichnung                           262\n",
       "Nabenhoehe                                 746\n",
       "Rotordurchmesser                           378\n",
       "Rotorblattenteisungssystem                7379\n",
       "DatumEndgueltigeStilllegung              29487\n",
       "DatumBeginnVoruebergehendeStilllegung    30577\n",
       "DatumWiederaufnahmeBetrieb               30639\n",
       "dtype: int64"
      ]
     },
     "execution_count": 417,
     "metadata": {},
     "output_type": "execute_result"
    }
   ],
   "source": [
    "df_xml.isna().sum()"
   ]
  },
  {
   "cell_type": "markdown",
   "id": "e189a016-751a-416e-b580-872434962397",
   "metadata": {},
   "source": [
    "#### Re-order columns for better print inspection "
   ]
  },
  {
   "cell_type": "code",
   "execution_count": 418,
   "id": "aa84e8ed-cebe-46aa-a520-65dbf2a40ada",
   "metadata": {
    "tags": []
   },
   "outputs": [],
   "source": [
    "# df_xml.columns.to_list()"
   ]
  },
  {
   "cell_type": "code",
   "execution_count": 419,
   "id": "3b3f913d-7e3a-403a-b625-add3278f5c71",
   "metadata": {
    "tags": []
   },
   "outputs": [],
   "source": [
    "new_column_order = [\n",
    "    'EinheitMastrNummer',\n",
    "    'DatumLetzteAktualisierung',\n",
    "    'Bundesland',\n",
    "    'Postleitzahl',\n",
    "    'Ort',\n",
    "    'Laengengrad',\n",
    "    'Breitengrad',\n",
    "    'Registrierungsdatum',\n",
    "    'Inbetriebnahmedatum',\n",
    "    'EinheitBetriebsstatus',\n",
    "    'DatumEndgueltigeStilllegung',\n",
    "    'DatumBeginnVoruebergehendeStilllegung',\n",
    "    'DatumWiederaufnahmeBetrieb',\n",
    "    'NameStromerzeugungseinheit',\n",
    "    'Nettonennleistung',\n",
    "    'AnschlussAnHoechstOderHochSpannung',\n",
    "    'Einspeisungsart',\n",
    "    'NameWindpark',\n",
    "    'Hersteller',\n",
    "    'Technologie',\n",
    "    'Typenbezeichnung',\n",
    "    'Nabenhoehe',\n",
    "    'Rotordurchmesser',\n",
    "    'Rotorblattenteisungssystem',\n",
    "]\n",
    "\n",
    "df_xml = df_xml[new_column_order]"
   ]
  },
  {
   "cell_type": "markdown",
   "id": "a80c29cf-362c-485b-8331-62a3066a839a",
   "metadata": {},
   "source": [
    "### Save wrangled dataframe as pickle for fast loading"
   ]
  },
  {
   "cell_type": "code",
   "execution_count": 420,
   "id": "27d52f89-94b8-4cd4-818c-a3b4fca8408e",
   "metadata": {
    "tags": []
   },
   "outputs": [],
   "source": [
    "# # reset index before saving\n",
    "# df_xml.reset_index(drop=True, inplace=True)\n",
    "\n",
    "# # serialise/pickle dataframe to pickle file \n",
    "# df_xml.to_pickle(data_path / 'df_turbines_xml_wrangled.pkl')"
   ]
  },
  {
   "cell_type": "markdown",
   "id": "4a0bd0ea-0828-4515-933a-b66578a56df6",
   "metadata": {},
   "source": [
    "-----"
   ]
  },
  {
   "cell_type": "markdown",
   "id": "d2418b1b-dd21-4f66-b3fd-55461da004f6",
   "metadata": {},
   "source": [
    "## Load pickle file of wrangled data back into dataframe"
   ]
  },
  {
   "cell_type": "code",
   "execution_count": 505,
   "id": "c8a856d4-b7dd-4132-b0ac-a67338ba546a",
   "metadata": {
    "tags": []
   },
   "outputs": [],
   "source": [
    "# test load pickle file back into df\n",
    "# keeps correct dtypes including datetime objects! Noice! \n",
    "df = pd.read_pickle(data_path / 'df_turbines_xml_wrangled.pkl')"
   ]
  },
  {
   "cell_type": "code",
   "execution_count": 506,
   "id": "d1b66988-e303-4ece-8762-9283a2b28ace",
   "metadata": {
    "tags": []
   },
   "outputs": [
    {
     "data": {
      "text/plain": [
       "False"
      ]
     },
     "execution_count": 506,
     "metadata": {},
     "output_type": "execute_result"
    }
   ],
   "source": [
    "# test that dataframes are equal\n",
    "# yes, returns True\n",
    "df.equals(df_xml)"
   ]
  },
  {
   "cell_type": "code",
   "execution_count": 507,
   "id": "91462a25-4230-4558-83ef-66a297159d7e",
   "metadata": {
    "tags": []
   },
   "outputs": [
    {
     "name": "stdout",
     "output_type": "stream",
     "text": [
      "<class 'pandas.core.frame.DataFrame'>\n",
      "RangeIndex: 30645 entries, 0 to 30644\n",
      "Data columns (total 24 columns):\n",
      " #   Column                                 Non-Null Count  Dtype         \n",
      "---  ------                                 --------------  -----         \n",
      " 0   EinheitMastrNummer                     30645 non-null  object        \n",
      " 1   DatumLetzteAktualisierung              30645 non-null  datetime64[ns]\n",
      " 2   Bundesland                             30645 non-null  object        \n",
      " 3   Postleitzahl                           30645 non-null  int64         \n",
      " 4   Ort                                    30645 non-null  object        \n",
      " 5   Laengengrad                            30645 non-null  float64       \n",
      " 6   Breitengrad                            30645 non-null  float64       \n",
      " 7   Registrierungsdatum                    30645 non-null  datetime64[ns]\n",
      " 8   Inbetriebnahmedatum                    30645 non-null  datetime64[ns]\n",
      " 9   EinheitBetriebsstatus                  30645 non-null  object        \n",
      " 10  DatumEndgueltigeStilllegung            1158 non-null   datetime64[ns]\n",
      " 11  DatumBeginnVoruebergehendeStilllegung  68 non-null     datetime64[ns]\n",
      " 12  DatumWiederaufnahmeBetrieb             6 non-null      datetime64[ns]\n",
      " 13  NameStromerzeugungseinheit             30645 non-null  object        \n",
      " 14  Nettonennleistung                      30645 non-null  float64       \n",
      " 15  AnschlussAnHoechstOderHochSpannung     22071 non-null  float64       \n",
      " 16  Einspeisungsart                        30207 non-null  object        \n",
      " 17  NameWindpark                           29859 non-null  object        \n",
      " 18  Hersteller                             30388 non-null  object        \n",
      " 19  Technologie                            30645 non-null  object        \n",
      " 20  Typenbezeichnung                       30383 non-null  object        \n",
      " 21  Nabenhoehe                             29899 non-null  float64       \n",
      " 22  Rotordurchmesser                       30267 non-null  float64       \n",
      " 23  Rotorblattenteisungssystem             23266 non-null  float64       \n",
      "dtypes: datetime64[ns](6), float64(7), int64(1), object(10)\n",
      "memory usage: 5.6+ MB\n"
     ]
    }
   ],
   "source": [
    "df.info()"
   ]
  },
  {
   "cell_type": "code",
   "execution_count": 578,
   "id": "8b76012b-e808-479a-a54a-33cd2421267d",
   "metadata": {
    "tags": []
   },
   "outputs": [
    {
     "data": {
      "text/plain": [
       "True"
      ]
     },
     "execution_count": 578,
     "metadata": {},
     "output_type": "execute_result"
    }
   ],
   "source": [
    "# Check that each turbine is unique using its MastrNummer\n",
    "df.iloc[:,0].nunique() == len(df)"
   ]
  },
  {
   "cell_type": "markdown",
   "id": "bf200c9e-a2e0-4b6a-86dd-d79ad94e9ef4",
   "metadata": {},
   "source": [
    "------"
   ]
  },
  {
   "cell_type": "markdown",
   "id": "e0b3970b-eeb7-490a-9292-07ccd44d6c95",
   "metadata": {
    "tags": []
   },
   "source": [
    "## More info about the most important features of this wind turbine dataset\n",
    "\n",
    "#### Die Nettonennleistung (required field)\n",
    "- Die höchste elektrische Dauerleistung unter Nennbedingungen, die eine Energieumwandlungsanlage erreicht. ln der Nettonennleistung ist die Eigenverbrauchsleistung während des Betriebs der Anlage nicht enthalten.\n",
    "- The net nominal power does NOT include the self-consumption power during the operation of the plant.\n",
    "- Die Nettonennleistung(Produktion) ist die höchste Dauerleistung unter Nennbedingungen, die eine Erzeugungseinheit zum Übergabezeitpunkt erreicht\n",
    "- The net nominal power (production) is the highest continuous power under nominal conditions achieved by a generating unit at the time of delivery\n",
    "- https://www.destatis.de/DE/Themen/Branchen-Unternehmen/Energie/Glossar/nettonennleistung.html\n",
    "- Remember: units are in kW! 2,000 kW = 2 MW\n",
    "\n",
    "#### Bruttoleistung - WARNING: this is just the Nettonennleistung (net nominal power) copied into the Bruttoleistung by the system - REMOVE\n",
    "- Die an den Klemmen des Generators abgegebene Leistung.\n",
    "- Bei Windenergie ist die Bruttoleistung im MaStR stets gleich der Nettonennleistung. Die Bruttoleistung kann bei Windenergie nicht eigenständig eingetragen werden. Vom System wird der Wert der Nettonennleistung übernommen. Die Nettonennleistung kann bei Solaranlagen nicht vom Benutzer eingetragen werden.\n",
    "\n",
    "#### Inbetriebnahmedatum (not a required field)\n",
    "- Erstmalige Inbetriebsetzung der Stromerzeugungseinheit nach Herstellung der technischen Betriebsbereitschaft. Die technische Betriebsbereitschaft setzt voraus, dass die Stromerzeugungseinheit fest an dem für den dauerhaften Betrieb vorgesehenen Ort und dauerhaft mit dem für die Erzeugung von Wechselstrom erforderlichen Zubehör installiert wurde.\n",
    "    - Initial commissioning of the power generation unit after technical readiness for operation has been established. Technical readiness for operation presupposes that the power generation unit has been permanently installed in the place intended for permanent operation and permanently with the accessories required for the generation of alternating current.\n",
    "\n",
    "#### EinheitBetriebsstatus (required field)\n",
    "- In Betrieb (in operation): 29445\n",
    "- Endgültig stillgelegt (Decommissioned for good): 1158\n",
    "    - Good news: all 1158 decommissioned turbines have dates when they stopped operating in the field `DatumEndgueltigeStilllegung`\n",
    "- Vorübergehend stillgelegt (Temporarily shut down): 42\n",
    "    - ~Remove these since I don't know how long they've been temporarily shut down and it's only 42 turbines with a Nettonennleistung sum of 44,134 kW~\n",
    "    - Update: no keep them since I DO have the date for all 42 in the field `DatumBeginnVoruebergehendeStilllegung`\n",
    "    - But I also have 68 dates in this field.. why is that? 21 have a date in this field AND are decommissioned. That gets us to 63. The other 5?\n",
    "        - All solved and accounted for. The other 5 are in operation but were temporarily shut down but also have dates they went back into operation in the field `DatumWiederaufnahmeBetrieb`\n",
    "        - But 6 have date in `DatumWiederaufnahmeBetrieb`, one turbine was decommissioned permanently and this date is same as in `DatumWiederaufnahmeBetrieb`\n",
    "\n",
    "#### Einspeisungsart (not a required field)\n",
    "- Volleinspeisung: 28,348 (94%)\n",
    "    - All electricity generated from the turbine is fed into the public grid\n",
    "- Teileinspeisung (einschließlich Eigenverbrauch): 1,859 (6%)\n",
    "    - Since the amount going into the grid is likely variable, just assume 50% when calculating generation per hour/day\n",
    "- 438 are missing this info\n",
    "\n",
    "\n",
    "#### Technical fields\n",
    "- Typenbezeichnung (required field)\n",
    "    - Missing: 262\n",
    "- Nabenhoehe (required field)\n",
    "    - Missing: 746\n",
    "    - For 479 of these I have the blade diameter (can estimate from that)\n",
    "- Rotordurchmesser (required field)\n",
    "    - Missing: 378\n",
    "    - For 111 of these I have hub height data!\n",
    "- For 267 turbines I'm missing both hub height AND blade dia\n",
    "    - What to do with these?\n",
    "    - I could find a relationship between these three and then fit to the curve?"
   ]
  },
  {
   "cell_type": "markdown",
   "id": "c03e3b7b-8dad-4495-9cf1-1cdaa60c41b9",
   "metadata": {},
   "source": [
    "-----"
   ]
  },
  {
   "cell_type": "markdown",
   "id": "2deb9182-336b-4127-9fc8-79a7828cb004",
   "metadata": {
    "tags": []
   },
   "source": [
    "### Further wrangling ideas and to do:\n",
    "- ~Convert kW to MW in Nettonennleistung?~\n",
    "    - no point; handle at point of calculation or not at all\n",
    "- ~Remove all turbines not currently in operation? I don’t have date when it went out of operation so I?~\n",
    "    - I do have these dates!\n",
    "- ~Should I fill nans in rotor dia using mean or whatever? I shouldn’t have any nans here!~\n",
    "    - I used KNN imputation\n",
    "- ~Create derived column for area swept by blades~\n",
    "- I also need a container for each row holding tuples of coords, leistung, rotor diameter\n",
    "- Reshape data to be a period time series, aggregating continuous features like Nettonennleistung at a daily/hourly resolution\n",
    "- For each day in period index (e.g. daily), do conditional filter on in operation date ON or AFTER period Index day. Then aggregate sum or count on those turbines and put those into derived columns. "
   ]
  },
  {
   "cell_type": "markdown",
   "id": "779ab20b-b68d-43a8-8e65-555e2fc5b57e",
   "metadata": {},
   "source": [
    "### Use KNN imputation using hub height, rotor blade, and net power to fill missing values!\n",
    "- Remember this is an imputer and there are no labeled data (no supervision)"
   ]
  },
  {
   "cell_type": "code",
   "execution_count": 514,
   "id": "04179054-4132-4352-bd6a-9e1759e43d93",
   "metadata": {
    "tags": []
   },
   "outputs": [],
   "source": [
    "# assign the three features to X\n",
    "df_X = df[['Nettonennleistung', 'Nabenhoehe', 'Rotordurchmesser']]\n",
    "\n",
    "# knn imputation of the three features\n",
    "knn_imputer = KNNImputer(n_neighbors=5).set_output(transform=\"pandas\")\n",
    "df_X = knn_imputer.fit_transform(df_X)\n",
    "\n",
    "# update main df with imputed data\n",
    "df.update(df_X)"
   ]
  },
  {
   "cell_type": "code",
   "execution_count": 515,
   "id": "f604f22d-9656-4b24-b9e1-b5dd163b7a9e",
   "metadata": {
    "tags": []
   },
   "outputs": [
    {
     "data": {
      "text/plain": [
       "Nettonennleistung    0\n",
       "Nabenhoehe           0\n",
       "Rotordurchmesser     0\n",
       "dtype: int64"
      ]
     },
     "execution_count": 515,
     "metadata": {},
     "output_type": "execute_result"
    }
   ],
   "source": [
    "df_X.isna().sum()"
   ]
  },
  {
   "cell_type": "markdown",
   "id": "1aed4d7e-01e6-4cd0-9155-d792f840d904",
   "metadata": {},
   "source": [
    "#### Derive new column for swept area of blade"
   ]
  },
  {
   "cell_type": "code",
   "execution_count": 538,
   "id": "5c40bb0e-cf8c-44d6-8d05-2e0f602a722c",
   "metadata": {
    "tags": []
   },
   "outputs": [],
   "source": [
    "df['area_blades'] = df['Rotordurchmesser'].apply(swept_area_by_blades)"
   ]
  },
  {
   "cell_type": "code",
   "execution_count": 584,
   "id": "40361d6a-0d88-4c54-9918-038aeb299455",
   "metadata": {
    "tags": []
   },
   "outputs": [],
   "source": [
    "# save df to data to push dir so it lands in GitHub repo\n",
    "# df.to_pickle(data_push_path / 'df_turbines_knn_wrangled.pkl')"
   ]
  },
  {
   "cell_type": "markdown",
   "id": "4213b59a-341d-4efe-8006-08cdade6a72a",
   "metadata": {},
   "source": [
    "-----"
   ]
  },
  {
   "cell_type": "markdown",
   "id": "964f62b3-e427-46b4-9243-29fa5ccab6fb",
   "metadata": {},
   "source": [
    "## Work on creating date range and/or period index\n",
    "- Start date shouldn't be earliest in operation date since that's 1960\n",
    "- Start date should be the beginning of time series taking climate data and energy generated data into account\n",
    "    - How far do I want to go back?\n",
    "- Decide on hourly vs daily!\n",
    "- Use period index or datetime index???\n",
    "    - \"There are some functions available in DateTimeIndex (such as is_month_start, is_quarter_end) which are not available in PeriodIndex.\""
   ]
  },
  {
   "cell_type": "code",
   "execution_count": 545,
   "id": "32335e76-ec7a-4b0b-ac4d-f7b0fbc48ea1",
   "metadata": {
    "tags": []
   },
   "outputs": [
    {
     "data": {
      "text/plain": [
       "datetime.date(1960, 4, 2)"
      ]
     },
     "execution_count": 545,
     "metadata": {},
     "output_type": "execute_result"
    }
   ],
   "source": [
    "# Start date shouldn't be\n",
    "start_date = df['Inbetriebnahmedatum'].min().date()\n",
    "start_date"
   ]
  },
  {
   "cell_type": "code",
   "execution_count": 546,
   "id": "d742d67a-1046-4741-9000-6984d9128b6a",
   "metadata": {
    "tags": []
   },
   "outputs": [
    {
     "data": {
      "text/plain": [
       "datetime.date(2023, 8, 11)"
      ]
     },
     "execution_count": 546,
     "metadata": {},
     "output_type": "execute_result"
    }
   ],
   "source": [
    "end_date = df['Inbetriebnahmedatum'].max().date()\n",
    "end_date"
   ]
  },
  {
   "cell_type": "code",
   "execution_count": 550,
   "id": "0b51006f-3070-4042-ac1d-7c744a310b82",
   "metadata": {
    "tags": []
   },
   "outputs": [
    {
     "data": {
      "text/plain": [
       "DatetimeIndex(['1960-04-02', '1960-04-03', '1960-04-04', '1960-04-05',\n",
       "               '1960-04-06', '1960-04-07', '1960-04-08', '1960-04-09',\n",
       "               '1960-04-10', '1960-04-11',\n",
       "               ...\n",
       "               '2023-08-02', '2023-08-03', '2023-08-04', '2023-08-05',\n",
       "               '2023-08-06', '2023-08-07', '2023-08-08', '2023-08-09',\n",
       "               '2023-08-10', '2023-08-11'],\n",
       "              dtype='datetime64[ns]', length=23142, freq='D')"
      ]
     },
     "execution_count": 550,
     "metadata": {},
     "output_type": "execute_result"
    }
   ],
   "source": [
    "# create date range\n",
    "pd.date_range(start=start_date, end=end_date, freq='D',)"
   ]
  },
  {
   "cell_type": "code",
   "execution_count": 554,
   "id": "54788cbf-e5fa-4e16-8dcb-e925611947c9",
   "metadata": {
    "tags": []
   },
   "outputs": [],
   "source": [
    "# This year only\n",
    "datetime_index = pd.date_range(start='2023-01-01', end=end_date, freq='D',)"
   ]
  },
  {
   "cell_type": "code",
   "execution_count": 555,
   "id": "575937eb-407c-4cc4-93f9-18d4856a303b",
   "metadata": {
    "tags": []
   },
   "outputs": [
    {
     "data": {
      "text/plain": [
       "DatetimeIndex(['2023-01-01', '2023-01-02', '2023-01-03', '2023-01-04',\n",
       "               '2023-01-05', '2023-01-06', '2023-01-07', '2023-01-08',\n",
       "               '2023-01-09', '2023-01-10',\n",
       "               ...\n",
       "               '2023-08-02', '2023-08-03', '2023-08-04', '2023-08-05',\n",
       "               '2023-08-06', '2023-08-07', '2023-08-08', '2023-08-09',\n",
       "               '2023-08-10', '2023-08-11'],\n",
       "              dtype='datetime64[ns]', length=223, freq='D')"
      ]
     },
     "execution_count": 555,
     "metadata": {},
     "output_type": "execute_result"
    }
   ],
   "source": [
    "datetime_index"
   ]
  },
  {
   "cell_type": "code",
   "execution_count": null,
   "id": "f05987ea-b3a4-48b0-96a6-79b3e529e24a",
   "metadata": {},
   "outputs": [],
   "source": [
    "# For example, this will return True since the period is 1Day. This test cannot be done with a Timestamp. \n",
    "# p = pd.Period('2017-06-13')\n",
    "# test = pd.Timestamp('2017-06-13 22:11')\n",
    "# p.start_time < test < p.end_time"
   ]
  },
  {
   "cell_type": "code",
   "execution_count": 582,
   "id": "74a0d6f0-fc78-41df-8949-a401459a97d5",
   "metadata": {
    "tags": []
   },
   "outputs": [
    {
     "name": "stdout",
     "output_type": "stream",
     "text": [
      "<class 'pandas.core.frame.DataFrame'>\n",
      "RangeIndex: 30645 entries, 0 to 30644\n",
      "Data columns (total 25 columns):\n",
      " #   Column                                 Non-Null Count  Dtype         \n",
      "---  ------                                 --------------  -----         \n",
      " 0   EinheitMastrNummer                     30645 non-null  object        \n",
      " 1   DatumLetzteAktualisierung              30645 non-null  datetime64[ns]\n",
      " 2   Bundesland                             30645 non-null  object        \n",
      " 3   Postleitzahl                           30645 non-null  int64         \n",
      " 4   Ort                                    30645 non-null  object        \n",
      " 5   Laengengrad                            30645 non-null  float64       \n",
      " 6   Breitengrad                            30645 non-null  float64       \n",
      " 7   Registrierungsdatum                    30645 non-null  datetime64[ns]\n",
      " 8   Inbetriebnahmedatum                    30645 non-null  datetime64[ns]\n",
      " 9   EinheitBetriebsstatus                  30645 non-null  object        \n",
      " 10  DatumEndgueltigeStilllegung            1158 non-null   datetime64[ns]\n",
      " 11  DatumBeginnVoruebergehendeStilllegung  68 non-null     datetime64[ns]\n",
      " 12  DatumWiederaufnahmeBetrieb             6 non-null      datetime64[ns]\n",
      " 13  NameStromerzeugungseinheit             30645 non-null  object        \n",
      " 14  Nettonennleistung                      30645 non-null  float64       \n",
      " 15  AnschlussAnHoechstOderHochSpannung     22071 non-null  float64       \n",
      " 16  Einspeisungsart                        30207 non-null  object        \n",
      " 17  NameWindpark                           29859 non-null  object        \n",
      " 18  Hersteller                             30388 non-null  object        \n",
      " 19  Technologie                            30645 non-null  object        \n",
      " 20  Typenbezeichnung                       30383 non-null  object        \n",
      " 21  Nabenhoehe                             30645 non-null  float64       \n",
      " 22  Rotordurchmesser                       30645 non-null  float64       \n",
      " 23  Rotorblattenteisungssystem             23266 non-null  float64       \n",
      " 24  area_blades                            30645 non-null  int64         \n",
      "dtypes: datetime64[ns](6), float64(7), int64(2), object(10)\n",
      "memory usage: 5.8+ MB\n"
     ]
    }
   ],
   "source": [
    "df.info()"
   ]
  },
  {
   "cell_type": "code",
   "execution_count": 579,
   "id": "62c713b0-c56e-4d59-898b-ecc8ca0b221c",
   "metadata": {
    "tags": []
   },
   "outputs": [
    {
     "data": {
      "text/plain": [
       "Inbetriebnahmedatum\n",
       "2017-09-29    65\n",
       "2001-12-21    65\n",
       "2001-12-20    58\n",
       "2017-05-31    55\n",
       "2002-12-19    53\n",
       "2000-01-01    50\n",
       "2001-12-19    47\n",
       "2004-12-30    47\n",
       "2002-12-20    46\n",
       "2001-12-28    45\n",
       "2017-06-30    45\n",
       "2013-12-20    45\n",
       "2005-12-29    43\n",
       "2005-12-30    41\n",
       "2004-12-28    41\n",
       "2003-12-23    41\n",
       "2015-12-30    40\n",
       "2002-12-18    40\n",
       "2001-12-27    39\n",
       "2013-12-19    38\n",
       "2017-04-28    38\n",
       "2006-12-28    37\n",
       "2006-12-29    37\n",
       "2003-12-18    37\n",
       "2003-12-19    37\n",
       "2017-09-28    37\n",
       "2012-12-21    37\n",
       "2004-07-29    35\n",
       "2001-03-01    35\n",
       "2003-12-30    34\n",
       "Name: count, dtype: int64"
      ]
     },
     "execution_count": 579,
     "metadata": {},
     "output_type": "execute_result"
    }
   ],
   "source": [
    "# Number of turbines that went into operation grouped by day\n",
    "df.groupby(by='Inbetriebnahmedatum')['Inbetriebnahmedatum'].value_counts().sort_values(ascending=False).head(30)"
   ]
  },
  {
   "cell_type": "code",
   "execution_count": 567,
   "id": "8cbf3cfb-080f-4c32-9751-47368fb7d357",
   "metadata": {
    "tags": []
   },
   "outputs": [
    {
     "data": {
      "text/plain": [
       "Inbetriebnahmedatum\n",
       "1960-04-02    1\n",
       "1983-11-01    1\n",
       "1985-08-22    1\n",
       "1987-01-19    1\n",
       "1988-03-01    1\n",
       "             ..\n",
       "2023-08-04    6\n",
       "2023-08-07    1\n",
       "2023-08-09    1\n",
       "2023-08-10    3\n",
       "2023-08-11    2\n",
       "Name: Inbetriebnahmedatum, Length: 7250, dtype: int64"
      ]
     },
     "execution_count": 567,
     "metadata": {},
     "output_type": "execute_result"
    }
   ],
   "source": [
    "df.groupby(by='Inbetriebnahmedatum')['Inbetriebnahmedatum'].count()"
   ]
  },
  {
   "cell_type": "markdown",
   "id": "2abfe41a-7553-45ad-83af-3674ade636c9",
   "metadata": {},
   "source": [
    "#### Aggregate continuous numerical turbine features on the 2023 datetime index\n",
    "- Logic: Need to check if turbine is in operation on that specific day\n",
    "- Use GroupBy.apply()?\n",
    "    - https://pandas.pydata.org/docs/reference/api/pandas.core.groupby.DataFrameGroupBy.apply.html\n",
    "    - Also look at GroupBy.aggregate()\n",
    "        - Can I use the faster numba engine in case the calculations take super long?"
   ]
  },
  {
   "cell_type": "code",
   "execution_count": null,
   "id": "89caba31-eda1-42ea-a0b3-77da64912ee1",
   "metadata": {},
   "outputs": [],
   "source": [
    "df.groupby(by='Inbetriebnahmedatum')['Inbetriebnahmedatum']"
   ]
  },
  {
   "cell_type": "code",
   "execution_count": 557,
   "id": "364bbe91-3b03-4936-aaed-0882109f932c",
   "metadata": {
    "tags": []
   },
   "outputs": [
    {
     "data": {
      "text/plain": [
       "Timestamp('2017-09-01 00:00:00')"
      ]
     },
     "execution_count": 557,
     "metadata": {},
     "output_type": "execute_result"
    }
   ],
   "source": [
    "df['Inbetriebnahmedatum'].loc[0]"
   ]
  },
  {
   "cell_type": "code",
   "execution_count": 539,
   "id": "24908d11-62cb-4079-a3bd-3e2ec4ee6b24",
   "metadata": {
    "tags": []
   },
   "outputs": [
    {
     "name": "stdout",
     "output_type": "stream",
     "text": [
      "<class 'pandas.core.frame.DataFrame'>\n",
      "RangeIndex: 30645 entries, 0 to 30644\n",
      "Data columns (total 25 columns):\n",
      " #   Column                                 Non-Null Count  Dtype         \n",
      "---  ------                                 --------------  -----         \n",
      " 0   EinheitMastrNummer                     30645 non-null  object        \n",
      " 1   DatumLetzteAktualisierung              30645 non-null  datetime64[ns]\n",
      " 2   Bundesland                             30645 non-null  object        \n",
      " 3   Postleitzahl                           30645 non-null  int64         \n",
      " 4   Ort                                    30645 non-null  object        \n",
      " 5   Laengengrad                            30645 non-null  float64       \n",
      " 6   Breitengrad                            30645 non-null  float64       \n",
      " 7   Registrierungsdatum                    30645 non-null  datetime64[ns]\n",
      " 8   Inbetriebnahmedatum                    30645 non-null  datetime64[ns]\n",
      " 9   EinheitBetriebsstatus                  30645 non-null  object        \n",
      " 10  DatumEndgueltigeStilllegung            1158 non-null   datetime64[ns]\n",
      " 11  DatumBeginnVoruebergehendeStilllegung  68 non-null     datetime64[ns]\n",
      " 12  DatumWiederaufnahmeBetrieb             6 non-null      datetime64[ns]\n",
      " 13  NameStromerzeugungseinheit             30645 non-null  object        \n",
      " 14  Nettonennleistung                      30645 non-null  float64       \n",
      " 15  AnschlussAnHoechstOderHochSpannung     22071 non-null  float64       \n",
      " 16  Einspeisungsart                        30207 non-null  object        \n",
      " 17  NameWindpark                           29859 non-null  object        \n",
      " 18  Hersteller                             30388 non-null  object        \n",
      " 19  Technologie                            30645 non-null  object        \n",
      " 20  Typenbezeichnung                       30383 non-null  object        \n",
      " 21  Nabenhoehe                             30645 non-null  float64       \n",
      " 22  Rotordurchmesser                       30645 non-null  float64       \n",
      " 23  Rotorblattenteisungssystem             23266 non-null  float64       \n",
      " 24  area_blades                            30645 non-null  int64         \n",
      "dtypes: datetime64[ns](6), float64(7), int64(2), object(10)\n",
      "memory usage: 5.8+ MB\n"
     ]
    }
   ],
   "source": [
    "df.info()"
   ]
  },
  {
   "cell_type": "code",
   "execution_count": 540,
   "id": "7092b1eb-4972-4257-b3f9-58aac4b48e1a",
   "metadata": {
    "tags": []
   },
   "outputs": [
    {
     "data": {
      "text/html": [
       "<div>\n",
       "<style scoped>\n",
       "    .dataframe tbody tr th:only-of-type {\n",
       "        vertical-align: middle;\n",
       "    }\n",
       "\n",
       "    .dataframe tbody tr th {\n",
       "        vertical-align: top;\n",
       "    }\n",
       "\n",
       "    .dataframe thead th {\n",
       "        text-align: right;\n",
       "    }\n",
       "</style>\n",
       "<table border=\"1\" class=\"dataframe\">\n",
       "  <thead>\n",
       "    <tr style=\"text-align: right;\">\n",
       "      <th></th>\n",
       "      <th>EinheitMastrNummer</th>\n",
       "      <th>DatumLetzteAktualisierung</th>\n",
       "      <th>Bundesland</th>\n",
       "      <th>Postleitzahl</th>\n",
       "      <th>Ort</th>\n",
       "      <th>Laengengrad</th>\n",
       "      <th>Breitengrad</th>\n",
       "      <th>Registrierungsdatum</th>\n",
       "      <th>Inbetriebnahmedatum</th>\n",
       "      <th>EinheitBetriebsstatus</th>\n",
       "      <th>DatumEndgueltigeStilllegung</th>\n",
       "      <th>DatumBeginnVoruebergehendeStilllegung</th>\n",
       "      <th>DatumWiederaufnahmeBetrieb</th>\n",
       "      <th>NameStromerzeugungseinheit</th>\n",
       "      <th>Nettonennleistung</th>\n",
       "      <th>AnschlussAnHoechstOderHochSpannung</th>\n",
       "      <th>Einspeisungsart</th>\n",
       "      <th>NameWindpark</th>\n",
       "      <th>Hersteller</th>\n",
       "      <th>Technologie</th>\n",
       "      <th>Typenbezeichnung</th>\n",
       "      <th>Nabenhoehe</th>\n",
       "      <th>Rotordurchmesser</th>\n",
       "      <th>Rotorblattenteisungssystem</th>\n",
       "      <th>area_blades</th>\n",
       "    </tr>\n",
       "  </thead>\n",
       "  <tbody>\n",
       "    <tr>\n",
       "      <th>20209</th>\n",
       "      <td>SEE952835579285</td>\n",
       "      <td>2023-01-16 15:52:02.937378800</td>\n",
       "      <td>Mecklenburg-Vorpommern</td>\n",
       "      <td>18516</td>\n",
       "      <td>Süderholz</td>\n",
       "      <td>13.060745</td>\n",
       "      <td>54.070134</td>\n",
       "      <td>2022-01-14</td>\n",
       "      <td>2022-01-13</td>\n",
       "      <td>In Betrieb</td>\n",
       "      <td>NaT</td>\n",
       "      <td>NaT</td>\n",
       "      <td>NaT</td>\n",
       "      <td>L und L (B2)</td>\n",
       "      <td>2300.0</td>\n",
       "      <td>1.0</td>\n",
       "      <td>Volleinspeisung</td>\n",
       "      <td>L und L KG (B2)</td>\n",
       "      <td>ENERCON GmbH</td>\n",
       "      <td>Horizontalläufer</td>\n",
       "      <td>E 82 E2</td>\n",
       "      <td>138.38</td>\n",
       "      <td>82.00</td>\n",
       "      <td>0.0</td>\n",
       "      <td>5281</td>\n",
       "    </tr>\n",
       "    <tr>\n",
       "      <th>20823</th>\n",
       "      <td>SEE940887124522</td>\n",
       "      <td>2020-08-25 11:47:49.328278700</td>\n",
       "      <td>Sachsen</td>\n",
       "      <td>2763</td>\n",
       "      <td>Oberseifersdorf</td>\n",
       "      <td>14.805687</td>\n",
       "      <td>50.955066</td>\n",
       "      <td>2020-08-20</td>\n",
       "      <td>2005-12-10</td>\n",
       "      <td>In Betrieb</td>\n",
       "      <td>NaT</td>\n",
       "      <td>NaT</td>\n",
       "      <td>NaT</td>\n",
       "      <td>OS 04</td>\n",
       "      <td>600.0</td>\n",
       "      <td>NaN</td>\n",
       "      <td>Volleinspeisung</td>\n",
       "      <td>Oberseifersdorf</td>\n",
       "      <td>ENERCON GmbH</td>\n",
       "      <td>Horizontalläufer</td>\n",
       "      <td>E 40</td>\n",
       "      <td>46.00</td>\n",
       "      <td>44.00</td>\n",
       "      <td>0.0</td>\n",
       "      <td>1520</td>\n",
       "    </tr>\n",
       "    <tr>\n",
       "      <th>29308</th>\n",
       "      <td>SEE971471429815</td>\n",
       "      <td>2021-08-18 08:53:53.587928400</td>\n",
       "      <td>Niedersachsen</td>\n",
       "      <td>26789</td>\n",
       "      <td>Leer</td>\n",
       "      <td>7.451358</td>\n",
       "      <td>53.255197</td>\n",
       "      <td>2021-01-27</td>\n",
       "      <td>2012-02-01</td>\n",
       "      <td>In Betrieb</td>\n",
       "      <td>NaT</td>\n",
       "      <td>NaT</td>\n",
       "      <td>NaT</td>\n",
       "      <td>KWEA 2 LagerHaus 10 kW</td>\n",
       "      <td>9.8</td>\n",
       "      <td>NaN</td>\n",
       "      <td>Teileinspeisung (einschließlich Eigenverbrauch)</td>\n",
       "      <td>KWEA 1-3 LagerHaus</td>\n",
       "      <td>Sonstige</td>\n",
       "      <td>Horizontalläufer</td>\n",
       "      <td>Aircon 10 S</td>\n",
       "      <td>18.50</td>\n",
       "      <td>7.13</td>\n",
       "      <td>0.0</td>\n",
       "      <td>39</td>\n",
       "    </tr>\n",
       "    <tr>\n",
       "      <th>10704</th>\n",
       "      <td>SEE912378266806</td>\n",
       "      <td>2023-03-20 15:05:55.483189000</td>\n",
       "      <td>Rheinland-Pfalz</td>\n",
       "      <td>55471</td>\n",
       "      <td>Fronhofen</td>\n",
       "      <td>7.453118</td>\n",
       "      <td>50.003983</td>\n",
       "      <td>2019-10-29</td>\n",
       "      <td>2013-11-29</td>\n",
       "      <td>In Betrieb</td>\n",
       "      <td>NaT</td>\n",
       "      <td>NaT</td>\n",
       "      <td>NaT</td>\n",
       "      <td>825503</td>\n",
       "      <td>2300.0</td>\n",
       "      <td>1.0</td>\n",
       "      <td>Volleinspeisung</td>\n",
       "      <td>Kisselsheide</td>\n",
       "      <td>ENERCON GmbH</td>\n",
       "      <td>Horizontalläufer</td>\n",
       "      <td>E-82 E2</td>\n",
       "      <td>138.00</td>\n",
       "      <td>82.00</td>\n",
       "      <td>NaN</td>\n",
       "      <td>5281</td>\n",
       "    </tr>\n",
       "    <tr>\n",
       "      <th>29634</th>\n",
       "      <td>SEE979247219103</td>\n",
       "      <td>2021-01-31 08:19:25.953754100</td>\n",
       "      <td>Brandenburg</td>\n",
       "      <td>16928</td>\n",
       "      <td>Pritzwalk</td>\n",
       "      <td>12.121800</td>\n",
       "      <td>53.004200</td>\n",
       "      <td>2021-01-31</td>\n",
       "      <td>2016-02-25</td>\n",
       "      <td>In Betrieb</td>\n",
       "      <td>NaT</td>\n",
       "      <td>NaT</td>\n",
       "      <td>NaT</td>\n",
       "      <td>Bürgerwindpark Klein Wolterstorf</td>\n",
       "      <td>2350.0</td>\n",
       "      <td>0.0</td>\n",
       "      <td>Volleinspeisung</td>\n",
       "      <td>Windpark Klein Wolterstorf</td>\n",
       "      <td>ENERCON GmbH</td>\n",
       "      <td>Horizontalläufer</td>\n",
       "      <td>E-92</td>\n",
       "      <td>138.00</td>\n",
       "      <td>92.00</td>\n",
       "      <td>0.0</td>\n",
       "      <td>6647</td>\n",
       "    </tr>\n",
       "  </tbody>\n",
       "</table>\n",
       "</div>"
      ],
      "text/plain": [
       "      EinheitMastrNummer     DatumLetzteAktualisierung  \\\n",
       "20209    SEE952835579285 2023-01-16 15:52:02.937378800   \n",
       "20823    SEE940887124522 2020-08-25 11:47:49.328278700   \n",
       "29308    SEE971471429815 2021-08-18 08:53:53.587928400   \n",
       "10704    SEE912378266806 2023-03-20 15:05:55.483189000   \n",
       "29634    SEE979247219103 2021-01-31 08:19:25.953754100   \n",
       "\n",
       "                   Bundesland  Postleitzahl              Ort  Laengengrad  \\\n",
       "20209  Mecklenburg-Vorpommern         18516        Süderholz    13.060745   \n",
       "20823                 Sachsen          2763  Oberseifersdorf    14.805687   \n",
       "29308           Niedersachsen         26789             Leer     7.451358   \n",
       "10704         Rheinland-Pfalz         55471        Fronhofen     7.453118   \n",
       "29634             Brandenburg         16928        Pritzwalk    12.121800   \n",
       "\n",
       "       Breitengrad Registrierungsdatum Inbetriebnahmedatum  \\\n",
       "20209    54.070134          2022-01-14          2022-01-13   \n",
       "20823    50.955066          2020-08-20          2005-12-10   \n",
       "29308    53.255197          2021-01-27          2012-02-01   \n",
       "10704    50.003983          2019-10-29          2013-11-29   \n",
       "29634    53.004200          2021-01-31          2016-02-25   \n",
       "\n",
       "      EinheitBetriebsstatus DatumEndgueltigeStilllegung  \\\n",
       "20209            In Betrieb                         NaT   \n",
       "20823            In Betrieb                         NaT   \n",
       "29308            In Betrieb                         NaT   \n",
       "10704            In Betrieb                         NaT   \n",
       "29634            In Betrieb                         NaT   \n",
       "\n",
       "      DatumBeginnVoruebergehendeStilllegung DatumWiederaufnahmeBetrieb  \\\n",
       "20209                                   NaT                        NaT   \n",
       "20823                                   NaT                        NaT   \n",
       "29308                                   NaT                        NaT   \n",
       "10704                                   NaT                        NaT   \n",
       "29634                                   NaT                        NaT   \n",
       "\n",
       "             NameStromerzeugungseinheit  Nettonennleistung  \\\n",
       "20209                      L und L (B2)             2300.0   \n",
       "20823                             OS 04              600.0   \n",
       "29308            KWEA 2 LagerHaus 10 kW                9.8   \n",
       "10704                            825503             2300.0   \n",
       "29634  Bürgerwindpark Klein Wolterstorf             2350.0   \n",
       "\n",
       "       AnschlussAnHoechstOderHochSpannung  \\\n",
       "20209                                 1.0   \n",
       "20823                                 NaN   \n",
       "29308                                 NaN   \n",
       "10704                                 1.0   \n",
       "29634                                 0.0   \n",
       "\n",
       "                                       Einspeisungsart  \\\n",
       "20209                                  Volleinspeisung   \n",
       "20823                                  Volleinspeisung   \n",
       "29308  Teileinspeisung (einschließlich Eigenverbrauch)   \n",
       "10704                                  Volleinspeisung   \n",
       "29634                                  Volleinspeisung   \n",
       "\n",
       "                     NameWindpark    Hersteller       Technologie  \\\n",
       "20209             L und L KG (B2)  ENERCON GmbH  Horizontalläufer   \n",
       "20823             Oberseifersdorf  ENERCON GmbH  Horizontalläufer   \n",
       "29308          KWEA 1-3 LagerHaus      Sonstige  Horizontalläufer   \n",
       "10704                Kisselsheide  ENERCON GmbH  Horizontalläufer   \n",
       "29634  Windpark Klein Wolterstorf  ENERCON GmbH  Horizontalläufer   \n",
       "\n",
       "      Typenbezeichnung  Nabenhoehe  Rotordurchmesser  \\\n",
       "20209          E 82 E2      138.38             82.00   \n",
       "20823             E 40       46.00             44.00   \n",
       "29308      Aircon 10 S       18.50              7.13   \n",
       "10704          E-82 E2      138.00             82.00   \n",
       "29634             E-92      138.00             92.00   \n",
       "\n",
       "       Rotorblattenteisungssystem  area_blades  \n",
       "20209                         0.0         5281  \n",
       "20823                         0.0         1520  \n",
       "29308                         0.0           39  \n",
       "10704                         NaN         5281  \n",
       "29634                         0.0         6647  "
      ]
     },
     "execution_count": 540,
     "metadata": {},
     "output_type": "execute_result"
    }
   ],
   "source": [
    "df.sample(5)"
   ]
  },
  {
   "cell_type": "code",
   "execution_count": 478,
   "id": "46265a8e-0d45-4b48-bf5e-3c90690e2f26",
   "metadata": {
    "tags": []
   },
   "outputs": [
    {
     "data": {
      "image/png": "[encoded data removed]",
      "text/plain": [
       "<Figure size 704x528 with 1 Axes>"
      ]
     },
     "metadata": {},
     "output_type": "display_data"
    }
   ],
   "source": [
    "plt.violinplot(df['Nettonennleistung'], showmeans=True, showmedians=True)\n",
    "plt.show()"
   ]
  },
  {
   "cell_type": "code",
   "execution_count": 523,
   "id": "28aedd8e-89c7-4d3e-9de2-abf85958aeb8",
   "metadata": {
    "tags": []
   },
   "outputs": [
    {
     "data": {
      "text/html": [
       "<div>\n",
       "<style scoped>\n",
       "    .dataframe tbody tr th:only-of-type {\n",
       "        vertical-align: middle;\n",
       "    }\n",
       "\n",
       "    .dataframe tbody tr th {\n",
       "        vertical-align: top;\n",
       "    }\n",
       "\n",
       "    .dataframe thead th {\n",
       "        text-align: right;\n",
       "    }\n",
       "</style>\n",
       "<table border=\"1\" class=\"dataframe\">\n",
       "  <thead>\n",
       "    <tr style=\"text-align: right;\">\n",
       "      <th></th>\n",
       "      <th>Nettonennleistung</th>\n",
       "      <th>Nabenhoehe</th>\n",
       "      <th>Rotordurchmesser</th>\n",
       "    </tr>\n",
       "  </thead>\n",
       "  <tbody>\n",
       "    <tr>\n",
       "      <th>count</th>\n",
       "      <td>30645.000000</td>\n",
       "      <td>30645.000000</td>\n",
       "      <td>30645.000000</td>\n",
       "    </tr>\n",
       "    <tr>\n",
       "      <th>mean</th>\n",
       "      <td>1986.180851</td>\n",
       "      <td>95.118928</td>\n",
       "      <td>80.258006</td>\n",
       "    </tr>\n",
       "    <tr>\n",
       "      <th>std</th>\n",
       "      <td>1117.418214</td>\n",
       "      <td>34.356251</td>\n",
       "      <td>31.039227</td>\n",
       "    </tr>\n",
       "    <tr>\n",
       "      <th>min</th>\n",
       "      <td>0.120000</td>\n",
       "      <td>0.360000</td>\n",
       "      <td>0.300000</td>\n",
       "    </tr>\n",
       "    <tr>\n",
       "      <th>25%</th>\n",
       "      <td>1300.000000</td>\n",
       "      <td>67.000000</td>\n",
       "      <td>62.000000</td>\n",
       "    </tr>\n",
       "    <tr>\n",
       "      <th>50%</th>\n",
       "      <td>2000.000000</td>\n",
       "      <td>98.000000</td>\n",
       "      <td>80.000000</td>\n",
       "    </tr>\n",
       "    <tr>\n",
       "      <th>75%</th>\n",
       "      <td>2530.000000</td>\n",
       "      <td>125.000000</td>\n",
       "      <td>101.000000</td>\n",
       "    </tr>\n",
       "    <tr>\n",
       "      <th>max</th>\n",
       "      <td>8000.000000</td>\n",
       "      <td>173.480000</td>\n",
       "      <td>180.000000</td>\n",
       "    </tr>\n",
       "  </tbody>\n",
       "</table>\n",
       "</div>"
      ],
      "text/plain": [
       "       Nettonennleistung    Nabenhoehe  Rotordurchmesser\n",
       "count       30645.000000  30645.000000      30645.000000\n",
       "mean         1986.180851     95.118928         80.258006\n",
       "std          1117.418214     34.356251         31.039227\n",
       "min             0.120000      0.360000          0.300000\n",
       "25%          1300.000000     67.000000         62.000000\n",
       "50%          2000.000000     98.000000         80.000000\n",
       "75%          2530.000000    125.000000        101.000000\n",
       "max          8000.000000    173.480000        180.000000"
      ]
     },
     "execution_count": 523,
     "metadata": {},
     "output_type": "execute_result"
    }
   ],
   "source": [
    "df[['Nettonennleistung', 'Nabenhoehe', 'Rotordurchmesser']].describe()"
   ]
  },
  {
   "cell_type": "markdown",
   "id": "08af3882-f2a0-48df-a53c-f3ba281691db",
   "metadata": {},
   "source": [
    "#### Boxplots showing distributions of hub height and rotor blade diameter"
   ]
  },
  {
   "cell_type": "code",
   "execution_count": 524,
   "id": "a486743a-333a-4fca-aaf3-4540d1120a2b",
   "metadata": {
    "tags": []
   },
   "outputs": [
    {
     "data": {
      "text/plain": [
       "<Axes: >"
      ]
     },
     "execution_count": 524,
     "metadata": {},
     "output_type": "execute_result"
    },
    {
     "data": {
      "image/png": "[encoded data removed]",
      "text/plain": [
       "<Figure size 704x528 with 1 Axes>"
      ]
     },
     "metadata": {},
     "output_type": "display_data"
    }
   ],
   "source": [
    "df[['Nabenhoehe', 'Rotordurchmesser']].boxplot(grid=False)"
   ]
  },
  {
   "cell_type": "markdown",
   "id": "cbddc856-c442-4779-b64a-01e11fb6b01b",
   "metadata": {},
   "source": [
    "### Creating new transformations to the dataframe starting here\n",
    "- Be sure to save to pickle again at some point"
   ]
  },
  {
   "cell_type": "code",
   "execution_count": 525,
   "id": "b77da4ee-f8c3-488d-966e-4494b723ccc0",
   "metadata": {
    "tags": []
   },
   "outputs": [
    {
     "data": {
      "text/plain": [
       "EinheitMastrNummer                           0\n",
       "DatumLetzteAktualisierung                    0\n",
       "Bundesland                                   0\n",
       "Postleitzahl                                 0\n",
       "Ort                                          0\n",
       "Laengengrad                                  0\n",
       "Breitengrad                                  0\n",
       "Registrierungsdatum                          0\n",
       "Inbetriebnahmedatum                          0\n",
       "EinheitBetriebsstatus                        0\n",
       "DatumEndgueltigeStilllegung              29487\n",
       "DatumBeginnVoruebergehendeStilllegung    30577\n",
       "DatumWiederaufnahmeBetrieb               30639\n",
       "NameStromerzeugungseinheit                   0\n",
       "Nettonennleistung                            0\n",
       "AnschlussAnHoechstOderHochSpannung        8574\n",
       "Einspeisungsart                            438\n",
       "NameWindpark                               786\n",
       "Hersteller                                 257\n",
       "Technologie                                  0\n",
       "Typenbezeichnung                           262\n",
       "Nabenhoehe                                   0\n",
       "Rotordurchmesser                             0\n",
       "Rotorblattenteisungssystem                7379\n",
       "dtype: int64"
      ]
     },
     "execution_count": 525,
     "metadata": {},
     "output_type": "execute_result"
    }
   ],
   "source": [
    "df.isna().sum()"
   ]
  },
  {
   "cell_type": "code",
   "execution_count": 496,
   "id": "1d553368-7855-4d4a-9102-17b1ea76bcd3",
   "metadata": {
    "tags": []
   },
   "outputs": [
    {
     "data": {
      "text/html": [
       "<div>\n",
       "<style scoped>\n",
       "    .dataframe tbody tr th:only-of-type {\n",
       "        vertical-align: middle;\n",
       "    }\n",
       "\n",
       "    .dataframe tbody tr th {\n",
       "        vertical-align: top;\n",
       "    }\n",
       "\n",
       "    .dataframe thead th {\n",
       "        text-align: right;\n",
       "    }\n",
       "</style>\n",
       "<table border=\"1\" class=\"dataframe\">\n",
       "  <thead>\n",
       "    <tr style=\"text-align: right;\">\n",
       "      <th></th>\n",
       "      <th>EinheitMastrNummer</th>\n",
       "      <th>DatumLetzteAktualisierung</th>\n",
       "      <th>Bundesland</th>\n",
       "      <th>Postleitzahl</th>\n",
       "      <th>Ort</th>\n",
       "      <th>Laengengrad</th>\n",
       "      <th>Breitengrad</th>\n",
       "      <th>Registrierungsdatum</th>\n",
       "      <th>Inbetriebnahmedatum</th>\n",
       "      <th>EinheitBetriebsstatus</th>\n",
       "      <th>DatumEndgueltigeStilllegung</th>\n",
       "      <th>DatumBeginnVoruebergehendeStilllegung</th>\n",
       "      <th>DatumWiederaufnahmeBetrieb</th>\n",
       "      <th>NameStromerzeugungseinheit</th>\n",
       "      <th>Nettonennleistung</th>\n",
       "      <th>AnschlussAnHoechstOderHochSpannung</th>\n",
       "      <th>Einspeisungsart</th>\n",
       "      <th>NameWindpark</th>\n",
       "      <th>Hersteller</th>\n",
       "      <th>Technologie</th>\n",
       "      <th>Typenbezeichnung</th>\n",
       "      <th>Nabenhoehe</th>\n",
       "      <th>Rotordurchmesser</th>\n",
       "      <th>Rotorblattenteisungssystem</th>\n",
       "    </tr>\n",
       "  </thead>\n",
       "  <tbody>\n",
       "    <tr>\n",
       "      <th>11516</th>\n",
       "      <td>SEE979805185079</td>\n",
       "      <td>2023-08-09 14:25:10.332122800</td>\n",
       "      <td>Mecklenburg-Vorpommern</td>\n",
       "      <td>18258</td>\n",
       "      <td>Rukieten</td>\n",
       "      <td>12.129494</td>\n",
       "      <td>53.894203</td>\n",
       "      <td>2019-11-18</td>\n",
       "      <td>2013-10-15</td>\n",
       "      <td>In Betrieb</td>\n",
       "      <td>NaT</td>\n",
       "      <td>NaT</td>\n",
       "      <td>NaT</td>\n",
       "      <td>WEA 1010313</td>\n",
       "      <td>3050.0</td>\n",
       "      <td>0.0</td>\n",
       "      <td>Volleinspeisung</td>\n",
       "      <td>WP Rukieten</td>\n",
       "      <td>ENERCON GmbH</td>\n",
       "      <td>Horizontalläufer</td>\n",
       "      <td>ENERCON E-101</td>\n",
       "      <td>135.0</td>\n",
       "      <td>101.0</td>\n",
       "      <td>0.0</td>\n",
       "    </tr>\n",
       "    <tr>\n",
       "      <th>968</th>\n",
       "      <td>SEE987220655985</td>\n",
       "      <td>2023-07-26 07:55:06.881304600</td>\n",
       "      <td>Nordrhein-Westfalen</td>\n",
       "      <td>41812</td>\n",
       "      <td>Erkelenz</td>\n",
       "      <td>6.383547</td>\n",
       "      <td>51.043067</td>\n",
       "      <td>2019-02-19</td>\n",
       "      <td>2000-12-14</td>\n",
       "      <td>In Betrieb</td>\n",
       "      <td>NaT</td>\n",
       "      <td>NaT</td>\n",
       "      <td>NaT</td>\n",
       "      <td>NM 65723-04</td>\n",
       "      <td>1000.0</td>\n",
       "      <td>0.0</td>\n",
       "      <td>Volleinspeisung</td>\n",
       "      <td>Windpark Erkelenz Nr. 14 GmbH ＆ Co. KG</td>\n",
       "      <td>NEG Micon Deutschland GmbH</td>\n",
       "      <td>Horizontalläufer</td>\n",
       "      <td>NM60/1000</td>\n",
       "      <td>70.0</td>\n",
       "      <td>60.0</td>\n",
       "      <td>NaN</td>\n",
       "    </tr>\n",
       "    <tr>\n",
       "      <th>4694</th>\n",
       "      <td>SEE936372974796</td>\n",
       "      <td>2021-06-21 09:51:56.171594600</td>\n",
       "      <td>Mecklenburg-Vorpommern</td>\n",
       "      <td>18233</td>\n",
       "      <td>Neubukow</td>\n",
       "      <td>11.687597</td>\n",
       "      <td>54.013436</td>\n",
       "      <td>2019-05-16</td>\n",
       "      <td>2018-12-20</td>\n",
       "      <td>In Betrieb</td>\n",
       "      <td>NaT</td>\n",
       "      <td>NaT</td>\n",
       "      <td>NaT</td>\n",
       "      <td>E 921554</td>\n",
       "      <td>2350.0</td>\n",
       "      <td>0.0</td>\n",
       "      <td>Volleinspeisung</td>\n",
       "      <td>WP Neubukow 2</td>\n",
       "      <td>ENERCON GmbH</td>\n",
       "      <td>Horizontalläufer</td>\n",
       "      <td>Enercon E-92</td>\n",
       "      <td>104.0</td>\n",
       "      <td>92.0</td>\n",
       "      <td>0.0</td>\n",
       "    </tr>\n",
       "    <tr>\n",
       "      <th>16118</th>\n",
       "      <td>SEE988648773411</td>\n",
       "      <td>2021-12-07 14:53:22.930884800</td>\n",
       "      <td>Rheinland-Pfalz</td>\n",
       "      <td>54298</td>\n",
       "      <td>Welschbillig</td>\n",
       "      <td>6.536796</td>\n",
       "      <td>49.850782</td>\n",
       "      <td>2020-04-07</td>\n",
       "      <td>2000-10-11</td>\n",
       "      <td>In Betrieb</td>\n",
       "      <td>NaT</td>\n",
       "      <td>NaT</td>\n",
       "      <td>NaT</td>\n",
       "      <td>1245/02</td>\n",
       "      <td>1300.0</td>\n",
       "      <td>0.0</td>\n",
       "      <td>Volleinspeisung</td>\n",
       "      <td>WP Helenenberg</td>\n",
       "      <td>Nordex Energy GmbH</td>\n",
       "      <td>Horizontalläufer</td>\n",
       "      <td>N60</td>\n",
       "      <td>85.0</td>\n",
       "      <td>60.0</td>\n",
       "      <td>0.0</td>\n",
       "    </tr>\n",
       "    <tr>\n",
       "      <th>3810</th>\n",
       "      <td>SEE909937241923</td>\n",
       "      <td>2022-12-23 08:54:44.088070200</td>\n",
       "      <td>Schleswig-Holstein</td>\n",
       "      <td>25693</td>\n",
       "      <td>Volsemenhusen</td>\n",
       "      <td>9.096489</td>\n",
       "      <td>53.958961</td>\n",
       "      <td>2019-04-17</td>\n",
       "      <td>2013-12-04</td>\n",
       "      <td>In Betrieb</td>\n",
       "      <td>NaT</td>\n",
       "      <td>NaT</td>\n",
       "      <td>NaT</td>\n",
       "      <td>WEA4 - 201979</td>\n",
       "      <td>3075.0</td>\n",
       "      <td>NaN</td>\n",
       "      <td>Volleinspeisung</td>\n",
       "      <td>Volsemenhusen Süd</td>\n",
       "      <td>Vestas Deutschland GmbH</td>\n",
       "      <td>Horizontalläufer</td>\n",
       "      <td>V112</td>\n",
       "      <td>94.0</td>\n",
       "      <td>112.0</td>\n",
       "      <td>0.0</td>\n",
       "    </tr>\n",
       "  </tbody>\n",
       "</table>\n",
       "</div>"
      ],
      "text/plain": [
       "      EinheitMastrNummer     DatumLetzteAktualisierung  \\\n",
       "11516    SEE979805185079 2023-08-09 14:25:10.332122800   \n",
       "968      SEE987220655985 2023-07-26 07:55:06.881304600   \n",
       "4694     SEE936372974796 2021-06-21 09:51:56.171594600   \n",
       "16118    SEE988648773411 2021-12-07 14:53:22.930884800   \n",
       "3810     SEE909937241923 2022-12-23 08:54:44.088070200   \n",
       "\n",
       "                   Bundesland  Postleitzahl            Ort  Laengengrad  \\\n",
       "11516  Mecklenburg-Vorpommern         18258       Rukieten    12.129494   \n",
       "968       Nordrhein-Westfalen         41812       Erkelenz     6.383547   \n",
       "4694   Mecklenburg-Vorpommern         18233       Neubukow    11.687597   \n",
       "16118         Rheinland-Pfalz         54298   Welschbillig     6.536796   \n",
       "3810       Schleswig-Holstein         25693  Volsemenhusen     9.096489   \n",
       "\n",
       "       Breitengrad Registrierungsdatum Inbetriebnahmedatum  \\\n",
       "11516    53.894203          2019-11-18          2013-10-15   \n",
       "968      51.043067          2019-02-19          2000-12-14   \n",
       "4694     54.013436          2019-05-16          2018-12-20   \n",
       "16118    49.850782          2020-04-07          2000-10-11   \n",
       "3810     53.958961          2019-04-17          2013-12-04   \n",
       "\n",
       "      EinheitBetriebsstatus DatumEndgueltigeStilllegung  \\\n",
       "11516            In Betrieb                         NaT   \n",
       "968              In Betrieb                         NaT   \n",
       "4694             In Betrieb                         NaT   \n",
       "16118            In Betrieb                         NaT   \n",
       "3810             In Betrieb                         NaT   \n",
       "\n",
       "      DatumBeginnVoruebergehendeStilllegung DatumWiederaufnahmeBetrieb  \\\n",
       "11516                                   NaT                        NaT   \n",
       "968                                     NaT                        NaT   \n",
       "4694                                    NaT                        NaT   \n",
       "16118                                   NaT                        NaT   \n",
       "3810                                    NaT                        NaT   \n",
       "\n",
       "      NameStromerzeugungseinheit  Nettonennleistung  \\\n",
       "11516                WEA 1010313             3050.0   \n",
       "968                  NM 65723-04             1000.0   \n",
       "4694                    E 921554             2350.0   \n",
       "16118                    1245/02             1300.0   \n",
       "3810               WEA4 - 201979             3075.0   \n",
       "\n",
       "       AnschlussAnHoechstOderHochSpannung  Einspeisungsart  \\\n",
       "11516                                 0.0  Volleinspeisung   \n",
       "968                                   0.0  Volleinspeisung   \n",
       "4694                                  0.0  Volleinspeisung   \n",
       "16118                                 0.0  Volleinspeisung   \n",
       "3810                                  NaN  Volleinspeisung   \n",
       "\n",
       "                                 NameWindpark                  Hersteller  \\\n",
       "11516                             WP Rukieten                ENERCON GmbH   \n",
       "968    Windpark Erkelenz Nr. 14 GmbH ＆ Co. KG  NEG Micon Deutschland GmbH   \n",
       "4694                            WP Neubukow 2                ENERCON GmbH   \n",
       "16118                          WP Helenenberg          Nordex Energy GmbH   \n",
       "3810                        Volsemenhusen Süd     Vestas Deutschland GmbH   \n",
       "\n",
       "            Technologie Typenbezeichnung  Nabenhoehe  Rotordurchmesser  \\\n",
       "11516  Horizontalläufer    ENERCON E-101       135.0             101.0   \n",
       "968    Horizontalläufer        NM60/1000        70.0              60.0   \n",
       "4694   Horizontalläufer     Enercon E-92       104.0              92.0   \n",
       "16118  Horizontalläufer              N60        85.0              60.0   \n",
       "3810   Horizontalläufer             V112        94.0             112.0   \n",
       "\n",
       "       Rotorblattenteisungssystem  \n",
       "11516                         0.0  \n",
       "968                           NaN  \n",
       "4694                          0.0  \n",
       "16118                         0.0  \n",
       "3810                          0.0  "
      ]
     },
     "execution_count": 496,
     "metadata": {},
     "output_type": "execute_result"
    }
   ],
   "source": [
    "df.sample(5)"
   ]
  },
  {
   "cell_type": "code",
   "execution_count": 502,
   "id": "4c9e699c-a9f1-4c85-bd4f-a635de1b7f3a",
   "metadata": {
    "tags": []
   },
   "outputs": [],
   "source": [
    "# df[(df['Einspeisungsart'] == 'Teileinspeisung (einschließlich Eigenverbrauch)')].sort_values(by='Nettonennleistung', ascending=False)"
   ]
  },
  {
   "cell_type": "code",
   "execution_count": 443,
   "id": "63598452-1b5d-49c0-9e9b-7b46b3a81564",
   "metadata": {
    "tags": []
   },
   "outputs": [
    {
     "data": {
      "text/plain": [
       "Einspeisungsart\n",
       "Volleinspeisung                                    0.938458\n",
       "Teileinspeisung (einschließlich Eigenverbrauch)    0.061542\n",
       "Name: proportion, dtype: float64"
      ]
     },
     "execution_count": 443,
     "metadata": {},
     "output_type": "execute_result"
    }
   ],
   "source": [
    "df['Einspeisungsart'].value_counts(normalize=True)"
   ]
  },
  {
   "cell_type": "code",
   "execution_count": 425,
   "id": "f2666721-8f09-480f-8cfe-57208e438e96",
   "metadata": {
    "tags": []
   },
   "outputs": [
    {
     "data": {
      "text/plain": [
       "EinheitBetriebsstatus\n",
       "In Betrieb                   29445\n",
       "Endgültig stillgelegt         1158\n",
       "Vorübergehend stillgelegt       42\n",
       "Name: count, dtype: int64"
      ]
     },
     "execution_count": 425,
     "metadata": {},
     "output_type": "execute_result"
    }
   ],
   "source": [
    "df['EinheitBetriebsstatus'].value_counts()"
   ]
  },
  {
   "cell_type": "code",
   "execution_count": 426,
   "id": "c3d7ac8d-421a-4f20-9d67-9c54dabe633f",
   "metadata": {
    "tags": []
   },
   "outputs": [
    {
     "name": "stdout",
     "output_type": "stream",
     "text": [
      "<class 'pandas.core.series.Series'>\n",
      "Index: 30645 entries, 0 to 34818\n",
      "Series name: DatumBeginnVoruebergehendeStilllegung\n",
      "Non-Null Count  Dtype         \n",
      "--------------  -----         \n",
      "68 non-null     datetime64[ns]\n",
      "dtypes: datetime64[ns](1)\n",
      "memory usage: 478.8 KB\n"
     ]
    }
   ],
   "source": [
    "df['DatumBeginnVoruebergehendeStilllegung'].info()"
   ]
  },
  {
   "cell_type": "code",
   "execution_count": 465,
   "id": "c4548caf-10a9-4b4b-9ab1-9d8375e89ba4",
   "metadata": {
    "tags": []
   },
   "outputs": [
    {
     "data": {
      "text/html": [
       "<div>\n",
       "<style scoped>\n",
       "    .dataframe tbody tr th:only-of-type {\n",
       "        vertical-align: middle;\n",
       "    }\n",
       "\n",
       "    .dataframe tbody tr th {\n",
       "        vertical-align: top;\n",
       "    }\n",
       "\n",
       "    .dataframe thead th {\n",
       "        text-align: right;\n",
       "    }\n",
       "</style>\n",
       "<table border=\"1\" class=\"dataframe\">\n",
       "  <thead>\n",
       "    <tr style=\"text-align: right;\">\n",
       "      <th></th>\n",
       "      <th>EinheitMastrNummer</th>\n",
       "      <th>DatumLetzteAktualisierung</th>\n",
       "      <th>Bundesland</th>\n",
       "      <th>Postleitzahl</th>\n",
       "      <th>Ort</th>\n",
       "      <th>Laengengrad</th>\n",
       "      <th>Breitengrad</th>\n",
       "      <th>Registrierungsdatum</th>\n",
       "      <th>Inbetriebnahmedatum</th>\n",
       "      <th>EinheitBetriebsstatus</th>\n",
       "      <th>DatumEndgueltigeStilllegung</th>\n",
       "      <th>DatumBeginnVoruebergehendeStilllegung</th>\n",
       "      <th>DatumWiederaufnahmeBetrieb</th>\n",
       "      <th>NameStromerzeugungseinheit</th>\n",
       "      <th>Nettonennleistung</th>\n",
       "      <th>AnschlussAnHoechstOderHochSpannung</th>\n",
       "      <th>Einspeisungsart</th>\n",
       "      <th>NameWindpark</th>\n",
       "      <th>Hersteller</th>\n",
       "      <th>Technologie</th>\n",
       "      <th>Typenbezeichnung</th>\n",
       "      <th>Nabenhoehe</th>\n",
       "      <th>Rotordurchmesser</th>\n",
       "      <th>Rotorblattenteisungssystem</th>\n",
       "    </tr>\n",
       "  </thead>\n",
       "  <tbody>\n",
       "    <tr>\n",
       "      <th>108</th>\n",
       "      <td>SEE991510648281</td>\n",
       "      <td>2019-05-28 08:26:38.031669200</td>\n",
       "      <td>Niedersachsen</td>\n",
       "      <td>31592</td>\n",
       "      <td>Stolzenau</td>\n",
       "      <td>8.987413</td>\n",
       "      <td>52.485784</td>\n",
       "      <td>2019-02-04</td>\n",
       "      <td>2002-02-28</td>\n",
       "      <td>In Betrieb</td>\n",
       "      <td>NaT</td>\n",
       "      <td>NaT</td>\n",
       "      <td>NaT</td>\n",
       "      <td>WEA</td>\n",
       "      <td>600.00</td>\n",
       "      <td>NaN</td>\n",
       "      <td>Volleinspeisung</td>\n",
       "      <td>Auf dem Acker</td>\n",
       "      <td>NaN</td>\n",
       "      <td>Horizontalläufer</td>\n",
       "      <td>Enercon-40/6.44</td>\n",
       "      <td>NaN</td>\n",
       "      <td>NaN</td>\n",
       "      <td>NaN</td>\n",
       "    </tr>\n",
       "    <tr>\n",
       "      <th>436</th>\n",
       "      <td>SEE953422376737</td>\n",
       "      <td>2022-02-25 07:29:34.428266600</td>\n",
       "      <td>Sachsen-Anhalt</td>\n",
       "      <td>6449</td>\n",
       "      <td>Aschersleben</td>\n",
       "      <td>11.559211</td>\n",
       "      <td>51.710794</td>\n",
       "      <td>2019-02-09</td>\n",
       "      <td>1998-09-01</td>\n",
       "      <td>In Betrieb</td>\n",
       "      <td>NaT</td>\n",
       "      <td>NaT</td>\n",
       "      <td>NaT</td>\n",
       "      <td>WW 965</td>\n",
       "      <td>750.00</td>\n",
       "      <td>NaN</td>\n",
       "      <td>NaN</td>\n",
       "      <td>Drohndorf</td>\n",
       "      <td>NaN</td>\n",
       "      <td>Horizontalläufer</td>\n",
       "      <td>Wind World 750/52</td>\n",
       "      <td>NaN</td>\n",
       "      <td>NaN</td>\n",
       "      <td>NaN</td>\n",
       "    </tr>\n",
       "    <tr>\n",
       "      <th>829</th>\n",
       "      <td>SEE937914621833</td>\n",
       "      <td>2022-01-13 14:18:12.586623700</td>\n",
       "      <td>Nordrhein-Westfalen</td>\n",
       "      <td>48336</td>\n",
       "      <td>Sassenberg</td>\n",
       "      <td>8.071862</td>\n",
       "      <td>52.065755</td>\n",
       "      <td>2019-02-15</td>\n",
       "      <td>2008-02-01</td>\n",
       "      <td>In Betrieb</td>\n",
       "      <td>NaT</td>\n",
       "      <td>NaT</td>\n",
       "      <td>NaT</td>\n",
       "      <td>Füchtorf-90192</td>\n",
       "      <td>2000.00</td>\n",
       "      <td>0.0</td>\n",
       "      <td>Volleinspeisung</td>\n",
       "      <td>Füchtorf</td>\n",
       "      <td>NaN</td>\n",
       "      <td>Horizontalläufer</td>\n",
       "      <td>None</td>\n",
       "      <td>NaN</td>\n",
       "      <td>NaN</td>\n",
       "      <td>NaN</td>\n",
       "    </tr>\n",
       "    <tr>\n",
       "      <th>1058</th>\n",
       "      <td>SEE915926580188</td>\n",
       "      <td>2023-08-14 13:14:50.594908400</td>\n",
       "      <td>Sachsen</td>\n",
       "      <td>4769</td>\n",
       "      <td>Mügeln</td>\n",
       "      <td>12.907850</td>\n",
       "      <td>51.229786</td>\n",
       "      <td>2019-02-19</td>\n",
       "      <td>2008-03-05</td>\n",
       "      <td>In Betrieb</td>\n",
       "      <td>NaT</td>\n",
       "      <td>NaT</td>\n",
       "      <td>NaT</td>\n",
       "      <td>E 781881</td>\n",
       "      <td>2300.00</td>\n",
       "      <td>NaN</td>\n",
       "      <td>Volleinspeisung</td>\n",
       "      <td>Windpark Ablaß/ Sornzig</td>\n",
       "      <td>ENERCON GmbH</td>\n",
       "      <td>Horizontalläufer</td>\n",
       "      <td>None</td>\n",
       "      <td>NaN</td>\n",
       "      <td>NaN</td>\n",
       "      <td>NaN</td>\n",
       "    </tr>\n",
       "    <tr>\n",
       "      <th>1063</th>\n",
       "      <td>SEE997196118438</td>\n",
       "      <td>2023-07-12 06:48:20.699761100</td>\n",
       "      <td>Sachsen</td>\n",
       "      <td>4769</td>\n",
       "      <td>Mügeln</td>\n",
       "      <td>12.913828</td>\n",
       "      <td>51.227850</td>\n",
       "      <td>2019-02-19</td>\n",
       "      <td>2008-02-26</td>\n",
       "      <td>In Betrieb</td>\n",
       "      <td>NaT</td>\n",
       "      <td>NaT</td>\n",
       "      <td>NaT</td>\n",
       "      <td>E 781882</td>\n",
       "      <td>2300.00</td>\n",
       "      <td>NaN</td>\n",
       "      <td>Volleinspeisung</td>\n",
       "      <td>None</td>\n",
       "      <td>ENERCON GmbH</td>\n",
       "      <td>Horizontalläufer</td>\n",
       "      <td>None</td>\n",
       "      <td>NaN</td>\n",
       "      <td>NaN</td>\n",
       "      <td>NaN</td>\n",
       "    </tr>\n",
       "    <tr>\n",
       "      <th>...</th>\n",
       "      <td>...</td>\n",
       "      <td>...</td>\n",
       "      <td>...</td>\n",
       "      <td>...</td>\n",
       "      <td>...</td>\n",
       "      <td>...</td>\n",
       "      <td>...</td>\n",
       "      <td>...</td>\n",
       "      <td>...</td>\n",
       "      <td>...</td>\n",
       "      <td>...</td>\n",
       "      <td>...</td>\n",
       "      <td>...</td>\n",
       "      <td>...</td>\n",
       "      <td>...</td>\n",
       "      <td>...</td>\n",
       "      <td>...</td>\n",
       "      <td>...</td>\n",
       "      <td>...</td>\n",
       "      <td>...</td>\n",
       "      <td>...</td>\n",
       "      <td>...</td>\n",
       "      <td>...</td>\n",
       "      <td>...</td>\n",
       "    </tr>\n",
       "    <tr>\n",
       "      <th>31847</th>\n",
       "      <td>SEE900242321607</td>\n",
       "      <td>2021-06-11 12:11:38.406014400</td>\n",
       "      <td>Mecklenburg-Vorpommern</td>\n",
       "      <td>19376</td>\n",
       "      <td>Ruhner Berge</td>\n",
       "      <td>11.927039</td>\n",
       "      <td>53.340770</td>\n",
       "      <td>2021-06-04</td>\n",
       "      <td>1998-01-01</td>\n",
       "      <td>In Betrieb</td>\n",
       "      <td>NaT</td>\n",
       "      <td>NaT</td>\n",
       "      <td>NaT</td>\n",
       "      <td>Erzeugungsanlage (Wind_19)</td>\n",
       "      <td>200.00</td>\n",
       "      <td>NaN</td>\n",
       "      <td>Volleinspeisung</td>\n",
       "      <td>Wind Ruhner Berge</td>\n",
       "      <td>ENERCON GmbH</td>\n",
       "      <td>Horizontalläufer</td>\n",
       "      <td>E30</td>\n",
       "      <td>NaN</td>\n",
       "      <td>NaN</td>\n",
       "      <td>1.0</td>\n",
       "    </tr>\n",
       "    <tr>\n",
       "      <th>32348</th>\n",
       "      <td>SEE964205299600</td>\n",
       "      <td>2022-02-24 16:27:44.171651900</td>\n",
       "      <td>Bayern</td>\n",
       "      <td>97708</td>\n",
       "      <td>Bad Bocklet</td>\n",
       "      <td>10.054223</td>\n",
       "      <td>50.275286</td>\n",
       "      <td>2021-08-10</td>\n",
       "      <td>2021-07-28</td>\n",
       "      <td>In Betrieb</td>\n",
       "      <td>NaT</td>\n",
       "      <td>NaT</td>\n",
       "      <td>NaT</td>\n",
       "      <td>Miniwindanlage</td>\n",
       "      <td>6.00</td>\n",
       "      <td>NaN</td>\n",
       "      <td>NaN</td>\n",
       "      <td>None</td>\n",
       "      <td>NaN</td>\n",
       "      <td>Vertikalläufer</td>\n",
       "      <td>None</td>\n",
       "      <td>NaN</td>\n",
       "      <td>NaN</td>\n",
       "      <td>0.0</td>\n",
       "    </tr>\n",
       "    <tr>\n",
       "      <th>32904</th>\n",
       "      <td>SEE929742606625</td>\n",
       "      <td>2022-04-27 11:50:36.694885500</td>\n",
       "      <td>Nordrhein-Westfalen</td>\n",
       "      <td>34414</td>\n",
       "      <td>Warburg</td>\n",
       "      <td>9.130986</td>\n",
       "      <td>51.475613</td>\n",
       "      <td>2022-03-22</td>\n",
       "      <td>2022-03-01</td>\n",
       "      <td>Endgültig stillgelegt</td>\n",
       "      <td>2022-04-26</td>\n",
       "      <td>NaT</td>\n",
       "      <td>NaT</td>\n",
       "      <td>Sky Windrad</td>\n",
       "      <td>1.00</td>\n",
       "      <td>NaN</td>\n",
       "      <td>Teileinspeisung (einschließlich Eigenverbrauch)</td>\n",
       "      <td>None</td>\n",
       "      <td>SkyWind GmbH</td>\n",
       "      <td>Horizontalläufer</td>\n",
       "      <td>None</td>\n",
       "      <td>NaN</td>\n",
       "      <td>NaN</td>\n",
       "      <td>0.0</td>\n",
       "    </tr>\n",
       "    <tr>\n",
       "      <th>34020</th>\n",
       "      <td>SEE956387302940</td>\n",
       "      <td>2023-02-20 10:46:24.867204800</td>\n",
       "      <td>Schleswig-Holstein</td>\n",
       "      <td>24539</td>\n",
       "      <td>Neumünster</td>\n",
       "      <td>9.993050</td>\n",
       "      <td>54.046279</td>\n",
       "      <td>2023-02-20</td>\n",
       "      <td>2023-01-20</td>\n",
       "      <td>In Betrieb</td>\n",
       "      <td>NaT</td>\n",
       "      <td>NaT</td>\n",
       "      <td>NaT</td>\n",
       "      <td>ABR970304256291</td>\n",
       "      <td>9.66</td>\n",
       "      <td>NaN</td>\n",
       "      <td>Teileinspeisung (einschließlich Eigenverbrauch)</td>\n",
       "      <td>Versorgungskonzept: Eigenverbrauch</td>\n",
       "      <td>NaN</td>\n",
       "      <td>Horizontalläufer</td>\n",
       "      <td>None</td>\n",
       "      <td>NaN</td>\n",
       "      <td>NaN</td>\n",
       "      <td>NaN</td>\n",
       "    </tr>\n",
       "    <tr>\n",
       "      <th>34662</th>\n",
       "      <td>SEE916749066187</td>\n",
       "      <td>2023-06-30 07:46:40.697480000</td>\n",
       "      <td>Rheinland-Pfalz</td>\n",
       "      <td>55270</td>\n",
       "      <td>Jugenheim</td>\n",
       "      <td>8.158278</td>\n",
       "      <td>49.947938</td>\n",
       "      <td>2023-06-30</td>\n",
       "      <td>2023-06-29</td>\n",
       "      <td>In Betrieb</td>\n",
       "      <td>NaT</td>\n",
       "      <td>NaT</td>\n",
       "      <td>NaT</td>\n",
       "      <td>Windbaum 10,8 KW/peak</td>\n",
       "      <td>10.80</td>\n",
       "      <td>NaN</td>\n",
       "      <td>Teileinspeisung (einschließlich Eigenverbrauch)</td>\n",
       "      <td>Die energetische Dreifaltigkeit</td>\n",
       "      <td>Sonstige</td>\n",
       "      <td>Vertikalläufer</td>\n",
       "      <td>Wind Tree 36A - DC Junction Box 36 Aeroleafs</td>\n",
       "      <td>NaN</td>\n",
       "      <td>NaN</td>\n",
       "      <td>0.0</td>\n",
       "    </tr>\n",
       "  </tbody>\n",
       "</table>\n",
       "<p>267 rows × 24 columns</p>\n",
       "</div>"
      ],
      "text/plain": [
       "      EinheitMastrNummer     DatumLetzteAktualisierung  \\\n",
       "108      SEE991510648281 2019-05-28 08:26:38.031669200   \n",
       "436      SEE953422376737 2022-02-25 07:29:34.428266600   \n",
       "829      SEE937914621833 2022-01-13 14:18:12.586623700   \n",
       "1058     SEE915926580188 2023-08-14 13:14:50.594908400   \n",
       "1063     SEE997196118438 2023-07-12 06:48:20.699761100   \n",
       "...                  ...                           ...   \n",
       "31847    SEE900242321607 2021-06-11 12:11:38.406014400   \n",
       "32348    SEE964205299600 2022-02-24 16:27:44.171651900   \n",
       "32904    SEE929742606625 2022-04-27 11:50:36.694885500   \n",
       "34020    SEE956387302940 2023-02-20 10:46:24.867204800   \n",
       "34662    SEE916749066187 2023-06-30 07:46:40.697480000   \n",
       "\n",
       "                   Bundesland  Postleitzahl           Ort  Laengengrad  \\\n",
       "108             Niedersachsen         31592     Stolzenau     8.987413   \n",
       "436            Sachsen-Anhalt          6449  Aschersleben    11.559211   \n",
       "829       Nordrhein-Westfalen         48336    Sassenberg     8.071862   \n",
       "1058                  Sachsen          4769        Mügeln    12.907850   \n",
       "1063                  Sachsen          4769        Mügeln    12.913828   \n",
       "...                       ...           ...           ...          ...   \n",
       "31847  Mecklenburg-Vorpommern         19376  Ruhner Berge    11.927039   \n",
       "32348                  Bayern         97708   Bad Bocklet    10.054223   \n",
       "32904     Nordrhein-Westfalen         34414       Warburg     9.130986   \n",
       "34020      Schleswig-Holstein         24539    Neumünster     9.993050   \n",
       "34662         Rheinland-Pfalz         55270     Jugenheim     8.158278   \n",
       "\n",
       "       Breitengrad Registrierungsdatum Inbetriebnahmedatum  \\\n",
       "108      52.485784          2019-02-04          2002-02-28   \n",
       "436      51.710794          2019-02-09          1998-09-01   \n",
       "829      52.065755          2019-02-15          2008-02-01   \n",
       "1058     51.229786          2019-02-19          2008-03-05   \n",
       "1063     51.227850          2019-02-19          2008-02-26   \n",
       "...            ...                 ...                 ...   \n",
       "31847    53.340770          2021-06-04          1998-01-01   \n",
       "32348    50.275286          2021-08-10          2021-07-28   \n",
       "32904    51.475613          2022-03-22          2022-03-01   \n",
       "34020    54.046279          2023-02-20          2023-01-20   \n",
       "34662    49.947938          2023-06-30          2023-06-29   \n",
       "\n",
       "       EinheitBetriebsstatus DatumEndgueltigeStilllegung  \\\n",
       "108               In Betrieb                         NaT   \n",
       "436               In Betrieb                         NaT   \n",
       "829               In Betrieb                         NaT   \n",
       "1058              In Betrieb                         NaT   \n",
       "1063              In Betrieb                         NaT   \n",
       "...                      ...                         ...   \n",
       "31847             In Betrieb                         NaT   \n",
       "32348             In Betrieb                         NaT   \n",
       "32904  Endgültig stillgelegt                  2022-04-26   \n",
       "34020             In Betrieb                         NaT   \n",
       "34662             In Betrieb                         NaT   \n",
       "\n",
       "      DatumBeginnVoruebergehendeStilllegung DatumWiederaufnahmeBetrieb  \\\n",
       "108                                     NaT                        NaT   \n",
       "436                                     NaT                        NaT   \n",
       "829                                     NaT                        NaT   \n",
       "1058                                    NaT                        NaT   \n",
       "1063                                    NaT                        NaT   \n",
       "...                                     ...                        ...   \n",
       "31847                                   NaT                        NaT   \n",
       "32348                                   NaT                        NaT   \n",
       "32904                                   NaT                        NaT   \n",
       "34020                                   NaT                        NaT   \n",
       "34662                                   NaT                        NaT   \n",
       "\n",
       "       NameStromerzeugungseinheit  Nettonennleistung  \\\n",
       "108                           WEA             600.00   \n",
       "436                        WW 965             750.00   \n",
       "829                Füchtorf-90192            2000.00   \n",
       "1058                     E 781881            2300.00   \n",
       "1063                     E 781882            2300.00   \n",
       "...                           ...                ...   \n",
       "31847  Erzeugungsanlage (Wind_19)             200.00   \n",
       "32348              Miniwindanlage               6.00   \n",
       "32904                 Sky Windrad               1.00   \n",
       "34020             ABR970304256291               9.66   \n",
       "34662       Windbaum 10,8 KW/peak              10.80   \n",
       "\n",
       "       AnschlussAnHoechstOderHochSpannung  \\\n",
       "108                                   NaN   \n",
       "436                                   NaN   \n",
       "829                                   0.0   \n",
       "1058                                  NaN   \n",
       "1063                                  NaN   \n",
       "...                                   ...   \n",
       "31847                                 NaN   \n",
       "32348                                 NaN   \n",
       "32904                                 NaN   \n",
       "34020                                 NaN   \n",
       "34662                                 NaN   \n",
       "\n",
       "                                       Einspeisungsart  \\\n",
       "108                                    Volleinspeisung   \n",
       "436                                                NaN   \n",
       "829                                    Volleinspeisung   \n",
       "1058                                   Volleinspeisung   \n",
       "1063                                   Volleinspeisung   \n",
       "...                                                ...   \n",
       "31847                                  Volleinspeisung   \n",
       "32348                                              NaN   \n",
       "32904  Teileinspeisung (einschließlich Eigenverbrauch)   \n",
       "34020  Teileinspeisung (einschließlich Eigenverbrauch)   \n",
       "34662  Teileinspeisung (einschließlich Eigenverbrauch)   \n",
       "\n",
       "                             NameWindpark    Hersteller       Technologie  \\\n",
       "108                         Auf dem Acker           NaN  Horizontalläufer   \n",
       "436                             Drohndorf           NaN  Horizontalläufer   \n",
       "829                              Füchtorf           NaN  Horizontalläufer   \n",
       "1058              Windpark Ablaß/ Sornzig  ENERCON GmbH  Horizontalläufer   \n",
       "1063                                 None  ENERCON GmbH  Horizontalläufer   \n",
       "...                                   ...           ...               ...   \n",
       "31847                   Wind Ruhner Berge  ENERCON GmbH  Horizontalläufer   \n",
       "32348                                None           NaN    Vertikalläufer   \n",
       "32904                                None  SkyWind GmbH  Horizontalläufer   \n",
       "34020  Versorgungskonzept: Eigenverbrauch           NaN  Horizontalläufer   \n",
       "34662     Die energetische Dreifaltigkeit      Sonstige    Vertikalläufer   \n",
       "\n",
       "                                   Typenbezeichnung  Nabenhoehe  \\\n",
       "108                                 Enercon-40/6.44         NaN   \n",
       "436                               Wind World 750/52         NaN   \n",
       "829                                            None         NaN   \n",
       "1058                                           None         NaN   \n",
       "1063                                           None         NaN   \n",
       "...                                             ...         ...   \n",
       "31847                                           E30         NaN   \n",
       "32348                                          None         NaN   \n",
       "32904                                          None         NaN   \n",
       "34020                                          None         NaN   \n",
       "34662  Wind Tree 36A - DC Junction Box 36 Aeroleafs         NaN   \n",
       "\n",
       "       Rotordurchmesser  Rotorblattenteisungssystem  \n",
       "108                 NaN                         NaN  \n",
       "436                 NaN                         NaN  \n",
       "829                 NaN                         NaN  \n",
       "1058                NaN                         NaN  \n",
       "1063                NaN                         NaN  \n",
       "...                 ...                         ...  \n",
       "31847               NaN                         1.0  \n",
       "32348               NaN                         0.0  \n",
       "32904               NaN                         0.0  \n",
       "34020               NaN                         NaN  \n",
       "34662               NaN                         0.0  \n",
       "\n",
       "[267 rows x 24 columns]"
      ]
     },
     "execution_count": 465,
     "metadata": {},
     "output_type": "execute_result"
    }
   ],
   "source": [
    "df[(df['Nabenhoehe'].isna()) & (df['Rotordurchmesser'].isna())]"
   ]
  },
  {
   "cell_type": "code",
   "execution_count": 498,
   "id": "4afdf57e-2fa3-40f8-a362-0aaf268b0eaf",
   "metadata": {
    "tags": []
   },
   "outputs": [],
   "source": [
    "# df[(df['EinheitBetriebsstatus'] == 'In Betrieb') & (df['DatumWiederaufnahmeBetrieb'].notna())]"
   ]
  },
  {
   "cell_type": "code",
   "execution_count": 499,
   "id": "f0fe838f-438e-4249-8e91-371f1baaa00a",
   "metadata": {
    "tags": []
   },
   "outputs": [],
   "source": [
    "# df[(df['EinheitBetriebsstatus'] == 'In Betrieb') & (df['DatumBeginnVoruebergehendeStilllegung'].notna())]"
   ]
  },
  {
   "cell_type": "code",
   "execution_count": 389,
   "id": "786915a9-1542-443d-be42-0e7791c75e88",
   "metadata": {
    "tags": []
   },
   "outputs": [],
   "source": [
    "# df.sort_values(by='Nettonennleistung', ascending=False).head(20)"
   ]
  },
  {
   "cell_type": "code",
   "execution_count": 500,
   "id": "1c51bb81-0f62-488b-886d-233cc3e79723",
   "metadata": {
    "tags": []
   },
   "outputs": [],
   "source": [
    "# df[(df['EinheitBetriebsstatus'] == 'Endgültig stillgelegt') & (df['DatumEndgueltigeStilllegung'].notna())].info()"
   ]
  },
  {
   "cell_type": "code",
   "execution_count": 501,
   "id": "1b45580c-063d-4bfd-be50-69f42d99b789",
   "metadata": {
    "tags": []
   },
   "outputs": [],
   "source": [
    "# df[(df['EinheitBetriebsstatus'] == 'Vorübergehend stillgelegt') & (df['DatumBeginnVoruebergehendeStilllegung'].notna())].info()"
   ]
  },
  {
   "cell_type": "code",
   "execution_count": 214,
   "id": "389b4e34-51e1-4ace-b2a5-da41c447a78f",
   "metadata": {
    "tags": []
   },
   "outputs": [
    {
     "data": {
      "text/plain": [
       "<Axes: >"
      ]
     },
     "execution_count": 214,
     "metadata": {},
     "output_type": "execute_result"
    },
    {
     "data": {
      "image/png": "[encoded data removed]",
      "text/plain": [
       "<Figure size 704x528 with 1 Axes>"
      ]
     },
     "metadata": {},
     "output_type": "display_data"
    }
   ],
   "source": [
    "df['Nettonennleistung'].hist()"
   ]
  },
  {
   "cell_type": "code",
   "execution_count": 215,
   "id": "adf38f9f-2b9e-4515-948f-c627a0a44f7e",
   "metadata": {
    "tags": []
   },
   "outputs": [
    {
     "data": {
      "text/html": [
       "<div>\n",
       "<style scoped>\n",
       "    .dataframe tbody tr th:only-of-type {\n",
       "        vertical-align: middle;\n",
       "    }\n",
       "\n",
       "    .dataframe tbody tr th {\n",
       "        vertical-align: top;\n",
       "    }\n",
       "\n",
       "    .dataframe thead th {\n",
       "        text-align: right;\n",
       "    }\n",
       "</style>\n",
       "<table border=\"1\" class=\"dataframe\">\n",
       "  <thead>\n",
       "    <tr style=\"text-align: right;\">\n",
       "      <th></th>\n",
       "      <th>EinheitMastrNummer</th>\n",
       "      <th>DatumLetzteAktualisierung</th>\n",
       "      <th>Bundesland</th>\n",
       "      <th>Postleitzahl</th>\n",
       "      <th>Ort</th>\n",
       "      <th>Laengengrad</th>\n",
       "      <th>Breitengrad</th>\n",
       "      <th>Registrierungsdatum</th>\n",
       "      <th>Inbetriebnahmedatum</th>\n",
       "      <th>EinheitBetriebsstatus</th>\n",
       "      <th>NameStromerzeugungseinheit</th>\n",
       "      <th>Nettonennleistung</th>\n",
       "      <th>AnschlussAnHoechstOderHochSpannung</th>\n",
       "      <th>Einspeisungsart</th>\n",
       "      <th>NameWindpark</th>\n",
       "      <th>Hersteller</th>\n",
       "      <th>Technologie</th>\n",
       "      <th>Typenbezeichnung</th>\n",
       "      <th>Nabenhoehe</th>\n",
       "      <th>Rotordurchmesser</th>\n",
       "      <th>Rotorblattenteisungssystem</th>\n",
       "    </tr>\n",
       "  </thead>\n",
       "  <tbody>\n",
       "    <tr>\n",
       "      <th>5138</th>\n",
       "      <td>SEE917239986145</td>\n",
       "      <td>2021-06-15 06:46:48.928788000</td>\n",
       "      <td>Niedersachsen</td>\n",
       "      <td>26409</td>\n",
       "      <td>Wittmund</td>\n",
       "      <td>7.748679</td>\n",
       "      <td>53.621465</td>\n",
       "      <td>2019-05-16</td>\n",
       "      <td>2015-08-12</td>\n",
       "      <td>In Betrieb</td>\n",
       "      <td>WEA 13</td>\n",
       "      <td>3050.0</td>\n",
       "      <td>1.0</td>\n",
       "      <td>Volleinspeisung</td>\n",
       "      <td>Windpark Abens-Nord GmbH ＆ Co. KG</td>\n",
       "      <td>ENERCON GmbH</td>\n",
       "      <td>Horizontalläufer</td>\n",
       "      <td>E-101</td>\n",
       "      <td>135.0</td>\n",
       "      <td>101.0</td>\n",
       "      <td>0.0</td>\n",
       "    </tr>\n",
       "    <tr>\n",
       "      <th>28696</th>\n",
       "      <td>SEE915928362713</td>\n",
       "      <td>2022-06-29 09:54:07.442508700</td>\n",
       "      <td>Niedersachsen</td>\n",
       "      <td>31535</td>\n",
       "      <td>Neustadt</td>\n",
       "      <td>9.495885</td>\n",
       "      <td>52.599141</td>\n",
       "      <td>2020-12-22</td>\n",
       "      <td>1999-04-01</td>\n",
       "      <td>In Betrieb</td>\n",
       "      <td>WP Büren</td>\n",
       "      <td>1300.0</td>\n",
       "      <td>0.0</td>\n",
       "      <td>Volleinspeisung</td>\n",
       "      <td>WEA01 ID 1033</td>\n",
       "      <td>Nordex Energy GmbH</td>\n",
       "      <td>Horizontalläufer</td>\n",
       "      <td>N60</td>\n",
       "      <td>65.0</td>\n",
       "      <td>60.0</td>\n",
       "      <td>0.0</td>\n",
       "    </tr>\n",
       "    <tr>\n",
       "      <th>17933</th>\n",
       "      <td>SEE948433388046</td>\n",
       "      <td>2021-06-17 09:15:56.354755100</td>\n",
       "      <td>Schleswig-Holstein</td>\n",
       "      <td>25797</td>\n",
       "      <td>Wöhrden</td>\n",
       "      <td>9.031857</td>\n",
       "      <td>54.143939</td>\n",
       "      <td>2020-04-28</td>\n",
       "      <td>2015-12-01</td>\n",
       "      <td>In Betrieb</td>\n",
       "      <td>WEA 2 - V209020</td>\n",
       "      <td>3300.0</td>\n",
       "      <td>0.0</td>\n",
       "      <td>Volleinspeisung</td>\n",
       "      <td>Treene Green Energy UG (haftungsbeschränkt) ＆ ...</td>\n",
       "      <td>Vestas Deutschland GmbH</td>\n",
       "      <td>Horizontalläufer</td>\n",
       "      <td>Vestas V112</td>\n",
       "      <td>94.0</td>\n",
       "      <td>112.0</td>\n",
       "      <td>0.0</td>\n",
       "    </tr>\n",
       "    <tr>\n",
       "      <th>6341</th>\n",
       "      <td>SEE987490217869</td>\n",
       "      <td>2019-12-10 03:53:13.333257000</td>\n",
       "      <td>Rheinland-Pfalz</td>\n",
       "      <td>56290</td>\n",
       "      <td>Mörsdorf</td>\n",
       "      <td>7.314095</td>\n",
       "      <td>50.119929</td>\n",
       "      <td>2019-06-13</td>\n",
       "      <td>2014-12-19</td>\n",
       "      <td>In Betrieb</td>\n",
       "      <td>WEA 2</td>\n",
       "      <td>2400.0</td>\n",
       "      <td>NaN</td>\n",
       "      <td>NaN</td>\n",
       "      <td>None</td>\n",
       "      <td>Nordex Energy GmbH</td>\n",
       "      <td>Horizontalläufer</td>\n",
       "      <td>None</td>\n",
       "      <td>141.0</td>\n",
       "      <td>117.0</td>\n",
       "      <td>NaN</td>\n",
       "    </tr>\n",
       "    <tr>\n",
       "      <th>19883</th>\n",
       "      <td>SEE931296609847</td>\n",
       "      <td>2021-01-19 14:45:53.593400000</td>\n",
       "      <td>Mecklenburg-Vorpommern</td>\n",
       "      <td>18445</td>\n",
       "      <td>Kramerhof</td>\n",
       "      <td>13.041539</td>\n",
       "      <td>54.352080</td>\n",
       "      <td>2020-06-23</td>\n",
       "      <td>1995-09-21</td>\n",
       "      <td>In Betrieb</td>\n",
       "      <td>Windpark Kramerhof 3</td>\n",
       "      <td>500.0</td>\n",
       "      <td>NaN</td>\n",
       "      <td>Volleinspeisung</td>\n",
       "      <td>Windpark Kramerhof</td>\n",
       "      <td>ENERCON GmbH</td>\n",
       "      <td>Horizontalläufer</td>\n",
       "      <td>E-40</td>\n",
       "      <td>51.0</td>\n",
       "      <td>40.0</td>\n",
       "      <td>0.0</td>\n",
       "    </tr>\n",
       "  </tbody>\n",
       "</table>\n",
       "</div>"
      ],
      "text/plain": [
       "      EinheitMastrNummer     DatumLetzteAktualisierung  \\\n",
       "5138     SEE917239986145 2021-06-15 06:46:48.928788000   \n",
       "28696    SEE915928362713 2022-06-29 09:54:07.442508700   \n",
       "17933    SEE948433388046 2021-06-17 09:15:56.354755100   \n",
       "6341     SEE987490217869 2019-12-10 03:53:13.333257000   \n",
       "19883    SEE931296609847 2021-01-19 14:45:53.593400000   \n",
       "\n",
       "                   Bundesland  Postleitzahl        Ort  Laengengrad  \\\n",
       "5138            Niedersachsen         26409   Wittmund     7.748679   \n",
       "28696           Niedersachsen         31535   Neustadt     9.495885   \n",
       "17933      Schleswig-Holstein         25797    Wöhrden     9.031857   \n",
       "6341          Rheinland-Pfalz         56290   Mörsdorf     7.314095   \n",
       "19883  Mecklenburg-Vorpommern         18445  Kramerhof    13.041539   \n",
       "\n",
       "       Breitengrad Registrierungsdatum Inbetriebnahmedatum  \\\n",
       "5138     53.621465          2019-05-16          2015-08-12   \n",
       "28696    52.599141          2020-12-22          1999-04-01   \n",
       "17933    54.143939          2020-04-28          2015-12-01   \n",
       "6341     50.119929          2019-06-13          2014-12-19   \n",
       "19883    54.352080          2020-06-23          1995-09-21   \n",
       "\n",
       "      EinheitBetriebsstatus NameStromerzeugungseinheit  Nettonennleistung  \\\n",
       "5138             In Betrieb                     WEA 13             3050.0   \n",
       "28696            In Betrieb                   WP Büren             1300.0   \n",
       "17933            In Betrieb            WEA 2 - V209020             3300.0   \n",
       "6341             In Betrieb                      WEA 2             2400.0   \n",
       "19883            In Betrieb       Windpark Kramerhof 3              500.0   \n",
       "\n",
       "       AnschlussAnHoechstOderHochSpannung  Einspeisungsart  \\\n",
       "5138                                  1.0  Volleinspeisung   \n",
       "28696                                 0.0  Volleinspeisung   \n",
       "17933                                 0.0  Volleinspeisung   \n",
       "6341                                  NaN              NaN   \n",
       "19883                                 NaN  Volleinspeisung   \n",
       "\n",
       "                                            NameWindpark  \\\n",
       "5138                   Windpark Abens-Nord GmbH ＆ Co. KG   \n",
       "28696                                      WEA01 ID 1033   \n",
       "17933  Treene Green Energy UG (haftungsbeschränkt) ＆ ...   \n",
       "6341                                                None   \n",
       "19883                                 Windpark Kramerhof   \n",
       "\n",
       "                    Hersteller       Technologie Typenbezeichnung  Nabenhoehe  \\\n",
       "5138              ENERCON GmbH  Horizontalläufer            E-101       135.0   \n",
       "28696       Nordex Energy GmbH  Horizontalläufer              N60        65.0   \n",
       "17933  Vestas Deutschland GmbH  Horizontalläufer      Vestas V112        94.0   \n",
       "6341        Nordex Energy GmbH  Horizontalläufer             None       141.0   \n",
       "19883             ENERCON GmbH  Horizontalläufer             E-40        51.0   \n",
       "\n",
       "       Rotordurchmesser  Rotorblattenteisungssystem  \n",
       "5138              101.0                         0.0  \n",
       "28696              60.0                         0.0  \n",
       "17933             112.0                         0.0  \n",
       "6341              117.0                         NaN  \n",
       "19883              40.0                         0.0  "
      ]
     },
     "execution_count": 215,
     "metadata": {},
     "output_type": "execute_result"
    }
   ],
   "source": [
    "df.sample(5)"
   ]
  },
  {
   "cell_type": "code",
   "execution_count": 503,
   "id": "c25ada2f-f073-427b-b975-5b6ff3717952",
   "metadata": {
    "tags": []
   },
   "outputs": [],
   "source": [
    "# df[df['Registrierungsdatum'] > pd.to_datetime('2023-05-26')]"
   ]
  },
  {
   "cell_type": "code",
   "execution_count": 504,
   "id": "7ea0c47f-4ab8-4437-a1ef-0463688c63d2",
   "metadata": {
    "tags": []
   },
   "outputs": [],
   "source": [
    "# df[df['Inbetriebnahmedatum'] > pd.to_datetime('2023-05-26')]"
   ]
  },
  {
   "cell_type": "markdown",
   "id": "5fd71156-d38b-43ee-ad57-60b46bbfbf78",
   "metadata": {},
   "source": [
    "-------"
   ]
  },
  {
   "cell_type": "markdown",
   "id": "6f27d44b-2288-4473-93f2-154035dcc4d8",
   "metadata": {},
   "source": [
    "-----"
   ]
  },
  {
   "cell_type": "markdown",
   "id": "a357dbed-03b4-49d0-94df-05a32eb8ff21",
   "metadata": {
    "jp-MarkdownHeadingCollapsed": true,
    "tags": []
   },
   "source": [
    "## Read in Kaggle wind turbine dataset"
   ]
  },
  {
   "cell_type": "markdown",
   "id": "27ba37dd-29be-4483-83b8-bf72f2ae7dec",
   "metadata": {},
   "source": [
    "### Read in data "
   ]
  },
  {
   "cell_type": "markdown",
   "id": "9002484c-8db1-421d-b085-b337a598dc96",
   "metadata": {},
   "source": [
    "#### More info about the features\n",
    "- Bruttoleistung and Nettonennleistung in units kW\n",
    "- Nabenhoehe, Rotordurchmesser, Typenbezeichnung are required fields "
   ]
  },
  {
   "cell_type": "code",
   "execution_count": 97,
   "id": "04530029-8e5b-47c2-aef2-ef0b6c9e2be3",
   "metadata": {
    "tags": []
   },
   "outputs": [
    {
     "name": "stdout",
     "output_type": "stream",
     "text": [
      "<class 'pandas.core.frame.DataFrame'>\n",
      "RangeIndex: 34484 entries, 0 to 34483\n",
      "Data columns (total 29 columns):\n",
      " #   Column                              Non-Null Count  Dtype  \n",
      "---  ------                              --------------  -----  \n",
      " 0   Land                                34484 non-null  object \n",
      " 1   Bundesland                          34484 non-null  object \n",
      " 2   Landkreis                           32700 non-null  object \n",
      " 3   Postleitzahl                        32700 non-null  float64\n",
      " 4   Ort                                 32700 non-null  object \n",
      " 5   Laengengrad                         33589 non-null  float64\n",
      " 6   Breitengrad                         33589 non-null  float64\n",
      " 7   Registrierungsdatum                 34484 non-null  object \n",
      " 8   Inbetriebnahmedatum                 32020 non-null  object \n",
      " 9   EinheitBetriebsstatus               34484 non-null  object \n",
      " 10  Energietraeger                      34484 non-null  object \n",
      " 11  Bruttoleistung                      34484 non-null  float64\n",
      " 12  Nettonennleistung                   34484 non-null  float64\n",
      " 13  AnschlussAnHoechstOderHochSpannung  24631 non-null  float64\n",
      " 14  Einspeisungsart                     33770 non-null  object \n",
      " 15  NameWindpark                        33674 non-null  object \n",
      " 16  Lage                                34484 non-null  object \n",
      " 17  Hersteller                          34035 non-null  object \n",
      " 18  Technologie                         34484 non-null  object \n",
      " 19  Typenbezeichnung                    34020 non-null  object \n",
      " 20  Nabenhoehe                          33631 non-null  float64\n",
      " 21  Rotordurchmesser                    34031 non-null  float64\n",
      " 22  Rotorblattenteisungssystem          25671 non-null  float64\n",
      " 23  GeplantesInbetriebnahmedatum        2463 non-null   object \n",
      " 24  Seelage                             1784 non-null   float64\n",
      " 25  ClusterNordsee                      1476 non-null   float64\n",
      " 26  Wassertiefe                         1650 non-null   float64\n",
      " 27  Kuestenentfernung                   1650 non-null   float64\n",
      " 28  ClusterOstsee                       308 non-null    float64\n",
      "dtypes: float64(14), object(15)\n",
      "memory usage: 7.6+ MB\n"
     ]
    }
   ],
   "source": [
    "# Wind turbine dataset\n",
    "df = pd.read_csv(cwd_path.parent / 'data/WindTurbinesGermany.csv', sep=',')\n",
    "df.info()"
   ]
  },
  {
   "cell_type": "code",
   "execution_count": 98,
   "id": "ff840912-b1d8-447f-b1d4-458f955e746d",
   "metadata": {
    "tags": []
   },
   "outputs": [
    {
     "data": {
      "text/plain": [
       "Land                                      0\n",
       "Bundesland                                0\n",
       "Landkreis                              1784\n",
       "Postleitzahl                           1784\n",
       "Ort                                    1784\n",
       "Laengengrad                             895\n",
       "Breitengrad                             895\n",
       "Registrierungsdatum                       0\n",
       "Inbetriebnahmedatum                    2464\n",
       "EinheitBetriebsstatus                     0\n",
       "Energietraeger                            0\n",
       "Bruttoleistung                            0\n",
       "Nettonennleistung                         0\n",
       "AnschlussAnHoechstOderHochSpannung     9853\n",
       "Einspeisungsart                         714\n",
       "NameWindpark                            810\n",
       "Lage                                      0\n",
       "Hersteller                              449\n",
       "Technologie                               0\n",
       "Typenbezeichnung                        464\n",
       "Nabenhoehe                              853\n",
       "Rotordurchmesser                        453\n",
       "Rotorblattenteisungssystem             8813\n",
       "GeplantesInbetriebnahmedatum          32021\n",
       "Seelage                               32700\n",
       "ClusterNordsee                        33008\n",
       "Wassertiefe                           32834\n",
       "Kuestenentfernung                     32834\n",
       "ClusterOstsee                         34176\n",
       "dtype: int64"
      ]
     },
     "execution_count": 98,
     "metadata": {},
     "output_type": "execute_result"
    }
   ],
   "source": [
    "df.isna().sum()"
   ]
  },
  {
   "cell_type": "markdown",
   "id": "37525e5e-b957-47e2-b096-84edfc10a88b",
   "metadata": {
    "tags": []
   },
   "source": [
    "### Filtering ideas\n",
    "- Keep only land-based turbines\n",
    "- Keep only turbines with status EinheitBetriebsstatus = In Betrieb\n",
    "    - Removes turbines that are no longer in operation (shame we don't know the date it fell out of service)\n",
    "    - Removes turbines that are still in planning"
   ]
  },
  {
   "cell_type": "code",
   "execution_count": 356,
   "id": "ee596329-34ae-4aea-a01b-7bb9afc7b4e2",
   "metadata": {
    "tags": []
   },
   "outputs": [
    {
     "name": "stdout",
     "output_type": "stream",
     "text": [
      "<class 'pandas.core.frame.DataFrame'>\n",
      "Index: 30459 entries, 0 to 34483\n",
      "Data columns (total 23 columns):\n",
      " #   Column                              Non-Null Count  Dtype         \n",
      "---  ------                              --------------  -----         \n",
      " 0   Land                                30459 non-null  object        \n",
      " 1   Bundesland                          30459 non-null  object        \n",
      " 2   Landkreis                           30459 non-null  object        \n",
      " 3   Postleitzahl                        30459 non-null  int64         \n",
      " 4   Ort                                 30459 non-null  object        \n",
      " 5   Laengengrad                         29620 non-null  float64       \n",
      " 6   Breitengrad                         29620 non-null  float64       \n",
      " 7   Registrierungsdatum                 30459 non-null  datetime64[ns]\n",
      " 8   Inbetriebnahmedatum                 30459 non-null  datetime64[ns]\n",
      " 9   EinheitBetriebsstatus               30459 non-null  object        \n",
      " 10  Energietraeger                      30459 non-null  object        \n",
      " 11  Bruttoleistung                      30459 non-null  float64       \n",
      " 12  Nettonennleistung                   30459 non-null  float64       \n",
      " 13  AnschlussAnHoechstOderHochSpannung  22195 non-null  float64       \n",
      " 14  Einspeisungsart                     29997 non-null  object        \n",
      " 15  NameWindpark                        29676 non-null  object        \n",
      " 16  Lage                                30459 non-null  object        \n",
      " 17  Hersteller                          30202 non-null  object        \n",
      " 18  Technologie                         30459 non-null  object        \n",
      " 19  Typenbezeichnung                    30197 non-null  object        \n",
      " 20  Nabenhoehe                          29721 non-null  float64       \n",
      " 21  Rotordurchmesser                    30082 non-null  float64       \n",
      " 22  Rotorblattenteisungssystem          23076 non-null  float64       \n",
      "dtypes: datetime64[ns](2), float64(8), int64(1), object(12)\n",
      "memory usage: 5.6+ MB\n"
     ]
    }
   ],
   "source": [
    "# Keep only onshore turbines\n",
    "df = df[df['Lage'] == 'Windkraft an Land']\n",
    "# Drop turbines in planning (there are 2241 of them)\n",
    "df = df[~(df['EinheitBetriebsstatus'] == 'In Planung')]\n",
    "# Drop columns with all missing values (they were specific to offshore or planned turbines)\n",
    "df.dropna(axis='columns', how='all', inplace=True)\n",
    "# Convert postcodes from float to int\n",
    "df['Postleitzahl'] = df['Postleitzahl'].astype('int')\n",
    "\n",
    "# Convert date features to datetime objects\n",
    "df['Registrierungsdatum'] = pd.to_datetime(df['Registrierungsdatum'])\n",
    "df['Inbetriebnahmedatum'] = pd.to_datetime(df['Inbetriebnahmedatum'])\n",
    "\n",
    "df.info()"
   ]
  },
  {
   "cell_type": "code",
   "execution_count": 357,
   "id": "009af513-133a-4d7d-b6ad-23908ba7d96d",
   "metadata": {
    "tags": []
   },
   "outputs": [
    {
     "data": {
      "text/plain": [
       "Timestamp('2023-05-26 00:00:00')"
      ]
     },
     "execution_count": 357,
     "metadata": {},
     "output_type": "execute_result"
    }
   ],
   "source": [
    "df['Registrierungsdatum'].max()"
   ]
  },
  {
   "cell_type": "code",
   "execution_count": 358,
   "id": "8811a143-51d2-4309-a224-0f310ed71d39",
   "metadata": {
    "tags": []
   },
   "outputs": [
    {
     "data": {
      "text/plain": [
       "Timestamp('2023-05-26 00:00:00')"
      ]
     },
     "execution_count": 358,
     "metadata": {},
     "output_type": "execute_result"
    }
   ],
   "source": [
    "df['Inbetriebnahmedatum'].max()"
   ]
  },
  {
   "cell_type": "code",
   "execution_count": 359,
   "id": "4c2ba24d-7e38-4161-b307-2710fad66e93",
   "metadata": {
    "tags": []
   },
   "outputs": [],
   "source": [
    "# other_columns_to_drop = ['Land', 'Bundesland', 'Landkreis', 'Postleitzahl', 'Ort', 'Lage', 'Energietraeger']"
   ]
  },
  {
   "cell_type": "code",
   "execution_count": 360,
   "id": "25535ee8-2516-492e-bbb6-59608b4a27d3",
   "metadata": {
    "tags": []
   },
   "outputs": [
    {
     "data": {
      "text/plain": [
       "Land                                     0\n",
       "Bundesland                               0\n",
       "Landkreis                                0\n",
       "Postleitzahl                             0\n",
       "Ort                                      0\n",
       "Laengengrad                            839\n",
       "Breitengrad                            839\n",
       "Registrierungsdatum                      0\n",
       "Inbetriebnahmedatum                      0\n",
       "EinheitBetriebsstatus                    0\n",
       "Energietraeger                           0\n",
       "Bruttoleistung                           0\n",
       "Nettonennleistung                        0\n",
       "AnschlussAnHoechstOderHochSpannung    8264\n",
       "Einspeisungsart                        462\n",
       "NameWindpark                           783\n",
       "Lage                                     0\n",
       "Hersteller                             257\n",
       "Technologie                              0\n",
       "Typenbezeichnung                       262\n",
       "Nabenhoehe                             738\n",
       "Rotordurchmesser                       377\n",
       "Rotorblattenteisungssystem            7383\n",
       "dtype: int64"
      ]
     },
     "execution_count": 360,
     "metadata": {},
     "output_type": "execute_result"
    }
   ],
   "source": [
    "df.isna().sum()"
   ]
  },
  {
   "cell_type": "code",
   "execution_count": 364,
   "id": "4cc4a5d1-9079-4c32-abc7-90edf10dd61b",
   "metadata": {
    "tags": []
   },
   "outputs": [
    {
     "data": {
      "text/plain": [
       "Land                                                                      Deutschland\n",
       "Bundesland                                                                  Thüringen\n",
       "Landkreis                                                               Weimarer Land\n",
       "Postleitzahl                                                                    99438\n",
       "Ort                                                                          Buchfart\n",
       "Laengengrad                                                                 11.267888\n",
       "Breitengrad                                                                 50.896747\n",
       "Registrierungsdatum                                               2023-05-04 00:00:00\n",
       "Inbetriebnahmedatum                                               2023-05-01 00:00:00\n",
       "EinheitBetriebsstatus                                                      In Betrieb\n",
       "Energietraeger                                                                   Wind\n",
       "Bruttoleistung                                                                   0.49\n",
       "Nettonennleistung                                                                0.49\n",
       "AnschlussAnHoechstOderHochSpannung                                                NaN\n",
       "Einspeisungsart                       Teileinspeisung (einschließlich Eigenverbrauch)\n",
       "NameWindpark                                                        Windpark Hausdach\n",
       "Lage                                                                Windkraft an Land\n",
       "Hersteller                                                                        NaN\n",
       "Technologie                                                          Horizontalläufer\n",
       "Typenbezeichnung                              48V Rutland 1200 Wind Turbine - Terrain\n",
       "Nabenhoehe                                                                        9.4\n",
       "Rotordurchmesser                                                                  1.2\n",
       "Rotorblattenteisungssystem                                                        0.0\n",
       "Name: 34335, dtype: object"
      ]
     },
     "execution_count": 364,
     "metadata": {},
     "output_type": "execute_result"
    }
   ],
   "source": [
    "df.loc[34335]"
   ]
  },
  {
   "cell_type": "code",
   "execution_count": 365,
   "id": "f4d9a23f-e534-4657-bb12-2ec0264e459c",
   "metadata": {
    "tags": []
   },
   "outputs": [
    {
     "data": {
      "text/plain": [
       "Land                                     0\n",
       "Bundesland                               0\n",
       "Landkreis                                0\n",
       "Postleitzahl                             0\n",
       "Ort                                      0\n",
       "Laengengrad                              1\n",
       "Breitengrad                              1\n",
       "Registrierungsdatum                      0\n",
       "Inbetriebnahmedatum                      0\n",
       "EinheitBetriebsstatus                    0\n",
       "Energietraeger                           0\n",
       "Bruttoleistung                           0\n",
       "Nettonennleistung                        0\n",
       "AnschlussAnHoechstOderHochSpannung    8264\n",
       "Einspeisungsart                        462\n",
       "NameWindpark                           783\n",
       "Lage                                     0\n",
       "Hersteller                             257\n",
       "Technologie                              0\n",
       "Typenbezeichnung                       262\n",
       "Nabenhoehe                             738\n",
       "Rotordurchmesser                       377\n",
       "Rotorblattenteisungssystem            7383\n",
       "dtype: int64"
      ]
     },
     "execution_count": 365,
     "metadata": {},
     "output_type": "execute_result"
    }
   ],
   "source": [
    "df.isna().sum()"
   ]
  },
  {
   "cell_type": "code",
   "execution_count": 526,
   "id": "47ac091b-f966-417c-80b1-69ba263c85ce",
   "metadata": {
    "tags": []
   },
   "outputs": [
    {
     "data": {
      "text/plain": [
       "Land                                     0\n",
       "Bundesland                               0\n",
       "Landkreis                                0\n",
       "Postleitzahl                             0\n",
       "Ort                                      0\n",
       "Laengengrad                              0\n",
       "Breitengrad                              0\n",
       "Registrierungsdatum                      0\n",
       "Inbetriebnahmedatum                      0\n",
       "EinheitBetriebsstatus                    0\n",
       "Energietraeger                           0\n",
       "Bruttoleistung                           0\n",
       "Nettonennleistung                        0\n",
       "AnschlussAnHoechstOderHochSpannung    8263\n",
       "Einspeisungsart                        462\n",
       "NameWindpark                           783\n",
       "Lage                                     0\n",
       "Hersteller                             257\n",
       "Technologie                              0\n",
       "Typenbezeichnung                       262\n",
       "Nabenhoehe                             737\n",
       "Rotordurchmesser                       377\n",
       "Rotorblattenteisungssystem            7383\n",
       "dtype: int64"
      ]
     },
     "execution_count": 526,
     "metadata": {},
     "output_type": "execute_result"
    }
   ],
   "source": [
    "# Drop the single row that has nan in longitude or latitude columns\n",
    "df.dropna(subset=['Laengengrad', 'Breitengrad']).isna().sum()"
   ]
  },
  {
   "cell_type": "code",
   "execution_count": 510,
   "id": "d821a2ba-e27c-447c-be87-af9bae659f1d",
   "metadata": {
    "tags": []
   },
   "outputs": [
    {
     "data": {
      "text/plain": [
       "EinheitBetriebsstatus\n",
       "In Betrieb                   29422\n",
       "Endgültig stillgelegt          999\n",
       "Vorübergehend stillgelegt       38\n",
       "Name: count, dtype: int64"
      ]
     },
     "execution_count": 510,
     "metadata": {},
     "output_type": "execute_result"
    }
   ],
   "source": [
    "df['EinheitBetriebsstatus'].value_counts()"
   ]
  },
  {
   "cell_type": "code",
   "execution_count": 492,
   "id": "64c22c82-0cd0-4417-967f-9e895fa57ac9",
   "metadata": {
    "tags": []
   },
   "outputs": [
    {
     "data": {
      "text/html": [
       "<div>\n",
       "<style scoped>\n",
       "    .dataframe tbody tr th:only-of-type {\n",
       "        vertical-align: middle;\n",
       "    }\n",
       "\n",
       "    .dataframe tbody tr th {\n",
       "        vertical-align: top;\n",
       "    }\n",
       "\n",
       "    .dataframe thead th {\n",
       "        text-align: right;\n",
       "    }\n",
       "</style>\n",
       "<table border=\"1\" class=\"dataframe\">\n",
       "  <thead>\n",
       "    <tr style=\"text-align: right;\">\n",
       "      <th></th>\n",
       "      <th>Bruttoleistung</th>\n",
       "      <th>Nettonennleistung</th>\n",
       "      <th>Nabenhoehe</th>\n",
       "      <th>Rotordurchmesser</th>\n",
       "    </tr>\n",
       "  </thead>\n",
       "  <tbody>\n",
       "    <tr>\n",
       "      <th>count</th>\n",
       "      <td>30459.000000</td>\n",
       "      <td>30459.000000</td>\n",
       "      <td>29721.00000</td>\n",
       "      <td>30082.000000</td>\n",
       "    </tr>\n",
       "    <tr>\n",
       "      <th>mean</th>\n",
       "      <td>1971.220019</td>\n",
       "      <td>1971.220019</td>\n",
       "      <td>95.62819</td>\n",
       "      <td>80.146323</td>\n",
       "    </tr>\n",
       "    <tr>\n",
       "      <th>std</th>\n",
       "      <td>1098.310972</td>\n",
       "      <td>1098.310972</td>\n",
       "      <td>33.85736</td>\n",
       "      <td>30.672645</td>\n",
       "    </tr>\n",
       "    <tr>\n",
       "      <th>min</th>\n",
       "      <td>0.120000</td>\n",
       "      <td>0.120000</td>\n",
       "      <td>0.36000</td>\n",
       "      <td>0.300000</td>\n",
       "    </tr>\n",
       "    <tr>\n",
       "      <th>25%</th>\n",
       "      <td>1300.000000</td>\n",
       "      <td>1300.000000</td>\n",
       "      <td>67.00000</td>\n",
       "      <td>62.000000</td>\n",
       "    </tr>\n",
       "    <tr>\n",
       "      <th>50%</th>\n",
       "      <td>2000.000000</td>\n",
       "      <td>2000.000000</td>\n",
       "      <td>98.00000</td>\n",
       "      <td>80.000000</td>\n",
       "    </tr>\n",
       "    <tr>\n",
       "      <th>75%</th>\n",
       "      <td>2500.000000</td>\n",
       "      <td>2500.000000</td>\n",
       "      <td>125.00000</td>\n",
       "      <td>101.000000</td>\n",
       "    </tr>\n",
       "    <tr>\n",
       "      <th>max</th>\n",
       "      <td>8000.000000</td>\n",
       "      <td>8000.000000</td>\n",
       "      <td>173.48000</td>\n",
       "      <td>180.000000</td>\n",
       "    </tr>\n",
       "  </tbody>\n",
       "</table>\n",
       "</div>"
      ],
      "text/plain": [
       "       Bruttoleistung  Nettonennleistung   Nabenhoehe  Rotordurchmesser\n",
       "count    30459.000000       30459.000000  29721.00000      30082.000000\n",
       "mean      1971.220019        1971.220019     95.62819         80.146323\n",
       "std       1098.310972        1098.310972     33.85736         30.672645\n",
       "min          0.120000           0.120000      0.36000          0.300000\n",
       "25%       1300.000000        1300.000000     67.00000         62.000000\n",
       "50%       2000.000000        2000.000000     98.00000         80.000000\n",
       "75%       2500.000000        2500.000000    125.00000        101.000000\n",
       "max       8000.000000        8000.000000    173.48000        180.000000"
      ]
     },
     "execution_count": 492,
     "metadata": {},
     "output_type": "execute_result"
    }
   ],
   "source": [
    "df[['Bruttoleistung', 'Nettonennleistung', 'Nabenhoehe', 'Rotordurchmesser']].describe()"
   ]
  },
  {
   "cell_type": "code",
   "execution_count": 514,
   "id": "f69fc2e1-f232-4869-9290-c0e8943079ff",
   "metadata": {
    "tags": []
   },
   "outputs": [
    {
     "data": {
      "text/plain": [
       "<Axes: >"
      ]
     },
     "execution_count": 514,
     "metadata": {},
     "output_type": "execute_result"
    },
    {
     "data": {
      "image/png": "[encoded data removed]",
      "text/plain": [
       "<Figure size 704x528 with 1 Axes>"
      ]
     },
     "metadata": {},
     "output_type": "display_data"
    }
   ],
   "source": [
    "df['Nabenhoehe'].hist()"
   ]
  },
  {
   "cell_type": "code",
   "execution_count": 491,
   "id": "e09b5339-74cb-494a-945e-4598f33080fe",
   "metadata": {
    "tags": []
   },
   "outputs": [
    {
     "data": {
      "text/html": [
       "<div>\n",
       "<style scoped>\n",
       "    .dataframe tbody tr th:only-of-type {\n",
       "        vertical-align: middle;\n",
       "    }\n",
       "\n",
       "    .dataframe tbody tr th {\n",
       "        vertical-align: top;\n",
       "    }\n",
       "\n",
       "    .dataframe thead th {\n",
       "        text-align: right;\n",
       "    }\n",
       "</style>\n",
       "<table border=\"1\" class=\"dataframe\">\n",
       "  <thead>\n",
       "    <tr style=\"text-align: right;\">\n",
       "      <th></th>\n",
       "      <th>Land</th>\n",
       "      <th>Bundesland</th>\n",
       "      <th>Landkreis</th>\n",
       "      <th>Postleitzahl</th>\n",
       "      <th>Ort</th>\n",
       "      <th>Laengengrad</th>\n",
       "      <th>Breitengrad</th>\n",
       "      <th>Registrierungsdatum</th>\n",
       "      <th>Inbetriebnahmedatum</th>\n",
       "      <th>EinheitBetriebsstatus</th>\n",
       "      <th>Energietraeger</th>\n",
       "      <th>Bruttoleistung</th>\n",
       "      <th>Nettonennleistung</th>\n",
       "      <th>AnschlussAnHoechstOderHochSpannung</th>\n",
       "      <th>Einspeisungsart</th>\n",
       "      <th>NameWindpark</th>\n",
       "      <th>Lage</th>\n",
       "      <th>Hersteller</th>\n",
       "      <th>Technologie</th>\n",
       "      <th>Typenbezeichnung</th>\n",
       "      <th>Nabenhoehe</th>\n",
       "      <th>Rotordurchmesser</th>\n",
       "      <th>Rotorblattenteisungssystem</th>\n",
       "    </tr>\n",
       "  </thead>\n",
       "  <tbody>\n",
       "    <tr>\n",
       "      <th>108</th>\n",
       "      <td>Deutschland</td>\n",
       "      <td>Niedersachsen</td>\n",
       "      <td>Nienburg (Weser)</td>\n",
       "      <td>31592</td>\n",
       "      <td>Stolzenau</td>\n",
       "      <td>8.987413</td>\n",
       "      <td>52.485784</td>\n",
       "      <td>2019-02-04</td>\n",
       "      <td>2002-02-28</td>\n",
       "      <td>In Betrieb</td>\n",
       "      <td>Wind</td>\n",
       "      <td>600.0</td>\n",
       "      <td>600.0</td>\n",
       "      <td>NaN</td>\n",
       "      <td>Volleinspeisung</td>\n",
       "      <td>Auf dem Acker</td>\n",
       "      <td>Windkraft an Land</td>\n",
       "      <td>NaN</td>\n",
       "      <td>Horizontalläufer</td>\n",
       "      <td>Enercon-40/6.44</td>\n",
       "      <td>NaN</td>\n",
       "      <td>NaN</td>\n",
       "      <td>NaN</td>\n",
       "    </tr>\n",
       "    <tr>\n",
       "      <th>125</th>\n",
       "      <td>Deutschland</td>\n",
       "      <td>Bayern</td>\n",
       "      <td>Oberallgäu</td>\n",
       "      <td>87488</td>\n",
       "      <td>Betzigau</td>\n",
       "      <td>NaN</td>\n",
       "      <td>NaN</td>\n",
       "      <td>2019-04-09</td>\n",
       "      <td>2019-01-23</td>\n",
       "      <td>In Betrieb</td>\n",
       "      <td>Wind</td>\n",
       "      <td>1.0</td>\n",
       "      <td>1.0</td>\n",
       "      <td>NaN</td>\n",
       "      <td>Teileinspeisung (einschließlich Eigenverbrauch)</td>\n",
       "      <td>NaN</td>\n",
       "      <td>Windkraft an Land</td>\n",
       "      <td>FuSystems SkyWind GmbH</td>\n",
       "      <td>Vertikalläufer</td>\n",
       "      <td>NG</td>\n",
       "      <td>NaN</td>\n",
       "      <td>1.5</td>\n",
       "      <td>NaN</td>\n",
       "    </tr>\n",
       "    <tr>\n",
       "      <th>177</th>\n",
       "      <td>Deutschland</td>\n",
       "      <td>Niedersachsen</td>\n",
       "      <td>Aurich</td>\n",
       "      <td>26529</td>\n",
       "      <td>Upgant-Schott</td>\n",
       "      <td>7.200870</td>\n",
       "      <td>53.509760</td>\n",
       "      <td>2019-02-05</td>\n",
       "      <td>2012-01-16</td>\n",
       "      <td>In Betrieb</td>\n",
       "      <td>Wind</td>\n",
       "      <td>800.0</td>\n",
       "      <td>800.0</td>\n",
       "      <td>NaN</td>\n",
       "      <td>Volleinspeisung</td>\n",
       "      <td>E-53</td>\n",
       "      <td>Windkraft an Land</td>\n",
       "      <td>ENERCON GmbH</td>\n",
       "      <td>Horizontalläufer</td>\n",
       "      <td>Enercon E-53</td>\n",
       "      <td>NaN</td>\n",
       "      <td>53.0</td>\n",
       "      <td>NaN</td>\n",
       "    </tr>\n",
       "    <tr>\n",
       "      <th>219</th>\n",
       "      <td>Deutschland</td>\n",
       "      <td>Niedersachsen</td>\n",
       "      <td>Aurich</td>\n",
       "      <td>26529</td>\n",
       "      <td>Upgant-Schott</td>\n",
       "      <td>7.243216</td>\n",
       "      <td>53.502987</td>\n",
       "      <td>2019-02-05</td>\n",
       "      <td>2009-04-20</td>\n",
       "      <td>In Betrieb</td>\n",
       "      <td>Wind</td>\n",
       "      <td>2300.0</td>\n",
       "      <td>2300.0</td>\n",
       "      <td>0.0</td>\n",
       "      <td>Volleinspeisung</td>\n",
       "      <td>E-70</td>\n",
       "      <td>Windkraft an Land</td>\n",
       "      <td>ENERCON GmbH</td>\n",
       "      <td>Horizontalläufer</td>\n",
       "      <td>Enercon E-70 E4</td>\n",
       "      <td>NaN</td>\n",
       "      <td>71.0</td>\n",
       "      <td>NaN</td>\n",
       "    </tr>\n",
       "    <tr>\n",
       "      <th>237</th>\n",
       "      <td>Deutschland</td>\n",
       "      <td>Schleswig-Holstein</td>\n",
       "      <td>Rendsburg-Eckernförde</td>\n",
       "      <td>24229</td>\n",
       "      <td>Schwedeneck</td>\n",
       "      <td>10.096044</td>\n",
       "      <td>54.458812</td>\n",
       "      <td>2019-02-06</td>\n",
       "      <td>2000-04-13</td>\n",
       "      <td>In Betrieb</td>\n",
       "      <td>Wind</td>\n",
       "      <td>1500.0</td>\n",
       "      <td>1500.0</td>\n",
       "      <td>NaN</td>\n",
       "      <td>Volleinspeisung</td>\n",
       "      <td>Bürgerwindpark Schwedeneck GmbH＆Co.KG</td>\n",
       "      <td>Windkraft an Land</td>\n",
       "      <td>Tacke GmbH &amp; Co. KG</td>\n",
       "      <td>Vertikalläufer</td>\n",
       "      <td>TW 1,5s</td>\n",
       "      <td>NaN</td>\n",
       "      <td>70.5</td>\n",
       "      <td>0.0</td>\n",
       "    </tr>\n",
       "    <tr>\n",
       "      <th>...</th>\n",
       "      <td>...</td>\n",
       "      <td>...</td>\n",
       "      <td>...</td>\n",
       "      <td>...</td>\n",
       "      <td>...</td>\n",
       "      <td>...</td>\n",
       "      <td>...</td>\n",
       "      <td>...</td>\n",
       "      <td>...</td>\n",
       "      <td>...</td>\n",
       "      <td>...</td>\n",
       "      <td>...</td>\n",
       "      <td>...</td>\n",
       "      <td>...</td>\n",
       "      <td>...</td>\n",
       "      <td>...</td>\n",
       "      <td>...</td>\n",
       "      <td>...</td>\n",
       "      <td>...</td>\n",
       "      <td>...</td>\n",
       "      <td>...</td>\n",
       "      <td>...</td>\n",
       "      <td>...</td>\n",
       "    </tr>\n",
       "    <tr>\n",
       "      <th>34063</th>\n",
       "      <td>Deutschland</td>\n",
       "      <td>Niedersachsen</td>\n",
       "      <td>Rotenburg (Wümme)</td>\n",
       "      <td>27404</td>\n",
       "      <td>Gyhum</td>\n",
       "      <td>9.173500</td>\n",
       "      <td>53.133100</td>\n",
       "      <td>2023-03-06</td>\n",
       "      <td>2002-01-16</td>\n",
       "      <td>In Betrieb</td>\n",
       "      <td>Wind</td>\n",
       "      <td>600.0</td>\n",
       "      <td>600.0</td>\n",
       "      <td>NaN</td>\n",
       "      <td>Volleinspeisung</td>\n",
       "      <td>WP Gyhum</td>\n",
       "      <td>Windkraft an Land</td>\n",
       "      <td>ENERCON GmbH</td>\n",
       "      <td>Horizontalläufer</td>\n",
       "      <td>E44</td>\n",
       "      <td>NaN</td>\n",
       "      <td>44.0</td>\n",
       "      <td>0.0</td>\n",
       "    </tr>\n",
       "    <tr>\n",
       "      <th>34121</th>\n",
       "      <td>Deutschland</td>\n",
       "      <td>Hessen</td>\n",
       "      <td>Darmstadt-Dieburg</td>\n",
       "      <td>64372</td>\n",
       "      <td>Ober-Ramstadt</td>\n",
       "      <td>NaN</td>\n",
       "      <td>NaN</td>\n",
       "      <td>2023-03-23</td>\n",
       "      <td>2015-06-22</td>\n",
       "      <td>In Betrieb</td>\n",
       "      <td>Wind</td>\n",
       "      <td>5.0</td>\n",
       "      <td>5.0</td>\n",
       "      <td>NaN</td>\n",
       "      <td>Teileinspeisung (einschließlich Eigenverbrauch)</td>\n",
       "      <td>NaN</td>\n",
       "      <td>Windkraft an Land</td>\n",
       "      <td>Sonstige</td>\n",
       "      <td>Vertikalläufer</td>\n",
       "      <td>ENW-M</td>\n",
       "      <td>NaN</td>\n",
       "      <td>1.4</td>\n",
       "      <td>0.0</td>\n",
       "    </tr>\n",
       "    <tr>\n",
       "      <th>34181</th>\n",
       "      <td>Deutschland</td>\n",
       "      <td>Bayern</td>\n",
       "      <td>Weißenburg-Gunzenhausen</td>\n",
       "      <td>91781</td>\n",
       "      <td>Weißenburg</td>\n",
       "      <td>NaN</td>\n",
       "      <td>NaN</td>\n",
       "      <td>2023-05-06</td>\n",
       "      <td>2023-03-27</td>\n",
       "      <td>In Betrieb</td>\n",
       "      <td>Wind</td>\n",
       "      <td>1.0</td>\n",
       "      <td>1.0</td>\n",
       "      <td>NaN</td>\n",
       "      <td>Teileinspeisung (einschließlich Eigenverbrauch)</td>\n",
       "      <td>Wohngebäude</td>\n",
       "      <td>Windkraft an Land</td>\n",
       "      <td>SkyWind GmbH</td>\n",
       "      <td>Vertikalläufer</td>\n",
       "      <td>SkyWind NG</td>\n",
       "      <td>NaN</td>\n",
       "      <td>1.5</td>\n",
       "      <td>0.0</td>\n",
       "    </tr>\n",
       "    <tr>\n",
       "      <th>34314</th>\n",
       "      <td>Deutschland</td>\n",
       "      <td>Bayern</td>\n",
       "      <td>Günzburg</td>\n",
       "      <td>86470</td>\n",
       "      <td>Thannhausen</td>\n",
       "      <td>NaN</td>\n",
       "      <td>NaN</td>\n",
       "      <td>2023-04-21</td>\n",
       "      <td>2023-01-01</td>\n",
       "      <td>In Betrieb</td>\n",
       "      <td>Wind</td>\n",
       "      <td>0.8</td>\n",
       "      <td>0.8</td>\n",
       "      <td>NaN</td>\n",
       "      <td>Teileinspeisung (einschließlich Eigenverbrauch)</td>\n",
       "      <td>Skywind</td>\n",
       "      <td>Windkraft an Land</td>\n",
       "      <td>SkyWind GmbH</td>\n",
       "      <td>Vertikalläufer</td>\n",
       "      <td>SkyWind NG</td>\n",
       "      <td>NaN</td>\n",
       "      <td>1.5</td>\n",
       "      <td>0.0</td>\n",
       "    </tr>\n",
       "    <tr>\n",
       "      <th>34477</th>\n",
       "      <td>Deutschland</td>\n",
       "      <td>Mecklenburg-Vorpommern</td>\n",
       "      <td>Vorpommern-Greifswald</td>\n",
       "      <td>17309</td>\n",
       "      <td>Pasewalk</td>\n",
       "      <td>NaN</td>\n",
       "      <td>NaN</td>\n",
       "      <td>2023-05-17</td>\n",
       "      <td>2022-12-01</td>\n",
       "      <td>In Betrieb</td>\n",
       "      <td>Wind</td>\n",
       "      <td>2.6</td>\n",
       "      <td>2.6</td>\n",
       "      <td>NaN</td>\n",
       "      <td>Teileinspeisung (einschließlich Eigenverbrauch)</td>\n",
       "      <td>Kleinwindrad-Vertikal</td>\n",
       "      <td>Windkraft an Land</td>\n",
       "      <td>Sonstige</td>\n",
       "      <td>Vertikalläufer</td>\n",
       "      <td>keine</td>\n",
       "      <td>NaN</td>\n",
       "      <td>3.5</td>\n",
       "      <td>0.0</td>\n",
       "    </tr>\n",
       "  </tbody>\n",
       "</table>\n",
       "<p>738 rows × 23 columns</p>\n",
       "</div>"
      ],
      "text/plain": [
       "              Land              Bundesland                Landkreis  \\\n",
       "108    Deutschland           Niedersachsen         Nienburg (Weser)   \n",
       "125    Deutschland                  Bayern               Oberallgäu   \n",
       "177    Deutschland           Niedersachsen                   Aurich   \n",
       "219    Deutschland           Niedersachsen                   Aurich   \n",
       "237    Deutschland      Schleswig-Holstein    Rendsburg-Eckernförde   \n",
       "...            ...                     ...                      ...   \n",
       "34063  Deutschland           Niedersachsen        Rotenburg (Wümme)   \n",
       "34121  Deutschland                  Hessen        Darmstadt-Dieburg   \n",
       "34181  Deutschland                  Bayern  Weißenburg-Gunzenhausen   \n",
       "34314  Deutschland                  Bayern                 Günzburg   \n",
       "34477  Deutschland  Mecklenburg-Vorpommern    Vorpommern-Greifswald   \n",
       "\n",
       "       Postleitzahl            Ort  Laengengrad  Breitengrad  \\\n",
       "108           31592      Stolzenau     8.987413    52.485784   \n",
       "125           87488       Betzigau          NaN          NaN   \n",
       "177           26529  Upgant-Schott     7.200870    53.509760   \n",
       "219           26529  Upgant-Schott     7.243216    53.502987   \n",
       "237           24229    Schwedeneck    10.096044    54.458812   \n",
       "...             ...            ...          ...          ...   \n",
       "34063         27404          Gyhum     9.173500    53.133100   \n",
       "34121         64372  Ober-Ramstadt          NaN          NaN   \n",
       "34181         91781     Weißenburg          NaN          NaN   \n",
       "34314         86470    Thannhausen          NaN          NaN   \n",
       "34477         17309       Pasewalk          NaN          NaN   \n",
       "\n",
       "      Registrierungsdatum Inbetriebnahmedatum EinheitBetriebsstatus  \\\n",
       "108            2019-02-04          2002-02-28            In Betrieb   \n",
       "125            2019-04-09          2019-01-23            In Betrieb   \n",
       "177            2019-02-05          2012-01-16            In Betrieb   \n",
       "219            2019-02-05          2009-04-20            In Betrieb   \n",
       "237            2019-02-06          2000-04-13            In Betrieb   \n",
       "...                   ...                 ...                   ...   \n",
       "34063          2023-03-06          2002-01-16            In Betrieb   \n",
       "34121          2023-03-23          2015-06-22            In Betrieb   \n",
       "34181          2023-05-06          2023-03-27            In Betrieb   \n",
       "34314          2023-04-21          2023-01-01            In Betrieb   \n",
       "34477          2023-05-17          2022-12-01            In Betrieb   \n",
       "\n",
       "      Energietraeger  Bruttoleistung  Nettonennleistung  \\\n",
       "108             Wind           600.0              600.0   \n",
       "125             Wind             1.0                1.0   \n",
       "177             Wind           800.0              800.0   \n",
       "219             Wind          2300.0             2300.0   \n",
       "237             Wind          1500.0             1500.0   \n",
       "...              ...             ...                ...   \n",
       "34063           Wind           600.0              600.0   \n",
       "34121           Wind             5.0                5.0   \n",
       "34181           Wind             1.0                1.0   \n",
       "34314           Wind             0.8                0.8   \n",
       "34477           Wind             2.6                2.6   \n",
       "\n",
       "       AnschlussAnHoechstOderHochSpannung  \\\n",
       "108                                   NaN   \n",
       "125                                   NaN   \n",
       "177                                   NaN   \n",
       "219                                   0.0   \n",
       "237                                   NaN   \n",
       "...                                   ...   \n",
       "34063                                 NaN   \n",
       "34121                                 NaN   \n",
       "34181                                 NaN   \n",
       "34314                                 NaN   \n",
       "34477                                 NaN   \n",
       "\n",
       "                                       Einspeisungsart  \\\n",
       "108                                    Volleinspeisung   \n",
       "125    Teileinspeisung (einschließlich Eigenverbrauch)   \n",
       "177                                    Volleinspeisung   \n",
       "219                                    Volleinspeisung   \n",
       "237                                    Volleinspeisung   \n",
       "...                                                ...   \n",
       "34063                                  Volleinspeisung   \n",
       "34121  Teileinspeisung (einschließlich Eigenverbrauch)   \n",
       "34181  Teileinspeisung (einschließlich Eigenverbrauch)   \n",
       "34314  Teileinspeisung (einschließlich Eigenverbrauch)   \n",
       "34477  Teileinspeisung (einschließlich Eigenverbrauch)   \n",
       "\n",
       "                                NameWindpark               Lage  \\\n",
       "108                            Auf dem Acker  Windkraft an Land   \n",
       "125                                      NaN  Windkraft an Land   \n",
       "177                                     E-53  Windkraft an Land   \n",
       "219                                     E-70  Windkraft an Land   \n",
       "237    Bürgerwindpark Schwedeneck GmbH＆Co.KG  Windkraft an Land   \n",
       "...                                      ...                ...   \n",
       "34063                               WP Gyhum  Windkraft an Land   \n",
       "34121                                    NaN  Windkraft an Land   \n",
       "34181                            Wohngebäude  Windkraft an Land   \n",
       "34314                                Skywind  Windkraft an Land   \n",
       "34477                  Kleinwindrad-Vertikal  Windkraft an Land   \n",
       "\n",
       "                   Hersteller       Technologie Typenbezeichnung  Nabenhoehe  \\\n",
       "108                       NaN  Horizontalläufer  Enercon-40/6.44         NaN   \n",
       "125    FuSystems SkyWind GmbH    Vertikalläufer               NG         NaN   \n",
       "177              ENERCON GmbH  Horizontalläufer     Enercon E-53         NaN   \n",
       "219              ENERCON GmbH  Horizontalläufer  Enercon E-70 E4         NaN   \n",
       "237       Tacke GmbH & Co. KG    Vertikalläufer          TW 1,5s         NaN   \n",
       "...                       ...               ...              ...         ...   \n",
       "34063            ENERCON GmbH  Horizontalläufer              E44         NaN   \n",
       "34121                Sonstige    Vertikalläufer            ENW-M         NaN   \n",
       "34181            SkyWind GmbH    Vertikalläufer       SkyWind NG         NaN   \n",
       "34314            SkyWind GmbH    Vertikalläufer       SkyWind NG         NaN   \n",
       "34477                Sonstige    Vertikalläufer            keine         NaN   \n",
       "\n",
       "       Rotordurchmesser  Rotorblattenteisungssystem  \n",
       "108                 NaN                         NaN  \n",
       "125                 1.5                         NaN  \n",
       "177                53.0                         NaN  \n",
       "219                71.0                         NaN  \n",
       "237                70.5                         0.0  \n",
       "...                 ...                         ...  \n",
       "34063              44.0                         0.0  \n",
       "34121               1.4                         0.0  \n",
       "34181               1.5                         0.0  \n",
       "34314               1.5                         0.0  \n",
       "34477               3.5                         0.0  \n",
       "\n",
       "[738 rows x 23 columns]"
      ]
     },
     "execution_count": 491,
     "metadata": {},
     "output_type": "execute_result"
    }
   ],
   "source": [
    "df[df['Nabenhoehe'].isna()]"
   ]
  },
  {
   "cell_type": "code",
   "execution_count": 219,
   "id": "31de58fc-6063-449a-93b1-65e6f6d1d312",
   "metadata": {
    "tags": []
   },
   "outputs": [
    {
     "data": {
      "text/html": [
       "<div>\n",
       "<style scoped>\n",
       "    .dataframe tbody tr th:only-of-type {\n",
       "        vertical-align: middle;\n",
       "    }\n",
       "\n",
       "    .dataframe tbody tr th {\n",
       "        vertical-align: top;\n",
       "    }\n",
       "\n",
       "    .dataframe thead th {\n",
       "        text-align: right;\n",
       "    }\n",
       "</style>\n",
       "<table border=\"1\" class=\"dataframe\">\n",
       "  <thead>\n",
       "    <tr style=\"text-align: right;\">\n",
       "      <th></th>\n",
       "      <th>EinheitMastrNummer</th>\n",
       "      <th>DatumLetzteAktualisierung</th>\n",
       "      <th>Bundesland</th>\n",
       "      <th>Postleitzahl</th>\n",
       "      <th>Ort</th>\n",
       "      <th>Laengengrad</th>\n",
       "      <th>Breitengrad</th>\n",
       "      <th>Registrierungsdatum</th>\n",
       "      <th>Inbetriebnahmedatum</th>\n",
       "      <th>EinheitBetriebsstatus</th>\n",
       "      <th>NameStromerzeugungseinheit</th>\n",
       "      <th>Nettonennleistung</th>\n",
       "      <th>AnschlussAnHoechstOderHochSpannung</th>\n",
       "      <th>Einspeisungsart</th>\n",
       "      <th>NameWindpark</th>\n",
       "      <th>Hersteller</th>\n",
       "      <th>Technologie</th>\n",
       "      <th>Typenbezeichnung</th>\n",
       "      <th>Nabenhoehe</th>\n",
       "      <th>Rotordurchmesser</th>\n",
       "      <th>Rotorblattenteisungssystem</th>\n",
       "    </tr>\n",
       "  </thead>\n",
       "  <tbody>\n",
       "    <tr>\n",
       "      <th>29626</th>\n",
       "      <td>SEE954018466771</td>\n",
       "      <td>2021-01-10 14:34:04.133574600</td>\n",
       "      <td>Thüringen</td>\n",
       "      <td>99095</td>\n",
       "      <td>Erfurt</td>\n",
       "      <td>11.082553</td>\n",
       "      <td>51.026456</td>\n",
       "      <td>2021-01-10</td>\n",
       "      <td>2013-07-19</td>\n",
       "      <td>In Betrieb</td>\n",
       "      <td>531507</td>\n",
       "      <td>800.0</td>\n",
       "      <td>NaN</td>\n",
       "      <td>Volleinspeisung</td>\n",
       "      <td>Kerspleben 2</td>\n",
       "      <td>ENERCON GmbH</td>\n",
       "      <td>Horizontalläufer</td>\n",
       "      <td>E53</td>\n",
       "      <td>73.0</td>\n",
       "      <td>52.9</td>\n",
       "      <td>0.0</td>\n",
       "    </tr>\n",
       "  </tbody>\n",
       "</table>\n",
       "</div>"
      ],
      "text/plain": [
       "      EinheitMastrNummer     DatumLetzteAktualisierung Bundesland  \\\n",
       "29626    SEE954018466771 2021-01-10 14:34:04.133574600  Thüringen   \n",
       "\n",
       "       Postleitzahl     Ort  Laengengrad  Breitengrad Registrierungsdatum  \\\n",
       "29626         99095  Erfurt    11.082553    51.026456          2021-01-10   \n",
       "\n",
       "      Inbetriebnahmedatum EinheitBetriebsstatus NameStromerzeugungseinheit  \\\n",
       "29626          2013-07-19            In Betrieb                     531507   \n",
       "\n",
       "       Nettonennleistung  AnschlussAnHoechstOderHochSpannung  Einspeisungsart  \\\n",
       "29626              800.0                                 NaN  Volleinspeisung   \n",
       "\n",
       "       NameWindpark    Hersteller       Technologie Typenbezeichnung  \\\n",
       "29626  Kerspleben 2  ENERCON GmbH  Horizontalläufer              E53   \n",
       "\n",
       "       Nabenhoehe  Rotordurchmesser  Rotorblattenteisungssystem  \n",
       "29626        73.0              52.9                         0.0  "
      ]
     },
     "execution_count": 219,
     "metadata": {},
     "output_type": "execute_result"
    }
   ],
   "source": [
    "# turbine with postcode 99095 and coords\n",
    "df[(df['Postleitzahl'] == 99095) & df['Laengengrad']]"
   ]
  },
  {
   "cell_type": "code",
   "execution_count": 305,
   "id": "039ec096-e3bf-4179-9fb6-89af9626d367",
   "metadata": {
    "tags": []
   },
   "outputs": [
    {
     "data": {
      "text/plain": [
       "51.026456"
      ]
     },
     "execution_count": 305,
     "metadata": {},
     "output_type": "execute_result"
    }
   ],
   "source": [
    "df[(df['Postleitzahl'] == 99095) & (df['Laengengrad'])]['Breitengrad'].values.item()"
   ]
  },
  {
   "cell_type": "code",
   "execution_count": 223,
   "id": "5451b7f8-4180-45bd-8178-35fe303f109d",
   "metadata": {
    "tags": []
   },
   "outputs": [
    {
     "data": {
      "text/plain": [
       "<Axes: xlabel='Inbetriebnahmedatum'>"
      ]
     },
     "execution_count": 223,
     "metadata": {},
     "output_type": "execute_result"
    },
    {
     "data": {
      "image/png": "[encoded data removed]",
      "text/plain": [
       "<Figure size 704x528 with 1 Axes>"
      ]
     },
     "metadata": {},
     "output_type": "display_data"
    }
   ],
   "source": [
    "df.resample('A', on='Inbetriebnahmedatum')['Inbetriebnahmedatum'].count().plot()"
   ]
  },
  {
   "cell_type": "code",
   "execution_count": 226,
   "id": "314aef88-1f67-4e28-90ba-d4a73210e0df",
   "metadata": {
    "tags": []
   },
   "outputs": [
    {
     "data": {
      "text/plain": [
       "NameWindpark\n",
       "Bürgerwindpark Reußenköge GmbH ＆ Co. KG    87\n",
       "Windpark Midlum                            70\n",
       "Windrad                                    54\n",
       "Drohndorf                                  53\n",
       "Dahme                                      51\n",
       "                                           ..\n",
       "Eschenloh Wind                              1\n",
       "WP Breitenbach GE27164792                   1\n",
       "Willenhofen                                 1\n",
       "Haiwind 2                                   1\n",
       "WKA Schulzendorf                            1\n",
       "Name: count, Length: 10694, dtype: int64"
      ]
     },
     "execution_count": 226,
     "metadata": {},
     "output_type": "execute_result"
    }
   ],
   "source": [
    "df['NameWindpark'].value_counts()"
   ]
  },
  {
   "cell_type": "markdown",
   "id": "92f41761-da35-459e-b1a1-b316c91aef46",
   "metadata": {},
   "source": [
    "### Missing data\n",
    "- Note: Inbetriebnahmedatum missing values because these turbines have status EinheitBetriebsstatus = In Planung\n",
    "    - That means we have full data for Inbetriebnahmedatum since we filter out turbines in planning!"
   ]
  },
  {
   "cell_type": "code",
   "execution_count": 179,
   "id": "262f3243-5676-4b95-b9b0-6630af0e9efe",
   "metadata": {
    "tags": []
   },
   "outputs": [
    {
     "data": {
      "text/plain": [
       "Land                                      0\n",
       "Bundesland                                0\n",
       "Landkreis                                 0\n",
       "Postleitzahl                              0\n",
       "Ort                                       0\n",
       "Laengengrad                             895\n",
       "Breitengrad                             895\n",
       "Registrierungsdatum                       0\n",
       "Inbetriebnahmedatum                    2241\n",
       "EinheitBetriebsstatus                     0\n",
       "Energietraeger                            0\n",
       "Bruttoleistung                            0\n",
       "Nettonennleistung                         0\n",
       "AnschlussAnHoechstOderHochSpannung     9509\n",
       "Einspeisungsart                         652\n",
       "NameWindpark                            807\n",
       "Lage                                      0\n",
       "Hersteller                              330\n",
       "Technologie                               0\n",
       "Typenbezeichnung                        346\n",
       "Nabenhoehe                              761\n",
       "Rotordurchmesser                        386\n",
       "Rotorblattenteisungssystem             7828\n",
       "GeplantesInbetriebnahmedatum          30460\n",
       "dtype: int64"
      ]
     },
     "execution_count": 179,
     "metadata": {},
     "output_type": "execute_result"
    }
   ],
   "source": [
    "df.isna().sum()"
   ]
  },
  {
   "cell_type": "code",
   "execution_count": 157,
   "id": "896d0400-723e-4639-8d54-69705680491e",
   "metadata": {
    "tags": []
   },
   "outputs": [
    {
     "data": {
      "text/html": [
       "<div>\n",
       "<style scoped>\n",
       "    .dataframe tbody tr th:only-of-type {\n",
       "        vertical-align: middle;\n",
       "    }\n",
       "\n",
       "    .dataframe tbody tr th {\n",
       "        vertical-align: top;\n",
       "    }\n",
       "\n",
       "    .dataframe thead th {\n",
       "        text-align: right;\n",
       "    }\n",
       "</style>\n",
       "<table border=\"1\" class=\"dataframe\">\n",
       "  <thead>\n",
       "    <tr style=\"text-align: right;\">\n",
       "      <th></th>\n",
       "      <th>Land</th>\n",
       "      <th>Bundesland</th>\n",
       "      <th>Landkreis</th>\n",
       "      <th>Postleitzahl</th>\n",
       "      <th>Ort</th>\n",
       "      <th>Laengengrad</th>\n",
       "      <th>Breitengrad</th>\n",
       "      <th>Registrierungsdatum</th>\n",
       "      <th>Inbetriebnahmedatum</th>\n",
       "      <th>EinheitBetriebsstatus</th>\n",
       "      <th>Energietraeger</th>\n",
       "      <th>Bruttoleistung</th>\n",
       "      <th>Nettonennleistung</th>\n",
       "      <th>AnschlussAnHoechstOderHochSpannung</th>\n",
       "      <th>Einspeisungsart</th>\n",
       "      <th>NameWindpark</th>\n",
       "      <th>Lage</th>\n",
       "      <th>Hersteller</th>\n",
       "      <th>Technologie</th>\n",
       "      <th>Typenbezeichnung</th>\n",
       "      <th>Nabenhoehe</th>\n",
       "      <th>Rotordurchmesser</th>\n",
       "      <th>Rotorblattenteisungssystem</th>\n",
       "      <th>GeplantesInbetriebnahmedatum</th>\n",
       "      <th>Seelage</th>\n",
       "      <th>ClusterNordsee</th>\n",
       "      <th>Wassertiefe</th>\n",
       "      <th>Kuestenentfernung</th>\n",
       "      <th>ClusterOstsee</th>\n",
       "    </tr>\n",
       "  </thead>\n",
       "  <tbody>\n",
       "    <tr>\n",
       "      <th>0</th>\n",
       "      <td>Deutschland</td>\n",
       "      <td>Hessen</td>\n",
       "      <td>Werra-Meißner-Kreis</td>\n",
       "      <td>34298.0</td>\n",
       "      <td>Helsa</td>\n",
       "      <td>9.739374</td>\n",
       "      <td>51.270068</td>\n",
       "      <td>2019-02-13</td>\n",
       "      <td>2017-09-01</td>\n",
       "      <td>In Betrieb</td>\n",
       "      <td>Wind</td>\n",
       "      <td>3000.0</td>\n",
       "      <td>3000.0</td>\n",
       "      <td>1.0</td>\n",
       "      <td>Volleinspeisung</td>\n",
       "      <td>Windpark Kreuzstein</td>\n",
       "      <td>Windkraft an Land</td>\n",
       "      <td>ENERCON GmbH</td>\n",
       "      <td>Horizontalläufer</td>\n",
       "      <td>E-115</td>\n",
       "      <td>149.08</td>\n",
       "      <td>115.71</td>\n",
       "      <td>1.0</td>\n",
       "      <td>NaN</td>\n",
       "      <td>NaN</td>\n",
       "      <td>NaN</td>\n",
       "      <td>NaN</td>\n",
       "      <td>NaN</td>\n",
       "      <td>NaN</td>\n",
       "    </tr>\n",
       "    <tr>\n",
       "      <th>1</th>\n",
       "      <td>Deutschland</td>\n",
       "      <td>Schleswig-Holstein</td>\n",
       "      <td>Segeberg</td>\n",
       "      <td>23824.0</td>\n",
       "      <td>Damsdorf</td>\n",
       "      <td>10.299400</td>\n",
       "      <td>54.073831</td>\n",
       "      <td>2019-02-01</td>\n",
       "      <td>2017-09-28</td>\n",
       "      <td>In Betrieb</td>\n",
       "      <td>Wind</td>\n",
       "      <td>3000.0</td>\n",
       "      <td>3000.0</td>\n",
       "      <td>0.0</td>\n",
       "      <td>Volleinspeisung</td>\n",
       "      <td>Damsdorf</td>\n",
       "      <td>Windkraft an Land</td>\n",
       "      <td>ENERCON GmbH</td>\n",
       "      <td>Horizontalläufer</td>\n",
       "      <td>E-115</td>\n",
       "      <td>135.40</td>\n",
       "      <td>115.70</td>\n",
       "      <td>NaN</td>\n",
       "      <td>NaN</td>\n",
       "      <td>NaN</td>\n",
       "      <td>NaN</td>\n",
       "      <td>NaN</td>\n",
       "      <td>NaN</td>\n",
       "      <td>NaN</td>\n",
       "    </tr>\n",
       "  </tbody>\n",
       "</table>\n",
       "</div>"
      ],
      "text/plain": [
       "          Land          Bundesland            Landkreis  Postleitzahl  \\\n",
       "0  Deutschland              Hessen  Werra-Meißner-Kreis       34298.0   \n",
       "1  Deutschland  Schleswig-Holstein             Segeberg       23824.0   \n",
       "\n",
       "        Ort  Laengengrad  Breitengrad Registrierungsdatum Inbetriebnahmedatum  \\\n",
       "0     Helsa     9.739374    51.270068          2019-02-13          2017-09-01   \n",
       "1  Damsdorf    10.299400    54.073831          2019-02-01          2017-09-28   \n",
       "\n",
       "  EinheitBetriebsstatus Energietraeger  Bruttoleistung  Nettonennleistung  \\\n",
       "0            In Betrieb           Wind          3000.0             3000.0   \n",
       "1            In Betrieb           Wind          3000.0             3000.0   \n",
       "\n",
       "   AnschlussAnHoechstOderHochSpannung  Einspeisungsart         NameWindpark  \\\n",
       "0                                 1.0  Volleinspeisung  Windpark Kreuzstein   \n",
       "1                                 0.0  Volleinspeisung             Damsdorf   \n",
       "\n",
       "                Lage    Hersteller       Technologie Typenbezeichnung  \\\n",
       "0  Windkraft an Land  ENERCON GmbH  Horizontalläufer            E-115   \n",
       "1  Windkraft an Land  ENERCON GmbH  Horizontalläufer            E-115   \n",
       "\n",
       "   Nabenhoehe  Rotordurchmesser  Rotorblattenteisungssystem  \\\n",
       "0      149.08            115.71                         1.0   \n",
       "1      135.40            115.70                         NaN   \n",
       "\n",
       "  GeplantesInbetriebnahmedatum  Seelage  ClusterNordsee  Wassertiefe  \\\n",
       "0                          NaN      NaN             NaN          NaN   \n",
       "1                          NaN      NaN             NaN          NaN   \n",
       "\n",
       "   Kuestenentfernung  ClusterOstsee  \n",
       "0                NaN            NaN  \n",
       "1                NaN            NaN  "
      ]
     },
     "execution_count": 157,
     "metadata": {},
     "output_type": "execute_result"
    }
   ],
   "source": [
    "df.head(2)"
   ]
  },
  {
   "cell_type": "markdown",
   "id": "d01e0b92-45b9-4d01-a7b5-64dc49a419ae",
   "metadata": {},
   "source": [
    "### Dates"
   ]
  },
  {
   "cell_type": "markdown",
   "id": "30347ee2-54e5-4bfa-a332-d5db2680824f",
   "metadata": {},
   "source": [
    "#### Date range of Registrierungsdatum is Jan 2019 to May 2023"
   ]
  },
  {
   "cell_type": "code",
   "execution_count": 159,
   "id": "e68008f9-8ab4-45a9-ae27-3680877861e3",
   "metadata": {
    "tags": []
   },
   "outputs": [],
   "source": [
    "# df.sort_values(by='Registrierungsdatum', ascending=True)"
   ]
  },
  {
   "cell_type": "code",
   "execution_count": 160,
   "id": "a456b857-817d-4e42-a52f-b48642fc80e3",
   "metadata": {
    "tags": []
   },
   "outputs": [
    {
     "name": "stdout",
     "output_type": "stream",
     "text": [
      "2019-01-31 00:00:00\n",
      "2023-05-26 00:00:00\n"
     ]
    }
   ],
   "source": [
    "print(df['Registrierungsdatum'].min())\n",
    "print(df['Registrierungsdatum'].max())"
   ]
  },
  {
   "cell_type": "code",
   "execution_count": 161,
   "id": "08c544d1-4ec3-4bf8-925b-7a16ddd7744e",
   "metadata": {
    "tags": []
   },
   "outputs": [
    {
     "data": {
      "text/plain": [
       "Registrierungsdatum\n",
       "2019-12-31    13176\n",
       "2020-12-31    14736\n",
       "2021-12-31     3986\n",
       "2022-12-31     1633\n",
       "2023-12-31      953\n",
       "Freq: A-DEC, Name: Registrierungsdatum, dtype: int64"
      ]
     },
     "execution_count": 161,
     "metadata": {},
     "output_type": "execute_result"
    }
   ],
   "source": [
    "# Resample on datetime\n",
    "# Alternative using groupby: df.groupby(pd.Grouper(freq='W', key='Registrierungsdatum'))['Registrierungsdatum'].count()\n",
    "df.resample('A', on='Registrierungsdatum')['Registrierungsdatum'].count()"
   ]
  },
  {
   "cell_type": "code",
   "execution_count": 133,
   "id": "c513dce3-df29-48c3-859a-943ab9729fe5",
   "metadata": {
    "tags": []
   },
   "outputs": [],
   "source": [
    "# df.resample('A', on='Registrierungsdatum')['Registrierungsdatum'].count().plot.bar()"
   ]
  },
  {
   "cell_type": "markdown",
   "id": "07d21875-3d84-4d01-aec9-14544d9183ca",
   "metadata": {},
   "source": [
    "#### Date range of Inbetriebnahmedatum is 1960 to 2023\n",
    "- Process for registering "
   ]
  },
  {
   "cell_type": "code",
   "execution_count": 163,
   "id": "2e8539f2-419c-47f5-85c3-f9782ebb36a1",
   "metadata": {
    "tags": []
   },
   "outputs": [
    {
     "name": "stdout",
     "output_type": "stream",
     "text": [
      "1960-04-02 00:00:00\n",
      "2023-05-26 00:00:00\n"
     ]
    }
   ],
   "source": [
    "print(df['Inbetriebnahmedatum'].min())\n",
    "print(df['Inbetriebnahmedatum'].max())"
   ]
  },
  {
   "cell_type": "code",
   "execution_count": 164,
   "id": "cd59b440-c2ed-4152-b53e-359bbb1f043d",
   "metadata": {
    "tags": []
   },
   "outputs": [
    {
     "data": {
      "text/plain": [
       "<Axes: title={'center': 'Test'}, xlabel='Inbetriebnahmedatum'>"
      ]
     },
     "execution_count": 164,
     "metadata": {},
     "output_type": "execute_result"
    },
    {
     "data": {
      "image/png": "[encoded data removed]",
      "text/plain": [
       "<Figure size 704x528 with 1 Axes>"
      ]
     },
     "metadata": {},
     "output_type": "display_data"
    }
   ],
   "source": [
    "df.resample('A', on='Inbetriebnahmedatum')['Inbetriebnahmedatum'].count().plot(title='Test')"
   ]
  },
  {
   "cell_type": "code",
   "execution_count": 165,
   "id": "e3ba4885-d448-40c0-a0e7-4665a4df100c",
   "metadata": {
    "tags": []
   },
   "outputs": [
    {
     "data": {
      "text/plain": [
       "<Axes: title={'center': 'Test'}, xlabel='Inbetriebnahmedatum'>"
      ]
     },
     "execution_count": 165,
     "metadata": {},
     "output_type": "execute_result"
    },
    {
     "data": {
      "image/png": "[encoded data removed]",
      "text/plain": [
       "<Figure size 704x528 with 1 Axes>"
      ]
     },
     "metadata": {},
     "output_type": "display_data"
    }
   ],
   "source": [
    "df.resample('D', on='Inbetriebnahmedatum')['Inbetriebnahmedatum'].count().plot(title='Test')"
   ]
  },
  {
   "cell_type": "markdown",
   "id": "d144e114-d3a2-40d3-ba53-5f21476cfee3",
   "metadata": {},
   "source": [
    "### Unique value counts"
   ]
  },
  {
   "cell_type": "code",
   "execution_count": 20,
   "id": "a8655590-2fbc-42ba-bc1f-8b6908139227",
   "metadata": {
    "tags": []
   },
   "outputs": [
    {
     "data": {
      "text/plain": [
       "Technologie\n",
       "Horizontalläufer    34027\n",
       "Vertikalläufer        457\n",
       "Name: count, dtype: int64"
      ]
     },
     "execution_count": 20,
     "metadata": {},
     "output_type": "execute_result"
    }
   ],
   "source": [
    "df['Technologie'].value_counts()"
   ]
  },
  {
   "cell_type": "code",
   "execution_count": 21,
   "id": "179743b9-b4aa-43ee-a52d-709603a2e996",
   "metadata": {
    "tags": []
   },
   "outputs": [
    {
     "data": {
      "text/plain": [
       "EinheitBetriebsstatus\n",
       "In Betrieb                   30983\n",
       "In Planung                    2464\n",
       "Endgültig stillgelegt          999\n",
       "Vorübergehend stillgelegt       38\n",
       "Name: count, dtype: int64"
      ]
     },
     "execution_count": 21,
     "metadata": {},
     "output_type": "execute_result"
    }
   ],
   "source": [
    "df['EinheitBetriebsstatus'].value_counts()"
   ]
  },
  {
   "cell_type": "code",
   "execution_count": 40,
   "id": "b5d6cdd2-8c46-43ce-acbb-31e2953a616f",
   "metadata": {
    "tags": []
   },
   "outputs": [
    {
     "data": {
      "text/plain": [
       "Lage\n",
       "Windkraft an Land    32700\n",
       "Windkraft auf See     1784\n",
       "Name: count, dtype: int64"
      ]
     },
     "execution_count": 40,
     "metadata": {},
     "output_type": "execute_result"
    }
   ],
   "source": [
    "# Land vs offshore\n",
    "df['Lage'].value_counts()"
   ]
  },
  {
   "cell_type": "code",
   "execution_count": 41,
   "id": "1da5845f-775d-4369-ad4c-3430c600a10e",
   "metadata": {
    "tags": []
   },
   "outputs": [
    {
     "data": {
      "text/plain": [
       "AnschlussAnHoechstOderHochSpannung\n",
       "0.0    15554\n",
       "1.0     9077\n",
       "Name: count, dtype: int64"
      ]
     },
     "execution_count": 41,
     "metadata": {},
     "output_type": "execute_result"
    }
   ],
   "source": [
    "df['AnschlussAnHoechstOderHochSpannung'].value_counts()"
   ]
  },
  {
   "cell_type": "code",
   "execution_count": 43,
   "id": "ab0532d5-462b-4743-8ad6-5b15299cae2e",
   "metadata": {
    "tags": []
   },
   "outputs": [
    {
     "data": {
      "text/plain": [
       "Hersteller\n",
       "ENERCON GmbH                        13057\n",
       "Vestas Deutschland GmbH              6600\n",
       "Nordex Energy GmbH                   2228\n",
       "Siemens Wind Power GmbH & Co. KG     1531\n",
       "Senvion Deutschland GmbH             1495\n",
       "                                    ...  \n",
       "Svit Vitru                              1\n",
       "ESPV-TEC GmbH & Co. KG                  1\n",
       "SMA Solar Technology AG                 1\n",
       "WES IBS GmbH                            1\n",
       "SB Energy UK Ltd.                       1\n",
       "Name: count, Length: 115, dtype: int64"
      ]
     },
     "execution_count": 43,
     "metadata": {},
     "output_type": "execute_result"
    }
   ],
   "source": [
    "df['Hersteller'].value_counts()"
   ]
  },
  {
   "cell_type": "markdown",
   "id": "c42b720d-e01c-40cc-8701-c517972c82cb",
   "metadata": {},
   "source": [
    "### Summary statistics of numerical continuous features\n",
    "- Looks like I'll want wind speed data for height 100m"
   ]
  },
  {
   "cell_type": "code",
   "execution_count": 50,
   "id": "5053b387-1750-434e-adbb-355ebb4933a4",
   "metadata": {
    "tags": []
   },
   "outputs": [
    {
     "data": {
      "text/html": [
       "<div>\n",
       "<style scoped>\n",
       "    .dataframe tbody tr th:only-of-type {\n",
       "        vertical-align: middle;\n",
       "    }\n",
       "\n",
       "    .dataframe tbody tr th {\n",
       "        vertical-align: top;\n",
       "    }\n",
       "\n",
       "    .dataframe thead th {\n",
       "        text-align: right;\n",
       "    }\n",
       "</style>\n",
       "<table border=\"1\" class=\"dataframe\">\n",
       "  <thead>\n",
       "    <tr style=\"text-align: right;\">\n",
       "      <th></th>\n",
       "      <th>Bruttoleistung</th>\n",
       "      <th>Nettonennleistung</th>\n",
       "      <th>Nabenhoehe</th>\n",
       "      <th>Rotordurchmesser</th>\n",
       "    </tr>\n",
       "  </thead>\n",
       "  <tbody>\n",
       "    <tr>\n",
       "      <th>count</th>\n",
       "      <td>34484.000000</td>\n",
       "      <td>34484.000000</td>\n",
       "      <td>33631.000000</td>\n",
       "      <td>34031.000000</td>\n",
       "    </tr>\n",
       "    <tr>\n",
       "      <th>mean</th>\n",
       "      <td>2370.309200</td>\n",
       "      <td>2370.309200</td>\n",
       "      <td>98.725831</td>\n",
       "      <td>87.096264</td>\n",
       "    </tr>\n",
       "    <tr>\n",
       "      <th>std</th>\n",
       "      <td>1681.910702</td>\n",
       "      <td>1681.910702</td>\n",
       "      <td>34.785787</td>\n",
       "      <td>35.863944</td>\n",
       "    </tr>\n",
       "    <tr>\n",
       "      <th>min</th>\n",
       "      <td>0.120000</td>\n",
       "      <td>0.120000</td>\n",
       "      <td>0.360000</td>\n",
       "      <td>0.300000</td>\n",
       "    </tr>\n",
       "    <tr>\n",
       "      <th>25%</th>\n",
       "      <td>1500.000000</td>\n",
       "      <td>1500.000000</td>\n",
       "      <td>70.000000</td>\n",
       "      <td>66.000000</td>\n",
       "    </tr>\n",
       "    <tr>\n",
       "      <th>50%</th>\n",
       "      <td>2000.000000</td>\n",
       "      <td>2000.000000</td>\n",
       "      <td>98.000000</td>\n",
       "      <td>82.000000</td>\n",
       "    </tr>\n",
       "    <tr>\n",
       "      <th>75%</th>\n",
       "      <td>3050.000000</td>\n",
       "      <td>3050.000000</td>\n",
       "      <td>134.000000</td>\n",
       "      <td>115.000000</td>\n",
       "    </tr>\n",
       "    <tr>\n",
       "      <th>max</th>\n",
       "      <td>20000.000000</td>\n",
       "      <td>20000.000000</td>\n",
       "      <td>200.000000</td>\n",
       "      <td>200.000000</td>\n",
       "    </tr>\n",
       "  </tbody>\n",
       "</table>\n",
       "</div>"
      ],
      "text/plain": [
       "       Bruttoleistung  Nettonennleistung    Nabenhoehe  Rotordurchmesser\n",
       "count    34484.000000       34484.000000  33631.000000      34031.000000\n",
       "mean      2370.309200        2370.309200     98.725831         87.096264\n",
       "std       1681.910702        1681.910702     34.785787         35.863944\n",
       "min          0.120000           0.120000      0.360000          0.300000\n",
       "25%       1500.000000        1500.000000     70.000000         66.000000\n",
       "50%       2000.000000        2000.000000     98.000000         82.000000\n",
       "75%       3050.000000        3050.000000    134.000000        115.000000\n",
       "max      20000.000000       20000.000000    200.000000        200.000000"
      ]
     },
     "execution_count": 50,
     "metadata": {},
     "output_type": "execute_result"
    }
   ],
   "source": [
    "df[['Bruttoleistung', 'Nettonennleistung', 'Nabenhoehe', 'Rotordurchmesser']].describe()"
   ]
  },
  {
   "cell_type": "markdown",
   "id": "28fc3111-28d1-44f4-87e5-336d8229cf41",
   "metadata": {},
   "source": [
    "### Create a date range/index and group turbine records on date they went into operation\n",
    "- Also aggregate some of the other columns on grouped days as well (e.g. average blade diameter, etc)"
   ]
  },
  {
   "cell_type": "code",
   "execution_count": 173,
   "id": "b99f34f6-5f97-4851-bc3f-20d153379894",
   "metadata": {},
   "outputs": [
    {
     "data": {
      "text/html": [
       "<div>\n",
       "<style scoped>\n",
       "    .dataframe tbody tr th:only-of-type {\n",
       "        vertical-align: middle;\n",
       "    }\n",
       "\n",
       "    .dataframe tbody tr th {\n",
       "        vertical-align: top;\n",
       "    }\n",
       "\n",
       "    .dataframe thead th {\n",
       "        text-align: right;\n",
       "    }\n",
       "</style>\n",
       "<table border=\"1\" class=\"dataframe\">\n",
       "  <thead>\n",
       "    <tr style=\"text-align: right;\">\n",
       "      <th></th>\n",
       "      <th>Land</th>\n",
       "      <th>Bundesland</th>\n",
       "      <th>Landkreis</th>\n",
       "      <th>Postleitzahl</th>\n",
       "      <th>Ort</th>\n",
       "      <th>Laengengrad</th>\n",
       "      <th>Breitengrad</th>\n",
       "      <th>Registrierungsdatum</th>\n",
       "      <th>Inbetriebnahmedatum</th>\n",
       "      <th>EinheitBetriebsstatus</th>\n",
       "      <th>Energietraeger</th>\n",
       "      <th>Bruttoleistung</th>\n",
       "      <th>Nettonennleistung</th>\n",
       "      <th>AnschlussAnHoechstOderHochSpannung</th>\n",
       "      <th>Einspeisungsart</th>\n",
       "      <th>NameWindpark</th>\n",
       "      <th>Lage</th>\n",
       "      <th>Hersteller</th>\n",
       "      <th>Technologie</th>\n",
       "      <th>Typenbezeichnung</th>\n",
       "      <th>Nabenhoehe</th>\n",
       "      <th>Rotordurchmesser</th>\n",
       "      <th>Rotorblattenteisungssystem</th>\n",
       "      <th>GeplantesInbetriebnahmedatum</th>\n",
       "      <th>Seelage</th>\n",
       "      <th>ClusterNordsee</th>\n",
       "      <th>Wassertiefe</th>\n",
       "      <th>Kuestenentfernung</th>\n",
       "      <th>ClusterOstsee</th>\n",
       "    </tr>\n",
       "  </thead>\n",
       "  <tbody>\n",
       "    <tr>\n",
       "      <th>97</th>\n",
       "      <td>Deutschland</td>\n",
       "      <td>Schleswig-Holstein</td>\n",
       "      <td>Nordfriesland</td>\n",
       "      <td>25873.0</td>\n",
       "      <td>Rantrum</td>\n",
       "      <td>NaN</td>\n",
       "      <td>NaN</td>\n",
       "      <td>2019-02-04</td>\n",
       "      <td>2018-04-24</td>\n",
       "      <td>Endgültig stillgelegt</td>\n",
       "      <td>Wind</td>\n",
       "      <td>10.0</td>\n",
       "      <td>10.0</td>\n",
       "      <td>NaN</td>\n",
       "      <td>Teileinspeisung (einschließlich Eigenverbrauch)</td>\n",
       "      <td>PSW</td>\n",
       "      <td>Windkraft an Land</td>\n",
       "      <td>PSW-Energiesysteme GmbH</td>\n",
       "      <td>Horizontalläufer</td>\n",
       "      <td>EN-Drive 2000.3 M</td>\n",
       "      <td>10.0</td>\n",
       "      <td>7.10</td>\n",
       "      <td>NaN</td>\n",
       "      <td>NaN</td>\n",
       "      <td>NaN</td>\n",
       "      <td>NaN</td>\n",
       "      <td>NaN</td>\n",
       "      <td>NaN</td>\n",
       "      <td>NaN</td>\n",
       "    </tr>\n",
       "    <tr>\n",
       "      <th>2194</th>\n",
       "      <td>Deutschland</td>\n",
       "      <td>Niedersachsen</td>\n",
       "      <td>Uelzen</td>\n",
       "      <td>29584.0</td>\n",
       "      <td>Himbergen</td>\n",
       "      <td>NaN</td>\n",
       "      <td>NaN</td>\n",
       "      <td>2019-03-03</td>\n",
       "      <td>2019-02-20</td>\n",
       "      <td>Endgültig stillgelegt</td>\n",
       "      <td>Wind</td>\n",
       "      <td>10.0</td>\n",
       "      <td>10.0</td>\n",
       "      <td>NaN</td>\n",
       "      <td>Teileinspeisung (einschließlich Eigenverbrauch)</td>\n",
       "      <td>Kleinwindkraftanlage</td>\n",
       "      <td>Windkraft an Land</td>\n",
       "      <td>PSW-Energiesysteme GmbH</td>\n",
       "      <td>Vertikalläufer</td>\n",
       "      <td>EN-Drive 2000.3 - 10 kW</td>\n",
       "      <td>NaN</td>\n",
       "      <td>7.50</td>\n",
       "      <td>NaN</td>\n",
       "      <td>NaN</td>\n",
       "      <td>NaN</td>\n",
       "      <td>NaN</td>\n",
       "      <td>NaN</td>\n",
       "      <td>NaN</td>\n",
       "      <td>NaN</td>\n",
       "    </tr>\n",
       "    <tr>\n",
       "      <th>2463</th>\n",
       "      <td>Deutschland</td>\n",
       "      <td>Bayern</td>\n",
       "      <td>Oberallgäu</td>\n",
       "      <td>87499.0</td>\n",
       "      <td>Wildpoldsried</td>\n",
       "      <td>NaN</td>\n",
       "      <td>NaN</td>\n",
       "      <td>2019-03-10</td>\n",
       "      <td>NaT</td>\n",
       "      <td>In Planung</td>\n",
       "      <td>Wind</td>\n",
       "      <td>1.4</td>\n",
       "      <td>1.4</td>\n",
       "      <td>NaN</td>\n",
       "      <td>Teileinspeisung (einschließlich Eigenverbrauch)</td>\n",
       "      <td>Wind of Change</td>\n",
       "      <td>Windkraft an Land</td>\n",
       "      <td>Sonstige</td>\n",
       "      <td>Horizontalläufer</td>\n",
       "      <td>Wind of Change 1400</td>\n",
       "      <td>12.1</td>\n",
       "      <td>1.40</td>\n",
       "      <td>NaN</td>\n",
       "      <td>2022-06-03</td>\n",
       "      <td>NaN</td>\n",
       "      <td>NaN</td>\n",
       "      <td>NaN</td>\n",
       "      <td>NaN</td>\n",
       "      <td>NaN</td>\n",
       "    </tr>\n",
       "    <tr>\n",
       "      <th>4464</th>\n",
       "      <td>Deutschland</td>\n",
       "      <td>Schleswig-Holstein</td>\n",
       "      <td>Schleswig-Flensburg</td>\n",
       "      <td>24989.0</td>\n",
       "      <td>Dollerup</td>\n",
       "      <td>NaN</td>\n",
       "      <td>NaN</td>\n",
       "      <td>2019-04-30</td>\n",
       "      <td>2019-04-16</td>\n",
       "      <td>Endgültig stillgelegt</td>\n",
       "      <td>Wind</td>\n",
       "      <td>7.5</td>\n",
       "      <td>7.5</td>\n",
       "      <td>NaN</td>\n",
       "      <td>Teileinspeisung (einschließlich Eigenverbrauch)</td>\n",
       "      <td>NaN</td>\n",
       "      <td>Windkraft an Land</td>\n",
       "      <td>Weinack Windenergie Anlagen GmbH</td>\n",
       "      <td>Horizontalläufer</td>\n",
       "      <td>WWA Falcon 40</td>\n",
       "      <td>18.0</td>\n",
       "      <td>7.13</td>\n",
       "      <td>NaN</td>\n",
       "      <td>NaN</td>\n",
       "      <td>NaN</td>\n",
       "      <td>NaN</td>\n",
       "      <td>NaN</td>\n",
       "      <td>NaN</td>\n",
       "      <td>NaN</td>\n",
       "    </tr>\n",
       "    <tr>\n",
       "      <th>4715</th>\n",
       "      <td>Deutschland</td>\n",
       "      <td>Nordrhein-Westfalen</td>\n",
       "      <td>Minden-Lübbecke</td>\n",
       "      <td>32609.0</td>\n",
       "      <td>Hüllhorst</td>\n",
       "      <td>NaN</td>\n",
       "      <td>NaN</td>\n",
       "      <td>2019-05-05</td>\n",
       "      <td>2015-07-12</td>\n",
       "      <td>Endgültig stillgelegt</td>\n",
       "      <td>Wind</td>\n",
       "      <td>1.2</td>\n",
       "      <td>1.2</td>\n",
       "      <td>NaN</td>\n",
       "      <td>Teileinspeisung (einschließlich Eigenverbrauch)</td>\n",
       "      <td>Windrad</td>\n",
       "      <td>Windkraft an Land</td>\n",
       "      <td>K.D.-Stahl- und Maschinenbau GmbH</td>\n",
       "      <td>Vertikalläufer</td>\n",
       "      <td>Amperius</td>\n",
       "      <td>NaN</td>\n",
       "      <td>1.50</td>\n",
       "      <td>NaN</td>\n",
       "      <td>NaN</td>\n",
       "      <td>NaN</td>\n",
       "      <td>NaN</td>\n",
       "      <td>NaN</td>\n",
       "      <td>NaN</td>\n",
       "      <td>NaN</td>\n",
       "    </tr>\n",
       "    <tr>\n",
       "      <th>...</th>\n",
       "      <td>...</td>\n",
       "      <td>...</td>\n",
       "      <td>...</td>\n",
       "      <td>...</td>\n",
       "      <td>...</td>\n",
       "      <td>...</td>\n",
       "      <td>...</td>\n",
       "      <td>...</td>\n",
       "      <td>...</td>\n",
       "      <td>...</td>\n",
       "      <td>...</td>\n",
       "      <td>...</td>\n",
       "      <td>...</td>\n",
       "      <td>...</td>\n",
       "      <td>...</td>\n",
       "      <td>...</td>\n",
       "      <td>...</td>\n",
       "      <td>...</td>\n",
       "      <td>...</td>\n",
       "      <td>...</td>\n",
       "      <td>...</td>\n",
       "      <td>...</td>\n",
       "      <td>...</td>\n",
       "      <td>...</td>\n",
       "      <td>...</td>\n",
       "      <td>...</td>\n",
       "      <td>...</td>\n",
       "      <td>...</td>\n",
       "      <td>...</td>\n",
       "    </tr>\n",
       "    <tr>\n",
       "      <th>34333</th>\n",
       "      <td>Deutschland</td>\n",
       "      <td>Schleswig-Holstein</td>\n",
       "      <td>Dithmarschen</td>\n",
       "      <td>25764.0</td>\n",
       "      <td>Wesselburenerkoog</td>\n",
       "      <td>NaN</td>\n",
       "      <td>NaN</td>\n",
       "      <td>2023-05-01</td>\n",
       "      <td>NaT</td>\n",
       "      <td>In Planung</td>\n",
       "      <td>Wind</td>\n",
       "      <td>6.0</td>\n",
       "      <td>6.0</td>\n",
       "      <td>NaN</td>\n",
       "      <td>Teileinspeisung (einschließlich Eigenverbrauch)</td>\n",
       "      <td>vertikal</td>\n",
       "      <td>Windkraft an Land</td>\n",
       "      <td>Sonstige</td>\n",
       "      <td>Horizontalläufer</td>\n",
       "      <td>Bayoung-FH3.6M-NEW</td>\n",
       "      <td>9.0</td>\n",
       "      <td>3.00</td>\n",
       "      <td>0.0</td>\n",
       "      <td>2023-09-01</td>\n",
       "      <td>NaN</td>\n",
       "      <td>NaN</td>\n",
       "      <td>NaN</td>\n",
       "      <td>NaN</td>\n",
       "      <td>NaN</td>\n",
       "    </tr>\n",
       "    <tr>\n",
       "      <th>34334</th>\n",
       "      <td>Deutschland</td>\n",
       "      <td>Schleswig-Holstein</td>\n",
       "      <td>Nordfriesland</td>\n",
       "      <td>25882.0</td>\n",
       "      <td>Tetenbüll</td>\n",
       "      <td>NaN</td>\n",
       "      <td>NaN</td>\n",
       "      <td>2023-05-03</td>\n",
       "      <td>NaT</td>\n",
       "      <td>In Planung</td>\n",
       "      <td>Wind</td>\n",
       "      <td>1.0</td>\n",
       "      <td>1.0</td>\n",
       "      <td>NaN</td>\n",
       "      <td>Teileinspeisung (einschließlich Eigenverbrauch)</td>\n",
       "      <td>NaN</td>\n",
       "      <td>Windkraft an Land</td>\n",
       "      <td>SkyWind GmbH</td>\n",
       "      <td>Horizontalläufer</td>\n",
       "      <td>SkyWind NG</td>\n",
       "      <td>8.0</td>\n",
       "      <td>1.50</td>\n",
       "      <td>0.0</td>\n",
       "      <td>2023-05-22</td>\n",
       "      <td>NaN</td>\n",
       "      <td>NaN</td>\n",
       "      <td>NaN</td>\n",
       "      <td>NaN</td>\n",
       "      <td>NaN</td>\n",
       "    </tr>\n",
       "    <tr>\n",
       "      <th>34336</th>\n",
       "      <td>Deutschland</td>\n",
       "      <td>Niedersachsen</td>\n",
       "      <td>Uelzen</td>\n",
       "      <td>29571.0</td>\n",
       "      <td>Rosche</td>\n",
       "      <td>NaN</td>\n",
       "      <td>NaN</td>\n",
       "      <td>2023-05-06</td>\n",
       "      <td>NaT</td>\n",
       "      <td>In Planung</td>\n",
       "      <td>Wind</td>\n",
       "      <td>0.6</td>\n",
       "      <td>0.6</td>\n",
       "      <td>NaN</td>\n",
       "      <td>Teileinspeisung (einschließlich Eigenverbrauch)</td>\n",
       "      <td>Sky Wind Dachanlage</td>\n",
       "      <td>Windkraft an Land</td>\n",
       "      <td>SkyWind GmbH</td>\n",
       "      <td>Horizontalläufer</td>\n",
       "      <td>Sky Wind NG</td>\n",
       "      <td>9.0</td>\n",
       "      <td>1.35</td>\n",
       "      <td>0.0</td>\n",
       "      <td>2023-06-10</td>\n",
       "      <td>NaN</td>\n",
       "      <td>NaN</td>\n",
       "      <td>NaN</td>\n",
       "      <td>NaN</td>\n",
       "      <td>NaN</td>\n",
       "    </tr>\n",
       "    <tr>\n",
       "      <th>34340</th>\n",
       "      <td>Deutschland</td>\n",
       "      <td>Nordrhein-Westfalen</td>\n",
       "      <td>Dortmund</td>\n",
       "      <td>44269.0</td>\n",
       "      <td>Dortmund</td>\n",
       "      <td>NaN</td>\n",
       "      <td>NaN</td>\n",
       "      <td>2023-05-08</td>\n",
       "      <td>NaT</td>\n",
       "      <td>In Planung</td>\n",
       "      <td>Wind</td>\n",
       "      <td>2.0</td>\n",
       "      <td>2.0</td>\n",
       "      <td>NaN</td>\n",
       "      <td>Teileinspeisung (einschließlich Eigenverbrauch)</td>\n",
       "      <td>Conciso - Windpark</td>\n",
       "      <td>Windkraft an Land</td>\n",
       "      <td>SkyWind GmbH</td>\n",
       "      <td>Horizontalläufer</td>\n",
       "      <td>SkyWind NG 1kW</td>\n",
       "      <td>163.0</td>\n",
       "      <td>1.00</td>\n",
       "      <td>0.0</td>\n",
       "      <td>2023-06-30</td>\n",
       "      <td>NaN</td>\n",
       "      <td>NaN</td>\n",
       "      <td>NaN</td>\n",
       "      <td>NaN</td>\n",
       "      <td>NaN</td>\n",
       "    </tr>\n",
       "    <tr>\n",
       "      <th>34478</th>\n",
       "      <td>Deutschland</td>\n",
       "      <td>Bayern</td>\n",
       "      <td>Neustadt a.d. Aisch-Bad Windsheim</td>\n",
       "      <td>91438.0</td>\n",
       "      <td>Bad Windsheim</td>\n",
       "      <td>NaN</td>\n",
       "      <td>NaN</td>\n",
       "      <td>2023-05-19</td>\n",
       "      <td>NaT</td>\n",
       "      <td>In Planung</td>\n",
       "      <td>Wind</td>\n",
       "      <td>1.0</td>\n",
       "      <td>1.0</td>\n",
       "      <td>NaN</td>\n",
       "      <td>Teileinspeisung (einschließlich Eigenverbrauch)</td>\n",
       "      <td>NaN</td>\n",
       "      <td>Windkraft an Land</td>\n",
       "      <td>NaN</td>\n",
       "      <td>Horizontalläufer</td>\n",
       "      <td>NaN</td>\n",
       "      <td>8.0</td>\n",
       "      <td>3.00</td>\n",
       "      <td>0.0</td>\n",
       "      <td>2023-07-31</td>\n",
       "      <td>NaN</td>\n",
       "      <td>NaN</td>\n",
       "      <td>NaN</td>\n",
       "      <td>NaN</td>\n",
       "      <td>NaN</td>\n",
       "    </tr>\n",
       "  </tbody>\n",
       "</table>\n",
       "<p>102 rows × 29 columns</p>\n",
       "</div>"
      ],
      "text/plain": [
       "              Land           Bundesland                          Landkreis  \\\n",
       "97     Deutschland   Schleswig-Holstein                      Nordfriesland   \n",
       "2194   Deutschland        Niedersachsen                             Uelzen   \n",
       "2463   Deutschland               Bayern                         Oberallgäu   \n",
       "4464   Deutschland   Schleswig-Holstein                Schleswig-Flensburg   \n",
       "4715   Deutschland  Nordrhein-Westfalen                    Minden-Lübbecke   \n",
       "...            ...                  ...                                ...   \n",
       "34333  Deutschland   Schleswig-Holstein                       Dithmarschen   \n",
       "34334  Deutschland   Schleswig-Holstein                      Nordfriesland   \n",
       "34336  Deutschland        Niedersachsen                             Uelzen   \n",
       "34340  Deutschland  Nordrhein-Westfalen                           Dortmund   \n",
       "34478  Deutschland               Bayern  Neustadt a.d. Aisch-Bad Windsheim   \n",
       "\n",
       "       Postleitzahl                Ort  Laengengrad  Breitengrad  \\\n",
       "97          25873.0            Rantrum          NaN          NaN   \n",
       "2194        29584.0          Himbergen          NaN          NaN   \n",
       "2463        87499.0      Wildpoldsried          NaN          NaN   \n",
       "4464        24989.0           Dollerup          NaN          NaN   \n",
       "4715        32609.0          Hüllhorst          NaN          NaN   \n",
       "...             ...                ...          ...          ...   \n",
       "34333       25764.0  Wesselburenerkoog          NaN          NaN   \n",
       "34334       25882.0          Tetenbüll          NaN          NaN   \n",
       "34336       29571.0             Rosche          NaN          NaN   \n",
       "34340       44269.0           Dortmund          NaN          NaN   \n",
       "34478       91438.0      Bad Windsheim          NaN          NaN   \n",
       "\n",
       "      Registrierungsdatum Inbetriebnahmedatum  EinheitBetriebsstatus  \\\n",
       "97             2019-02-04          2018-04-24  Endgültig stillgelegt   \n",
       "2194           2019-03-03          2019-02-20  Endgültig stillgelegt   \n",
       "2463           2019-03-10                 NaT             In Planung   \n",
       "4464           2019-04-30          2019-04-16  Endgültig stillgelegt   \n",
       "4715           2019-05-05          2015-07-12  Endgültig stillgelegt   \n",
       "...                   ...                 ...                    ...   \n",
       "34333          2023-05-01                 NaT             In Planung   \n",
       "34334          2023-05-03                 NaT             In Planung   \n",
       "34336          2023-05-06                 NaT             In Planung   \n",
       "34340          2023-05-08                 NaT             In Planung   \n",
       "34478          2023-05-19                 NaT             In Planung   \n",
       "\n",
       "      Energietraeger  Bruttoleistung  Nettonennleistung  \\\n",
       "97              Wind            10.0               10.0   \n",
       "2194            Wind            10.0               10.0   \n",
       "2463            Wind             1.4                1.4   \n",
       "4464            Wind             7.5                7.5   \n",
       "4715            Wind             1.2                1.2   \n",
       "...              ...             ...                ...   \n",
       "34333           Wind             6.0                6.0   \n",
       "34334           Wind             1.0                1.0   \n",
       "34336           Wind             0.6                0.6   \n",
       "34340           Wind             2.0                2.0   \n",
       "34478           Wind             1.0                1.0   \n",
       "\n",
       "       AnschlussAnHoechstOderHochSpannung  \\\n",
       "97                                    NaN   \n",
       "2194                                  NaN   \n",
       "2463                                  NaN   \n",
       "4464                                  NaN   \n",
       "4715                                  NaN   \n",
       "...                                   ...   \n",
       "34333                                 NaN   \n",
       "34334                                 NaN   \n",
       "34336                                 NaN   \n",
       "34340                                 NaN   \n",
       "34478                                 NaN   \n",
       "\n",
       "                                       Einspeisungsart          NameWindpark  \\\n",
       "97     Teileinspeisung (einschließlich Eigenverbrauch)                   PSW   \n",
       "2194   Teileinspeisung (einschließlich Eigenverbrauch)  Kleinwindkraftanlage   \n",
       "2463   Teileinspeisung (einschließlich Eigenverbrauch)        Wind of Change   \n",
       "4464   Teileinspeisung (einschließlich Eigenverbrauch)                   NaN   \n",
       "4715   Teileinspeisung (einschließlich Eigenverbrauch)               Windrad   \n",
       "...                                                ...                   ...   \n",
       "34333  Teileinspeisung (einschließlich Eigenverbrauch)              vertikal   \n",
       "34334  Teileinspeisung (einschließlich Eigenverbrauch)                   NaN   \n",
       "34336  Teileinspeisung (einschließlich Eigenverbrauch)   Sky Wind Dachanlage   \n",
       "34340  Teileinspeisung (einschließlich Eigenverbrauch)    Conciso - Windpark   \n",
       "34478  Teileinspeisung (einschließlich Eigenverbrauch)                   NaN   \n",
       "\n",
       "                    Lage                         Hersteller       Technologie  \\\n",
       "97     Windkraft an Land            PSW-Energiesysteme GmbH  Horizontalläufer   \n",
       "2194   Windkraft an Land            PSW-Energiesysteme GmbH    Vertikalläufer   \n",
       "2463   Windkraft an Land                           Sonstige  Horizontalläufer   \n",
       "4464   Windkraft an Land   Weinack Windenergie Anlagen GmbH  Horizontalläufer   \n",
       "4715   Windkraft an Land  K.D.-Stahl- und Maschinenbau GmbH    Vertikalläufer   \n",
       "...                  ...                                ...               ...   \n",
       "34333  Windkraft an Land                           Sonstige  Horizontalläufer   \n",
       "34334  Windkraft an Land                       SkyWind GmbH  Horizontalläufer   \n",
       "34336  Windkraft an Land                       SkyWind GmbH  Horizontalläufer   \n",
       "34340  Windkraft an Land                       SkyWind GmbH  Horizontalläufer   \n",
       "34478  Windkraft an Land                                NaN  Horizontalläufer   \n",
       "\n",
       "              Typenbezeichnung  Nabenhoehe  Rotordurchmesser  \\\n",
       "97           EN-Drive 2000.3 M        10.0              7.10   \n",
       "2194   EN-Drive 2000.3 - 10 kW         NaN              7.50   \n",
       "2463       Wind of Change 1400        12.1              1.40   \n",
       "4464             WWA Falcon 40        18.0              7.13   \n",
       "4715                  Amperius         NaN              1.50   \n",
       "...                        ...         ...               ...   \n",
       "34333       Bayoung-FH3.6M-NEW         9.0              3.00   \n",
       "34334               SkyWind NG         8.0              1.50   \n",
       "34336              Sky Wind NG         9.0              1.35   \n",
       "34340           SkyWind NG 1kW       163.0              1.00   \n",
       "34478                      NaN         8.0              3.00   \n",
       "\n",
       "       Rotorblattenteisungssystem GeplantesInbetriebnahmedatum  Seelage  \\\n",
       "97                            NaN                          NaN      NaN   \n",
       "2194                          NaN                          NaN      NaN   \n",
       "2463                          NaN                   2022-06-03      NaN   \n",
       "4464                          NaN                          NaN      NaN   \n",
       "4715                          NaN                          NaN      NaN   \n",
       "...                           ...                          ...      ...   \n",
       "34333                         0.0                   2023-09-01      NaN   \n",
       "34334                         0.0                   2023-05-22      NaN   \n",
       "34336                         0.0                   2023-06-10      NaN   \n",
       "34340                         0.0                   2023-06-30      NaN   \n",
       "34478                         0.0                   2023-07-31      NaN   \n",
       "\n",
       "       ClusterNordsee  Wassertiefe  Kuestenentfernung  ClusterOstsee  \n",
       "97                NaN          NaN                NaN            NaN  \n",
       "2194              NaN          NaN                NaN            NaN  \n",
       "2463              NaN          NaN                NaN            NaN  \n",
       "4464              NaN          NaN                NaN            NaN  \n",
       "4715              NaN          NaN                NaN            NaN  \n",
       "...               ...          ...                ...            ...  \n",
       "34333             NaN          NaN                NaN            NaN  \n",
       "34334             NaN          NaN                NaN            NaN  \n",
       "34336             NaN          NaN                NaN            NaN  \n",
       "34340             NaN          NaN                NaN            NaN  \n",
       "34478             NaN          NaN                NaN            NaN  \n",
       "\n",
       "[102 rows x 29 columns]"
      ]
     },
     "execution_count": 173,
     "metadata": {},
     "output_type": "execute_result"
    }
   ],
   "source": [
    "df[df['Laengengrad'].isna() & (df['EinheitBetriebsstatus'] != 'In Betrieb')]"
   ]
  },
  {
   "cell_type": "code",
   "execution_count": null,
   "id": "108fdafa-059e-4d50-8df1-43fdecb6ab88",
   "metadata": {},
   "outputs": [],
   "source": []
  }
 ],
 "metadata": {
  "kernelspec": {
   "display_name": "course_project",
   "language": "python",
   "name": "course_project"
  },
  "language_info": {
   "codemirror_mode": {
    "name": "ipython",
    "version": 3
   },
   "file_extension": ".py",
   "mimetype": "text/x-python",
   "name": "python",
   "nbconvert_exporter": "python",
   "pygments_lexer": "ipython3",
   "version": "3.10.12"
  }
 },
 "nbformat": 4,
 "nbformat_minor": 5
}
