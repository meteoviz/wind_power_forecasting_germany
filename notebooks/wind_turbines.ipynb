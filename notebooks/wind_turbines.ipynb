{
 "cells": [
  {
   "cell_type": "markdown",
   "id": "138d121e-8686-4230-9393-1915a9f81979",
   "metadata": {},
   "source": [
    "# Exploratory analysis of wind turbine data"
   ]
  },
  {
   "cell_type": "code",
   "execution_count": 5,
   "id": "2a4ad27f-38ac-4a3c-bd56-aef385c94dd6",
   "metadata": {
    "tags": []
   },
   "outputs": [],
   "source": [
    "import sys\n",
    "from pathlib import Path\n",
    "\n",
    "import pandas as pd"
   ]
  },
  {
   "cell_type": "code",
   "execution_count": 15,
   "id": "6ab71845-7efd-4557-835a-2e125a412591",
   "metadata": {
    "tags": []
   },
   "outputs": [],
   "source": [
    "# Set max number of columns to display; default 20\n",
    "pd.options.display.max_columns = 30"
   ]
  },
  {
   "cell_type": "code",
   "execution_count": 2,
   "id": "a66cb6ed-bb05-4a93-9d84-be30a205a5a0",
   "metadata": {
    "tags": []
   },
   "outputs": [
    {
     "data": {
      "text/plain": [
       "'/opt/miniconda3/envs/course_project/bin/python'"
      ]
     },
     "execution_count": 2,
     "metadata": {},
     "output_type": "execute_result"
    }
   ],
   "source": [
    "sys.executable"
   ]
  },
  {
   "cell_type": "code",
   "execution_count": 3,
   "id": "ad44a8a5-63a5-49f6-b616-7975a0b435fd",
   "metadata": {
    "tags": []
   },
   "outputs": [
    {
     "data": {
      "text/plain": [
       "'3.10.12 | packaged by conda-forge | (main, Jun 23 2023, 22:39:40) [Clang 15.0.7 ]'"
      ]
     },
     "execution_count": 3,
     "metadata": {},
     "output_type": "execute_result"
    }
   ],
   "source": [
    "sys.version"
   ]
  },
  {
   "cell_type": "code",
   "execution_count": 36,
   "id": "fcc6748f-8038-4c06-873f-67d86b57aa82",
   "metadata": {
    "tags": []
   },
   "outputs": [
    {
     "data": {
      "text/plain": [
       "PosixPath('/Users/brand/my_code/meteoviz/course_project')"
      ]
     },
     "execution_count": 36,
     "metadata": {},
     "output_type": "execute_result"
    }
   ],
   "source": [
    "# Get cwd path\n",
    "cwd_path = Path.cwd()\n",
    "cwd_path.parent"
   ]
  },
  {
   "cell_type": "markdown",
   "id": "27ba37dd-29be-4483-83b8-bf72f2ae7dec",
   "metadata": {},
   "source": [
    "### Read in data "
   ]
  },
  {
   "cell_type": "code",
   "execution_count": 10,
   "id": "04530029-8e5b-47c2-aef2-ef0b6c9e2be3",
   "metadata": {
    "tags": []
   },
   "outputs": [],
   "source": [
    "df = pd.read_csv(cwd_path.parent / 'data/WindTurbinesGermany.csv', sep=',')"
   ]
  },
  {
   "cell_type": "code",
   "execution_count": 11,
   "id": "eff14d76-79d8-4b9a-91c8-623a8ce78c1c",
   "metadata": {
    "tags": []
   },
   "outputs": [
    {
     "name": "stdout",
     "output_type": "stream",
     "text": [
      "<class 'pandas.core.frame.DataFrame'>\n",
      "RangeIndex: 34484 entries, 0 to 34483\n",
      "Data columns (total 29 columns):\n",
      " #   Column                              Non-Null Count  Dtype  \n",
      "---  ------                              --------------  -----  \n",
      " 0   Land                                34484 non-null  object \n",
      " 1   Bundesland                          34484 non-null  object \n",
      " 2   Landkreis                           32700 non-null  object \n",
      " 3   Postleitzahl                        32700 non-null  float64\n",
      " 4   Ort                                 32700 non-null  object \n",
      " 5   Laengengrad                         33589 non-null  float64\n",
      " 6   Breitengrad                         33589 non-null  float64\n",
      " 7   Registrierungsdatum                 34484 non-null  object \n",
      " 8   Inbetriebnahmedatum                 32020 non-null  object \n",
      " 9   EinheitBetriebsstatus               34484 non-null  object \n",
      " 10  Energietraeger                      34484 non-null  object \n",
      " 11  Bruttoleistung                      34484 non-null  float64\n",
      " 12  Nettonennleistung                   34484 non-null  float64\n",
      " 13  AnschlussAnHoechstOderHochSpannung  24631 non-null  float64\n",
      " 14  Einspeisungsart                     33770 non-null  object \n",
      " 15  NameWindpark                        33674 non-null  object \n",
      " 16  Lage                                34484 non-null  object \n",
      " 17  Hersteller                          34035 non-null  object \n",
      " 18  Technologie                         34484 non-null  object \n",
      " 19  Typenbezeichnung                    34020 non-null  object \n",
      " 20  Nabenhoehe                          33631 non-null  float64\n",
      " 21  Rotordurchmesser                    34031 non-null  float64\n",
      " 22  Rotorblattenteisungssystem          25671 non-null  float64\n",
      " 23  GeplantesInbetriebnahmedatum        2463 non-null   object \n",
      " 24  Seelage                             1784 non-null   float64\n",
      " 25  ClusterNordsee                      1476 non-null   float64\n",
      " 26  Wassertiefe                         1650 non-null   float64\n",
      " 27  Kuestenentfernung                   1650 non-null   float64\n",
      " 28  ClusterOstsee                       308 non-null    float64\n",
      "dtypes: float64(14), object(15)\n",
      "memory usage: 7.6+ MB\n"
     ]
    }
   ],
   "source": [
    "df.info()"
   ]
  },
  {
   "cell_type": "code",
   "execution_count": 23,
   "id": "262f3243-5676-4b95-b9b0-6630af0e9efe",
   "metadata": {
    "tags": []
   },
   "outputs": [
    {
     "data": {
      "text/plain": [
       "Land                                      0\n",
       "Bundesland                                0\n",
       "Landkreis                              1784\n",
       "Postleitzahl                           1784\n",
       "Ort                                    1784\n",
       "Laengengrad                             895\n",
       "Breitengrad                             895\n",
       "Registrierungsdatum                       0\n",
       "Inbetriebnahmedatum                    2464\n",
       "EinheitBetriebsstatus                     0\n",
       "Energietraeger                            0\n",
       "Bruttoleistung                            0\n",
       "Nettonennleistung                         0\n",
       "AnschlussAnHoechstOderHochSpannung     9853\n",
       "Einspeisungsart                         714\n",
       "NameWindpark                            810\n",
       "Lage                                      0\n",
       "Hersteller                              449\n",
       "Technologie                               0\n",
       "Typenbezeichnung                        464\n",
       "Nabenhoehe                              853\n",
       "Rotordurchmesser                        453\n",
       "Rotorblattenteisungssystem             8813\n",
       "GeplantesInbetriebnahmedatum          32021\n",
       "Seelage                               32700\n",
       "ClusterNordsee                        33008\n",
       "Wassertiefe                           32834\n",
       "Kuestenentfernung                     32834\n",
       "ClusterOstsee                         34176\n",
       "dtype: int64"
      ]
     },
     "execution_count": 23,
     "metadata": {},
     "output_type": "execute_result"
    }
   ],
   "source": [
    "df.isna().sum()"
   ]
  },
  {
   "cell_type": "code",
   "execution_count": 37,
   "id": "896d0400-723e-4639-8d54-69705680491e",
   "metadata": {
    "tags": []
   },
   "outputs": [
    {
     "data": {
      "text/html": [
       "<div>\n",
       "<style scoped>\n",
       "    .dataframe tbody tr th:only-of-type {\n",
       "        vertical-align: middle;\n",
       "    }\n",
       "\n",
       "    .dataframe tbody tr th {\n",
       "        vertical-align: top;\n",
       "    }\n",
       "\n",
       "    .dataframe thead th {\n",
       "        text-align: right;\n",
       "    }\n",
       "</style>\n",
       "<table border=\"1\" class=\"dataframe\">\n",
       "  <thead>\n",
       "    <tr style=\"text-align: right;\">\n",
       "      <th></th>\n",
       "      <th>Land</th>\n",
       "      <th>Bundesland</th>\n",
       "      <th>Landkreis</th>\n",
       "      <th>Postleitzahl</th>\n",
       "      <th>Ort</th>\n",
       "      <th>Laengengrad</th>\n",
       "      <th>Breitengrad</th>\n",
       "      <th>Registrierungsdatum</th>\n",
       "      <th>Inbetriebnahmedatum</th>\n",
       "      <th>EinheitBetriebsstatus</th>\n",
       "      <th>Energietraeger</th>\n",
       "      <th>Bruttoleistung</th>\n",
       "      <th>Nettonennleistung</th>\n",
       "      <th>AnschlussAnHoechstOderHochSpannung</th>\n",
       "      <th>Einspeisungsart</th>\n",
       "      <th>NameWindpark</th>\n",
       "      <th>Lage</th>\n",
       "      <th>Hersteller</th>\n",
       "      <th>Technologie</th>\n",
       "      <th>Typenbezeichnung</th>\n",
       "      <th>Nabenhoehe</th>\n",
       "      <th>Rotordurchmesser</th>\n",
       "      <th>Rotorblattenteisungssystem</th>\n",
       "      <th>GeplantesInbetriebnahmedatum</th>\n",
       "      <th>Seelage</th>\n",
       "      <th>ClusterNordsee</th>\n",
       "      <th>Wassertiefe</th>\n",
       "      <th>Kuestenentfernung</th>\n",
       "      <th>ClusterOstsee</th>\n",
       "    </tr>\n",
       "  </thead>\n",
       "  <tbody>\n",
       "    <tr>\n",
       "      <th>0</th>\n",
       "      <td>Deutschland</td>\n",
       "      <td>Hessen</td>\n",
       "      <td>Werra-Meißner-Kreis</td>\n",
       "      <td>34298.0</td>\n",
       "      <td>Helsa</td>\n",
       "      <td>9.739374</td>\n",
       "      <td>51.270068</td>\n",
       "      <td>2019-02-13</td>\n",
       "      <td>2017-09-01</td>\n",
       "      <td>In Betrieb</td>\n",
       "      <td>Wind</td>\n",
       "      <td>3000.0</td>\n",
       "      <td>3000.0</td>\n",
       "      <td>1.0</td>\n",
       "      <td>Volleinspeisung</td>\n",
       "      <td>Windpark Kreuzstein</td>\n",
       "      <td>Windkraft an Land</td>\n",
       "      <td>ENERCON GmbH</td>\n",
       "      <td>Horizontalläufer</td>\n",
       "      <td>E-115</td>\n",
       "      <td>149.08</td>\n",
       "      <td>115.71</td>\n",
       "      <td>1.0</td>\n",
       "      <td>NaN</td>\n",
       "      <td>NaN</td>\n",
       "      <td>NaN</td>\n",
       "      <td>NaN</td>\n",
       "      <td>NaN</td>\n",
       "      <td>NaN</td>\n",
       "    </tr>\n",
       "    <tr>\n",
       "      <th>1</th>\n",
       "      <td>Deutschland</td>\n",
       "      <td>Schleswig-Holstein</td>\n",
       "      <td>Segeberg</td>\n",
       "      <td>23824.0</td>\n",
       "      <td>Damsdorf</td>\n",
       "      <td>10.299400</td>\n",
       "      <td>54.073831</td>\n",
       "      <td>2019-02-01</td>\n",
       "      <td>2017-09-28</td>\n",
       "      <td>In Betrieb</td>\n",
       "      <td>Wind</td>\n",
       "      <td>3000.0</td>\n",
       "      <td>3000.0</td>\n",
       "      <td>0.0</td>\n",
       "      <td>Volleinspeisung</td>\n",
       "      <td>Damsdorf</td>\n",
       "      <td>Windkraft an Land</td>\n",
       "      <td>ENERCON GmbH</td>\n",
       "      <td>Horizontalläufer</td>\n",
       "      <td>E-115</td>\n",
       "      <td>135.40</td>\n",
       "      <td>115.70</td>\n",
       "      <td>NaN</td>\n",
       "      <td>NaN</td>\n",
       "      <td>NaN</td>\n",
       "      <td>NaN</td>\n",
       "      <td>NaN</td>\n",
       "      <td>NaN</td>\n",
       "      <td>NaN</td>\n",
       "    </tr>\n",
       "  </tbody>\n",
       "</table>\n",
       "</div>"
      ],
      "text/plain": [
       "          Land          Bundesland            Landkreis  Postleitzahl  \\\n",
       "0  Deutschland              Hessen  Werra-Meißner-Kreis       34298.0   \n",
       "1  Deutschland  Schleswig-Holstein             Segeberg       23824.0   \n",
       "\n",
       "        Ort  Laengengrad  Breitengrad Registrierungsdatum Inbetriebnahmedatum  \\\n",
       "0     Helsa     9.739374    51.270068          2019-02-13          2017-09-01   \n",
       "1  Damsdorf    10.299400    54.073831          2019-02-01          2017-09-28   \n",
       "\n",
       "  EinheitBetriebsstatus Energietraeger  Bruttoleistung  Nettonennleistung  \\\n",
       "0            In Betrieb           Wind          3000.0             3000.0   \n",
       "1            In Betrieb           Wind          3000.0             3000.0   \n",
       "\n",
       "   AnschlussAnHoechstOderHochSpannung  Einspeisungsart         NameWindpark  \\\n",
       "0                                 1.0  Volleinspeisung  Windpark Kreuzstein   \n",
       "1                                 0.0  Volleinspeisung             Damsdorf   \n",
       "\n",
       "                Lage    Hersteller       Technologie Typenbezeichnung  \\\n",
       "0  Windkraft an Land  ENERCON GmbH  Horizontalläufer            E-115   \n",
       "1  Windkraft an Land  ENERCON GmbH  Horizontalläufer            E-115   \n",
       "\n",
       "   Nabenhoehe  Rotordurchmesser  Rotorblattenteisungssystem  \\\n",
       "0      149.08            115.71                         1.0   \n",
       "1      135.40            115.70                         NaN   \n",
       "\n",
       "  GeplantesInbetriebnahmedatum  Seelage  ClusterNordsee  Wassertiefe  \\\n",
       "0                          NaN      NaN             NaN          NaN   \n",
       "1                          NaN      NaN             NaN          NaN   \n",
       "\n",
       "   Kuestenentfernung  ClusterOstsee  \n",
       "0                NaN            NaN  \n",
       "1                NaN            NaN  "
      ]
     },
     "execution_count": 37,
     "metadata": {},
     "output_type": "execute_result"
    }
   ],
   "source": [
    "df.head(2)"
   ]
  },
  {
   "cell_type": "markdown",
   "id": "d01e0b92-45b9-4d01-a7b5-64dc49a419ae",
   "metadata": {},
   "source": [
    "### Dates"
   ]
  },
  {
   "cell_type": "code",
   "execution_count": 26,
   "id": "57de1258-d881-45bc-a80b-f49c9937fb46",
   "metadata": {
    "tags": []
   },
   "outputs": [],
   "source": [
    "# Convert date features to datetime objects\n",
    "df['Registrierungsdatum'] = pd.to_datetime(df['Registrierungsdatum'])\n",
    "df['Inbetriebnahmedatum'] = pd.to_datetime(df['Inbetriebnahmedatum'])"
   ]
  },
  {
   "cell_type": "markdown",
   "id": "30347ee2-54e5-4bfa-a332-d5db2680824f",
   "metadata": {},
   "source": [
    "#### Date range of Registrierungsdatum is Jan 2019 to May 2023"
   ]
  },
  {
   "cell_type": "code",
   "execution_count": 33,
   "id": "e68008f9-8ab4-45a9-ae27-3680877861e3",
   "metadata": {
    "tags": []
   },
   "outputs": [],
   "source": [
    "# df.sort_values(by='Registrierungsdatum', ascending=True)"
   ]
  },
  {
   "cell_type": "code",
   "execution_count": 34,
   "id": "a456b857-817d-4e42-a52f-b48642fc80e3",
   "metadata": {
    "tags": []
   },
   "outputs": [
    {
     "name": "stdout",
     "output_type": "stream",
     "text": [
      "2019-01-31 00:00:00\n",
      "2023-05-26 00:00:00\n"
     ]
    }
   ],
   "source": [
    "print(df['Registrierungsdatum'].min())\n",
    "print(df['Registrierungsdatum'].max())"
   ]
  },
  {
   "cell_type": "code",
   "execution_count": 60,
   "id": "08c544d1-4ec3-4bf8-925b-7a16ddd7744e",
   "metadata": {
    "tags": []
   },
   "outputs": [
    {
     "data": {
      "text/plain": [
       "Registrierungsdatum\n",
       "2019-12-31    13176\n",
       "2020-12-31    14736\n",
       "2021-12-31     3986\n",
       "2022-12-31     1633\n",
       "2023-12-31      953\n",
       "Freq: A-DEC, Name: Registrierungsdatum, dtype: int64"
      ]
     },
     "execution_count": 60,
     "metadata": {},
     "output_type": "execute_result"
    }
   ],
   "source": [
    "# Resample on datetime\n",
    "# Alternative using groupby: df.groupby(pd.Grouper(freq='W', key='Registrierungsdatum'))['Registrierungsdatum'].count()\n",
    "df.resample('A', on='Registrierungsdatum')['Registrierungsdatum'].count()"
   ]
  },
  {
   "cell_type": "code",
   "execution_count": 66,
   "id": "c513dce3-df29-48c3-859a-943ab9729fe5",
   "metadata": {
    "tags": []
   },
   "outputs": [
    {
     "data": {
      "text/plain": [
       "<Axes: xlabel='Registrierungsdatum'>"
      ]
     },
     "execution_count": 66,
     "metadata": {},
     "output_type": "execute_result"
    },
    {
     "data": {
      "image/png": "[encoded data removed]",
      "text/plain": [
       "<Figure size 704x528 with 1 Axes>"
      ]
     },
     "metadata": {},
     "output_type": "display_data"
    }
   ],
   "source": [
    "df.resample('A', on='Registrierungsdatum')['Registrierungsdatum'].count().plot.bar()"
   ]
  },
  {
   "cell_type": "markdown",
   "id": "07d21875-3d84-4d01-aec9-14544d9183ca",
   "metadata": {},
   "source": [
    "#### Date range of Inbetriebnahmedatum is 1960 to 2023\n",
    "- Process for registering "
   ]
  },
  {
   "cell_type": "code",
   "execution_count": 35,
   "id": "2e8539f2-419c-47f5-85c3-f9782ebb36a1",
   "metadata": {
    "tags": []
   },
   "outputs": [
    {
     "name": "stdout",
     "output_type": "stream",
     "text": [
      "1960-04-02 00:00:00\n",
      "2023-05-26 00:00:00\n"
     ]
    }
   ],
   "source": [
    "print(df['Inbetriebnahmedatum'].min())\n",
    "print(df['Inbetriebnahmedatum'].max())"
   ]
  },
  {
   "cell_type": "code",
   "execution_count": 69,
   "id": "cd59b440-c2ed-4152-b53e-359bbb1f043d",
   "metadata": {
    "tags": []
   },
   "outputs": [
    {
     "data": {
      "text/plain": [
       "<Axes: title={'center': 'Test'}, xlabel='Inbetriebnahmedatum'>"
      ]
     },
     "execution_count": 69,
     "metadata": {},
     "output_type": "execute_result"
    },
    {
     "data": {
      "image/png": "[encoded data removed]",
      "text/plain": [
       "<Figure size 704x528 with 1 Axes>"
      ]
     },
     "metadata": {},
     "output_type": "display_data"
    }
   ],
   "source": [
    "df.resample('A', on='Inbetriebnahmedatum')['Inbetriebnahmedatum'].count().plot(title='Test')"
   ]
  },
  {
   "cell_type": "markdown",
   "id": "d144e114-d3a2-40d3-ba53-5f21476cfee3",
   "metadata": {},
   "source": [
    "### Unique value counts"
   ]
  },
  {
   "cell_type": "code",
   "execution_count": 19,
   "id": "9f07f1d2-002d-405a-a268-e5ec08dea850",
   "metadata": {
    "tags": []
   },
   "outputs": [
    {
     "data": {
      "text/plain": [
       "Energietraeger\n",
       "Wind    34484\n",
       "Name: count, dtype: int64"
      ]
     },
     "execution_count": 19,
     "metadata": {},
     "output_type": "execute_result"
    }
   ],
   "source": [
    "df['Energietraeger'].value_counts()"
   ]
  },
  {
   "cell_type": "code",
   "execution_count": 20,
   "id": "a8655590-2fbc-42ba-bc1f-8b6908139227",
   "metadata": {
    "tags": []
   },
   "outputs": [
    {
     "data": {
      "text/plain": [
       "Technologie\n",
       "Horizontalläufer    34027\n",
       "Vertikalläufer        457\n",
       "Name: count, dtype: int64"
      ]
     },
     "execution_count": 20,
     "metadata": {},
     "output_type": "execute_result"
    }
   ],
   "source": [
    "df['Technologie'].value_counts()"
   ]
  },
  {
   "cell_type": "code",
   "execution_count": 21,
   "id": "179743b9-b4aa-43ee-a52d-709603a2e996",
   "metadata": {
    "tags": []
   },
   "outputs": [
    {
     "data": {
      "text/plain": [
       "EinheitBetriebsstatus\n",
       "In Betrieb                   30983\n",
       "In Planung                    2464\n",
       "Endgültig stillgelegt          999\n",
       "Vorübergehend stillgelegt       38\n",
       "Name: count, dtype: int64"
      ]
     },
     "execution_count": 21,
     "metadata": {},
     "output_type": "execute_result"
    }
   ],
   "source": [
    "df['EinheitBetriebsstatus'].value_counts()"
   ]
  },
  {
   "cell_type": "code",
   "execution_count": 40,
   "id": "b5d6cdd2-8c46-43ce-acbb-31e2953a616f",
   "metadata": {
    "tags": []
   },
   "outputs": [
    {
     "data": {
      "text/plain": [
       "Lage\n",
       "Windkraft an Land    32700\n",
       "Windkraft auf See     1784\n",
       "Name: count, dtype: int64"
      ]
     },
     "execution_count": 40,
     "metadata": {},
     "output_type": "execute_result"
    }
   ],
   "source": [
    "# Land vs offshore\n",
    "df['Lage'].value_counts()"
   ]
  },
  {
   "cell_type": "code",
   "execution_count": 41,
   "id": "1da5845f-775d-4369-ad4c-3430c600a10e",
   "metadata": {
    "tags": []
   },
   "outputs": [
    {
     "data": {
      "text/plain": [
       "AnschlussAnHoechstOderHochSpannung\n",
       "0.0    15554\n",
       "1.0     9077\n",
       "Name: count, dtype: int64"
      ]
     },
     "execution_count": 41,
     "metadata": {},
     "output_type": "execute_result"
    }
   ],
   "source": [
    "df['AnschlussAnHoechstOderHochSpannung'].value_counts()"
   ]
  },
  {
   "cell_type": "code",
   "execution_count": 43,
   "id": "ab0532d5-462b-4743-8ad6-5b15299cae2e",
   "metadata": {
    "tags": []
   },
   "outputs": [
    {
     "data": {
      "text/plain": [
       "Hersteller\n",
       "ENERCON GmbH                        13057\n",
       "Vestas Deutschland GmbH              6600\n",
       "Nordex Energy GmbH                   2228\n",
       "Siemens Wind Power GmbH & Co. KG     1531\n",
       "Senvion Deutschland GmbH             1495\n",
       "                                    ...  \n",
       "Svit Vitru                              1\n",
       "ESPV-TEC GmbH & Co. KG                  1\n",
       "SMA Solar Technology AG                 1\n",
       "WES IBS GmbH                            1\n",
       "SB Energy UK Ltd.                       1\n",
       "Name: count, Length: 115, dtype: int64"
      ]
     },
     "execution_count": 43,
     "metadata": {},
     "output_type": "execute_result"
    }
   ],
   "source": [
    "df['Hersteller'].value_counts()"
   ]
  },
  {
   "cell_type": "markdown",
   "id": "c42b720d-e01c-40cc-8701-c517972c82cb",
   "metadata": {},
   "source": [
    "### Summary statistics of numerical continuous features\n",
    "- Looks like I'll want wind speed data for height 100m"
   ]
  },
  {
   "cell_type": "code",
   "execution_count": 50,
   "id": "5053b387-1750-434e-adbb-355ebb4933a4",
   "metadata": {
    "tags": []
   },
   "outputs": [
    {
     "data": {
      "text/html": [
       "<div>\n",
       "<style scoped>\n",
       "    .dataframe tbody tr th:only-of-type {\n",
       "        vertical-align: middle;\n",
       "    }\n",
       "\n",
       "    .dataframe tbody tr th {\n",
       "        vertical-align: top;\n",
       "    }\n",
       "\n",
       "    .dataframe thead th {\n",
       "        text-align: right;\n",
       "    }\n",
       "</style>\n",
       "<table border=\"1\" class=\"dataframe\">\n",
       "  <thead>\n",
       "    <tr style=\"text-align: right;\">\n",
       "      <th></th>\n",
       "      <th>Bruttoleistung</th>\n",
       "      <th>Nettonennleistung</th>\n",
       "      <th>Nabenhoehe</th>\n",
       "      <th>Rotordurchmesser</th>\n",
       "    </tr>\n",
       "  </thead>\n",
       "  <tbody>\n",
       "    <tr>\n",
       "      <th>count</th>\n",
       "      <td>34484.000000</td>\n",
       "      <td>34484.000000</td>\n",
       "      <td>33631.000000</td>\n",
       "      <td>34031.000000</td>\n",
       "    </tr>\n",
       "    <tr>\n",
       "      <th>mean</th>\n",
       "      <td>2370.309200</td>\n",
       "      <td>2370.309200</td>\n",
       "      <td>98.725831</td>\n",
       "      <td>87.096264</td>\n",
       "    </tr>\n",
       "    <tr>\n",
       "      <th>std</th>\n",
       "      <td>1681.910702</td>\n",
       "      <td>1681.910702</td>\n",
       "      <td>34.785787</td>\n",
       "      <td>35.863944</td>\n",
       "    </tr>\n",
       "    <tr>\n",
       "      <th>min</th>\n",
       "      <td>0.120000</td>\n",
       "      <td>0.120000</td>\n",
       "      <td>0.360000</td>\n",
       "      <td>0.300000</td>\n",
       "    </tr>\n",
       "    <tr>\n",
       "      <th>25%</th>\n",
       "      <td>1500.000000</td>\n",
       "      <td>1500.000000</td>\n",
       "      <td>70.000000</td>\n",
       "      <td>66.000000</td>\n",
       "    </tr>\n",
       "    <tr>\n",
       "      <th>50%</th>\n",
       "      <td>2000.000000</td>\n",
       "      <td>2000.000000</td>\n",
       "      <td>98.000000</td>\n",
       "      <td>82.000000</td>\n",
       "    </tr>\n",
       "    <tr>\n",
       "      <th>75%</th>\n",
       "      <td>3050.000000</td>\n",
       "      <td>3050.000000</td>\n",
       "      <td>134.000000</td>\n",
       "      <td>115.000000</td>\n",
       "    </tr>\n",
       "    <tr>\n",
       "      <th>max</th>\n",
       "      <td>20000.000000</td>\n",
       "      <td>20000.000000</td>\n",
       "      <td>200.000000</td>\n",
       "      <td>200.000000</td>\n",
       "    </tr>\n",
       "  </tbody>\n",
       "</table>\n",
       "</div>"
      ],
      "text/plain": [
       "       Bruttoleistung  Nettonennleistung    Nabenhoehe  Rotordurchmesser\n",
       "count    34484.000000       34484.000000  33631.000000      34031.000000\n",
       "mean      2370.309200        2370.309200     98.725831         87.096264\n",
       "std       1681.910702        1681.910702     34.785787         35.863944\n",
       "min          0.120000           0.120000      0.360000          0.300000\n",
       "25%       1500.000000        1500.000000     70.000000         66.000000\n",
       "50%       2000.000000        2000.000000     98.000000         82.000000\n",
       "75%       3050.000000        3050.000000    134.000000        115.000000\n",
       "max      20000.000000       20000.000000    200.000000        200.000000"
      ]
     },
     "execution_count": 50,
     "metadata": {},
     "output_type": "execute_result"
    }
   ],
   "source": [
    "df[['Bruttoleistung', 'Nettonennleistung', 'Nabenhoehe', 'Rotordurchmesser']].describe()"
   ]
  },
  {
   "cell_type": "markdown",
   "id": "37525e5e-b957-47e2-b096-84edfc10a88b",
   "metadata": {},
   "source": [
    "### Filtering ideas\n",
    "- Keep only land-based turbines\n",
    "- Remove turbines that are not in operation (shame dates aren't given)\n",
    "- ?"
   ]
  },
  {
   "cell_type": "code",
   "execution_count": null,
   "id": "b99f34f6-5f97-4851-bc3f-20d153379894",
   "metadata": {},
   "outputs": [],
   "source": []
  }
 ],
 "metadata": {
  "kernelspec": {
   "display_name": "course_project",
   "language": "python",
   "name": "course_project"
  },
  "language_info": {
   "codemirror_mode": {
    "name": "ipython",
    "version": 3
   },
   "file_extension": ".py",
   "mimetype": "text/x-python",
   "name": "python",
   "nbconvert_exporter": "python",
   "pygments_lexer": "ipython3",
   "version": "3.10.12"
  }
 },
 "nbformat": 4,
 "nbformat_minor": 5
}
