{
 "cells": [
  {
   "cell_type": "markdown",
   "id": "138d121e-8686-4230-9393-1915a9f81979",
   "metadata": {},
   "source": [
    "# Exploratory analysis of wind turbine data\n",
    "- Explaining the difference in number of turbines in Kaggle and Mastr datasets\n",
    "    - Kaggle dataset lastest registration and in operation date as 2023-05-26\n",
    "    - Mastr dataset lastest registration date is 2023-08-15\n",
    "    - 183 more turbines with in operation date after last Kaggle in operation date\n",
    "    - 533 more turbines with a registration date after last Kaggle registration date\n",
    "- Windkraft an Land: 32700\n",
    "- Windkraft auf See: 1784\n",
    "- I'm looking only at onshore turbines in column `Lage`\n",
    "- EEG Anlagen? https://www.wind-energie.de/themen/politische-arbeit/eeg/\n",
    "    - Looks like the dataset on Kaggle is processed from the EinheitenWind.xml file (original 150 MB) under the category 'Anlagen'\n",
    "    - The Kaggle CSV is only 9 MB\n",
    "- Lat and lon is NOT a required field for registering turbine one MaStR! However, postcode is required :)\n",
    "- Bruttoleistung and Nettonennleistung are required fields\n",
    "    - Bruttoleistung: Entspricht Nettonennleistung\n",
    "    - Nettonennleistung: 0 < X <= 20.000 und X <= Bruttoleistung"
   ]
  },
  {
   "cell_type": "code",
   "execution_count": 1,
   "id": "2a4ad27f-38ac-4a3c-bd56-aef385c94dd6",
   "metadata": {
    "tags": []
   },
   "outputs": [],
   "source": [
    "import sys\n",
    "from pathlib import Path\n",
    "\n",
    "import pandas as pd\n",
    "import sympy\n",
    "import numpy as np"
   ]
  },
  {
   "cell_type": "code",
   "execution_count": 2,
   "id": "6ab71845-7efd-4557-835a-2e125a412591",
   "metadata": {
    "tags": []
   },
   "outputs": [],
   "source": [
    "# Set max number of columns to display; default 20\n",
    "pd.options.display.max_columns = 80"
   ]
  },
  {
   "cell_type": "code",
   "execution_count": 3,
   "id": "a66cb6ed-bb05-4a93-9d84-be30a205a5a0",
   "metadata": {
    "tags": []
   },
   "outputs": [
    {
     "name": "stdout",
     "output_type": "stream",
     "text": [
      "/opt/miniconda3/envs/course_project/bin/python\n",
      "3.10.12 | packaged by conda-forge | (main, Jun 23 2023, 22:39:40) [Clang 15.0.7 ]\n"
     ]
    }
   ],
   "source": [
    "print(sys.executable)\n",
    "print(sys.version)"
   ]
  },
  {
   "cell_type": "markdown",
   "id": "99a7f591-4f60-4efb-90ff-b7af15fc0804",
   "metadata": {},
   "source": [
    "----"
   ]
  },
  {
   "cell_type": "markdown",
   "id": "2b4f7b18-36af-4063-a6ce-30726d661b97",
   "metadata": {},
   "source": [
    "#### SymPy test\n",
    "- SymPy documenation: https://docs.sympy.org/latest/index.html\n",
    "- Latex printing: https://docs.sympy.org/latest/modules/printing.html#sympy.printing.latex.latex"
   ]
  },
  {
   "cell_type": "code",
   "execution_count": 132,
   "id": "8c9f6438-14c7-4a91-a98f-0d4a6753b705",
   "metadata": {
    "tags": []
   },
   "outputs": [
    {
     "data": {
      "text/latex": [
       "$\\displaystyle \\alpha\\cdot\\beta\\cdot\\rho$"
      ],
      "text/plain": [
       "\\alpha\\cdot\\beta\\cdot\\rho"
      ]
     },
     "execution_count": 132,
     "metadata": {},
     "output_type": "execute_result"
    }
   ],
   "source": [
    "# define expression of symbols\n",
    "abp = sympy.symbols(r'\\alpha\\cdot\\beta\\cdot\\rho')\n",
    "abp"
   ]
  },
  {
   "cell_type": "markdown",
   "id": "4c319599-54aa-40c1-ae93-ea5637d1b47d",
   "metadata": {},
   "source": [
    "##### Wind power equation"
   ]
  },
  {
   "cell_type": "code",
   "execution_count": 133,
   "id": "3f954b11-7120-42b9-9c07-90828b3d95a3",
   "metadata": {
    "tags": []
   },
   "outputs": [],
   "source": [
    "# Define 1/2 fraction; but this will be evaluated! I don't want that\n",
    "# one_half = sympy.Rational(1, 2)\n",
    "# This works! But it's funky syntax so that it doesn't get evaluated inside the method call\n",
    "one_half = sympy.UnevaluatedExpr(1) / 2\n",
    "\n",
    "# Define the symbolic variables\n",
    "# rho, A, v, P, r, pi = sympy.symbols('rho A v P r pi')\n",
    "rho, A, v, P_net, Cp, eta, P_required = sympy.symbols('rho A v P_net Cp eta P_required')\n",
    "\n",
    "# Express the wind power equation -> I don't want to evaluate an equation\n",
    "# P_eq = sympy.Eq(P, one_half * rho * A * v**3)\n",
    "\n",
    "# Do this instead; make sure evaluate is False otherwise the 1/2 is evaluated\n",
    "P_eq = sympy.Eq(P, sympy.Mul(one_half, rho, A, sympy.UnevaluatedExpr(sympy.Pow(v, sympy.Integer(3))), evaluate=False))"
   ]
  },
  {
   "cell_type": "code",
   "execution_count": 134,
   "id": "4b308f41-cfca-4590-8a05-64eccd0475f5",
   "metadata": {
    "tags": []
   },
   "outputs": [
    {
     "data": {
      "text/latex": [
       "$\\displaystyle P = \\frac{1}{2} \\rho A v^{3}$"
      ],
      "text/plain": [
       "Eq(P, (1/2)*rho*A*v**3)"
      ]
     },
     "execution_count": 134,
     "metadata": {},
     "output_type": "execute_result"
    }
   ],
   "source": [
    "# Wind power equation (total kinetic energy)\n",
    "P_eq"
   ]
  },
  {
   "cell_type": "markdown",
   "id": "01528070-9af9-4baa-943d-ba6c4ebdd5d1",
   "metadata": {},
   "source": [
    "#### Terms to add to the wind power equation to estimate realistic net power generation\n",
    "\n",
    "The Betz Limit, also known as the power coefficient `Cp` represents the maximum fraction of the wind's kinetic energy that can be converted to mechanical energy. Its theoretical value is approximately 0.59 or 59%.\n",
    "\n",
    "`Eta` as the efficiency of the wind turbine in converting mechanical energy to electrical energy.  \n",
    "`P_required` as the power required by the wind turbine to operate."
   ]
  },
  {
   "cell_type": "code",
   "execution_count": 135,
   "id": "5b1c5755-c621-414a-9909-029a61070bed",
   "metadata": {
    "tags": []
   },
   "outputs": [
    {
     "data": {
      "text/latex": [
       "$\\displaystyle v^{3}$"
      ],
      "text/plain": [
       "v**3"
      ]
     },
     "execution_count": 135,
     "metadata": {},
     "output_type": "execute_result"
    }
   ],
   "source": [
    "v3 = sympy.UnevaluatedExpr(sympy.Pow(v, sympy.Integer(3)))\n",
    "v3"
   ]
  },
  {
   "cell_type": "code",
   "execution_count": 136,
   "id": "541ff0d5-1e22-42ed-bef2-672048cc700d",
   "metadata": {
    "tags": []
   },
   "outputs": [
    {
     "data": {
      "text/latex": [
       "$\\displaystyle \\frac{1}{2} \\rho A v^{3}$"
      ],
      "text/plain": [
       "(1/2)*rho*A*v**3"
      ]
     },
     "execution_count": 136,
     "metadata": {},
     "output_type": "execute_result"
    }
   ],
   "source": [
    "exp = sympy.Mul(one_half, rho, A, v3, evaluate=False)\n",
    "exp"
   ]
  },
  {
   "cell_type": "markdown",
   "id": "e67f8a2d-1449-4c51-a354-dc72c178e441",
   "metadata": {},
   "source": [
    "#### Now combine and build?"
   ]
  },
  {
   "cell_type": "code",
   "execution_count": 137,
   "id": "fa2e5505-2529-49cd-8353-ea3d7d17cf2c",
   "metadata": {
    "tags": []
   },
   "outputs": [],
   "source": [
    "# P_net_eq = Eq(P_net, Rational(1, 2) * rho * A * v**3 * Cp * eta - P_required)\n",
    "\n",
    "# Express the net wind power equation considering Betz Limit, efficiency, and power requirement\n",
    "P_net_eq = sympy.Eq(P_net, sympy.Add(sympy.Mul(one_half, rho, A, sympy.UnevaluatedExpr(sympy.Pow(v, sympy.Integer(3))), evaluate=False), -Cp, -eta, -P_required, evaluate=False))"
   ]
  },
  {
   "cell_type": "code",
   "execution_count": 138,
   "id": "4c05238f-afd0-43a6-8739-677b3a664bbc",
   "metadata": {
    "tags": []
   },
   "outputs": [
    {
     "data": {
      "text/latex": [
       "$\\displaystyle P_{net} = \\frac{1}{2} \\rho A v^{3} - Cp - P_{required} - \\eta$"
      ],
      "text/plain": [
       "Eq(P_net, (1/2)*rho*A*v**3 - Cp - P_required - eta)"
      ]
     },
     "execution_count": 138,
     "metadata": {},
     "output_type": "execute_result"
    }
   ],
   "source": [
    "P_net_eq"
   ]
  },
  {
   "cell_type": "code",
   "execution_count": 139,
   "id": "0695d62c-020d-40b9-9b40-fc6ae11aab31",
   "metadata": {
    "tags": []
   },
   "outputs": [
    {
     "data": {
      "text/latex": [
       "$\\displaystyle P_{net} = \\frac{1}{2} \\rho A v^{3} - Cp - P_{required} - \\eta = P_{required}$"
      ],
      "text/plain": [
       "Eq(Eq(P_net, (1/2)*rho*A*v**3 - Cp - P_required - eta), P_required)"
      ]
     },
     "execution_count": 139,
     "metadata": {},
     "output_type": "execute_result"
    }
   ],
   "source": [
    "sympy.Eq(P_net_eq, sympy.Add(P_required, evaluate=False))"
   ]
  },
  {
   "cell_type": "code",
   "execution_count": 140,
   "id": "1b639844-1d49-42eb-89f5-c2d62cdf0d61",
   "metadata": {
    "tags": []
   },
   "outputs": [
    {
     "data": {
      "text/latex": [
       "$\\displaystyle A = \\pi r^{2}$"
      ],
      "text/plain": [
       "Eq(A, pi*r**2)"
      ]
     },
     "execution_count": 140,
     "metadata": {},
     "output_type": "execute_result"
    }
   ],
   "source": [
    "# Equation for area swept by blades (where r is blade radius)\n",
    "A_eq = sympy.Eq(A, pi * r**2)\n",
    "A_eq"
   ]
  },
  {
   "cell_type": "markdown",
   "id": "ef683f80-8e5c-4446-9331-59111016e4c3",
   "metadata": {},
   "source": [
    "Note: Jupyter notebooks use MathJax to render Latex output, and MathJax doesn’t handle Sympy’s Latex output correctly.  \n",
    "But should work fine in jupyter as it detects my environment"
   ]
  },
  {
   "cell_type": "code",
   "execution_count": 141,
   "id": "4fbc6577-70ac-4409-8490-763f16d03619",
   "metadata": {
    "tags": []
   },
   "outputs": [
    {
     "name": "stdout",
     "output_type": "stream",
     "text": [
      "P = \\frac{1}{2} \\rho A v^{3}\n"
     ]
    }
   ],
   "source": [
    "# Not using the print statement results in double backslashes for latex commands (results in errors)\n",
    "print(sympy.latex(P_eq, mode='plain'))"
   ]
  },
  {
   "cell_type": "markdown",
   "id": "67687678-bf8b-422b-b668-7950dc52a000",
   "metadata": {
    "tags": []
   },
   "source": [
    "This is a test: $P = \\frac{1}{2} \\rho A v^{3}$. Is it inline?"
   ]
  },
  {
   "cell_type": "markdown",
   "id": "50f586be-b0f1-4c49-9810-563793df49a1",
   "metadata": {},
   "source": [
    "This is a test: $\\begin{equation}P = \\frac{1}{2} \\rho A v^{3}\\end{equation}$. And this?"
   ]
  },
  {
   "cell_type": "markdown",
   "id": "97d3b3b5-9da8-4bb0-890f-ed12aed8e813",
   "metadata": {},
   "source": [
    "-----"
   ]
  },
  {
   "cell_type": "markdown",
   "id": "630a9cf7-eb1d-4ec1-9e22-e92a4aad1159",
   "metadata": {},
   "source": [
    "-----"
   ]
  },
  {
   "cell_type": "markdown",
   "id": "7302f471-52e2-4920-b2ea-2d032f32c6b0",
   "metadata": {},
   "source": [
    "## Paths "
   ]
  },
  {
   "cell_type": "code",
   "execution_count": 4,
   "id": "fcc6748f-8038-4c06-873f-67d86b57aa82",
   "metadata": {
    "tags": []
   },
   "outputs": [],
   "source": [
    "# Create absolute path object to data directory\n",
    "# Note: cwd\n",
    "cwd_path = Path.cwd()\n",
    "data_path = cwd_path.parent.joinpath('data')"
   ]
  },
  {
   "cell_type": "markdown",
   "id": "4cec979c-dd17-4a8e-8251-b797f9438592",
   "metadata": {},
   "source": [
    "----"
   ]
  },
  {
   "cell_type": "markdown",
   "id": "6ce783f8-d6cc-4b5a-8059-406368ba512f",
   "metadata": {},
   "source": [
    "### To do:\n",
    "- ~Create dataframe of both ref dfs using df.merge()~\n",
    "- ~write line to access value using category id and value id~\n",
    "- ~keep only relevant categories in catalogue~\n",
    "- write apply function"
   ]
  },
  {
   "cell_type": "markdown",
   "id": "ce62aeff-5041-48a1-8dbb-a7a6803f4045",
   "metadata": {},
   "source": [
    "### Catalogue of categories"
   ]
  },
  {
   "cell_type": "code",
   "execution_count": 36,
   "id": "dba59010-498a-42d8-af90-645bb924a56e",
   "metadata": {
    "tags": []
   },
   "outputs": [
    {
     "name": "stdout",
     "output_type": "stream",
     "text": [
      "<class 'pandas.core.frame.DataFrame'>\n",
      "Index: 6 entries, 4 to 101\n",
      "Data columns (total 1 columns):\n",
      " #   Column         Non-Null Count  Dtype \n",
      "---  ------         --------------  ----- \n",
      " 0   category_name  6 non-null      object\n",
      "dtypes: object(1)\n",
      "memory usage: 96.0+ bytes\n"
     ]
    }
   ],
   "source": [
    "# Load in catalogue ids\n",
    "df_xml_catalogue = pd.read_xml(data_path / 'Katalogkategorien.xml', encoding='utf-16')\n",
    "df_xml_catalogue.rename(columns={'Id': 'category_id', 'Name': 'category_name',}, inplace=True)\n",
    "df_xml_catalogue.set_index('category_id', inplace=True)\n",
    "\n",
    "catalogue_categories_to_keep = [\n",
    "    'Betriebsstatus',  # EinheitBetriebsstatus\n",
    "    # 'Land',\n",
    "    'BundeslaenderEinheiten',  # don't use 'Bundesland'\n",
    "    'Einspeisungsart',\n",
    "    'WindLage',\n",
    "    'WindHersteller',\n",
    "    'Windanlagentechnologie', \n",
    "]\n",
    "\n",
    "df_xml_catalogue = df_xml_catalogue[df_xml_catalogue['category_name'].isin(catalogue_categories_to_keep)]\n",
    "df_xml_catalogue.info()"
   ]
  },
  {
   "cell_type": "code",
   "execution_count": 37,
   "id": "502952e2-78ce-44cf-a073-3bb3a1b341cc",
   "metadata": {
    "tags": []
   },
   "outputs": [
    {
     "data": {
      "text/html": [
       "<div>\n",
       "<style scoped>\n",
       "    .dataframe tbody tr th:only-of-type {\n",
       "        vertical-align: middle;\n",
       "    }\n",
       "\n",
       "    .dataframe tbody tr th {\n",
       "        vertical-align: top;\n",
       "    }\n",
       "\n",
       "    .dataframe thead th {\n",
       "        text-align: right;\n",
       "    }\n",
       "</style>\n",
       "<table border=\"1\" class=\"dataframe\">\n",
       "  <thead>\n",
       "    <tr style=\"text-align: right;\">\n",
       "      <th></th>\n",
       "      <th>category_name</th>\n",
       "    </tr>\n",
       "    <tr>\n",
       "      <th>category_id</th>\n",
       "      <th></th>\n",
       "    </tr>\n",
       "  </thead>\n",
       "  <tbody>\n",
       "    <tr>\n",
       "      <th>101</th>\n",
       "      <td>BundeslaenderEinheiten</td>\n",
       "    </tr>\n",
       "  </tbody>\n",
       "</table>\n",
       "</div>"
      ],
      "text/plain": [
       "                      category_name\n",
       "category_id                        \n",
       "101          BundeslaenderEinheiten"
      ]
     },
     "execution_count": 37,
     "metadata": {},
     "output_type": "execute_result"
    }
   ],
   "source": [
    "# quickly search for cat names\n",
    "df_xml_catalogue[df_xml_catalogue['category_name'].str.contains('undes')]"
   ]
  },
  {
   "cell_type": "markdown",
   "id": "f3ee79cb-e99a-447b-8ef7-e5842b1cc89c",
   "metadata": {},
   "source": [
    "### Category values"
   ]
  },
  {
   "cell_type": "code",
   "execution_count": 38,
   "id": "734a0ca5-4154-4fd0-ac68-bf87744e6566",
   "metadata": {
    "tags": []
   },
   "outputs": [
    {
     "name": "stdout",
     "output_type": "stream",
     "text": [
      "<class 'pandas.core.frame.DataFrame'>\n",
      "Index: 1647 entries, 1 to 74\n",
      "Data columns (total 2 columns):\n",
      " #   Column    Non-Null Count  Dtype \n",
      "---  ------    --------------  ----- \n",
      " 0   value_id  1647 non-null   int64 \n",
      " 1   value     1647 non-null   object\n",
      "dtypes: int64(1), object(1)\n",
      "memory usage: 38.6+ KB\n"
     ]
    }
   ],
   "source": [
    "# Load in catalogue values\n",
    "df_xml_cat_values = pd.read_xml(data_path / 'Katalogwerte.xml', encoding='utf-16')\n",
    "df_xml_cat_values.rename(columns={'Id': 'value_id', 'Wert': 'value', 'KatalogKategorieId': 'category_id'}, inplace=True)\n",
    "df_xml_cat_values.set_index('category_id', inplace=True)\n",
    "df_xml_cat_values.info()"
   ]
  },
  {
   "cell_type": "code",
   "execution_count": 39,
   "id": "991adb6b-72e5-44ae-9d6b-5d508f95ef2f",
   "metadata": {
    "tags": []
   },
   "outputs": [],
   "source": [
    "# 5 cat ids in catalogue index not in cat_values index\n",
    "# idx_difference = df_xml_catalogue.index.difference(df_xml_cat_values.index)\n",
    "# df_xml_catalogue.loc[idx_difference]"
   ]
  },
  {
   "cell_type": "code",
   "execution_count": 40,
   "id": "895e36d5-abc6-49ee-9fdc-29f185289102",
   "metadata": {
    "tags": []
   },
   "outputs": [],
   "source": [
    "# df_xml_cat_values[df_xml_cat_values['value_id'] == 2497]"
   ]
  },
  {
   "cell_type": "code",
   "execution_count": 41,
   "id": "58c419d2-5e5e-4974-a72e-5dd6c82059af",
   "metadata": {
    "tags": []
   },
   "outputs": [],
   "source": [
    "# df_xml_cat_values[df_xml_cat_values['value'] == 'Windkraft an Land']"
   ]
  },
  {
   "cell_type": "code",
   "execution_count": 42,
   "id": "e2cf0e15-f7ce-4e9b-bd76-6a34799dcc66",
   "metadata": {
    "tags": []
   },
   "outputs": [],
   "source": [
    "# df_xml_cat_values.loc[6]"
   ]
  },
  {
   "cell_type": "markdown",
   "id": "d7afdf32-68b9-4b71-9fa6-8d5da022ba03",
   "metadata": {},
   "source": [
    "### Merge the two"
   ]
  },
  {
   "cell_type": "code",
   "execution_count": 43,
   "id": "c11f7925-6141-443f-9113-7113f71cbcd1",
   "metadata": {
    "tags": []
   },
   "outputs": [
    {
     "data": {
      "text/html": [
       "<div>\n",
       "<style scoped>\n",
       "    .dataframe tbody tr th:only-of-type {\n",
       "        vertical-align: middle;\n",
       "    }\n",
       "\n",
       "    .dataframe tbody tr th {\n",
       "        vertical-align: top;\n",
       "    }\n",
       "\n",
       "    .dataframe thead th {\n",
       "        text-align: right;\n",
       "    }\n",
       "</style>\n",
       "<table border=\"1\" class=\"dataframe\">\n",
       "  <thead>\n",
       "    <tr style=\"text-align: right;\">\n",
       "      <th></th>\n",
       "      <th>category_name</th>\n",
       "      <th>value_id</th>\n",
       "      <th>value</th>\n",
       "    </tr>\n",
       "    <tr>\n",
       "      <th>category_id</th>\n",
       "      <th></th>\n",
       "      <th></th>\n",
       "      <th></th>\n",
       "    </tr>\n",
       "  </thead>\n",
       "  <tbody>\n",
       "    <tr>\n",
       "      <th>4</th>\n",
       "      <td>Betriebsstatus</td>\n",
       "      <td>31</td>\n",
       "      <td>In Planung</td>\n",
       "    </tr>\n",
       "    <tr>\n",
       "      <th>4</th>\n",
       "      <td>Betriebsstatus</td>\n",
       "      <td>35</td>\n",
       "      <td>In Betrieb</td>\n",
       "    </tr>\n",
       "    <tr>\n",
       "      <th>4</th>\n",
       "      <td>Betriebsstatus</td>\n",
       "      <td>37</td>\n",
       "      <td>Vorübergehend stillgelegt</td>\n",
       "    </tr>\n",
       "    <tr>\n",
       "      <th>4</th>\n",
       "      <td>Betriebsstatus</td>\n",
       "      <td>38</td>\n",
       "      <td>Endgültig stillgelegt</td>\n",
       "    </tr>\n",
       "    <tr>\n",
       "      <th>52</th>\n",
       "      <td>Einspeisungsart</td>\n",
       "      <td>688</td>\n",
       "      <td>Volleinspeisung</td>\n",
       "    </tr>\n",
       "    <tr>\n",
       "      <th>...</th>\n",
       "      <td>...</td>\n",
       "      <td>...</td>\n",
       "      <td>...</td>\n",
       "    </tr>\n",
       "    <tr>\n",
       "      <th>101</th>\n",
       "      <td>BundeslaenderEinheiten</td>\n",
       "      <td>1412</td>\n",
       "      <td>Saarland</td>\n",
       "    </tr>\n",
       "    <tr>\n",
       "      <th>101</th>\n",
       "      <td>BundeslaenderEinheiten</td>\n",
       "      <td>1413</td>\n",
       "      <td>Sachsen</td>\n",
       "    </tr>\n",
       "    <tr>\n",
       "      <th>101</th>\n",
       "      <td>BundeslaenderEinheiten</td>\n",
       "      <td>1414</td>\n",
       "      <td>Sachsen-Anhalt</td>\n",
       "    </tr>\n",
       "    <tr>\n",
       "      <th>101</th>\n",
       "      <td>BundeslaenderEinheiten</td>\n",
       "      <td>1415</td>\n",
       "      <td>Thüringen</td>\n",
       "    </tr>\n",
       "    <tr>\n",
       "      <th>101</th>\n",
       "      <td>BundeslaenderEinheiten</td>\n",
       "      <td>1416</td>\n",
       "      <td>Ausschließliche Wirtschaftszone</td>\n",
       "    </tr>\n",
       "  </tbody>\n",
       "</table>\n",
       "<p>166 rows × 3 columns</p>\n",
       "</div>"
      ],
      "text/plain": [
       "                      category_name  value_id                            value\n",
       "category_id                                                                   \n",
       "4                    Betriebsstatus        31                       In Planung\n",
       "4                    Betriebsstatus        35                       In Betrieb\n",
       "4                    Betriebsstatus        37        Vorübergehend stillgelegt\n",
       "4                    Betriebsstatus        38            Endgültig stillgelegt\n",
       "52                  Einspeisungsart       688                  Volleinspeisung\n",
       "...                             ...       ...                              ...\n",
       "101          BundeslaenderEinheiten      1412                         Saarland\n",
       "101          BundeslaenderEinheiten      1413                          Sachsen\n",
       "101          BundeslaenderEinheiten      1414                   Sachsen-Anhalt\n",
       "101          BundeslaenderEinheiten      1415                        Thüringen\n",
       "101          BundeslaenderEinheiten      1416  Ausschließliche Wirtschaftszone\n",
       "\n",
       "[166 rows x 3 columns]"
      ]
     },
     "execution_count": 43,
     "metadata": {},
     "output_type": "execute_result"
    }
   ],
   "source": [
    "# Merging ref dataframes\n",
    "df_cat_lookup_reference = df_xml_catalogue.merge(df_xml_cat_values, how='left', left_index=True, right_index=True)\n",
    "df_cat_lookup_reference"
   ]
  },
  {
   "cell_type": "code",
   "execution_count": 44,
   "id": "2427d670-411f-4feb-addc-5298c77a8d28",
   "metadata": {
    "tags": []
   },
   "outputs": [
    {
     "data": {
      "text/html": [
       "<div>\n",
       "<style scoped>\n",
       "    .dataframe tbody tr th:only-of-type {\n",
       "        vertical-align: middle;\n",
       "    }\n",
       "\n",
       "    .dataframe tbody tr th {\n",
       "        vertical-align: top;\n",
       "    }\n",
       "\n",
       "    .dataframe thead th {\n",
       "        text-align: right;\n",
       "    }\n",
       "</style>\n",
       "<table border=\"1\" class=\"dataframe\">\n",
       "  <thead>\n",
       "    <tr style=\"text-align: right;\">\n",
       "      <th></th>\n",
       "      <th>category_name</th>\n",
       "      <th>value_id</th>\n",
       "      <th>value</th>\n",
       "    </tr>\n",
       "    <tr>\n",
       "      <th>category_id</th>\n",
       "      <th></th>\n",
       "      <th></th>\n",
       "      <th></th>\n",
       "    </tr>\n",
       "  </thead>\n",
       "  <tbody>\n",
       "    <tr>\n",
       "      <th>101</th>\n",
       "      <td>BundeslaenderEinheiten</td>\n",
       "      <td>1400</td>\n",
       "      <td>Brandenburg</td>\n",
       "    </tr>\n",
       "    <tr>\n",
       "      <th>101</th>\n",
       "      <td>BundeslaenderEinheiten</td>\n",
       "      <td>1401</td>\n",
       "      <td>Berlin</td>\n",
       "    </tr>\n",
       "    <tr>\n",
       "      <th>101</th>\n",
       "      <td>BundeslaenderEinheiten</td>\n",
       "      <td>1402</td>\n",
       "      <td>Baden-Württemberg</td>\n",
       "    </tr>\n",
       "    <tr>\n",
       "      <th>101</th>\n",
       "      <td>BundeslaenderEinheiten</td>\n",
       "      <td>1403</td>\n",
       "      <td>Bayern</td>\n",
       "    </tr>\n",
       "    <tr>\n",
       "      <th>101</th>\n",
       "      <td>BundeslaenderEinheiten</td>\n",
       "      <td>1404</td>\n",
       "      <td>Bremen</td>\n",
       "    </tr>\n",
       "    <tr>\n",
       "      <th>101</th>\n",
       "      <td>BundeslaenderEinheiten</td>\n",
       "      <td>1405</td>\n",
       "      <td>Hessen</td>\n",
       "    </tr>\n",
       "    <tr>\n",
       "      <th>101</th>\n",
       "      <td>BundeslaenderEinheiten</td>\n",
       "      <td>1406</td>\n",
       "      <td>Hamburg</td>\n",
       "    </tr>\n",
       "    <tr>\n",
       "      <th>101</th>\n",
       "      <td>BundeslaenderEinheiten</td>\n",
       "      <td>1407</td>\n",
       "      <td>Mecklenburg-Vorpommern</td>\n",
       "    </tr>\n",
       "    <tr>\n",
       "      <th>101</th>\n",
       "      <td>BundeslaenderEinheiten</td>\n",
       "      <td>1408</td>\n",
       "      <td>Niedersachsen</td>\n",
       "    </tr>\n",
       "    <tr>\n",
       "      <th>101</th>\n",
       "      <td>BundeslaenderEinheiten</td>\n",
       "      <td>1409</td>\n",
       "      <td>Nordrhein-Westfalen</td>\n",
       "    </tr>\n",
       "    <tr>\n",
       "      <th>101</th>\n",
       "      <td>BundeslaenderEinheiten</td>\n",
       "      <td>1410</td>\n",
       "      <td>Rheinland-Pfalz</td>\n",
       "    </tr>\n",
       "    <tr>\n",
       "      <th>101</th>\n",
       "      <td>BundeslaenderEinheiten</td>\n",
       "      <td>1411</td>\n",
       "      <td>Schleswig-Holstein</td>\n",
       "    </tr>\n",
       "    <tr>\n",
       "      <th>101</th>\n",
       "      <td>BundeslaenderEinheiten</td>\n",
       "      <td>1412</td>\n",
       "      <td>Saarland</td>\n",
       "    </tr>\n",
       "    <tr>\n",
       "      <th>101</th>\n",
       "      <td>BundeslaenderEinheiten</td>\n",
       "      <td>1413</td>\n",
       "      <td>Sachsen</td>\n",
       "    </tr>\n",
       "    <tr>\n",
       "      <th>101</th>\n",
       "      <td>BundeslaenderEinheiten</td>\n",
       "      <td>1414</td>\n",
       "      <td>Sachsen-Anhalt</td>\n",
       "    </tr>\n",
       "    <tr>\n",
       "      <th>101</th>\n",
       "      <td>BundeslaenderEinheiten</td>\n",
       "      <td>1415</td>\n",
       "      <td>Thüringen</td>\n",
       "    </tr>\n",
       "    <tr>\n",
       "      <th>101</th>\n",
       "      <td>BundeslaenderEinheiten</td>\n",
       "      <td>1416</td>\n",
       "      <td>Ausschließliche Wirtschaftszone</td>\n",
       "    </tr>\n",
       "  </tbody>\n",
       "</table>\n",
       "</div>"
      ],
      "text/plain": [
       "                      category_name  value_id                            value\n",
       "category_id                                                                   \n",
       "101          BundeslaenderEinheiten      1400                      Brandenburg\n",
       "101          BundeslaenderEinheiten      1401                           Berlin\n",
       "101          BundeslaenderEinheiten      1402                Baden-Württemberg\n",
       "101          BundeslaenderEinheiten      1403                           Bayern\n",
       "101          BundeslaenderEinheiten      1404                           Bremen\n",
       "101          BundeslaenderEinheiten      1405                           Hessen\n",
       "101          BundeslaenderEinheiten      1406                          Hamburg\n",
       "101          BundeslaenderEinheiten      1407           Mecklenburg-Vorpommern\n",
       "101          BundeslaenderEinheiten      1408                    Niedersachsen\n",
       "101          BundeslaenderEinheiten      1409              Nordrhein-Westfalen\n",
       "101          BundeslaenderEinheiten      1410                  Rheinland-Pfalz\n",
       "101          BundeslaenderEinheiten      1411               Schleswig-Holstein\n",
       "101          BundeslaenderEinheiten      1412                         Saarland\n",
       "101          BundeslaenderEinheiten      1413                          Sachsen\n",
       "101          BundeslaenderEinheiten      1414                   Sachsen-Anhalt\n",
       "101          BundeslaenderEinheiten      1415                        Thüringen\n",
       "101          BundeslaenderEinheiten      1416  Ausschließliche Wirtschaftszone"
      ]
     },
     "execution_count": 44,
     "metadata": {},
     "output_type": "execute_result"
    }
   ],
   "source": [
    "df_cat_lookup_reference[df_cat_lookup_reference['category_name'] == 'BundeslaenderEinheiten']"
   ]
  },
  {
   "cell_type": "code",
   "execution_count": 72,
   "id": "54a335ff-57f7-45e5-aad5-3e194e35ce99",
   "metadata": {
    "tags": []
   },
   "outputs": [
    {
     "data": {
      "text/plain": [
       "'Mecklenburg-Vorpommern'"
      ]
     },
     "execution_count": 72,
     "metadata": {},
     "output_type": "execute_result"
    }
   ],
   "source": [
    "test = df_cat_lookup_reference[(\n",
    "    df_cat_lookup_reference['category_name'] == 'BundeslaenderEinheiten') & (df_cat_lookup_reference['value_id'] == 1407)]['value']\n",
    "\n",
    "test.values.item()"
   ]
  },
  {
   "cell_type": "code",
   "execution_count": 14,
   "id": "e38ec750-f0f9-4357-b43c-bbe54f79d10e",
   "metadata": {
    "tags": []
   },
   "outputs": [],
   "source": [
    "# df_cat_lookup_reference[df_cat_lookup_reference['category_name'] == 'Betriebsstatus'].loc[:, df_cat_lookup_reference['value_id']==31]"
   ]
  },
  {
   "cell_type": "markdown",
   "id": "e990dbf8-686e-44b9-95f8-3653f11cf5e8",
   "metadata": {},
   "source": [
    "## Below is how I access the value by supplying category and value ids!"
   ]
  },
  {
   "cell_type": "code",
   "execution_count": 15,
   "id": "a7747b11-7d76-49ec-ad96-a5c4af7d08ad",
   "metadata": {
    "tags": []
   },
   "outputs": [],
   "source": [
    "# df_xml_cat_values[df_xml_cat_values['value_id'] == 84].loc[6, 'value']"
   ]
  },
  {
   "cell_type": "code",
   "execution_count": 16,
   "id": "0523b0d4-e93a-44e5-bc66-ed67e835f709",
   "metadata": {
    "tags": []
   },
   "outputs": [],
   "source": [
    "# df_xml_cat_values[df_xml_cat_values['value_id'] == 2497].loc[1, 'value']"
   ]
  },
  {
   "cell_type": "markdown",
   "id": "8635373d-be48-4c3c-9793-1404a8c4190b",
   "metadata": {},
   "source": [
    "## Read in original XML dataset\n",
    "- 338 more turbines in this dataset. Why? \n",
    "    - 34822 rows here and 34484 in Kaggle dataset\n",
    "    - all 34822 have unique MastrNummer\n",
    "- Steps for wrangling:\n",
    "    - decide which columns to KEEP (make a list and then filter)\n",
    "    - slice out subset of columns with ids that need to be mapped to string values\n",
    "    - write an apply function for those columns\n",
    "    - df.update() back into main df"
   ]
  },
  {
   "cell_type": "code",
   "execution_count": 73,
   "id": "2c352419-010e-4634-ba16-0a10180c25a8",
   "metadata": {
    "tags": []
   },
   "outputs": [],
   "source": [
    "df_xml = pd.read_xml(data_path / 'EinheitenWind.xml', encoding='utf-16')"
   ]
  },
  {
   "cell_type": "code",
   "execution_count": 74,
   "id": "886ac9a5-11f2-456b-a8d6-0e7cbe2cc444",
   "metadata": {
    "tags": []
   },
   "outputs": [
    {
     "name": "stdout",
     "output_type": "stream",
     "text": [
      "<class 'pandas.core.frame.DataFrame'>\n",
      "RangeIndex: 34822 entries, 0 to 34821\n",
      "Data columns (total 23 columns):\n",
      " #   Column                              Non-Null Count  Dtype  \n",
      "---  ------                              --------------  -----  \n",
      " 0   EinheitMastrNummer                  34822 non-null  object \n",
      " 1   DatumLetzteAktualisierung           34822 non-null  object \n",
      " 2   Bundesland                          34822 non-null  int64  \n",
      " 3   Postleitzahl                        33037 non-null  float64\n",
      " 4   Ort                                 33037 non-null  object \n",
      " 5   Laengengrad                         33907 non-null  float64\n",
      " 6   Breitengrad                         33907 non-null  float64\n",
      " 7   Registrierungsdatum                 34822 non-null  object \n",
      " 8   Inbetriebnahmedatum                 32208 non-null  object \n",
      " 9   EinheitBetriebsstatus               34822 non-null  int64  \n",
      " 10  NameStromerzeugungseinheit          34822 non-null  object \n",
      " 11  Bruttoleistung                      34822 non-null  float64\n",
      " 12  Nettonennleistung                   34822 non-null  float64\n",
      " 13  AnschlussAnHoechstOderHochSpannung  24311 non-null  float64\n",
      " 14  Einspeisungsart                     34167 non-null  float64\n",
      " 15  NameWindpark                        34005 non-null  object \n",
      " 16  Lage                                34821 non-null  float64\n",
      " 17  Hersteller                          34367 non-null  float64\n",
      " 18  Technologie                         34822 non-null  int64  \n",
      " 19  Typenbezeichnung                    34350 non-null  object \n",
      " 20  Nabenhoehe                          33956 non-null  float64\n",
      " 21  Rotordurchmesser                    34364 non-null  float64\n",
      " 22  Rotorblattenteisungssystem          25990 non-null  float64\n",
      "dtypes: float64(12), int64(3), object(8)\n",
      "memory usage: 6.1+ MB\n"
     ]
    }
   ],
   "source": [
    "# define columns to keep\n",
    "columns_to_keep = [\n",
    "    'EinheitMastrNummer',\n",
    "    'DatumLetzteAktualisierung',\n",
    "    # 'NetzbetreiberpruefungStatus',  # Der Status der letzten Netzbetreiberprüfung, insofern eine durchgeführt wurde\n",
    "    # 'Land',  # all code 84: Deutschland\n",
    "    'Bundesland',\n",
    "    'Postleitzahl',\n",
    "    'Ort',\n",
    "    'Laengengrad',\n",
    "    'Breitengrad',\n",
    "    'Registrierungsdatum',\n",
    "    'Inbetriebnahmedatum',\n",
    "    # 'EinheitSystemstatus',  # all code 472: active\n",
    "    'EinheitBetriebsstatus',\n",
    "    'NameStromerzeugungseinheit',\n",
    "    # 'Energietraeger',  # all code 2497: Wind\n",
    "    'Bruttoleistung',  # float\n",
    "    'Nettonennleistung',  # float\n",
    "    'AnschlussAnHoechstOderHochSpannung',  # bool\n",
    "    'Einspeisungsart',\n",
    "    'NameWindpark',\n",
    "    'Lage',  # int\n",
    "    'Hersteller',  # int\n",
    "    'Technologie',  # int\n",
    "    'Typenbezeichnung',\n",
    "    'Nabenhoehe',\n",
    "    'Rotordurchmesser',\n",
    "    'Rotorblattenteisungssystem',  # bool\n",
    "]\n",
    "\n",
    "# filter columns\n",
    "df_xml = df_xml[columns_to_keep]\n",
    "\n",
    "# assign correct dtypes to columns\n",
    "# note: cannot cast nan; handle columns with nans separately\n",
    "# handle dates separately\n",
    "# df_xml.astype({\n",
    "#     'AnschlussAnHoechstOderHochSpannung': 'int',\n",
    "#     },\n",
    "# )\n",
    "\n",
    "\n",
    "df_xml.info()"
   ]
  },
  {
   "cell_type": "code",
   "execution_count": 75,
   "id": "5af4f785-c7f7-4215-880a-cddd7d124655",
   "metadata": {
    "tags": []
   },
   "outputs": [
    {
     "data": {
      "text/html": [
       "<div>\n",
       "<style scoped>\n",
       "    .dataframe tbody tr th:only-of-type {\n",
       "        vertical-align: middle;\n",
       "    }\n",
       "\n",
       "    .dataframe tbody tr th {\n",
       "        vertical-align: top;\n",
       "    }\n",
       "\n",
       "    .dataframe thead th {\n",
       "        text-align: right;\n",
       "    }\n",
       "</style>\n",
       "<table border=\"1\" class=\"dataframe\">\n",
       "  <thead>\n",
       "    <tr style=\"text-align: right;\">\n",
       "      <th></th>\n",
       "      <th>EinheitMastrNummer</th>\n",
       "      <th>DatumLetzteAktualisierung</th>\n",
       "      <th>Bundesland</th>\n",
       "      <th>Postleitzahl</th>\n",
       "      <th>Ort</th>\n",
       "      <th>Laengengrad</th>\n",
       "      <th>Breitengrad</th>\n",
       "      <th>Registrierungsdatum</th>\n",
       "      <th>Inbetriebnahmedatum</th>\n",
       "      <th>EinheitBetriebsstatus</th>\n",
       "      <th>NameStromerzeugungseinheit</th>\n",
       "      <th>Bruttoleistung</th>\n",
       "      <th>Nettonennleistung</th>\n",
       "      <th>AnschlussAnHoechstOderHochSpannung</th>\n",
       "      <th>Einspeisungsart</th>\n",
       "      <th>NameWindpark</th>\n",
       "      <th>Lage</th>\n",
       "      <th>Hersteller</th>\n",
       "      <th>Technologie</th>\n",
       "      <th>Typenbezeichnung</th>\n",
       "      <th>Nabenhoehe</th>\n",
       "      <th>Rotordurchmesser</th>\n",
       "      <th>Rotorblattenteisungssystem</th>\n",
       "    </tr>\n",
       "  </thead>\n",
       "  <tbody>\n",
       "    <tr>\n",
       "      <th>33581</th>\n",
       "      <td>SEE992022216241</td>\n",
       "      <td>2022-10-21T12:54:44.4219401</td>\n",
       "      <td>1414</td>\n",
       "      <td>6682.0</td>\n",
       "      <td>Teuchern</td>\n",
       "      <td>11.964726</td>\n",
       "      <td>51.144980</td>\n",
       "      <td>2022-10-21</td>\n",
       "      <td>None</td>\n",
       "      <td>31</td>\n",
       "      <td>WEA 04</td>\n",
       "      <td>5000.0</td>\n",
       "      <td>5000.0</td>\n",
       "      <td>NaN</td>\n",
       "      <td>688.0</td>\n",
       "      <td>2. Bauabschnitt GP</td>\n",
       "      <td>888.0</td>\n",
       "      <td>1586.0</td>\n",
       "      <td>691</td>\n",
       "      <td>None</td>\n",
       "      <td>155.0</td>\n",
       "      <td>147.0</td>\n",
       "      <td>NaN</td>\n",
       "    </tr>\n",
       "    <tr>\n",
       "      <th>19664</th>\n",
       "      <td>SEE991726946669</td>\n",
       "      <td>2021-07-12T08:44:38.5873248</td>\n",
       "      <td>1408</td>\n",
       "      <td>27777.0</td>\n",
       "      <td>Ganderkesee</td>\n",
       "      <td>8.578781</td>\n",
       "      <td>53.117936</td>\n",
       "      <td>2021-07-06</td>\n",
       "      <td>2021-07-05</td>\n",
       "      <td>35</td>\n",
       "      <td>WEA 1</td>\n",
       "      <td>4200.0</td>\n",
       "      <td>4200.0</td>\n",
       "      <td>0.0</td>\n",
       "      <td>688.0</td>\n",
       "      <td>Forschungswindpark Ganderkesee/ Lemwerder</td>\n",
       "      <td>888.0</td>\n",
       "      <td>1586.0</td>\n",
       "      <td>691</td>\n",
       "      <td>E-115 EP3-E3</td>\n",
       "      <td>135.0</td>\n",
       "      <td>115.0</td>\n",
       "      <td>0.0</td>\n",
       "    </tr>\n",
       "    <tr>\n",
       "      <th>29611</th>\n",
       "      <td>SEE902261362531</td>\n",
       "      <td>2023-07-24T16:25:51.8144660</td>\n",
       "      <td>1400</td>\n",
       "      <td>14669.0</td>\n",
       "      <td>Ketzin</td>\n",
       "      <td>12.792678</td>\n",
       "      <td>52.504261</td>\n",
       "      <td>2021-01-09</td>\n",
       "      <td>1998-10-06</td>\n",
       "      <td>35</td>\n",
       "      <td>E40</td>\n",
       "      <td>500.0</td>\n",
       "      <td>500.0</td>\n",
       "      <td>NaN</td>\n",
       "      <td>688.0</td>\n",
       "      <td>Windpark Zachow</td>\n",
       "      <td>888.0</td>\n",
       "      <td>1586.0</td>\n",
       "      <td>691</td>\n",
       "      <td>E40</td>\n",
       "      <td>65.0</td>\n",
       "      <td>40.3</td>\n",
       "      <td>0.0</td>\n",
       "    </tr>\n",
       "  </tbody>\n",
       "</table>\n",
       "</div>"
      ],
      "text/plain": [
       "      EinheitMastrNummer    DatumLetzteAktualisierung  Bundesland  \\\n",
       "33581    SEE992022216241  2022-10-21T12:54:44.4219401        1414   \n",
       "19664    SEE991726946669  2021-07-12T08:44:38.5873248        1408   \n",
       "29611    SEE902261362531  2023-07-24T16:25:51.8144660        1400   \n",
       "\n",
       "       Postleitzahl          Ort  Laengengrad  Breitengrad  \\\n",
       "33581        6682.0     Teuchern    11.964726    51.144980   \n",
       "19664       27777.0  Ganderkesee     8.578781    53.117936   \n",
       "29611       14669.0       Ketzin    12.792678    52.504261   \n",
       "\n",
       "      Registrierungsdatum Inbetriebnahmedatum  EinheitBetriebsstatus  \\\n",
       "33581          2022-10-21                None                     31   \n",
       "19664          2021-07-06          2021-07-05                     35   \n",
       "29611          2021-01-09          1998-10-06                     35   \n",
       "\n",
       "      NameStromerzeugungseinheit  Bruttoleistung  Nettonennleistung  \\\n",
       "33581                     WEA 04          5000.0             5000.0   \n",
       "19664                      WEA 1          4200.0             4200.0   \n",
       "29611                        E40           500.0              500.0   \n",
       "\n",
       "       AnschlussAnHoechstOderHochSpannung  Einspeisungsart  \\\n",
       "33581                                 NaN            688.0   \n",
       "19664                                 0.0            688.0   \n",
       "29611                                 NaN            688.0   \n",
       "\n",
       "                                    NameWindpark   Lage  Hersteller  \\\n",
       "33581                         2. Bauabschnitt GP  888.0      1586.0   \n",
       "19664  Forschungswindpark Ganderkesee/ Lemwerder  888.0      1586.0   \n",
       "29611                            Windpark Zachow  888.0      1586.0   \n",
       "\n",
       "       Technologie Typenbezeichnung  Nabenhoehe  Rotordurchmesser  \\\n",
       "33581          691             None       155.0             147.0   \n",
       "19664          691     E-115 EP3-E3       135.0             115.0   \n",
       "29611          691              E40        65.0              40.3   \n",
       "\n",
       "       Rotorblattenteisungssystem  \n",
       "33581                         NaN  \n",
       "19664                         0.0  \n",
       "29611                         0.0  "
      ]
     },
     "execution_count": 75,
     "metadata": {},
     "output_type": "execute_result"
    }
   ],
   "source": [
    "df_xml.sample(3)"
   ]
  },
  {
   "cell_type": "markdown",
   "id": "30a6cc9b-dc24-495e-afd8-a133049f917b",
   "metadata": {},
   "source": [
    "### Function to replace value IDs with values in columns using lookup df"
   ]
  },
  {
   "cell_type": "code",
   "execution_count": 76,
   "id": "ea06e8e5-d10c-4fe4-9848-63a8e0bcf2af",
   "metadata": {
    "tags": []
   },
   "outputs": [
    {
     "data": {
      "text/plain": [
       "array(['Betriebsstatus', 'Einspeisungsart', 'Windanlagentechnologie',\n",
       "       'WindHersteller', 'WindLage', 'BundeslaenderEinheiten'],\n",
       "      dtype=object)"
      ]
     },
     "execution_count": 76,
     "metadata": {},
     "output_type": "execute_result"
    }
   ],
   "source": [
    "df_cat_lookup_reference['category_name'].unique()"
   ]
  },
  {
   "cell_type": "code",
   "execution_count": 77,
   "id": "4eb26926-3c0b-417a-bc20-654a03a37f09",
   "metadata": {
    "tags": []
   },
   "outputs": [],
   "source": [
    "def replace_ids_with_values(columns, df_cat_lookup_reference):\n",
    "    # col 1: Bundesland\n",
    "    if columns.index[0] == 'Bundesland':\n",
    "        try:\n",
    "            bundesland_id = columns[0]\n",
    "            bundesland_value = df_cat_lookup_reference[(\n",
    "                df_cat_lookup_reference['category_name'] == 'BundeslaenderEinheiten') & (df_cat_lookup_reference['value_id'] == bundesland_id)]['value']\n",
    "            columns[0] = bundesland_value.values.item()\n",
    "        except:\n",
    "            columns[0] = np.nan\n",
    "    else:\n",
    "        pass\n",
    "        \n",
    "    # col 2: Betriebsstatus/EinheitBetriebsstatus\n",
    "    if columns.index[1] == 'EinheitBetriebsstatus':\n",
    "        try:\n",
    "            betriebsstatus_id = columns[1]\n",
    "            betriebsstatus_value = df_cat_lookup_reference[(\n",
    "                df_cat_lookup_reference['category_name'] == 'Betriebsstatus') & (df_cat_lookup_reference['value_id'] == betriebsstatus_id)]['value']\n",
    "            columns[1] = betriebsstatus_value.values.item()\n",
    "        except:\n",
    "            columns[1] = np.nan\n",
    "    else:\n",
    "        pass\n",
    "    \n",
    "    # col 3: Einspeisungsart\n",
    "    if columns.index[2] == 'Einspeisungsart':\n",
    "        try:\n",
    "            einspeisungsart_id = columns[2]\n",
    "            einspeisungsart_value = df_cat_lookup_reference[(\n",
    "                df_cat_lookup_reference['category_name'] == 'Einspeisungsart') & (df_cat_lookup_reference['value_id'] == einspeisungsart_id)]['value']\n",
    "            columns[2] = einspeisungsart_value.values.item()\n",
    "        except:\n",
    "            columns[2] = np.nan\n",
    "    else:\n",
    "        pass\n",
    "    \n",
    "    # col 4: WindLage/Lage\n",
    "    if columns.index[3] == 'Lage':\n",
    "        try:\n",
    "            lage_id = columns[3]\n",
    "            lage_value = df_cat_lookup_reference[(\n",
    "                df_cat_lookup_reference['category_name'] == 'WindLage') & (df_cat_lookup_reference['value_id'] == lage_id)]['value']\n",
    "            columns[3] = lage_value.values.item()\n",
    "        except:\n",
    "            columns[3] = np.nan\n",
    "    else:\n",
    "        pass\n",
    "    \n",
    "    # col 5: WindHersteller/Hersteller\n",
    "    if columns.index[4] == 'Hersteller':\n",
    "        try:\n",
    "            hersteller_id = columns[4]\n",
    "            hersteller_value = df_cat_lookup_reference[(\n",
    "                df_cat_lookup_reference['category_name'] == 'WindHersteller') & (df_cat_lookup_reference['value_id'] == hersteller_id)]['value']\n",
    "            columns[4] = hersteller_value.values.item()\n",
    "        except:\n",
    "            columns[4] = np.nan\n",
    "    else:\n",
    "        pass\n",
    "    \n",
    "    # col 6: Windanlagentechnologie/Technologie\n",
    "    if columns.index[5] == 'Technologie':\n",
    "        try:\n",
    "            technologie_id = columns[5]\n",
    "            technologie_value = df_cat_lookup_reference[(\n",
    "                df_cat_lookup_reference['category_name'] == 'Windanlagentechnologie') & (df_cat_lookup_reference['value_id'] == technologie_id)]['value']\n",
    "            columns[5] = technologie_value.values.item()\n",
    "        except:\n",
    "            columns[5] = np.nan\n",
    "    else:\n",
    "        pass\n",
    "    \n",
    "    return columns"
   ]
  },
  {
   "cell_type": "code",
   "execution_count": 78,
   "id": "7a15ad49-b64d-4d7b-811c-e7ceefe9a0c7",
   "metadata": {
    "tags": []
   },
   "outputs": [],
   "source": [
    "# Run the replace function\n",
    "df_xml_replaced_ids = df_xml[['Bundesland', 'EinheitBetriebsstatus', 'Einspeisungsart', 'Lage', 'Hersteller', 'Technologie']].apply(\n",
    "    replace_ids_with_values, axis=1, df_cat_lookup_reference=df_cat_lookup_reference\n",
    ")"
   ]
  },
  {
   "cell_type": "code",
   "execution_count": 79,
   "id": "88d96b44-8f17-4bbf-9d0e-ea4d8b51cd74",
   "metadata": {
    "tags": []
   },
   "outputs": [
    {
     "data": {
      "text/html": [
       "<div>\n",
       "<style scoped>\n",
       "    .dataframe tbody tr th:only-of-type {\n",
       "        vertical-align: middle;\n",
       "    }\n",
       "\n",
       "    .dataframe tbody tr th {\n",
       "        vertical-align: top;\n",
       "    }\n",
       "\n",
       "    .dataframe thead th {\n",
       "        text-align: right;\n",
       "    }\n",
       "</style>\n",
       "<table border=\"1\" class=\"dataframe\">\n",
       "  <thead>\n",
       "    <tr style=\"text-align: right;\">\n",
       "      <th></th>\n",
       "      <th>Bundesland</th>\n",
       "      <th>EinheitBetriebsstatus</th>\n",
       "      <th>Einspeisungsart</th>\n",
       "      <th>Lage</th>\n",
       "      <th>Hersteller</th>\n",
       "      <th>Technologie</th>\n",
       "    </tr>\n",
       "  </thead>\n",
       "  <tbody>\n",
       "    <tr>\n",
       "      <th>0</th>\n",
       "      <td>Hessen</td>\n",
       "      <td>In Betrieb</td>\n",
       "      <td>Volleinspeisung</td>\n",
       "      <td>Windkraft an Land</td>\n",
       "      <td>ENERCON GmbH</td>\n",
       "      <td>Horizontalläufer</td>\n",
       "    </tr>\n",
       "    <tr>\n",
       "      <th>1</th>\n",
       "      <td>Schleswig-Holstein</td>\n",
       "      <td>In Betrieb</td>\n",
       "      <td>Volleinspeisung</td>\n",
       "      <td>Windkraft an Land</td>\n",
       "      <td>ENERCON GmbH</td>\n",
       "      <td>Horizontalläufer</td>\n",
       "    </tr>\n",
       "    <tr>\n",
       "      <th>2</th>\n",
       "      <td>Hessen</td>\n",
       "      <td>In Betrieb</td>\n",
       "      <td>Volleinspeisung</td>\n",
       "      <td>Windkraft an Land</td>\n",
       "      <td>ENERCON GmbH</td>\n",
       "      <td>Horizontalläufer</td>\n",
       "    </tr>\n",
       "    <tr>\n",
       "      <th>3</th>\n",
       "      <td>Hessen</td>\n",
       "      <td>In Betrieb</td>\n",
       "      <td>Volleinspeisung</td>\n",
       "      <td>Windkraft an Land</td>\n",
       "      <td>ENERCON GmbH</td>\n",
       "      <td>Horizontalläufer</td>\n",
       "    </tr>\n",
       "    <tr>\n",
       "      <th>4</th>\n",
       "      <td>Nordrhein-Westfalen</td>\n",
       "      <td>In Betrieb</td>\n",
       "      <td>Volleinspeisung</td>\n",
       "      <td>Windkraft an Land</td>\n",
       "      <td>Nordex SE</td>\n",
       "      <td>Horizontalläufer</td>\n",
       "    </tr>\n",
       "    <tr>\n",
       "      <th>...</th>\n",
       "      <td>...</td>\n",
       "      <td>...</td>\n",
       "      <td>...</td>\n",
       "      <td>...</td>\n",
       "      <td>...</td>\n",
       "      <td>...</td>\n",
       "    </tr>\n",
       "    <tr>\n",
       "      <th>34817</th>\n",
       "      <td>Mecklenburg-Vorpommern</td>\n",
       "      <td>In Planung</td>\n",
       "      <td>Teileinspeisung (einschließlich Eigenverbrauch)</td>\n",
       "      <td>Windkraft an Land</td>\n",
       "      <td>NaN</td>\n",
       "      <td>Horizontalläufer</td>\n",
       "    </tr>\n",
       "    <tr>\n",
       "      <th>34818</th>\n",
       "      <td>Schleswig-Holstein</td>\n",
       "      <td>In Betrieb</td>\n",
       "      <td>Volleinspeisung</td>\n",
       "      <td>Windkraft an Land</td>\n",
       "      <td>ENERCON GmbH</td>\n",
       "      <td>Horizontalläufer</td>\n",
       "    </tr>\n",
       "    <tr>\n",
       "      <th>34819</th>\n",
       "      <td>Schleswig-Holstein</td>\n",
       "      <td>In Planung</td>\n",
       "      <td>Volleinspeisung</td>\n",
       "      <td>Windkraft an Land</td>\n",
       "      <td>Nordex Energy GmbH</td>\n",
       "      <td>Horizontalläufer</td>\n",
       "    </tr>\n",
       "    <tr>\n",
       "      <th>34820</th>\n",
       "      <td>Schleswig-Holstein</td>\n",
       "      <td>In Planung</td>\n",
       "      <td>Volleinspeisung</td>\n",
       "      <td>Windkraft an Land</td>\n",
       "      <td>Nordex Energy GmbH</td>\n",
       "      <td>Horizontalläufer</td>\n",
       "    </tr>\n",
       "    <tr>\n",
       "      <th>34821</th>\n",
       "      <td>Schleswig-Holstein</td>\n",
       "      <td>In Planung</td>\n",
       "      <td>Volleinspeisung</td>\n",
       "      <td>Windkraft an Land</td>\n",
       "      <td>Nordex Energy GmbH</td>\n",
       "      <td>Horizontalläufer</td>\n",
       "    </tr>\n",
       "  </tbody>\n",
       "</table>\n",
       "<p>34822 rows × 6 columns</p>\n",
       "</div>"
      ],
      "text/plain": [
       "                   Bundesland EinheitBetriebsstatus  \\\n",
       "0                      Hessen            In Betrieb   \n",
       "1          Schleswig-Holstein            In Betrieb   \n",
       "2                      Hessen            In Betrieb   \n",
       "3                      Hessen            In Betrieb   \n",
       "4         Nordrhein-Westfalen            In Betrieb   \n",
       "...                       ...                   ...   \n",
       "34817  Mecklenburg-Vorpommern            In Planung   \n",
       "34818      Schleswig-Holstein            In Betrieb   \n",
       "34819      Schleswig-Holstein            In Planung   \n",
       "34820      Schleswig-Holstein            In Planung   \n",
       "34821      Schleswig-Holstein            In Planung   \n",
       "\n",
       "                                       Einspeisungsart               Lage  \\\n",
       "0                                      Volleinspeisung  Windkraft an Land   \n",
       "1                                      Volleinspeisung  Windkraft an Land   \n",
       "2                                      Volleinspeisung  Windkraft an Land   \n",
       "3                                      Volleinspeisung  Windkraft an Land   \n",
       "4                                      Volleinspeisung  Windkraft an Land   \n",
       "...                                                ...                ...   \n",
       "34817  Teileinspeisung (einschließlich Eigenverbrauch)  Windkraft an Land   \n",
       "34818                                  Volleinspeisung  Windkraft an Land   \n",
       "34819                                  Volleinspeisung  Windkraft an Land   \n",
       "34820                                  Volleinspeisung  Windkraft an Land   \n",
       "34821                                  Volleinspeisung  Windkraft an Land   \n",
       "\n",
       "               Hersteller       Technologie  \n",
       "0            ENERCON GmbH  Horizontalläufer  \n",
       "1            ENERCON GmbH  Horizontalläufer  \n",
       "2            ENERCON GmbH  Horizontalläufer  \n",
       "3            ENERCON GmbH  Horizontalläufer  \n",
       "4               Nordex SE  Horizontalläufer  \n",
       "...                   ...               ...  \n",
       "34817                 NaN  Horizontalläufer  \n",
       "34818        ENERCON GmbH  Horizontalläufer  \n",
       "34819  Nordex Energy GmbH  Horizontalläufer  \n",
       "34820  Nordex Energy GmbH  Horizontalläufer  \n",
       "34821  Nordex Energy GmbH  Horizontalläufer  \n",
       "\n",
       "[34822 rows x 6 columns]"
      ]
     },
     "execution_count": 79,
     "metadata": {},
     "output_type": "execute_result"
    }
   ],
   "source": [
    "df_xml_replaced_ids"
   ]
  },
  {
   "cell_type": "code",
   "execution_count": 84,
   "id": "0e5e9431-5f75-44a7-bbdd-c1bd233f5453",
   "metadata": {
    "tags": []
   },
   "outputs": [],
   "source": [
    "# Update main df in place using new values of subset df (essentially a left-join merge)\n",
    "df_xml.update(df_xml_replaced_ids)"
   ]
  },
  {
   "cell_type": "code",
   "execution_count": 85,
   "id": "224b18ef-e453-4d8a-b2d1-e922f3526551",
   "metadata": {
    "tags": []
   },
   "outputs": [
    {
     "data": {
      "text/plain": [
       "EinheitMastrNummer                                                    SEE978152216962\n",
       "DatumLetzteAktualisierung                                 2023-08-14T06:10:30.3595741\n",
       "Bundesland                                                     Mecklenburg-Vorpommern\n",
       "Postleitzahl                                                                  17179.0\n",
       "Ort                                                                          Altkalen\n",
       "Laengengrad                                                                       NaN\n",
       "Breitengrad                                                                       NaN\n",
       "Registrierungsdatum                                                        2023-08-14\n",
       "Inbetriebnahmedatum                                                              None\n",
       "EinheitBetriebsstatus                                                      In Planung\n",
       "NameStromerzeugungseinheit                                      KWKA Gartengrundstück\n",
       "Bruttoleistung                                                                    9.0\n",
       "Nettonennleistung                                                                 9.0\n",
       "AnschlussAnHoechstOderHochSpannung                                                NaN\n",
       "Einspeisungsart                       Teileinspeisung (einschließlich Eigenverbrauch)\n",
       "NameWindpark                                                                     None\n",
       "Lage                                                                Windkraft an Land\n",
       "Hersteller                                                                        NaN\n",
       "Technologie                                                          Horizontalläufer\n",
       "Typenbezeichnung                                                                 None\n",
       "Nabenhoehe                                                                        9.4\n",
       "Rotordurchmesser                                                                  1.2\n",
       "Rotorblattenteisungssystem                                                        0.0\n",
       "Name: 34817, dtype: object"
      ]
     },
     "execution_count": 85,
     "metadata": {},
     "output_type": "execute_result"
    }
   ],
   "source": [
    "df_xml.loc[34817]"
   ]
  },
  {
   "cell_type": "markdown",
   "id": "2a726eca-04fb-49ba-85d0-4ebff2e1eb01",
   "metadata": {
    "tags": []
   },
   "source": [
    "#### Postcodes with lat lon data\n",
    "- Source: https://github.com/WZBSocialScienceCenter/plz_geocoord"
   ]
  },
  {
   "cell_type": "code",
   "execution_count": 86,
   "id": "9cb206e3-e19a-48cd-a8fd-850abf81dabc",
   "metadata": {
    "tags": []
   },
   "outputs": [
    {
     "name": "stdout",
     "output_type": "stream",
     "text": [
      "<class 'pandas.core.frame.DataFrame'>\n",
      "RangeIndex: 8298 entries, 0 to 8297\n",
      "Data columns (total 3 columns):\n",
      " #   Column     Non-Null Count  Dtype  \n",
      "---  ------     --------------  -----  \n",
      " 0   postcode   8298 non-null   int64  \n",
      " 1   latitude   8298 non-null   float64\n",
      " 2   longitude  8298 non-null   float64\n",
      "dtypes: float64(2), int64(1)\n",
      "memory usage: 194.6 KB\n"
     ]
    }
   ],
   "source": [
    "df_postcodes_coords = pd.read_csv(data_path / 'plz_geocoord.csv', sep=',')\n",
    "df_postcodes_coords.rename(columns={'Unnamed: 0': 'postcode', 'lat': 'latitude', 'lng': 'longitude'}, inplace=True)\n",
    "df_postcodes_coords.info()"
   ]
  },
  {
   "cell_type": "code",
   "execution_count": 87,
   "id": "bab2ecfe-d23a-4cb1-a357-9ed0dce61467",
   "metadata": {
    "tags": []
   },
   "outputs": [
    {
     "data": {
      "text/html": [
       "<div>\n",
       "<style scoped>\n",
       "    .dataframe tbody tr th:only-of-type {\n",
       "        vertical-align: middle;\n",
       "    }\n",
       "\n",
       "    .dataframe tbody tr th {\n",
       "        vertical-align: top;\n",
       "    }\n",
       "\n",
       "    .dataframe thead th {\n",
       "        text-align: right;\n",
       "    }\n",
       "</style>\n",
       "<table border=\"1\" class=\"dataframe\">\n",
       "  <thead>\n",
       "    <tr style=\"text-align: right;\">\n",
       "      <th></th>\n",
       "      <th>postcode</th>\n",
       "      <th>latitude</th>\n",
       "      <th>longitude</th>\n",
       "    </tr>\n",
       "  </thead>\n",
       "  <tbody>\n",
       "    <tr>\n",
       "      <th>0</th>\n",
       "      <td>1067</td>\n",
       "      <td>51.057550</td>\n",
       "      <td>13.717065</td>\n",
       "    </tr>\n",
       "    <tr>\n",
       "      <th>1</th>\n",
       "      <td>1069</td>\n",
       "      <td>51.039135</td>\n",
       "      <td>13.737675</td>\n",
       "    </tr>\n",
       "    <tr>\n",
       "      <th>2</th>\n",
       "      <td>1097</td>\n",
       "      <td>51.065908</td>\n",
       "      <td>13.736152</td>\n",
       "    </tr>\n",
       "    <tr>\n",
       "      <th>3</th>\n",
       "      <td>1099</td>\n",
       "      <td>51.087188</td>\n",
       "      <td>13.802804</td>\n",
       "    </tr>\n",
       "    <tr>\n",
       "      <th>4</th>\n",
       "      <td>1108</td>\n",
       "      <td>51.144324</td>\n",
       "      <td>13.799706</td>\n",
       "    </tr>\n",
       "  </tbody>\n",
       "</table>\n",
       "</div>"
      ],
      "text/plain": [
       "   postcode   latitude  longitude\n",
       "0      1067  51.057550  13.717065\n",
       "1      1069  51.039135  13.737675\n",
       "2      1097  51.065908  13.736152\n",
       "3      1099  51.087188  13.802804\n",
       "4      1108  51.144324  13.799706"
      ]
     },
     "execution_count": 87,
     "metadata": {},
     "output_type": "execute_result"
    }
   ],
   "source": [
    "df_postcodes_coords.head()"
   ]
  },
  {
   "cell_type": "markdown",
   "id": "ad622ee4-3fe1-442a-b04a-f4cd4901f746",
   "metadata": {},
   "source": [
    "### Fill in missing lats and lons using postcode csv\n",
    "- 839 turbines are missing coordinates"
   ]
  },
  {
   "cell_type": "code",
   "execution_count": 88,
   "id": "0f5aee5d-b43d-4c55-85ea-024bb970b6d5",
   "metadata": {
    "tags": []
   },
   "outputs": [],
   "source": [
    "# Function that inserts lats and lons using postcode csv\n",
    "def add_coords_using_postcode(cols, df_postcodes_coords):\n",
    "    # Get turbine postcode\n",
    "    postcode_to_look_up = int(cols[0])\n",
    "    # Get row in postcode csv using postcode as key\n",
    "    lookup_row = df_postcodes_coords.loc[df_postcodes_coords['postcode'] == postcode_to_look_up]\n",
    "    # Try assigning lon and lat\n",
    "    try:\n",
    "        cols[1] = lookup_row['longitude']\n",
    "        cols[2] = lookup_row['latitude']\n",
    "    except: \n",
    "        return cols\n",
    "    return cols"
   ]
  },
  {
   "cell_type": "code",
   "execution_count": 89,
   "id": "a89d0140-7bab-4bc8-9fa7-3e9a33282980",
   "metadata": {
    "tags": []
   },
   "outputs": [
    {
     "data": {
      "text/plain": [
       "Postleitzahl\n",
       "True     912\n",
       "False      3\n",
       "Name: count, dtype: int64"
      ]
     },
     "execution_count": 89,
     "metadata": {},
     "output_type": "execute_result"
    }
   ],
   "source": [
    "# Turbines missing coords and their postcodes\n",
    "# One turbine postcode is not present in the postcode csv\n",
    "# That turbine has postcode 99095 (Erfurt, Thuringia according to Google)\n",
    "# It's a small turbine (Tesup Atlas2.0) and can be dropped\n",
    "df_xml[df_xml['Laengengrad'].isna()]['Postleitzahl'].isin(df_postcodes_coords['postcode']).value_counts()\n",
    "\n",
    "# Postal code 99095 is Erfurt, Thuringia according to Google\n",
    "# df_coords_missing[~df_coords_missing['Postleitzahl'].isin(df_postcodes_coords['postcode'])]"
   ]
  },
  {
   "cell_type": "code",
   "execution_count": 90,
   "id": "0b544a32-92ee-4e84-896e-08a675308328",
   "metadata": {
    "tags": []
   },
   "outputs": [
    {
     "data": {
      "text/plain": [
       "EinheitMastrNummer                        0\n",
       "DatumLetzteAktualisierung                 0\n",
       "Bundesland                                0\n",
       "Postleitzahl                           1785\n",
       "Ort                                    1785\n",
       "Laengengrad                             915\n",
       "Breitengrad                             915\n",
       "Registrierungsdatum                       0\n",
       "Inbetriebnahmedatum                    2614\n",
       "EinheitBetriebsstatus                     0\n",
       "NameStromerzeugungseinheit                0\n",
       "Bruttoleistung                            0\n",
       "Nettonennleistung                         0\n",
       "AnschlussAnHoechstOderHochSpannung    10511\n",
       "Einspeisungsart                         655\n",
       "NameWindpark                            817\n",
       "Lage                                      1\n",
       "Hersteller                              455\n",
       "Technologie                               0\n",
       "Typenbezeichnung                        472\n",
       "Nabenhoehe                              866\n",
       "Rotordurchmesser                        458\n",
       "Rotorblattenteisungssystem             8832\n",
       "dtype: int64"
      ]
     },
     "execution_count": 90,
     "metadata": {},
     "output_type": "execute_result"
    }
   ],
   "source": [
    "df_xml.isna().sum()"
   ]
  },
  {
   "cell_type": "code",
   "execution_count": 91,
   "id": "c1b56bc1-9d34-410e-9276-57c5c5c781c1",
   "metadata": {
    "tags": []
   },
   "outputs": [],
   "source": [
    "# Dataframe of turbines missing coords\n",
    "df_coords_missing = df_xml[(df_xml['Laengengrad'].isna()) & (df_xml['Breitengrad'].isna())]\n",
    "\n",
    "# Apply function and assign values back to relevant columns\n",
    "df_coords_missing.loc[:, ['Postleitzahl', 'Laengengrad', 'Breitengrad']] = df_coords_missing[['Postleitzahl', 'Laengengrad', 'Breitengrad']].apply(\n",
    "    add_coords_using_postcode, axis=1, df_postcodes_coords=df_postcodes_coords\n",
    ")\n",
    "\n",
    "# Update original df in place using new values of subset df (essentially a left-join merge)\n",
    "df_xml.update(df_coords_missing)"
   ]
  },
  {
   "cell_type": "code",
   "execution_count": 92,
   "id": "79e2688b-9439-4bab-977d-263c21a39e3a",
   "metadata": {
    "tags": []
   },
   "outputs": [
    {
     "data": {
      "text/plain": [
       "EinheitMastrNummer                        0\n",
       "DatumLetzteAktualisierung                 0\n",
       "Bundesland                                0\n",
       "Postleitzahl                           1785\n",
       "Ort                                    1785\n",
       "Laengengrad                               3\n",
       "Breitengrad                               3\n",
       "Registrierungsdatum                       0\n",
       "Inbetriebnahmedatum                    2614\n",
       "EinheitBetriebsstatus                     0\n",
       "NameStromerzeugungseinheit                0\n",
       "Bruttoleistung                            0\n",
       "Nettonennleistung                         0\n",
       "AnschlussAnHoechstOderHochSpannung    10511\n",
       "Einspeisungsart                         655\n",
       "NameWindpark                            817\n",
       "Lage                                      1\n",
       "Hersteller                              455\n",
       "Technologie                               0\n",
       "Typenbezeichnung                        472\n",
       "Nabenhoehe                              866\n",
       "Rotordurchmesser                        458\n",
       "Rotorblattenteisungssystem             8832\n",
       "dtype: int64"
      ]
     },
     "execution_count": 92,
     "metadata": {},
     "output_type": "execute_result"
    }
   ],
   "source": [
    "df_xml.isna().sum()"
   ]
  },
  {
   "cell_type": "markdown",
   "id": "c7e022f9-30eb-4dde-aa23-f10dde39a0f7",
   "metadata": {},
   "source": [
    "# Current spot! ----------------\n",
    "- Investivate these missing postcodes! In Kaggle dataset I didn't have any missing.. are they recent? Since May this year?\n",
    "- Drop the 3 turbines missing coordinates.. but first look at them. Are they big turbines?"
   ]
  },
  {
   "cell_type": "code",
   "execution_count": null,
   "id": "3603d79d-4404-4dcb-a525-8160359bf3c1",
   "metadata": {},
   "outputs": [],
   "source": []
  },
  {
   "cell_type": "code",
   "execution_count": null,
   "id": "50a46d83-f32d-490c-b948-3ae461a8cee7",
   "metadata": {},
   "outputs": [],
   "source": []
  },
  {
   "cell_type": "code",
   "execution_count": null,
   "id": "f6648081-ebc3-43f0-a64b-30878ea60477",
   "metadata": {},
   "outputs": [],
   "source": []
  },
  {
   "cell_type": "code",
   "execution_count": null,
   "id": "195a862a-158a-4b00-bb40-4272bb19392e",
   "metadata": {},
   "outputs": [],
   "source": []
  },
  {
   "cell_type": "code",
   "execution_count": null,
   "id": "06d7872c-cbd5-49a9-bc8a-7eee31afae53",
   "metadata": {},
   "outputs": [],
   "source": []
  },
  {
   "cell_type": "code",
   "execution_count": null,
   "id": "f811b3bb-ffdb-4221-bf72-e09bd65fb02e",
   "metadata": {},
   "outputs": [],
   "source": []
  },
  {
   "cell_type": "code",
   "execution_count": 81,
   "id": "d5e3f36d-95e2-4862-a61d-74403b35c33f",
   "metadata": {
    "tags": []
   },
   "outputs": [
    {
     "data": {
      "text/plain": [
       "'Mecklenburg-Vorpommern'"
      ]
     },
     "execution_count": 81,
     "metadata": {},
     "output_type": "execute_result"
    }
   ],
   "source": [
    "df_xml_replaced_ids.loc[34817, 'Bundesland']"
   ]
  },
  {
   "cell_type": "code",
   "execution_count": 82,
   "id": "c3fbd94e-c656-45a4-89f8-fd3fc39b1edf",
   "metadata": {
    "tags": []
   },
   "outputs": [
    {
     "data": {
      "text/plain": [
       "Bundesland                 0\n",
       "EinheitBetriebsstatus      0\n",
       "Einspeisungsart          655\n",
       "Lage                       1\n",
       "Hersteller               455\n",
       "Technologie                0\n",
       "dtype: int64"
      ]
     },
     "execution_count": 82,
     "metadata": {},
     "output_type": "execute_result"
    }
   ],
   "source": [
    "df_xml_replaced_ids.isna().sum()"
   ]
  },
  {
   "cell_type": "code",
   "execution_count": 83,
   "id": "08b09a4f-1d10-4995-9156-73b445a57c01",
   "metadata": {
    "tags": []
   },
   "outputs": [
    {
     "data": {
      "text/plain": [
       "Bundesland               False\n",
       "EinheitBetriebsstatus    False\n",
       "Einspeisungsart          False\n",
       "Lage                     False\n",
       "Hersteller                True\n",
       "Technologie              False\n",
       "Name: 34817, dtype: bool"
      ]
     },
     "execution_count": 83,
     "metadata": {},
     "output_type": "execute_result"
    }
   ],
   "source": [
    "df_xml_replaced_ids.isna().loc[34817]"
   ]
  },
  {
   "cell_type": "code",
   "execution_count": 80,
   "id": "3f030541-75ae-4423-9983-1ba0df50ee6f",
   "metadata": {
    "tags": []
   },
   "outputs": [
    {
     "data": {
      "text/plain": [
       "EinheitMastrNummer                                SEE978152216962\n",
       "DatumLetzteAktualisierung             2023-08-14T06:10:30.3595741\n",
       "Bundesland                                                   1407\n",
       "Postleitzahl                                              17179.0\n",
       "Ort                                                      Altkalen\n",
       "Laengengrad                                                   NaN\n",
       "Breitengrad                                                   NaN\n",
       "Registrierungsdatum                                    2023-08-14\n",
       "Inbetriebnahmedatum                                          None\n",
       "EinheitBetriebsstatus                                          31\n",
       "NameStromerzeugungseinheit                  KWKA Gartengrundstück\n",
       "Bruttoleistung                                                9.0\n",
       "Nettonennleistung                                             9.0\n",
       "AnschlussAnHoechstOderHochSpannung                            NaN\n",
       "Einspeisungsart                                             689.0\n",
       "NameWindpark                                                 None\n",
       "Lage                                                        888.0\n",
       "Hersteller                                                    NaN\n",
       "Technologie                                                   691\n",
       "Typenbezeichnung                                             None\n",
       "Nabenhoehe                                                    9.4\n",
       "Rotordurchmesser                                              1.2\n",
       "Rotorblattenteisungssystem                                    0.0\n",
       "Name: 34817, dtype: object"
      ]
     },
     "execution_count": 80,
     "metadata": {},
     "output_type": "execute_result"
    }
   ],
   "source": [
    "df_xml.loc[34817]"
   ]
  },
  {
   "cell_type": "code",
   "execution_count": null,
   "id": "bdde99b7-d37c-4689-9890-7113513e84ca",
   "metadata": {
    "tags": []
   },
   "outputs": [],
   "source": [
    "df_xml_replaced_ids['Bundesland'].value_counts()"
   ]
  },
  {
   "cell_type": "code",
   "execution_count": null,
   "id": "3682006b-b156-4552-a7b6-ac04ec714a7d",
   "metadata": {
    "tags": []
   },
   "outputs": [],
   "source": [
    "df_xml_replaced_ids.info()"
   ]
  },
  {
   "cell_type": "code",
   "execution_count": 244,
   "id": "254ee0c5-f329-44f1-8904-d56eaa04ba6c",
   "metadata": {
    "tags": []
   },
   "outputs": [
    {
     "data": {
      "text/plain": [
       "0        2022-11-17T15:19:47.5689012\n",
       "1        2021-06-10T06:00:03.2454369\n",
       "2        2022-11-17T15:21:11.6318690\n",
       "3        2022-11-17T15:23:13.0365554\n",
       "4        2021-06-08T12:08:59.6341142\n",
       "                    ...             \n",
       "34817    2023-08-14T06:10:30.3595741\n",
       "34818    2023-08-14T15:21:07.9809500\n",
       "34819    2023-08-15T11:17:05.9444194\n",
       "34820    2023-08-15T11:22:27.7088818\n",
       "34821    2023-08-15T11:25:08.9601000\n",
       "Name: DatumLetzteAktualisierung, Length: 34822, dtype: object"
      ]
     },
     "execution_count": 244,
     "metadata": {},
     "output_type": "execute_result"
    }
   ],
   "source": [
    "df_xml['DatumLetzteAktualisierung']"
   ]
  },
  {
   "cell_type": "code",
   "execution_count": 194,
   "id": "9210a6b8-5582-4318-bc6f-61e4c9163aa3",
   "metadata": {
    "tags": []
   },
   "outputs": [
    {
     "data": {
      "text/plain": [
       "EinheitMastrNummer                        0\n",
       "DatumLetzteAktualisierung                 0\n",
       "NetzbetreiberpruefungStatus               0\n",
       "Land                                      0\n",
       "Bundesland                                0\n",
       "Postleitzahl                           1785\n",
       "Ort                                    1785\n",
       "Laengengrad                             915\n",
       "Breitengrad                             915\n",
       "Registrierungsdatum                       0\n",
       "Inbetriebnahmedatum                    2614\n",
       "EinheitSystemstatus                       0\n",
       "EinheitBetriebsstatus                     0\n",
       "NameStromerzeugungseinheit                0\n",
       "Energietraeger                            0\n",
       "Bruttoleistung                            0\n",
       "Nettonennleistung                         0\n",
       "AnschlussAnHoechstOderHochSpannung    10511\n",
       "Einspeisungsart                         655\n",
       "NameWindpark                            817\n",
       "Lage                                      1\n",
       "Hersteller                              455\n",
       "Technologie                               0\n",
       "Typenbezeichnung                        472\n",
       "Nabenhoehe                              866\n",
       "Rotordurchmesser                        458\n",
       "Rotorblattenteisungssystem             8832\n",
       "dtype: int64"
      ]
     },
     "execution_count": 194,
     "metadata": {},
     "output_type": "execute_result"
    }
   ],
   "source": [
    "df_xml.isna().sum()[:60]"
   ]
  },
  {
   "cell_type": "code",
   "execution_count": null,
   "id": "617c024f-e640-40a4-9947-b106ab0b2111",
   "metadata": {},
   "outputs": [],
   "source": []
  },
  {
   "cell_type": "code",
   "execution_count": 196,
   "id": "a5162a6a-dff6-44a3-92ec-f82fe49765fd",
   "metadata": {
    "tags": []
   },
   "outputs": [],
   "source": [
    "# Convert date features to datetime objects\n",
    "df_xml['Registrierungsdatum'] = pd.to_datetime(df_xml['Registrierungsdatum'])\n",
    "df_xml['Inbetriebnahmedatum'] = pd.to_datetime(df_xml['Inbetriebnahmedatum'])"
   ]
  },
  {
   "cell_type": "code",
   "execution_count": 237,
   "id": "aab1b009-dca1-466d-808f-5234aeaf3795",
   "metadata": {
    "tags": []
   },
   "outputs": [
    {
     "data": {
      "text/plain": [
       "Timestamp('2023-08-15 00:00:00')"
      ]
     },
     "execution_count": 237,
     "metadata": {},
     "output_type": "execute_result"
    }
   ],
   "source": [
    "df_xml['Registrierungsdatum'].max()"
   ]
  },
  {
   "cell_type": "code",
   "execution_count": 198,
   "id": "c648eae9-344c-4111-8737-89d71c9a7dcd",
   "metadata": {
    "tags": []
   },
   "outputs": [
    {
     "data": {
      "text/plain": [
       "Timestamp('2023-08-11 00:00:00')"
      ]
     },
     "execution_count": 198,
     "metadata": {},
     "output_type": "execute_result"
    }
   ],
   "source": [
    "df_xml['Inbetriebnahmedatum'].max()"
   ]
  },
  {
   "cell_type": "code",
   "execution_count": 199,
   "id": "c25ada2f-f073-427b-b975-5b6ff3717952",
   "metadata": {
    "tags": []
   },
   "outputs": [
    {
     "data": {
      "text/html": [
       "<div>\n",
       "<style scoped>\n",
       "    .dataframe tbody tr th:only-of-type {\n",
       "        vertical-align: middle;\n",
       "    }\n",
       "\n",
       "    .dataframe tbody tr th {\n",
       "        vertical-align: top;\n",
       "    }\n",
       "\n",
       "    .dataframe thead th {\n",
       "        text-align: right;\n",
       "    }\n",
       "</style>\n",
       "<table border=\"1\" class=\"dataframe\">\n",
       "  <thead>\n",
       "    <tr style=\"text-align: right;\">\n",
       "      <th></th>\n",
       "      <th>EinheitMastrNummer</th>\n",
       "      <th>DatumLetzteAktualisierung</th>\n",
       "      <th>NetzbetreiberpruefungStatus</th>\n",
       "      <th>Land</th>\n",
       "      <th>Bundesland</th>\n",
       "      <th>Postleitzahl</th>\n",
       "      <th>Ort</th>\n",
       "      <th>Laengengrad</th>\n",
       "      <th>Breitengrad</th>\n",
       "      <th>Registrierungsdatum</th>\n",
       "      <th>Inbetriebnahmedatum</th>\n",
       "      <th>EinheitSystemstatus</th>\n",
       "      <th>EinheitBetriebsstatus</th>\n",
       "      <th>NameStromerzeugungseinheit</th>\n",
       "      <th>Energietraeger</th>\n",
       "      <th>Bruttoleistung</th>\n",
       "      <th>Nettonennleistung</th>\n",
       "      <th>AnschlussAnHoechstOderHochSpannung</th>\n",
       "      <th>Einspeisungsart</th>\n",
       "      <th>NameWindpark</th>\n",
       "      <th>Lage</th>\n",
       "      <th>Hersteller</th>\n",
       "      <th>Technologie</th>\n",
       "      <th>Typenbezeichnung</th>\n",
       "      <th>Nabenhoehe</th>\n",
       "      <th>Rotordurchmesser</th>\n",
       "      <th>Rotorblattenteisungssystem</th>\n",
       "    </tr>\n",
       "  </thead>\n",
       "  <tbody>\n",
       "    <tr>\n",
       "      <th>1685</th>\n",
       "      <td>SEE975170447927</td>\n",
       "      <td>2023-06-05T05:58:55.1067901</td>\n",
       "      <td>1</td>\n",
       "      <td>84</td>\n",
       "      <td>1411</td>\n",
       "      <td>25873.0</td>\n",
       "      <td>Rantrum</td>\n",
       "      <td>9.143211</td>\n",
       "      <td>54.460563</td>\n",
       "      <td>2023-05-31</td>\n",
       "      <td>2023-05-26</td>\n",
       "      <td>472</td>\n",
       "      <td>35</td>\n",
       "      <td>WEA4 S/N:91095</td>\n",
       "      <td>2497</td>\n",
       "      <td>3600.0</td>\n",
       "      <td>3600.0</td>\n",
       "      <td>NaN</td>\n",
       "      <td>688.0</td>\n",
       "      <td>WKN Windkraft Nord GmbH ＆ Co. Bürgerwindpark R...</td>\n",
       "      <td>888.0</td>\n",
       "      <td>1628.0</td>\n",
       "      <td>691</td>\n",
       "      <td>N117/3600 Delta</td>\n",
       "      <td>91.00</td>\n",
       "      <td>117.0</td>\n",
       "      <td>0.0</td>\n",
       "    </tr>\n",
       "    <tr>\n",
       "      <th>1688</th>\n",
       "      <td>SEE926215262302</td>\n",
       "      <td>2023-06-05T06:01:39.2518424</td>\n",
       "      <td>1</td>\n",
       "      <td>84</td>\n",
       "      <td>1411</td>\n",
       "      <td>25873.0</td>\n",
       "      <td>Rantrum</td>\n",
       "      <td>9.148074</td>\n",
       "      <td>54.459411</td>\n",
       "      <td>2023-05-31</td>\n",
       "      <td>2023-05-26</td>\n",
       "      <td>472</td>\n",
       "      <td>35</td>\n",
       "      <td>WEA 5 S/N:91096</td>\n",
       "      <td>2497</td>\n",
       "      <td>3600.0</td>\n",
       "      <td>3600.0</td>\n",
       "      <td>NaN</td>\n",
       "      <td>688.0</td>\n",
       "      <td>WKN Windkraft Nord GmbH ＆ Co. Bürgerwindpark R...</td>\n",
       "      <td>888.0</td>\n",
       "      <td>1628.0</td>\n",
       "      <td>691</td>\n",
       "      <td>N117/3600 Delta</td>\n",
       "      <td>91.00</td>\n",
       "      <td>117.0</td>\n",
       "      <td>0.0</td>\n",
       "    </tr>\n",
       "    <tr>\n",
       "      <th>5107</th>\n",
       "      <td>SEE955521878440</td>\n",
       "      <td>2023-06-29T08:00:53.0813624</td>\n",
       "      <td>0</td>\n",
       "      <td>84</td>\n",
       "      <td>1410</td>\n",
       "      <td>55566.0</td>\n",
       "      <td>Bad Sobernheim</td>\n",
       "      <td>7.602946</td>\n",
       "      <td>49.849647</td>\n",
       "      <td>2023-06-29</td>\n",
       "      <td>2023-06-16</td>\n",
       "      <td>472</td>\n",
       "      <td>35</td>\n",
       "      <td>WKA4</td>\n",
       "      <td>2497</td>\n",
       "      <td>3600.0</td>\n",
       "      <td>3600.0</td>\n",
       "      <td>NaN</td>\n",
       "      <td>688.0</td>\n",
       "      <td>Windpark Pferdsfeld GmbH ＆ Co. KG</td>\n",
       "      <td>888.0</td>\n",
       "      <td>1660.0</td>\n",
       "      <td>691</td>\n",
       "      <td>V126</td>\n",
       "      <td>137.00</td>\n",
       "      <td>126.0</td>\n",
       "      <td>0.0</td>\n",
       "    </tr>\n",
       "    <tr>\n",
       "      <th>5117</th>\n",
       "      <td>SEE950233151997</td>\n",
       "      <td>2023-06-29T08:09:06.0825624</td>\n",
       "      <td>0</td>\n",
       "      <td>84</td>\n",
       "      <td>1410</td>\n",
       "      <td>55566.0</td>\n",
       "      <td>Bad Sobernheim</td>\n",
       "      <td>7.607844</td>\n",
       "      <td>49.847682</td>\n",
       "      <td>2023-06-29</td>\n",
       "      <td>2023-06-19</td>\n",
       "      <td>472</td>\n",
       "      <td>35</td>\n",
       "      <td>WKA5</td>\n",
       "      <td>2497</td>\n",
       "      <td>3600.0</td>\n",
       "      <td>3600.0</td>\n",
       "      <td>NaN</td>\n",
       "      <td>688.0</td>\n",
       "      <td>Windpark Pferdsfeld GmbH ＆ Co. KG</td>\n",
       "      <td>888.0</td>\n",
       "      <td>1660.0</td>\n",
       "      <td>691</td>\n",
       "      <td>V126</td>\n",
       "      <td>137.00</td>\n",
       "      <td>126.0</td>\n",
       "      <td>0.0</td>\n",
       "    </tr>\n",
       "    <tr>\n",
       "      <th>5118</th>\n",
       "      <td>SEE952710494641</td>\n",
       "      <td>2023-06-29T08:21:05.6945451</td>\n",
       "      <td>0</td>\n",
       "      <td>84</td>\n",
       "      <td>1410</td>\n",
       "      <td>55566.0</td>\n",
       "      <td>Bad Sobernheim</td>\n",
       "      <td>7.612018</td>\n",
       "      <td>49.845196</td>\n",
       "      <td>2023-06-29</td>\n",
       "      <td>2023-06-20</td>\n",
       "      <td>472</td>\n",
       "      <td>35</td>\n",
       "      <td>WKA6</td>\n",
       "      <td>2497</td>\n",
       "      <td>3600.0</td>\n",
       "      <td>3600.0</td>\n",
       "      <td>NaN</td>\n",
       "      <td>688.0</td>\n",
       "      <td>Windpark Pferdsfeld GmbH ＆ Co. KG</td>\n",
       "      <td>888.0</td>\n",
       "      <td>1660.0</td>\n",
       "      <td>691</td>\n",
       "      <td>V126</td>\n",
       "      <td>137.00</td>\n",
       "      <td>126.0</td>\n",
       "      <td>0.0</td>\n",
       "    </tr>\n",
       "    <tr>\n",
       "      <th>...</th>\n",
       "      <td>...</td>\n",
       "      <td>...</td>\n",
       "      <td>...</td>\n",
       "      <td>...</td>\n",
       "      <td>...</td>\n",
       "      <td>...</td>\n",
       "      <td>...</td>\n",
       "      <td>...</td>\n",
       "      <td>...</td>\n",
       "      <td>...</td>\n",
       "      <td>...</td>\n",
       "      <td>...</td>\n",
       "      <td>...</td>\n",
       "      <td>...</td>\n",
       "      <td>...</td>\n",
       "      <td>...</td>\n",
       "      <td>...</td>\n",
       "      <td>...</td>\n",
       "      <td>...</td>\n",
       "      <td>...</td>\n",
       "      <td>...</td>\n",
       "      <td>...</td>\n",
       "      <td>...</td>\n",
       "      <td>...</td>\n",
       "      <td>...</td>\n",
       "      <td>...</td>\n",
       "      <td>...</td>\n",
       "    </tr>\n",
       "    <tr>\n",
       "      <th>34817</th>\n",
       "      <td>SEE978152216962</td>\n",
       "      <td>2023-08-14T06:10:30.3595741</td>\n",
       "      <td>0</td>\n",
       "      <td>84</td>\n",
       "      <td>1407</td>\n",
       "      <td>17179.0</td>\n",
       "      <td>Altkalen</td>\n",
       "      <td>NaN</td>\n",
       "      <td>NaN</td>\n",
       "      <td>2023-08-14</td>\n",
       "      <td>NaT</td>\n",
       "      <td>472</td>\n",
       "      <td>31</td>\n",
       "      <td>KWKA Gartengrundstück</td>\n",
       "      <td>2497</td>\n",
       "      <td>9.0</td>\n",
       "      <td>9.0</td>\n",
       "      <td>NaN</td>\n",
       "      <td>689.0</td>\n",
       "      <td>None</td>\n",
       "      <td>888.0</td>\n",
       "      <td>NaN</td>\n",
       "      <td>691</td>\n",
       "      <td>None</td>\n",
       "      <td>9.40</td>\n",
       "      <td>1.2</td>\n",
       "      <td>0.0</td>\n",
       "    </tr>\n",
       "    <tr>\n",
       "      <th>34818</th>\n",
       "      <td>SEE967691011046</td>\n",
       "      <td>2023-08-14T15:21:07.9809500</td>\n",
       "      <td>0</td>\n",
       "      <td>84</td>\n",
       "      <td>1411</td>\n",
       "      <td>25885.0</td>\n",
       "      <td>Oster-Ohrstedt</td>\n",
       "      <td>9.259148</td>\n",
       "      <td>54.511655</td>\n",
       "      <td>2023-08-14</td>\n",
       "      <td>2023-06-23</td>\n",
       "      <td>472</td>\n",
       "      <td>35</td>\n",
       "      <td>WPND E138 Niedamm</td>\n",
       "      <td>2497</td>\n",
       "      <td>4200.0</td>\n",
       "      <td>4200.0</td>\n",
       "      <td>NaN</td>\n",
       "      <td>688.0</td>\n",
       "      <td>None</td>\n",
       "      <td>888.0</td>\n",
       "      <td>1586.0</td>\n",
       "      <td>691</td>\n",
       "      <td>E-138 EP3 E2</td>\n",
       "      <td>110.13</td>\n",
       "      <td>138.3</td>\n",
       "      <td>0.0</td>\n",
       "    </tr>\n",
       "    <tr>\n",
       "      <th>34819</th>\n",
       "      <td>SEE920327281343</td>\n",
       "      <td>2023-08-15T11:17:05.9444194</td>\n",
       "      <td>0</td>\n",
       "      <td>84</td>\n",
       "      <td>1411</td>\n",
       "      <td>23730.0</td>\n",
       "      <td>Schashagen</td>\n",
       "      <td>10.875615</td>\n",
       "      <td>54.155561</td>\n",
       "      <td>2023-08-15</td>\n",
       "      <td>NaT</td>\n",
       "      <td>472</td>\n",
       "      <td>31</td>\n",
       "      <td>WKA 2</td>\n",
       "      <td>2497</td>\n",
       "      <td>5700.0</td>\n",
       "      <td>5700.0</td>\n",
       "      <td>NaN</td>\n",
       "      <td>688.0</td>\n",
       "      <td>WKA 2</td>\n",
       "      <td>888.0</td>\n",
       "      <td>1627.0</td>\n",
       "      <td>691</td>\n",
       "      <td>N149/5,7</td>\n",
       "      <td>105.00</td>\n",
       "      <td>149.0</td>\n",
       "      <td>NaN</td>\n",
       "    </tr>\n",
       "    <tr>\n",
       "      <th>34820</th>\n",
       "      <td>SEE941503412955</td>\n",
       "      <td>2023-08-15T11:22:27.7088818</td>\n",
       "      <td>0</td>\n",
       "      <td>84</td>\n",
       "      <td>1411</td>\n",
       "      <td>23730.0</td>\n",
       "      <td>Schashagen</td>\n",
       "      <td>10.881678</td>\n",
       "      <td>54.153156</td>\n",
       "      <td>2023-08-15</td>\n",
       "      <td>NaT</td>\n",
       "      <td>472</td>\n",
       "      <td>31</td>\n",
       "      <td>WKA 3</td>\n",
       "      <td>2497</td>\n",
       "      <td>5700.0</td>\n",
       "      <td>5700.0</td>\n",
       "      <td>NaN</td>\n",
       "      <td>688.0</td>\n",
       "      <td>WKA 3</td>\n",
       "      <td>888.0</td>\n",
       "      <td>1627.0</td>\n",
       "      <td>691</td>\n",
       "      <td>N149/5,7</td>\n",
       "      <td>105.00</td>\n",
       "      <td>149.0</td>\n",
       "      <td>NaN</td>\n",
       "    </tr>\n",
       "    <tr>\n",
       "      <th>34821</th>\n",
       "      <td>SEE971687590170</td>\n",
       "      <td>2023-08-15T11:25:08.9601000</td>\n",
       "      <td>0</td>\n",
       "      <td>84</td>\n",
       "      <td>1411</td>\n",
       "      <td>23730.0</td>\n",
       "      <td>Schashagen</td>\n",
       "      <td>10.876065</td>\n",
       "      <td>54.152318</td>\n",
       "      <td>2023-08-15</td>\n",
       "      <td>NaT</td>\n",
       "      <td>472</td>\n",
       "      <td>31</td>\n",
       "      <td>WKA 4</td>\n",
       "      <td>2497</td>\n",
       "      <td>3600.0</td>\n",
       "      <td>3600.0</td>\n",
       "      <td>NaN</td>\n",
       "      <td>688.0</td>\n",
       "      <td>WKA 4</td>\n",
       "      <td>888.0</td>\n",
       "      <td>1627.0</td>\n",
       "      <td>691</td>\n",
       "      <td>N117/3,6</td>\n",
       "      <td>91.00</td>\n",
       "      <td>117.0</td>\n",
       "      <td>NaN</td>\n",
       "    </tr>\n",
       "  </tbody>\n",
       "</table>\n",
       "<p>533 rows × 27 columns</p>\n",
       "</div>"
      ],
      "text/plain": [
       "      EinheitMastrNummer    DatumLetzteAktualisierung  \\\n",
       "1685     SEE975170447927  2023-06-05T05:58:55.1067901   \n",
       "1688     SEE926215262302  2023-06-05T06:01:39.2518424   \n",
       "5107     SEE955521878440  2023-06-29T08:00:53.0813624   \n",
       "5117     SEE950233151997  2023-06-29T08:09:06.0825624   \n",
       "5118     SEE952710494641  2023-06-29T08:21:05.6945451   \n",
       "...                  ...                          ...   \n",
       "34817    SEE978152216962  2023-08-14T06:10:30.3595741   \n",
       "34818    SEE967691011046  2023-08-14T15:21:07.9809500   \n",
       "34819    SEE920327281343  2023-08-15T11:17:05.9444194   \n",
       "34820    SEE941503412955  2023-08-15T11:22:27.7088818   \n",
       "34821    SEE971687590170  2023-08-15T11:25:08.9601000   \n",
       "\n",
       "       NetzbetreiberpruefungStatus  Land  Bundesland  Postleitzahl  \\\n",
       "1685                             1    84        1411       25873.0   \n",
       "1688                             1    84        1411       25873.0   \n",
       "5107                             0    84        1410       55566.0   \n",
       "5117                             0    84        1410       55566.0   \n",
       "5118                             0    84        1410       55566.0   \n",
       "...                            ...   ...         ...           ...   \n",
       "34817                            0    84        1407       17179.0   \n",
       "34818                            0    84        1411       25885.0   \n",
       "34819                            0    84        1411       23730.0   \n",
       "34820                            0    84        1411       23730.0   \n",
       "34821                            0    84        1411       23730.0   \n",
       "\n",
       "                  Ort  Laengengrad  Breitengrad Registrierungsdatum  \\\n",
       "1685          Rantrum     9.143211    54.460563          2023-05-31   \n",
       "1688          Rantrum     9.148074    54.459411          2023-05-31   \n",
       "5107   Bad Sobernheim     7.602946    49.849647          2023-06-29   \n",
       "5117   Bad Sobernheim     7.607844    49.847682          2023-06-29   \n",
       "5118   Bad Sobernheim     7.612018    49.845196          2023-06-29   \n",
       "...               ...          ...          ...                 ...   \n",
       "34817        Altkalen          NaN          NaN          2023-08-14   \n",
       "34818  Oster-Ohrstedt     9.259148    54.511655          2023-08-14   \n",
       "34819      Schashagen    10.875615    54.155561          2023-08-15   \n",
       "34820      Schashagen    10.881678    54.153156          2023-08-15   \n",
       "34821      Schashagen    10.876065    54.152318          2023-08-15   \n",
       "\n",
       "      Inbetriebnahmedatum  EinheitSystemstatus  EinheitBetriebsstatus  \\\n",
       "1685           2023-05-26                  472                     35   \n",
       "1688           2023-05-26                  472                     35   \n",
       "5107           2023-06-16                  472                     35   \n",
       "5117           2023-06-19                  472                     35   \n",
       "5118           2023-06-20                  472                     35   \n",
       "...                   ...                  ...                    ...   \n",
       "34817                 NaT                  472                     31   \n",
       "34818          2023-06-23                  472                     35   \n",
       "34819                 NaT                  472                     31   \n",
       "34820                 NaT                  472                     31   \n",
       "34821                 NaT                  472                     31   \n",
       "\n",
       "      NameStromerzeugungseinheit  Energietraeger  Bruttoleistung  \\\n",
       "1685              WEA4 S/N:91095            2497          3600.0   \n",
       "1688             WEA 5 S/N:91096            2497          3600.0   \n",
       "5107                        WKA4            2497          3600.0   \n",
       "5117                        WKA5            2497          3600.0   \n",
       "5118                        WKA6            2497          3600.0   \n",
       "...                          ...             ...             ...   \n",
       "34817      KWKA Gartengrundstück            2497             9.0   \n",
       "34818          WPND E138 Niedamm            2497          4200.0   \n",
       "34819                      WKA 2            2497          5700.0   \n",
       "34820                      WKA 3            2497          5700.0   \n",
       "34821                      WKA 4            2497          3600.0   \n",
       "\n",
       "       Nettonennleistung  AnschlussAnHoechstOderHochSpannung  Einspeisungsart  \\\n",
       "1685              3600.0                                 NaN            688.0   \n",
       "1688              3600.0                                 NaN            688.0   \n",
       "5107              3600.0                                 NaN            688.0   \n",
       "5117              3600.0                                 NaN            688.0   \n",
       "5118              3600.0                                 NaN            688.0   \n",
       "...                  ...                                 ...              ...   \n",
       "34817                9.0                                 NaN            689.0   \n",
       "34818             4200.0                                 NaN            688.0   \n",
       "34819             5700.0                                 NaN            688.0   \n",
       "34820             5700.0                                 NaN            688.0   \n",
       "34821             3600.0                                 NaN            688.0   \n",
       "\n",
       "                                            NameWindpark   Lage  Hersteller  \\\n",
       "1685   WKN Windkraft Nord GmbH ＆ Co. Bürgerwindpark R...  888.0      1628.0   \n",
       "1688   WKN Windkraft Nord GmbH ＆ Co. Bürgerwindpark R...  888.0      1628.0   \n",
       "5107                   Windpark Pferdsfeld GmbH ＆ Co. KG  888.0      1660.0   \n",
       "5117                   Windpark Pferdsfeld GmbH ＆ Co. KG  888.0      1660.0   \n",
       "5118                   Windpark Pferdsfeld GmbH ＆ Co. KG  888.0      1660.0   \n",
       "...                                                  ...    ...         ...   \n",
       "34817                                               None  888.0         NaN   \n",
       "34818                                               None  888.0      1586.0   \n",
       "34819                                              WKA 2  888.0      1627.0   \n",
       "34820                                              WKA 3  888.0      1627.0   \n",
       "34821                                              WKA 4  888.0      1627.0   \n",
       "\n",
       "       Technologie Typenbezeichnung  Nabenhoehe  Rotordurchmesser  \\\n",
       "1685           691  N117/3600 Delta       91.00             117.0   \n",
       "1688           691  N117/3600 Delta       91.00             117.0   \n",
       "5107           691             V126      137.00             126.0   \n",
       "5117           691             V126      137.00             126.0   \n",
       "5118           691             V126      137.00             126.0   \n",
       "...            ...              ...         ...               ...   \n",
       "34817          691             None        9.40               1.2   \n",
       "34818          691     E-138 EP3 E2      110.13             138.3   \n",
       "34819          691         N149/5,7      105.00             149.0   \n",
       "34820          691         N149/5,7      105.00             149.0   \n",
       "34821          691         N117/3,6       91.00             117.0   \n",
       "\n",
       "       Rotorblattenteisungssystem  \n",
       "1685                          0.0  \n",
       "1688                          0.0  \n",
       "5107                          0.0  \n",
       "5117                          0.0  \n",
       "5118                          0.0  \n",
       "...                           ...  \n",
       "34817                         0.0  \n",
       "34818                         0.0  \n",
       "34819                         NaN  \n",
       "34820                         NaN  \n",
       "34821                         NaN  \n",
       "\n",
       "[533 rows x 27 columns]"
      ]
     },
     "execution_count": 199,
     "metadata": {},
     "output_type": "execute_result"
    }
   ],
   "source": [
    "df_xml[df_xml['Registrierungsdatum'] > pd.to_datetime('2023-05-26')]"
   ]
  },
  {
   "cell_type": "code",
   "execution_count": 200,
   "id": "7ea0c47f-4ab8-4437-a1ef-0463688c63d2",
   "metadata": {
    "tags": []
   },
   "outputs": [
    {
     "data": {
      "text/html": [
       "<div>\n",
       "<style scoped>\n",
       "    .dataframe tbody tr th:only-of-type {\n",
       "        vertical-align: middle;\n",
       "    }\n",
       "\n",
       "    .dataframe tbody tr th {\n",
       "        vertical-align: top;\n",
       "    }\n",
       "\n",
       "    .dataframe thead th {\n",
       "        text-align: right;\n",
       "    }\n",
       "</style>\n",
       "<table border=\"1\" class=\"dataframe\">\n",
       "  <thead>\n",
       "    <tr style=\"text-align: right;\">\n",
       "      <th></th>\n",
       "      <th>EinheitMastrNummer</th>\n",
       "      <th>DatumLetzteAktualisierung</th>\n",
       "      <th>NetzbetreiberpruefungStatus</th>\n",
       "      <th>Land</th>\n",
       "      <th>Bundesland</th>\n",
       "      <th>Postleitzahl</th>\n",
       "      <th>Ort</th>\n",
       "      <th>Laengengrad</th>\n",
       "      <th>Breitengrad</th>\n",
       "      <th>Registrierungsdatum</th>\n",
       "      <th>Inbetriebnahmedatum</th>\n",
       "      <th>EinheitSystemstatus</th>\n",
       "      <th>EinheitBetriebsstatus</th>\n",
       "      <th>NameStromerzeugungseinheit</th>\n",
       "      <th>Energietraeger</th>\n",
       "      <th>Bruttoleistung</th>\n",
       "      <th>Nettonennleistung</th>\n",
       "      <th>AnschlussAnHoechstOderHochSpannung</th>\n",
       "      <th>Einspeisungsart</th>\n",
       "      <th>NameWindpark</th>\n",
       "      <th>Lage</th>\n",
       "      <th>Hersteller</th>\n",
       "      <th>Technologie</th>\n",
       "      <th>Typenbezeichnung</th>\n",
       "      <th>Nabenhoehe</th>\n",
       "      <th>Rotordurchmesser</th>\n",
       "      <th>Rotorblattenteisungssystem</th>\n",
       "    </tr>\n",
       "  </thead>\n",
       "  <tbody>\n",
       "    <tr>\n",
       "      <th>5107</th>\n",
       "      <td>SEE955521878440</td>\n",
       "      <td>2023-06-29T08:00:53.0813624</td>\n",
       "      <td>0</td>\n",
       "      <td>84</td>\n",
       "      <td>1410</td>\n",
       "      <td>55566.0</td>\n",
       "      <td>Bad Sobernheim</td>\n",
       "      <td>7.602946</td>\n",
       "      <td>49.849647</td>\n",
       "      <td>2023-06-29</td>\n",
       "      <td>2023-06-16</td>\n",
       "      <td>472</td>\n",
       "      <td>35</td>\n",
       "      <td>WKA4</td>\n",
       "      <td>2497</td>\n",
       "      <td>3600.0</td>\n",
       "      <td>3600.0</td>\n",
       "      <td>NaN</td>\n",
       "      <td>688.0</td>\n",
       "      <td>Windpark Pferdsfeld GmbH ＆ Co. KG</td>\n",
       "      <td>888.0</td>\n",
       "      <td>1660.0</td>\n",
       "      <td>691</td>\n",
       "      <td>V126</td>\n",
       "      <td>137.00</td>\n",
       "      <td>126.00</td>\n",
       "      <td>0.0</td>\n",
       "    </tr>\n",
       "    <tr>\n",
       "      <th>5117</th>\n",
       "      <td>SEE950233151997</td>\n",
       "      <td>2023-06-29T08:09:06.0825624</td>\n",
       "      <td>0</td>\n",
       "      <td>84</td>\n",
       "      <td>1410</td>\n",
       "      <td>55566.0</td>\n",
       "      <td>Bad Sobernheim</td>\n",
       "      <td>7.607844</td>\n",
       "      <td>49.847682</td>\n",
       "      <td>2023-06-29</td>\n",
       "      <td>2023-06-19</td>\n",
       "      <td>472</td>\n",
       "      <td>35</td>\n",
       "      <td>WKA5</td>\n",
       "      <td>2497</td>\n",
       "      <td>3600.0</td>\n",
       "      <td>3600.0</td>\n",
       "      <td>NaN</td>\n",
       "      <td>688.0</td>\n",
       "      <td>Windpark Pferdsfeld GmbH ＆ Co. KG</td>\n",
       "      <td>888.0</td>\n",
       "      <td>1660.0</td>\n",
       "      <td>691</td>\n",
       "      <td>V126</td>\n",
       "      <td>137.00</td>\n",
       "      <td>126.00</td>\n",
       "      <td>0.0</td>\n",
       "    </tr>\n",
       "    <tr>\n",
       "      <th>5118</th>\n",
       "      <td>SEE952710494641</td>\n",
       "      <td>2023-06-29T08:21:05.6945451</td>\n",
       "      <td>0</td>\n",
       "      <td>84</td>\n",
       "      <td>1410</td>\n",
       "      <td>55566.0</td>\n",
       "      <td>Bad Sobernheim</td>\n",
       "      <td>7.612018</td>\n",
       "      <td>49.845196</td>\n",
       "      <td>2023-06-29</td>\n",
       "      <td>2023-06-20</td>\n",
       "      <td>472</td>\n",
       "      <td>35</td>\n",
       "      <td>WKA6</td>\n",
       "      <td>2497</td>\n",
       "      <td>3600.0</td>\n",
       "      <td>3600.0</td>\n",
       "      <td>NaN</td>\n",
       "      <td>688.0</td>\n",
       "      <td>Windpark Pferdsfeld GmbH ＆ Co. KG</td>\n",
       "      <td>888.0</td>\n",
       "      <td>1660.0</td>\n",
       "      <td>691</td>\n",
       "      <td>V126</td>\n",
       "      <td>137.00</td>\n",
       "      <td>126.00</td>\n",
       "      <td>0.0</td>\n",
       "    </tr>\n",
       "    <tr>\n",
       "      <th>5125</th>\n",
       "      <td>SEE907851137384</td>\n",
       "      <td>2023-06-29T08:36:11.1248886</td>\n",
       "      <td>0</td>\n",
       "      <td>84</td>\n",
       "      <td>1410</td>\n",
       "      <td>55566.0</td>\n",
       "      <td>Bad Sobernheim</td>\n",
       "      <td>7.600701</td>\n",
       "      <td>49.845510</td>\n",
       "      <td>2023-06-29</td>\n",
       "      <td>2023-06-16</td>\n",
       "      <td>472</td>\n",
       "      <td>35</td>\n",
       "      <td>WKA10</td>\n",
       "      <td>2497</td>\n",
       "      <td>3600.0</td>\n",
       "      <td>3600.0</td>\n",
       "      <td>NaN</td>\n",
       "      <td>688.0</td>\n",
       "      <td>Windpark Pferdsfeld GmbH ＆ Co. KG</td>\n",
       "      <td>888.0</td>\n",
       "      <td>1660.0</td>\n",
       "      <td>691</td>\n",
       "      <td>V126</td>\n",
       "      <td>137.00</td>\n",
       "      <td>126.00</td>\n",
       "      <td>0.0</td>\n",
       "    </tr>\n",
       "    <tr>\n",
       "      <th>12130</th>\n",
       "      <td>SEE906112027617</td>\n",
       "      <td>2023-07-03T13:02:45.3238496</td>\n",
       "      <td>0</td>\n",
       "      <td>84</td>\n",
       "      <td>1400</td>\n",
       "      <td>15848.0</td>\n",
       "      <td>Rietz-Neuendorf</td>\n",
       "      <td>14.238169</td>\n",
       "      <td>52.246903</td>\n",
       "      <td>2023-06-26</td>\n",
       "      <td>2023-06-22</td>\n",
       "      <td>472</td>\n",
       "      <td>35</td>\n",
       "      <td>Trianel Windpark Görzig WEA 1</td>\n",
       "      <td>2497</td>\n",
       "      <td>4500.0</td>\n",
       "      <td>4500.0</td>\n",
       "      <td>NaN</td>\n",
       "      <td>688.0</td>\n",
       "      <td>Trianel Windpark Görzig</td>\n",
       "      <td>888.0</td>\n",
       "      <td>1627.0</td>\n",
       "      <td>691</td>\n",
       "      <td>Nordex N149 4,0-4,5</td>\n",
       "      <td>164.00</td>\n",
       "      <td>149.10</td>\n",
       "      <td>0.0</td>\n",
       "    </tr>\n",
       "    <tr>\n",
       "      <th>...</th>\n",
       "      <td>...</td>\n",
       "      <td>...</td>\n",
       "      <td>...</td>\n",
       "      <td>...</td>\n",
       "      <td>...</td>\n",
       "      <td>...</td>\n",
       "      <td>...</td>\n",
       "      <td>...</td>\n",
       "      <td>...</td>\n",
       "      <td>...</td>\n",
       "      <td>...</td>\n",
       "      <td>...</td>\n",
       "      <td>...</td>\n",
       "      <td>...</td>\n",
       "      <td>...</td>\n",
       "      <td>...</td>\n",
       "      <td>...</td>\n",
       "      <td>...</td>\n",
       "      <td>...</td>\n",
       "      <td>...</td>\n",
       "      <td>...</td>\n",
       "      <td>...</td>\n",
       "      <td>...</td>\n",
       "      <td>...</td>\n",
       "      <td>...</td>\n",
       "      <td>...</td>\n",
       "      <td>...</td>\n",
       "    </tr>\n",
       "    <tr>\n",
       "      <th>34783</th>\n",
       "      <td>SEE908565931909</td>\n",
       "      <td>2023-07-21T14:23:14.2485431</td>\n",
       "      <td>0</td>\n",
       "      <td>84</td>\n",
       "      <td>1400</td>\n",
       "      <td>15518.0</td>\n",
       "      <td>Steinhöfel</td>\n",
       "      <td>NaN</td>\n",
       "      <td>NaN</td>\n",
       "      <td>2023-07-21</td>\n",
       "      <td>2023-07-21</td>\n",
       "      <td>472</td>\n",
       "      <td>35</td>\n",
       "      <td>Wind3kW</td>\n",
       "      <td>2497</td>\n",
       "      <td>3.0</td>\n",
       "      <td>3.0</td>\n",
       "      <td>NaN</td>\n",
       "      <td>689.0</td>\n",
       "      <td>Wind3kW</td>\n",
       "      <td>888.0</td>\n",
       "      <td>2554.0</td>\n",
       "      <td>692</td>\n",
       "      <td>Makemu Windkraftanlage EOLO</td>\n",
       "      <td>NaN</td>\n",
       "      <td>1.30</td>\n",
       "      <td>0.0</td>\n",
       "    </tr>\n",
       "    <tr>\n",
       "      <th>34785</th>\n",
       "      <td>SEE956798989358</td>\n",
       "      <td>2023-07-20T14:35:15.1550198</td>\n",
       "      <td>0</td>\n",
       "      <td>84</td>\n",
       "      <td>1408</td>\n",
       "      <td>26487.0</td>\n",
       "      <td>Neuschoo</td>\n",
       "      <td>NaN</td>\n",
       "      <td>NaN</td>\n",
       "      <td>2023-07-20</td>\n",
       "      <td>2023-06-24</td>\n",
       "      <td>472</td>\n",
       "      <td>35</td>\n",
       "      <td>WEA Herfurth Neuschoo</td>\n",
       "      <td>2497</td>\n",
       "      <td>1.0</td>\n",
       "      <td>1.0</td>\n",
       "      <td>NaN</td>\n",
       "      <td>689.0</td>\n",
       "      <td>None</td>\n",
       "      <td>888.0</td>\n",
       "      <td>2902.0</td>\n",
       "      <td>691</td>\n",
       "      <td>SKYWIND NG</td>\n",
       "      <td>10.00</td>\n",
       "      <td>1.50</td>\n",
       "      <td>0.0</td>\n",
       "    </tr>\n",
       "    <tr>\n",
       "      <th>34792</th>\n",
       "      <td>SEE954029682818</td>\n",
       "      <td>2023-07-28T08:56:52.0971192</td>\n",
       "      <td>0</td>\n",
       "      <td>84</td>\n",
       "      <td>1408</td>\n",
       "      <td>31592.0</td>\n",
       "      <td>Stolzenau</td>\n",
       "      <td>9.000000</td>\n",
       "      <td>52.000000</td>\n",
       "      <td>2023-07-28</td>\n",
       "      <td>2023-07-28</td>\n",
       "      <td>472</td>\n",
       "      <td>35</td>\n",
       "      <td>Sky Wind NG</td>\n",
       "      <td>2497</td>\n",
       "      <td>600.0</td>\n",
       "      <td>600.0</td>\n",
       "      <td>NaN</td>\n",
       "      <td>689.0</td>\n",
       "      <td>Sky Wind NG</td>\n",
       "      <td>888.0</td>\n",
       "      <td>2902.0</td>\n",
       "      <td>692</td>\n",
       "      <td>HAWAT ,Leeläufer, Fahnenlos</td>\n",
       "      <td>NaN</td>\n",
       "      <td>1.58</td>\n",
       "      <td>0.0</td>\n",
       "    </tr>\n",
       "    <tr>\n",
       "      <th>34793</th>\n",
       "      <td>SEE974699041647</td>\n",
       "      <td>2023-07-31T10:12:18.9029448</td>\n",
       "      <td>0</td>\n",
       "      <td>84</td>\n",
       "      <td>1407</td>\n",
       "      <td>18225.0</td>\n",
       "      <td>Kühlungsborn</td>\n",
       "      <td>NaN</td>\n",
       "      <td>NaN</td>\n",
       "      <td>2023-07-31</td>\n",
       "      <td>2023-07-20</td>\n",
       "      <td>472</td>\n",
       "      <td>35</td>\n",
       "      <td>E105681</td>\n",
       "      <td>2497</td>\n",
       "      <td>7.5</td>\n",
       "      <td>7.5</td>\n",
       "      <td>NaN</td>\n",
       "      <td>689.0</td>\n",
       "      <td>99288</td>\n",
       "      <td>888.0</td>\n",
       "      <td>1582.0</td>\n",
       "      <td>691</td>\n",
       "      <td>ANTARIS 7,5 KW</td>\n",
       "      <td>9.80</td>\n",
       "      <td>5.30</td>\n",
       "      <td>NaN</td>\n",
       "    </tr>\n",
       "    <tr>\n",
       "      <th>34818</th>\n",
       "      <td>SEE967691011046</td>\n",
       "      <td>2023-08-14T15:21:07.9809500</td>\n",
       "      <td>0</td>\n",
       "      <td>84</td>\n",
       "      <td>1411</td>\n",
       "      <td>25885.0</td>\n",
       "      <td>Oster-Ohrstedt</td>\n",
       "      <td>9.259148</td>\n",
       "      <td>54.511655</td>\n",
       "      <td>2023-08-14</td>\n",
       "      <td>2023-06-23</td>\n",
       "      <td>472</td>\n",
       "      <td>35</td>\n",
       "      <td>WPND E138 Niedamm</td>\n",
       "      <td>2497</td>\n",
       "      <td>4200.0</td>\n",
       "      <td>4200.0</td>\n",
       "      <td>NaN</td>\n",
       "      <td>688.0</td>\n",
       "      <td>None</td>\n",
       "      <td>888.0</td>\n",
       "      <td>1586.0</td>\n",
       "      <td>691</td>\n",
       "      <td>E-138 EP3 E2</td>\n",
       "      <td>110.13</td>\n",
       "      <td>138.30</td>\n",
       "      <td>0.0</td>\n",
       "    </tr>\n",
       "  </tbody>\n",
       "</table>\n",
       "<p>183 rows × 27 columns</p>\n",
       "</div>"
      ],
      "text/plain": [
       "      EinheitMastrNummer    DatumLetzteAktualisierung  \\\n",
       "5107     SEE955521878440  2023-06-29T08:00:53.0813624   \n",
       "5117     SEE950233151997  2023-06-29T08:09:06.0825624   \n",
       "5118     SEE952710494641  2023-06-29T08:21:05.6945451   \n",
       "5125     SEE907851137384  2023-06-29T08:36:11.1248886   \n",
       "12130    SEE906112027617  2023-07-03T13:02:45.3238496   \n",
       "...                  ...                          ...   \n",
       "34783    SEE908565931909  2023-07-21T14:23:14.2485431   \n",
       "34785    SEE956798989358  2023-07-20T14:35:15.1550198   \n",
       "34792    SEE954029682818  2023-07-28T08:56:52.0971192   \n",
       "34793    SEE974699041647  2023-07-31T10:12:18.9029448   \n",
       "34818    SEE967691011046  2023-08-14T15:21:07.9809500   \n",
       "\n",
       "       NetzbetreiberpruefungStatus  Land  Bundesland  Postleitzahl  \\\n",
       "5107                             0    84        1410       55566.0   \n",
       "5117                             0    84        1410       55566.0   \n",
       "5118                             0    84        1410       55566.0   \n",
       "5125                             0    84        1410       55566.0   \n",
       "12130                            0    84        1400       15848.0   \n",
       "...                            ...   ...         ...           ...   \n",
       "34783                            0    84        1400       15518.0   \n",
       "34785                            0    84        1408       26487.0   \n",
       "34792                            0    84        1408       31592.0   \n",
       "34793                            0    84        1407       18225.0   \n",
       "34818                            0    84        1411       25885.0   \n",
       "\n",
       "                   Ort  Laengengrad  Breitengrad Registrierungsdatum  \\\n",
       "5107    Bad Sobernheim     7.602946    49.849647          2023-06-29   \n",
       "5117    Bad Sobernheim     7.607844    49.847682          2023-06-29   \n",
       "5118    Bad Sobernheim     7.612018    49.845196          2023-06-29   \n",
       "5125    Bad Sobernheim     7.600701    49.845510          2023-06-29   \n",
       "12130  Rietz-Neuendorf    14.238169    52.246903          2023-06-26   \n",
       "...                ...          ...          ...                 ...   \n",
       "34783       Steinhöfel          NaN          NaN          2023-07-21   \n",
       "34785         Neuschoo          NaN          NaN          2023-07-20   \n",
       "34792        Stolzenau     9.000000    52.000000          2023-07-28   \n",
       "34793     Kühlungsborn          NaN          NaN          2023-07-31   \n",
       "34818   Oster-Ohrstedt     9.259148    54.511655          2023-08-14   \n",
       "\n",
       "      Inbetriebnahmedatum  EinheitSystemstatus  EinheitBetriebsstatus  \\\n",
       "5107           2023-06-16                  472                     35   \n",
       "5117           2023-06-19                  472                     35   \n",
       "5118           2023-06-20                  472                     35   \n",
       "5125           2023-06-16                  472                     35   \n",
       "12130          2023-06-22                  472                     35   \n",
       "...                   ...                  ...                    ...   \n",
       "34783          2023-07-21                  472                     35   \n",
       "34785          2023-06-24                  472                     35   \n",
       "34792          2023-07-28                  472                     35   \n",
       "34793          2023-07-20                  472                     35   \n",
       "34818          2023-06-23                  472                     35   \n",
       "\n",
       "          NameStromerzeugungseinheit  Energietraeger  Bruttoleistung  \\\n",
       "5107                            WKA4            2497          3600.0   \n",
       "5117                            WKA5            2497          3600.0   \n",
       "5118                            WKA6            2497          3600.0   \n",
       "5125                           WKA10            2497          3600.0   \n",
       "12130  Trianel Windpark Görzig WEA 1            2497          4500.0   \n",
       "...                              ...             ...             ...   \n",
       "34783                        Wind3kW            2497             3.0   \n",
       "34785          WEA Herfurth Neuschoo            2497             1.0   \n",
       "34792                    Sky Wind NG            2497           600.0   \n",
       "34793                        E105681            2497             7.5   \n",
       "34818              WPND E138 Niedamm            2497          4200.0   \n",
       "\n",
       "       Nettonennleistung  AnschlussAnHoechstOderHochSpannung  Einspeisungsart  \\\n",
       "5107              3600.0                                 NaN            688.0   \n",
       "5117              3600.0                                 NaN            688.0   \n",
       "5118              3600.0                                 NaN            688.0   \n",
       "5125              3600.0                                 NaN            688.0   \n",
       "12130             4500.0                                 NaN            688.0   \n",
       "...                  ...                                 ...              ...   \n",
       "34783                3.0                                 NaN            689.0   \n",
       "34785                1.0                                 NaN            689.0   \n",
       "34792              600.0                                 NaN            689.0   \n",
       "34793                7.5                                 NaN            689.0   \n",
       "34818             4200.0                                 NaN            688.0   \n",
       "\n",
       "                            NameWindpark   Lage  Hersteller  Technologie  \\\n",
       "5107   Windpark Pferdsfeld GmbH ＆ Co. KG  888.0      1660.0          691   \n",
       "5117   Windpark Pferdsfeld GmbH ＆ Co. KG  888.0      1660.0          691   \n",
       "5118   Windpark Pferdsfeld GmbH ＆ Co. KG  888.0      1660.0          691   \n",
       "5125   Windpark Pferdsfeld GmbH ＆ Co. KG  888.0      1660.0          691   \n",
       "12130            Trianel Windpark Görzig  888.0      1627.0          691   \n",
       "...                                  ...    ...         ...          ...   \n",
       "34783                            Wind3kW  888.0      2554.0          692   \n",
       "34785                               None  888.0      2902.0          691   \n",
       "34792                        Sky Wind NG  888.0      2902.0          692   \n",
       "34793                              99288  888.0      1582.0          691   \n",
       "34818                               None  888.0      1586.0          691   \n",
       "\n",
       "                  Typenbezeichnung  Nabenhoehe  Rotordurchmesser  \\\n",
       "5107                          V126      137.00            126.00   \n",
       "5117                          V126      137.00            126.00   \n",
       "5118                          V126      137.00            126.00   \n",
       "5125                          V126      137.00            126.00   \n",
       "12130          Nordex N149 4,0-4,5      164.00            149.10   \n",
       "...                            ...         ...               ...   \n",
       "34783  Makemu Windkraftanlage EOLO         NaN              1.30   \n",
       "34785                   SKYWIND NG       10.00              1.50   \n",
       "34792  HAWAT ,Leeläufer, Fahnenlos         NaN              1.58   \n",
       "34793               ANTARIS 7,5 KW        9.80              5.30   \n",
       "34818                 E-138 EP3 E2      110.13            138.30   \n",
       "\n",
       "       Rotorblattenteisungssystem  \n",
       "5107                          0.0  \n",
       "5117                          0.0  \n",
       "5118                          0.0  \n",
       "5125                          0.0  \n",
       "12130                         0.0  \n",
       "...                           ...  \n",
       "34783                         0.0  \n",
       "34785                         0.0  \n",
       "34792                         0.0  \n",
       "34793                         NaN  \n",
       "34818                         0.0  \n",
       "\n",
       "[183 rows x 27 columns]"
      ]
     },
     "execution_count": 200,
     "metadata": {},
     "output_type": "execute_result"
    }
   ],
   "source": [
    "df_xml[df_xml['Inbetriebnahmedatum'] > pd.to_datetime('2023-05-26')]"
   ]
  },
  {
   "cell_type": "code",
   "execution_count": 201,
   "id": "ab24d29a-c858-486f-8e56-350ba0e1d277",
   "metadata": {
    "tags": []
   },
   "outputs": [
    {
     "data": {
      "text/plain": [
       "Energietraeger\n",
       "2497    34822\n",
       "Name: count, dtype: int64"
      ]
     },
     "execution_count": 201,
     "metadata": {},
     "output_type": "execute_result"
    }
   ],
   "source": [
    "df_xml['Energietraeger'].value_counts()"
   ]
  },
  {
   "cell_type": "code",
   "execution_count": 202,
   "id": "b82dadf3-2292-4be6-96c5-6430a7ea3655",
   "metadata": {
    "tags": []
   },
   "outputs": [
    {
     "data": {
      "text/plain": [
       "Land\n",
       "84    34822\n",
       "Name: count, dtype: int64"
      ]
     },
     "execution_count": 202,
     "metadata": {},
     "output_type": "execute_result"
    }
   ],
   "source": [
    "df_xml['Land'].value_counts()"
   ]
  },
  {
   "cell_type": "code",
   "execution_count": 203,
   "id": "2138cac9-241c-4fa4-b550-e298181f996b",
   "metadata": {
    "tags": []
   },
   "outputs": [
    {
     "data": {
      "text/plain": [
       "34822"
      ]
     },
     "execution_count": 203,
     "metadata": {},
     "output_type": "execute_result"
    }
   ],
   "source": [
    "df_xml['EinheitMastrNummer'].nunique()"
   ]
  },
  {
   "cell_type": "code",
   "execution_count": 14,
   "id": "05da3302-5731-467f-b5a8-28faff3f7f59",
   "metadata": {
    "tags": []
   },
   "outputs": [
    {
     "data": {
      "text/plain": [
       "Postleitzahl\n",
       "17291.0    414\n",
       "14913.0    244\n",
       "25821.0    224\n",
       "33165.0    208\n",
       "25764.0    180\n",
       "          ... \n",
       "79853.0      1\n",
       "6118.0       1\n",
       "97456.0      1\n",
       "97070.0      1\n",
       "83358.0      1\n",
       "Name: count, Length: 2850, dtype: int64"
      ]
     },
     "execution_count": 14,
     "metadata": {},
     "output_type": "execute_result"
    }
   ],
   "source": [
    "df_xml['Postleitzahl'].value_counts()"
   ]
  },
  {
   "cell_type": "code",
   "execution_count": 204,
   "id": "dc891a54-c475-4eac-a458-228bceb7543a",
   "metadata": {
    "tags": []
   },
   "outputs": [
    {
     "data": {
      "text/html": [
       "<div>\n",
       "<style scoped>\n",
       "    .dataframe tbody tr th:only-of-type {\n",
       "        vertical-align: middle;\n",
       "    }\n",
       "\n",
       "    .dataframe tbody tr th {\n",
       "        vertical-align: top;\n",
       "    }\n",
       "\n",
       "    .dataframe thead th {\n",
       "        text-align: right;\n",
       "    }\n",
       "</style>\n",
       "<table border=\"1\" class=\"dataframe\">\n",
       "  <thead>\n",
       "    <tr style=\"text-align: right;\">\n",
       "      <th></th>\n",
       "      <th>EinheitMastrNummer</th>\n",
       "      <th>DatumLetzteAktualisierung</th>\n",
       "      <th>NetzbetreiberpruefungStatus</th>\n",
       "      <th>Land</th>\n",
       "      <th>Bundesland</th>\n",
       "      <th>Postleitzahl</th>\n",
       "      <th>Ort</th>\n",
       "      <th>Laengengrad</th>\n",
       "      <th>Breitengrad</th>\n",
       "      <th>Registrierungsdatum</th>\n",
       "      <th>Inbetriebnahmedatum</th>\n",
       "      <th>EinheitSystemstatus</th>\n",
       "      <th>EinheitBetriebsstatus</th>\n",
       "      <th>NameStromerzeugungseinheit</th>\n",
       "      <th>Energietraeger</th>\n",
       "      <th>Bruttoleistung</th>\n",
       "      <th>Nettonennleistung</th>\n",
       "      <th>AnschlussAnHoechstOderHochSpannung</th>\n",
       "      <th>Einspeisungsart</th>\n",
       "      <th>NameWindpark</th>\n",
       "      <th>Lage</th>\n",
       "      <th>Hersteller</th>\n",
       "      <th>Technologie</th>\n",
       "      <th>Typenbezeichnung</th>\n",
       "      <th>Nabenhoehe</th>\n",
       "      <th>Rotordurchmesser</th>\n",
       "      <th>Rotorblattenteisungssystem</th>\n",
       "    </tr>\n",
       "  </thead>\n",
       "  <tbody>\n",
       "    <tr>\n",
       "      <th>29974</th>\n",
       "      <td>SEE923385950916</td>\n",
       "      <td>2021-01-29T15:02:46.7812352</td>\n",
       "      <td>1</td>\n",
       "      <td>84</td>\n",
       "      <td>1411</td>\n",
       "      <td>23758.0</td>\n",
       "      <td>Göhl</td>\n",
       "      <td>10.992841</td>\n",
       "      <td>54.276335</td>\n",
       "      <td>2021-01-15</td>\n",
       "      <td>2000-12-13</td>\n",
       "      <td>472</td>\n",
       "      <td>35</td>\n",
       "      <td>WEA Vestas 11200</td>\n",
       "      <td>2497</td>\n",
       "      <td>1650.0</td>\n",
       "      <td>1650.0</td>\n",
       "      <td>0.0</td>\n",
       "      <td>688.0</td>\n",
       "      <td>WP Christianstal</td>\n",
       "      <td>888.0</td>\n",
       "      <td>1660.0</td>\n",
       "      <td>691</td>\n",
       "      <td>Vestas V66</td>\n",
       "      <td>67.00</td>\n",
       "      <td>66.0</td>\n",
       "      <td>0.0</td>\n",
       "    </tr>\n",
       "    <tr>\n",
       "      <th>7671</th>\n",
       "      <td>SEE943011656883</td>\n",
       "      <td>2023-06-19T05:54:27.1918949</td>\n",
       "      <td>0</td>\n",
       "      <td>84</td>\n",
       "      <td>1405</td>\n",
       "      <td>34289.0</td>\n",
       "      <td>Zierenberg</td>\n",
       "      <td>9.229787</td>\n",
       "      <td>51.391404</td>\n",
       "      <td>2019-07-11</td>\n",
       "      <td>2018-07-26</td>\n",
       "      <td>472</td>\n",
       "      <td>35</td>\n",
       "      <td>WEA Z1</td>\n",
       "      <td>2497</td>\n",
       "      <td>2400.0</td>\n",
       "      <td>2400.0</td>\n",
       "      <td>0.0</td>\n",
       "      <td>688.0</td>\n",
       "      <td>Windpark Zierenberg</td>\n",
       "      <td>888.0</td>\n",
       "      <td>1627.0</td>\n",
       "      <td>691</td>\n",
       "      <td>N117-2,4MW</td>\n",
       "      <td>141.00</td>\n",
       "      <td>117.0</td>\n",
       "      <td>0.0</td>\n",
       "    </tr>\n",
       "    <tr>\n",
       "      <th>2539</th>\n",
       "      <td>SEE953064312100</td>\n",
       "      <td>2022-01-20T10:45:58.7428157</td>\n",
       "      <td>1</td>\n",
       "      <td>84</td>\n",
       "      <td>1400</td>\n",
       "      <td>16775.0</td>\n",
       "      <td>Löwenberger Land</td>\n",
       "      <td>13.282686</td>\n",
       "      <td>52.922250</td>\n",
       "      <td>2019-03-12</td>\n",
       "      <td>2019-03-08</td>\n",
       "      <td>472</td>\n",
       "      <td>35</td>\n",
       "      <td>Falkenthal 4 WEA 12-827329</td>\n",
       "      <td>2497</td>\n",
       "      <td>2300.0</td>\n",
       "      <td>2300.0</td>\n",
       "      <td>0.0</td>\n",
       "      <td>688.0</td>\n",
       "      <td>WP Falkenthal 4</td>\n",
       "      <td>888.0</td>\n",
       "      <td>1586.0</td>\n",
       "      <td>691</td>\n",
       "      <td>E82 E2</td>\n",
       "      <td>138.38</td>\n",
       "      <td>82.0</td>\n",
       "      <td>NaN</td>\n",
       "    </tr>\n",
       "    <tr>\n",
       "      <th>2430</th>\n",
       "      <td>SEE939672756758</td>\n",
       "      <td>2021-02-04T09:27:43.7565793</td>\n",
       "      <td>1</td>\n",
       "      <td>84</td>\n",
       "      <td>1403</td>\n",
       "      <td>85131.0</td>\n",
       "      <td>Pollenfeld</td>\n",
       "      <td>11.199980</td>\n",
       "      <td>48.959840</td>\n",
       "      <td>2019-03-08</td>\n",
       "      <td>2004-11-08</td>\n",
       "      <td>472</td>\n",
       "      <td>35</td>\n",
       "      <td>Pollenfeld 1</td>\n",
       "      <td>2497</td>\n",
       "      <td>1500.0</td>\n",
       "      <td>1500.0</td>\n",
       "      <td>0.0</td>\n",
       "      <td>689.0</td>\n",
       "      <td>Windpark Pollenfeld</td>\n",
       "      <td>888.0</td>\n",
       "      <td>1660.0</td>\n",
       "      <td>691</td>\n",
       "      <td>V82</td>\n",
       "      <td>108.60</td>\n",
       "      <td>82.0</td>\n",
       "      <td>NaN</td>\n",
       "    </tr>\n",
       "    <tr>\n",
       "      <th>14045</th>\n",
       "      <td>SEE964035728240</td>\n",
       "      <td>2021-06-30T11:44:52.9664872</td>\n",
       "      <td>1</td>\n",
       "      <td>84</td>\n",
       "      <td>1409</td>\n",
       "      <td>32689.0</td>\n",
       "      <td>Kalletal</td>\n",
       "      <td>8.966647</td>\n",
       "      <td>52.080038</td>\n",
       "      <td>2020-01-02</td>\n",
       "      <td>2015-12-30</td>\n",
       "      <td>472</td>\n",
       "      <td>35</td>\n",
       "      <td>209913</td>\n",
       "      <td>2497</td>\n",
       "      <td>3075.0</td>\n",
       "      <td>3075.0</td>\n",
       "      <td>0.0</td>\n",
       "      <td>688.0</td>\n",
       "      <td>Kalletal-Lemgo</td>\n",
       "      <td>888.0</td>\n",
       "      <td>1660.0</td>\n",
       "      <td>691</td>\n",
       "      <td>V112</td>\n",
       "      <td>119.00</td>\n",
       "      <td>112.0</td>\n",
       "      <td>1.0</td>\n",
       "    </tr>\n",
       "    <tr>\n",
       "      <th>22479</th>\n",
       "      <td>SEE958686574769</td>\n",
       "      <td>2022-04-29T04:19:42.4147133</td>\n",
       "      <td>1</td>\n",
       "      <td>84</td>\n",
       "      <td>1414</td>\n",
       "      <td>6347.0</td>\n",
       "      <td>Gerbstedt</td>\n",
       "      <td>11.665705</td>\n",
       "      <td>51.647430</td>\n",
       "      <td>2020-09-01</td>\n",
       "      <td>1999-10-07</td>\n",
       "      <td>472</td>\n",
       "      <td>35</td>\n",
       "      <td>NX1069</td>\n",
       "      <td>2497</td>\n",
       "      <td>1300.0</td>\n",
       "      <td>1300.0</td>\n",
       "      <td>1.0</td>\n",
       "      <td>688.0</td>\n",
       "      <td>Windpark Ihlewitz GmbH ＆ Co. KG</td>\n",
       "      <td>888.0</td>\n",
       "      <td>1627.0</td>\n",
       "      <td>691</td>\n",
       "      <td>N60</td>\n",
       "      <td>70.00</td>\n",
       "      <td>60.0</td>\n",
       "      <td>0.0</td>\n",
       "    </tr>\n",
       "    <tr>\n",
       "      <th>30526</th>\n",
       "      <td>SEE998899392644</td>\n",
       "      <td>2021-02-26T15:06:54.0063984</td>\n",
       "      <td>1</td>\n",
       "      <td>84</td>\n",
       "      <td>1411</td>\n",
       "      <td>25774.0</td>\n",
       "      <td>Hemme</td>\n",
       "      <td>9.012294</td>\n",
       "      <td>54.271789</td>\n",
       "      <td>2021-01-21</td>\n",
       "      <td>2002-03-08</td>\n",
       "      <td>472</td>\n",
       "      <td>35</td>\n",
       "      <td>Wind GBR onshore 2</td>\n",
       "      <td>2497</td>\n",
       "      <td>850.0</td>\n",
       "      <td>850.0</td>\n",
       "      <td>NaN</td>\n",
       "      <td>688.0</td>\n",
       "      <td>eigene 2</td>\n",
       "      <td>888.0</td>\n",
       "      <td>1660.0</td>\n",
       "      <td>691</td>\n",
       "      <td>V52</td>\n",
       "      <td>65.00</td>\n",
       "      <td>52.0</td>\n",
       "      <td>0.0</td>\n",
       "    </tr>\n",
       "    <tr>\n",
       "      <th>14354</th>\n",
       "      <td>SEE900011187731</td>\n",
       "      <td>2020-01-08T18:07:22.9670451</td>\n",
       "      <td>1</td>\n",
       "      <td>84</td>\n",
       "      <td>1410</td>\n",
       "      <td>54673.0</td>\n",
       "      <td>Hütten</td>\n",
       "      <td>6.248464</td>\n",
       "      <td>50.018301</td>\n",
       "      <td>2020-01-08</td>\n",
       "      <td>2002-12-20</td>\n",
       "      <td>472</td>\n",
       "      <td>35</td>\n",
       "      <td>Hütten-Wind Heide</td>\n",
       "      <td>2497</td>\n",
       "      <td>600.0</td>\n",
       "      <td>600.0</td>\n",
       "      <td>NaN</td>\n",
       "      <td>688.0</td>\n",
       "      <td>Hütten-Wind</td>\n",
       "      <td>888.0</td>\n",
       "      <td>1586.0</td>\n",
       "      <td>691</td>\n",
       "      <td>E40  6.44</td>\n",
       "      <td>78.00</td>\n",
       "      <td>44.0</td>\n",
       "      <td>0.0</td>\n",
       "    </tr>\n",
       "    <tr>\n",
       "      <th>8980</th>\n",
       "      <td>SEE970475095613</td>\n",
       "      <td>2020-10-15T07:18:10.4241750</td>\n",
       "      <td>1</td>\n",
       "      <td>84</td>\n",
       "      <td>1408</td>\n",
       "      <td>26632.0</td>\n",
       "      <td>Ihlow</td>\n",
       "      <td>7.354847</td>\n",
       "      <td>53.372068</td>\n",
       "      <td>2019-08-09</td>\n",
       "      <td>2000-01-26</td>\n",
       "      <td>472</td>\n",
       "      <td>35</td>\n",
       "      <td>WPI 21</td>\n",
       "      <td>2497</td>\n",
       "      <td>1500.0</td>\n",
       "      <td>1500.0</td>\n",
       "      <td>0.0</td>\n",
       "      <td>688.0</td>\n",
       "      <td>Windpark Ihlow I</td>\n",
       "      <td>888.0</td>\n",
       "      <td>1586.0</td>\n",
       "      <td>691</td>\n",
       "      <td>E-66</td>\n",
       "      <td>98.00</td>\n",
       "      <td>66.0</td>\n",
       "      <td>NaN</td>\n",
       "    </tr>\n",
       "    <tr>\n",
       "      <th>18094</th>\n",
       "      <td>SEE959562444855</td>\n",
       "      <td>2021-08-17T11:20:24.5176757</td>\n",
       "      <td>1</td>\n",
       "      <td>84</td>\n",
       "      <td>1412</td>\n",
       "      <td>66663.0</td>\n",
       "      <td>Merzig</td>\n",
       "      <td>6.537713</td>\n",
       "      <td>49.433607</td>\n",
       "      <td>2020-04-30</td>\n",
       "      <td>2015-06-25</td>\n",
       "      <td>472</td>\n",
       "      <td>35</td>\n",
       "      <td>WP Silwingen/Büdingen SI2</td>\n",
       "      <td>2497</td>\n",
       "      <td>2500.0</td>\n",
       "      <td>2500.0</td>\n",
       "      <td>0.0</td>\n",
       "      <td>688.0</td>\n",
       "      <td>WEA SI2</td>\n",
       "      <td>888.0</td>\n",
       "      <td>1657.0</td>\n",
       "      <td>691</td>\n",
       "      <td>VS112</td>\n",
       "      <td>140.00</td>\n",
       "      <td>112.0</td>\n",
       "      <td>0.0</td>\n",
       "    </tr>\n",
       "  </tbody>\n",
       "</table>\n",
       "</div>"
      ],
      "text/plain": [
       "      EinheitMastrNummer    DatumLetzteAktualisierung  \\\n",
       "29974    SEE923385950916  2021-01-29T15:02:46.7812352   \n",
       "7671     SEE943011656883  2023-06-19T05:54:27.1918949   \n",
       "2539     SEE953064312100  2022-01-20T10:45:58.7428157   \n",
       "2430     SEE939672756758  2021-02-04T09:27:43.7565793   \n",
       "14045    SEE964035728240  2021-06-30T11:44:52.9664872   \n",
       "22479    SEE958686574769  2022-04-29T04:19:42.4147133   \n",
       "30526    SEE998899392644  2021-02-26T15:06:54.0063984   \n",
       "14354    SEE900011187731  2020-01-08T18:07:22.9670451   \n",
       "8980     SEE970475095613  2020-10-15T07:18:10.4241750   \n",
       "18094    SEE959562444855  2021-08-17T11:20:24.5176757   \n",
       "\n",
       "       NetzbetreiberpruefungStatus  Land  Bundesland  Postleitzahl  \\\n",
       "29974                            1    84        1411       23758.0   \n",
       "7671                             0    84        1405       34289.0   \n",
       "2539                             1    84        1400       16775.0   \n",
       "2430                             1    84        1403       85131.0   \n",
       "14045                            1    84        1409       32689.0   \n",
       "22479                            1    84        1414        6347.0   \n",
       "30526                            1    84        1411       25774.0   \n",
       "14354                            1    84        1410       54673.0   \n",
       "8980                             1    84        1408       26632.0   \n",
       "18094                            1    84        1412       66663.0   \n",
       "\n",
       "                    Ort  Laengengrad  Breitengrad Registrierungsdatum  \\\n",
       "29974              Göhl    10.992841    54.276335          2021-01-15   \n",
       "7671         Zierenberg     9.229787    51.391404          2019-07-11   \n",
       "2539   Löwenberger Land    13.282686    52.922250          2019-03-12   \n",
       "2430         Pollenfeld    11.199980    48.959840          2019-03-08   \n",
       "14045          Kalletal     8.966647    52.080038          2020-01-02   \n",
       "22479         Gerbstedt    11.665705    51.647430          2020-09-01   \n",
       "30526             Hemme     9.012294    54.271789          2021-01-21   \n",
       "14354            Hütten     6.248464    50.018301          2020-01-08   \n",
       "8980              Ihlow     7.354847    53.372068          2019-08-09   \n",
       "18094            Merzig     6.537713    49.433607          2020-04-30   \n",
       "\n",
       "      Inbetriebnahmedatum  EinheitSystemstatus  EinheitBetriebsstatus  \\\n",
       "29974          2000-12-13                  472                     35   \n",
       "7671           2018-07-26                  472                     35   \n",
       "2539           2019-03-08                  472                     35   \n",
       "2430           2004-11-08                  472                     35   \n",
       "14045          2015-12-30                  472                     35   \n",
       "22479          1999-10-07                  472                     35   \n",
       "30526          2002-03-08                  472                     35   \n",
       "14354          2002-12-20                  472                     35   \n",
       "8980           2000-01-26                  472                     35   \n",
       "18094          2015-06-25                  472                     35   \n",
       "\n",
       "       NameStromerzeugungseinheit  Energietraeger  Bruttoleistung  \\\n",
       "29974            WEA Vestas 11200            2497          1650.0   \n",
       "7671                       WEA Z1            2497          2400.0   \n",
       "2539   Falkenthal 4 WEA 12-827329            2497          2300.0   \n",
       "2430                 Pollenfeld 1            2497          1500.0   \n",
       "14045                      209913            2497          3075.0   \n",
       "22479                      NX1069            2497          1300.0   \n",
       "30526          Wind GBR onshore 2            2497           850.0   \n",
       "14354           Hütten-Wind Heide            2497           600.0   \n",
       "8980                       WPI 21            2497          1500.0   \n",
       "18094   WP Silwingen/Büdingen SI2            2497          2500.0   \n",
       "\n",
       "       Nettonennleistung  AnschlussAnHoechstOderHochSpannung  Einspeisungsart  \\\n",
       "29974             1650.0                                 0.0            688.0   \n",
       "7671              2400.0                                 0.0            688.0   \n",
       "2539              2300.0                                 0.0            688.0   \n",
       "2430              1500.0                                 0.0            689.0   \n",
       "14045             3075.0                                 0.0            688.0   \n",
       "22479             1300.0                                 1.0            688.0   \n",
       "30526              850.0                                 NaN            688.0   \n",
       "14354              600.0                                 NaN            688.0   \n",
       "8980              1500.0                                 0.0            688.0   \n",
       "18094             2500.0                                 0.0            688.0   \n",
       "\n",
       "                          NameWindpark   Lage  Hersteller  Technologie  \\\n",
       "29974                 WP Christianstal  888.0      1660.0          691   \n",
       "7671               Windpark Zierenberg  888.0      1627.0          691   \n",
       "2539                   WP Falkenthal 4  888.0      1586.0          691   \n",
       "2430               Windpark Pollenfeld  888.0      1660.0          691   \n",
       "14045                   Kalletal-Lemgo  888.0      1660.0          691   \n",
       "22479  Windpark Ihlewitz GmbH ＆ Co. KG  888.0      1627.0          691   \n",
       "30526                         eigene 2  888.0      1660.0          691   \n",
       "14354                      Hütten-Wind  888.0      1586.0          691   \n",
       "8980                  Windpark Ihlow I  888.0      1586.0          691   \n",
       "18094                          WEA SI2  888.0      1657.0          691   \n",
       "\n",
       "      Typenbezeichnung  Nabenhoehe  Rotordurchmesser  \\\n",
       "29974       Vestas V66       67.00              66.0   \n",
       "7671        N117-2,4MW      141.00             117.0   \n",
       "2539            E82 E2      138.38              82.0   \n",
       "2430               V82      108.60              82.0   \n",
       "14045             V112      119.00             112.0   \n",
       "22479              N60       70.00              60.0   \n",
       "30526              V52       65.00              52.0   \n",
       "14354        E40  6.44       78.00              44.0   \n",
       "8980              E-66       98.00              66.0   \n",
       "18094            VS112      140.00             112.0   \n",
       "\n",
       "       Rotorblattenteisungssystem  \n",
       "29974                         0.0  \n",
       "7671                          0.0  \n",
       "2539                          NaN  \n",
       "2430                          NaN  \n",
       "14045                         1.0  \n",
       "22479                         0.0  \n",
       "30526                         0.0  \n",
       "14354                         0.0  \n",
       "8980                          NaN  \n",
       "18094                         0.0  "
      ]
     },
     "execution_count": 204,
     "metadata": {},
     "output_type": "execute_result"
    }
   ],
   "source": [
    "df_xml.sample(10)"
   ]
  },
  {
   "cell_type": "markdown",
   "id": "5fd71156-d38b-43ee-ad57-60b46bbfbf78",
   "metadata": {},
   "source": [
    "-------"
   ]
  },
  {
   "cell_type": "markdown",
   "id": "a357dbed-03b4-49d0-94df-05a32eb8ff21",
   "metadata": {},
   "source": [
    "### Read in Kaggle wind turbine dataset"
   ]
  },
  {
   "cell_type": "markdown",
   "id": "27ba37dd-29be-4483-83b8-bf72f2ae7dec",
   "metadata": {},
   "source": [
    "### Read in data "
   ]
  },
  {
   "cell_type": "markdown",
   "id": "9002484c-8db1-421d-b085-b337a598dc96",
   "metadata": {},
   "source": [
    "#### More info about the features\n",
    "- Bruttoleistung and Nettonennleistung in units kW\n",
    "- Nabenhoehe, Rotordurchmesser, Typenbezeichnung are required fields "
   ]
  },
  {
   "cell_type": "code",
   "execution_count": 355,
   "id": "04530029-8e5b-47c2-aef2-ef0b6c9e2be3",
   "metadata": {
    "tags": []
   },
   "outputs": [
    {
     "name": "stdout",
     "output_type": "stream",
     "text": [
      "<class 'pandas.core.frame.DataFrame'>\n",
      "RangeIndex: 34484 entries, 0 to 34483\n",
      "Data columns (total 29 columns):\n",
      " #   Column                              Non-Null Count  Dtype  \n",
      "---  ------                              --------------  -----  \n",
      " 0   Land                                34484 non-null  object \n",
      " 1   Bundesland                          34484 non-null  object \n",
      " 2   Landkreis                           32700 non-null  object \n",
      " 3   Postleitzahl                        32700 non-null  float64\n",
      " 4   Ort                                 32700 non-null  object \n",
      " 5   Laengengrad                         33589 non-null  float64\n",
      " 6   Breitengrad                         33589 non-null  float64\n",
      " 7   Registrierungsdatum                 34484 non-null  object \n",
      " 8   Inbetriebnahmedatum                 32020 non-null  object \n",
      " 9   EinheitBetriebsstatus               34484 non-null  object \n",
      " 10  Energietraeger                      34484 non-null  object \n",
      " 11  Bruttoleistung                      34484 non-null  float64\n",
      " 12  Nettonennleistung                   34484 non-null  float64\n",
      " 13  AnschlussAnHoechstOderHochSpannung  24631 non-null  float64\n",
      " 14  Einspeisungsart                     33770 non-null  object \n",
      " 15  NameWindpark                        33674 non-null  object \n",
      " 16  Lage                                34484 non-null  object \n",
      " 17  Hersteller                          34035 non-null  object \n",
      " 18  Technologie                         34484 non-null  object \n",
      " 19  Typenbezeichnung                    34020 non-null  object \n",
      " 20  Nabenhoehe                          33631 non-null  float64\n",
      " 21  Rotordurchmesser                    34031 non-null  float64\n",
      " 22  Rotorblattenteisungssystem          25671 non-null  float64\n",
      " 23  GeplantesInbetriebnahmedatum        2463 non-null   object \n",
      " 24  Seelage                             1784 non-null   float64\n",
      " 25  ClusterNordsee                      1476 non-null   float64\n",
      " 26  Wassertiefe                         1650 non-null   float64\n",
      " 27  Kuestenentfernung                   1650 non-null   float64\n",
      " 28  ClusterOstsee                       308 non-null    float64\n",
      "dtypes: float64(14), object(15)\n",
      "memory usage: 7.6+ MB\n"
     ]
    }
   ],
   "source": [
    "# Wind turbine dataset\n",
    "df = pd.read_csv(cwd_path.parent / 'data/WindTurbinesGermany.csv', sep=',')\n",
    "df.info()"
   ]
  },
  {
   "cell_type": "markdown",
   "id": "37525e5e-b957-47e2-b096-84edfc10a88b",
   "metadata": {
    "tags": []
   },
   "source": [
    "### Filtering ideas\n",
    "- Keep only land-based turbines\n",
    "- Keep only turbines with status EinheitBetriebsstatus = In Betrieb\n",
    "    - Removes turbines that are no longer in operation (shame we don't know the date it fell out of service)\n",
    "    - Removes turbines that are still in planning"
   ]
  },
  {
   "cell_type": "code",
   "execution_count": 356,
   "id": "ee596329-34ae-4aea-a01b-7bb9afc7b4e2",
   "metadata": {
    "tags": []
   },
   "outputs": [
    {
     "name": "stdout",
     "output_type": "stream",
     "text": [
      "<class 'pandas.core.frame.DataFrame'>\n",
      "Index: 30459 entries, 0 to 34483\n",
      "Data columns (total 23 columns):\n",
      " #   Column                              Non-Null Count  Dtype         \n",
      "---  ------                              --------------  -----         \n",
      " 0   Land                                30459 non-null  object        \n",
      " 1   Bundesland                          30459 non-null  object        \n",
      " 2   Landkreis                           30459 non-null  object        \n",
      " 3   Postleitzahl                        30459 non-null  int64         \n",
      " 4   Ort                                 30459 non-null  object        \n",
      " 5   Laengengrad                         29620 non-null  float64       \n",
      " 6   Breitengrad                         29620 non-null  float64       \n",
      " 7   Registrierungsdatum                 30459 non-null  datetime64[ns]\n",
      " 8   Inbetriebnahmedatum                 30459 non-null  datetime64[ns]\n",
      " 9   EinheitBetriebsstatus               30459 non-null  object        \n",
      " 10  Energietraeger                      30459 non-null  object        \n",
      " 11  Bruttoleistung                      30459 non-null  float64       \n",
      " 12  Nettonennleistung                   30459 non-null  float64       \n",
      " 13  AnschlussAnHoechstOderHochSpannung  22195 non-null  float64       \n",
      " 14  Einspeisungsart                     29997 non-null  object        \n",
      " 15  NameWindpark                        29676 non-null  object        \n",
      " 16  Lage                                30459 non-null  object        \n",
      " 17  Hersteller                          30202 non-null  object        \n",
      " 18  Technologie                         30459 non-null  object        \n",
      " 19  Typenbezeichnung                    30197 non-null  object        \n",
      " 20  Nabenhoehe                          29721 non-null  float64       \n",
      " 21  Rotordurchmesser                    30082 non-null  float64       \n",
      " 22  Rotorblattenteisungssystem          23076 non-null  float64       \n",
      "dtypes: datetime64[ns](2), float64(8), int64(1), object(12)\n",
      "memory usage: 5.6+ MB\n"
     ]
    }
   ],
   "source": [
    "# Keep only onshore turbines\n",
    "df = df[df['Lage'] == 'Windkraft an Land']\n",
    "# Drop turbines in planning (there are 2241 of them)\n",
    "df = df[~(df['EinheitBetriebsstatus'] == 'In Planung')]\n",
    "# Drop columns with all missing values (they were specific to offshore or planned turbines)\n",
    "df.dropna(axis='columns', how='all', inplace=True)\n",
    "# Convert postcodes from float to int\n",
    "df['Postleitzahl'] = df['Postleitzahl'].astype('int')\n",
    "\n",
    "# Convert date features to datetime objects\n",
    "df['Registrierungsdatum'] = pd.to_datetime(df['Registrierungsdatum'])\n",
    "df['Inbetriebnahmedatum'] = pd.to_datetime(df['Inbetriebnahmedatum'])\n",
    "\n",
    "df.info()"
   ]
  },
  {
   "cell_type": "code",
   "execution_count": 357,
   "id": "009af513-133a-4d7d-b6ad-23908ba7d96d",
   "metadata": {
    "tags": []
   },
   "outputs": [
    {
     "data": {
      "text/plain": [
       "Timestamp('2023-05-26 00:00:00')"
      ]
     },
     "execution_count": 357,
     "metadata": {},
     "output_type": "execute_result"
    }
   ],
   "source": [
    "df['Registrierungsdatum'].max()"
   ]
  },
  {
   "cell_type": "code",
   "execution_count": 358,
   "id": "8811a143-51d2-4309-a224-0f310ed71d39",
   "metadata": {
    "tags": []
   },
   "outputs": [
    {
     "data": {
      "text/plain": [
       "Timestamp('2023-05-26 00:00:00')"
      ]
     },
     "execution_count": 358,
     "metadata": {},
     "output_type": "execute_result"
    }
   ],
   "source": [
    "df['Inbetriebnahmedatum'].max()"
   ]
  },
  {
   "cell_type": "code",
   "execution_count": 359,
   "id": "4c2ba24d-7e38-4161-b307-2710fad66e93",
   "metadata": {
    "tags": []
   },
   "outputs": [],
   "source": [
    "# other_columns_to_drop = ['Land', 'Bundesland', 'Landkreis', 'Postleitzahl', 'Ort', 'Lage', 'Energietraeger']"
   ]
  },
  {
   "cell_type": "code",
   "execution_count": 360,
   "id": "25535ee8-2516-492e-bbb6-59608b4a27d3",
   "metadata": {
    "tags": []
   },
   "outputs": [
    {
     "data": {
      "text/plain": [
       "Land                                     0\n",
       "Bundesland                               0\n",
       "Landkreis                                0\n",
       "Postleitzahl                             0\n",
       "Ort                                      0\n",
       "Laengengrad                            839\n",
       "Breitengrad                            839\n",
       "Registrierungsdatum                      0\n",
       "Inbetriebnahmedatum                      0\n",
       "EinheitBetriebsstatus                    0\n",
       "Energietraeger                           0\n",
       "Bruttoleistung                           0\n",
       "Nettonennleistung                        0\n",
       "AnschlussAnHoechstOderHochSpannung    8264\n",
       "Einspeisungsart                        462\n",
       "NameWindpark                           783\n",
       "Lage                                     0\n",
       "Hersteller                             257\n",
       "Technologie                              0\n",
       "Typenbezeichnung                       262\n",
       "Nabenhoehe                             738\n",
       "Rotordurchmesser                       377\n",
       "Rotorblattenteisungssystem            7383\n",
       "dtype: int64"
      ]
     },
     "execution_count": 360,
     "metadata": {},
     "output_type": "execute_result"
    }
   ],
   "source": [
    "df.isna().sum()"
   ]
  },
  {
   "cell_type": "code",
   "execution_count": 364,
   "id": "4cc4a5d1-9079-4c32-abc7-90edf10dd61b",
   "metadata": {
    "tags": []
   },
   "outputs": [
    {
     "data": {
      "text/plain": [
       "Land                                                                      Deutschland\n",
       "Bundesland                                                                  Thüringen\n",
       "Landkreis                                                               Weimarer Land\n",
       "Postleitzahl                                                                    99438\n",
       "Ort                                                                          Buchfart\n",
       "Laengengrad                                                                 11.267888\n",
       "Breitengrad                                                                 50.896747\n",
       "Registrierungsdatum                                               2023-05-04 00:00:00\n",
       "Inbetriebnahmedatum                                               2023-05-01 00:00:00\n",
       "EinheitBetriebsstatus                                                      In Betrieb\n",
       "Energietraeger                                                                   Wind\n",
       "Bruttoleistung                                                                   0.49\n",
       "Nettonennleistung                                                                0.49\n",
       "AnschlussAnHoechstOderHochSpannung                                                NaN\n",
       "Einspeisungsart                       Teileinspeisung (einschließlich Eigenverbrauch)\n",
       "NameWindpark                                                        Windpark Hausdach\n",
       "Lage                                                                Windkraft an Land\n",
       "Hersteller                                                                        NaN\n",
       "Technologie                                                          Horizontalläufer\n",
       "Typenbezeichnung                              48V Rutland 1200 Wind Turbine - Terrain\n",
       "Nabenhoehe                                                                        9.4\n",
       "Rotordurchmesser                                                                  1.2\n",
       "Rotorblattenteisungssystem                                                        0.0\n",
       "Name: 34335, dtype: object"
      ]
     },
     "execution_count": 364,
     "metadata": {},
     "output_type": "execute_result"
    }
   ],
   "source": [
    "df.loc[34335]"
   ]
  },
  {
   "cell_type": "code",
   "execution_count": 365,
   "id": "f4d9a23f-e534-4657-bb12-2ec0264e459c",
   "metadata": {
    "tags": []
   },
   "outputs": [
    {
     "data": {
      "text/plain": [
       "Land                                     0\n",
       "Bundesland                               0\n",
       "Landkreis                                0\n",
       "Postleitzahl                             0\n",
       "Ort                                      0\n",
       "Laengengrad                              1\n",
       "Breitengrad                              1\n",
       "Registrierungsdatum                      0\n",
       "Inbetriebnahmedatum                      0\n",
       "EinheitBetriebsstatus                    0\n",
       "Energietraeger                           0\n",
       "Bruttoleistung                           0\n",
       "Nettonennleistung                        0\n",
       "AnschlussAnHoechstOderHochSpannung    8264\n",
       "Einspeisungsart                        462\n",
       "NameWindpark                           783\n",
       "Lage                                     0\n",
       "Hersteller                             257\n",
       "Technologie                              0\n",
       "Typenbezeichnung                       262\n",
       "Nabenhoehe                             738\n",
       "Rotordurchmesser                       377\n",
       "Rotorblattenteisungssystem            7383\n",
       "dtype: int64"
      ]
     },
     "execution_count": 365,
     "metadata": {},
     "output_type": "execute_result"
    }
   ],
   "source": [
    "df.isna().sum()"
   ]
  },
  {
   "cell_type": "code",
   "execution_count": 526,
   "id": "47ac091b-f966-417c-80b1-69ba263c85ce",
   "metadata": {
    "tags": []
   },
   "outputs": [
    {
     "data": {
      "text/plain": [
       "Land                                     0\n",
       "Bundesland                               0\n",
       "Landkreis                                0\n",
       "Postleitzahl                             0\n",
       "Ort                                      0\n",
       "Laengengrad                              0\n",
       "Breitengrad                              0\n",
       "Registrierungsdatum                      0\n",
       "Inbetriebnahmedatum                      0\n",
       "EinheitBetriebsstatus                    0\n",
       "Energietraeger                           0\n",
       "Bruttoleistung                           0\n",
       "Nettonennleistung                        0\n",
       "AnschlussAnHoechstOderHochSpannung    8263\n",
       "Einspeisungsart                        462\n",
       "NameWindpark                           783\n",
       "Lage                                     0\n",
       "Hersteller                             257\n",
       "Technologie                              0\n",
       "Typenbezeichnung                       262\n",
       "Nabenhoehe                             737\n",
       "Rotordurchmesser                       377\n",
       "Rotorblattenteisungssystem            7383\n",
       "dtype: int64"
      ]
     },
     "execution_count": 526,
     "metadata": {},
     "output_type": "execute_result"
    }
   ],
   "source": [
    "# Drop the single row that has nan in longitude or latitude columns\n",
    "df.dropna(subset=['Laengengrad', 'Breitengrad']).isna().sum()"
   ]
  },
  {
   "cell_type": "code",
   "execution_count": null,
   "id": "944a4872-c54e-404e-a5c6-7f8bb6b36bfa",
   "metadata": {},
   "outputs": [],
   "source": []
  },
  {
   "cell_type": "code",
   "execution_count": null,
   "id": "7def194e-f002-4082-80f2-aa6da7050c36",
   "metadata": {},
   "outputs": [],
   "source": []
  },
  {
   "cell_type": "code",
   "execution_count": 510,
   "id": "d821a2ba-e27c-447c-be87-af9bae659f1d",
   "metadata": {
    "tags": []
   },
   "outputs": [
    {
     "data": {
      "text/plain": [
       "EinheitBetriebsstatus\n",
       "In Betrieb                   29422\n",
       "Endgültig stillgelegt          999\n",
       "Vorübergehend stillgelegt       38\n",
       "Name: count, dtype: int64"
      ]
     },
     "execution_count": 510,
     "metadata": {},
     "output_type": "execute_result"
    }
   ],
   "source": [
    "df['EinheitBetriebsstatus'].value_counts()"
   ]
  },
  {
   "cell_type": "code",
   "execution_count": 492,
   "id": "64c22c82-0cd0-4417-967f-9e895fa57ac9",
   "metadata": {
    "tags": []
   },
   "outputs": [
    {
     "data": {
      "text/html": [
       "<div>\n",
       "<style scoped>\n",
       "    .dataframe tbody tr th:only-of-type {\n",
       "        vertical-align: middle;\n",
       "    }\n",
       "\n",
       "    .dataframe tbody tr th {\n",
       "        vertical-align: top;\n",
       "    }\n",
       "\n",
       "    .dataframe thead th {\n",
       "        text-align: right;\n",
       "    }\n",
       "</style>\n",
       "<table border=\"1\" class=\"dataframe\">\n",
       "  <thead>\n",
       "    <tr style=\"text-align: right;\">\n",
       "      <th></th>\n",
       "      <th>Bruttoleistung</th>\n",
       "      <th>Nettonennleistung</th>\n",
       "      <th>Nabenhoehe</th>\n",
       "      <th>Rotordurchmesser</th>\n",
       "    </tr>\n",
       "  </thead>\n",
       "  <tbody>\n",
       "    <tr>\n",
       "      <th>count</th>\n",
       "      <td>30459.000000</td>\n",
       "      <td>30459.000000</td>\n",
       "      <td>29721.00000</td>\n",
       "      <td>30082.000000</td>\n",
       "    </tr>\n",
       "    <tr>\n",
       "      <th>mean</th>\n",
       "      <td>1971.220019</td>\n",
       "      <td>1971.220019</td>\n",
       "      <td>95.62819</td>\n",
       "      <td>80.146323</td>\n",
       "    </tr>\n",
       "    <tr>\n",
       "      <th>std</th>\n",
       "      <td>1098.310972</td>\n",
       "      <td>1098.310972</td>\n",
       "      <td>33.85736</td>\n",
       "      <td>30.672645</td>\n",
       "    </tr>\n",
       "    <tr>\n",
       "      <th>min</th>\n",
       "      <td>0.120000</td>\n",
       "      <td>0.120000</td>\n",
       "      <td>0.36000</td>\n",
       "      <td>0.300000</td>\n",
       "    </tr>\n",
       "    <tr>\n",
       "      <th>25%</th>\n",
       "      <td>1300.000000</td>\n",
       "      <td>1300.000000</td>\n",
       "      <td>67.00000</td>\n",
       "      <td>62.000000</td>\n",
       "    </tr>\n",
       "    <tr>\n",
       "      <th>50%</th>\n",
       "      <td>2000.000000</td>\n",
       "      <td>2000.000000</td>\n",
       "      <td>98.00000</td>\n",
       "      <td>80.000000</td>\n",
       "    </tr>\n",
       "    <tr>\n",
       "      <th>75%</th>\n",
       "      <td>2500.000000</td>\n",
       "      <td>2500.000000</td>\n",
       "      <td>125.00000</td>\n",
       "      <td>101.000000</td>\n",
       "    </tr>\n",
       "    <tr>\n",
       "      <th>max</th>\n",
       "      <td>8000.000000</td>\n",
       "      <td>8000.000000</td>\n",
       "      <td>173.48000</td>\n",
       "      <td>180.000000</td>\n",
       "    </tr>\n",
       "  </tbody>\n",
       "</table>\n",
       "</div>"
      ],
      "text/plain": [
       "       Bruttoleistung  Nettonennleistung   Nabenhoehe  Rotordurchmesser\n",
       "count    30459.000000       30459.000000  29721.00000      30082.000000\n",
       "mean      1971.220019        1971.220019     95.62819         80.146323\n",
       "std       1098.310972        1098.310972     33.85736         30.672645\n",
       "min          0.120000           0.120000      0.36000          0.300000\n",
       "25%       1300.000000        1300.000000     67.00000         62.000000\n",
       "50%       2000.000000        2000.000000     98.00000         80.000000\n",
       "75%       2500.000000        2500.000000    125.00000        101.000000\n",
       "max       8000.000000        8000.000000    173.48000        180.000000"
      ]
     },
     "execution_count": 492,
     "metadata": {},
     "output_type": "execute_result"
    }
   ],
   "source": [
    "df[['Bruttoleistung', 'Nettonennleistung', 'Nabenhoehe', 'Rotordurchmesser']].describe()"
   ]
  },
  {
   "cell_type": "code",
   "execution_count": 514,
   "id": "f69fc2e1-f232-4869-9290-c0e8943079ff",
   "metadata": {
    "tags": []
   },
   "outputs": [
    {
     "data": {
      "text/plain": [
       "<Axes: >"
      ]
     },
     "execution_count": 514,
     "metadata": {},
     "output_type": "execute_result"
    },
    {
     "data": {
      "image/png": "[encoded data removed]",
      "text/plain": [
       "<Figure size 704x528 with 1 Axes>"
      ]
     },
     "metadata": {},
     "output_type": "display_data"
    }
   ],
   "source": [
    "df['Nabenhoehe'].hist()"
   ]
  },
  {
   "cell_type": "code",
   "execution_count": 491,
   "id": "e09b5339-74cb-494a-945e-4598f33080fe",
   "metadata": {
    "tags": []
   },
   "outputs": [
    {
     "data": {
      "text/html": [
       "<div>\n",
       "<style scoped>\n",
       "    .dataframe tbody tr th:only-of-type {\n",
       "        vertical-align: middle;\n",
       "    }\n",
       "\n",
       "    .dataframe tbody tr th {\n",
       "        vertical-align: top;\n",
       "    }\n",
       "\n",
       "    .dataframe thead th {\n",
       "        text-align: right;\n",
       "    }\n",
       "</style>\n",
       "<table border=\"1\" class=\"dataframe\">\n",
       "  <thead>\n",
       "    <tr style=\"text-align: right;\">\n",
       "      <th></th>\n",
       "      <th>Land</th>\n",
       "      <th>Bundesland</th>\n",
       "      <th>Landkreis</th>\n",
       "      <th>Postleitzahl</th>\n",
       "      <th>Ort</th>\n",
       "      <th>Laengengrad</th>\n",
       "      <th>Breitengrad</th>\n",
       "      <th>Registrierungsdatum</th>\n",
       "      <th>Inbetriebnahmedatum</th>\n",
       "      <th>EinheitBetriebsstatus</th>\n",
       "      <th>Energietraeger</th>\n",
       "      <th>Bruttoleistung</th>\n",
       "      <th>Nettonennleistung</th>\n",
       "      <th>AnschlussAnHoechstOderHochSpannung</th>\n",
       "      <th>Einspeisungsart</th>\n",
       "      <th>NameWindpark</th>\n",
       "      <th>Lage</th>\n",
       "      <th>Hersteller</th>\n",
       "      <th>Technologie</th>\n",
       "      <th>Typenbezeichnung</th>\n",
       "      <th>Nabenhoehe</th>\n",
       "      <th>Rotordurchmesser</th>\n",
       "      <th>Rotorblattenteisungssystem</th>\n",
       "    </tr>\n",
       "  </thead>\n",
       "  <tbody>\n",
       "    <tr>\n",
       "      <th>108</th>\n",
       "      <td>Deutschland</td>\n",
       "      <td>Niedersachsen</td>\n",
       "      <td>Nienburg (Weser)</td>\n",
       "      <td>31592</td>\n",
       "      <td>Stolzenau</td>\n",
       "      <td>8.987413</td>\n",
       "      <td>52.485784</td>\n",
       "      <td>2019-02-04</td>\n",
       "      <td>2002-02-28</td>\n",
       "      <td>In Betrieb</td>\n",
       "      <td>Wind</td>\n",
       "      <td>600.0</td>\n",
       "      <td>600.0</td>\n",
       "      <td>NaN</td>\n",
       "      <td>Volleinspeisung</td>\n",
       "      <td>Auf dem Acker</td>\n",
       "      <td>Windkraft an Land</td>\n",
       "      <td>NaN</td>\n",
       "      <td>Horizontalläufer</td>\n",
       "      <td>Enercon-40/6.44</td>\n",
       "      <td>NaN</td>\n",
       "      <td>NaN</td>\n",
       "      <td>NaN</td>\n",
       "    </tr>\n",
       "    <tr>\n",
       "      <th>125</th>\n",
       "      <td>Deutschland</td>\n",
       "      <td>Bayern</td>\n",
       "      <td>Oberallgäu</td>\n",
       "      <td>87488</td>\n",
       "      <td>Betzigau</td>\n",
       "      <td>NaN</td>\n",
       "      <td>NaN</td>\n",
       "      <td>2019-04-09</td>\n",
       "      <td>2019-01-23</td>\n",
       "      <td>In Betrieb</td>\n",
       "      <td>Wind</td>\n",
       "      <td>1.0</td>\n",
       "      <td>1.0</td>\n",
       "      <td>NaN</td>\n",
       "      <td>Teileinspeisung (einschließlich Eigenverbrauch)</td>\n",
       "      <td>NaN</td>\n",
       "      <td>Windkraft an Land</td>\n",
       "      <td>FuSystems SkyWind GmbH</td>\n",
       "      <td>Vertikalläufer</td>\n",
       "      <td>NG</td>\n",
       "      <td>NaN</td>\n",
       "      <td>1.5</td>\n",
       "      <td>NaN</td>\n",
       "    </tr>\n",
       "    <tr>\n",
       "      <th>177</th>\n",
       "      <td>Deutschland</td>\n",
       "      <td>Niedersachsen</td>\n",
       "      <td>Aurich</td>\n",
       "      <td>26529</td>\n",
       "      <td>Upgant-Schott</td>\n",
       "      <td>7.200870</td>\n",
       "      <td>53.509760</td>\n",
       "      <td>2019-02-05</td>\n",
       "      <td>2012-01-16</td>\n",
       "      <td>In Betrieb</td>\n",
       "      <td>Wind</td>\n",
       "      <td>800.0</td>\n",
       "      <td>800.0</td>\n",
       "      <td>NaN</td>\n",
       "      <td>Volleinspeisung</td>\n",
       "      <td>E-53</td>\n",
       "      <td>Windkraft an Land</td>\n",
       "      <td>ENERCON GmbH</td>\n",
       "      <td>Horizontalläufer</td>\n",
       "      <td>Enercon E-53</td>\n",
       "      <td>NaN</td>\n",
       "      <td>53.0</td>\n",
       "      <td>NaN</td>\n",
       "    </tr>\n",
       "    <tr>\n",
       "      <th>219</th>\n",
       "      <td>Deutschland</td>\n",
       "      <td>Niedersachsen</td>\n",
       "      <td>Aurich</td>\n",
       "      <td>26529</td>\n",
       "      <td>Upgant-Schott</td>\n",
       "      <td>7.243216</td>\n",
       "      <td>53.502987</td>\n",
       "      <td>2019-02-05</td>\n",
       "      <td>2009-04-20</td>\n",
       "      <td>In Betrieb</td>\n",
       "      <td>Wind</td>\n",
       "      <td>2300.0</td>\n",
       "      <td>2300.0</td>\n",
       "      <td>0.0</td>\n",
       "      <td>Volleinspeisung</td>\n",
       "      <td>E-70</td>\n",
       "      <td>Windkraft an Land</td>\n",
       "      <td>ENERCON GmbH</td>\n",
       "      <td>Horizontalläufer</td>\n",
       "      <td>Enercon E-70 E4</td>\n",
       "      <td>NaN</td>\n",
       "      <td>71.0</td>\n",
       "      <td>NaN</td>\n",
       "    </tr>\n",
       "    <tr>\n",
       "      <th>237</th>\n",
       "      <td>Deutschland</td>\n",
       "      <td>Schleswig-Holstein</td>\n",
       "      <td>Rendsburg-Eckernförde</td>\n",
       "      <td>24229</td>\n",
       "      <td>Schwedeneck</td>\n",
       "      <td>10.096044</td>\n",
       "      <td>54.458812</td>\n",
       "      <td>2019-02-06</td>\n",
       "      <td>2000-04-13</td>\n",
       "      <td>In Betrieb</td>\n",
       "      <td>Wind</td>\n",
       "      <td>1500.0</td>\n",
       "      <td>1500.0</td>\n",
       "      <td>NaN</td>\n",
       "      <td>Volleinspeisung</td>\n",
       "      <td>Bürgerwindpark Schwedeneck GmbH＆Co.KG</td>\n",
       "      <td>Windkraft an Land</td>\n",
       "      <td>Tacke GmbH &amp; Co. KG</td>\n",
       "      <td>Vertikalläufer</td>\n",
       "      <td>TW 1,5s</td>\n",
       "      <td>NaN</td>\n",
       "      <td>70.5</td>\n",
       "      <td>0.0</td>\n",
       "    </tr>\n",
       "    <tr>\n",
       "      <th>...</th>\n",
       "      <td>...</td>\n",
       "      <td>...</td>\n",
       "      <td>...</td>\n",
       "      <td>...</td>\n",
       "      <td>...</td>\n",
       "      <td>...</td>\n",
       "      <td>...</td>\n",
       "      <td>...</td>\n",
       "      <td>...</td>\n",
       "      <td>...</td>\n",
       "      <td>...</td>\n",
       "      <td>...</td>\n",
       "      <td>...</td>\n",
       "      <td>...</td>\n",
       "      <td>...</td>\n",
       "      <td>...</td>\n",
       "      <td>...</td>\n",
       "      <td>...</td>\n",
       "      <td>...</td>\n",
       "      <td>...</td>\n",
       "      <td>...</td>\n",
       "      <td>...</td>\n",
       "      <td>...</td>\n",
       "    </tr>\n",
       "    <tr>\n",
       "      <th>34063</th>\n",
       "      <td>Deutschland</td>\n",
       "      <td>Niedersachsen</td>\n",
       "      <td>Rotenburg (Wümme)</td>\n",
       "      <td>27404</td>\n",
       "      <td>Gyhum</td>\n",
       "      <td>9.173500</td>\n",
       "      <td>53.133100</td>\n",
       "      <td>2023-03-06</td>\n",
       "      <td>2002-01-16</td>\n",
       "      <td>In Betrieb</td>\n",
       "      <td>Wind</td>\n",
       "      <td>600.0</td>\n",
       "      <td>600.0</td>\n",
       "      <td>NaN</td>\n",
       "      <td>Volleinspeisung</td>\n",
       "      <td>WP Gyhum</td>\n",
       "      <td>Windkraft an Land</td>\n",
       "      <td>ENERCON GmbH</td>\n",
       "      <td>Horizontalläufer</td>\n",
       "      <td>E44</td>\n",
       "      <td>NaN</td>\n",
       "      <td>44.0</td>\n",
       "      <td>0.0</td>\n",
       "    </tr>\n",
       "    <tr>\n",
       "      <th>34121</th>\n",
       "      <td>Deutschland</td>\n",
       "      <td>Hessen</td>\n",
       "      <td>Darmstadt-Dieburg</td>\n",
       "      <td>64372</td>\n",
       "      <td>Ober-Ramstadt</td>\n",
       "      <td>NaN</td>\n",
       "      <td>NaN</td>\n",
       "      <td>2023-03-23</td>\n",
       "      <td>2015-06-22</td>\n",
       "      <td>In Betrieb</td>\n",
       "      <td>Wind</td>\n",
       "      <td>5.0</td>\n",
       "      <td>5.0</td>\n",
       "      <td>NaN</td>\n",
       "      <td>Teileinspeisung (einschließlich Eigenverbrauch)</td>\n",
       "      <td>NaN</td>\n",
       "      <td>Windkraft an Land</td>\n",
       "      <td>Sonstige</td>\n",
       "      <td>Vertikalläufer</td>\n",
       "      <td>ENW-M</td>\n",
       "      <td>NaN</td>\n",
       "      <td>1.4</td>\n",
       "      <td>0.0</td>\n",
       "    </tr>\n",
       "    <tr>\n",
       "      <th>34181</th>\n",
       "      <td>Deutschland</td>\n",
       "      <td>Bayern</td>\n",
       "      <td>Weißenburg-Gunzenhausen</td>\n",
       "      <td>91781</td>\n",
       "      <td>Weißenburg</td>\n",
       "      <td>NaN</td>\n",
       "      <td>NaN</td>\n",
       "      <td>2023-05-06</td>\n",
       "      <td>2023-03-27</td>\n",
       "      <td>In Betrieb</td>\n",
       "      <td>Wind</td>\n",
       "      <td>1.0</td>\n",
       "      <td>1.0</td>\n",
       "      <td>NaN</td>\n",
       "      <td>Teileinspeisung (einschließlich Eigenverbrauch)</td>\n",
       "      <td>Wohngebäude</td>\n",
       "      <td>Windkraft an Land</td>\n",
       "      <td>SkyWind GmbH</td>\n",
       "      <td>Vertikalläufer</td>\n",
       "      <td>SkyWind NG</td>\n",
       "      <td>NaN</td>\n",
       "      <td>1.5</td>\n",
       "      <td>0.0</td>\n",
       "    </tr>\n",
       "    <tr>\n",
       "      <th>34314</th>\n",
       "      <td>Deutschland</td>\n",
       "      <td>Bayern</td>\n",
       "      <td>Günzburg</td>\n",
       "      <td>86470</td>\n",
       "      <td>Thannhausen</td>\n",
       "      <td>NaN</td>\n",
       "      <td>NaN</td>\n",
       "      <td>2023-04-21</td>\n",
       "      <td>2023-01-01</td>\n",
       "      <td>In Betrieb</td>\n",
       "      <td>Wind</td>\n",
       "      <td>0.8</td>\n",
       "      <td>0.8</td>\n",
       "      <td>NaN</td>\n",
       "      <td>Teileinspeisung (einschließlich Eigenverbrauch)</td>\n",
       "      <td>Skywind</td>\n",
       "      <td>Windkraft an Land</td>\n",
       "      <td>SkyWind GmbH</td>\n",
       "      <td>Vertikalläufer</td>\n",
       "      <td>SkyWind NG</td>\n",
       "      <td>NaN</td>\n",
       "      <td>1.5</td>\n",
       "      <td>0.0</td>\n",
       "    </tr>\n",
       "    <tr>\n",
       "      <th>34477</th>\n",
       "      <td>Deutschland</td>\n",
       "      <td>Mecklenburg-Vorpommern</td>\n",
       "      <td>Vorpommern-Greifswald</td>\n",
       "      <td>17309</td>\n",
       "      <td>Pasewalk</td>\n",
       "      <td>NaN</td>\n",
       "      <td>NaN</td>\n",
       "      <td>2023-05-17</td>\n",
       "      <td>2022-12-01</td>\n",
       "      <td>In Betrieb</td>\n",
       "      <td>Wind</td>\n",
       "      <td>2.6</td>\n",
       "      <td>2.6</td>\n",
       "      <td>NaN</td>\n",
       "      <td>Teileinspeisung (einschließlich Eigenverbrauch)</td>\n",
       "      <td>Kleinwindrad-Vertikal</td>\n",
       "      <td>Windkraft an Land</td>\n",
       "      <td>Sonstige</td>\n",
       "      <td>Vertikalläufer</td>\n",
       "      <td>keine</td>\n",
       "      <td>NaN</td>\n",
       "      <td>3.5</td>\n",
       "      <td>0.0</td>\n",
       "    </tr>\n",
       "  </tbody>\n",
       "</table>\n",
       "<p>738 rows × 23 columns</p>\n",
       "</div>"
      ],
      "text/plain": [
       "              Land              Bundesland                Landkreis  \\\n",
       "108    Deutschland           Niedersachsen         Nienburg (Weser)   \n",
       "125    Deutschland                  Bayern               Oberallgäu   \n",
       "177    Deutschland           Niedersachsen                   Aurich   \n",
       "219    Deutschland           Niedersachsen                   Aurich   \n",
       "237    Deutschland      Schleswig-Holstein    Rendsburg-Eckernförde   \n",
       "...            ...                     ...                      ...   \n",
       "34063  Deutschland           Niedersachsen        Rotenburg (Wümme)   \n",
       "34121  Deutschland                  Hessen        Darmstadt-Dieburg   \n",
       "34181  Deutschland                  Bayern  Weißenburg-Gunzenhausen   \n",
       "34314  Deutschland                  Bayern                 Günzburg   \n",
       "34477  Deutschland  Mecklenburg-Vorpommern    Vorpommern-Greifswald   \n",
       "\n",
       "       Postleitzahl            Ort  Laengengrad  Breitengrad  \\\n",
       "108           31592      Stolzenau     8.987413    52.485784   \n",
       "125           87488       Betzigau          NaN          NaN   \n",
       "177           26529  Upgant-Schott     7.200870    53.509760   \n",
       "219           26529  Upgant-Schott     7.243216    53.502987   \n",
       "237           24229    Schwedeneck    10.096044    54.458812   \n",
       "...             ...            ...          ...          ...   \n",
       "34063         27404          Gyhum     9.173500    53.133100   \n",
       "34121         64372  Ober-Ramstadt          NaN          NaN   \n",
       "34181         91781     Weißenburg          NaN          NaN   \n",
       "34314         86470    Thannhausen          NaN          NaN   \n",
       "34477         17309       Pasewalk          NaN          NaN   \n",
       "\n",
       "      Registrierungsdatum Inbetriebnahmedatum EinheitBetriebsstatus  \\\n",
       "108            2019-02-04          2002-02-28            In Betrieb   \n",
       "125            2019-04-09          2019-01-23            In Betrieb   \n",
       "177            2019-02-05          2012-01-16            In Betrieb   \n",
       "219            2019-02-05          2009-04-20            In Betrieb   \n",
       "237            2019-02-06          2000-04-13            In Betrieb   \n",
       "...                   ...                 ...                   ...   \n",
       "34063          2023-03-06          2002-01-16            In Betrieb   \n",
       "34121          2023-03-23          2015-06-22            In Betrieb   \n",
       "34181          2023-05-06          2023-03-27            In Betrieb   \n",
       "34314          2023-04-21          2023-01-01            In Betrieb   \n",
       "34477          2023-05-17          2022-12-01            In Betrieb   \n",
       "\n",
       "      Energietraeger  Bruttoleistung  Nettonennleistung  \\\n",
       "108             Wind           600.0              600.0   \n",
       "125             Wind             1.0                1.0   \n",
       "177             Wind           800.0              800.0   \n",
       "219             Wind          2300.0             2300.0   \n",
       "237             Wind          1500.0             1500.0   \n",
       "...              ...             ...                ...   \n",
       "34063           Wind           600.0              600.0   \n",
       "34121           Wind             5.0                5.0   \n",
       "34181           Wind             1.0                1.0   \n",
       "34314           Wind             0.8                0.8   \n",
       "34477           Wind             2.6                2.6   \n",
       "\n",
       "       AnschlussAnHoechstOderHochSpannung  \\\n",
       "108                                   NaN   \n",
       "125                                   NaN   \n",
       "177                                   NaN   \n",
       "219                                   0.0   \n",
       "237                                   NaN   \n",
       "...                                   ...   \n",
       "34063                                 NaN   \n",
       "34121                                 NaN   \n",
       "34181                                 NaN   \n",
       "34314                                 NaN   \n",
       "34477                                 NaN   \n",
       "\n",
       "                                       Einspeisungsart  \\\n",
       "108                                    Volleinspeisung   \n",
       "125    Teileinspeisung (einschließlich Eigenverbrauch)   \n",
       "177                                    Volleinspeisung   \n",
       "219                                    Volleinspeisung   \n",
       "237                                    Volleinspeisung   \n",
       "...                                                ...   \n",
       "34063                                  Volleinspeisung   \n",
       "34121  Teileinspeisung (einschließlich Eigenverbrauch)   \n",
       "34181  Teileinspeisung (einschließlich Eigenverbrauch)   \n",
       "34314  Teileinspeisung (einschließlich Eigenverbrauch)   \n",
       "34477  Teileinspeisung (einschließlich Eigenverbrauch)   \n",
       "\n",
       "                                NameWindpark               Lage  \\\n",
       "108                            Auf dem Acker  Windkraft an Land   \n",
       "125                                      NaN  Windkraft an Land   \n",
       "177                                     E-53  Windkraft an Land   \n",
       "219                                     E-70  Windkraft an Land   \n",
       "237    Bürgerwindpark Schwedeneck GmbH＆Co.KG  Windkraft an Land   \n",
       "...                                      ...                ...   \n",
       "34063                               WP Gyhum  Windkraft an Land   \n",
       "34121                                    NaN  Windkraft an Land   \n",
       "34181                            Wohngebäude  Windkraft an Land   \n",
       "34314                                Skywind  Windkraft an Land   \n",
       "34477                  Kleinwindrad-Vertikal  Windkraft an Land   \n",
       "\n",
       "                   Hersteller       Technologie Typenbezeichnung  Nabenhoehe  \\\n",
       "108                       NaN  Horizontalläufer  Enercon-40/6.44         NaN   \n",
       "125    FuSystems SkyWind GmbH    Vertikalläufer               NG         NaN   \n",
       "177              ENERCON GmbH  Horizontalläufer     Enercon E-53         NaN   \n",
       "219              ENERCON GmbH  Horizontalläufer  Enercon E-70 E4         NaN   \n",
       "237       Tacke GmbH & Co. KG    Vertikalläufer          TW 1,5s         NaN   \n",
       "...                       ...               ...              ...         ...   \n",
       "34063            ENERCON GmbH  Horizontalläufer              E44         NaN   \n",
       "34121                Sonstige    Vertikalläufer            ENW-M         NaN   \n",
       "34181            SkyWind GmbH    Vertikalläufer       SkyWind NG         NaN   \n",
       "34314            SkyWind GmbH    Vertikalläufer       SkyWind NG         NaN   \n",
       "34477                Sonstige    Vertikalläufer            keine         NaN   \n",
       "\n",
       "       Rotordurchmesser  Rotorblattenteisungssystem  \n",
       "108                 NaN                         NaN  \n",
       "125                 1.5                         NaN  \n",
       "177                53.0                         NaN  \n",
       "219                71.0                         NaN  \n",
       "237                70.5                         0.0  \n",
       "...                 ...                         ...  \n",
       "34063              44.0                         0.0  \n",
       "34121               1.4                         0.0  \n",
       "34181               1.5                         0.0  \n",
       "34314               1.5                         0.0  \n",
       "34477               3.5                         0.0  \n",
       "\n",
       "[738 rows x 23 columns]"
      ]
     },
     "execution_count": 491,
     "metadata": {},
     "output_type": "execute_result"
    }
   ],
   "source": [
    "df[df['Nabenhoehe'].isna()]"
   ]
  },
  {
   "cell_type": "code",
   "execution_count": 497,
   "id": "2cbe740d-63d7-4cfd-9f63-f7fba8959a38",
   "metadata": {
    "tags": []
   },
   "outputs": [
    {
     "data": {
      "text/plain": [
       "1835    54.580738\n",
       "Name: latitude, dtype: float64"
      ]
     },
     "execution_count": 497,
     "metadata": {},
     "output_type": "execute_result"
    }
   ],
   "source": [
    "df_postcodes_coords.loc[df_postcodes_coords['postcode'] == 25853]['latitude']"
   ]
  },
  {
   "cell_type": "code",
   "execution_count": 488,
   "id": "7d7a1dc6-71a6-4afd-a0f5-16a0d8569f6b",
   "metadata": {
    "tags": []
   },
   "outputs": [
    {
     "data": {
      "text/html": [
       "<div>\n",
       "<style scoped>\n",
       "    .dataframe tbody tr th:only-of-type {\n",
       "        vertical-align: middle;\n",
       "    }\n",
       "\n",
       "    .dataframe tbody tr th {\n",
       "        vertical-align: top;\n",
       "    }\n",
       "\n",
       "    .dataframe thead th {\n",
       "        text-align: right;\n",
       "    }\n",
       "</style>\n",
       "<table border=\"1\" class=\"dataframe\">\n",
       "  <thead>\n",
       "    <tr style=\"text-align: right;\">\n",
       "      <th></th>\n",
       "      <th>postcode</th>\n",
       "      <th>latitude</th>\n",
       "      <th>longitude</th>\n",
       "    </tr>\n",
       "  </thead>\n",
       "  <tbody>\n",
       "    <tr>\n",
       "      <th>3313</th>\n",
       "      <td>46325</td>\n",
       "      <td>51.844128</td>\n",
       "      <td>6.85722</td>\n",
       "    </tr>\n",
       "  </tbody>\n",
       "</table>\n",
       "</div>"
      ],
      "text/plain": [
       "      postcode   latitude  longitude\n",
       "3313     46325  51.844128    6.85722"
      ]
     },
     "execution_count": 488,
     "metadata": {},
     "output_type": "execute_result"
    }
   ],
   "source": [
    "df_postcodes_coords[df_postcodes_coords['postcode'] == 46325]"
   ]
  },
  {
   "cell_type": "code",
   "execution_count": 486,
   "id": "8b244c92-3606-40b7-9a9c-5cdd2878bd49",
   "metadata": {
    "tags": []
   },
   "outputs": [
    {
     "data": {
      "text/html": [
       "<div>\n",
       "<style scoped>\n",
       "    .dataframe tbody tr th:only-of-type {\n",
       "        vertical-align: middle;\n",
       "    }\n",
       "\n",
       "    .dataframe tbody tr th {\n",
       "        vertical-align: top;\n",
       "    }\n",
       "\n",
       "    .dataframe thead th {\n",
       "        text-align: right;\n",
       "    }\n",
       "</style>\n",
       "<table border=\"1\" class=\"dataframe\">\n",
       "  <thead>\n",
       "    <tr style=\"text-align: right;\">\n",
       "      <th></th>\n",
       "      <th>Postleitzahl</th>\n",
       "      <th>Laengengrad</th>\n",
       "      <th>Breitengrad</th>\n",
       "    </tr>\n",
       "  </thead>\n",
       "  <tbody>\n",
       "    <tr>\n",
       "      <th>28424</th>\n",
       "      <td>84189.0</td>\n",
       "      <td>12.326094</td>\n",
       "      <td>48.353502</td>\n",
       "    </tr>\n",
       "    <tr>\n",
       "      <th>31221</th>\n",
       "      <td>55758.0</td>\n",
       "      <td>7.255281</td>\n",
       "      <td>49.812401</td>\n",
       "    </tr>\n",
       "    <tr>\n",
       "      <th>31633</th>\n",
       "      <td>97522.0</td>\n",
       "      <td>10.588187</td>\n",
       "      <td>49.987406</td>\n",
       "    </tr>\n",
       "    <tr>\n",
       "      <th>4715</th>\n",
       "      <td>32609.0</td>\n",
       "      <td>8.669796</td>\n",
       "      <td>52.267005</td>\n",
       "    </tr>\n",
       "    <tr>\n",
       "      <th>25194</th>\n",
       "      <td>46325.0</td>\n",
       "      <td>6.857220</td>\n",
       "      <td>51.844128</td>\n",
       "    </tr>\n",
       "  </tbody>\n",
       "</table>\n",
       "</div>"
      ],
      "text/plain": [
       "       Postleitzahl  Laengengrad  Breitengrad\n",
       "28424       84189.0    12.326094    48.353502\n",
       "31221       55758.0     7.255281    49.812401\n",
       "31633       97522.0    10.588187    49.987406\n",
       "4715        32609.0     8.669796    52.267005\n",
       "25194       46325.0     6.857220    51.844128"
      ]
     },
     "execution_count": 486,
     "metadata": {},
     "output_type": "execute_result"
    }
   ],
   "source": [
    "df_coords_missing[['Postleitzahl', 'Laengengrad', 'Breitengrad']].apply(\n",
    "    add_coords_using_postcode, axis=1, df_postcodes_coords=df_postcodes_coords).sample(5)"
   ]
  },
  {
   "cell_type": "code",
   "execution_count": 484,
   "id": "d0f074ab-9f8e-44ee-94c6-909959d01d08",
   "metadata": {
    "tags": []
   },
   "outputs": [
    {
     "data": {
      "text/html": [
       "<div>\n",
       "<style scoped>\n",
       "    .dataframe tbody tr th:only-of-type {\n",
       "        vertical-align: middle;\n",
       "    }\n",
       "\n",
       "    .dataframe tbody tr th {\n",
       "        vertical-align: top;\n",
       "    }\n",
       "\n",
       "    .dataframe thead th {\n",
       "        text-align: right;\n",
       "    }\n",
       "</style>\n",
       "<table border=\"1\" class=\"dataframe\">\n",
       "  <thead>\n",
       "    <tr style=\"text-align: right;\">\n",
       "      <th></th>\n",
       "      <th>Postleitzahl</th>\n",
       "      <th>Laengengrad</th>\n",
       "      <th>Breitengrad</th>\n",
       "    </tr>\n",
       "  </thead>\n",
       "  <tbody>\n",
       "    <tr>\n",
       "      <th>39</th>\n",
       "      <td>25853</td>\n",
       "      <td>9.046338</td>\n",
       "      <td>54.580738</td>\n",
       "    </tr>\n",
       "    <tr>\n",
       "      <th>79</th>\n",
       "      <td>26169</td>\n",
       "      <td>7.858544</td>\n",
       "      <td>53.023272</td>\n",
       "    </tr>\n",
       "    <tr>\n",
       "      <th>97</th>\n",
       "      <td>25873</td>\n",
       "      <td>9.148807</td>\n",
       "      <td>54.449869</td>\n",
       "    </tr>\n",
       "    <tr>\n",
       "      <th>119</th>\n",
       "      <td>27232</td>\n",
       "      <td>8.796595</td>\n",
       "      <td>52.665789</td>\n",
       "    </tr>\n",
       "    <tr>\n",
       "      <th>123</th>\n",
       "      <td>27232</td>\n",
       "      <td>8.796595</td>\n",
       "      <td>52.665789</td>\n",
       "    </tr>\n",
       "    <tr>\n",
       "      <th>...</th>\n",
       "      <td>...</td>\n",
       "      <td>...</td>\n",
       "      <td>...</td>\n",
       "    </tr>\n",
       "    <tr>\n",
       "      <th>34318</th>\n",
       "      <td>34626</td>\n",
       "      <td>9.360363</td>\n",
       "      <td>50.877275</td>\n",
       "    </tr>\n",
       "    <tr>\n",
       "      <th>34324</th>\n",
       "      <td>66399</td>\n",
       "      <td>7.160266</td>\n",
       "      <td>49.194344</td>\n",
       "    </tr>\n",
       "    <tr>\n",
       "      <th>34335</th>\n",
       "      <td>99438</td>\n",
       "      <td>11.267888</td>\n",
       "      <td>50.896747</td>\n",
       "    </tr>\n",
       "    <tr>\n",
       "      <th>34361</th>\n",
       "      <td>26409</td>\n",
       "      <td>7.733722</td>\n",
       "      <td>53.595727</td>\n",
       "    </tr>\n",
       "    <tr>\n",
       "      <th>34477</th>\n",
       "      <td>17309</td>\n",
       "      <td>13.999529</td>\n",
       "      <td>53.502566</td>\n",
       "    </tr>\n",
       "  </tbody>\n",
       "</table>\n",
       "<p>839 rows × 3 columns</p>\n",
       "</div>"
      ],
      "text/plain": [
       "       Postleitzahl  Laengengrad  Breitengrad\n",
       "39            25853     9.046338    54.580738\n",
       "79            26169     7.858544    53.023272\n",
       "97            25873     9.148807    54.449869\n",
       "119           27232     8.796595    52.665789\n",
       "123           27232     8.796595    52.665789\n",
       "...             ...          ...          ...\n",
       "34318         34626     9.360363    50.877275\n",
       "34324         66399     7.160266    49.194344\n",
       "34335         99438    11.267888    50.896747\n",
       "34361         26409     7.733722    53.595727\n",
       "34477         17309    13.999529    53.502566\n",
       "\n",
       "[839 rows x 3 columns]"
      ]
     },
     "execution_count": 484,
     "metadata": {},
     "output_type": "execute_result"
    }
   ],
   "source": [
    "df_coords_missing.loc[:, ['Postleitzahl', 'Laengengrad', 'Breitengrad']]"
   ]
  },
  {
   "cell_type": "code",
   "execution_count": 504,
   "id": "14d59145-cb78-415f-b532-1384c1cfca17",
   "metadata": {
    "tags": []
   },
   "outputs": [
    {
     "data": {
      "text/plain": [
       "Land                                    0\n",
       "Bundesland                              0\n",
       "Landkreis                               0\n",
       "Postleitzahl                            0\n",
       "Ort                                     0\n",
       "Laengengrad                             1\n",
       "Breitengrad                             1\n",
       "Registrierungsdatum                     0\n",
       "Inbetriebnahmedatum                     0\n",
       "EinheitBetriebsstatus                   0\n",
       "Energietraeger                          0\n",
       "Bruttoleistung                          0\n",
       "Nettonennleistung                       0\n",
       "AnschlussAnHoechstOderHochSpannung    839\n",
       "Einspeisungsart                        13\n",
       "NameWindpark                          156\n",
       "Lage                                    0\n",
       "Hersteller                             38\n",
       "Technologie                             0\n",
       "Typenbezeichnung                       39\n",
       "Nabenhoehe                            161\n",
       "Rotordurchmesser                       28\n",
       "Rotorblattenteisungssystem            154\n",
       "dtype: int64"
      ]
     },
     "execution_count": 504,
     "metadata": {},
     "output_type": "execute_result"
    }
   ],
   "source": [
    "df_coords_missing.isna().sum()"
   ]
  },
  {
   "cell_type": "code",
   "execution_count": null,
   "id": "79437f27-bf36-44c2-bce7-9eca3e847627",
   "metadata": {},
   "outputs": [],
   "source": []
  },
  {
   "cell_type": "code",
   "execution_count": 283,
   "id": "31de58fc-6063-449a-93b1-65e6f6d1d312",
   "metadata": {
    "tags": []
   },
   "outputs": [
    {
     "data": {
      "text/html": [
       "<div>\n",
       "<style scoped>\n",
       "    .dataframe tbody tr th:only-of-type {\n",
       "        vertical-align: middle;\n",
       "    }\n",
       "\n",
       "    .dataframe tbody tr th {\n",
       "        vertical-align: top;\n",
       "    }\n",
       "\n",
       "    .dataframe thead th {\n",
       "        text-align: right;\n",
       "    }\n",
       "</style>\n",
       "<table border=\"1\" class=\"dataframe\">\n",
       "  <thead>\n",
       "    <tr style=\"text-align: right;\">\n",
       "      <th></th>\n",
       "      <th>Land</th>\n",
       "      <th>Bundesland</th>\n",
       "      <th>Landkreis</th>\n",
       "      <th>Postleitzahl</th>\n",
       "      <th>Ort</th>\n",
       "      <th>Laengengrad</th>\n",
       "      <th>Breitengrad</th>\n",
       "      <th>Registrierungsdatum</th>\n",
       "      <th>Inbetriebnahmedatum</th>\n",
       "      <th>EinheitBetriebsstatus</th>\n",
       "      <th>Energietraeger</th>\n",
       "      <th>Bruttoleistung</th>\n",
       "      <th>Nettonennleistung</th>\n",
       "      <th>AnschlussAnHoechstOderHochSpannung</th>\n",
       "      <th>Einspeisungsart</th>\n",
       "      <th>NameWindpark</th>\n",
       "      <th>Lage</th>\n",
       "      <th>Hersteller</th>\n",
       "      <th>Technologie</th>\n",
       "      <th>Typenbezeichnung</th>\n",
       "      <th>Nabenhoehe</th>\n",
       "      <th>Rotordurchmesser</th>\n",
       "      <th>Rotorblattenteisungssystem</th>\n",
       "    </tr>\n",
       "  </thead>\n",
       "  <tbody>\n",
       "    <tr>\n",
       "      <th>29635</th>\n",
       "      <td>Deutschland</td>\n",
       "      <td>Thüringen</td>\n",
       "      <td>Erfurt</td>\n",
       "      <td>99095</td>\n",
       "      <td>Erfurt</td>\n",
       "      <td>11.082553</td>\n",
       "      <td>51.026456</td>\n",
       "      <td>2021-01-10</td>\n",
       "      <td>2013-07-19</td>\n",
       "      <td>In Betrieb</td>\n",
       "      <td>Wind</td>\n",
       "      <td>800.0</td>\n",
       "      <td>800.0</td>\n",
       "      <td>NaN</td>\n",
       "      <td>Volleinspeisung</td>\n",
       "      <td>Kerspleben 2</td>\n",
       "      <td>Windkraft an Land</td>\n",
       "      <td>ENERCON GmbH</td>\n",
       "      <td>Horizontalläufer</td>\n",
       "      <td>E53</td>\n",
       "      <td>73.0</td>\n",
       "      <td>52.9</td>\n",
       "      <td>0.0</td>\n",
       "    </tr>\n",
       "  </tbody>\n",
       "</table>\n",
       "</div>"
      ],
      "text/plain": [
       "              Land Bundesland Landkreis  Postleitzahl     Ort  Laengengrad  \\\n",
       "29635  Deutschland  Thüringen    Erfurt         99095  Erfurt    11.082553   \n",
       "\n",
       "       Breitengrad Registrierungsdatum Inbetriebnahmedatum  \\\n",
       "29635    51.026456          2021-01-10          2013-07-19   \n",
       "\n",
       "      EinheitBetriebsstatus Energietraeger  Bruttoleistung  Nettonennleistung  \\\n",
       "29635            In Betrieb           Wind           800.0              800.0   \n",
       "\n",
       "       AnschlussAnHoechstOderHochSpannung  Einspeisungsart  NameWindpark  \\\n",
       "29635                                 NaN  Volleinspeisung  Kerspleben 2   \n",
       "\n",
       "                    Lage    Hersteller       Technologie Typenbezeichnung  \\\n",
       "29635  Windkraft an Land  ENERCON GmbH  Horizontalläufer              E53   \n",
       "\n",
       "       Nabenhoehe  Rotordurchmesser  Rotorblattenteisungssystem  \n",
       "29635        73.0              52.9                         0.0  "
      ]
     },
     "execution_count": 283,
     "metadata": {},
     "output_type": "execute_result"
    }
   ],
   "source": [
    "# turbine with postcode 99095 and coords\n",
    "df[(df['Postleitzahl'] == 99095) & df['Laengengrad']]"
   ]
  },
  {
   "cell_type": "code",
   "execution_count": 304,
   "id": "b5f03fe5-015d-42b3-9c12-b56240aaf7c9",
   "metadata": {
    "tags": []
   },
   "outputs": [
    {
     "data": {
      "text/plain": [
       "11.082553"
      ]
     },
     "execution_count": 304,
     "metadata": {},
     "output_type": "execute_result"
    }
   ],
   "source": [
    "df[(df['Postleitzahl'] == 99095) & (df['Laengengrad'])]['Laengengrad'].values.item()"
   ]
  },
  {
   "cell_type": "code",
   "execution_count": 305,
   "id": "039ec096-e3bf-4179-9fb6-89af9626d367",
   "metadata": {
    "tags": []
   },
   "outputs": [
    {
     "data": {
      "text/plain": [
       "51.026456"
      ]
     },
     "execution_count": 305,
     "metadata": {},
     "output_type": "execute_result"
    }
   ],
   "source": [
    "df[(df['Postleitzahl'] == 99095) & (df['Laengengrad'])]['Breitengrad'].values.item()"
   ]
  },
  {
   "cell_type": "code",
   "execution_count": 316,
   "id": "4d76b2b6-1365-4395-ae54-2031e0db9887",
   "metadata": {
    "tags": []
   },
   "outputs": [
    {
     "data": {
      "text/html": [
       "<div>\n",
       "<style scoped>\n",
       "    .dataframe tbody tr th:only-of-type {\n",
       "        vertical-align: middle;\n",
       "    }\n",
       "\n",
       "    .dataframe tbody tr th {\n",
       "        vertical-align: top;\n",
       "    }\n",
       "\n",
       "    .dataframe thead th {\n",
       "        text-align: right;\n",
       "    }\n",
       "</style>\n",
       "<table border=\"1\" class=\"dataframe\">\n",
       "  <thead>\n",
       "    <tr style=\"text-align: right;\">\n",
       "      <th></th>\n",
       "      <th>Land</th>\n",
       "      <th>Bundesland</th>\n",
       "      <th>Landkreis</th>\n",
       "      <th>Postleitzahl</th>\n",
       "      <th>Ort</th>\n",
       "      <th>Laengengrad</th>\n",
       "      <th>Breitengrad</th>\n",
       "      <th>Registrierungsdatum</th>\n",
       "      <th>Inbetriebnahmedatum</th>\n",
       "      <th>EinheitBetriebsstatus</th>\n",
       "      <th>Energietraeger</th>\n",
       "      <th>Bruttoleistung</th>\n",
       "      <th>Nettonennleistung</th>\n",
       "      <th>AnschlussAnHoechstOderHochSpannung</th>\n",
       "      <th>Einspeisungsart</th>\n",
       "      <th>NameWindpark</th>\n",
       "      <th>Lage</th>\n",
       "      <th>Hersteller</th>\n",
       "      <th>Technologie</th>\n",
       "      <th>Typenbezeichnung</th>\n",
       "      <th>Nabenhoehe</th>\n",
       "      <th>Rotordurchmesser</th>\n",
       "      <th>Rotorblattenteisungssystem</th>\n",
       "    </tr>\n",
       "  </thead>\n",
       "  <tbody>\n",
       "    <tr>\n",
       "      <th>23688</th>\n",
       "      <td>Deutschland</td>\n",
       "      <td>Thüringen</td>\n",
       "      <td>Erfurt</td>\n",
       "      <td>99095</td>\n",
       "      <td>Erfurt</td>\n",
       "      <td>NaN</td>\n",
       "      <td>NaN</td>\n",
       "      <td>2020-09-26</td>\n",
       "      <td>2021-03-25</td>\n",
       "      <td>Vorübergehend stillgelegt</td>\n",
       "      <td>Wind</td>\n",
       "      <td>2.02</td>\n",
       "      <td>2.02</td>\n",
       "      <td>NaN</td>\n",
       "      <td>Teileinspeisung (einschließlich Eigenverbrauch)</td>\n",
       "      <td>Garten</td>\n",
       "      <td>Windkraft an Land</td>\n",
       "      <td>Sonstige</td>\n",
       "      <td>Vertikalläufer</td>\n",
       "      <td>Tesup Atlas2.0</td>\n",
       "      <td>NaN</td>\n",
       "      <td>1.2</td>\n",
       "      <td>0.0</td>\n",
       "    </tr>\n",
       "  </tbody>\n",
       "</table>\n",
       "</div>"
      ],
      "text/plain": [
       "              Land Bundesland Landkreis  Postleitzahl     Ort  Laengengrad  \\\n",
       "23688  Deutschland  Thüringen    Erfurt         99095  Erfurt          NaN   \n",
       "\n",
       "       Breitengrad Registrierungsdatum Inbetriebnahmedatum  \\\n",
       "23688          NaN          2020-09-26          2021-03-25   \n",
       "\n",
       "           EinheitBetriebsstatus Energietraeger  Bruttoleistung  \\\n",
       "23688  Vorübergehend stillgelegt           Wind            2.02   \n",
       "\n",
       "       Nettonennleistung  AnschlussAnHoechstOderHochSpannung  \\\n",
       "23688               2.02                                 NaN   \n",
       "\n",
       "                                       Einspeisungsart NameWindpark  \\\n",
       "23688  Teileinspeisung (einschließlich Eigenverbrauch)       Garten   \n",
       "\n",
       "                    Lage Hersteller     Technologie Typenbezeichnung  \\\n",
       "23688  Windkraft an Land   Sonstige  Vertikalläufer   Tesup Atlas2.0   \n",
       "\n",
       "       Nabenhoehe  Rotordurchmesser  Rotorblattenteisungssystem  \n",
       "23688         NaN               1.2                         0.0  "
      ]
     },
     "execution_count": 316,
     "metadata": {},
     "output_type": "execute_result"
    }
   ],
   "source": [
    "# turbine with postcode 99095 but missing coords\n",
    "df[(df['Postleitzahl'] == 99095) & (df['Laengengrad'].isna())]"
   ]
  },
  {
   "cell_type": "code",
   "execution_count": 309,
   "id": "172395c0-5969-4a5c-b003-3c226472f095",
   "metadata": {
    "tags": []
   },
   "outputs": [
    {
     "data": {
      "text/html": [
       "<div>\n",
       "<style scoped>\n",
       "    .dataframe tbody tr th:only-of-type {\n",
       "        vertical-align: middle;\n",
       "    }\n",
       "\n",
       "    .dataframe tbody tr th {\n",
       "        vertical-align: top;\n",
       "    }\n",
       "\n",
       "    .dataframe thead th {\n",
       "        text-align: right;\n",
       "    }\n",
       "</style>\n",
       "<table border=\"1\" class=\"dataframe\">\n",
       "  <thead>\n",
       "    <tr style=\"text-align: right;\">\n",
       "      <th></th>\n",
       "      <th>Land</th>\n",
       "      <th>Bundesland</th>\n",
       "      <th>Landkreis</th>\n",
       "      <th>Postleitzahl</th>\n",
       "      <th>Ort</th>\n",
       "      <th>Laengengrad</th>\n",
       "      <th>Breitengrad</th>\n",
       "      <th>Registrierungsdatum</th>\n",
       "      <th>Inbetriebnahmedatum</th>\n",
       "      <th>EinheitBetriebsstatus</th>\n",
       "      <th>Energietraeger</th>\n",
       "      <th>Bruttoleistung</th>\n",
       "      <th>Nettonennleistung</th>\n",
       "      <th>AnschlussAnHoechstOderHochSpannung</th>\n",
       "      <th>Einspeisungsart</th>\n",
       "      <th>NameWindpark</th>\n",
       "      <th>Lage</th>\n",
       "      <th>Hersteller</th>\n",
       "      <th>Technologie</th>\n",
       "      <th>Typenbezeichnung</th>\n",
       "      <th>Nabenhoehe</th>\n",
       "      <th>Rotordurchmesser</th>\n",
       "      <th>Rotorblattenteisungssystem</th>\n",
       "    </tr>\n",
       "  </thead>\n",
       "  <tbody>\n",
       "    <tr>\n",
       "      <th>24951</th>\n",
       "      <td>Deutschland</td>\n",
       "      <td>Sachsen-Anhalt</td>\n",
       "      <td>Harz</td>\n",
       "      <td>39397</td>\n",
       "      <td>Schwanebeck</td>\n",
       "      <td>11.1209</td>\n",
       "      <td>51.9995</td>\n",
       "      <td>2020-10-29</td>\n",
       "      <td>2003-12-20</td>\n",
       "      <td>In Betrieb</td>\n",
       "      <td>Wind</td>\n",
       "      <td>1500.0</td>\n",
       "      <td>1500.0</td>\n",
       "      <td>0.0</td>\n",
       "      <td>Volleinspeisung</td>\n",
       "      <td>Schwanebeck</td>\n",
       "      <td>Windkraft an Land</td>\n",
       "      <td>NEG Micon Deutschland GmbH</td>\n",
       "      <td>Horizontalläufer</td>\n",
       "      <td>Vestas NM82-1500</td>\n",
       "      <td>93.0</td>\n",
       "      <td>82.0</td>\n",
       "      <td>0.0</td>\n",
       "    </tr>\n",
       "  </tbody>\n",
       "</table>\n",
       "</div>"
      ],
      "text/plain": [
       "              Land      Bundesland Landkreis  Postleitzahl          Ort  \\\n",
       "24951  Deutschland  Sachsen-Anhalt      Harz         39397  Schwanebeck   \n",
       "\n",
       "       Laengengrad  Breitengrad Registrierungsdatum Inbetriebnahmedatum  \\\n",
       "24951      11.1209      51.9995          2020-10-29          2003-12-20   \n",
       "\n",
       "      EinheitBetriebsstatus Energietraeger  Bruttoleistung  Nettonennleistung  \\\n",
       "24951            In Betrieb           Wind          1500.0             1500.0   \n",
       "\n",
       "       AnschlussAnHoechstOderHochSpannung  Einspeisungsart NameWindpark  \\\n",
       "24951                                 0.0  Volleinspeisung  Schwanebeck   \n",
       "\n",
       "                    Lage                  Hersteller       Technologie  \\\n",
       "24951  Windkraft an Land  NEG Micon Deutschland GmbH  Horizontalläufer   \n",
       "\n",
       "       Typenbezeichnung  Nabenhoehe  Rotordurchmesser  \\\n",
       "24951  Vestas NM82-1500        93.0              82.0   \n",
       "\n",
       "       Rotorblattenteisungssystem  \n",
       "24951                         0.0  "
      ]
     },
     "execution_count": 309,
     "metadata": {},
     "output_type": "execute_result"
    }
   ],
   "source": [
    "df.iloc[df[(df['Postleitzahl'] == 99095) & (df['Laengengrad'].isna())].index]"
   ]
  },
  {
   "cell_type": "code",
   "execution_count": 246,
   "id": "b4215b0c-ad47-4287-ad7b-ea14a49ac67a",
   "metadata": {
    "tags": []
   },
   "outputs": [
    {
     "data": {
      "text/plain": [
       "EinheitBetriebsstatus\n",
       "In Betrieb                   793\n",
       "Endgültig stillgelegt         39\n",
       "Vorübergehend stillgelegt      7\n",
       "Name: count, dtype: int64"
      ]
     },
     "execution_count": 246,
     "metadata": {},
     "output_type": "execute_result"
    }
   ],
   "source": [
    "df_coords_missing['EinheitBetriebsstatus'].value_counts()"
   ]
  },
  {
   "cell_type": "code",
   "execution_count": 244,
   "id": "5451b7f8-4180-45bd-8178-35fe303f109d",
   "metadata": {
    "tags": []
   },
   "outputs": [
    {
     "data": {
      "text/plain": [
       "<Axes: xlabel='Inbetriebnahmedatum'>"
      ]
     },
     "execution_count": 244,
     "metadata": {},
     "output_type": "execute_result"
    },
    {
     "data": {
      "image/png": "[encoded data removed]",
      "text/plain": [
       "<Figure size 704x528 with 1 Axes>"
      ]
     },
     "metadata": {},
     "output_type": "display_data"
    }
   ],
   "source": [
    "df_coords_missing.resample('A', on='Inbetriebnahmedatum')['Inbetriebnahmedatum'].count().plot()"
   ]
  },
  {
   "cell_type": "code",
   "execution_count": 232,
   "id": "f5207243-e671-43df-a99a-b3bdb48353cf",
   "metadata": {
    "tags": []
   },
   "outputs": [
    {
     "data": {
      "text/plain": [
       "39       2012-01-03\n",
       "79       2018-05-22\n",
       "97       2018-04-24\n",
       "119      2017-01-20\n",
       "123      2017-01-20\n",
       "            ...    \n",
       "34318    2023-04-01\n",
       "34324    2023-04-21\n",
       "34335    2023-05-01\n",
       "34361    2023-02-06\n",
       "34477    2022-12-01\n",
       "Name: Inbetriebnahmedatum, Length: 839, dtype: object"
      ]
     },
     "execution_count": 232,
     "metadata": {},
     "output_type": "execute_result"
    }
   ],
   "source": [
    "df_coords_missing['Inbetriebnahmedatum']"
   ]
  },
  {
   "cell_type": "code",
   "execution_count": 198,
   "id": "5b227b33-fcf3-4da0-8ffa-d4f82fd5a2e6",
   "metadata": {
    "tags": []
   },
   "outputs": [
    {
     "data": {
      "text/plain": [
       "Land\n",
       "Deutschland    30459\n",
       "Name: count, dtype: int64"
      ]
     },
     "execution_count": 198,
     "metadata": {},
     "output_type": "execute_result"
    }
   ],
   "source": [
    "df['Land'].value_counts()"
   ]
  },
  {
   "cell_type": "code",
   "execution_count": 199,
   "id": "15fb7482-b067-43a2-ab56-81ee0f7e9cef",
   "metadata": {
    "tags": []
   },
   "outputs": [
    {
     "data": {
      "text/plain": [
       "True"
      ]
     },
     "execution_count": 199,
     "metadata": {},
     "output_type": "execute_result"
    }
   ],
   "source": [
    "df['Land'].eq('Deutschland').all()"
   ]
  },
  {
   "cell_type": "code",
   "execution_count": 204,
   "id": "1cf6e490-bfb8-44e5-9122-88e7ef29e472",
   "metadata": {
    "tags": []
   },
   "outputs": [
    {
     "data": {
      "text/plain": [
       "Energietraeger\n",
       "Wind    30459\n",
       "Name: count, dtype: int64"
      ]
     },
     "execution_count": 204,
     "metadata": {},
     "output_type": "execute_result"
    }
   ],
   "source": [
    "df['Energietraeger'].value_counts()"
   ]
  },
  {
   "cell_type": "code",
   "execution_count": 192,
   "id": "314aef88-1f67-4e28-90ba-d4a73210e0df",
   "metadata": {
    "tags": []
   },
   "outputs": [
    {
     "data": {
      "text/plain": [
       "NameWindpark\n",
       "Bürgerwindpark Reußenköge GmbH ＆ Co. KG    87\n",
       "Windpark Midlum                            70\n",
       "Windrad                                    54\n",
       "Drohndorf                                  53\n",
       "Dahme                                      51\n",
       "                                           ..\n",
       "Windkraft 931993719                         1\n",
       "Polaris 1                                   1\n",
       "Windenergieanlage Lützenreuth               1\n",
       "Windenergieanlage Zweifelsheim              1\n",
       "Güterberg Wind                              1\n",
       "Name: count, Length: 10612, dtype: int64"
      ]
     },
     "execution_count": 192,
     "metadata": {},
     "output_type": "execute_result"
    }
   ],
   "source": [
    "df['NameWindpark'].value_counts()"
   ]
  },
  {
   "cell_type": "markdown",
   "id": "92f41761-da35-459e-b1a1-b316c91aef46",
   "metadata": {},
   "source": [
    "### Missing data\n",
    "- Note: Inbetriebnahmedatum missing values because these turbines have status EinheitBetriebsstatus = In Planung\n",
    "    - That means we have full data for Inbetriebnahmedatum since we filter out turbines in planning!"
   ]
  },
  {
   "cell_type": "code",
   "execution_count": 179,
   "id": "262f3243-5676-4b95-b9b0-6630af0e9efe",
   "metadata": {
    "tags": []
   },
   "outputs": [
    {
     "data": {
      "text/plain": [
       "Land                                      0\n",
       "Bundesland                                0\n",
       "Landkreis                                 0\n",
       "Postleitzahl                              0\n",
       "Ort                                       0\n",
       "Laengengrad                             895\n",
       "Breitengrad                             895\n",
       "Registrierungsdatum                       0\n",
       "Inbetriebnahmedatum                    2241\n",
       "EinheitBetriebsstatus                     0\n",
       "Energietraeger                            0\n",
       "Bruttoleistung                            0\n",
       "Nettonennleistung                         0\n",
       "AnschlussAnHoechstOderHochSpannung     9509\n",
       "Einspeisungsart                         652\n",
       "NameWindpark                            807\n",
       "Lage                                      0\n",
       "Hersteller                              330\n",
       "Technologie                               0\n",
       "Typenbezeichnung                        346\n",
       "Nabenhoehe                              761\n",
       "Rotordurchmesser                        386\n",
       "Rotorblattenteisungssystem             7828\n",
       "GeplantesInbetriebnahmedatum          30460\n",
       "dtype: int64"
      ]
     },
     "execution_count": 179,
     "metadata": {},
     "output_type": "execute_result"
    }
   ],
   "source": [
    "df.isna().sum()"
   ]
  },
  {
   "cell_type": "code",
   "execution_count": 157,
   "id": "896d0400-723e-4639-8d54-69705680491e",
   "metadata": {
    "tags": []
   },
   "outputs": [
    {
     "data": {
      "text/html": [
       "<div>\n",
       "<style scoped>\n",
       "    .dataframe tbody tr th:only-of-type {\n",
       "        vertical-align: middle;\n",
       "    }\n",
       "\n",
       "    .dataframe tbody tr th {\n",
       "        vertical-align: top;\n",
       "    }\n",
       "\n",
       "    .dataframe thead th {\n",
       "        text-align: right;\n",
       "    }\n",
       "</style>\n",
       "<table border=\"1\" class=\"dataframe\">\n",
       "  <thead>\n",
       "    <tr style=\"text-align: right;\">\n",
       "      <th></th>\n",
       "      <th>Land</th>\n",
       "      <th>Bundesland</th>\n",
       "      <th>Landkreis</th>\n",
       "      <th>Postleitzahl</th>\n",
       "      <th>Ort</th>\n",
       "      <th>Laengengrad</th>\n",
       "      <th>Breitengrad</th>\n",
       "      <th>Registrierungsdatum</th>\n",
       "      <th>Inbetriebnahmedatum</th>\n",
       "      <th>EinheitBetriebsstatus</th>\n",
       "      <th>Energietraeger</th>\n",
       "      <th>Bruttoleistung</th>\n",
       "      <th>Nettonennleistung</th>\n",
       "      <th>AnschlussAnHoechstOderHochSpannung</th>\n",
       "      <th>Einspeisungsart</th>\n",
       "      <th>NameWindpark</th>\n",
       "      <th>Lage</th>\n",
       "      <th>Hersteller</th>\n",
       "      <th>Technologie</th>\n",
       "      <th>Typenbezeichnung</th>\n",
       "      <th>Nabenhoehe</th>\n",
       "      <th>Rotordurchmesser</th>\n",
       "      <th>Rotorblattenteisungssystem</th>\n",
       "      <th>GeplantesInbetriebnahmedatum</th>\n",
       "      <th>Seelage</th>\n",
       "      <th>ClusterNordsee</th>\n",
       "      <th>Wassertiefe</th>\n",
       "      <th>Kuestenentfernung</th>\n",
       "      <th>ClusterOstsee</th>\n",
       "    </tr>\n",
       "  </thead>\n",
       "  <tbody>\n",
       "    <tr>\n",
       "      <th>0</th>\n",
       "      <td>Deutschland</td>\n",
       "      <td>Hessen</td>\n",
       "      <td>Werra-Meißner-Kreis</td>\n",
       "      <td>34298.0</td>\n",
       "      <td>Helsa</td>\n",
       "      <td>9.739374</td>\n",
       "      <td>51.270068</td>\n",
       "      <td>2019-02-13</td>\n",
       "      <td>2017-09-01</td>\n",
       "      <td>In Betrieb</td>\n",
       "      <td>Wind</td>\n",
       "      <td>3000.0</td>\n",
       "      <td>3000.0</td>\n",
       "      <td>1.0</td>\n",
       "      <td>Volleinspeisung</td>\n",
       "      <td>Windpark Kreuzstein</td>\n",
       "      <td>Windkraft an Land</td>\n",
       "      <td>ENERCON GmbH</td>\n",
       "      <td>Horizontalläufer</td>\n",
       "      <td>E-115</td>\n",
       "      <td>149.08</td>\n",
       "      <td>115.71</td>\n",
       "      <td>1.0</td>\n",
       "      <td>NaN</td>\n",
       "      <td>NaN</td>\n",
       "      <td>NaN</td>\n",
       "      <td>NaN</td>\n",
       "      <td>NaN</td>\n",
       "      <td>NaN</td>\n",
       "    </tr>\n",
       "    <tr>\n",
       "      <th>1</th>\n",
       "      <td>Deutschland</td>\n",
       "      <td>Schleswig-Holstein</td>\n",
       "      <td>Segeberg</td>\n",
       "      <td>23824.0</td>\n",
       "      <td>Damsdorf</td>\n",
       "      <td>10.299400</td>\n",
       "      <td>54.073831</td>\n",
       "      <td>2019-02-01</td>\n",
       "      <td>2017-09-28</td>\n",
       "      <td>In Betrieb</td>\n",
       "      <td>Wind</td>\n",
       "      <td>3000.0</td>\n",
       "      <td>3000.0</td>\n",
       "      <td>0.0</td>\n",
       "      <td>Volleinspeisung</td>\n",
       "      <td>Damsdorf</td>\n",
       "      <td>Windkraft an Land</td>\n",
       "      <td>ENERCON GmbH</td>\n",
       "      <td>Horizontalläufer</td>\n",
       "      <td>E-115</td>\n",
       "      <td>135.40</td>\n",
       "      <td>115.70</td>\n",
       "      <td>NaN</td>\n",
       "      <td>NaN</td>\n",
       "      <td>NaN</td>\n",
       "      <td>NaN</td>\n",
       "      <td>NaN</td>\n",
       "      <td>NaN</td>\n",
       "      <td>NaN</td>\n",
       "    </tr>\n",
       "  </tbody>\n",
       "</table>\n",
       "</div>"
      ],
      "text/plain": [
       "          Land          Bundesland            Landkreis  Postleitzahl  \\\n",
       "0  Deutschland              Hessen  Werra-Meißner-Kreis       34298.0   \n",
       "1  Deutschland  Schleswig-Holstein             Segeberg       23824.0   \n",
       "\n",
       "        Ort  Laengengrad  Breitengrad Registrierungsdatum Inbetriebnahmedatum  \\\n",
       "0     Helsa     9.739374    51.270068          2019-02-13          2017-09-01   \n",
       "1  Damsdorf    10.299400    54.073831          2019-02-01          2017-09-28   \n",
       "\n",
       "  EinheitBetriebsstatus Energietraeger  Bruttoleistung  Nettonennleistung  \\\n",
       "0            In Betrieb           Wind          3000.0             3000.0   \n",
       "1            In Betrieb           Wind          3000.0             3000.0   \n",
       "\n",
       "   AnschlussAnHoechstOderHochSpannung  Einspeisungsart         NameWindpark  \\\n",
       "0                                 1.0  Volleinspeisung  Windpark Kreuzstein   \n",
       "1                                 0.0  Volleinspeisung             Damsdorf   \n",
       "\n",
       "                Lage    Hersteller       Technologie Typenbezeichnung  \\\n",
       "0  Windkraft an Land  ENERCON GmbH  Horizontalläufer            E-115   \n",
       "1  Windkraft an Land  ENERCON GmbH  Horizontalläufer            E-115   \n",
       "\n",
       "   Nabenhoehe  Rotordurchmesser  Rotorblattenteisungssystem  \\\n",
       "0      149.08            115.71                         1.0   \n",
       "1      135.40            115.70                         NaN   \n",
       "\n",
       "  GeplantesInbetriebnahmedatum  Seelage  ClusterNordsee  Wassertiefe  \\\n",
       "0                          NaN      NaN             NaN          NaN   \n",
       "1                          NaN      NaN             NaN          NaN   \n",
       "\n",
       "   Kuestenentfernung  ClusterOstsee  \n",
       "0                NaN            NaN  \n",
       "1                NaN            NaN  "
      ]
     },
     "execution_count": 157,
     "metadata": {},
     "output_type": "execute_result"
    }
   ],
   "source": [
    "df.head(2)"
   ]
  },
  {
   "cell_type": "markdown",
   "id": "d01e0b92-45b9-4d01-a7b5-64dc49a419ae",
   "metadata": {},
   "source": [
    "### Dates"
   ]
  },
  {
   "cell_type": "code",
   "execution_count": 158,
   "id": "57de1258-d881-45bc-a80b-f49c9937fb46",
   "metadata": {
    "tags": []
   },
   "outputs": [],
   "source": [
    "# Convert date features to datetime objects\n",
    "# df['Registrierungsdatum'] = pd.to_datetime(df['Registrierungsdatum'])\n",
    "# df['Inbetriebnahmedatum'] = pd.to_datetime(df['Inbetriebnahmedatum'])"
   ]
  },
  {
   "cell_type": "markdown",
   "id": "30347ee2-54e5-4bfa-a332-d5db2680824f",
   "metadata": {},
   "source": [
    "#### Date range of Registrierungsdatum is Jan 2019 to May 2023"
   ]
  },
  {
   "cell_type": "code",
   "execution_count": 159,
   "id": "e68008f9-8ab4-45a9-ae27-3680877861e3",
   "metadata": {
    "tags": []
   },
   "outputs": [],
   "source": [
    "# df.sort_values(by='Registrierungsdatum', ascending=True)"
   ]
  },
  {
   "cell_type": "code",
   "execution_count": 160,
   "id": "a456b857-817d-4e42-a52f-b48642fc80e3",
   "metadata": {
    "tags": []
   },
   "outputs": [
    {
     "name": "stdout",
     "output_type": "stream",
     "text": [
      "2019-01-31 00:00:00\n",
      "2023-05-26 00:00:00\n"
     ]
    }
   ],
   "source": [
    "print(df['Registrierungsdatum'].min())\n",
    "print(df['Registrierungsdatum'].max())"
   ]
  },
  {
   "cell_type": "code",
   "execution_count": 161,
   "id": "08c544d1-4ec3-4bf8-925b-7a16ddd7744e",
   "metadata": {
    "tags": []
   },
   "outputs": [
    {
     "data": {
      "text/plain": [
       "Registrierungsdatum\n",
       "2019-12-31    13176\n",
       "2020-12-31    14736\n",
       "2021-12-31     3986\n",
       "2022-12-31     1633\n",
       "2023-12-31      953\n",
       "Freq: A-DEC, Name: Registrierungsdatum, dtype: int64"
      ]
     },
     "execution_count": 161,
     "metadata": {},
     "output_type": "execute_result"
    }
   ],
   "source": [
    "# Resample on datetime\n",
    "# Alternative using groupby: df.groupby(pd.Grouper(freq='W', key='Registrierungsdatum'))['Registrierungsdatum'].count()\n",
    "df.resample('A', on='Registrierungsdatum')['Registrierungsdatum'].count()"
   ]
  },
  {
   "cell_type": "code",
   "execution_count": 234,
   "id": "c513dce3-df29-48c3-859a-943ab9729fe5",
   "metadata": {
    "tags": []
   },
   "outputs": [
    {
     "ename": "TypeError",
     "evalue": "Only valid with DatetimeIndex, TimedeltaIndex or PeriodIndex, but got an instance of 'Index'",
     "output_type": "error",
     "traceback": [
      "\u001b[0;31m---------------------------------------------------------------------------\u001b[0m",
      "\u001b[0;31mTypeError\u001b[0m                                 Traceback (most recent call last)",
      "Cell \u001b[0;32mIn[234], line 1\u001b[0m\n\u001b[0;32m----> 1\u001b[0m \u001b[43mdf\u001b[49m\u001b[38;5;241;43m.\u001b[39;49m\u001b[43mresample\u001b[49m\u001b[43m(\u001b[49m\u001b[38;5;124;43m'\u001b[39;49m\u001b[38;5;124;43mA\u001b[39;49m\u001b[38;5;124;43m'\u001b[39;49m\u001b[43m,\u001b[49m\u001b[43m \u001b[49m\u001b[43mon\u001b[49m\u001b[38;5;241;43m=\u001b[39;49m\u001b[38;5;124;43m'\u001b[39;49m\u001b[38;5;124;43mRegistrierungsdatum\u001b[39;49m\u001b[38;5;124;43m'\u001b[39;49m\u001b[43m)\u001b[49m[\u001b[38;5;124m'\u001b[39m\u001b[38;5;124mRegistrierungsdatum\u001b[39m\u001b[38;5;124m'\u001b[39m]\u001b[38;5;241m.\u001b[39mcount()\u001b[38;5;241m.\u001b[39mplot\u001b[38;5;241m.\u001b[39mbar()\n",
      "File \u001b[0;32m/opt/miniconda3/envs/course_project/lib/python3.10/site-packages/pandas/core/frame.py:10994\u001b[0m, in \u001b[0;36mDataFrame.resample\u001b[0;34m(self, rule, axis, closed, label, convention, kind, on, level, origin, offset, group_keys)\u001b[0m\n\u001b[1;32m  10979\u001b[0m \u001b[38;5;129m@doc\u001b[39m(NDFrame\u001b[38;5;241m.\u001b[39mresample, \u001b[38;5;241m*\u001b[39m\u001b[38;5;241m*\u001b[39m_shared_doc_kwargs)\n\u001b[1;32m  10980\u001b[0m \u001b[38;5;28;01mdef\u001b[39;00m \u001b[38;5;21mresample\u001b[39m(\n\u001b[1;32m  10981\u001b[0m     \u001b[38;5;28mself\u001b[39m,\n\u001b[0;32m   (...)\u001b[0m\n\u001b[1;32m  10992\u001b[0m     group_keys: \u001b[38;5;28mbool\u001b[39m \u001b[38;5;241m=\u001b[39m \u001b[38;5;28;01mFalse\u001b[39;00m,\n\u001b[1;32m  10993\u001b[0m ) \u001b[38;5;241m-\u001b[39m\u001b[38;5;241m>\u001b[39m Resampler:\n\u001b[0;32m> 10994\u001b[0m     \u001b[38;5;28;01mreturn\u001b[39;00m \u001b[38;5;28;43msuper\u001b[39;49m\u001b[43m(\u001b[49m\u001b[43m)\u001b[49m\u001b[38;5;241;43m.\u001b[39;49m\u001b[43mresample\u001b[49m\u001b[43m(\u001b[49m\n\u001b[1;32m  10995\u001b[0m \u001b[43m        \u001b[49m\u001b[43mrule\u001b[49m\u001b[38;5;241;43m=\u001b[39;49m\u001b[43mrule\u001b[49m\u001b[43m,\u001b[49m\n\u001b[1;32m  10996\u001b[0m \u001b[43m        \u001b[49m\u001b[43maxis\u001b[49m\u001b[38;5;241;43m=\u001b[39;49m\u001b[43maxis\u001b[49m\u001b[43m,\u001b[49m\n\u001b[1;32m  10997\u001b[0m \u001b[43m        \u001b[49m\u001b[43mclosed\u001b[49m\u001b[38;5;241;43m=\u001b[39;49m\u001b[43mclosed\u001b[49m\u001b[43m,\u001b[49m\n\u001b[1;32m  10998\u001b[0m \u001b[43m        \u001b[49m\u001b[43mlabel\u001b[49m\u001b[38;5;241;43m=\u001b[39;49m\u001b[43mlabel\u001b[49m\u001b[43m,\u001b[49m\n\u001b[1;32m  10999\u001b[0m \u001b[43m        \u001b[49m\u001b[43mconvention\u001b[49m\u001b[38;5;241;43m=\u001b[39;49m\u001b[43mconvention\u001b[49m\u001b[43m,\u001b[49m\n\u001b[1;32m  11000\u001b[0m \u001b[43m        \u001b[49m\u001b[43mkind\u001b[49m\u001b[38;5;241;43m=\u001b[39;49m\u001b[43mkind\u001b[49m\u001b[43m,\u001b[49m\n\u001b[1;32m  11001\u001b[0m \u001b[43m        \u001b[49m\u001b[43mon\u001b[49m\u001b[38;5;241;43m=\u001b[39;49m\u001b[43mon\u001b[49m\u001b[43m,\u001b[49m\n\u001b[1;32m  11002\u001b[0m \u001b[43m        \u001b[49m\u001b[43mlevel\u001b[49m\u001b[38;5;241;43m=\u001b[39;49m\u001b[43mlevel\u001b[49m\u001b[43m,\u001b[49m\n\u001b[1;32m  11003\u001b[0m \u001b[43m        \u001b[49m\u001b[43morigin\u001b[49m\u001b[38;5;241;43m=\u001b[39;49m\u001b[43morigin\u001b[49m\u001b[43m,\u001b[49m\n\u001b[1;32m  11004\u001b[0m \u001b[43m        \u001b[49m\u001b[43moffset\u001b[49m\u001b[38;5;241;43m=\u001b[39;49m\u001b[43moffset\u001b[49m\u001b[43m,\u001b[49m\n\u001b[1;32m  11005\u001b[0m \u001b[43m        \u001b[49m\u001b[43mgroup_keys\u001b[49m\u001b[38;5;241;43m=\u001b[39;49m\u001b[43mgroup_keys\u001b[49m\u001b[43m,\u001b[49m\n\u001b[1;32m  11006\u001b[0m \u001b[43m    \u001b[49m\u001b[43m)\u001b[49m\n",
      "File \u001b[0;32m/opt/miniconda3/envs/course_project/lib/python3.10/site-packages/pandas/core/generic.py:8888\u001b[0m, in \u001b[0;36mNDFrame.resample\u001b[0;34m(self, rule, axis, closed, label, convention, kind, on, level, origin, offset, group_keys)\u001b[0m\n\u001b[1;32m   8885\u001b[0m \u001b[38;5;28;01mfrom\u001b[39;00m \u001b[38;5;21;01mpandas\u001b[39;00m\u001b[38;5;21;01m.\u001b[39;00m\u001b[38;5;21;01mcore\u001b[39;00m\u001b[38;5;21;01m.\u001b[39;00m\u001b[38;5;21;01mresample\u001b[39;00m \u001b[38;5;28;01mimport\u001b[39;00m get_resampler\n\u001b[1;32m   8887\u001b[0m axis \u001b[38;5;241m=\u001b[39m \u001b[38;5;28mself\u001b[39m\u001b[38;5;241m.\u001b[39m_get_axis_number(axis)\n\u001b[0;32m-> 8888\u001b[0m \u001b[38;5;28;01mreturn\u001b[39;00m \u001b[43mget_resampler\u001b[49m\u001b[43m(\u001b[49m\n\u001b[1;32m   8889\u001b[0m \u001b[43m    \u001b[49m\u001b[43mcast\u001b[49m\u001b[43m(\u001b[49m\u001b[38;5;124;43m\"\u001b[39;49m\u001b[38;5;124;43mSeries | DataFrame\u001b[39;49m\u001b[38;5;124;43m\"\u001b[39;49m\u001b[43m,\u001b[49m\u001b[43m \u001b[49m\u001b[38;5;28;43mself\u001b[39;49m\u001b[43m)\u001b[49m\u001b[43m,\u001b[49m\n\u001b[1;32m   8890\u001b[0m \u001b[43m    \u001b[49m\u001b[43mfreq\u001b[49m\u001b[38;5;241;43m=\u001b[39;49m\u001b[43mrule\u001b[49m\u001b[43m,\u001b[49m\n\u001b[1;32m   8891\u001b[0m \u001b[43m    \u001b[49m\u001b[43mlabel\u001b[49m\u001b[38;5;241;43m=\u001b[39;49m\u001b[43mlabel\u001b[49m\u001b[43m,\u001b[49m\n\u001b[1;32m   8892\u001b[0m \u001b[43m    \u001b[49m\u001b[43mclosed\u001b[49m\u001b[38;5;241;43m=\u001b[39;49m\u001b[43mclosed\u001b[49m\u001b[43m,\u001b[49m\n\u001b[1;32m   8893\u001b[0m \u001b[43m    \u001b[49m\u001b[43maxis\u001b[49m\u001b[38;5;241;43m=\u001b[39;49m\u001b[43maxis\u001b[49m\u001b[43m,\u001b[49m\n\u001b[1;32m   8894\u001b[0m \u001b[43m    \u001b[49m\u001b[43mkind\u001b[49m\u001b[38;5;241;43m=\u001b[39;49m\u001b[43mkind\u001b[49m\u001b[43m,\u001b[49m\n\u001b[1;32m   8895\u001b[0m \u001b[43m    \u001b[49m\u001b[43mconvention\u001b[49m\u001b[38;5;241;43m=\u001b[39;49m\u001b[43mconvention\u001b[49m\u001b[43m,\u001b[49m\n\u001b[1;32m   8896\u001b[0m \u001b[43m    \u001b[49m\u001b[43mkey\u001b[49m\u001b[38;5;241;43m=\u001b[39;49m\u001b[43mon\u001b[49m\u001b[43m,\u001b[49m\n\u001b[1;32m   8897\u001b[0m \u001b[43m    \u001b[49m\u001b[43mlevel\u001b[49m\u001b[38;5;241;43m=\u001b[39;49m\u001b[43mlevel\u001b[49m\u001b[43m,\u001b[49m\n\u001b[1;32m   8898\u001b[0m \u001b[43m    \u001b[49m\u001b[43morigin\u001b[49m\u001b[38;5;241;43m=\u001b[39;49m\u001b[43morigin\u001b[49m\u001b[43m,\u001b[49m\n\u001b[1;32m   8899\u001b[0m \u001b[43m    \u001b[49m\u001b[43moffset\u001b[49m\u001b[38;5;241;43m=\u001b[39;49m\u001b[43moffset\u001b[49m\u001b[43m,\u001b[49m\n\u001b[1;32m   8900\u001b[0m \u001b[43m    \u001b[49m\u001b[43mgroup_keys\u001b[49m\u001b[38;5;241;43m=\u001b[39;49m\u001b[43mgroup_keys\u001b[49m\u001b[43m,\u001b[49m\n\u001b[1;32m   8901\u001b[0m \u001b[43m\u001b[49m\u001b[43m)\u001b[49m\n",
      "File \u001b[0;32m/opt/miniconda3/envs/course_project/lib/python3.10/site-packages/pandas/core/resample.py:1523\u001b[0m, in \u001b[0;36mget_resampler\u001b[0;34m(obj, kind, **kwds)\u001b[0m\n\u001b[1;32m   1519\u001b[0m \u001b[38;5;250m\u001b[39m\u001b[38;5;124;03m\"\"\"\u001b[39;00m\n\u001b[1;32m   1520\u001b[0m \u001b[38;5;124;03mCreate a TimeGrouper and return our resampler.\u001b[39;00m\n\u001b[1;32m   1521\u001b[0m \u001b[38;5;124;03m\"\"\"\u001b[39;00m\n\u001b[1;32m   1522\u001b[0m tg \u001b[38;5;241m=\u001b[39m TimeGrouper(\u001b[38;5;241m*\u001b[39m\u001b[38;5;241m*\u001b[39mkwds)\n\u001b[0;32m-> 1523\u001b[0m \u001b[38;5;28;01mreturn\u001b[39;00m \u001b[43mtg\u001b[49m\u001b[38;5;241;43m.\u001b[39;49m\u001b[43m_get_resampler\u001b[49m\u001b[43m(\u001b[49m\u001b[43mobj\u001b[49m\u001b[43m,\u001b[49m\u001b[43m \u001b[49m\u001b[43mkind\u001b[49m\u001b[38;5;241;43m=\u001b[39;49m\u001b[43mkind\u001b[49m\u001b[43m)\u001b[49m\n",
      "File \u001b[0;32m/opt/miniconda3/envs/course_project/lib/python3.10/site-packages/pandas/core/resample.py:1713\u001b[0m, in \u001b[0;36mTimeGrouper._get_resampler\u001b[0;34m(self, obj, kind)\u001b[0m\n\u001b[1;32m   1704\u001b[0m \u001b[38;5;28;01melif\u001b[39;00m \u001b[38;5;28misinstance\u001b[39m(ax, TimedeltaIndex):\n\u001b[1;32m   1705\u001b[0m     \u001b[38;5;28;01mreturn\u001b[39;00m TimedeltaIndexResampler(\n\u001b[1;32m   1706\u001b[0m         obj,\n\u001b[1;32m   1707\u001b[0m         timegrouper\u001b[38;5;241m=\u001b[39m\u001b[38;5;28mself\u001b[39m,\n\u001b[0;32m   (...)\u001b[0m\n\u001b[1;32m   1710\u001b[0m         gpr_index\u001b[38;5;241m=\u001b[39max,\n\u001b[1;32m   1711\u001b[0m     )\n\u001b[0;32m-> 1713\u001b[0m \u001b[38;5;28;01mraise\u001b[39;00m \u001b[38;5;167;01mTypeError\u001b[39;00m(\n\u001b[1;32m   1714\u001b[0m     \u001b[38;5;124m\"\u001b[39m\u001b[38;5;124mOnly valid with DatetimeIndex, \u001b[39m\u001b[38;5;124m\"\u001b[39m\n\u001b[1;32m   1715\u001b[0m     \u001b[38;5;124m\"\u001b[39m\u001b[38;5;124mTimedeltaIndex or PeriodIndex, \u001b[39m\u001b[38;5;124m\"\u001b[39m\n\u001b[1;32m   1716\u001b[0m     \u001b[38;5;124mf\u001b[39m\u001b[38;5;124m\"\u001b[39m\u001b[38;5;124mbut got an instance of \u001b[39m\u001b[38;5;124m'\u001b[39m\u001b[38;5;132;01m{\u001b[39;00m\u001b[38;5;28mtype\u001b[39m(ax)\u001b[38;5;241m.\u001b[39m\u001b[38;5;18m__name__\u001b[39m\u001b[38;5;132;01m}\u001b[39;00m\u001b[38;5;124m'\u001b[39m\u001b[38;5;124m\"\u001b[39m\n\u001b[1;32m   1717\u001b[0m )\n",
      "\u001b[0;31mTypeError\u001b[0m: Only valid with DatetimeIndex, TimedeltaIndex or PeriodIndex, but got an instance of 'Index'"
     ]
    }
   ],
   "source": [
    "df.resample('A', on='Registrierungsdatum')['Registrierungsdatum'].count().plot.bar()"
   ]
  },
  {
   "cell_type": "markdown",
   "id": "07d21875-3d84-4d01-aec9-14544d9183ca",
   "metadata": {},
   "source": [
    "#### Date range of Inbetriebnahmedatum is 1960 to 2023\n",
    "- Process for registering "
   ]
  },
  {
   "cell_type": "code",
   "execution_count": 163,
   "id": "2e8539f2-419c-47f5-85c3-f9782ebb36a1",
   "metadata": {
    "tags": []
   },
   "outputs": [
    {
     "name": "stdout",
     "output_type": "stream",
     "text": [
      "1960-04-02 00:00:00\n",
      "2023-05-26 00:00:00\n"
     ]
    }
   ],
   "source": [
    "print(df['Inbetriebnahmedatum'].min())\n",
    "print(df['Inbetriebnahmedatum'].max())"
   ]
  },
  {
   "cell_type": "code",
   "execution_count": 164,
   "id": "cd59b440-c2ed-4152-b53e-359bbb1f043d",
   "metadata": {
    "tags": []
   },
   "outputs": [
    {
     "data": {
      "text/plain": [
       "<Axes: title={'center': 'Test'}, xlabel='Inbetriebnahmedatum'>"
      ]
     },
     "execution_count": 164,
     "metadata": {},
     "output_type": "execute_result"
    },
    {
     "data": {
      "image/png": "[encoded data removed]",
      "text/plain": [
       "<Figure size 704x528 with 1 Axes>"
      ]
     },
     "metadata": {},
     "output_type": "display_data"
    }
   ],
   "source": [
    "df.resample('A', on='Inbetriebnahmedatum')['Inbetriebnahmedatum'].count().plot(title='Test')"
   ]
  },
  {
   "cell_type": "code",
   "execution_count": 165,
   "id": "e3ba4885-d448-40c0-a0e7-4665a4df100c",
   "metadata": {
    "tags": []
   },
   "outputs": [
    {
     "data": {
      "text/plain": [
       "<Axes: title={'center': 'Test'}, xlabel='Inbetriebnahmedatum'>"
      ]
     },
     "execution_count": 165,
     "metadata": {},
     "output_type": "execute_result"
    },
    {
     "data": {
      "image/png": "[encoded data removed]",
      "text/plain": [
       "<Figure size 704x528 with 1 Axes>"
      ]
     },
     "metadata": {},
     "output_type": "display_data"
    }
   ],
   "source": [
    "df.resample('D', on='Inbetriebnahmedatum')['Inbetriebnahmedatum'].count().plot(title='Test')"
   ]
  },
  {
   "cell_type": "markdown",
   "id": "d144e114-d3a2-40d3-ba53-5f21476cfee3",
   "metadata": {},
   "source": [
    "### Unique value counts"
   ]
  },
  {
   "cell_type": "code",
   "execution_count": 19,
   "id": "9f07f1d2-002d-405a-a268-e5ec08dea850",
   "metadata": {
    "tags": []
   },
   "outputs": [
    {
     "data": {
      "text/plain": [
       "Energietraeger\n",
       "Wind    34484\n",
       "Name: count, dtype: int64"
      ]
     },
     "execution_count": 19,
     "metadata": {},
     "output_type": "execute_result"
    }
   ],
   "source": [
    "df['Energietraeger'].value_counts()"
   ]
  },
  {
   "cell_type": "code",
   "execution_count": 20,
   "id": "a8655590-2fbc-42ba-bc1f-8b6908139227",
   "metadata": {
    "tags": []
   },
   "outputs": [
    {
     "data": {
      "text/plain": [
       "Technologie\n",
       "Horizontalläufer    34027\n",
       "Vertikalläufer        457\n",
       "Name: count, dtype: int64"
      ]
     },
     "execution_count": 20,
     "metadata": {},
     "output_type": "execute_result"
    }
   ],
   "source": [
    "df['Technologie'].value_counts()"
   ]
  },
  {
   "cell_type": "code",
   "execution_count": 21,
   "id": "179743b9-b4aa-43ee-a52d-709603a2e996",
   "metadata": {
    "tags": []
   },
   "outputs": [
    {
     "data": {
      "text/plain": [
       "EinheitBetriebsstatus\n",
       "In Betrieb                   30983\n",
       "In Planung                    2464\n",
       "Endgültig stillgelegt          999\n",
       "Vorübergehend stillgelegt       38\n",
       "Name: count, dtype: int64"
      ]
     },
     "execution_count": 21,
     "metadata": {},
     "output_type": "execute_result"
    }
   ],
   "source": [
    "df['EinheitBetriebsstatus'].value_counts()"
   ]
  },
  {
   "cell_type": "code",
   "execution_count": 40,
   "id": "b5d6cdd2-8c46-43ce-acbb-31e2953a616f",
   "metadata": {
    "tags": []
   },
   "outputs": [
    {
     "data": {
      "text/plain": [
       "Lage\n",
       "Windkraft an Land    32700\n",
       "Windkraft auf See     1784\n",
       "Name: count, dtype: int64"
      ]
     },
     "execution_count": 40,
     "metadata": {},
     "output_type": "execute_result"
    }
   ],
   "source": [
    "# Land vs offshore\n",
    "df['Lage'].value_counts()"
   ]
  },
  {
   "cell_type": "code",
   "execution_count": 41,
   "id": "1da5845f-775d-4369-ad4c-3430c600a10e",
   "metadata": {
    "tags": []
   },
   "outputs": [
    {
     "data": {
      "text/plain": [
       "AnschlussAnHoechstOderHochSpannung\n",
       "0.0    15554\n",
       "1.0     9077\n",
       "Name: count, dtype: int64"
      ]
     },
     "execution_count": 41,
     "metadata": {},
     "output_type": "execute_result"
    }
   ],
   "source": [
    "df['AnschlussAnHoechstOderHochSpannung'].value_counts()"
   ]
  },
  {
   "cell_type": "code",
   "execution_count": 43,
   "id": "ab0532d5-462b-4743-8ad6-5b15299cae2e",
   "metadata": {
    "tags": []
   },
   "outputs": [
    {
     "data": {
      "text/plain": [
       "Hersteller\n",
       "ENERCON GmbH                        13057\n",
       "Vestas Deutschland GmbH              6600\n",
       "Nordex Energy GmbH                   2228\n",
       "Siemens Wind Power GmbH & Co. KG     1531\n",
       "Senvion Deutschland GmbH             1495\n",
       "                                    ...  \n",
       "Svit Vitru                              1\n",
       "ESPV-TEC GmbH & Co. KG                  1\n",
       "SMA Solar Technology AG                 1\n",
       "WES IBS GmbH                            1\n",
       "SB Energy UK Ltd.                       1\n",
       "Name: count, Length: 115, dtype: int64"
      ]
     },
     "execution_count": 43,
     "metadata": {},
     "output_type": "execute_result"
    }
   ],
   "source": [
    "df['Hersteller'].value_counts()"
   ]
  },
  {
   "cell_type": "markdown",
   "id": "c42b720d-e01c-40cc-8701-c517972c82cb",
   "metadata": {},
   "source": [
    "### Summary statistics of numerical continuous features\n",
    "- Looks like I'll want wind speed data for height 100m"
   ]
  },
  {
   "cell_type": "code",
   "execution_count": 50,
   "id": "5053b387-1750-434e-adbb-355ebb4933a4",
   "metadata": {
    "tags": []
   },
   "outputs": [
    {
     "data": {
      "text/html": [
       "<div>\n",
       "<style scoped>\n",
       "    .dataframe tbody tr th:only-of-type {\n",
       "        vertical-align: middle;\n",
       "    }\n",
       "\n",
       "    .dataframe tbody tr th {\n",
       "        vertical-align: top;\n",
       "    }\n",
       "\n",
       "    .dataframe thead th {\n",
       "        text-align: right;\n",
       "    }\n",
       "</style>\n",
       "<table border=\"1\" class=\"dataframe\">\n",
       "  <thead>\n",
       "    <tr style=\"text-align: right;\">\n",
       "      <th></th>\n",
       "      <th>Bruttoleistung</th>\n",
       "      <th>Nettonennleistung</th>\n",
       "      <th>Nabenhoehe</th>\n",
       "      <th>Rotordurchmesser</th>\n",
       "    </tr>\n",
       "  </thead>\n",
       "  <tbody>\n",
       "    <tr>\n",
       "      <th>count</th>\n",
       "      <td>34484.000000</td>\n",
       "      <td>34484.000000</td>\n",
       "      <td>33631.000000</td>\n",
       "      <td>34031.000000</td>\n",
       "    </tr>\n",
       "    <tr>\n",
       "      <th>mean</th>\n",
       "      <td>2370.309200</td>\n",
       "      <td>2370.309200</td>\n",
       "      <td>98.725831</td>\n",
       "      <td>87.096264</td>\n",
       "    </tr>\n",
       "    <tr>\n",
       "      <th>std</th>\n",
       "      <td>1681.910702</td>\n",
       "      <td>1681.910702</td>\n",
       "      <td>34.785787</td>\n",
       "      <td>35.863944</td>\n",
       "    </tr>\n",
       "    <tr>\n",
       "      <th>min</th>\n",
       "      <td>0.120000</td>\n",
       "      <td>0.120000</td>\n",
       "      <td>0.360000</td>\n",
       "      <td>0.300000</td>\n",
       "    </tr>\n",
       "    <tr>\n",
       "      <th>25%</th>\n",
       "      <td>1500.000000</td>\n",
       "      <td>1500.000000</td>\n",
       "      <td>70.000000</td>\n",
       "      <td>66.000000</td>\n",
       "    </tr>\n",
       "    <tr>\n",
       "      <th>50%</th>\n",
       "      <td>2000.000000</td>\n",
       "      <td>2000.000000</td>\n",
       "      <td>98.000000</td>\n",
       "      <td>82.000000</td>\n",
       "    </tr>\n",
       "    <tr>\n",
       "      <th>75%</th>\n",
       "      <td>3050.000000</td>\n",
       "      <td>3050.000000</td>\n",
       "      <td>134.000000</td>\n",
       "      <td>115.000000</td>\n",
       "    </tr>\n",
       "    <tr>\n",
       "      <th>max</th>\n",
       "      <td>20000.000000</td>\n",
       "      <td>20000.000000</td>\n",
       "      <td>200.000000</td>\n",
       "      <td>200.000000</td>\n",
       "    </tr>\n",
       "  </tbody>\n",
       "</table>\n",
       "</div>"
      ],
      "text/plain": [
       "       Bruttoleistung  Nettonennleistung    Nabenhoehe  Rotordurchmesser\n",
       "count    34484.000000       34484.000000  33631.000000      34031.000000\n",
       "mean      2370.309200        2370.309200     98.725831         87.096264\n",
       "std       1681.910702        1681.910702     34.785787         35.863944\n",
       "min          0.120000           0.120000      0.360000          0.300000\n",
       "25%       1500.000000        1500.000000     70.000000         66.000000\n",
       "50%       2000.000000        2000.000000     98.000000         82.000000\n",
       "75%       3050.000000        3050.000000    134.000000        115.000000\n",
       "max      20000.000000       20000.000000    200.000000        200.000000"
      ]
     },
     "execution_count": 50,
     "metadata": {},
     "output_type": "execute_result"
    }
   ],
   "source": [
    "df[['Bruttoleistung', 'Nettonennleistung', 'Nabenhoehe', 'Rotordurchmesser']].describe()"
   ]
  },
  {
   "cell_type": "markdown",
   "id": "28fc3111-28d1-44f4-87e5-336d8229cf41",
   "metadata": {},
   "source": [
    "### Create a date range/index and group turbine records on date they went into operation\n",
    "- Also aggregate some of the other columns on grouped days as well (e.g. average blade diameter, etc)"
   ]
  },
  {
   "cell_type": "code",
   "execution_count": 173,
   "id": "b99f34f6-5f97-4851-bc3f-20d153379894",
   "metadata": {},
   "outputs": [
    {
     "data": {
      "text/html": [
       "<div>\n",
       "<style scoped>\n",
       "    .dataframe tbody tr th:only-of-type {\n",
       "        vertical-align: middle;\n",
       "    }\n",
       "\n",
       "    .dataframe tbody tr th {\n",
       "        vertical-align: top;\n",
       "    }\n",
       "\n",
       "    .dataframe thead th {\n",
       "        text-align: right;\n",
       "    }\n",
       "</style>\n",
       "<table border=\"1\" class=\"dataframe\">\n",
       "  <thead>\n",
       "    <tr style=\"text-align: right;\">\n",
       "      <th></th>\n",
       "      <th>Land</th>\n",
       "      <th>Bundesland</th>\n",
       "      <th>Landkreis</th>\n",
       "      <th>Postleitzahl</th>\n",
       "      <th>Ort</th>\n",
       "      <th>Laengengrad</th>\n",
       "      <th>Breitengrad</th>\n",
       "      <th>Registrierungsdatum</th>\n",
       "      <th>Inbetriebnahmedatum</th>\n",
       "      <th>EinheitBetriebsstatus</th>\n",
       "      <th>Energietraeger</th>\n",
       "      <th>Bruttoleistung</th>\n",
       "      <th>Nettonennleistung</th>\n",
       "      <th>AnschlussAnHoechstOderHochSpannung</th>\n",
       "      <th>Einspeisungsart</th>\n",
       "      <th>NameWindpark</th>\n",
       "      <th>Lage</th>\n",
       "      <th>Hersteller</th>\n",
       "      <th>Technologie</th>\n",
       "      <th>Typenbezeichnung</th>\n",
       "      <th>Nabenhoehe</th>\n",
       "      <th>Rotordurchmesser</th>\n",
       "      <th>Rotorblattenteisungssystem</th>\n",
       "      <th>GeplantesInbetriebnahmedatum</th>\n",
       "      <th>Seelage</th>\n",
       "      <th>ClusterNordsee</th>\n",
       "      <th>Wassertiefe</th>\n",
       "      <th>Kuestenentfernung</th>\n",
       "      <th>ClusterOstsee</th>\n",
       "    </tr>\n",
       "  </thead>\n",
       "  <tbody>\n",
       "    <tr>\n",
       "      <th>97</th>\n",
       "      <td>Deutschland</td>\n",
       "      <td>Schleswig-Holstein</td>\n",
       "      <td>Nordfriesland</td>\n",
       "      <td>25873.0</td>\n",
       "      <td>Rantrum</td>\n",
       "      <td>NaN</td>\n",
       "      <td>NaN</td>\n",
       "      <td>2019-02-04</td>\n",
       "      <td>2018-04-24</td>\n",
       "      <td>Endgültig stillgelegt</td>\n",
       "      <td>Wind</td>\n",
       "      <td>10.0</td>\n",
       "      <td>10.0</td>\n",
       "      <td>NaN</td>\n",
       "      <td>Teileinspeisung (einschließlich Eigenverbrauch)</td>\n",
       "      <td>PSW</td>\n",
       "      <td>Windkraft an Land</td>\n",
       "      <td>PSW-Energiesysteme GmbH</td>\n",
       "      <td>Horizontalläufer</td>\n",
       "      <td>EN-Drive 2000.3 M</td>\n",
       "      <td>10.0</td>\n",
       "      <td>7.10</td>\n",
       "      <td>NaN</td>\n",
       "      <td>NaN</td>\n",
       "      <td>NaN</td>\n",
       "      <td>NaN</td>\n",
       "      <td>NaN</td>\n",
       "      <td>NaN</td>\n",
       "      <td>NaN</td>\n",
       "    </tr>\n",
       "    <tr>\n",
       "      <th>2194</th>\n",
       "      <td>Deutschland</td>\n",
       "      <td>Niedersachsen</td>\n",
       "      <td>Uelzen</td>\n",
       "      <td>29584.0</td>\n",
       "      <td>Himbergen</td>\n",
       "      <td>NaN</td>\n",
       "      <td>NaN</td>\n",
       "      <td>2019-03-03</td>\n",
       "      <td>2019-02-20</td>\n",
       "      <td>Endgültig stillgelegt</td>\n",
       "      <td>Wind</td>\n",
       "      <td>10.0</td>\n",
       "      <td>10.0</td>\n",
       "      <td>NaN</td>\n",
       "      <td>Teileinspeisung (einschließlich Eigenverbrauch)</td>\n",
       "      <td>Kleinwindkraftanlage</td>\n",
       "      <td>Windkraft an Land</td>\n",
       "      <td>PSW-Energiesysteme GmbH</td>\n",
       "      <td>Vertikalläufer</td>\n",
       "      <td>EN-Drive 2000.3 - 10 kW</td>\n",
       "      <td>NaN</td>\n",
       "      <td>7.50</td>\n",
       "      <td>NaN</td>\n",
       "      <td>NaN</td>\n",
       "      <td>NaN</td>\n",
       "      <td>NaN</td>\n",
       "      <td>NaN</td>\n",
       "      <td>NaN</td>\n",
       "      <td>NaN</td>\n",
       "    </tr>\n",
       "    <tr>\n",
       "      <th>2463</th>\n",
       "      <td>Deutschland</td>\n",
       "      <td>Bayern</td>\n",
       "      <td>Oberallgäu</td>\n",
       "      <td>87499.0</td>\n",
       "      <td>Wildpoldsried</td>\n",
       "      <td>NaN</td>\n",
       "      <td>NaN</td>\n",
       "      <td>2019-03-10</td>\n",
       "      <td>NaT</td>\n",
       "      <td>In Planung</td>\n",
       "      <td>Wind</td>\n",
       "      <td>1.4</td>\n",
       "      <td>1.4</td>\n",
       "      <td>NaN</td>\n",
       "      <td>Teileinspeisung (einschließlich Eigenverbrauch)</td>\n",
       "      <td>Wind of Change</td>\n",
       "      <td>Windkraft an Land</td>\n",
       "      <td>Sonstige</td>\n",
       "      <td>Horizontalläufer</td>\n",
       "      <td>Wind of Change 1400</td>\n",
       "      <td>12.1</td>\n",
       "      <td>1.40</td>\n",
       "      <td>NaN</td>\n",
       "      <td>2022-06-03</td>\n",
       "      <td>NaN</td>\n",
       "      <td>NaN</td>\n",
       "      <td>NaN</td>\n",
       "      <td>NaN</td>\n",
       "      <td>NaN</td>\n",
       "    </tr>\n",
       "    <tr>\n",
       "      <th>4464</th>\n",
       "      <td>Deutschland</td>\n",
       "      <td>Schleswig-Holstein</td>\n",
       "      <td>Schleswig-Flensburg</td>\n",
       "      <td>24989.0</td>\n",
       "      <td>Dollerup</td>\n",
       "      <td>NaN</td>\n",
       "      <td>NaN</td>\n",
       "      <td>2019-04-30</td>\n",
       "      <td>2019-04-16</td>\n",
       "      <td>Endgültig stillgelegt</td>\n",
       "      <td>Wind</td>\n",
       "      <td>7.5</td>\n",
       "      <td>7.5</td>\n",
       "      <td>NaN</td>\n",
       "      <td>Teileinspeisung (einschließlich Eigenverbrauch)</td>\n",
       "      <td>NaN</td>\n",
       "      <td>Windkraft an Land</td>\n",
       "      <td>Weinack Windenergie Anlagen GmbH</td>\n",
       "      <td>Horizontalläufer</td>\n",
       "      <td>WWA Falcon 40</td>\n",
       "      <td>18.0</td>\n",
       "      <td>7.13</td>\n",
       "      <td>NaN</td>\n",
       "      <td>NaN</td>\n",
       "      <td>NaN</td>\n",
       "      <td>NaN</td>\n",
       "      <td>NaN</td>\n",
       "      <td>NaN</td>\n",
       "      <td>NaN</td>\n",
       "    </tr>\n",
       "    <tr>\n",
       "      <th>4715</th>\n",
       "      <td>Deutschland</td>\n",
       "      <td>Nordrhein-Westfalen</td>\n",
       "      <td>Minden-Lübbecke</td>\n",
       "      <td>32609.0</td>\n",
       "      <td>Hüllhorst</td>\n",
       "      <td>NaN</td>\n",
       "      <td>NaN</td>\n",
       "      <td>2019-05-05</td>\n",
       "      <td>2015-07-12</td>\n",
       "      <td>Endgültig stillgelegt</td>\n",
       "      <td>Wind</td>\n",
       "      <td>1.2</td>\n",
       "      <td>1.2</td>\n",
       "      <td>NaN</td>\n",
       "      <td>Teileinspeisung (einschließlich Eigenverbrauch)</td>\n",
       "      <td>Windrad</td>\n",
       "      <td>Windkraft an Land</td>\n",
       "      <td>K.D.-Stahl- und Maschinenbau GmbH</td>\n",
       "      <td>Vertikalläufer</td>\n",
       "      <td>Amperius</td>\n",
       "      <td>NaN</td>\n",
       "      <td>1.50</td>\n",
       "      <td>NaN</td>\n",
       "      <td>NaN</td>\n",
       "      <td>NaN</td>\n",
       "      <td>NaN</td>\n",
       "      <td>NaN</td>\n",
       "      <td>NaN</td>\n",
       "      <td>NaN</td>\n",
       "    </tr>\n",
       "    <tr>\n",
       "      <th>...</th>\n",
       "      <td>...</td>\n",
       "      <td>...</td>\n",
       "      <td>...</td>\n",
       "      <td>...</td>\n",
       "      <td>...</td>\n",
       "      <td>...</td>\n",
       "      <td>...</td>\n",
       "      <td>...</td>\n",
       "      <td>...</td>\n",
       "      <td>...</td>\n",
       "      <td>...</td>\n",
       "      <td>...</td>\n",
       "      <td>...</td>\n",
       "      <td>...</td>\n",
       "      <td>...</td>\n",
       "      <td>...</td>\n",
       "      <td>...</td>\n",
       "      <td>...</td>\n",
       "      <td>...</td>\n",
       "      <td>...</td>\n",
       "      <td>...</td>\n",
       "      <td>...</td>\n",
       "      <td>...</td>\n",
       "      <td>...</td>\n",
       "      <td>...</td>\n",
       "      <td>...</td>\n",
       "      <td>...</td>\n",
       "      <td>...</td>\n",
       "      <td>...</td>\n",
       "    </tr>\n",
       "    <tr>\n",
       "      <th>34333</th>\n",
       "      <td>Deutschland</td>\n",
       "      <td>Schleswig-Holstein</td>\n",
       "      <td>Dithmarschen</td>\n",
       "      <td>25764.0</td>\n",
       "      <td>Wesselburenerkoog</td>\n",
       "      <td>NaN</td>\n",
       "      <td>NaN</td>\n",
       "      <td>2023-05-01</td>\n",
       "      <td>NaT</td>\n",
       "      <td>In Planung</td>\n",
       "      <td>Wind</td>\n",
       "      <td>6.0</td>\n",
       "      <td>6.0</td>\n",
       "      <td>NaN</td>\n",
       "      <td>Teileinspeisung (einschließlich Eigenverbrauch)</td>\n",
       "      <td>vertikal</td>\n",
       "      <td>Windkraft an Land</td>\n",
       "      <td>Sonstige</td>\n",
       "      <td>Horizontalläufer</td>\n",
       "      <td>Bayoung-FH3.6M-NEW</td>\n",
       "      <td>9.0</td>\n",
       "      <td>3.00</td>\n",
       "      <td>0.0</td>\n",
       "      <td>2023-09-01</td>\n",
       "      <td>NaN</td>\n",
       "      <td>NaN</td>\n",
       "      <td>NaN</td>\n",
       "      <td>NaN</td>\n",
       "      <td>NaN</td>\n",
       "    </tr>\n",
       "    <tr>\n",
       "      <th>34334</th>\n",
       "      <td>Deutschland</td>\n",
       "      <td>Schleswig-Holstein</td>\n",
       "      <td>Nordfriesland</td>\n",
       "      <td>25882.0</td>\n",
       "      <td>Tetenbüll</td>\n",
       "      <td>NaN</td>\n",
       "      <td>NaN</td>\n",
       "      <td>2023-05-03</td>\n",
       "      <td>NaT</td>\n",
       "      <td>In Planung</td>\n",
       "      <td>Wind</td>\n",
       "      <td>1.0</td>\n",
       "      <td>1.0</td>\n",
       "      <td>NaN</td>\n",
       "      <td>Teileinspeisung (einschließlich Eigenverbrauch)</td>\n",
       "      <td>NaN</td>\n",
       "      <td>Windkraft an Land</td>\n",
       "      <td>SkyWind GmbH</td>\n",
       "      <td>Horizontalläufer</td>\n",
       "      <td>SkyWind NG</td>\n",
       "      <td>8.0</td>\n",
       "      <td>1.50</td>\n",
       "      <td>0.0</td>\n",
       "      <td>2023-05-22</td>\n",
       "      <td>NaN</td>\n",
       "      <td>NaN</td>\n",
       "      <td>NaN</td>\n",
       "      <td>NaN</td>\n",
       "      <td>NaN</td>\n",
       "    </tr>\n",
       "    <tr>\n",
       "      <th>34336</th>\n",
       "      <td>Deutschland</td>\n",
       "      <td>Niedersachsen</td>\n",
       "      <td>Uelzen</td>\n",
       "      <td>29571.0</td>\n",
       "      <td>Rosche</td>\n",
       "      <td>NaN</td>\n",
       "      <td>NaN</td>\n",
       "      <td>2023-05-06</td>\n",
       "      <td>NaT</td>\n",
       "      <td>In Planung</td>\n",
       "      <td>Wind</td>\n",
       "      <td>0.6</td>\n",
       "      <td>0.6</td>\n",
       "      <td>NaN</td>\n",
       "      <td>Teileinspeisung (einschließlich Eigenverbrauch)</td>\n",
       "      <td>Sky Wind Dachanlage</td>\n",
       "      <td>Windkraft an Land</td>\n",
       "      <td>SkyWind GmbH</td>\n",
       "      <td>Horizontalläufer</td>\n",
       "      <td>Sky Wind NG</td>\n",
       "      <td>9.0</td>\n",
       "      <td>1.35</td>\n",
       "      <td>0.0</td>\n",
       "      <td>2023-06-10</td>\n",
       "      <td>NaN</td>\n",
       "      <td>NaN</td>\n",
       "      <td>NaN</td>\n",
       "      <td>NaN</td>\n",
       "      <td>NaN</td>\n",
       "    </tr>\n",
       "    <tr>\n",
       "      <th>34340</th>\n",
       "      <td>Deutschland</td>\n",
       "      <td>Nordrhein-Westfalen</td>\n",
       "      <td>Dortmund</td>\n",
       "      <td>44269.0</td>\n",
       "      <td>Dortmund</td>\n",
       "      <td>NaN</td>\n",
       "      <td>NaN</td>\n",
       "      <td>2023-05-08</td>\n",
       "      <td>NaT</td>\n",
       "      <td>In Planung</td>\n",
       "      <td>Wind</td>\n",
       "      <td>2.0</td>\n",
       "      <td>2.0</td>\n",
       "      <td>NaN</td>\n",
       "      <td>Teileinspeisung (einschließlich Eigenverbrauch)</td>\n",
       "      <td>Conciso - Windpark</td>\n",
       "      <td>Windkraft an Land</td>\n",
       "      <td>SkyWind GmbH</td>\n",
       "      <td>Horizontalläufer</td>\n",
       "      <td>SkyWind NG 1kW</td>\n",
       "      <td>163.0</td>\n",
       "      <td>1.00</td>\n",
       "      <td>0.0</td>\n",
       "      <td>2023-06-30</td>\n",
       "      <td>NaN</td>\n",
       "      <td>NaN</td>\n",
       "      <td>NaN</td>\n",
       "      <td>NaN</td>\n",
       "      <td>NaN</td>\n",
       "    </tr>\n",
       "    <tr>\n",
       "      <th>34478</th>\n",
       "      <td>Deutschland</td>\n",
       "      <td>Bayern</td>\n",
       "      <td>Neustadt a.d. Aisch-Bad Windsheim</td>\n",
       "      <td>91438.0</td>\n",
       "      <td>Bad Windsheim</td>\n",
       "      <td>NaN</td>\n",
       "      <td>NaN</td>\n",
       "      <td>2023-05-19</td>\n",
       "      <td>NaT</td>\n",
       "      <td>In Planung</td>\n",
       "      <td>Wind</td>\n",
       "      <td>1.0</td>\n",
       "      <td>1.0</td>\n",
       "      <td>NaN</td>\n",
       "      <td>Teileinspeisung (einschließlich Eigenverbrauch)</td>\n",
       "      <td>NaN</td>\n",
       "      <td>Windkraft an Land</td>\n",
       "      <td>NaN</td>\n",
       "      <td>Horizontalläufer</td>\n",
       "      <td>NaN</td>\n",
       "      <td>8.0</td>\n",
       "      <td>3.00</td>\n",
       "      <td>0.0</td>\n",
       "      <td>2023-07-31</td>\n",
       "      <td>NaN</td>\n",
       "      <td>NaN</td>\n",
       "      <td>NaN</td>\n",
       "      <td>NaN</td>\n",
       "      <td>NaN</td>\n",
       "    </tr>\n",
       "  </tbody>\n",
       "</table>\n",
       "<p>102 rows × 29 columns</p>\n",
       "</div>"
      ],
      "text/plain": [
       "              Land           Bundesland                          Landkreis  \\\n",
       "97     Deutschland   Schleswig-Holstein                      Nordfriesland   \n",
       "2194   Deutschland        Niedersachsen                             Uelzen   \n",
       "2463   Deutschland               Bayern                         Oberallgäu   \n",
       "4464   Deutschland   Schleswig-Holstein                Schleswig-Flensburg   \n",
       "4715   Deutschland  Nordrhein-Westfalen                    Minden-Lübbecke   \n",
       "...            ...                  ...                                ...   \n",
       "34333  Deutschland   Schleswig-Holstein                       Dithmarschen   \n",
       "34334  Deutschland   Schleswig-Holstein                      Nordfriesland   \n",
       "34336  Deutschland        Niedersachsen                             Uelzen   \n",
       "34340  Deutschland  Nordrhein-Westfalen                           Dortmund   \n",
       "34478  Deutschland               Bayern  Neustadt a.d. Aisch-Bad Windsheim   \n",
       "\n",
       "       Postleitzahl                Ort  Laengengrad  Breitengrad  \\\n",
       "97          25873.0            Rantrum          NaN          NaN   \n",
       "2194        29584.0          Himbergen          NaN          NaN   \n",
       "2463        87499.0      Wildpoldsried          NaN          NaN   \n",
       "4464        24989.0           Dollerup          NaN          NaN   \n",
       "4715        32609.0          Hüllhorst          NaN          NaN   \n",
       "...             ...                ...          ...          ...   \n",
       "34333       25764.0  Wesselburenerkoog          NaN          NaN   \n",
       "34334       25882.0          Tetenbüll          NaN          NaN   \n",
       "34336       29571.0             Rosche          NaN          NaN   \n",
       "34340       44269.0           Dortmund          NaN          NaN   \n",
       "34478       91438.0      Bad Windsheim          NaN          NaN   \n",
       "\n",
       "      Registrierungsdatum Inbetriebnahmedatum  EinheitBetriebsstatus  \\\n",
       "97             2019-02-04          2018-04-24  Endgültig stillgelegt   \n",
       "2194           2019-03-03          2019-02-20  Endgültig stillgelegt   \n",
       "2463           2019-03-10                 NaT             In Planung   \n",
       "4464           2019-04-30          2019-04-16  Endgültig stillgelegt   \n",
       "4715           2019-05-05          2015-07-12  Endgültig stillgelegt   \n",
       "...                   ...                 ...                    ...   \n",
       "34333          2023-05-01                 NaT             In Planung   \n",
       "34334          2023-05-03                 NaT             In Planung   \n",
       "34336          2023-05-06                 NaT             In Planung   \n",
       "34340          2023-05-08                 NaT             In Planung   \n",
       "34478          2023-05-19                 NaT             In Planung   \n",
       "\n",
       "      Energietraeger  Bruttoleistung  Nettonennleistung  \\\n",
       "97              Wind            10.0               10.0   \n",
       "2194            Wind            10.0               10.0   \n",
       "2463            Wind             1.4                1.4   \n",
       "4464            Wind             7.5                7.5   \n",
       "4715            Wind             1.2                1.2   \n",
       "...              ...             ...                ...   \n",
       "34333           Wind             6.0                6.0   \n",
       "34334           Wind             1.0                1.0   \n",
       "34336           Wind             0.6                0.6   \n",
       "34340           Wind             2.0                2.0   \n",
       "34478           Wind             1.0                1.0   \n",
       "\n",
       "       AnschlussAnHoechstOderHochSpannung  \\\n",
       "97                                    NaN   \n",
       "2194                                  NaN   \n",
       "2463                                  NaN   \n",
       "4464                                  NaN   \n",
       "4715                                  NaN   \n",
       "...                                   ...   \n",
       "34333                                 NaN   \n",
       "34334                                 NaN   \n",
       "34336                                 NaN   \n",
       "34340                                 NaN   \n",
       "34478                                 NaN   \n",
       "\n",
       "                                       Einspeisungsart          NameWindpark  \\\n",
       "97     Teileinspeisung (einschließlich Eigenverbrauch)                   PSW   \n",
       "2194   Teileinspeisung (einschließlich Eigenverbrauch)  Kleinwindkraftanlage   \n",
       "2463   Teileinspeisung (einschließlich Eigenverbrauch)        Wind of Change   \n",
       "4464   Teileinspeisung (einschließlich Eigenverbrauch)                   NaN   \n",
       "4715   Teileinspeisung (einschließlich Eigenverbrauch)               Windrad   \n",
       "...                                                ...                   ...   \n",
       "34333  Teileinspeisung (einschließlich Eigenverbrauch)              vertikal   \n",
       "34334  Teileinspeisung (einschließlich Eigenverbrauch)                   NaN   \n",
       "34336  Teileinspeisung (einschließlich Eigenverbrauch)   Sky Wind Dachanlage   \n",
       "34340  Teileinspeisung (einschließlich Eigenverbrauch)    Conciso - Windpark   \n",
       "34478  Teileinspeisung (einschließlich Eigenverbrauch)                   NaN   \n",
       "\n",
       "                    Lage                         Hersteller       Technologie  \\\n",
       "97     Windkraft an Land            PSW-Energiesysteme GmbH  Horizontalläufer   \n",
       "2194   Windkraft an Land            PSW-Energiesysteme GmbH    Vertikalläufer   \n",
       "2463   Windkraft an Land                           Sonstige  Horizontalläufer   \n",
       "4464   Windkraft an Land   Weinack Windenergie Anlagen GmbH  Horizontalläufer   \n",
       "4715   Windkraft an Land  K.D.-Stahl- und Maschinenbau GmbH    Vertikalläufer   \n",
       "...                  ...                                ...               ...   \n",
       "34333  Windkraft an Land                           Sonstige  Horizontalläufer   \n",
       "34334  Windkraft an Land                       SkyWind GmbH  Horizontalläufer   \n",
       "34336  Windkraft an Land                       SkyWind GmbH  Horizontalläufer   \n",
       "34340  Windkraft an Land                       SkyWind GmbH  Horizontalläufer   \n",
       "34478  Windkraft an Land                                NaN  Horizontalläufer   \n",
       "\n",
       "              Typenbezeichnung  Nabenhoehe  Rotordurchmesser  \\\n",
       "97           EN-Drive 2000.3 M        10.0              7.10   \n",
       "2194   EN-Drive 2000.3 - 10 kW         NaN              7.50   \n",
       "2463       Wind of Change 1400        12.1              1.40   \n",
       "4464             WWA Falcon 40        18.0              7.13   \n",
       "4715                  Amperius         NaN              1.50   \n",
       "...                        ...         ...               ...   \n",
       "34333       Bayoung-FH3.6M-NEW         9.0              3.00   \n",
       "34334               SkyWind NG         8.0              1.50   \n",
       "34336              Sky Wind NG         9.0              1.35   \n",
       "34340           SkyWind NG 1kW       163.0              1.00   \n",
       "34478                      NaN         8.0              3.00   \n",
       "\n",
       "       Rotorblattenteisungssystem GeplantesInbetriebnahmedatum  Seelage  \\\n",
       "97                            NaN                          NaN      NaN   \n",
       "2194                          NaN                          NaN      NaN   \n",
       "2463                          NaN                   2022-06-03      NaN   \n",
       "4464                          NaN                          NaN      NaN   \n",
       "4715                          NaN                          NaN      NaN   \n",
       "...                           ...                          ...      ...   \n",
       "34333                         0.0                   2023-09-01      NaN   \n",
       "34334                         0.0                   2023-05-22      NaN   \n",
       "34336                         0.0                   2023-06-10      NaN   \n",
       "34340                         0.0                   2023-06-30      NaN   \n",
       "34478                         0.0                   2023-07-31      NaN   \n",
       "\n",
       "       ClusterNordsee  Wassertiefe  Kuestenentfernung  ClusterOstsee  \n",
       "97                NaN          NaN                NaN            NaN  \n",
       "2194              NaN          NaN                NaN            NaN  \n",
       "2463              NaN          NaN                NaN            NaN  \n",
       "4464              NaN          NaN                NaN            NaN  \n",
       "4715              NaN          NaN                NaN            NaN  \n",
       "...               ...          ...                ...            ...  \n",
       "34333             NaN          NaN                NaN            NaN  \n",
       "34334             NaN          NaN                NaN            NaN  \n",
       "34336             NaN          NaN                NaN            NaN  \n",
       "34340             NaN          NaN                NaN            NaN  \n",
       "34478             NaN          NaN                NaN            NaN  \n",
       "\n",
       "[102 rows x 29 columns]"
      ]
     },
     "execution_count": 173,
     "metadata": {},
     "output_type": "execute_result"
    }
   ],
   "source": [
    "df[df['Laengengrad'].isna() & (df['EinheitBetriebsstatus'] != 'In Betrieb')]"
   ]
  },
  {
   "cell_type": "code",
   "execution_count": null,
   "id": "108fdafa-059e-4d50-8df1-43fdecb6ab88",
   "metadata": {},
   "outputs": [],
   "source": []
  }
 ],
 "metadata": {
  "kernelspec": {
   "display_name": "course_project",
   "language": "python",
   "name": "course_project"
  },
  "language_info": {
   "codemirror_mode": {
    "name": "ipython",
    "version": 3
   },
   "file_extension": ".py",
   "mimetype": "text/x-python",
   "name": "python",
   "nbconvert_exporter": "python",
   "pygments_lexer": "ipython3",
   "version": "3.10.12"
  }
 },
 "nbformat": 4,
 "nbformat_minor": 5
}
