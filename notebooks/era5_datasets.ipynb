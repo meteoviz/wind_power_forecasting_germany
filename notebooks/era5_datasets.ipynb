{
 "cells": [
  {
   "cell_type": "markdown",
   "id": "7279276f-06b2-4466-b798-c124aec78eca",
   "metadata": {},
   "source": [
    "# ERA5 yearly datasets "
   ]
  },
  {
   "cell_type": "code",
   "execution_count": 1,
   "id": "eb3f2017-2103-4e03-8f8c-ec727c7f65d7",
   "metadata": {
    "tags": []
   },
   "outputs": [],
   "source": [
    "from pathlib import Path\n",
    "\n",
    "import numpy as np\n",
    "import pandas as pd\n",
    "import xarray as xr"
   ]
  },
  {
   "cell_type": "code",
   "execution_count": 2,
   "id": "85247267-1bfc-482b-85ff-e7cbada8a1ba",
   "metadata": {
    "tags": []
   },
   "outputs": [],
   "source": [
    "# Paths to my data directories\n",
    "cwd_path = Path.cwd()\n",
    "data_path = cwd_path.parent.joinpath('data')\n",
    "data_push_path = cwd_path.parent.joinpath('data_to_push')"
   ]
  },
  {
   "cell_type": "markdown",
   "id": "f34fd3e1-f41c-4f0a-bdd8-9325ff8e4502",
   "metadata": {},
   "source": [
    "#### Read in latest turbine data\n",
    "- Remove 4 turbines clearly outside of Germany given their coordinates in turbine dataset\n",
    "- Remove two turbines at grid point latitude 55.57\n",
    "    - index 3079 and 29763\n",
    "- Remove two turbines at grid point longitude 5.72\n",
    "    - index 26572, 30533\n",
    "- Now only 751 unique grid points used"
   ]
  },
  {
   "cell_type": "code",
   "execution_count": 53,
   "id": "dd03bc6e-4266-4a5c-bd9d-0c39c41e5cac",
   "metadata": {
    "tags": []
   },
   "outputs": [],
   "source": [
    "# Read in latest turbine data\n",
    "# Now only 30,642 after removing 3 turbines outside bounding box\n",
    "df_turbines = pd.read_pickle(data_push_path / 'df_turbines_knn_blades_haversine_elevation_utc_2_2018_2023.pkl')\n",
    "# df_turbines.info()"
   ]
  },
  {
   "cell_type": "code",
   "execution_count": 106,
   "id": "c36419d2-382f-4714-abcc-7194fb5b3544",
   "metadata": {
    "tags": []
   },
   "outputs": [],
   "source": [
    "# Get unique grid points for masking the xarray dataset later\n",
    "used_grid_points = df_turbines['nearest_grid_point'].unique()"
   ]
  },
  {
   "cell_type": "code",
   "execution_count": 108,
   "id": "6a479484-8454-45c1-8377-1b6cb15a0cbc",
   "metadata": {
    "tags": []
   },
   "outputs": [
    {
     "data": {
      "text/plain": [
       "(751,)"
      ]
     },
     "execution_count": 108,
     "metadata": {},
     "output_type": "execute_result"
    }
   ],
   "source": [
    "used_grid_points.shape"
   ]
  },
  {
   "cell_type": "code",
   "execution_count": 54,
   "id": "de107520-8f50-4846-a8a8-7eb81ddb229b",
   "metadata": {},
   "outputs": [],
   "source": [
    "# df_turbines.drop([3079, 29763, 26572, 30533], inplace=True)\n",
    "# df_turbines.reset_index(drop=True, inplace=True)\n",
    "# df_turbines.to_pickle(data_push_path / 'df_turbines_knn_blades_haversine_elevation_utc_2.pkl')"
   ]
  },
  {
   "cell_type": "markdown",
   "id": "1be25b1b-adfd-448f-8595-c203e2d3feef",
   "metadata": {},
   "source": [
    "#### Read ERA5 datasets into Xarray"
   ]
  },
  {
   "cell_type": "code",
   "execution_count": 55,
   "id": "a87f97d2-54fe-46e7-8948-f69ee6d2f5fb",
   "metadata": {
    "tags": []
   },
   "outputs": [
    {
     "name": "stdout",
     "output_type": "stream",
     "text": [
      "/Users/brand/my_code/meteoviz/course_project/data/ERA5/era5_2020.nc\n",
      "/Users/brand/my_code/meteoviz/course_project/data/ERA5/era5_2023_old.nc\n",
      "/Users/brand/my_code/meteoviz/course_project/data/ERA5/era5_2021.nc\n",
      "/Users/brand/my_code/meteoviz/course_project/data/ERA5/era5_combined.nc\n",
      "/Users/brand/my_code/meteoviz/course_project/data/ERA5/era5_2018.nc\n",
      "/Users/brand/my_code/meteoviz/course_project/data/ERA5/era5_2019.nc\n",
      "/Users/brand/my_code/meteoviz/course_project/data/ERA5/era5_2023_the_whole_year_how.nc\n",
      "/Users/brand/my_code/meteoviz/course_project/data/ERA5/era5_2022.nc\n",
      "/Users/brand/my_code/meteoviz/course_project/data/ERA5/era5_2023.nc\n"
     ]
    }
   ],
   "source": [
    "# Print files in my ERA5 dir\n",
    "for filepath in data_path.joinpath('ERA5').iterdir():\n",
    "    print(filepath)"
   ]
  },
  {
   "cell_type": "markdown",
   "id": "4cfe46dc-0ca0-466a-9849-0cb43caabe50",
   "metadata": {},
   "source": [
    "#### Note:\n",
    "- Note: year 2023 has an unexpected dim called `expver`\n",
    "    - \"expver is used to tell the difference between the initial release (expver=5, called ERA5T) and validated ERA5 data (expver=1). In most cases, ERA5 is identical to ERA5T\"\n",
    "    - More here: https://confluence.ecmwf.int/display/CKB/ERA5%3A+data+documentation#ERA5:datadocumentation-Dataupdatefrequency"
   ]
  },
  {
   "cell_type": "code",
   "execution_count": 56,
   "id": "c9e2f161-0630-4af8-b43d-191d680f0068",
   "metadata": {
    "tags": []
   },
   "outputs": [],
   "source": [
    "ds_2018 = xr.open_dataset(data_path.joinpath('ERA5').joinpath('era5_2018.nc'))"
   ]
  },
  {
   "cell_type": "code",
   "execution_count": 57,
   "id": "ddbd7c21-db79-4afd-ae38-c78d536d6297",
   "metadata": {
    "tags": []
   },
   "outputs": [],
   "source": [
    "ds_2019 = xr.open_dataset(data_path.joinpath('ERA5').joinpath('era5_2019.nc'))"
   ]
  },
  {
   "cell_type": "code",
   "execution_count": 58,
   "id": "eea220a2-9167-4fb5-9df8-272df2d646e1",
   "metadata": {
    "tags": []
   },
   "outputs": [],
   "source": [
    "ds_2020 = xr.open_dataset(data_path.joinpath('ERA5').joinpath('era5_2020.nc'))"
   ]
  },
  {
   "cell_type": "code",
   "execution_count": 59,
   "id": "5b30e806-4e6e-453b-8e0d-1949a38480a3",
   "metadata": {
    "tags": []
   },
   "outputs": [],
   "source": [
    "ds_2021 = xr.open_dataset(data_path.joinpath('ERA5').joinpath('era5_2021.nc'))"
   ]
  },
  {
   "cell_type": "code",
   "execution_count": 60,
   "id": "c3fbc9c6-7436-4751-8f38-841cfd9a8300",
   "metadata": {
    "tags": []
   },
   "outputs": [],
   "source": [
    "ds_2022 = xr.open_dataset(data_path.joinpath('ERA5').joinpath('era5_2022.nc'))"
   ]
  },
  {
   "cell_type": "code",
   "execution_count": 61,
   "id": "9a7ee00a-8bcd-48e3-bb81-57ff52c72d9f",
   "metadata": {
    "tags": []
   },
   "outputs": [],
   "source": [
    "ds_2023 = xr.open_dataset(data_path.joinpath('ERA5').joinpath('era5_2023.nc'))"
   ]
  },
  {
   "cell_type": "markdown",
   "id": "3478c0d3-6654-4b0a-bb40-a105eb15211a",
   "metadata": {},
   "source": [
    "#### Concat the xarray datasets along dimension `time`"
   ]
  },
  {
   "cell_type": "code",
   "execution_count": 62,
   "id": "3323b5f6-b77d-40af-a2c7-a8ea32abbb0a",
   "metadata": {
    "tags": []
   },
   "outputs": [],
   "source": [
    "datasets = [ds_2018, ds_2019, ds_2020, ds_2021, ds_2022, ds_2023]\n",
    "ds_combined = xr.concat(datasets, dim='time')"
   ]
  },
  {
   "cell_type": "markdown",
   "id": "37b2c26f-8348-4646-80a3-6462c141c67e",
   "metadata": {},
   "source": [
    "#### Subset using unique used grid points (to reduce data volume and file size)"
   ]
  },
  {
   "cell_type": "code",
   "execution_count": 69,
   "id": "39aa7260-30e3-498e-9aae-c91b75c32d8e",
   "metadata": {
    "tags": []
   },
   "outputs": [
    {
     "name": "stdout",
     "output_type": "stream",
     "text": [
      "(30,)\n",
      "(37,)\n"
     ]
    }
   ],
   "source": [
    "unique_lats = np.unique(df_turbines['nearest_grid_point'].apply(lambda coord: coord[0]))\n",
    "unique_lons = np.unique(df_turbines['nearest_grid_point'].apply(lambda coord: coord[1]))\n",
    "print(unique_lats.shape)\n",
    "print(unique_lons.shape)"
   ]
  },
  {
   "cell_type": "code",
   "execution_count": 71,
   "id": "24fdaac1-7bcb-48be-b320-047e6f6e3904",
   "metadata": {
    "tags": []
   },
   "outputs": [],
   "source": [
    "ds_combined_subset = ds_combined.sel(latitude=unique_lats, longitude=unique_lons)"
   ]
  },
  {
   "cell_type": "markdown",
   "id": "a86d6330-8f5d-4ada-ac71-5fe25271a3ef",
   "metadata": {},
   "source": [
    "#### Save combined, subsetted dataset"
   ]
  },
  {
   "cell_type": "code",
   "execution_count": 74,
   "id": "a11edf60-d7ca-47c3-8219-f7f3414b6976",
   "metadata": {
    "tags": []
   },
   "outputs": [],
   "source": [
    "# ds_combined_subset.to_netcdf(data_path.joinpath('ERA5').joinpath('era5_combined_subset.nc'))"
   ]
  },
  {
   "cell_type": "markdown",
   "id": "6ec55878-4c1d-47ed-b1fc-7e2d49b5b97d",
   "metadata": {},
   "source": [
    "-----"
   ]
  },
  {
   "cell_type": "markdown",
   "id": "f069490c-36c3-4409-b792-d79dfd121fbe",
   "metadata": {},
   "source": [
    "----"
   ]
  },
  {
   "cell_type": "markdown",
   "id": "20fd28a8-9c59-490d-aebf-8d9ce38f4c68",
   "metadata": {},
   "source": [
    "## Read in combined, subsetted ERA5 dataset as `ds`"
   ]
  },
  {
   "cell_type": "code",
   "execution_count": 75,
   "id": "04e81a87-7f4d-4484-a8e8-7ae36cba5b10",
   "metadata": {
    "tags": []
   },
   "outputs": [],
   "source": [
    "# Load back into xarray and check structure\n",
    "ds = xr.open_dataset(data_path.joinpath('ERA5').joinpath('era5_combined_subset.nc'))"
   ]
  },
  {
   "cell_type": "code",
   "execution_count": 76,
   "id": "4722ee3f-c693-42a3-af9c-ee5771aa30d1",
   "metadata": {
    "tags": []
   },
   "outputs": [
    {
     "data": {
      "text/html": [
       "<div><svg style=\"position: absolute; width: 0; height: 0; overflow: hidden\">\n",
       "<defs>\n",
       "<symbol id=\"icon-database\" viewBox=\"0 0 32 32\">\n",
       "<path d=\"M16 0c-8.837 0-16 2.239-16 5v4c0 2.761 7.163 5 16 5s16-2.239 16-5v-4c0-2.761-7.163-5-16-5z\"></path>\n",
       "<path d=\"M16 17c-8.837 0-16-2.239-16-5v6c0 2.761 7.163 5 16 5s16-2.239 16-5v-6c0 2.761-7.163 5-16 5z\"></path>\n",
       "<path d=\"M16 26c-8.837 0-16-2.239-16-5v6c0 2.761 7.163 5 16 5s16-2.239 16-5v-6c0 2.761-7.163 5-16 5z\"></path>\n",
       "</symbol>\n",
       "<symbol id=\"icon-file-text2\" viewBox=\"0 0 32 32\">\n",
       "<path d=\"M28.681 7.159c-0.694-0.947-1.662-2.053-2.724-3.116s-2.169-2.030-3.116-2.724c-1.612-1.182-2.393-1.319-2.841-1.319h-15.5c-1.378 0-2.5 1.121-2.5 2.5v27c0 1.378 1.122 2.5 2.5 2.5h23c1.378 0 2.5-1.122 2.5-2.5v-19.5c0-0.448-0.137-1.23-1.319-2.841zM24.543 5.457c0.959 0.959 1.712 1.825 2.268 2.543h-4.811v-4.811c0.718 0.556 1.584 1.309 2.543 2.268zM28 29.5c0 0.271-0.229 0.5-0.5 0.5h-23c-0.271 0-0.5-0.229-0.5-0.5v-27c0-0.271 0.229-0.5 0.5-0.5 0 0 15.499-0 15.5 0v7c0 0.552 0.448 1 1 1h7v19.5z\"></path>\n",
       "<path d=\"M23 26h-14c-0.552 0-1-0.448-1-1s0.448-1 1-1h14c0.552 0 1 0.448 1 1s-0.448 1-1 1z\"></path>\n",
       "<path d=\"M23 22h-14c-0.552 0-1-0.448-1-1s0.448-1 1-1h14c0.552 0 1 0.448 1 1s-0.448 1-1 1z\"></path>\n",
       "<path d=\"M23 18h-14c-0.552 0-1-0.448-1-1s0.448-1 1-1h14c0.552 0 1 0.448 1 1s-0.448 1-1 1z\"></path>\n",
       "</symbol>\n",
       "</defs>\n",
       "</svg>\n",
       "<style>/* CSS stylesheet for displaying xarray objects in jupyterlab.\n",
       " *\n",
       " */\n",
       "\n",
       ":root {\n",
       "  --xr-font-color0: var(--jp-content-font-color0, rgba(0, 0, 0, 1));\n",
       "  --xr-font-color2: var(--jp-content-font-color2, rgba(0, 0, 0, 0.54));\n",
       "  --xr-font-color3: var(--jp-content-font-color3, rgba(0, 0, 0, 0.38));\n",
       "  --xr-border-color: var(--jp-border-color2, #e0e0e0);\n",
       "  --xr-disabled-color: var(--jp-layout-color3, #bdbdbd);\n",
       "  --xr-background-color: var(--jp-layout-color0, white);\n",
       "  --xr-background-color-row-even: var(--jp-layout-color1, white);\n",
       "  --xr-background-color-row-odd: var(--jp-layout-color2, #eeeeee);\n",
       "}\n",
       "\n",
       "html[theme=dark],\n",
       "body[data-theme=dark],\n",
       "body.vscode-dark {\n",
       "  --xr-font-color0: rgba(255, 255, 255, 1);\n",
       "  --xr-font-color2: rgba(255, 255, 255, 0.54);\n",
       "  --xr-font-color3: rgba(255, 255, 255, 0.38);\n",
       "  --xr-border-color: #1F1F1F;\n",
       "  --xr-disabled-color: #515151;\n",
       "  --xr-background-color: #111111;\n",
       "  --xr-background-color-row-even: #111111;\n",
       "  --xr-background-color-row-odd: #313131;\n",
       "}\n",
       "\n",
       ".xr-wrap {\n",
       "  display: block !important;\n",
       "  min-width: 300px;\n",
       "  max-width: 700px;\n",
       "}\n",
       "\n",
       ".xr-text-repr-fallback {\n",
       "  /* fallback to plain text repr when CSS is not injected (untrusted notebook) */\n",
       "  display: none;\n",
       "}\n",
       "\n",
       ".xr-header {\n",
       "  padding-top: 6px;\n",
       "  padding-bottom: 6px;\n",
       "  margin-bottom: 4px;\n",
       "  border-bottom: solid 1px var(--xr-border-color);\n",
       "}\n",
       "\n",
       ".xr-header > div,\n",
       ".xr-header > ul {\n",
       "  display: inline;\n",
       "  margin-top: 0;\n",
       "  margin-bottom: 0;\n",
       "}\n",
       "\n",
       ".xr-obj-type,\n",
       ".xr-array-name {\n",
       "  margin-left: 2px;\n",
       "  margin-right: 10px;\n",
       "}\n",
       "\n",
       ".xr-obj-type {\n",
       "  color: var(--xr-font-color2);\n",
       "}\n",
       "\n",
       ".xr-sections {\n",
       "  padding-left: 0 !important;\n",
       "  display: grid;\n",
       "  grid-template-columns: 150px auto auto 1fr 20px 20px;\n",
       "}\n",
       "\n",
       ".xr-section-item {\n",
       "  display: contents;\n",
       "}\n",
       "\n",
       ".xr-section-item input {\n",
       "  display: none;\n",
       "}\n",
       "\n",
       ".xr-section-item input + label {\n",
       "  color: var(--xr-disabled-color);\n",
       "}\n",
       "\n",
       ".xr-section-item input:enabled + label {\n",
       "  cursor: pointer;\n",
       "  color: var(--xr-font-color2);\n",
       "}\n",
       "\n",
       ".xr-section-item input:enabled + label:hover {\n",
       "  color: var(--xr-font-color0);\n",
       "}\n",
       "\n",
       ".xr-section-summary {\n",
       "  grid-column: 1;\n",
       "  color: var(--xr-font-color2);\n",
       "  font-weight: 500;\n",
       "}\n",
       "\n",
       ".xr-section-summary > span {\n",
       "  display: inline-block;\n",
       "  padding-left: 0.5em;\n",
       "}\n",
       "\n",
       ".xr-section-summary-in:disabled + label {\n",
       "  color: var(--xr-font-color2);\n",
       "}\n",
       "\n",
       ".xr-section-summary-in + label:before {\n",
       "  display: inline-block;\n",
       "  content: '►';\n",
       "  font-size: 11px;\n",
       "  width: 15px;\n",
       "  text-align: center;\n",
       "}\n",
       "\n",
       ".xr-section-summary-in:disabled + label:before {\n",
       "  color: var(--xr-disabled-color);\n",
       "}\n",
       "\n",
       ".xr-section-summary-in:checked + label:before {\n",
       "  content: '▼';\n",
       "}\n",
       "\n",
       ".xr-section-summary-in:checked + label > span {\n",
       "  display: none;\n",
       "}\n",
       "\n",
       ".xr-section-summary,\n",
       ".xr-section-inline-details {\n",
       "  padding-top: 4px;\n",
       "  padding-bottom: 4px;\n",
       "}\n",
       "\n",
       ".xr-section-inline-details {\n",
       "  grid-column: 2 / -1;\n",
       "}\n",
       "\n",
       ".xr-section-details {\n",
       "  display: none;\n",
       "  grid-column: 1 / -1;\n",
       "  margin-bottom: 5px;\n",
       "}\n",
       "\n",
       ".xr-section-summary-in:checked ~ .xr-section-details {\n",
       "  display: contents;\n",
       "}\n",
       "\n",
       ".xr-array-wrap {\n",
       "  grid-column: 1 / -1;\n",
       "  display: grid;\n",
       "  grid-template-columns: 20px auto;\n",
       "}\n",
       "\n",
       ".xr-array-wrap > label {\n",
       "  grid-column: 1;\n",
       "  vertical-align: top;\n",
       "}\n",
       "\n",
       ".xr-preview {\n",
       "  color: var(--xr-font-color3);\n",
       "}\n",
       "\n",
       ".xr-array-preview,\n",
       ".xr-array-data {\n",
       "  padding: 0 5px !important;\n",
       "  grid-column: 2;\n",
       "}\n",
       "\n",
       ".xr-array-data,\n",
       ".xr-array-in:checked ~ .xr-array-preview {\n",
       "  display: none;\n",
       "}\n",
       "\n",
       ".xr-array-in:checked ~ .xr-array-data,\n",
       ".xr-array-preview {\n",
       "  display: inline-block;\n",
       "}\n",
       "\n",
       ".xr-dim-list {\n",
       "  display: inline-block !important;\n",
       "  list-style: none;\n",
       "  padding: 0 !important;\n",
       "  margin: 0;\n",
       "}\n",
       "\n",
       ".xr-dim-list li {\n",
       "  display: inline-block;\n",
       "  padding: 0;\n",
       "  margin: 0;\n",
       "}\n",
       "\n",
       ".xr-dim-list:before {\n",
       "  content: '(';\n",
       "}\n",
       "\n",
       ".xr-dim-list:after {\n",
       "  content: ')';\n",
       "}\n",
       "\n",
       ".xr-dim-list li:not(:last-child):after {\n",
       "  content: ',';\n",
       "  padding-right: 5px;\n",
       "}\n",
       "\n",
       ".xr-has-index {\n",
       "  font-weight: bold;\n",
       "}\n",
       "\n",
       ".xr-var-list,\n",
       ".xr-var-item {\n",
       "  display: contents;\n",
       "}\n",
       "\n",
       ".xr-var-item > div,\n",
       ".xr-var-item label,\n",
       ".xr-var-item > .xr-var-name span {\n",
       "  background-color: var(--xr-background-color-row-even);\n",
       "  margin-bottom: 0;\n",
       "}\n",
       "\n",
       ".xr-var-item > .xr-var-name:hover span {\n",
       "  padding-right: 5px;\n",
       "}\n",
       "\n",
       ".xr-var-list > li:nth-child(odd) > div,\n",
       ".xr-var-list > li:nth-child(odd) > label,\n",
       ".xr-var-list > li:nth-child(odd) > .xr-var-name span {\n",
       "  background-color: var(--xr-background-color-row-odd);\n",
       "}\n",
       "\n",
       ".xr-var-name {\n",
       "  grid-column: 1;\n",
       "}\n",
       "\n",
       ".xr-var-dims {\n",
       "  grid-column: 2;\n",
       "}\n",
       "\n",
       ".xr-var-dtype {\n",
       "  grid-column: 3;\n",
       "  text-align: right;\n",
       "  color: var(--xr-font-color2);\n",
       "}\n",
       "\n",
       ".xr-var-preview {\n",
       "  grid-column: 4;\n",
       "}\n",
       "\n",
       ".xr-index-preview {\n",
       "  grid-column: 2 / 5;\n",
       "  color: var(--xr-font-color2);\n",
       "}\n",
       "\n",
       ".xr-var-name,\n",
       ".xr-var-dims,\n",
       ".xr-var-dtype,\n",
       ".xr-preview,\n",
       ".xr-attrs dt {\n",
       "  white-space: nowrap;\n",
       "  overflow: hidden;\n",
       "  text-overflow: ellipsis;\n",
       "  padding-right: 10px;\n",
       "}\n",
       "\n",
       ".xr-var-name:hover,\n",
       ".xr-var-dims:hover,\n",
       ".xr-var-dtype:hover,\n",
       ".xr-attrs dt:hover {\n",
       "  overflow: visible;\n",
       "  width: auto;\n",
       "  z-index: 1;\n",
       "}\n",
       "\n",
       ".xr-var-attrs,\n",
       ".xr-var-data,\n",
       ".xr-index-data {\n",
       "  display: none;\n",
       "  background-color: var(--xr-background-color) !important;\n",
       "  padding-bottom: 5px !important;\n",
       "}\n",
       "\n",
       ".xr-var-attrs-in:checked ~ .xr-var-attrs,\n",
       ".xr-var-data-in:checked ~ .xr-var-data,\n",
       ".xr-index-data-in:checked ~ .xr-index-data {\n",
       "  display: block;\n",
       "}\n",
       "\n",
       ".xr-var-data > table {\n",
       "  float: right;\n",
       "}\n",
       "\n",
       ".xr-var-name span,\n",
       ".xr-var-data,\n",
       ".xr-index-name div,\n",
       ".xr-index-data,\n",
       ".xr-attrs {\n",
       "  padding-left: 25px !important;\n",
       "}\n",
       "\n",
       ".xr-attrs,\n",
       ".xr-var-attrs,\n",
       ".xr-var-data,\n",
       ".xr-index-data {\n",
       "  grid-column: 1 / -1;\n",
       "}\n",
       "\n",
       "dl.xr-attrs {\n",
       "  padding: 0;\n",
       "  margin: 0;\n",
       "  display: grid;\n",
       "  grid-template-columns: 125px auto;\n",
       "}\n",
       "\n",
       ".xr-attrs dt,\n",
       ".xr-attrs dd {\n",
       "  padding: 0;\n",
       "  margin: 0;\n",
       "  float: left;\n",
       "  padding-right: 10px;\n",
       "  width: auto;\n",
       "}\n",
       "\n",
       ".xr-attrs dt {\n",
       "  font-weight: normal;\n",
       "  grid-column: 1;\n",
       "}\n",
       "\n",
       ".xr-attrs dt:hover span {\n",
       "  display: inline-block;\n",
       "  background: var(--xr-background-color);\n",
       "  padding-right: 10px;\n",
       "}\n",
       "\n",
       ".xr-attrs dd {\n",
       "  grid-column: 2;\n",
       "  white-space: pre-wrap;\n",
       "  word-break: break-all;\n",
       "}\n",
       "\n",
       ".xr-icon-database,\n",
       ".xr-icon-file-text2,\n",
       ".xr-no-icon {\n",
       "  display: inline-block;\n",
       "  vertical-align: middle;\n",
       "  width: 1em;\n",
       "  height: 1.5em !important;\n",
       "  stroke-width: 0;\n",
       "  stroke: currentColor;\n",
       "  fill: currentColor;\n",
       "}\n",
       "</style><pre class='xr-text-repr-fallback'>&lt;xarray.Dataset&gt;\n",
       "Dimensions:    (longitude: 37, latitude: 30, time: 48168)\n",
       "Coordinates:\n",
       "  * longitude  (longitude) float32 5.97 6.22 6.47 6.72 ... 14.47 14.72 14.97\n",
       "  * latitude   (latitude) float32 47.57 47.82 48.07 48.32 ... 54.32 54.57 54.82\n",
       "  * time       (time) datetime64[ns] 2018-01-01 ... 2023-06-30T23:00:00\n",
       "Data variables:\n",
       "    u100       (time, latitude, longitude) float32 ...\n",
       "    v100       (time, latitude, longitude) float32 ...\n",
       "    u10        (time, latitude, longitude) float32 ...\n",
       "    v10        (time, latitude, longitude) float32 ...\n",
       "    t2m        (time, latitude, longitude) float32 ...\n",
       "    i10fg      (time, latitude, longitude) float32 ...\n",
       "    msl        (time, latitude, longitude) float32 ...\n",
       "Attributes:\n",
       "    Conventions:  CF-1.6\n",
       "    history:      2023-09-11 11:36:09 GMT by grib_to_netcdf-2.25.1: /opt/ecmw...</pre><div class='xr-wrap' style='display:none'><div class='xr-header'><div class='xr-obj-type'>xarray.Dataset</div></div><ul class='xr-sections'><li class='xr-section-item'><input id='section-a19d8268-4339-4aec-b59e-b3d786c27512' class='xr-section-summary-in' type='checkbox' disabled ><label for='section-a19d8268-4339-4aec-b59e-b3d786c27512' class='xr-section-summary'  title='Expand/collapse section'>Dimensions:</label><div class='xr-section-inline-details'><ul class='xr-dim-list'><li><span class='xr-has-index'>longitude</span>: 37</li><li><span class='xr-has-index'>latitude</span>: 30</li><li><span class='xr-has-index'>time</span>: 48168</li></ul></div><div class='xr-section-details'></div></li><li class='xr-section-item'><input id='section-0072e7c8-8d01-455b-be7c-484adc7d3b59' class='xr-section-summary-in' type='checkbox'  checked><label for='section-0072e7c8-8d01-455b-be7c-484adc7d3b59' class='xr-section-summary' >Coordinates: <span>(3)</span></label><div class='xr-section-inline-details'></div><div class='xr-section-details'><ul class='xr-var-list'><li class='xr-var-item'><div class='xr-var-name'><span class='xr-has-index'>longitude</span></div><div class='xr-var-dims'>(longitude)</div><div class='xr-var-dtype'>float32</div><div class='xr-var-preview xr-preview'>5.97 6.22 6.47 ... 14.72 14.97</div><input id='attrs-7b232b7d-7aa5-4131-8bee-b3bd5a48af2f' class='xr-var-attrs-in' type='checkbox' ><label for='attrs-7b232b7d-7aa5-4131-8bee-b3bd5a48af2f' title='Show/Hide attributes'><svg class='icon xr-icon-file-text2'><use xlink:href='#icon-file-text2'></use></svg></label><input id='data-a92e34a3-2b55-4f6e-8c36-fdb37fa18958' class='xr-var-data-in' type='checkbox'><label for='data-a92e34a3-2b55-4f6e-8c36-fdb37fa18958' title='Show/Hide data repr'><svg class='icon xr-icon-database'><use xlink:href='#icon-database'></use></svg></label><div class='xr-var-attrs'><dl class='xr-attrs'><dt><span>units :</span></dt><dd>degrees_east</dd><dt><span>long_name :</span></dt><dd>longitude</dd></dl></div><div class='xr-var-data'><pre>array([ 5.97,  6.22,  6.47,  6.72,  6.97,  7.22,  7.47,  7.72,  7.97,  8.22,\n",
       "        8.47,  8.72,  8.97,  9.22,  9.47,  9.72,  9.97, 10.22, 10.47, 10.72,\n",
       "       10.97, 11.22, 11.47, 11.72, 11.97, 12.22, 12.47, 12.72, 12.97, 13.22,\n",
       "       13.47, 13.72, 13.97, 14.22, 14.47, 14.72, 14.97], dtype=float32)</pre></div></li><li class='xr-var-item'><div class='xr-var-name'><span class='xr-has-index'>latitude</span></div><div class='xr-var-dims'>(latitude)</div><div class='xr-var-dtype'>float32</div><div class='xr-var-preview xr-preview'>47.57 47.82 48.07 ... 54.57 54.82</div><input id='attrs-577a85b6-c27b-4aa5-a44c-d30ce13df556' class='xr-var-attrs-in' type='checkbox' ><label for='attrs-577a85b6-c27b-4aa5-a44c-d30ce13df556' title='Show/Hide attributes'><svg class='icon xr-icon-file-text2'><use xlink:href='#icon-file-text2'></use></svg></label><input id='data-df2b88c6-330b-4d26-ae15-472860064d4c' class='xr-var-data-in' type='checkbox'><label for='data-df2b88c6-330b-4d26-ae15-472860064d4c' title='Show/Hide data repr'><svg class='icon xr-icon-database'><use xlink:href='#icon-database'></use></svg></label><div class='xr-var-attrs'><dl class='xr-attrs'><dt><span>units :</span></dt><dd>degrees_north</dd><dt><span>long_name :</span></dt><dd>latitude</dd></dl></div><div class='xr-var-data'><pre>array([47.57, 47.82, 48.07, 48.32, 48.57, 48.82, 49.07, 49.32, 49.57, 49.82,\n",
       "       50.07, 50.32, 50.57, 50.82, 51.07, 51.32, 51.57, 51.82, 52.07, 52.32,\n",
       "       52.57, 52.82, 53.07, 53.32, 53.57, 53.82, 54.07, 54.32, 54.57, 54.82],\n",
       "      dtype=float32)</pre></div></li><li class='xr-var-item'><div class='xr-var-name'><span class='xr-has-index'>time</span></div><div class='xr-var-dims'>(time)</div><div class='xr-var-dtype'>datetime64[ns]</div><div class='xr-var-preview xr-preview'>2018-01-01 ... 2023-06-30T23:00:00</div><input id='attrs-611cac33-fea3-4096-a42d-334ae37cb028' class='xr-var-attrs-in' type='checkbox' ><label for='attrs-611cac33-fea3-4096-a42d-334ae37cb028' title='Show/Hide attributes'><svg class='icon xr-icon-file-text2'><use xlink:href='#icon-file-text2'></use></svg></label><input id='data-bafcc316-ccba-4cfa-a706-e7f04350ebad' class='xr-var-data-in' type='checkbox'><label for='data-bafcc316-ccba-4cfa-a706-e7f04350ebad' title='Show/Hide data repr'><svg class='icon xr-icon-database'><use xlink:href='#icon-database'></use></svg></label><div class='xr-var-attrs'><dl class='xr-attrs'><dt><span>long_name :</span></dt><dd>time</dd></dl></div><div class='xr-var-data'><pre>array([&#x27;2018-01-01T00:00:00.000000000&#x27;, &#x27;2018-01-01T01:00:00.000000000&#x27;,\n",
       "       &#x27;2018-01-01T02:00:00.000000000&#x27;, ..., &#x27;2023-06-30T21:00:00.000000000&#x27;,\n",
       "       &#x27;2023-06-30T22:00:00.000000000&#x27;, &#x27;2023-06-30T23:00:00.000000000&#x27;],\n",
       "      dtype=&#x27;datetime64[ns]&#x27;)</pre></div></li></ul></div></li><li class='xr-section-item'><input id='section-4808b86e-4149-4aa4-976f-29eb53e36a39' class='xr-section-summary-in' type='checkbox'  checked><label for='section-4808b86e-4149-4aa4-976f-29eb53e36a39' class='xr-section-summary' >Data variables: <span>(7)</span></label><div class='xr-section-inline-details'></div><div class='xr-section-details'><ul class='xr-var-list'><li class='xr-var-item'><div class='xr-var-name'><span>u100</span></div><div class='xr-var-dims'>(time, latitude, longitude)</div><div class='xr-var-dtype'>float32</div><div class='xr-var-preview xr-preview'>...</div><input id='attrs-a8386246-3f5a-4fdf-b583-bc5c5f073001' class='xr-var-attrs-in' type='checkbox' ><label for='attrs-a8386246-3f5a-4fdf-b583-bc5c5f073001' title='Show/Hide attributes'><svg class='icon xr-icon-file-text2'><use xlink:href='#icon-file-text2'></use></svg></label><input id='data-596ddc2b-2f4b-4a05-9e49-0136135111b2' class='xr-var-data-in' type='checkbox'><label for='data-596ddc2b-2f4b-4a05-9e49-0136135111b2' title='Show/Hide data repr'><svg class='icon xr-icon-database'><use xlink:href='#icon-database'></use></svg></label><div class='xr-var-attrs'><dl class='xr-attrs'><dt><span>units :</span></dt><dd>m s**-1</dd><dt><span>long_name :</span></dt><dd>100 metre U wind component</dd></dl></div><div class='xr-var-data'><pre>[53466480 values with dtype=float32]</pre></div></li><li class='xr-var-item'><div class='xr-var-name'><span>v100</span></div><div class='xr-var-dims'>(time, latitude, longitude)</div><div class='xr-var-dtype'>float32</div><div class='xr-var-preview xr-preview'>...</div><input id='attrs-5efd075f-a421-45ff-90e9-7b392781007b' class='xr-var-attrs-in' type='checkbox' ><label for='attrs-5efd075f-a421-45ff-90e9-7b392781007b' title='Show/Hide attributes'><svg class='icon xr-icon-file-text2'><use xlink:href='#icon-file-text2'></use></svg></label><input id='data-dc6fe940-197f-470f-97d1-cc5ec9531672' class='xr-var-data-in' type='checkbox'><label for='data-dc6fe940-197f-470f-97d1-cc5ec9531672' title='Show/Hide data repr'><svg class='icon xr-icon-database'><use xlink:href='#icon-database'></use></svg></label><div class='xr-var-attrs'><dl class='xr-attrs'><dt><span>units :</span></dt><dd>m s**-1</dd><dt><span>long_name :</span></dt><dd>100 metre V wind component</dd></dl></div><div class='xr-var-data'><pre>[53466480 values with dtype=float32]</pre></div></li><li class='xr-var-item'><div class='xr-var-name'><span>u10</span></div><div class='xr-var-dims'>(time, latitude, longitude)</div><div class='xr-var-dtype'>float32</div><div class='xr-var-preview xr-preview'>...</div><input id='attrs-7bbabc91-db06-4beb-9c06-8c3b57e804c6' class='xr-var-attrs-in' type='checkbox' ><label for='attrs-7bbabc91-db06-4beb-9c06-8c3b57e804c6' title='Show/Hide attributes'><svg class='icon xr-icon-file-text2'><use xlink:href='#icon-file-text2'></use></svg></label><input id='data-b1084e52-310d-4cda-bb94-997337839acb' class='xr-var-data-in' type='checkbox'><label for='data-b1084e52-310d-4cda-bb94-997337839acb' title='Show/Hide data repr'><svg class='icon xr-icon-database'><use xlink:href='#icon-database'></use></svg></label><div class='xr-var-attrs'><dl class='xr-attrs'><dt><span>units :</span></dt><dd>m s**-1</dd><dt><span>long_name :</span></dt><dd>10 metre U wind component</dd></dl></div><div class='xr-var-data'><pre>[53466480 values with dtype=float32]</pre></div></li><li class='xr-var-item'><div class='xr-var-name'><span>v10</span></div><div class='xr-var-dims'>(time, latitude, longitude)</div><div class='xr-var-dtype'>float32</div><div class='xr-var-preview xr-preview'>...</div><input id='attrs-c31787d9-9ae0-48f4-b84b-f12bc2d585cf' class='xr-var-attrs-in' type='checkbox' ><label for='attrs-c31787d9-9ae0-48f4-b84b-f12bc2d585cf' title='Show/Hide attributes'><svg class='icon xr-icon-file-text2'><use xlink:href='#icon-file-text2'></use></svg></label><input id='data-0192f449-3a28-431f-949b-d32d353c711d' class='xr-var-data-in' type='checkbox'><label for='data-0192f449-3a28-431f-949b-d32d353c711d' title='Show/Hide data repr'><svg class='icon xr-icon-database'><use xlink:href='#icon-database'></use></svg></label><div class='xr-var-attrs'><dl class='xr-attrs'><dt><span>units :</span></dt><dd>m s**-1</dd><dt><span>long_name :</span></dt><dd>10 metre V wind component</dd></dl></div><div class='xr-var-data'><pre>[53466480 values with dtype=float32]</pre></div></li><li class='xr-var-item'><div class='xr-var-name'><span>t2m</span></div><div class='xr-var-dims'>(time, latitude, longitude)</div><div class='xr-var-dtype'>float32</div><div class='xr-var-preview xr-preview'>...</div><input id='attrs-a3b9a3ac-eb68-4746-8737-1fef0a2d3a8b' class='xr-var-attrs-in' type='checkbox' ><label for='attrs-a3b9a3ac-eb68-4746-8737-1fef0a2d3a8b' title='Show/Hide attributes'><svg class='icon xr-icon-file-text2'><use xlink:href='#icon-file-text2'></use></svg></label><input id='data-998cc2f0-c2c6-4f8a-9285-a4c763123e0f' class='xr-var-data-in' type='checkbox'><label for='data-998cc2f0-c2c6-4f8a-9285-a4c763123e0f' title='Show/Hide data repr'><svg class='icon xr-icon-database'><use xlink:href='#icon-database'></use></svg></label><div class='xr-var-attrs'><dl class='xr-attrs'><dt><span>units :</span></dt><dd>K</dd><dt><span>long_name :</span></dt><dd>2 metre temperature</dd></dl></div><div class='xr-var-data'><pre>[53466480 values with dtype=float32]</pre></div></li><li class='xr-var-item'><div class='xr-var-name'><span>i10fg</span></div><div class='xr-var-dims'>(time, latitude, longitude)</div><div class='xr-var-dtype'>float32</div><div class='xr-var-preview xr-preview'>...</div><input id='attrs-45e3dbe6-5c4b-4635-b2b6-8d458c3c46ce' class='xr-var-attrs-in' type='checkbox' ><label for='attrs-45e3dbe6-5c4b-4635-b2b6-8d458c3c46ce' title='Show/Hide attributes'><svg class='icon xr-icon-file-text2'><use xlink:href='#icon-file-text2'></use></svg></label><input id='data-a19c771c-f2a0-4f0b-ab20-c4980bdf96e8' class='xr-var-data-in' type='checkbox'><label for='data-a19c771c-f2a0-4f0b-ab20-c4980bdf96e8' title='Show/Hide data repr'><svg class='icon xr-icon-database'><use xlink:href='#icon-database'></use></svg></label><div class='xr-var-attrs'><dl class='xr-attrs'><dt><span>units :</span></dt><dd>m s**-1</dd><dt><span>long_name :</span></dt><dd>Instantaneous 10 metre wind gust</dd></dl></div><div class='xr-var-data'><pre>[53466480 values with dtype=float32]</pre></div></li><li class='xr-var-item'><div class='xr-var-name'><span>msl</span></div><div class='xr-var-dims'>(time, latitude, longitude)</div><div class='xr-var-dtype'>float32</div><div class='xr-var-preview xr-preview'>...</div><input id='attrs-bc87288d-81c3-42fa-a343-d1bf2d334014' class='xr-var-attrs-in' type='checkbox' ><label for='attrs-bc87288d-81c3-42fa-a343-d1bf2d334014' title='Show/Hide attributes'><svg class='icon xr-icon-file-text2'><use xlink:href='#icon-file-text2'></use></svg></label><input id='data-a6aeb213-7048-4767-b729-53e9de0dd791' class='xr-var-data-in' type='checkbox'><label for='data-a6aeb213-7048-4767-b729-53e9de0dd791' title='Show/Hide data repr'><svg class='icon xr-icon-database'><use xlink:href='#icon-database'></use></svg></label><div class='xr-var-attrs'><dl class='xr-attrs'><dt><span>units :</span></dt><dd>Pa</dd><dt><span>long_name :</span></dt><dd>Mean sea level pressure</dd><dt><span>standard_name :</span></dt><dd>air_pressure_at_mean_sea_level</dd></dl></div><div class='xr-var-data'><pre>[53466480 values with dtype=float32]</pre></div></li></ul></div></li><li class='xr-section-item'><input id='section-e4e9c1cb-3579-4521-b2cc-a925319c7242' class='xr-section-summary-in' type='checkbox'  ><label for='section-e4e9c1cb-3579-4521-b2cc-a925319c7242' class='xr-section-summary' >Indexes: <span>(3)</span></label><div class='xr-section-inline-details'></div><div class='xr-section-details'><ul class='xr-var-list'><li class='xr-var-item'><div class='xr-index-name'><div>longitude</div></div><div class='xr-index-preview'>PandasIndex</div><div></div><input id='index-23f37f20-3c31-46d9-97f9-ad2b539b4b29' class='xr-index-data-in' type='checkbox'/><label for='index-23f37f20-3c31-46d9-97f9-ad2b539b4b29' title='Show/Hide index repr'><svg class='icon xr-icon-database'><use xlink:href='#icon-database'></use></svg></label><div class='xr-index-data'><pre>PandasIndex(Index([  5.96999979019165,   6.21999979019165,   6.46999979019165,\n",
       "         6.71999979019165,   6.96999979019165,   7.21999979019165,\n",
       "         7.46999979019165,   7.71999979019165,   7.96999979019165,\n",
       "        8.220000267028809,  8.470000267028809,  8.720000267028809,\n",
       "        8.970000267028809,  9.220000267028809,  9.470000267028809,\n",
       "        9.720000267028809,  9.970000267028809, 10.220000267028809,\n",
       "       10.470000267028809, 10.720000267028809, 10.970000267028809,\n",
       "       11.220000267028809, 11.470000267028809, 11.720000267028809,\n",
       "       11.970000267028809, 12.220000267028809, 12.470000267028809,\n",
       "       12.720000267028809, 12.970000267028809, 13.220000267028809,\n",
       "       13.470000267028809, 13.720000267028809, 13.970000267028809,\n",
       "       14.220000267028809, 14.470000267028809, 14.720000267028809,\n",
       "       14.970000267028809],\n",
       "      dtype=&#x27;float32&#x27;, name=&#x27;longitude&#x27;))</pre></div></li><li class='xr-var-item'><div class='xr-index-name'><div>latitude</div></div><div class='xr-index-preview'>PandasIndex</div><div></div><input id='index-ac38179c-f340-4b06-abf8-668c869da7ad' class='xr-index-data-in' type='checkbox'/><label for='index-ac38179c-f340-4b06-abf8-668c869da7ad' title='Show/Hide index repr'><svg class='icon xr-icon-database'><use xlink:href='#icon-database'></use></svg></label><div class='xr-index-data'><pre>PandasIndex(Index([47.56999969482422, 47.81999969482422, 48.06999969482422,\n",
       "       48.31999969482422, 48.56999969482422, 48.81999969482422,\n",
       "       49.06999969482422, 49.31999969482422, 49.56999969482422,\n",
       "       49.81999969482422, 50.06999969482422, 50.31999969482422,\n",
       "       50.56999969482422, 50.81999969482422, 51.06999969482422,\n",
       "       51.31999969482422, 51.56999969482422, 51.81999969482422,\n",
       "       52.06999969482422, 52.31999969482422, 52.56999969482422,\n",
       "       52.81999969482422, 53.06999969482422, 53.31999969482422,\n",
       "       53.56999969482422, 53.81999969482422, 54.06999969482422,\n",
       "       54.31999969482422, 54.56999969482422, 54.81999969482422],\n",
       "      dtype=&#x27;float32&#x27;, name=&#x27;latitude&#x27;))</pre></div></li><li class='xr-var-item'><div class='xr-index-name'><div>time</div></div><div class='xr-index-preview'>PandasIndex</div><div></div><input id='index-2606efd6-3e35-4958-8198-19adbb1f1745' class='xr-index-data-in' type='checkbox'/><label for='index-2606efd6-3e35-4958-8198-19adbb1f1745' title='Show/Hide index repr'><svg class='icon xr-icon-database'><use xlink:href='#icon-database'></use></svg></label><div class='xr-index-data'><pre>PandasIndex(DatetimeIndex([&#x27;2018-01-01 00:00:00&#x27;, &#x27;2018-01-01 01:00:00&#x27;,\n",
       "               &#x27;2018-01-01 02:00:00&#x27;, &#x27;2018-01-01 03:00:00&#x27;,\n",
       "               &#x27;2018-01-01 04:00:00&#x27;, &#x27;2018-01-01 05:00:00&#x27;,\n",
       "               &#x27;2018-01-01 06:00:00&#x27;, &#x27;2018-01-01 07:00:00&#x27;,\n",
       "               &#x27;2018-01-01 08:00:00&#x27;, &#x27;2018-01-01 09:00:00&#x27;,\n",
       "               ...\n",
       "               &#x27;2023-06-30 14:00:00&#x27;, &#x27;2023-06-30 15:00:00&#x27;,\n",
       "               &#x27;2023-06-30 16:00:00&#x27;, &#x27;2023-06-30 17:00:00&#x27;,\n",
       "               &#x27;2023-06-30 18:00:00&#x27;, &#x27;2023-06-30 19:00:00&#x27;,\n",
       "               &#x27;2023-06-30 20:00:00&#x27;, &#x27;2023-06-30 21:00:00&#x27;,\n",
       "               &#x27;2023-06-30 22:00:00&#x27;, &#x27;2023-06-30 23:00:00&#x27;],\n",
       "              dtype=&#x27;datetime64[ns]&#x27;, name=&#x27;time&#x27;, length=48168, freq=None))</pre></div></li></ul></div></li><li class='xr-section-item'><input id='section-650c3aa6-bf51-4d76-a03c-c9a3cc1702c9' class='xr-section-summary-in' type='checkbox'  checked><label for='section-650c3aa6-bf51-4d76-a03c-c9a3cc1702c9' class='xr-section-summary' >Attributes: <span>(2)</span></label><div class='xr-section-inline-details'></div><div class='xr-section-details'><dl class='xr-attrs'><dt><span>Conventions :</span></dt><dd>CF-1.6</dd><dt><span>history :</span></dt><dd>2023-09-11 11:36:09 GMT by grib_to_netcdf-2.25.1: /opt/ecmwf/mars-client/bin/grib_to_netcdf.bin -S param -o /cache/data0/adaptor.mars.internal-1694431710.9141645-9822-1-35ba6504-5528-4143-99dd-c061c6e6fb1f.nc /cache/tmp/35ba6504-5528-4143-99dd-c061c6e6fb1f-adaptor.mars.internal-1694429439.6541896-9822-1-tmp.grib</dd></dl></div></li></ul></div></div>"
      ],
      "text/plain": [
       "<xarray.Dataset>\n",
       "Dimensions:    (longitude: 37, latitude: 30, time: 48168)\n",
       "Coordinates:\n",
       "  * longitude  (longitude) float32 5.97 6.22 6.47 6.72 ... 14.47 14.72 14.97\n",
       "  * latitude   (latitude) float32 47.57 47.82 48.07 48.32 ... 54.32 54.57 54.82\n",
       "  * time       (time) datetime64[ns] 2018-01-01 ... 2023-06-30T23:00:00\n",
       "Data variables:\n",
       "    u100       (time, latitude, longitude) float32 ...\n",
       "    v100       (time, latitude, longitude) float32 ...\n",
       "    u10        (time, latitude, longitude) float32 ...\n",
       "    v10        (time, latitude, longitude) float32 ...\n",
       "    t2m        (time, latitude, longitude) float32 ...\n",
       "    i10fg      (time, latitude, longitude) float32 ...\n",
       "    msl        (time, latitude, longitude) float32 ...\n",
       "Attributes:\n",
       "    Conventions:  CF-1.6\n",
       "    history:      2023-09-11 11:36:09 GMT by grib_to_netcdf-2.25.1: /opt/ecmw..."
      ]
     },
     "execution_count": 76,
     "metadata": {},
     "output_type": "execute_result"
    }
   ],
   "source": [
    "ds"
   ]
  },
  {
   "cell_type": "markdown",
   "id": "95a86d18-941b-44de-9c64-e4d2b0043a36",
   "metadata": {},
   "source": [
    "-----"
   ]
  },
  {
   "cell_type": "markdown",
   "id": "b8f77760-4a35-492b-b7fd-14dbc8f4b3e3",
   "metadata": {},
   "source": [
    "-----"
   ]
  },
  {
   "cell_type": "markdown",
   "id": "dd44de1c-297b-4af8-9c6f-df8d28999166",
   "metadata": {},
   "source": [
    "### Check that all lats and lons match between data sets!\n",
    "- All match!"
   ]
  },
  {
   "cell_type": "code",
   "execution_count": 24,
   "id": "cb89b7b4-3e8d-485d-ad68-0b5ac8c76417",
   "metadata": {
    "tags": []
   },
   "outputs": [],
   "source": [
    "# def check_dimensions_match(datasets, dim_name):\n",
    "#     \"\"\"Check if a given dimension's values are the same across multiple datasets.\"\"\"\n",
    "#     reference_values = datasets[0][dim_name].values\n",
    "#     for ds in datasets[1:]:\n",
    "#         if not (ds[dim_name].values == reference_values).all():\n",
    "#             return False\n",
    "#     return True"
   ]
  },
  {
   "cell_type": "code",
   "execution_count": 25,
   "id": "46fe4126-fd64-44ea-adc1-afec4fa59dd4",
   "metadata": {
    "tags": []
   },
   "outputs": [
    {
     "name": "stdout",
     "output_type": "stream",
     "text": [
      "All datasets have matching latitude and longitude values!\n"
     ]
    }
   ],
   "source": [
    "# Check latitude and longitude for all datasets\n",
    "# latitude_match = check_dimensions_match(datasets, 'latitude')\n",
    "# longitude_match = check_dimensions_match(datasets, 'longitude')\n",
    "\n",
    "# if latitude_match and longitude_match:\n",
    "#     print(\"All datasets have matching latitude and longitude values!\")\n",
    "# else:\n",
    "#     if not latitude_match:\n",
    "#         print(\"Datasets do not have matching latitude values.\")\n",
    "#     if not longitude_match:\n",
    "#         print(\"Datasets do not have matching longitude values.\")"
   ]
  },
  {
   "cell_type": "markdown",
   "id": "16b8d495-a5c8-4d13-8f5c-1e3014d01d5c",
   "metadata": {},
   "source": [
    "------"
   ]
  },
  {
   "cell_type": "markdown",
   "id": "8ea5fb20-4111-4f0f-b0d7-a1edc5c0fd35",
   "metadata": {},
   "source": [
    "## Calculate 10m and 100m mean wind speeds using vector components"
   ]
  },
  {
   "cell_type": "code",
   "execution_count": 77,
   "id": "4e088a12-c5fa-41ba-83d3-48fa6ddeee09",
   "metadata": {
    "tags": []
   },
   "outputs": [
    {
     "data": {
      "text/plain": [
       "Data variables:\n",
       "    u100     (time, latitude, longitude) float32 ...\n",
       "    v100     (time, latitude, longitude) float32 ...\n",
       "    u10      (time, latitude, longitude) float32 ...\n",
       "    v10      (time, latitude, longitude) float32 ...\n",
       "    t2m      (time, latitude, longitude) float32 ...\n",
       "    i10fg    (time, latitude, longitude) float32 ...\n",
       "    msl      (time, latitude, longitude) float32 ..."
      ]
     },
     "execution_count": 77,
     "metadata": {},
     "output_type": "execute_result"
    }
   ],
   "source": [
    "ds.data_vars"
   ]
  },
  {
   "cell_type": "code",
   "execution_count": 78,
   "id": "4c8eb8af-fd31-4027-9d2c-28834dbc04b8",
   "metadata": {
    "tags": []
   },
   "outputs": [],
   "source": [
    "def calc_wind_speed_using_ortho_components(u_zonal, v_meridional):\n",
    "    \"\"\"\n",
    "    u_zondal (u10): wind component along local parallel of latitude; positive from west, negative from east\n",
    "    v_meridional (v10): wind component along local meridian; positive from south, negative from north\n",
    "    returns the magnitude of the wind vector (i.e. wind speed)\n",
    "    \"\"\"\n",
    "    # use numpy.sqrt() as math.sqrt() only accepts scalar value not array\n",
    "    mean_wind_speed = np.sqrt(u_zonal**2 + v_meridional**2)\n",
    "    return mean_wind_speed"
   ]
  },
  {
   "cell_type": "markdown",
   "id": "980c287f-ca87-40be-9c6f-18bbe6296fe6",
   "metadata": {},
   "source": [
    "#### 10m mean wind speed"
   ]
  },
  {
   "cell_type": "code",
   "execution_count": 79,
   "id": "15fe7a78-0613-4e04-9234-38807a72f92f",
   "metadata": {
    "tags": []
   },
   "outputs": [],
   "source": [
    "# Apply the function and assign to xarray dataset as a new data variable \n",
    "ds['mean_wind_speed_10m'] = xr.apply_ufunc(calc_wind_speed_using_ortho_components, ds['u10'], ds['v10'])"
   ]
  },
  {
   "cell_type": "markdown",
   "id": "55ead776-b718-4bbe-a15e-fb894de1ae3c",
   "metadata": {},
   "source": [
    "#### 100m mean wind speed"
   ]
  },
  {
   "cell_type": "code",
   "execution_count": 80,
   "id": "5545ef87-3929-4b9f-bb26-a5cb8faafab3",
   "metadata": {
    "tags": []
   },
   "outputs": [],
   "source": [
    "# Apply the function and assign to xarray dataset as a new data variable \n",
    "ds['mean_wind_speed_100m'] = xr.apply_ufunc(calc_wind_speed_using_ortho_components, ds['u100'], ds['v100'])"
   ]
  },
  {
   "cell_type": "markdown",
   "id": "869b5e2f-7972-4986-b636-f2d63500f7b6",
   "metadata": {
    "tags": []
   },
   "source": [
    "##### Get mean wind speed at specific hour and coordinate "
   ]
  },
  {
   "cell_type": "code",
   "execution_count": 82,
   "id": "2eac4263-8852-4047-903c-c1e9ee2212e0",
   "metadata": {
    "tags": []
   },
   "outputs": [
    {
     "data": {
      "text/plain": [
       "array([6.8206396], dtype=float32)"
      ]
     },
     "execution_count": 82,
     "metadata": {},
     "output_type": "execute_result"
    }
   ],
   "source": [
    "# Example used grid point: (47.82, 10.97)\n",
    "ds.sel(time=['2022-01-01T00:00:00'], latitude=47.82, longitude=10.97)['mean_wind_speed_100m'].values"
   ]
  },
  {
   "cell_type": "code",
   "execution_count": 83,
   "id": "1e8d5379-d40b-4b6a-826f-7abe75fba30f",
   "metadata": {
    "tags": []
   },
   "outputs": [
    {
     "data": {
      "text/plain": [
       "Data variables:\n",
       "    u100                  (time, latitude, longitude) float32 8.496 ... 7.812\n",
       "    v100                  (time, latitude, longitude) float32 5.686 ... 0.1964\n",
       "    u10                   (time, latitude, longitude) float32 4.749 ... 5.877\n",
       "    v10                   (time, latitude, longitude) float32 3.678 ... 0.5239\n",
       "    t2m                   (time, latitude, longitude) float32 ...\n",
       "    i10fg                 (time, latitude, longitude) float32 ...\n",
       "    msl                   (time, latitude, longitude) float32 ...\n",
       "    mean_wind_speed_10m   (time, latitude, longitude) float32 6.006 ... 5.901\n",
       "    mean_wind_speed_100m  (time, latitude, longitude) float32 10.22 ... 7.814"
      ]
     },
     "execution_count": 83,
     "metadata": {},
     "output_type": "execute_result"
    }
   ],
   "source": [
    "ds.data_vars"
   ]
  },
  {
   "cell_type": "code",
   "execution_count": 86,
   "id": "a90fd42f-3855-4aba-ae50-5edb4d8f0711",
   "metadata": {
    "tags": []
   },
   "outputs": [],
   "source": [
    "# ds['msl'].values"
   ]
  },
  {
   "cell_type": "markdown",
   "id": "5af8cd02-c742-4d75-add0-b978a38eb007",
   "metadata": {},
   "source": [
    "----"
   ]
  },
  {
   "cell_type": "markdown",
   "id": "43ff6bcb-5e66-416b-a160-87ea9bf8af94",
   "metadata": {},
   "source": [
    "## Calculate wind direction angle in degrees using vector components"
   ]
  },
  {
   "cell_type": "code",
   "execution_count": 88,
   "id": "a606df37-c116-4e2b-b879-bb69bad5d9d6",
   "metadata": {
    "tags": []
   },
   "outputs": [],
   "source": [
    "def calc_wind_direction_using_ortho_components(u_zonal, v_meridional):\n",
    "    \"\"\"\n",
    "    u_zonal and v_meridional are the magnitudes of the component vectors\n",
    "    use np.arctan2 method that can take scalar values as input\n",
    "    \"\"\"\n",
    "    # Theta is direction in radians\n",
    "    theta_radians = np.arctan2(-u_zonal, -v_meridional)\n",
    "    \n",
    "    # Convert radians to degrees\n",
    "    theta_degrees = np.degrees(theta_radians)\n",
    "    \n",
    "    # Normalise to compass heading convention [0, 360) if value is negative\n",
    "    theta_degrees = np.where(theta_degrees < 0, theta_degrees + 360, theta_degrees)\n",
    "    \n",
    "    return theta_degrees"
   ]
  },
  {
   "cell_type": "markdown",
   "id": "91fcbda7-0608-425c-aba9-ec2c00db4098",
   "metadata": {},
   "source": [
    "#### 10m wind direction angle in degrees"
   ]
  },
  {
   "cell_type": "code",
   "execution_count": 89,
   "id": "424976e0-2976-45a7-8945-24488868ae5e",
   "metadata": {
    "tags": []
   },
   "outputs": [],
   "source": [
    "# Apply the function and assign to xarray dataset as a new data variable \n",
    "ds['wind_direction_angle_10m'] = xr.apply_ufunc(calc_wind_direction_using_ortho_components, ds['u10'], ds['v10'])"
   ]
  },
  {
   "cell_type": "markdown",
   "id": "90d7f19e-e609-41b4-b2ff-2010e1b514cf",
   "metadata": {},
   "source": [
    "#### 100m wind direction angle in degrees"
   ]
  },
  {
   "cell_type": "code",
   "execution_count": 90,
   "id": "0123036d-98b2-420f-8880-de71e07f00a3",
   "metadata": {
    "tags": []
   },
   "outputs": [],
   "source": [
    "# Apply the function and assign to xarray dataset as a new data variable \n",
    "ds['wind_direction_angle_100m'] = xr.apply_ufunc(calc_wind_direction_using_ortho_components, ds['u100'], ds['v100'])"
   ]
  },
  {
   "cell_type": "code",
   "execution_count": 91,
   "id": "c94587c8-2bfb-4a47-a374-580c280d0139",
   "metadata": {
    "tags": []
   },
   "outputs": [
    {
     "data": {
      "text/plain": [
       "Data variables:\n",
       "    u100                       (time, latitude, longitude) float32 8.496 ... ...\n",
       "    v100                       (time, latitude, longitude) float32 5.686 ... ...\n",
       "    u10                        (time, latitude, longitude) float32 4.749 ... ...\n",
       "    v10                        (time, latitude, longitude) float32 3.678 ... ...\n",
       "    t2m                        (time, latitude, longitude) float32 ...\n",
       "    i10fg                      (time, latitude, longitude) float32 ...\n",
       "    msl                        (time, latitude, longitude) float32 1.012e+05 ...\n",
       "    mean_wind_speed_10m        (time, latitude, longitude) float32 6.006 ... ...\n",
       "    mean_wind_speed_100m       (time, latitude, longitude) float32 10.22 ... ...\n",
       "    wind_direction_angle_10m   (time, latitude, longitude) float32 232.2 ... ...\n",
       "    wind_direction_angle_100m  (time, latitude, longitude) float32 236.2 ... ..."
      ]
     },
     "execution_count": 91,
     "metadata": {},
     "output_type": "execute_result"
    }
   ],
   "source": [
    "ds.data_vars"
   ]
  },
  {
   "cell_type": "markdown",
   "id": "787dfb58-691b-4afb-ae8f-16b2d3a2e9b2",
   "metadata": {},
   "source": [
    "------"
   ]
  },
  {
   "cell_type": "markdown",
   "id": "c0cbf9e9-c61a-4f34-8f34-c801b99c51ea",
   "metadata": {},
   "source": [
    "### Drop data vars that are no longer needed (and further reduce data volume)"
   ]
  },
  {
   "cell_type": "code",
   "execution_count": 98,
   "id": "507e255c-40cb-4823-bcc0-0a16a261ce4b",
   "metadata": {
    "tags": []
   },
   "outputs": [],
   "source": [
    "ds = ds.drop(labels=['u100', 'v100', 'u10', 'v10'])"
   ]
  },
  {
   "cell_type": "code",
   "execution_count": 101,
   "id": "70c1dfef-9b8a-44ab-9b61-67d13d8f773e",
   "metadata": {
    "tags": []
   },
   "outputs": [
    {
     "data": {
      "text/plain": [
       "Data variables:\n",
       "    t2m                        (time, latitude, longitude) float32 ...\n",
       "    i10fg                      (time, latitude, longitude) float32 ...\n",
       "    msl                        (time, latitude, longitude) float32 1.012e+05 ...\n",
       "    mean_wind_speed_10m        (time, latitude, longitude) float32 6.006 ... ...\n",
       "    mean_wind_speed_100m       (time, latitude, longitude) float32 10.22 ... ...\n",
       "    wind_direction_angle_10m   (time, latitude, longitude) float32 232.2 ... ...\n",
       "    wind_direction_angle_100m  (time, latitude, longitude) float32 236.2 ... ..."
      ]
     },
     "execution_count": 101,
     "metadata": {},
     "output_type": "execute_result"
    }
   ],
   "source": [
    "ds.data_vars"
   ]
  },
  {
   "cell_type": "markdown",
   "id": "8876e3b1-361a-41d3-acb6-ee5f2b550f5a",
   "metadata": {},
   "source": [
    "#### Save latest Xarray dataset as NetCDF"
   ]
  },
  {
   "cell_type": "code",
   "execution_count": 100,
   "id": "78bf704c-4c54-49c2-a09b-64e0311c6780",
   "metadata": {
    "tags": []
   },
   "outputs": [],
   "source": [
    "# ds.to_netcdf(data_path.joinpath('ERA5').joinpath('era5_combined_subset_derived_dropped.nc'))"
   ]
  },
  {
   "cell_type": "markdown",
   "id": "0aa01101-61a4-4f35-ba7a-22b2d98033da",
   "metadata": {},
   "source": [
    "-----"
   ]
  },
  {
   "cell_type": "markdown",
   "id": "a623e940-59d9-4868-8832-f2d0d1d1def6",
   "metadata": {},
   "source": [
    "### Filter `ds` using a mask with condition being the unique grid points connected to turbines!\n",
    "- Create a boolean mask shape (30,37) using used grid points \n",
    "- Data vars will be nan at grid points NOT used in my analysis\n",
    "- Keep only data var values at the 751 unique coordinate pairs used for the wind turbines; the rest set to nan"
   ]
  },
  {
   "cell_type": "code",
   "execution_count": 110,
   "id": "464e9aac-7642-4c15-960d-018f62eb7e7e",
   "metadata": {
    "tags": []
   },
   "outputs": [],
   "source": [
    "# a mask of False values (same truthiness as 0) with shape of lat and lon dimensions in ds (30,37)\n",
    "bool_mask = np.zeros((len(ds['latitude']), len(ds['longitude'])), dtype=bool)\n",
    "\n",
    "# Loop through unique coord pairs and get index where lat, lon match in xarray dataset\n",
    "for lat, lon in used_grid_points:\n",
    "    lat_idx = np.where(ds['latitude'] == lat)[0]\n",
    "    lon_idx = np.where(ds['longitude'] == lon)[0]\n",
    "    # Use broadcasting to insert True values into bool mask at True lat, lon indexes\n",
    "    bool_mask[lat_idx, lon_idx] = True\n",
    "\n",
    "# Create DataArray of the mask using same dims and coords as ds\n",
    "da_mask = xr.DataArray(bool_mask, coords=[ds['latitude'], ds['longitude']], dims=['latitude', 'longitude'])"
   ]
  },
  {
   "cell_type": "code",
   "execution_count": 111,
   "id": "55170fda-aac5-43ea-85b6-fb50a5b66e66",
   "metadata": {
    "tags": []
   },
   "outputs": [],
   "source": [
    "# Mask the dataset\n",
    "ds_masked = ds.where(da_mask)"
   ]
  },
  {
   "cell_type": "code",
   "execution_count": 112,
   "id": "596cb843-3b0b-47a6-a08d-041bce6f7045",
   "metadata": {
    "tags": []
   },
   "outputs": [
    {
     "data": {
      "text/html": [
       "<div><svg style=\"position: absolute; width: 0; height: 0; overflow: hidden\">\n",
       "<defs>\n",
       "<symbol id=\"icon-database\" viewBox=\"0 0 32 32\">\n",
       "<path d=\"M16 0c-8.837 0-16 2.239-16 5v4c0 2.761 7.163 5 16 5s16-2.239 16-5v-4c0-2.761-7.163-5-16-5z\"></path>\n",
       "<path d=\"M16 17c-8.837 0-16-2.239-16-5v6c0 2.761 7.163 5 16 5s16-2.239 16-5v-6c0 2.761-7.163 5-16 5z\"></path>\n",
       "<path d=\"M16 26c-8.837 0-16-2.239-16-5v6c0 2.761 7.163 5 16 5s16-2.239 16-5v-6c0 2.761-7.163 5-16 5z\"></path>\n",
       "</symbol>\n",
       "<symbol id=\"icon-file-text2\" viewBox=\"0 0 32 32\">\n",
       "<path d=\"M28.681 7.159c-0.694-0.947-1.662-2.053-2.724-3.116s-2.169-2.030-3.116-2.724c-1.612-1.182-2.393-1.319-2.841-1.319h-15.5c-1.378 0-2.5 1.121-2.5 2.5v27c0 1.378 1.122 2.5 2.5 2.5h23c1.378 0 2.5-1.122 2.5-2.5v-19.5c0-0.448-0.137-1.23-1.319-2.841zM24.543 5.457c0.959 0.959 1.712 1.825 2.268 2.543h-4.811v-4.811c0.718 0.556 1.584 1.309 2.543 2.268zM28 29.5c0 0.271-0.229 0.5-0.5 0.5h-23c-0.271 0-0.5-0.229-0.5-0.5v-27c0-0.271 0.229-0.5 0.5-0.5 0 0 15.499-0 15.5 0v7c0 0.552 0.448 1 1 1h7v19.5z\"></path>\n",
       "<path d=\"M23 26h-14c-0.552 0-1-0.448-1-1s0.448-1 1-1h14c0.552 0 1 0.448 1 1s-0.448 1-1 1z\"></path>\n",
       "<path d=\"M23 22h-14c-0.552 0-1-0.448-1-1s0.448-1 1-1h14c0.552 0 1 0.448 1 1s-0.448 1-1 1z\"></path>\n",
       "<path d=\"M23 18h-14c-0.552 0-1-0.448-1-1s0.448-1 1-1h14c0.552 0 1 0.448 1 1s-0.448 1-1 1z\"></path>\n",
       "</symbol>\n",
       "</defs>\n",
       "</svg>\n",
       "<style>/* CSS stylesheet for displaying xarray objects in jupyterlab.\n",
       " *\n",
       " */\n",
       "\n",
       ":root {\n",
       "  --xr-font-color0: var(--jp-content-font-color0, rgba(0, 0, 0, 1));\n",
       "  --xr-font-color2: var(--jp-content-font-color2, rgba(0, 0, 0, 0.54));\n",
       "  --xr-font-color3: var(--jp-content-font-color3, rgba(0, 0, 0, 0.38));\n",
       "  --xr-border-color: var(--jp-border-color2, #e0e0e0);\n",
       "  --xr-disabled-color: var(--jp-layout-color3, #bdbdbd);\n",
       "  --xr-background-color: var(--jp-layout-color0, white);\n",
       "  --xr-background-color-row-even: var(--jp-layout-color1, white);\n",
       "  --xr-background-color-row-odd: var(--jp-layout-color2, #eeeeee);\n",
       "}\n",
       "\n",
       "html[theme=dark],\n",
       "body[data-theme=dark],\n",
       "body.vscode-dark {\n",
       "  --xr-font-color0: rgba(255, 255, 255, 1);\n",
       "  --xr-font-color2: rgba(255, 255, 255, 0.54);\n",
       "  --xr-font-color3: rgba(255, 255, 255, 0.38);\n",
       "  --xr-border-color: #1F1F1F;\n",
       "  --xr-disabled-color: #515151;\n",
       "  --xr-background-color: #111111;\n",
       "  --xr-background-color-row-even: #111111;\n",
       "  --xr-background-color-row-odd: #313131;\n",
       "}\n",
       "\n",
       ".xr-wrap {\n",
       "  display: block !important;\n",
       "  min-width: 300px;\n",
       "  max-width: 700px;\n",
       "}\n",
       "\n",
       ".xr-text-repr-fallback {\n",
       "  /* fallback to plain text repr when CSS is not injected (untrusted notebook) */\n",
       "  display: none;\n",
       "}\n",
       "\n",
       ".xr-header {\n",
       "  padding-top: 6px;\n",
       "  padding-bottom: 6px;\n",
       "  margin-bottom: 4px;\n",
       "  border-bottom: solid 1px var(--xr-border-color);\n",
       "}\n",
       "\n",
       ".xr-header > div,\n",
       ".xr-header > ul {\n",
       "  display: inline;\n",
       "  margin-top: 0;\n",
       "  margin-bottom: 0;\n",
       "}\n",
       "\n",
       ".xr-obj-type,\n",
       ".xr-array-name {\n",
       "  margin-left: 2px;\n",
       "  margin-right: 10px;\n",
       "}\n",
       "\n",
       ".xr-obj-type {\n",
       "  color: var(--xr-font-color2);\n",
       "}\n",
       "\n",
       ".xr-sections {\n",
       "  padding-left: 0 !important;\n",
       "  display: grid;\n",
       "  grid-template-columns: 150px auto auto 1fr 20px 20px;\n",
       "}\n",
       "\n",
       ".xr-section-item {\n",
       "  display: contents;\n",
       "}\n",
       "\n",
       ".xr-section-item input {\n",
       "  display: none;\n",
       "}\n",
       "\n",
       ".xr-section-item input + label {\n",
       "  color: var(--xr-disabled-color);\n",
       "}\n",
       "\n",
       ".xr-section-item input:enabled + label {\n",
       "  cursor: pointer;\n",
       "  color: var(--xr-font-color2);\n",
       "}\n",
       "\n",
       ".xr-section-item input:enabled + label:hover {\n",
       "  color: var(--xr-font-color0);\n",
       "}\n",
       "\n",
       ".xr-section-summary {\n",
       "  grid-column: 1;\n",
       "  color: var(--xr-font-color2);\n",
       "  font-weight: 500;\n",
       "}\n",
       "\n",
       ".xr-section-summary > span {\n",
       "  display: inline-block;\n",
       "  padding-left: 0.5em;\n",
       "}\n",
       "\n",
       ".xr-section-summary-in:disabled + label {\n",
       "  color: var(--xr-font-color2);\n",
       "}\n",
       "\n",
       ".xr-section-summary-in + label:before {\n",
       "  display: inline-block;\n",
       "  content: '►';\n",
       "  font-size: 11px;\n",
       "  width: 15px;\n",
       "  text-align: center;\n",
       "}\n",
       "\n",
       ".xr-section-summary-in:disabled + label:before {\n",
       "  color: var(--xr-disabled-color);\n",
       "}\n",
       "\n",
       ".xr-section-summary-in:checked + label:before {\n",
       "  content: '▼';\n",
       "}\n",
       "\n",
       ".xr-section-summary-in:checked + label > span {\n",
       "  display: none;\n",
       "}\n",
       "\n",
       ".xr-section-summary,\n",
       ".xr-section-inline-details {\n",
       "  padding-top: 4px;\n",
       "  padding-bottom: 4px;\n",
       "}\n",
       "\n",
       ".xr-section-inline-details {\n",
       "  grid-column: 2 / -1;\n",
       "}\n",
       "\n",
       ".xr-section-details {\n",
       "  display: none;\n",
       "  grid-column: 1 / -1;\n",
       "  margin-bottom: 5px;\n",
       "}\n",
       "\n",
       ".xr-section-summary-in:checked ~ .xr-section-details {\n",
       "  display: contents;\n",
       "}\n",
       "\n",
       ".xr-array-wrap {\n",
       "  grid-column: 1 / -1;\n",
       "  display: grid;\n",
       "  grid-template-columns: 20px auto;\n",
       "}\n",
       "\n",
       ".xr-array-wrap > label {\n",
       "  grid-column: 1;\n",
       "  vertical-align: top;\n",
       "}\n",
       "\n",
       ".xr-preview {\n",
       "  color: var(--xr-font-color3);\n",
       "}\n",
       "\n",
       ".xr-array-preview,\n",
       ".xr-array-data {\n",
       "  padding: 0 5px !important;\n",
       "  grid-column: 2;\n",
       "}\n",
       "\n",
       ".xr-array-data,\n",
       ".xr-array-in:checked ~ .xr-array-preview {\n",
       "  display: none;\n",
       "}\n",
       "\n",
       ".xr-array-in:checked ~ .xr-array-data,\n",
       ".xr-array-preview {\n",
       "  display: inline-block;\n",
       "}\n",
       "\n",
       ".xr-dim-list {\n",
       "  display: inline-block !important;\n",
       "  list-style: none;\n",
       "  padding: 0 !important;\n",
       "  margin: 0;\n",
       "}\n",
       "\n",
       ".xr-dim-list li {\n",
       "  display: inline-block;\n",
       "  padding: 0;\n",
       "  margin: 0;\n",
       "}\n",
       "\n",
       ".xr-dim-list:before {\n",
       "  content: '(';\n",
       "}\n",
       "\n",
       ".xr-dim-list:after {\n",
       "  content: ')';\n",
       "}\n",
       "\n",
       ".xr-dim-list li:not(:last-child):after {\n",
       "  content: ',';\n",
       "  padding-right: 5px;\n",
       "}\n",
       "\n",
       ".xr-has-index {\n",
       "  font-weight: bold;\n",
       "}\n",
       "\n",
       ".xr-var-list,\n",
       ".xr-var-item {\n",
       "  display: contents;\n",
       "}\n",
       "\n",
       ".xr-var-item > div,\n",
       ".xr-var-item label,\n",
       ".xr-var-item > .xr-var-name span {\n",
       "  background-color: var(--xr-background-color-row-even);\n",
       "  margin-bottom: 0;\n",
       "}\n",
       "\n",
       ".xr-var-item > .xr-var-name:hover span {\n",
       "  padding-right: 5px;\n",
       "}\n",
       "\n",
       ".xr-var-list > li:nth-child(odd) > div,\n",
       ".xr-var-list > li:nth-child(odd) > label,\n",
       ".xr-var-list > li:nth-child(odd) > .xr-var-name span {\n",
       "  background-color: var(--xr-background-color-row-odd);\n",
       "}\n",
       "\n",
       ".xr-var-name {\n",
       "  grid-column: 1;\n",
       "}\n",
       "\n",
       ".xr-var-dims {\n",
       "  grid-column: 2;\n",
       "}\n",
       "\n",
       ".xr-var-dtype {\n",
       "  grid-column: 3;\n",
       "  text-align: right;\n",
       "  color: var(--xr-font-color2);\n",
       "}\n",
       "\n",
       ".xr-var-preview {\n",
       "  grid-column: 4;\n",
       "}\n",
       "\n",
       ".xr-index-preview {\n",
       "  grid-column: 2 / 5;\n",
       "  color: var(--xr-font-color2);\n",
       "}\n",
       "\n",
       ".xr-var-name,\n",
       ".xr-var-dims,\n",
       ".xr-var-dtype,\n",
       ".xr-preview,\n",
       ".xr-attrs dt {\n",
       "  white-space: nowrap;\n",
       "  overflow: hidden;\n",
       "  text-overflow: ellipsis;\n",
       "  padding-right: 10px;\n",
       "}\n",
       "\n",
       ".xr-var-name:hover,\n",
       ".xr-var-dims:hover,\n",
       ".xr-var-dtype:hover,\n",
       ".xr-attrs dt:hover {\n",
       "  overflow: visible;\n",
       "  width: auto;\n",
       "  z-index: 1;\n",
       "}\n",
       "\n",
       ".xr-var-attrs,\n",
       ".xr-var-data,\n",
       ".xr-index-data {\n",
       "  display: none;\n",
       "  background-color: var(--xr-background-color) !important;\n",
       "  padding-bottom: 5px !important;\n",
       "}\n",
       "\n",
       ".xr-var-attrs-in:checked ~ .xr-var-attrs,\n",
       ".xr-var-data-in:checked ~ .xr-var-data,\n",
       ".xr-index-data-in:checked ~ .xr-index-data {\n",
       "  display: block;\n",
       "}\n",
       "\n",
       ".xr-var-data > table {\n",
       "  float: right;\n",
       "}\n",
       "\n",
       ".xr-var-name span,\n",
       ".xr-var-data,\n",
       ".xr-index-name div,\n",
       ".xr-index-data,\n",
       ".xr-attrs {\n",
       "  padding-left: 25px !important;\n",
       "}\n",
       "\n",
       ".xr-attrs,\n",
       ".xr-var-attrs,\n",
       ".xr-var-data,\n",
       ".xr-index-data {\n",
       "  grid-column: 1 / -1;\n",
       "}\n",
       "\n",
       "dl.xr-attrs {\n",
       "  padding: 0;\n",
       "  margin: 0;\n",
       "  display: grid;\n",
       "  grid-template-columns: 125px auto;\n",
       "}\n",
       "\n",
       ".xr-attrs dt,\n",
       ".xr-attrs dd {\n",
       "  padding: 0;\n",
       "  margin: 0;\n",
       "  float: left;\n",
       "  padding-right: 10px;\n",
       "  width: auto;\n",
       "}\n",
       "\n",
       ".xr-attrs dt {\n",
       "  font-weight: normal;\n",
       "  grid-column: 1;\n",
       "}\n",
       "\n",
       ".xr-attrs dt:hover span {\n",
       "  display: inline-block;\n",
       "  background: var(--xr-background-color);\n",
       "  padding-right: 10px;\n",
       "}\n",
       "\n",
       ".xr-attrs dd {\n",
       "  grid-column: 2;\n",
       "  white-space: pre-wrap;\n",
       "  word-break: break-all;\n",
       "}\n",
       "\n",
       ".xr-icon-database,\n",
       ".xr-icon-file-text2,\n",
       ".xr-no-icon {\n",
       "  display: inline-block;\n",
       "  vertical-align: middle;\n",
       "  width: 1em;\n",
       "  height: 1.5em !important;\n",
       "  stroke-width: 0;\n",
       "  stroke: currentColor;\n",
       "  fill: currentColor;\n",
       "}\n",
       "</style><pre class='xr-text-repr-fallback'>&lt;xarray.Dataset&gt;\n",
       "Dimensions:                    (time: 48168, latitude: 30, longitude: 37)\n",
       "Coordinates:\n",
       "  * longitude                  (longitude) float32 5.97 6.22 ... 14.72 14.97\n",
       "  * latitude                   (latitude) float32 47.57 47.82 ... 54.57 54.82\n",
       "  * time                       (time) datetime64[ns] 2018-01-01 ... 2023-06-3...\n",
       "Data variables:\n",
       "    t2m                        (time, latitude, longitude) float32 nan ... nan\n",
       "    i10fg                      (time, latitude, longitude) float32 nan ... nan\n",
       "    msl                        (time, latitude, longitude) float32 nan ... nan\n",
       "    mean_wind_speed_10m        (time, latitude, longitude) float32 nan ... nan\n",
       "    mean_wind_speed_100m       (time, latitude, longitude) float32 nan ... nan\n",
       "    wind_direction_angle_10m   (time, latitude, longitude) float32 nan ... nan\n",
       "    wind_direction_angle_100m  (time, latitude, longitude) float32 nan ... nan\n",
       "Attributes:\n",
       "    Conventions:  CF-1.6\n",
       "    history:      2023-09-11 11:36:09 GMT by grib_to_netcdf-2.25.1: /opt/ecmw...</pre><div class='xr-wrap' style='display:none'><div class='xr-header'><div class='xr-obj-type'>xarray.Dataset</div></div><ul class='xr-sections'><li class='xr-section-item'><input id='section-0fa107b6-5477-4067-a531-cc316aaba974' class='xr-section-summary-in' type='checkbox' disabled ><label for='section-0fa107b6-5477-4067-a531-cc316aaba974' class='xr-section-summary'  title='Expand/collapse section'>Dimensions:</label><div class='xr-section-inline-details'><ul class='xr-dim-list'><li><span class='xr-has-index'>time</span>: 48168</li><li><span class='xr-has-index'>latitude</span>: 30</li><li><span class='xr-has-index'>longitude</span>: 37</li></ul></div><div class='xr-section-details'></div></li><li class='xr-section-item'><input id='section-f5690eaa-a031-4aad-9970-e7ce713f03d7' class='xr-section-summary-in' type='checkbox'  checked><label for='section-f5690eaa-a031-4aad-9970-e7ce713f03d7' class='xr-section-summary' >Coordinates: <span>(3)</span></label><div class='xr-section-inline-details'></div><div class='xr-section-details'><ul class='xr-var-list'><li class='xr-var-item'><div class='xr-var-name'><span class='xr-has-index'>longitude</span></div><div class='xr-var-dims'>(longitude)</div><div class='xr-var-dtype'>float32</div><div class='xr-var-preview xr-preview'>5.97 6.22 6.47 ... 14.72 14.97</div><input id='attrs-c2140f57-2d37-4b39-9fee-9ce81a1b0fa4' class='xr-var-attrs-in' type='checkbox' disabled><label for='attrs-c2140f57-2d37-4b39-9fee-9ce81a1b0fa4' title='Show/Hide attributes'><svg class='icon xr-icon-file-text2'><use xlink:href='#icon-file-text2'></use></svg></label><input id='data-5a876746-7e03-4d0c-b9a5-8b1e09a2988a' class='xr-var-data-in' type='checkbox'><label for='data-5a876746-7e03-4d0c-b9a5-8b1e09a2988a' title='Show/Hide data repr'><svg class='icon xr-icon-database'><use xlink:href='#icon-database'></use></svg></label><div class='xr-var-attrs'><dl class='xr-attrs'></dl></div><div class='xr-var-data'><pre>array([ 5.97,  6.22,  6.47,  6.72,  6.97,  7.22,  7.47,  7.72,  7.97,  8.22,\n",
       "        8.47,  8.72,  8.97,  9.22,  9.47,  9.72,  9.97, 10.22, 10.47, 10.72,\n",
       "       10.97, 11.22, 11.47, 11.72, 11.97, 12.22, 12.47, 12.72, 12.97, 13.22,\n",
       "       13.47, 13.72, 13.97, 14.22, 14.47, 14.72, 14.97], dtype=float32)</pre></div></li><li class='xr-var-item'><div class='xr-var-name'><span class='xr-has-index'>latitude</span></div><div class='xr-var-dims'>(latitude)</div><div class='xr-var-dtype'>float32</div><div class='xr-var-preview xr-preview'>47.57 47.82 48.07 ... 54.57 54.82</div><input id='attrs-34cdd4c9-cf59-4fcf-9a87-e0313b578eff' class='xr-var-attrs-in' type='checkbox' disabled><label for='attrs-34cdd4c9-cf59-4fcf-9a87-e0313b578eff' title='Show/Hide attributes'><svg class='icon xr-icon-file-text2'><use xlink:href='#icon-file-text2'></use></svg></label><input id='data-2e88d6ca-249c-4c62-818d-fbcb29de73f5' class='xr-var-data-in' type='checkbox'><label for='data-2e88d6ca-249c-4c62-818d-fbcb29de73f5' title='Show/Hide data repr'><svg class='icon xr-icon-database'><use xlink:href='#icon-database'></use></svg></label><div class='xr-var-attrs'><dl class='xr-attrs'></dl></div><div class='xr-var-data'><pre>array([47.57, 47.82, 48.07, 48.32, 48.57, 48.82, 49.07, 49.32, 49.57, 49.82,\n",
       "       50.07, 50.32, 50.57, 50.82, 51.07, 51.32, 51.57, 51.82, 52.07, 52.32,\n",
       "       52.57, 52.82, 53.07, 53.32, 53.57, 53.82, 54.07, 54.32, 54.57, 54.82],\n",
       "      dtype=float32)</pre></div></li><li class='xr-var-item'><div class='xr-var-name'><span class='xr-has-index'>time</span></div><div class='xr-var-dims'>(time)</div><div class='xr-var-dtype'>datetime64[ns]</div><div class='xr-var-preview xr-preview'>2018-01-01 ... 2023-06-30T23:00:00</div><input id='attrs-0f028185-0613-44ff-b1a3-e9d7a482d89c' class='xr-var-attrs-in' type='checkbox' disabled><label for='attrs-0f028185-0613-44ff-b1a3-e9d7a482d89c' title='Show/Hide attributes'><svg class='icon xr-icon-file-text2'><use xlink:href='#icon-file-text2'></use></svg></label><input id='data-4bf3dbd4-2f09-4854-b9ae-3ca7bd549663' class='xr-var-data-in' type='checkbox'><label for='data-4bf3dbd4-2f09-4854-b9ae-3ca7bd549663' title='Show/Hide data repr'><svg class='icon xr-icon-database'><use xlink:href='#icon-database'></use></svg></label><div class='xr-var-attrs'><dl class='xr-attrs'></dl></div><div class='xr-var-data'><pre>array([&#x27;2018-01-01T00:00:00.000000000&#x27;, &#x27;2018-01-01T01:00:00.000000000&#x27;,\n",
       "       &#x27;2018-01-01T02:00:00.000000000&#x27;, ..., &#x27;2023-06-30T21:00:00.000000000&#x27;,\n",
       "       &#x27;2023-06-30T22:00:00.000000000&#x27;, &#x27;2023-06-30T23:00:00.000000000&#x27;],\n",
       "      dtype=&#x27;datetime64[ns]&#x27;)</pre></div></li></ul></div></li><li class='xr-section-item'><input id='section-60586a90-0fee-40d0-9467-830c52ea12df' class='xr-section-summary-in' type='checkbox'  checked><label for='section-60586a90-0fee-40d0-9467-830c52ea12df' class='xr-section-summary' >Data variables: <span>(7)</span></label><div class='xr-section-inline-details'></div><div class='xr-section-details'><ul class='xr-var-list'><li class='xr-var-item'><div class='xr-var-name'><span>t2m</span></div><div class='xr-var-dims'>(time, latitude, longitude)</div><div class='xr-var-dtype'>float32</div><div class='xr-var-preview xr-preview'>nan nan nan nan ... nan nan nan nan</div><input id='attrs-43d1e9fe-a7c0-4303-8cb7-7b8754c1015e' class='xr-var-attrs-in' type='checkbox' ><label for='attrs-43d1e9fe-a7c0-4303-8cb7-7b8754c1015e' title='Show/Hide attributes'><svg class='icon xr-icon-file-text2'><use xlink:href='#icon-file-text2'></use></svg></label><input id='data-808f78a0-0834-474e-8119-b6a5f5cbf197' class='xr-var-data-in' type='checkbox'><label for='data-808f78a0-0834-474e-8119-b6a5f5cbf197' title='Show/Hide data repr'><svg class='icon xr-icon-database'><use xlink:href='#icon-database'></use></svg></label><div class='xr-var-attrs'><dl class='xr-attrs'><dt><span>units :</span></dt><dd>K</dd><dt><span>long_name :</span></dt><dd>2 metre temperature</dd></dl></div><div class='xr-var-data'><pre>array([[[nan, nan, nan, ..., nan, nan, nan],\n",
       "        [nan, nan, nan, ..., nan, nan, nan],\n",
       "        [nan, nan, nan, ..., nan, nan, nan],\n",
       "        ...,\n",
       "        [nan, nan, nan, ..., nan, nan, nan],\n",
       "        [nan, nan, nan, ..., nan, nan, nan],\n",
       "        [nan, nan, nan, ..., nan, nan, nan]],\n",
       "\n",
       "       [[nan, nan, nan, ..., nan, nan, nan],\n",
       "        [nan, nan, nan, ..., nan, nan, nan],\n",
       "        [nan, nan, nan, ..., nan, nan, nan],\n",
       "        ...,\n",
       "        [nan, nan, nan, ..., nan, nan, nan],\n",
       "        [nan, nan, nan, ..., nan, nan, nan],\n",
       "        [nan, nan, nan, ..., nan, nan, nan]],\n",
       "\n",
       "       [[nan, nan, nan, ..., nan, nan, nan],\n",
       "        [nan, nan, nan, ..., nan, nan, nan],\n",
       "        [nan, nan, nan, ..., nan, nan, nan],\n",
       "        ...,\n",
       "...\n",
       "        ...,\n",
       "        [nan, nan, nan, ..., nan, nan, nan],\n",
       "        [nan, nan, nan, ..., nan, nan, nan],\n",
       "        [nan, nan, nan, ..., nan, nan, nan]],\n",
       "\n",
       "       [[nan, nan, nan, ..., nan, nan, nan],\n",
       "        [nan, nan, nan, ..., nan, nan, nan],\n",
       "        [nan, nan, nan, ..., nan, nan, nan],\n",
       "        ...,\n",
       "        [nan, nan, nan, ..., nan, nan, nan],\n",
       "        [nan, nan, nan, ..., nan, nan, nan],\n",
       "        [nan, nan, nan, ..., nan, nan, nan]],\n",
       "\n",
       "       [[nan, nan, nan, ..., nan, nan, nan],\n",
       "        [nan, nan, nan, ..., nan, nan, nan],\n",
       "        [nan, nan, nan, ..., nan, nan, nan],\n",
       "        ...,\n",
       "        [nan, nan, nan, ..., nan, nan, nan],\n",
       "        [nan, nan, nan, ..., nan, nan, nan],\n",
       "        [nan, nan, nan, ..., nan, nan, nan]]], dtype=float32)</pre></div></li><li class='xr-var-item'><div class='xr-var-name'><span>i10fg</span></div><div class='xr-var-dims'>(time, latitude, longitude)</div><div class='xr-var-dtype'>float32</div><div class='xr-var-preview xr-preview'>nan nan nan nan ... nan nan nan nan</div><input id='attrs-93a7aad3-8a92-45f7-8aff-be159c4cf936' class='xr-var-attrs-in' type='checkbox' ><label for='attrs-93a7aad3-8a92-45f7-8aff-be159c4cf936' title='Show/Hide attributes'><svg class='icon xr-icon-file-text2'><use xlink:href='#icon-file-text2'></use></svg></label><input id='data-ae081e70-c13c-4898-837e-5f1dc0665d61' class='xr-var-data-in' type='checkbox'><label for='data-ae081e70-c13c-4898-837e-5f1dc0665d61' title='Show/Hide data repr'><svg class='icon xr-icon-database'><use xlink:href='#icon-database'></use></svg></label><div class='xr-var-attrs'><dl class='xr-attrs'><dt><span>units :</span></dt><dd>m s**-1</dd><dt><span>long_name :</span></dt><dd>Instantaneous 10 metre wind gust</dd></dl></div><div class='xr-var-data'><pre>array([[[nan, nan, nan, ..., nan, nan, nan],\n",
       "        [nan, nan, nan, ..., nan, nan, nan],\n",
       "        [nan, nan, nan, ..., nan, nan, nan],\n",
       "        ...,\n",
       "        [nan, nan, nan, ..., nan, nan, nan],\n",
       "        [nan, nan, nan, ..., nan, nan, nan],\n",
       "        [nan, nan, nan, ..., nan, nan, nan]],\n",
       "\n",
       "       [[nan, nan, nan, ..., nan, nan, nan],\n",
       "        [nan, nan, nan, ..., nan, nan, nan],\n",
       "        [nan, nan, nan, ..., nan, nan, nan],\n",
       "        ...,\n",
       "        [nan, nan, nan, ..., nan, nan, nan],\n",
       "        [nan, nan, nan, ..., nan, nan, nan],\n",
       "        [nan, nan, nan, ..., nan, nan, nan]],\n",
       "\n",
       "       [[nan, nan, nan, ..., nan, nan, nan],\n",
       "        [nan, nan, nan, ..., nan, nan, nan],\n",
       "        [nan, nan, nan, ..., nan, nan, nan],\n",
       "        ...,\n",
       "...\n",
       "        ...,\n",
       "        [nan, nan, nan, ..., nan, nan, nan],\n",
       "        [nan, nan, nan, ..., nan, nan, nan],\n",
       "        [nan, nan, nan, ..., nan, nan, nan]],\n",
       "\n",
       "       [[nan, nan, nan, ..., nan, nan, nan],\n",
       "        [nan, nan, nan, ..., nan, nan, nan],\n",
       "        [nan, nan, nan, ..., nan, nan, nan],\n",
       "        ...,\n",
       "        [nan, nan, nan, ..., nan, nan, nan],\n",
       "        [nan, nan, nan, ..., nan, nan, nan],\n",
       "        [nan, nan, nan, ..., nan, nan, nan]],\n",
       "\n",
       "       [[nan, nan, nan, ..., nan, nan, nan],\n",
       "        [nan, nan, nan, ..., nan, nan, nan],\n",
       "        [nan, nan, nan, ..., nan, nan, nan],\n",
       "        ...,\n",
       "        [nan, nan, nan, ..., nan, nan, nan],\n",
       "        [nan, nan, nan, ..., nan, nan, nan],\n",
       "        [nan, nan, nan, ..., nan, nan, nan]]], dtype=float32)</pre></div></li><li class='xr-var-item'><div class='xr-var-name'><span>msl</span></div><div class='xr-var-dims'>(time, latitude, longitude)</div><div class='xr-var-dtype'>float32</div><div class='xr-var-preview xr-preview'>nan nan nan nan ... nan nan nan nan</div><input id='attrs-50f071f4-d2e4-4128-aa19-4a35887bd515' class='xr-var-attrs-in' type='checkbox' ><label for='attrs-50f071f4-d2e4-4128-aa19-4a35887bd515' title='Show/Hide attributes'><svg class='icon xr-icon-file-text2'><use xlink:href='#icon-file-text2'></use></svg></label><input id='data-853c428c-4896-4385-97a4-0d39fd845e50' class='xr-var-data-in' type='checkbox'><label for='data-853c428c-4896-4385-97a4-0d39fd845e50' title='Show/Hide data repr'><svg class='icon xr-icon-database'><use xlink:href='#icon-database'></use></svg></label><div class='xr-var-attrs'><dl class='xr-attrs'><dt><span>units :</span></dt><dd>Pa</dd><dt><span>long_name :</span></dt><dd>Mean sea level pressure</dd><dt><span>standard_name :</span></dt><dd>air_pressure_at_mean_sea_level</dd></dl></div><div class='xr-var-data'><pre>array([[[nan, nan, nan, ..., nan, nan, nan],\n",
       "        [nan, nan, nan, ..., nan, nan, nan],\n",
       "        [nan, nan, nan, ..., nan, nan, nan],\n",
       "        ...,\n",
       "        [nan, nan, nan, ..., nan, nan, nan],\n",
       "        [nan, nan, nan, ..., nan, nan, nan],\n",
       "        [nan, nan, nan, ..., nan, nan, nan]],\n",
       "\n",
       "       [[nan, nan, nan, ..., nan, nan, nan],\n",
       "        [nan, nan, nan, ..., nan, nan, nan],\n",
       "        [nan, nan, nan, ..., nan, nan, nan],\n",
       "        ...,\n",
       "        [nan, nan, nan, ..., nan, nan, nan],\n",
       "        [nan, nan, nan, ..., nan, nan, nan],\n",
       "        [nan, nan, nan, ..., nan, nan, nan]],\n",
       "\n",
       "       [[nan, nan, nan, ..., nan, nan, nan],\n",
       "        [nan, nan, nan, ..., nan, nan, nan],\n",
       "        [nan, nan, nan, ..., nan, nan, nan],\n",
       "        ...,\n",
       "...\n",
       "        ...,\n",
       "        [nan, nan, nan, ..., nan, nan, nan],\n",
       "        [nan, nan, nan, ..., nan, nan, nan],\n",
       "        [nan, nan, nan, ..., nan, nan, nan]],\n",
       "\n",
       "       [[nan, nan, nan, ..., nan, nan, nan],\n",
       "        [nan, nan, nan, ..., nan, nan, nan],\n",
       "        [nan, nan, nan, ..., nan, nan, nan],\n",
       "        ...,\n",
       "        [nan, nan, nan, ..., nan, nan, nan],\n",
       "        [nan, nan, nan, ..., nan, nan, nan],\n",
       "        [nan, nan, nan, ..., nan, nan, nan]],\n",
       "\n",
       "       [[nan, nan, nan, ..., nan, nan, nan],\n",
       "        [nan, nan, nan, ..., nan, nan, nan],\n",
       "        [nan, nan, nan, ..., nan, nan, nan],\n",
       "        ...,\n",
       "        [nan, nan, nan, ..., nan, nan, nan],\n",
       "        [nan, nan, nan, ..., nan, nan, nan],\n",
       "        [nan, nan, nan, ..., nan, nan, nan]]], dtype=float32)</pre></div></li><li class='xr-var-item'><div class='xr-var-name'><span>mean_wind_speed_10m</span></div><div class='xr-var-dims'>(time, latitude, longitude)</div><div class='xr-var-dtype'>float32</div><div class='xr-var-preview xr-preview'>nan nan nan nan ... nan nan nan nan</div><input id='attrs-8c9976f8-517e-47bd-8072-60bc29131795' class='xr-var-attrs-in' type='checkbox' disabled><label for='attrs-8c9976f8-517e-47bd-8072-60bc29131795' title='Show/Hide attributes'><svg class='icon xr-icon-file-text2'><use xlink:href='#icon-file-text2'></use></svg></label><input id='data-8ea52d16-58f0-4625-a24b-93ffc602c211' class='xr-var-data-in' type='checkbox'><label for='data-8ea52d16-58f0-4625-a24b-93ffc602c211' title='Show/Hide data repr'><svg class='icon xr-icon-database'><use xlink:href='#icon-database'></use></svg></label><div class='xr-var-attrs'><dl class='xr-attrs'></dl></div><div class='xr-var-data'><pre>array([[[nan, nan, nan, ..., nan, nan, nan],\n",
       "        [nan, nan, nan, ..., nan, nan, nan],\n",
       "        [nan, nan, nan, ..., nan, nan, nan],\n",
       "        ...,\n",
       "        [nan, nan, nan, ..., nan, nan, nan],\n",
       "        [nan, nan, nan, ..., nan, nan, nan],\n",
       "        [nan, nan, nan, ..., nan, nan, nan]],\n",
       "\n",
       "       [[nan, nan, nan, ..., nan, nan, nan],\n",
       "        [nan, nan, nan, ..., nan, nan, nan],\n",
       "        [nan, nan, nan, ..., nan, nan, nan],\n",
       "        ...,\n",
       "        [nan, nan, nan, ..., nan, nan, nan],\n",
       "        [nan, nan, nan, ..., nan, nan, nan],\n",
       "        [nan, nan, nan, ..., nan, nan, nan]],\n",
       "\n",
       "       [[nan, nan, nan, ..., nan, nan, nan],\n",
       "        [nan, nan, nan, ..., nan, nan, nan],\n",
       "        [nan, nan, nan, ..., nan, nan, nan],\n",
       "        ...,\n",
       "...\n",
       "        ...,\n",
       "        [nan, nan, nan, ..., nan, nan, nan],\n",
       "        [nan, nan, nan, ..., nan, nan, nan],\n",
       "        [nan, nan, nan, ..., nan, nan, nan]],\n",
       "\n",
       "       [[nan, nan, nan, ..., nan, nan, nan],\n",
       "        [nan, nan, nan, ..., nan, nan, nan],\n",
       "        [nan, nan, nan, ..., nan, nan, nan],\n",
       "        ...,\n",
       "        [nan, nan, nan, ..., nan, nan, nan],\n",
       "        [nan, nan, nan, ..., nan, nan, nan],\n",
       "        [nan, nan, nan, ..., nan, nan, nan]],\n",
       "\n",
       "       [[nan, nan, nan, ..., nan, nan, nan],\n",
       "        [nan, nan, nan, ..., nan, nan, nan],\n",
       "        [nan, nan, nan, ..., nan, nan, nan],\n",
       "        ...,\n",
       "        [nan, nan, nan, ..., nan, nan, nan],\n",
       "        [nan, nan, nan, ..., nan, nan, nan],\n",
       "        [nan, nan, nan, ..., nan, nan, nan]]], dtype=float32)</pre></div></li><li class='xr-var-item'><div class='xr-var-name'><span>mean_wind_speed_100m</span></div><div class='xr-var-dims'>(time, latitude, longitude)</div><div class='xr-var-dtype'>float32</div><div class='xr-var-preview xr-preview'>nan nan nan nan ... nan nan nan nan</div><input id='attrs-7b869439-3258-4cb2-9d86-91c92c42e7d0' class='xr-var-attrs-in' type='checkbox' disabled><label for='attrs-7b869439-3258-4cb2-9d86-91c92c42e7d0' title='Show/Hide attributes'><svg class='icon xr-icon-file-text2'><use xlink:href='#icon-file-text2'></use></svg></label><input id='data-a0d1ee72-db41-4d0e-9a43-9970a3268677' class='xr-var-data-in' type='checkbox'><label for='data-a0d1ee72-db41-4d0e-9a43-9970a3268677' title='Show/Hide data repr'><svg class='icon xr-icon-database'><use xlink:href='#icon-database'></use></svg></label><div class='xr-var-attrs'><dl class='xr-attrs'></dl></div><div class='xr-var-data'><pre>array([[[nan, nan, nan, ..., nan, nan, nan],\n",
       "        [nan, nan, nan, ..., nan, nan, nan],\n",
       "        [nan, nan, nan, ..., nan, nan, nan],\n",
       "        ...,\n",
       "        [nan, nan, nan, ..., nan, nan, nan],\n",
       "        [nan, nan, nan, ..., nan, nan, nan],\n",
       "        [nan, nan, nan, ..., nan, nan, nan]],\n",
       "\n",
       "       [[nan, nan, nan, ..., nan, nan, nan],\n",
       "        [nan, nan, nan, ..., nan, nan, nan],\n",
       "        [nan, nan, nan, ..., nan, nan, nan],\n",
       "        ...,\n",
       "        [nan, nan, nan, ..., nan, nan, nan],\n",
       "        [nan, nan, nan, ..., nan, nan, nan],\n",
       "        [nan, nan, nan, ..., nan, nan, nan]],\n",
       "\n",
       "       [[nan, nan, nan, ..., nan, nan, nan],\n",
       "        [nan, nan, nan, ..., nan, nan, nan],\n",
       "        [nan, nan, nan, ..., nan, nan, nan],\n",
       "        ...,\n",
       "...\n",
       "        ...,\n",
       "        [nan, nan, nan, ..., nan, nan, nan],\n",
       "        [nan, nan, nan, ..., nan, nan, nan],\n",
       "        [nan, nan, nan, ..., nan, nan, nan]],\n",
       "\n",
       "       [[nan, nan, nan, ..., nan, nan, nan],\n",
       "        [nan, nan, nan, ..., nan, nan, nan],\n",
       "        [nan, nan, nan, ..., nan, nan, nan],\n",
       "        ...,\n",
       "        [nan, nan, nan, ..., nan, nan, nan],\n",
       "        [nan, nan, nan, ..., nan, nan, nan],\n",
       "        [nan, nan, nan, ..., nan, nan, nan]],\n",
       "\n",
       "       [[nan, nan, nan, ..., nan, nan, nan],\n",
       "        [nan, nan, nan, ..., nan, nan, nan],\n",
       "        [nan, nan, nan, ..., nan, nan, nan],\n",
       "        ...,\n",
       "        [nan, nan, nan, ..., nan, nan, nan],\n",
       "        [nan, nan, nan, ..., nan, nan, nan],\n",
       "        [nan, nan, nan, ..., nan, nan, nan]]], dtype=float32)</pre></div></li><li class='xr-var-item'><div class='xr-var-name'><span>wind_direction_angle_10m</span></div><div class='xr-var-dims'>(time, latitude, longitude)</div><div class='xr-var-dtype'>float32</div><div class='xr-var-preview xr-preview'>nan nan nan nan ... nan nan nan nan</div><input id='attrs-660ab692-89ee-47aa-8970-7ab12e3e17f4' class='xr-var-attrs-in' type='checkbox' disabled><label for='attrs-660ab692-89ee-47aa-8970-7ab12e3e17f4' title='Show/Hide attributes'><svg class='icon xr-icon-file-text2'><use xlink:href='#icon-file-text2'></use></svg></label><input id='data-4bac4d8a-8115-418e-aebe-8b5f6b818157' class='xr-var-data-in' type='checkbox'><label for='data-4bac4d8a-8115-418e-aebe-8b5f6b818157' title='Show/Hide data repr'><svg class='icon xr-icon-database'><use xlink:href='#icon-database'></use></svg></label><div class='xr-var-attrs'><dl class='xr-attrs'></dl></div><div class='xr-var-data'><pre>array([[[nan, nan, nan, ..., nan, nan, nan],\n",
       "        [nan, nan, nan, ..., nan, nan, nan],\n",
       "        [nan, nan, nan, ..., nan, nan, nan],\n",
       "        ...,\n",
       "        [nan, nan, nan, ..., nan, nan, nan],\n",
       "        [nan, nan, nan, ..., nan, nan, nan],\n",
       "        [nan, nan, nan, ..., nan, nan, nan]],\n",
       "\n",
       "       [[nan, nan, nan, ..., nan, nan, nan],\n",
       "        [nan, nan, nan, ..., nan, nan, nan],\n",
       "        [nan, nan, nan, ..., nan, nan, nan],\n",
       "        ...,\n",
       "        [nan, nan, nan, ..., nan, nan, nan],\n",
       "        [nan, nan, nan, ..., nan, nan, nan],\n",
       "        [nan, nan, nan, ..., nan, nan, nan]],\n",
       "\n",
       "       [[nan, nan, nan, ..., nan, nan, nan],\n",
       "        [nan, nan, nan, ..., nan, nan, nan],\n",
       "        [nan, nan, nan, ..., nan, nan, nan],\n",
       "        ...,\n",
       "...\n",
       "        ...,\n",
       "        [nan, nan, nan, ..., nan, nan, nan],\n",
       "        [nan, nan, nan, ..., nan, nan, nan],\n",
       "        [nan, nan, nan, ..., nan, nan, nan]],\n",
       "\n",
       "       [[nan, nan, nan, ..., nan, nan, nan],\n",
       "        [nan, nan, nan, ..., nan, nan, nan],\n",
       "        [nan, nan, nan, ..., nan, nan, nan],\n",
       "        ...,\n",
       "        [nan, nan, nan, ..., nan, nan, nan],\n",
       "        [nan, nan, nan, ..., nan, nan, nan],\n",
       "        [nan, nan, nan, ..., nan, nan, nan]],\n",
       "\n",
       "       [[nan, nan, nan, ..., nan, nan, nan],\n",
       "        [nan, nan, nan, ..., nan, nan, nan],\n",
       "        [nan, nan, nan, ..., nan, nan, nan],\n",
       "        ...,\n",
       "        [nan, nan, nan, ..., nan, nan, nan],\n",
       "        [nan, nan, nan, ..., nan, nan, nan],\n",
       "        [nan, nan, nan, ..., nan, nan, nan]]], dtype=float32)</pre></div></li><li class='xr-var-item'><div class='xr-var-name'><span>wind_direction_angle_100m</span></div><div class='xr-var-dims'>(time, latitude, longitude)</div><div class='xr-var-dtype'>float32</div><div class='xr-var-preview xr-preview'>nan nan nan nan ... nan nan nan nan</div><input id='attrs-5611a21d-578a-4ed0-b313-3781f2be069b' class='xr-var-attrs-in' type='checkbox' disabled><label for='attrs-5611a21d-578a-4ed0-b313-3781f2be069b' title='Show/Hide attributes'><svg class='icon xr-icon-file-text2'><use xlink:href='#icon-file-text2'></use></svg></label><input id='data-ccdddd8a-60db-4438-8d3f-1dc2126babe9' class='xr-var-data-in' type='checkbox'><label for='data-ccdddd8a-60db-4438-8d3f-1dc2126babe9' title='Show/Hide data repr'><svg class='icon xr-icon-database'><use xlink:href='#icon-database'></use></svg></label><div class='xr-var-attrs'><dl class='xr-attrs'></dl></div><div class='xr-var-data'><pre>array([[[nan, nan, nan, ..., nan, nan, nan],\n",
       "        [nan, nan, nan, ..., nan, nan, nan],\n",
       "        [nan, nan, nan, ..., nan, nan, nan],\n",
       "        ...,\n",
       "        [nan, nan, nan, ..., nan, nan, nan],\n",
       "        [nan, nan, nan, ..., nan, nan, nan],\n",
       "        [nan, nan, nan, ..., nan, nan, nan]],\n",
       "\n",
       "       [[nan, nan, nan, ..., nan, nan, nan],\n",
       "        [nan, nan, nan, ..., nan, nan, nan],\n",
       "        [nan, nan, nan, ..., nan, nan, nan],\n",
       "        ...,\n",
       "        [nan, nan, nan, ..., nan, nan, nan],\n",
       "        [nan, nan, nan, ..., nan, nan, nan],\n",
       "        [nan, nan, nan, ..., nan, nan, nan]],\n",
       "\n",
       "       [[nan, nan, nan, ..., nan, nan, nan],\n",
       "        [nan, nan, nan, ..., nan, nan, nan],\n",
       "        [nan, nan, nan, ..., nan, nan, nan],\n",
       "        ...,\n",
       "...\n",
       "        ...,\n",
       "        [nan, nan, nan, ..., nan, nan, nan],\n",
       "        [nan, nan, nan, ..., nan, nan, nan],\n",
       "        [nan, nan, nan, ..., nan, nan, nan]],\n",
       "\n",
       "       [[nan, nan, nan, ..., nan, nan, nan],\n",
       "        [nan, nan, nan, ..., nan, nan, nan],\n",
       "        [nan, nan, nan, ..., nan, nan, nan],\n",
       "        ...,\n",
       "        [nan, nan, nan, ..., nan, nan, nan],\n",
       "        [nan, nan, nan, ..., nan, nan, nan],\n",
       "        [nan, nan, nan, ..., nan, nan, nan]],\n",
       "\n",
       "       [[nan, nan, nan, ..., nan, nan, nan],\n",
       "        [nan, nan, nan, ..., nan, nan, nan],\n",
       "        [nan, nan, nan, ..., nan, nan, nan],\n",
       "        ...,\n",
       "        [nan, nan, nan, ..., nan, nan, nan],\n",
       "        [nan, nan, nan, ..., nan, nan, nan],\n",
       "        [nan, nan, nan, ..., nan, nan, nan]]], dtype=float32)</pre></div></li></ul></div></li><li class='xr-section-item'><input id='section-192dac7c-b5ed-4130-9dc2-40d87b2d6eb6' class='xr-section-summary-in' type='checkbox'  ><label for='section-192dac7c-b5ed-4130-9dc2-40d87b2d6eb6' class='xr-section-summary' >Indexes: <span>(3)</span></label><div class='xr-section-inline-details'></div><div class='xr-section-details'><ul class='xr-var-list'><li class='xr-var-item'><div class='xr-index-name'><div>longitude</div></div><div class='xr-index-preview'>PandasIndex</div><div></div><input id='index-1e22ffcc-9bb3-4776-8cc9-e2816949d0c3' class='xr-index-data-in' type='checkbox'/><label for='index-1e22ffcc-9bb3-4776-8cc9-e2816949d0c3' title='Show/Hide index repr'><svg class='icon xr-icon-database'><use xlink:href='#icon-database'></use></svg></label><div class='xr-index-data'><pre>PandasIndex(Index([  5.96999979019165,   6.21999979019165,   6.46999979019165,\n",
       "         6.71999979019165,   6.96999979019165,   7.21999979019165,\n",
       "         7.46999979019165,   7.71999979019165,   7.96999979019165,\n",
       "        8.220000267028809,  8.470000267028809,  8.720000267028809,\n",
       "        8.970000267028809,  9.220000267028809,  9.470000267028809,\n",
       "        9.720000267028809,  9.970000267028809, 10.220000267028809,\n",
       "       10.470000267028809, 10.720000267028809, 10.970000267028809,\n",
       "       11.220000267028809, 11.470000267028809, 11.720000267028809,\n",
       "       11.970000267028809, 12.220000267028809, 12.470000267028809,\n",
       "       12.720000267028809, 12.970000267028809, 13.220000267028809,\n",
       "       13.470000267028809, 13.720000267028809, 13.970000267028809,\n",
       "       14.220000267028809, 14.470000267028809, 14.720000267028809,\n",
       "       14.970000267028809],\n",
       "      dtype=&#x27;float32&#x27;, name=&#x27;longitude&#x27;))</pre></div></li><li class='xr-var-item'><div class='xr-index-name'><div>latitude</div></div><div class='xr-index-preview'>PandasIndex</div><div></div><input id='index-f453507b-eb2c-41a5-af6c-7cb941d5adf3' class='xr-index-data-in' type='checkbox'/><label for='index-f453507b-eb2c-41a5-af6c-7cb941d5adf3' title='Show/Hide index repr'><svg class='icon xr-icon-database'><use xlink:href='#icon-database'></use></svg></label><div class='xr-index-data'><pre>PandasIndex(Index([47.56999969482422, 47.81999969482422, 48.06999969482422,\n",
       "       48.31999969482422, 48.56999969482422, 48.81999969482422,\n",
       "       49.06999969482422, 49.31999969482422, 49.56999969482422,\n",
       "       49.81999969482422, 50.06999969482422, 50.31999969482422,\n",
       "       50.56999969482422, 50.81999969482422, 51.06999969482422,\n",
       "       51.31999969482422, 51.56999969482422, 51.81999969482422,\n",
       "       52.06999969482422, 52.31999969482422, 52.56999969482422,\n",
       "       52.81999969482422, 53.06999969482422, 53.31999969482422,\n",
       "       53.56999969482422, 53.81999969482422, 54.06999969482422,\n",
       "       54.31999969482422, 54.56999969482422, 54.81999969482422],\n",
       "      dtype=&#x27;float32&#x27;, name=&#x27;latitude&#x27;))</pre></div></li><li class='xr-var-item'><div class='xr-index-name'><div>time</div></div><div class='xr-index-preview'>PandasIndex</div><div></div><input id='index-53b3b3fb-b3b8-4202-b98e-ffc5ee48ce80' class='xr-index-data-in' type='checkbox'/><label for='index-53b3b3fb-b3b8-4202-b98e-ffc5ee48ce80' title='Show/Hide index repr'><svg class='icon xr-icon-database'><use xlink:href='#icon-database'></use></svg></label><div class='xr-index-data'><pre>PandasIndex(DatetimeIndex([&#x27;2018-01-01 00:00:00&#x27;, &#x27;2018-01-01 01:00:00&#x27;,\n",
       "               &#x27;2018-01-01 02:00:00&#x27;, &#x27;2018-01-01 03:00:00&#x27;,\n",
       "               &#x27;2018-01-01 04:00:00&#x27;, &#x27;2018-01-01 05:00:00&#x27;,\n",
       "               &#x27;2018-01-01 06:00:00&#x27;, &#x27;2018-01-01 07:00:00&#x27;,\n",
       "               &#x27;2018-01-01 08:00:00&#x27;, &#x27;2018-01-01 09:00:00&#x27;,\n",
       "               ...\n",
       "               &#x27;2023-06-30 14:00:00&#x27;, &#x27;2023-06-30 15:00:00&#x27;,\n",
       "               &#x27;2023-06-30 16:00:00&#x27;, &#x27;2023-06-30 17:00:00&#x27;,\n",
       "               &#x27;2023-06-30 18:00:00&#x27;, &#x27;2023-06-30 19:00:00&#x27;,\n",
       "               &#x27;2023-06-30 20:00:00&#x27;, &#x27;2023-06-30 21:00:00&#x27;,\n",
       "               &#x27;2023-06-30 22:00:00&#x27;, &#x27;2023-06-30 23:00:00&#x27;],\n",
       "              dtype=&#x27;datetime64[ns]&#x27;, name=&#x27;time&#x27;, length=48168, freq=None))</pre></div></li></ul></div></li><li class='xr-section-item'><input id='section-4b6b54e6-c7ed-48c5-9de8-59d23b9c6a57' class='xr-section-summary-in' type='checkbox'  checked><label for='section-4b6b54e6-c7ed-48c5-9de8-59d23b9c6a57' class='xr-section-summary' >Attributes: <span>(2)</span></label><div class='xr-section-inline-details'></div><div class='xr-section-details'><dl class='xr-attrs'><dt><span>Conventions :</span></dt><dd>CF-1.6</dd><dt><span>history :</span></dt><dd>2023-09-11 11:36:09 GMT by grib_to_netcdf-2.25.1: /opt/ecmwf/mars-client/bin/grib_to_netcdf.bin -S param -o /cache/data0/adaptor.mars.internal-1694431710.9141645-9822-1-35ba6504-5528-4143-99dd-c061c6e6fb1f.nc /cache/tmp/35ba6504-5528-4143-99dd-c061c6e6fb1f-adaptor.mars.internal-1694429439.6541896-9822-1-tmp.grib</dd></dl></div></li></ul></div></div>"
      ],
      "text/plain": [
       "<xarray.Dataset>\n",
       "Dimensions:                    (time: 48168, latitude: 30, longitude: 37)\n",
       "Coordinates:\n",
       "  * longitude                  (longitude) float32 5.97 6.22 ... 14.72 14.97\n",
       "  * latitude                   (latitude) float32 47.57 47.82 ... 54.57 54.82\n",
       "  * time                       (time) datetime64[ns] 2018-01-01 ... 2023-06-3...\n",
       "Data variables:\n",
       "    t2m                        (time, latitude, longitude) float32 nan ... nan\n",
       "    i10fg                      (time, latitude, longitude) float32 nan ... nan\n",
       "    msl                        (time, latitude, longitude) float32 nan ... nan\n",
       "    mean_wind_speed_10m        (time, latitude, longitude) float32 nan ... nan\n",
       "    mean_wind_speed_100m       (time, latitude, longitude) float32 nan ... nan\n",
       "    wind_direction_angle_10m   (time, latitude, longitude) float32 nan ... nan\n",
       "    wind_direction_angle_100m  (time, latitude, longitude) float32 nan ... nan\n",
       "Attributes:\n",
       "    Conventions:  CF-1.6\n",
       "    history:      2023-09-11 11:36:09 GMT by grib_to_netcdf-2.25.1: /opt/ecmw..."
      ]
     },
     "execution_count": 112,
     "metadata": {},
     "output_type": "execute_result"
    }
   ],
   "source": [
    "ds_masked"
   ]
  },
  {
   "cell_type": "markdown",
   "id": "8e7b5ee5-16da-4c8b-b010-deab26d290cc",
   "metadata": {},
   "source": [
    "#### Save latest Xarray dataset as NetCDF"
   ]
  },
  {
   "cell_type": "code",
   "execution_count": 114,
   "id": "f62f422a-665c-44c7-818a-61f38b49f392",
   "metadata": {
    "tags": []
   },
   "outputs": [],
   "source": [
    "# ds_masked.to_netcdf(data_path.joinpath('ERA5').joinpath('era5_combined_subset_derived_dropped_masked.nc'))"
   ]
  },
  {
   "cell_type": "markdown",
   "id": "1bbc3b40-7332-442c-b880-a8b721ad2e68",
   "metadata": {},
   "source": [
    "------"
   ]
  },
  {
   "cell_type": "code",
   "execution_count": 115,
   "id": "76843644-7f2e-4146-af4f-f2ce75cefe1f",
   "metadata": {
    "tags": []
   },
   "outputs": [
    {
     "data": {
      "text/html": [
       "<div>\n",
       "<style scoped>\n",
       "    .dataframe tbody tr th:only-of-type {\n",
       "        vertical-align: middle;\n",
       "    }\n",
       "\n",
       "    .dataframe tbody tr th {\n",
       "        vertical-align: top;\n",
       "    }\n",
       "\n",
       "    .dataframe thead th {\n",
       "        text-align: right;\n",
       "    }\n",
       "</style>\n",
       "<table border=\"1\" class=\"dataframe\">\n",
       "  <thead>\n",
       "    <tr style=\"text-align: right;\">\n",
       "      <th></th>\n",
       "      <th>mean_wind_speed_10m</th>\n",
       "    </tr>\n",
       "    <tr>\n",
       "      <th>time</th>\n",
       "      <th></th>\n",
       "    </tr>\n",
       "  </thead>\n",
       "  <tbody>\n",
       "    <tr>\n",
       "      <th>2018-01-01 00:00:00</th>\n",
       "      <td>5.905850</td>\n",
       "    </tr>\n",
       "    <tr>\n",
       "      <th>2018-01-01 01:00:00</th>\n",
       "      <td>6.261999</td>\n",
       "    </tr>\n",
       "    <tr>\n",
       "      <th>2018-01-01 02:00:00</th>\n",
       "      <td>6.672714</td>\n",
       "    </tr>\n",
       "    <tr>\n",
       "      <th>2018-01-01 03:00:00</th>\n",
       "      <td>6.924845</td>\n",
       "    </tr>\n",
       "    <tr>\n",
       "      <th>2018-01-01 04:00:00</th>\n",
       "      <td>7.140243</td>\n",
       "    </tr>\n",
       "    <tr>\n",
       "      <th>...</th>\n",
       "      <td>...</td>\n",
       "    </tr>\n",
       "    <tr>\n",
       "      <th>2023-06-30 19:00:00</th>\n",
       "      <td>2.178707</td>\n",
       "    </tr>\n",
       "    <tr>\n",
       "      <th>2023-06-30 20:00:00</th>\n",
       "      <td>2.174161</td>\n",
       "    </tr>\n",
       "    <tr>\n",
       "      <th>2023-06-30 21:00:00</th>\n",
       "      <td>2.309697</td>\n",
       "    </tr>\n",
       "    <tr>\n",
       "      <th>2023-06-30 22:00:00</th>\n",
       "      <td>2.461396</td>\n",
       "    </tr>\n",
       "    <tr>\n",
       "      <th>2023-06-30 23:00:00</th>\n",
       "      <td>2.686481</td>\n",
       "    </tr>\n",
       "  </tbody>\n",
       "</table>\n",
       "<p>48168 rows × 1 columns</p>\n",
       "</div>"
      ],
      "text/plain": [
       "                     mean_wind_speed_10m\n",
       "time                                    \n",
       "2018-01-01 00:00:00             5.905850\n",
       "2018-01-01 01:00:00             6.261999\n",
       "2018-01-01 02:00:00             6.672714\n",
       "2018-01-01 03:00:00             6.924845\n",
       "2018-01-01 04:00:00             7.140243\n",
       "...                                  ...\n",
       "2023-06-30 19:00:00             2.178707\n",
       "2023-06-30 20:00:00             2.174161\n",
       "2023-06-30 21:00:00             2.309697\n",
       "2023-06-30 22:00:00             2.461396\n",
       "2023-06-30 23:00:00             2.686481\n",
       "\n",
       "[48168 rows x 1 columns]"
      ]
     },
     "execution_count": 115,
     "metadata": {},
     "output_type": "execute_result"
    }
   ],
   "source": [
    "ds['mean_wind_speed_10m'].mean(dim=['latitude', 'longitude']).to_dataframe()"
   ]
  },
  {
   "cell_type": "code",
   "execution_count": 116,
   "id": "add34ae3-7dce-4179-ba0f-74ffbd713039",
   "metadata": {
    "tags": []
   },
   "outputs": [
    {
     "data": {
      "text/html": [
       "<div>\n",
       "<style scoped>\n",
       "    .dataframe tbody tr th:only-of-type {\n",
       "        vertical-align: middle;\n",
       "    }\n",
       "\n",
       "    .dataframe tbody tr th {\n",
       "        vertical-align: top;\n",
       "    }\n",
       "\n",
       "    .dataframe thead th {\n",
       "        text-align: right;\n",
       "    }\n",
       "</style>\n",
       "<table border=\"1\" class=\"dataframe\">\n",
       "  <thead>\n",
       "    <tr style=\"text-align: right;\">\n",
       "      <th></th>\n",
       "      <th>mean_wind_speed_10m</th>\n",
       "    </tr>\n",
       "    <tr>\n",
       "      <th>time</th>\n",
       "      <th></th>\n",
       "    </tr>\n",
       "  </thead>\n",
       "  <tbody>\n",
       "    <tr>\n",
       "      <th>2018-01-01 00:00:00</th>\n",
       "      <td>5.979852</td>\n",
       "    </tr>\n",
       "    <tr>\n",
       "      <th>2018-01-01 01:00:00</th>\n",
       "      <td>6.309907</td>\n",
       "    </tr>\n",
       "    <tr>\n",
       "      <th>2018-01-01 02:00:00</th>\n",
       "      <td>6.685947</td>\n",
       "    </tr>\n",
       "    <tr>\n",
       "      <th>2018-01-01 03:00:00</th>\n",
       "      <td>6.895384</td>\n",
       "    </tr>\n",
       "    <tr>\n",
       "      <th>2018-01-01 04:00:00</th>\n",
       "      <td>7.061473</td>\n",
       "    </tr>\n",
       "    <tr>\n",
       "      <th>...</th>\n",
       "      <td>...</td>\n",
       "    </tr>\n",
       "    <tr>\n",
       "      <th>2023-06-30 19:00:00</th>\n",
       "      <td>1.842346</td>\n",
       "    </tr>\n",
       "    <tr>\n",
       "      <th>2023-06-30 20:00:00</th>\n",
       "      <td>1.791439</td>\n",
       "    </tr>\n",
       "    <tr>\n",
       "      <th>2023-06-30 21:00:00</th>\n",
       "      <td>1.920705</td>\n",
       "    </tr>\n",
       "    <tr>\n",
       "      <th>2023-06-30 22:00:00</th>\n",
       "      <td>2.140495</td>\n",
       "    </tr>\n",
       "    <tr>\n",
       "      <th>2023-06-30 23:00:00</th>\n",
       "      <td>2.335482</td>\n",
       "    </tr>\n",
       "  </tbody>\n",
       "</table>\n",
       "<p>48168 rows × 1 columns</p>\n",
       "</div>"
      ],
      "text/plain": [
       "                     mean_wind_speed_10m\n",
       "time                                    \n",
       "2018-01-01 00:00:00             5.979852\n",
       "2018-01-01 01:00:00             6.309907\n",
       "2018-01-01 02:00:00             6.685947\n",
       "2018-01-01 03:00:00             6.895384\n",
       "2018-01-01 04:00:00             7.061473\n",
       "...                                  ...\n",
       "2023-06-30 19:00:00             1.842346\n",
       "2023-06-30 20:00:00             1.791439\n",
       "2023-06-30 21:00:00             1.920705\n",
       "2023-06-30 22:00:00             2.140495\n",
       "2023-06-30 23:00:00             2.335482\n",
       "\n",
       "[48168 rows x 1 columns]"
      ]
     },
     "execution_count": 116,
     "metadata": {},
     "output_type": "execute_result"
    }
   ],
   "source": [
    "ds_masked['mean_wind_speed_10m'].mean(dim=['latitude', 'longitude']).to_dataframe()"
   ]
  },
  {
   "cell_type": "code",
   "execution_count": null,
   "id": "eac1633d-6f76-45f6-a9db-18ddc9995923",
   "metadata": {},
   "outputs": [],
   "source": []
  },
  {
   "cell_type": "code",
   "execution_count": null,
   "id": "2a199ba9-131a-4062-8c74-582e9f8e5b2f",
   "metadata": {},
   "outputs": [],
   "source": []
  }
 ],
 "metadata": {
  "kernelspec": {
   "display_name": "course_project",
   "language": "python",
   "name": "course_project"
  },
  "language_info": {
   "codemirror_mode": {
    "name": "ipython",
    "version": 3
   },
   "file_extension": ".py",
   "mimetype": "text/x-python",
   "name": "python",
   "nbconvert_exporter": "python",
   "pygments_lexer": "ipython3",
   "version": "3.10.12"
  }
 },
 "nbformat": 4,
 "nbformat_minor": 5
}
