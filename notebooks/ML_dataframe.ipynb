{
 "cells": [
  {
   "cell_type": "markdown",
   "id": "7f9a5697-a50e-45e1-b047-07252557afa0",
   "metadata": {},
   "source": [
    "# Building the ML dataframe"
   ]
  },
  {
   "cell_type": "code",
   "execution_count": 1,
   "id": "a207893c-6f98-4c83-b0c1-8a241b78c41d",
   "metadata": {
    "tags": []
   },
   "outputs": [],
   "source": [
    "from pathlib import Path\n",
    "\n",
    "import numpy as np\n",
    "import pandas as pd\n",
    "import xarray as xr"
   ]
  },
  {
   "cell_type": "code",
   "execution_count": 2,
   "id": "ad32155d-e98f-4351-ba14-dada857077c3",
   "metadata": {
    "tags": []
   },
   "outputs": [],
   "source": [
    "# Set max number of columns to display; default 20\n",
    "pd.options.display.max_columns = 80"
   ]
  },
  {
   "cell_type": "code",
   "execution_count": 3,
   "id": "86d7e9b7-8a39-44bc-a77b-670c2411d40d",
   "metadata": {
    "tags": []
   },
   "outputs": [],
   "source": [
    "# Directory where data files will be downloaded\n",
    "cwd_path = Path.cwd()\n",
    "data_path = cwd_path.parent.joinpath('data')\n",
    "data_push_path = cwd_path.parent.joinpath('data_to_push')"
   ]
  },
  {
   "cell_type": "markdown",
   "id": "594f09e2-8dfa-4537-87c8-02f59c316c2f",
   "metadata": {},
   "source": [
    "### Load in latest wind turbine data\n",
    "- Note: Only 9 turbines decommissioned before 2019!\n",
    "- Now only 751 unique grid points used"
   ]
  },
  {
   "cell_type": "code",
   "execution_count": 4,
   "id": "60756d12-c942-4221-8bfb-55539c5cb587",
   "metadata": {
    "tags": []
   },
   "outputs": [
    {
     "name": "stdout",
     "output_type": "stream",
     "text": [
      "<class 'pandas.core.frame.DataFrame'>\n",
      "RangeIndex: 30547 entries, 0 to 30546\n",
      "Data columns (total 30 columns):\n",
      " #   Column                                            Non-Null Count  Dtype              \n",
      "---  ------                                            --------------  -----              \n",
      " 0   EinheitMastrNummer                                30547 non-null  object             \n",
      " 1   DatumLetzteAktualisierung                         30547 non-null  datetime64[ns, UTC]\n",
      " 2   Bundesland                                        30547 non-null  object             \n",
      " 3   Postleitzahl                                      30547 non-null  int64              \n",
      " 4   Ort                                               30547 non-null  object             \n",
      " 5   Laengengrad                                       30547 non-null  float64            \n",
      " 6   Breitengrad                                       30547 non-null  float64            \n",
      " 7   Registrierungsdatum                               30547 non-null  datetime64[ns, UTC]\n",
      " 8   Inbetriebnahmedatum                               30547 non-null  datetime64[ns, UTC]\n",
      " 9   EinheitBetriebsstatus                             30547 non-null  object             \n",
      " 10  DatumEndgueltigeStilllegung                       1147 non-null   datetime64[ns, UTC]\n",
      " 11  DatumBeginnVoruebergehendeStilllegung             67 non-null     datetime64[ns, UTC]\n",
      " 12  DatumWiederaufnahmeBetrieb                        6 non-null      datetime64[ns, UTC]\n",
      " 13  NameStromerzeugungseinheit                        30547 non-null  object             \n",
      " 14  Nettonennleistung                                 30547 non-null  float64            \n",
      " 15  AnschlussAnHoechstOderHochSpannung                22067 non-null  float64            \n",
      " 16  Einspeisungsart                                   30109 non-null  object             \n",
      " 17  NameWindpark                                      29765 non-null  object             \n",
      " 18  Hersteller                                        30290 non-null  object             \n",
      " 19  Technologie                                       30547 non-null  object             \n",
      " 20  Typenbezeichnung                                  30285 non-null  object             \n",
      " 21  Nabenhoehe                                        30547 non-null  float64            \n",
      " 22  Rotordurchmesser                                  30547 non-null  float64            \n",
      " 23  Rotorblattenteisungssystem                        23174 non-null  float64            \n",
      " 24  area_blades                                       30547 non-null  int64              \n",
      " 25  nearest_grid_point                                30547 non-null  object             \n",
      " 26  nearest_grid_point_elevation                      30547 non-null  float64            \n",
      " 27  turbine_elevation                                 30547 non-null  float64            \n",
      " 28  nearest_grid_point_distance                       30547 non-null  float64            \n",
      " 29  turbine_elevation_relative_to_nearest_grid_point  30547 non-null  float64            \n",
      "dtypes: datetime64[ns, UTC](6), float64(11), int64(2), object(11)\n",
      "memory usage: 7.0+ MB\n"
     ]
    }
   ],
   "source": [
    "# Read in latest turbine data\n",
    "# Now only 30_638 after removing 3 turbines outside bounding box and 4 clearly outside Germany\n",
    "# Update: now only 30_547 after filtering for operational turbines for period 2018-end of June 2023\n",
    "df_turbines = pd.read_pickle(data_push_path / 'df_turbines_knn_blades_haversine_elevation_utc_2_2018_2023.pkl')\n",
    "df_turbines.info()"
   ]
  },
  {
   "cell_type": "code",
   "execution_count": 5,
   "id": "e8b6d791-7cdc-47cf-a229-3e7be5f1cf07",
   "metadata": {
    "tags": []
   },
   "outputs": [],
   "source": [
    "# List of datetime column names for convenient indexing later\n",
    "turbine_date_columns = [\n",
    "    'DatumLetzteAktualisierung',\n",
    "    'Registrierungsdatum',\n",
    "    'Inbetriebnahmedatum',\n",
    "    'DatumEndgueltigeStilllegung',\n",
    "    'DatumBeginnVoruebergehendeStilllegung',\n",
    "    'DatumWiederaufnahmeBetrieb'\n",
    "]"
   ]
  },
  {
   "cell_type": "code",
   "execution_count": 6,
   "id": "93e71fcc-0e32-4ddc-b2ab-c5a549cdcc4c",
   "metadata": {
    "tags": []
   },
   "outputs": [],
   "source": [
    "# Use these weights to calculate weighted means for my various weather params\n",
    "grid_point_weights_dict = df_turbines['nearest_grid_point'].value_counts().to_dict()"
   ]
  },
  {
   "cell_type": "markdown",
   "id": "0ec4db7a-3c90-4074-a7d4-d8ded70bf57e",
   "metadata": {},
   "source": [
    "#### The below code subsets the turbines dataset by keeping only turbines operational during the chosen time series period"
   ]
  },
  {
   "cell_type": "code",
   "execution_count": 1567,
   "id": "5b84df71-9569-4b86-bcce-6d5ff2e3c8cc",
   "metadata": {
    "tags": []
   },
   "outputs": [],
   "source": [
    "# Get datetimes in index before ERA5 data cutoff \n",
    "# subset_datetime_idx = df_main.loc[df_main.index < pd.to_datetime('2023-06-30 23:00:00', utc=True)].index\n",
    "\n",
    "# # initialise empty set to update\n",
    "# unique_set_of_idx = set()\n",
    "\n",
    "# # loop through all timestamps \n",
    "# for timestamp in subset_datetime_idx:\n",
    "#     # return bool series of turbines in operation on timestamp\n",
    "#     is_operational_bool_mask = is_operational(timestamp, df_turbines)\n",
    "    \n",
    "#     # Then get list of grid points for those turbines, make set, and update main set\n",
    "#     idx_set = set(df_turbines.loc[is_operational_bool_mask].index.to_list())\n",
    "#     unique_set_of_idx.update(idx_set)"
   ]
  },
  {
   "cell_type": "code",
   "execution_count": null,
   "id": "7be06eb5-56d0-42a4-8184-5ac3cb84e3a8",
   "metadata": {},
   "outputs": [],
   "source": [
    "# New dataframe to save to pickle\n",
    "# df_turbines_2018_2023 = df_turbines.iloc[list(unique_set_of_idx)]"
   ]
  },
  {
   "cell_type": "code",
   "execution_count": 371,
   "id": "23f23d69-5644-4975-b7a8-ffa6547c372a",
   "metadata": {
    "tags": []
   },
   "outputs": [],
   "source": [
    "# # Cast all tz naive datetime64 columns to UTC tz aware\n",
    "# df_turbines[turbine_date_columns] = df_turbines[turbine_date_columns].apply(lambda series: series.dt.tz_localize('UTC'), axis=0)\n",
    "\n",
    "# # save to pickle\n",
    "# df_turbines.to_pickle(data_push_path / 'df_turbines_knn_blades_haversine_elevation_utc.pkl')"
   ]
  },
  {
   "cell_type": "markdown",
   "id": "a7afd1be-4f95-46ca-8725-c5c8fd7eb3cc",
   "metadata": {},
   "source": [
    "-----"
   ]
  },
  {
   "cell_type": "markdown",
   "id": "072ead41-6439-49d1-9f7c-64802ac83833",
   "metadata": {},
   "source": [
    "# Load in all SMARD data"
   ]
  },
  {
   "cell_type": "markdown",
   "id": "394288e6-6c14-4f46-a8ce-99f0ba4fc912",
   "metadata": {},
   "source": [
    "### Load in SMARD energy generated data (actual measured generation)\n",
    "- My response variable `y` (aka target/label) "
   ]
  },
  {
   "cell_type": "code",
   "execution_count": 23,
   "id": "da86b8a3-c807-4621-8fe2-76067cc762e2",
   "metadata": {
    "tags": []
   },
   "outputs": [],
   "source": [
    "# Get all SMARD CSV files, load into dataframes, and concat them\n",
    "\n",
    "def load_SMARD_generated_data():\n",
    "    \"\"\"\n",
    "    Look for CSV files in the SMARD directory\n",
    "    \"\"\"\n",
    "    list_of_dataframes = []\n",
    "    for filepath in data_path.joinpath('SMARD').iterdir():\n",
    "        if filepath.name.startswith('Realisierte_Erzeugung'):\n",
    "            list_of_dataframes.append(pd.read_csv(filepath, sep=';'))\n",
    "            \n",
    "    # Check that num of rows is what I expect after concatenating dfs\n",
    "    num_of_rows = 0\n",
    "    for df in list_of_dataframes:\n",
    "        num_of_rows += len(df)\n",
    "    \n",
    "    # concat dataframes\n",
    "    df = pd.concat(list_of_dataframes)\n",
    "    print(f'Number of rows match up: {num_of_rows == len(df)}')\n",
    "    \n",
    "    # Select columns to keep\n",
    "    # Note: I'm using the interval start time to create the timestamps\n",
    "    # ERA5 surface parameters are instantaneous so can't perfectly align anyway\n",
    "    df = df[[\n",
    "        'Datum',\n",
    "        'Anfang',\n",
    "        # 'Ende',\n",
    "        'Wind Onshore [MWh] Berechnete Auflösungen'\n",
    "    ]]\n",
    "    \n",
    "    # rename columns\n",
    "    df.rename(columns={\n",
    "        'Datum': 'date',\n",
    "        'Anfang': 'interval_start_time', \n",
    "        # 'Ende': 'interval_end_time',\n",
    "        'Wind Onshore [MWh] Berechnete Auflösungen': 'actual_generated_smard_mwh'\n",
    "    }, inplace=True)\n",
    "    \n",
    "    # Handle dates and times to create unified datetime64 timestamps\n",
    "    df['date'] = pd.to_datetime(df['date'], format='%d.%m.%Y')\n",
    "    df['start_time_delta'] = pd.to_timedelta(df['interval_start_time'] + ':00')\n",
    "    df['datetime_cet'] = df['date'] + df['start_time_delta']\n",
    "    # Add CET timezone info and infer change from CET->CEST->CET, etc\n",
    "    df['datetime_cet'] = df['datetime_cet'].dt.tz_localize(tz='CET', ambiguous='infer')\n",
    "    \n",
    "    # Drop un-needed columns\n",
    "    df = df.drop(columns=['date', 'start_time_delta', 'interval_start_time'])\n",
    "    # Re-arrange columns\n",
    "    df = df[['datetime_cet', 'actual_generated_smard_mwh']]\n",
    "    \n",
    "    # Convert European thousands and decimal seperators in values to (US/UK) decimal full stop format\n",
    "    translation_table = str.maketrans({'.': None, ',': '.'})\n",
    "    df['actual_generated_smard_mwh'] = df['actual_generated_smard_mwh'].str.translate(translation_table).astype(float)\n",
    "    \n",
    "    # Sort rows by datetime_cet\n",
    "    df.sort_values('datetime_cet', inplace=True)\n",
    "    # Reset index\n",
    "    df.reset_index(drop=True, inplace=True)\n",
    "    \n",
    "    return df.copy()"
   ]
  },
  {
   "cell_type": "code",
   "execution_count": 24,
   "id": "24e68d75-5a7f-470d-957e-2323ecb3b23a",
   "metadata": {
    "tags": []
   },
   "outputs": [
    {
     "name": "stdout",
     "output_type": "stream",
     "text": [
      "Number of rows match up: True\n",
      "<class 'pandas.core.frame.DataFrame'>\n",
      "RangeIndex: 49655 entries, 0 to 49654\n",
      "Data columns (total 2 columns):\n",
      " #   Column                      Non-Null Count  Dtype              \n",
      "---  ------                      --------------  -----              \n",
      " 0   datetime_cet                49655 non-null  datetime64[ns, CET]\n",
      " 1   actual_generated_smard_mwh  49655 non-null  float64            \n",
      "dtypes: datetime64[ns, CET](1), float64(1)\n",
      "memory usage: 776.0 KB\n"
     ]
    }
   ],
   "source": [
    "# Load SMARD data\n",
    "df_smard_generated = load_SMARD_generated_data()\n",
    "df_smard_generated.info()"
   ]
  },
  {
   "cell_type": "code",
   "execution_count": 25,
   "id": "b5c04cd6-c69b-4f24-ae2f-a97192f1add6",
   "metadata": {
    "tags": []
   },
   "outputs": [
    {
     "data": {
      "text/plain": [
       "datetime_cet                  0\n",
       "actual_generated_smard_mwh    0\n",
       "dtype: int64"
      ]
     },
     "execution_count": 25,
     "metadata": {},
     "output_type": "execute_result"
    }
   ],
   "source": [
    "df_smard_generated.isna().sum()"
   ]
  },
  {
   "cell_type": "markdown",
   "id": "b03ae16e-a4b7-4174-9e46-8e48fc6310a9",
   "metadata": {},
   "source": [
    "-----"
   ]
  },
  {
   "cell_type": "markdown",
   "id": "5ee3ed30-dd65-4a6d-8526-b4f97478de70",
   "metadata": {},
   "source": [
    "### Load in SMARD day-ahead prices\n",
    "- Wholesale prices: https://www.smard.de/page/en/wiki-article/5884/5976\n",
    "- This is the day-ahead price!\n",
    "    - \"Weighted wholesale electricity price (day-ahead price on the exchange) for each hour [€/MWh] determined on the day-ahead auction that took place ones on the previous day - data is delivered no later than 2 hours after trading closes. Source: ENTSO-E\"\n",
    "- Data only goes back to 2018-10-01 (October 1, 2018)\n",
    "- This is for the bidding area Germany/Luxembourg (not just Germany)"
   ]
  },
  {
   "cell_type": "code",
   "execution_count": 26,
   "id": "58b57c79-8906-45b3-88b1-80be43113775",
   "metadata": {
    "tags": []
   },
   "outputs": [],
   "source": [
    "# Get all SMARD CSV files, load into dataframes, and concat them\n",
    "\n",
    "def load_SMARD_market_price_data():\n",
    "    \"\"\"\n",
    "    Look for CSV files in the SMARD directory\n",
    "    \"\"\"\n",
    "    list_of_dataframes = []\n",
    "    for filepath in data_path.joinpath('SMARD').iterdir():\n",
    "        if filepath.name.startswith('Gro_handelspreise'):\n",
    "            list_of_dataframes.append(pd.read_csv(filepath, sep=';', na_values='-'))\n",
    "            \n",
    "    # Check that num of rows is what I expect after concatenating dfs\n",
    "    num_of_rows = 0\n",
    "    for df in list_of_dataframes:\n",
    "        num_of_rows += len(df)\n",
    "    \n",
    "    # concat dataframes\n",
    "    df = pd.concat(list_of_dataframes)\n",
    "    print(f'Number of rows match up: {num_of_rows == len(df)}')\n",
    "    \n",
    "    # Select columns to keep\n",
    "    # Note: I'm using the interval start time to create the timestamps\n",
    "    # ERA5 surface parameters are instantaneous so can't perfectly align anyway\n",
    "    df = df[[\n",
    "        'Datum',\n",
    "        'Anfang',\n",
    "        # 'Ende',\n",
    "        'Deutschland/Luxemburg [€/MWh] Originalauflösungen'\n",
    "    ]]\n",
    "    \n",
    "    # rename columns\n",
    "    df.rename(columns={\n",
    "        'Datum': 'date',\n",
    "        'Anfang': 'interval_start_time', \n",
    "        # 'Ende': 'interval_end_time',\n",
    "        'Deutschland/Luxemburg [€/MWh] Originalauflösungen': 'day_ahead_price_eur_mwh'\n",
    "    }, inplace=True)\n",
    "    \n",
    "    # Handle dates and times to create unified datetime64 timestamps\n",
    "    df['date'] = pd.to_datetime(df['date'], format='%d.%m.%Y')\n",
    "    df['start_time_delta'] = pd.to_timedelta(df['interval_start_time'] + ':00')\n",
    "    df['datetime_cet'] = df['date'] + df['start_time_delta']\n",
    "    # Add CET timezone info and infer change from CET->CEST->CET, etc\n",
    "    df['datetime_cet'] = df['datetime_cet'].dt.tz_localize(tz='CET', ambiguous='infer')\n",
    "    \n",
    "    # Drop un-needed columns\n",
    "    df = df.drop(columns=['date', 'start_time_delta', 'interval_start_time'])\n",
    "    # Re-arrange columns\n",
    "    df = df[['datetime_cet', 'day_ahead_price_eur_mwh']]\n",
    "    \n",
    "    # Convert European thousands and decimal seperators in values to (US/UK) decimal full stop format\n",
    "    translation_table = str.maketrans({'.': None, ',': '.'})\n",
    "    df['day_ahead_price_eur_mwh'] = df['day_ahead_price_eur_mwh'].str.translate(translation_table).astype(float)\n",
    "    \n",
    "    # Drop the numerous (700+) duplicate rows\n",
    "    df.drop_duplicates(subset='datetime_cet', inplace=True)\n",
    "    # Sort rows by datetime_cet\n",
    "    df.sort_values('datetime_cet', inplace=True)\n",
    "    # Reset index\n",
    "    df.reset_index(drop=True, inplace=True)\n",
    "    \n",
    "    return df.copy()"
   ]
  },
  {
   "cell_type": "code",
   "execution_count": 27,
   "id": "0ba10680-0ec5-4008-8b61-efc90d159c21",
   "metadata": {
    "tags": []
   },
   "outputs": [
    {
     "name": "stdout",
     "output_type": "stream",
     "text": [
      "Number of rows match up: True\n"
     ]
    }
   ],
   "source": [
    "df_smard_market_price = load_SMARD_market_price_data()"
   ]
  },
  {
   "cell_type": "code",
   "execution_count": 28,
   "id": "711e5f87-95df-4c49-af34-5790dab56acf",
   "metadata": {
    "tags": []
   },
   "outputs": [
    {
     "data": {
      "text/plain": [
       "datetime_cet                  0\n",
       "day_ahead_price_eur_mwh    6551\n",
       "dtype: int64"
      ]
     },
     "execution_count": 28,
     "metadata": {},
     "output_type": "execute_result"
    }
   ],
   "source": [
    "df_smard_market_price.isna().sum()"
   ]
  },
  {
   "cell_type": "code",
   "execution_count": 29,
   "id": "07a8495e-e2c7-44a3-acb2-8b744038b2a6",
   "metadata": {
    "tags": []
   },
   "outputs": [
    {
     "data": {
      "text/plain": [
       "count    43104.000000\n",
       "mean        97.537291\n",
       "std        106.238714\n",
       "min       -500.000000\n",
       "25%         35.260000\n",
       "50%         55.155000\n",
       "75%        118.750000\n",
       "max        871.000000\n",
       "Name: day_ahead_price_eur_mwh, dtype: float64"
      ]
     },
     "execution_count": 29,
     "metadata": {},
     "output_type": "execute_result"
    }
   ],
   "source": [
    "df_smard_market_price['day_ahead_price_eur_mwh'].describe()"
   ]
  },
  {
   "cell_type": "markdown",
   "id": "b1390efc-5355-4ea2-a6a0-347edb76b444",
   "metadata": {},
   "source": [
    "-----"
   ]
  },
  {
   "cell_type": "markdown",
   "id": "59e0627e-fdce-497a-80b6-33bec255295e",
   "metadata": {},
   "source": [
    "### Load in SMARD installed capacity data\n",
    "- Note: CSV reader infers decimal comma (European) format 54.499 as decimal point 54.499 even though it's 54,499.00!\n",
    "    - Specify dtype of column in the read_csv method"
   ]
  },
  {
   "cell_type": "code",
   "execution_count": 30,
   "id": "f361fedf-2472-4048-8039-67f9230d05e3",
   "metadata": {
    "tags": []
   },
   "outputs": [],
   "source": [
    "def load_SMARD_installed_capacity_data():\n",
    "    \"\"\"\n",
    "    Look for CSV files in the SMARD directory\n",
    "    \"\"\"\n",
    "    list_of_dataframes = []\n",
    "    for filepath in data_path.joinpath('SMARD').iterdir():\n",
    "        if filepath.name.startswith('Installierte_Erzeugungsleistung'):\n",
    "            list_of_dataframes.append(\n",
    "                pd.read_csv(filepath, sep=';', dtype={'Wind Onshore [MW] Berechnete Auflösungen': str})\n",
    "            )\n",
    "            \n",
    "    # Check that num of rows is what I expect after concatenating dfs\n",
    "    num_of_rows = 0\n",
    "    for df in list_of_dataframes:\n",
    "        num_of_rows += len(df)\n",
    "    \n",
    "    # concat dataframes\n",
    "    df = pd.concat(list_of_dataframes)\n",
    "    print(f'Number of rows match up: {num_of_rows == len(df)}')\n",
    "    \n",
    "    # Select columns to keep\n",
    "    # Note: I'm using the interval start time to create the timestamps\n",
    "    # ERA5 surface parameters are instantaneous so can't perfectly align anyway\n",
    "    df = df[[\n",
    "        'Datum',\n",
    "        'Anfang',\n",
    "        # 'Ende',\n",
    "        'Wind Onshore [MW] Berechnete Auflösungen'\n",
    "    ]]\n",
    "    \n",
    "    # rename columns\n",
    "    df.rename(columns={\n",
    "        'Datum': 'date',\n",
    "        'Anfang': 'interval_start_time', \n",
    "        # 'Ende': 'interval_end_time',\n",
    "        'Wind Onshore [MW] Berechnete Auflösungen': 'total_nominal_capacity_smard_mw'\n",
    "    }, inplace=True)\n",
    "    \n",
    "    # Handle dates and times to create unified datetime64 timestamps\n",
    "    df['date'] = pd.to_datetime(df['date'], format='%d.%m.%Y')\n",
    "    df['start_time_delta'] = pd.to_timedelta(df['interval_start_time'] + ':00')\n",
    "    df['datetime_cet'] = df['date'] + df['start_time_delta']\n",
    "    # Add CET timezone info and infer change from CET->CEST->CET, etc\n",
    "    df['datetime_cet'] = df['datetime_cet'].dt.tz_localize(tz='CET', ambiguous='infer')\n",
    "    \n",
    "    # Drop un-needed columns\n",
    "    df = df.drop(columns=['date', 'start_time_delta', 'interval_start_time'])\n",
    "    # Re-arrange columns\n",
    "    df = df[['datetime_cet', 'total_nominal_capacity_smard_mw']]\n",
    "    \n",
    "    # Convert European thousands and decimal seperators in values to (US/UK) decimal full stop format\n",
    "    translation_table = str.maketrans({'.': None, ',': '.'})\n",
    "    df['total_nominal_capacity_smard_mw'] = df['total_nominal_capacity_smard_mw'].str.translate(translation_table).astype(float)\n",
    "    \n",
    "    # Sort rows by datetime_cet\n",
    "    df.sort_values('datetime_cet', inplace=True)\n",
    "    # Reset index\n",
    "    df.reset_index(drop=True, inplace=True)\n",
    "    \n",
    "    return df.copy()"
   ]
  },
  {
   "cell_type": "code",
   "execution_count": 31,
   "id": "888a84e1-95e8-4921-a7d4-df7db6a234af",
   "metadata": {
    "tags": []
   },
   "outputs": [
    {
     "name": "stdout",
     "output_type": "stream",
     "text": [
      "Number of rows match up: True\n"
     ]
    }
   ],
   "source": [
    "df_smard_installed_capacity = load_SMARD_installed_capacity_data()"
   ]
  },
  {
   "cell_type": "code",
   "execution_count": 32,
   "id": "94ed203e-734c-460f-a350-6ca262ba7be6",
   "metadata": {
    "tags": []
   },
   "outputs": [
    {
     "name": "stdout",
     "output_type": "stream",
     "text": [
      "<class 'pandas.core.frame.DataFrame'>\n",
      "RangeIndex: 49655 entries, 0 to 49654\n",
      "Data columns (total 2 columns):\n",
      " #   Column                           Non-Null Count  Dtype              \n",
      "---  ------                           --------------  -----              \n",
      " 0   datetime_cet                     49655 non-null  datetime64[ns, CET]\n",
      " 1   total_nominal_capacity_smard_mw  49655 non-null  float64            \n",
      "dtypes: datetime64[ns, CET](1), float64(1)\n",
      "memory usage: 776.0 KB\n"
     ]
    }
   ],
   "source": [
    "df_smard_installed_capacity.info()"
   ]
  },
  {
   "cell_type": "code",
   "execution_count": 33,
   "id": "6fd4bfd2-ec57-40b3-88f8-1511ff39073d",
   "metadata": {
    "tags": []
   },
   "outputs": [
    {
     "data": {
      "text/plain": [
       "datetime_cet                       0\n",
       "total_nominal_capacity_smard_mw    0\n",
       "dtype: int64"
      ]
     },
     "execution_count": 33,
     "metadata": {},
     "output_type": "execute_result"
    }
   ],
   "source": [
    "df_smard_installed_capacity.isna().sum()"
   ]
  },
  {
   "cell_type": "markdown",
   "id": "4831fa1f-bb2a-4b9f-ae27-2f9cdaeb8a00",
   "metadata": {},
   "source": [
    "------"
   ]
  },
  {
   "cell_type": "markdown",
   "id": "c9ddb688-d9f2-40b5-839f-82073d53ba6a",
   "metadata": {},
   "source": [
    "### Load in SMARD day-ahead generation forecast\n",
    "- Wind Onshore [MWh] Berechnete Auflösungen for Germany\n",
    "- Only has 24 missing values for the day of 2022-12-21 (verified on SMARD data visuals)\n",
    "- TSOs transmit their forecasts to the ENTSO-E transparency platform no later than 18:00 of the previous day"
   ]
  },
  {
   "cell_type": "code",
   "execution_count": 34,
   "id": "a33ca2cf-0d43-4582-9ff2-dc710d7906a4",
   "metadata": {
    "tags": []
   },
   "outputs": [],
   "source": [
    "def load_SMARD_forecasted_generation_data():\n",
    "    \"\"\"\n",
    "    Look for CSV files in the SMARD directory\n",
    "    \"\"\"\n",
    "    list_of_dataframes = []\n",
    "    for filepath in data_path.joinpath('SMARD').iterdir():\n",
    "        if filepath.name.startswith('Prognostizierte_Erzeugung_Day-Ahead'):\n",
    "            list_of_dataframes.append(pd.read_csv(filepath, sep=';', na_values='-'))\n",
    "            \n",
    "    # Check that num of rows is what I expect after concatenating dfs\n",
    "    num_of_rows = 0\n",
    "    for df in list_of_dataframes:\n",
    "        num_of_rows += len(df)\n",
    "    \n",
    "    # concat dataframes\n",
    "    df = pd.concat(list_of_dataframes)\n",
    "    print(f'Number of rows match up: {num_of_rows == len(df)}')\n",
    "    \n",
    "    # Select columns to keep\n",
    "    # Note: I'm using the interval start time to create the timestamps\n",
    "    # ERA5 surface parameters are instantaneous so can't perfectly align anyway\n",
    "    df = df[[\n",
    "        'Datum',\n",
    "        'Anfang',\n",
    "        # 'Ende',\n",
    "        'Wind Onshore [MWh] Berechnete Auflösungen'\n",
    "    ]]\n",
    "    \n",
    "    # rename columns\n",
    "    df.rename(columns={\n",
    "        'Datum': 'date',\n",
    "        'Anfang': 'interval_start_time', \n",
    "        # 'Ende': 'interval_end_time',\n",
    "        'Wind Onshore [MWh] Berechnete Auflösungen': 'forecasted_generation_smard_mwh'\n",
    "    }, inplace=True)\n",
    "    \n",
    "    # Handle dates and times to create unified datetime64 timestamps\n",
    "    df['date'] = pd.to_datetime(df['date'], format='%d.%m.%Y')\n",
    "    df['start_time_delta'] = pd.to_timedelta(df['interval_start_time'] + ':00')\n",
    "    df['datetime_cet'] = df['date'] + df['start_time_delta']\n",
    "    # Add CET timezone info and infer change from CET->CEST->CET, etc\n",
    "    df['datetime_cet'] = df['datetime_cet'].dt.tz_localize(tz='CET', ambiguous='infer')\n",
    "    \n",
    "    # Drop un-needed columns\n",
    "    df = df.drop(columns=['date', 'start_time_delta', 'interval_start_time'])\n",
    "    # Re-arrange columns\n",
    "    df = df[['datetime_cet', 'forecasted_generation_smard_mwh']]\n",
    "    \n",
    "    # Convert European thousands and decimal seperators in values to (US/UK) decimal full stop format\n",
    "    translation_table = str.maketrans({'.': None, ',': '.'})\n",
    "    df['forecasted_generation_smard_mwh'] = df['forecasted_generation_smard_mwh'].str.translate(translation_table).astype(float)\n",
    "        \n",
    "    # Sort rows by datetime_cet\n",
    "    df.sort_values('datetime_cet', inplace=True)\n",
    "    # Reset index\n",
    "    df.reset_index(drop=True, inplace=True)\n",
    "    \n",
    "    return df.copy()"
   ]
  },
  {
   "cell_type": "code",
   "execution_count": 35,
   "id": "3b1658ac-b2a4-47f3-9b4a-7bf9df8e9ebc",
   "metadata": {
    "tags": []
   },
   "outputs": [
    {
     "name": "stdout",
     "output_type": "stream",
     "text": [
      "Number of rows match up: True\n"
     ]
    }
   ],
   "source": [
    "df_smard_forecasted_generation = load_SMARD_forecasted_generation_data()"
   ]
  },
  {
   "cell_type": "code",
   "execution_count": 36,
   "id": "e35dc963-ee2a-4cd6-9633-6f3eebec9dfb",
   "metadata": {
    "tags": []
   },
   "outputs": [
    {
     "name": "stdout",
     "output_type": "stream",
     "text": [
      "<class 'pandas.core.frame.DataFrame'>\n",
      "RangeIndex: 49655 entries, 0 to 49654\n",
      "Data columns (total 2 columns):\n",
      " #   Column                           Non-Null Count  Dtype              \n",
      "---  ------                           --------------  -----              \n",
      " 0   datetime_cet                     49655 non-null  datetime64[ns, CET]\n",
      " 1   forecasted_generation_smard_mwh  49631 non-null  float64            \n",
      "dtypes: datetime64[ns, CET](1), float64(1)\n",
      "memory usage: 776.0 KB\n"
     ]
    }
   ],
   "source": [
    "df_smard_forecasted_generation.info()"
   ]
  },
  {
   "cell_type": "code",
   "execution_count": 37,
   "id": "ea0d11dd-8560-42c0-a903-82c777eb78f0",
   "metadata": {
    "tags": []
   },
   "outputs": [
    {
     "data": {
      "text/plain": [
       "datetime_cet                        0\n",
       "forecasted_generation_smard_mwh    24\n",
       "dtype: int64"
      ]
     },
     "execution_count": 37,
     "metadata": {},
     "output_type": "execute_result"
    }
   ],
   "source": [
    "df_smard_forecasted_generation.isna().sum()"
   ]
  },
  {
   "cell_type": "markdown",
   "id": "9eef4ea7-76c4-4642-9dd1-5315f67eff2d",
   "metadata": {},
   "source": [
    "----"
   ]
  },
  {
   "cell_type": "markdown",
   "id": "eb11ea0f-57e7-49b3-9d0c-83b2124e0a7e",
   "metadata": {},
   "source": [
    "### Load in SMARD power consumption data\n",
    "- Validated for correctness by comparing to visuals on SMARD.de"
   ]
  },
  {
   "cell_type": "code",
   "execution_count": 38,
   "id": "53f40512-910d-4394-93f3-0c1a386e0bfd",
   "metadata": {
    "tags": []
   },
   "outputs": [],
   "source": [
    "def load_SMARD_power_consumption_data():\n",
    "    \"\"\"\n",
    "    Look for CSV files in the SMARD directory\n",
    "    \"\"\"\n",
    "    list_of_dataframes = []\n",
    "    for filepath in data_path.joinpath('SMARD').iterdir():\n",
    "        if filepath.name.startswith('Realisierter_Stromverbrauch'):\n",
    "            list_of_dataframes.append(pd.read_csv(filepath, sep=';', na_values='-'))\n",
    "            \n",
    "    # Check that num of rows is what I expect after concatenating dfs\n",
    "    num_of_rows = 0\n",
    "    for df in list_of_dataframes:\n",
    "        num_of_rows += len(df)\n",
    "    \n",
    "    # concat dataframes\n",
    "    df = pd.concat(list_of_dataframes)\n",
    "    print(f'Number of rows match up: {num_of_rows == len(df)}')\n",
    "    \n",
    "    # Select columns to keep\n",
    "    # Note: I'm using the interval start time to create the timestamps\n",
    "    # ERA5 surface parameters are instantaneous so can't perfectly align anyway\n",
    "    df = df[[\n",
    "        'Datum',\n",
    "        'Anfang',\n",
    "        # 'Ende',\n",
    "        'Gesamt (Netzlast) [MWh] Berechnete Auflösungen',\n",
    "        'Residuallast [MWh] Berechnete Auflösungen'\n",
    "    ]]\n",
    "    \n",
    "    # rename columns\n",
    "    df.rename(columns={\n",
    "        'Datum': 'date',\n",
    "        'Anfang': 'interval_start_time', \n",
    "        # 'Ende': 'interval_end_time',\n",
    "        'Gesamt (Netzlast) [MWh] Berechnete Auflösungen': 'total_net_load_smard_mwh',\n",
    "        'Residuallast [MWh] Berechnete Auflösungen': 'residual_load_smard_mwh'\n",
    "    }, inplace=True)\n",
    "    \n",
    "    # Handle dates and times to create unified datetime64 timestamps\n",
    "    df['date'] = pd.to_datetime(df['date'], format='%d.%m.%Y')\n",
    "    df['start_time_delta'] = pd.to_timedelta(df['interval_start_time'] + ':00')\n",
    "    df['datetime_cet'] = df['date'] + df['start_time_delta']\n",
    "    # Add CET timezone info and infer change from CET->CEST->CET, etc\n",
    "    df['datetime_cet'] = df['datetime_cet'].dt.tz_localize(tz='CET', ambiguous='infer')\n",
    "    \n",
    "    # Drop un-needed columns\n",
    "    df = df.drop(columns=['date', 'start_time_delta', 'interval_start_time'])\n",
    "    # Re-arrange columns\n",
    "    df = df[['datetime_cet', 'total_net_load_smard_mwh', 'residual_load_smard_mwh']]\n",
    "    \n",
    "    # Convert European thousands and decimal seperators in values to (US/UK) decimal full stop format\n",
    "    translation_table = str.maketrans({'.': None, ',': '.'})\n",
    "    df['total_net_load_smard_mwh'] = df['total_net_load_smard_mwh'].str.translate(translation_table).astype(float)\n",
    "    df['residual_load_smard_mwh'] = df['residual_load_smard_mwh'].str.translate(translation_table).astype(float)\n",
    "        \n",
    "    # Sort rows by datetime_cet\n",
    "    df.sort_values('datetime_cet', inplace=True)\n",
    "    # Reset index\n",
    "    df.reset_index(drop=True, inplace=True)\n",
    "    \n",
    "    return df.copy()"
   ]
  },
  {
   "cell_type": "code",
   "execution_count": 39,
   "id": "fc336808-a8a6-4863-99d4-bfe0793708f3",
   "metadata": {
    "tags": []
   },
   "outputs": [
    {
     "name": "stdout",
     "output_type": "stream",
     "text": [
      "Number of rows match up: True\n"
     ]
    }
   ],
   "source": [
    "df_smard_consumption = load_SMARD_power_consumption_data()"
   ]
  },
  {
   "cell_type": "code",
   "execution_count": 40,
   "id": "7a7232f7-b9cc-44df-83a9-4995ece8f326",
   "metadata": {
    "tags": []
   },
   "outputs": [
    {
     "data": {
      "text/html": [
       "<div>\n",
       "<style scoped>\n",
       "    .dataframe tbody tr th:only-of-type {\n",
       "        vertical-align: middle;\n",
       "    }\n",
       "\n",
       "    .dataframe tbody tr th {\n",
       "        vertical-align: top;\n",
       "    }\n",
       "\n",
       "    .dataframe thead th {\n",
       "        text-align: right;\n",
       "    }\n",
       "</style>\n",
       "<table border=\"1\" class=\"dataframe\">\n",
       "  <thead>\n",
       "    <tr style=\"text-align: right;\">\n",
       "      <th></th>\n",
       "      <th>datetime_cet</th>\n",
       "      <th>total_net_load_smard_mwh</th>\n",
       "      <th>residual_load_smard_mwh</th>\n",
       "    </tr>\n",
       "  </thead>\n",
       "  <tbody>\n",
       "    <tr>\n",
       "      <th>0</th>\n",
       "      <td>2018-01-01 00:00:00+01:00</td>\n",
       "      <td>45433.25</td>\n",
       "      <td>14015.50</td>\n",
       "    </tr>\n",
       "    <tr>\n",
       "      <th>1</th>\n",
       "      <td>2018-01-01 01:00:00+01:00</td>\n",
       "      <td>44270.00</td>\n",
       "      <td>11634.25</td>\n",
       "    </tr>\n",
       "    <tr>\n",
       "      <th>2</th>\n",
       "      <td>2018-01-01 02:00:00+01:00</td>\n",
       "      <td>43195.75</td>\n",
       "      <td>9928.75</td>\n",
       "    </tr>\n",
       "    <tr>\n",
       "      <th>3</th>\n",
       "      <td>2018-01-01 03:00:00+01:00</td>\n",
       "      <td>42527.50</td>\n",
       "      <td>8371.50</td>\n",
       "    </tr>\n",
       "    <tr>\n",
       "      <th>4</th>\n",
       "      <td>2018-01-01 04:00:00+01:00</td>\n",
       "      <td>42515.75</td>\n",
       "      <td>8291.25</td>\n",
       "    </tr>\n",
       "    <tr>\n",
       "      <th>...</th>\n",
       "      <td>...</td>\n",
       "      <td>...</td>\n",
       "      <td>...</td>\n",
       "    </tr>\n",
       "    <tr>\n",
       "      <th>49650</th>\n",
       "      <td>2023-08-31 19:00:00+02:00</td>\n",
       "      <td>55208.75</td>\n",
       "      <td>42348.25</td>\n",
       "    </tr>\n",
       "    <tr>\n",
       "      <th>49651</th>\n",
       "      <td>2023-08-31 20:00:00+02:00</td>\n",
       "      <td>54667.25</td>\n",
       "      <td>41814.75</td>\n",
       "    </tr>\n",
       "    <tr>\n",
       "      <th>49652</th>\n",
       "      <td>2023-08-31 21:00:00+02:00</td>\n",
       "      <td>52445.75</td>\n",
       "      <td>38865.00</td>\n",
       "    </tr>\n",
       "    <tr>\n",
       "      <th>49653</th>\n",
       "      <td>2023-08-31 22:00:00+02:00</td>\n",
       "      <td>48692.25</td>\n",
       "      <td>34340.00</td>\n",
       "    </tr>\n",
       "    <tr>\n",
       "      <th>49654</th>\n",
       "      <td>2023-08-31 23:00:00+02:00</td>\n",
       "      <td>45385.75</td>\n",
       "      <td>31281.25</td>\n",
       "    </tr>\n",
       "  </tbody>\n",
       "</table>\n",
       "<p>49655 rows × 3 columns</p>\n",
       "</div>"
      ],
      "text/plain": [
       "                   datetime_cet  total_net_load_smard_mwh  \\\n",
       "0     2018-01-01 00:00:00+01:00                  45433.25   \n",
       "1     2018-01-01 01:00:00+01:00                  44270.00   \n",
       "2     2018-01-01 02:00:00+01:00                  43195.75   \n",
       "3     2018-01-01 03:00:00+01:00                  42527.50   \n",
       "4     2018-01-01 04:00:00+01:00                  42515.75   \n",
       "...                         ...                       ...   \n",
       "49650 2023-08-31 19:00:00+02:00                  55208.75   \n",
       "49651 2023-08-31 20:00:00+02:00                  54667.25   \n",
       "49652 2023-08-31 21:00:00+02:00                  52445.75   \n",
       "49653 2023-08-31 22:00:00+02:00                  48692.25   \n",
       "49654 2023-08-31 23:00:00+02:00                  45385.75   \n",
       "\n",
       "       residual_load_smard_mwh  \n",
       "0                     14015.50  \n",
       "1                     11634.25  \n",
       "2                      9928.75  \n",
       "3                      8371.50  \n",
       "4                      8291.25  \n",
       "...                        ...  \n",
       "49650                 42348.25  \n",
       "49651                 41814.75  \n",
       "49652                 38865.00  \n",
       "49653                 34340.00  \n",
       "49654                 31281.25  \n",
       "\n",
       "[49655 rows x 3 columns]"
      ]
     },
     "execution_count": 40,
     "metadata": {},
     "output_type": "execute_result"
    }
   ],
   "source": [
    "df_smard_consumption"
   ]
  },
  {
   "cell_type": "code",
   "execution_count": 41,
   "id": "3a449f53-39e8-46da-8f74-3f84ec96fe51",
   "metadata": {
    "tags": []
   },
   "outputs": [
    {
     "data": {
      "text/plain": [
       "datetime_cet                0\n",
       "total_net_load_smard_mwh    0\n",
       "residual_load_smard_mwh     0\n",
       "dtype: int64"
      ]
     },
     "execution_count": 41,
     "metadata": {},
     "output_type": "execute_result"
    }
   ],
   "source": [
    "df_smard_consumption.isna().sum()"
   ]
  },
  {
   "cell_type": "markdown",
   "id": "38422baf-a79f-49b9-835d-d4b5d1cf61c7",
   "metadata": {},
   "source": [
    "-----"
   ]
  },
  {
   "cell_type": "markdown",
   "id": "1ba2c31b-6791-481a-b358-f087fa3420c7",
   "metadata": {},
   "source": [
    "-----"
   ]
  },
  {
   "cell_type": "markdown",
   "id": "de974db7-3217-4bdf-a4c1-aa2eba699b22",
   "metadata": {},
   "source": [
    "# Begin building ML dataframe `df_main`\n",
    "- Start with one full year: 2022\n",
    "    - Then bring in another year like 2021 and run through the same transformations and then concat along datetimeindex?\n",
    "- Good resource on time-related feature engineering: https://scikit-learn.org/stable/auto_examples/applications/plot_cyclical_feature_engineering.html\n",
    "- Once I validate my approach, create the full period 2018-01-01 to 2023-08-31"
   ]
  },
  {
   "cell_type": "code",
   "execution_count": 14,
   "id": "6fbe7769-32ac-446d-a262-f11297b79026",
   "metadata": {
    "tags": []
   },
   "outputs": [
    {
     "data": {
      "text/html": [
       "<div>\n",
       "<style scoped>\n",
       "    .dataframe tbody tr th:only-of-type {\n",
       "        vertical-align: middle;\n",
       "    }\n",
       "\n",
       "    .dataframe tbody tr th {\n",
       "        vertical-align: top;\n",
       "    }\n",
       "\n",
       "    .dataframe thead th {\n",
       "        text-align: right;\n",
       "    }\n",
       "</style>\n",
       "<table border=\"1\" class=\"dataframe\">\n",
       "  <thead>\n",
       "    <tr style=\"text-align: right;\">\n",
       "      <th></th>\n",
       "      <th>datetime_utc</th>\n",
       "      <th>hour</th>\n",
       "      <th>day_of_week</th>\n",
       "      <th>day_of_month</th>\n",
       "      <th>month_number</th>\n",
       "      <th>year</th>\n",
       "      <th>meteorological_season</th>\n",
       "    </tr>\n",
       "  </thead>\n",
       "  <tbody>\n",
       "    <tr>\n",
       "      <th>0</th>\n",
       "      <td>2018-01-01 00:00:00+00:00</td>\n",
       "      <td>0</td>\n",
       "      <td>0</td>\n",
       "      <td>1</td>\n",
       "      <td>1</td>\n",
       "      <td>2018</td>\n",
       "      <td>winter</td>\n",
       "    </tr>\n",
       "    <tr>\n",
       "      <th>1</th>\n",
       "      <td>2018-01-01 01:00:00+00:00</td>\n",
       "      <td>1</td>\n",
       "      <td>0</td>\n",
       "      <td>1</td>\n",
       "      <td>1</td>\n",
       "      <td>2018</td>\n",
       "      <td>winter</td>\n",
       "    </tr>\n",
       "    <tr>\n",
       "      <th>2</th>\n",
       "      <td>2018-01-01 02:00:00+00:00</td>\n",
       "      <td>2</td>\n",
       "      <td>0</td>\n",
       "      <td>1</td>\n",
       "      <td>1</td>\n",
       "      <td>2018</td>\n",
       "      <td>winter</td>\n",
       "    </tr>\n",
       "    <tr>\n",
       "      <th>3</th>\n",
       "      <td>2018-01-01 03:00:00+00:00</td>\n",
       "      <td>3</td>\n",
       "      <td>0</td>\n",
       "      <td>1</td>\n",
       "      <td>1</td>\n",
       "      <td>2018</td>\n",
       "      <td>winter</td>\n",
       "    </tr>\n",
       "    <tr>\n",
       "      <th>4</th>\n",
       "      <td>2018-01-01 04:00:00+00:00</td>\n",
       "      <td>4</td>\n",
       "      <td>0</td>\n",
       "      <td>1</td>\n",
       "      <td>1</td>\n",
       "      <td>2018</td>\n",
       "      <td>winter</td>\n",
       "    </tr>\n",
       "    <tr>\n",
       "      <th>...</th>\n",
       "      <td>...</td>\n",
       "      <td>...</td>\n",
       "      <td>...</td>\n",
       "      <td>...</td>\n",
       "      <td>...</td>\n",
       "      <td>...</td>\n",
       "      <td>...</td>\n",
       "    </tr>\n",
       "    <tr>\n",
       "      <th>49651</th>\n",
       "      <td>2023-08-31 19:00:00+00:00</td>\n",
       "      <td>19</td>\n",
       "      <td>3</td>\n",
       "      <td>31</td>\n",
       "      <td>8</td>\n",
       "      <td>2023</td>\n",
       "      <td>summer</td>\n",
       "    </tr>\n",
       "    <tr>\n",
       "      <th>49652</th>\n",
       "      <td>2023-08-31 20:00:00+00:00</td>\n",
       "      <td>20</td>\n",
       "      <td>3</td>\n",
       "      <td>31</td>\n",
       "      <td>8</td>\n",
       "      <td>2023</td>\n",
       "      <td>summer</td>\n",
       "    </tr>\n",
       "    <tr>\n",
       "      <th>49653</th>\n",
       "      <td>2023-08-31 21:00:00+00:00</td>\n",
       "      <td>21</td>\n",
       "      <td>3</td>\n",
       "      <td>31</td>\n",
       "      <td>8</td>\n",
       "      <td>2023</td>\n",
       "      <td>summer</td>\n",
       "    </tr>\n",
       "    <tr>\n",
       "      <th>49654</th>\n",
       "      <td>2023-08-31 22:00:00+00:00</td>\n",
       "      <td>22</td>\n",
       "      <td>3</td>\n",
       "      <td>31</td>\n",
       "      <td>8</td>\n",
       "      <td>2023</td>\n",
       "      <td>summer</td>\n",
       "    </tr>\n",
       "    <tr>\n",
       "      <th>49655</th>\n",
       "      <td>2023-08-31 23:00:00+00:00</td>\n",
       "      <td>23</td>\n",
       "      <td>3</td>\n",
       "      <td>31</td>\n",
       "      <td>8</td>\n",
       "      <td>2023</td>\n",
       "      <td>summer</td>\n",
       "    </tr>\n",
       "  </tbody>\n",
       "</table>\n",
       "<p>49656 rows × 7 columns</p>\n",
       "</div>"
      ],
      "text/plain": [
       "                   datetime_utc  hour  day_of_week  day_of_month  \\\n",
       "0     2018-01-01 00:00:00+00:00     0            0             1   \n",
       "1     2018-01-01 01:00:00+00:00     1            0             1   \n",
       "2     2018-01-01 02:00:00+00:00     2            0             1   \n",
       "3     2018-01-01 03:00:00+00:00     3            0             1   \n",
       "4     2018-01-01 04:00:00+00:00     4            0             1   \n",
       "...                         ...   ...          ...           ...   \n",
       "49651 2023-08-31 19:00:00+00:00    19            3            31   \n",
       "49652 2023-08-31 20:00:00+00:00    20            3            31   \n",
       "49653 2023-08-31 21:00:00+00:00    21            3            31   \n",
       "49654 2023-08-31 22:00:00+00:00    22            3            31   \n",
       "49655 2023-08-31 23:00:00+00:00    23            3            31   \n",
       "\n",
       "       month_number  year meteorological_season  \n",
       "0                 1  2018                winter  \n",
       "1                 1  2018                winter  \n",
       "2                 1  2018                winter  \n",
       "3                 1  2018                winter  \n",
       "4                 1  2018                winter  \n",
       "...             ...   ...                   ...  \n",
       "49651             8  2023                summer  \n",
       "49652             8  2023                summer  \n",
       "49653             8  2023                summer  \n",
       "49654             8  2023                summer  \n",
       "49655             8  2023                summer  \n",
       "\n",
       "[49656 rows x 7 columns]"
      ]
     },
     "execution_count": 14,
     "metadata": {},
     "output_type": "execute_result"
    }
   ],
   "source": [
    "# Make time zone aware UTC?\n",
    "datetime_index_utc = pd.date_range(start='2018-01-01', end='2023-08-31 23:59:59', freq='H', name='datetime_utc', tz='UTC')\n",
    "\n",
    "# Make index to dataframe and reset\n",
    "df_main = datetime_index_utc.to_frame().reset_index(drop=True)\n",
    "\n",
    "# Extract properties and derive new columns\n",
    "df_main['hour'] = df_main['datetime_utc'].dt.hour\n",
    "# 0-6 (Monday-Sunday)\n",
    "df_main['day_of_week'] = df_main['datetime_utc'].dt.dayofweek\n",
    "df_main['day_of_month'] = df_main['datetime_utc'].dt.day\n",
    "df_main['month_number'] = df_main['datetime_utc'].dt.month\n",
    "df_main['year'] = df_main['datetime_utc'].dt.year\n",
    "\n",
    "# Function to get meteorological season based on month number (1-12)\n",
    "# Should I just go ahead and encode the discrete numerical value?\n",
    "def get_meteorological_season(month):\n",
    "    if 3 <= month <= 5:\n",
    "        return 'spring'\n",
    "    elif 6 <= month <= 8:\n",
    "        return 'summer'\n",
    "    elif 9 <= month <= 11:\n",
    "        return 'autumn'\n",
    "    else:\n",
    "        return 'winter'\n",
    "    \n",
    "df_main['meteorological_season'] = df_main['month_number'].apply(get_meteorological_season)\n",
    "\n",
    "df_main"
   ]
  },
  {
   "cell_type": "markdown",
   "id": "23dcf113-d403-4117-89d2-bece362f52cc",
   "metadata": {},
   "source": [
    "----"
   ]
  },
  {
   "cell_type": "markdown",
   "id": "4958a86a-adc1-4399-bbf1-4d0f4ad1a26e",
   "metadata": {},
   "source": [
    "## Derive new columns `turbines_in_operation` and `total_nominal_capacity_operational_turbines_mw`"
   ]
  },
  {
   "cell_type": "markdown",
   "id": "58ba8c6d-52fb-479e-9fd0-8a9a0d6702ee",
   "metadata": {},
   "source": [
    "#### Function to check if turbine operational at a given UTC hour timestamp"
   ]
  },
  {
   "cell_type": "code",
   "execution_count": 15,
   "id": "67ca575e-6270-484d-9ae1-1515ade674ca",
   "metadata": {
    "tags": []
   },
   "outputs": [],
   "source": [
    "def is_operational(timestamp_utc, df_turbines):\n",
    "    \"\"\"\n",
    "    Inputs: hourly tz aware utc timestamps, turbine dataframe\n",
    "    Get a bool series of turbines that are operational at the time of the [hourly] timestamp\n",
    "    \"\"\"\n",
    "    # Turbines that went into operation before the timestamp; returns bool series for bool indexing\n",
    "    started_operations = df_turbines['Inbetriebnahmedatum'] <= timestamp_utc\n",
    "\n",
    "    # Turbines already decommissioned before the timestamp; returns bool series for bool indexing\n",
    "    already_decommissioned = df_turbines['DatumEndgueltigeStilllegung'] <= timestamp_utc\n",
    "\n",
    "    # Turbines that went into maintenance before timestamp and haven't come back into operation before the timestamp\n",
    "    # Note: Some turbines go straight from temporary maintenance to decommissioned without ever going back into operation\n",
    "    still_in_maintenance_or_decommissioned = (df_turbines['DatumBeginnVoruebergehendeStilllegung'] <= timestamp_utc) & \\\n",
    "    ((df_turbines['DatumWiederaufnahmeBetrieb'] > timestamp_utc) | df_turbines['DatumWiederaufnahmeBetrieb'].isna())\n",
    "\n",
    "    # Number of turbines operational at the timestamp\n",
    "    # Note the tildas to inverse these bool series\n",
    "    # This is a bool series with df_turbines index\n",
    "    turbines_in_operation_bool_series = (started_operations & ~already_decommissioned & ~still_in_maintenance_or_decommissioned)\n",
    "\n",
    "    return turbines_in_operation_bool_series"
   ]
  },
  {
   "cell_type": "markdown",
   "id": "4dd13a8b-8e19-4d98-a673-11b469fc868b",
   "metadata": {},
   "source": [
    "##### Derive column for total turbines in operation for every hourly timestamp"
   ]
  },
  {
   "cell_type": "code",
   "execution_count": 16,
   "id": "5cd5411d-7359-452f-b6de-7ab18e1d2d11",
   "metadata": {
    "tags": []
   },
   "outputs": [],
   "source": [
    "# 1min 7s to run for 2018-23\n",
    "df_main['turbines_in_operation'] = df_main['datetime_utc'].apply(lambda timestamp: is_operational(timestamp, df_turbines).sum())"
   ]
  },
  {
   "cell_type": "markdown",
   "id": "16931cec-e622-40ba-9c0c-87ec1719debd",
   "metadata": {},
   "source": [
    "##### Derive column for total nominal capacity for every hourly timestamp"
   ]
  },
  {
   "cell_type": "code",
   "execution_count": 17,
   "id": "ea22436c-4276-43a7-b002-b23c07a97a66",
   "metadata": {
    "tags": []
   },
   "outputs": [],
   "source": [
    "# Nettonennleistung is in kW; I divide by 1_000 to convert kilo-watts (kW) to mega-watts (MW)\n",
    "# 1min 30s to run for 2018-23\n",
    "df_main['total_nominal_capacity_operational_turbines_mw'] = df_main['datetime_utc'].apply(\n",
    "    lambda timestamp: df_turbines.loc[:, 'Nettonennleistung'].loc[is_operational(timestamp, df_turbines)].sum() / 1_000)"
   ]
  },
  {
   "cell_type": "markdown",
   "id": "3c47e39f-135c-4110-917a-d1f9c29ebda6",
   "metadata": {},
   "source": [
    "#### Save progress to pickle"
   ]
  },
  {
   "cell_type": "code",
   "execution_count": 18,
   "id": "6ae08b6e-b45b-4038-a0f5-e7acef9bdfca",
   "metadata": {
    "tags": []
   },
   "outputs": [],
   "source": [
    "# df_main.to_pickle(data_push_path / 'df_main.pkl')"
   ]
  },
  {
   "cell_type": "code",
   "execution_count": 1241,
   "id": "10150896-efe0-496d-a60c-1ae77165da5b",
   "metadata": {
    "tags": []
   },
   "outputs": [],
   "source": [
    "# df_main['turbines_in_operation'].plot()"
   ]
  },
  {
   "cell_type": "code",
   "execution_count": 1242,
   "id": "27ca57a6-aff7-4627-ba3d-52c42d828fa4",
   "metadata": {
    "tags": []
   },
   "outputs": [],
   "source": [
    "# df_main['total_nominal_capacity_operational_turbines_mw'].plot()"
   ]
  },
  {
   "cell_type": "code",
   "execution_count": 19,
   "id": "874c4dca-addc-4089-ae3a-726eafa79e0c",
   "metadata": {
    "tags": []
   },
   "outputs": [
    {
     "name": "stdout",
     "output_type": "stream",
     "text": [
      "<class 'pandas.core.frame.DataFrame'>\n",
      "RangeIndex: 49656 entries, 0 to 49655\n",
      "Data columns (total 9 columns):\n",
      " #   Column                                          Non-Null Count  Dtype              \n",
      "---  ------                                          --------------  -----              \n",
      " 0   datetime_utc                                    49656 non-null  datetime64[ns, UTC]\n",
      " 1   hour                                            49656 non-null  int32              \n",
      " 2   day_of_week                                     49656 non-null  int32              \n",
      " 3   day_of_month                                    49656 non-null  int32              \n",
      " 4   month_number                                    49656 non-null  int32              \n",
      " 5   year                                            49656 non-null  int32              \n",
      " 6   meteorological_season                           49656 non-null  object             \n",
      " 7   turbines_in_operation                           49656 non-null  int64              \n",
      " 8   total_nominal_capacity_operational_turbines_mw  49656 non-null  float64            \n",
      "dtypes: datetime64[ns, UTC](1), float64(1), int32(5), int64(1), object(1)\n",
      "memory usage: 5.1 MB\n"
     ]
    }
   ],
   "source": [
    "df_main.info(memory_usage='deep')"
   ]
  },
  {
   "cell_type": "markdown",
   "id": "0486df29-ed07-4d11-ae78-4163d385c03a",
   "metadata": {},
   "source": [
    "-----"
   ]
  },
  {
   "cell_type": "markdown",
   "id": "89d489ca-6e9c-48b8-b18d-0db331af9f0f",
   "metadata": {},
   "source": [
    "## Merge the 5 SMARD datasets onto `df_main` on key datetime\n",
    "- Dataframes to merge with `df_main`:\n",
    "    - `df_smard_generated`\n",
    "    - `df_smard_market_price`\n",
    "    - `df_smard_installed_capacity`\n",
    "    - `df_smard_forecasted_generation`\n",
    "    - `df_smard_consumption`"
   ]
  },
  {
   "cell_type": "markdown",
   "id": "5fdcf8a4-c57f-42d1-908f-b9a5e2d48da7",
   "metadata": {},
   "source": [
    "##### Load in latest `df_main`"
   ]
  },
  {
   "cell_type": "code",
   "execution_count": 42,
   "id": "1eb7f5ec-2e30-4a9a-8ff0-28bf9b72cfa3",
   "metadata": {
    "tags": []
   },
   "outputs": [
    {
     "name": "stdout",
     "output_type": "stream",
     "text": [
      "<class 'pandas.core.frame.DataFrame'>\n",
      "RangeIndex: 49656 entries, 0 to 49655\n",
      "Data columns (total 9 columns):\n",
      " #   Column                                          Non-Null Count  Dtype              \n",
      "---  ------                                          --------------  -----              \n",
      " 0   datetime_utc                                    49656 non-null  datetime64[ns, UTC]\n",
      " 1   hour                                            49656 non-null  int32              \n",
      " 2   day_of_week                                     49656 non-null  int32              \n",
      " 3   day_of_month                                    49656 non-null  int32              \n",
      " 4   month_number                                    49656 non-null  int32              \n",
      " 5   year                                            49656 non-null  int32              \n",
      " 6   meteorological_season                           49656 non-null  object             \n",
      " 7   turbines_in_operation                           49656 non-null  int64              \n",
      " 8   total_nominal_capacity_operational_turbines_mw  49656 non-null  float64            \n",
      "dtypes: datetime64[ns, UTC](1), float64(1), int32(5), int64(1), object(1)\n",
      "memory usage: 2.5+ MB\n"
     ]
    }
   ],
   "source": [
    "df_main = pd.read_pickle(data_push_path / 'df_main.pkl')\n",
    "df_main.info()"
   ]
  },
  {
   "cell_type": "markdown",
   "id": "f5c31e8a-2660-4491-a68c-7224b22bfd88",
   "metadata": {},
   "source": [
    "##### Merge operations"
   ]
  },
  {
   "cell_type": "code",
   "execution_count": 43,
   "id": "697d6021-be1c-4874-8266-8508ff0e707e",
   "metadata": {
    "tags": []
   },
   "outputs": [],
   "source": [
    "# Generated data; the response variable `y`\n",
    "# keep the datetime_cet column for reference\n",
    "df_main = df_main.merge(df_smard_generated, left_on='datetime_utc', right_on='datetime_cet', how='left')\n",
    "\n",
    "# The day-ahead price data\n",
    "# -> only add suffix to overlapping columns in right df being merged\n",
    "df_main = df_main.merge(df_smard_market_price, left_on='datetime_utc', right_on='datetime_cet', how='left', suffixes=(None, '_remove'))\n",
    "\n",
    "# Installed capacity\n",
    "df_main = df_main.merge(df_smard_installed_capacity, left_on='datetime_utc', right_on='datetime_cet', how='left', suffixes=(None, '_remove'))\n",
    "\n",
    "# The day-ahead forecasted generation\n",
    "df_main = df_main.merge(df_smard_forecasted_generation, left_on='datetime_utc', right_on='datetime_cet', how='left', suffixes=(None, '_remove'))\n",
    "\n",
    "# Power consumption (total net load and residual load)\n",
    "# Merges both on left\n",
    "df_main = df_main.merge(df_smard_consumption, left_on='datetime_utc', right_on='datetime_cet', how='left', suffixes=(None, '_remove'))"
   ]
  },
  {
   "cell_type": "markdown",
   "id": "07b738de-ee0b-450a-ad4e-01e3318235da",
   "metadata": {},
   "source": [
    "##### Remove all the duplicate `datetime_cet` columns with suffix `_remove`"
   ]
  },
  {
   "cell_type": "code",
   "execution_count": 44,
   "id": "5655764f-e82b-4a63-a11e-7256cc6cf730",
   "metadata": {
    "tags": []
   },
   "outputs": [],
   "source": [
    "# filter using regex; $ binds the expression to end of a string\n",
    "df_main.drop(df_main.filter(regex='_remove$').columns, axis=1, inplace=True)"
   ]
  },
  {
   "cell_type": "markdown",
   "id": "7a4e597b-c5d9-4f21-a0e4-959b23fe9e2e",
   "metadata": {},
   "source": [
    "#### Save progress to pickle"
   ]
  },
  {
   "cell_type": "code",
   "execution_count": 45,
   "id": "2d05a351-b65b-407e-8fd1-16f5a88466ae",
   "metadata": {
    "tags": []
   },
   "outputs": [],
   "source": [
    "# df_main.to_pickle(data_push_path / 'df_main_smard.pkl')"
   ]
  },
  {
   "cell_type": "markdown",
   "id": "6fc861e1-e05e-49f5-825b-104aebf38b64",
   "metadata": {},
   "source": [
    "-----"
   ]
  },
  {
   "cell_type": "markdown",
   "id": "39e1a79c-c43c-4c14-a20c-8bdcea0ab907",
   "metadata": {},
   "source": [
    "----"
   ]
  },
  {
   "cell_type": "markdown",
   "id": "afbbe83f-7094-4ea0-a603-ac7009bb54a6",
   "metadata": {},
   "source": [
    "# Checkpoints: Next step here..."
   ]
  },
  {
   "cell_type": "markdown",
   "id": "eb39edde-4525-483d-a75b-812abdb53aed",
   "metadata": {},
   "source": [
    "##### Load in latest `df_main`"
   ]
  },
  {
   "cell_type": "code",
   "execution_count": 49,
   "id": "98ccf7a8-8827-48f2-a7ae-bf4521ddf910",
   "metadata": {
    "tags": []
   },
   "outputs": [
    {
     "name": "stdout",
     "output_type": "stream",
     "text": [
      "<class 'pandas.core.frame.DataFrame'>\n",
      "RangeIndex: 49656 entries, 0 to 49655\n",
      "Data columns (total 16 columns):\n",
      " #   Column                                          Non-Null Count  Dtype              \n",
      "---  ------                                          --------------  -----              \n",
      " 0   datetime_utc                                    49656 non-null  datetime64[ns, UTC]\n",
      " 1   hour                                            49656 non-null  int32              \n",
      " 2   day_of_week                                     49656 non-null  int32              \n",
      " 3   day_of_month                                    49656 non-null  int32              \n",
      " 4   month_number                                    49656 non-null  int32              \n",
      " 5   year                                            49656 non-null  int32              \n",
      " 6   meteorological_season                           49656 non-null  object             \n",
      " 7   turbines_in_operation                           49656 non-null  int64              \n",
      " 8   total_nominal_capacity_operational_turbines_mw  49656 non-null  float64            \n",
      " 9   datetime_cet                                    49654 non-null  datetime64[ns, CET]\n",
      " 10  actual_generated_smard_mwh                      49654 non-null  float64            \n",
      " 11  day_ahead_price_eur_mwh                         43104 non-null  float64            \n",
      " 12  total_nominal_capacity_smard_mw                 49654 non-null  float64            \n",
      " 13  forecasted_generation_smard_mwh                 49630 non-null  float64            \n",
      " 14  total_net_load_smard_mwh                        49654 non-null  float64            \n",
      " 15  residual_load_smard_mwh                         49654 non-null  float64            \n",
      "dtypes: datetime64[ns, CET](1), datetime64[ns, UTC](1), float64(7), int32(5), int64(1), object(1)\n",
      "memory usage: 5.1+ MB\n"
     ]
    }
   ],
   "source": [
    "df_main = pd.read_pickle(data_push_path / 'df_main_smard.pkl')\n",
    "df_main.info()"
   ]
  },
  {
   "cell_type": "markdown",
   "id": "b2794fdf-ae70-4db9-8042-78083a484614",
   "metadata": {},
   "source": [
    "#### Set datetime_utc column to index"
   ]
  },
  {
   "cell_type": "code",
   "execution_count": 51,
   "id": "d63aada3-0d33-47d5-939c-028dc0d4f5b5",
   "metadata": {
    "tags": []
   },
   "outputs": [],
   "source": [
    "df_main.set_index('datetime_utc', inplace=True)"
   ]
  },
  {
   "cell_type": "markdown",
   "id": "2f8045a2-a77b-46ff-8428-4576c6f82a2c",
   "metadata": {},
   "source": [
    "-------"
   ]
  },
  {
   "cell_type": "markdown",
   "id": "252a4803-c6d6-4be5-83ea-83aa0005c649",
   "metadata": {},
   "source": [
    "## Merge mean hourly ERA5 *MASKED* data vars across all used grid points into `df_main`\n",
    "- This is the masked data where I kept data var values for grid points linked to turbines\n",
    "- Grid points not linked to a nearby turbine have data vars set to nan (i.e. the mask)\n",
    "- 750 grid points connected to turbines that were operational between start of 2018 to end of June 2023"
   ]
  },
  {
   "cell_type": "markdown",
   "id": "67499bef-ca92-499c-8063-bcec905f5d35",
   "metadata": {},
   "source": [
    "#### Read in latest ERA5 dataset that I've combined, subsetted, and with the new data vars I derived"
   ]
  },
  {
   "cell_type": "code",
   "execution_count": 53,
   "id": "d20ea03f-cf26-40b5-ba5c-e978db4f77a9",
   "metadata": {
    "tags": []
   },
   "outputs": [
    {
     "data": {
      "text/plain": [
       "Data variables:\n",
       "    t2m                        (time, latitude, longitude) float32 ...\n",
       "    i10fg                      (time, latitude, longitude) float32 ...\n",
       "    msl                        (time, latitude, longitude) float32 ...\n",
       "    mean_wind_speed_10m        (time, latitude, longitude) float32 ...\n",
       "    mean_wind_speed_100m       (time, latitude, longitude) float32 ...\n",
       "    wind_direction_angle_10m   (time, latitude, longitude) float32 ...\n",
       "    wind_direction_angle_100m  (time, latitude, longitude) float32 ..."
      ]
     },
     "execution_count": 53,
     "metadata": {},
     "output_type": "execute_result"
    }
   ],
   "source": [
    "ds = xr.open_dataset(data_path.joinpath('ERA5').joinpath('era5_combined_subset_derived_dropped_masked_2018_2023.nc'))\n",
    "ds.data_vars"
   ]
  },
  {
   "cell_type": "markdown",
   "id": "993aa33c-6ea7-4b6d-b3c6-250fc13dbccd",
   "metadata": {},
   "source": [
    "#### How to get mean for a data var for every hour in time dimension?\n",
    "- Use `xarray.DataArray.mean`: https://docs.xarray.dev/en/stable/generated/xarray.DataArray.mean.html"
   ]
  },
  {
   "cell_type": "markdown",
   "id": "88b082db-1e78-475b-a4ba-8d73f7686990",
   "metadata": {},
   "source": [
    "-----"
   ]
  },
  {
   "cell_type": "markdown",
   "id": "75d59a00-0bb1-4699-9729-4bf630c70c1e",
   "metadata": {},
   "source": [
    "## Taking the mean of my 7 data vars across all lats and lons and assigning to pandas dataframes\n",
    "- Also localise ERA5 tz naive datetimeindex objects to tz UTC aware!"
   ]
  },
  {
   "cell_type": "code",
   "execution_count": 1400,
   "id": "771658c7-a105-40bd-8447-b8a266c967b4",
   "metadata": {
    "tags": []
   },
   "outputs": [],
   "source": [
    "# I validated that it is indeed the hourly mean across all lats and lons!\n",
    "# (ds.sel(time=['2018-01-01 00:00:00'])['mean_wind_speed_10m'].values).mean()"
   ]
  },
  {
   "cell_type": "markdown",
   "id": "ac736671-19b2-4746-bfa8-5247734ba2fb",
   "metadata": {},
   "source": [
    "#### All dataframes have index set to datetimeindex"
   ]
  },
  {
   "cell_type": "code",
   "execution_count": 55,
   "id": "6d671ba7-d2d0-495d-97f5-4695b59ad239",
   "metadata": {
    "tags": []
   },
   "outputs": [],
   "source": [
    "# Calculate mean across all lats and lons, assign to new df, and convert naive datetimeindex to UTC tz aware\n",
    "\n",
    "# Units: m/s\n",
    "df_mean_wind_speed_10m = ds['mean_wind_speed_10m'].mean(dim=['latitude', 'longitude']).to_dataframe()\n",
    "df_mean_wind_speed_10m.index = df_mean_wind_speed_10m.index.tz_localize(tz='utc')\n",
    "\n",
    "# Units: m/s\n",
    "df_mean_wind_speed_100m = ds['mean_wind_speed_100m'].mean(dim=['latitude', 'longitude']).to_dataframe()\n",
    "df_mean_wind_speed_100m.index = df_mean_wind_speed_100m.index.tz_localize(tz='utc')\n",
    "\n",
    "# Units: degrees\n",
    "df_wind_direction_angle_10m = ds['wind_direction_angle_10m'].mean(dim=['latitude', 'longitude']).to_dataframe()\n",
    "df_wind_direction_angle_10m.index = df_wind_direction_angle_10m.index.tz_localize(tz='utc')\n",
    "\n",
    "# Units: degrees\n",
    "df_wind_direction_angle_100m = ds['wind_direction_angle_100m'].mean(dim=['latitude', 'longitude']).to_dataframe()\n",
    "df_wind_direction_angle_100m.index = df_wind_direction_angle_100m.index.tz_localize(tz='utc')\n",
    "\n",
    "# Units: Pascals (Pa)\n",
    "df_msl = ds['msl'].mean(dim=['latitude', 'longitude']).to_dataframe()\n",
    "df_msl.index = df_msl.index.tz_localize(tz='utc')\n",
    "\n",
    "# instantaneous_10m_wind_gust; units: m/s\n",
    "df_i10fg = ds['i10fg'].mean(dim=['latitude', 'longitude']).to_dataframe()\n",
    "df_i10fg.index = df_i10fg.index.tz_localize(tz='utc')\n",
    "\n",
    "# 2m_temperature; units: Kelvin\n",
    "df_t2m = ds['t2m'].mean(dim=['latitude', 'longitude']).to_dataframe()\n",
    "df_t2m.index = df_t2m.index.tz_localize(tz='utc')"
   ]
  },
  {
   "cell_type": "markdown",
   "id": "53720c9a-18ca-47f2-bfa0-2772dadf2afa",
   "metadata": {},
   "source": [
    "#### Left merge above 7 dataframes of mean values onto `df_main` using indices of both"
   ]
  },
  {
   "cell_type": "code",
   "execution_count": 56,
   "id": "7bad684d-a8f3-43ef-974c-5ec541b6abe1",
   "metadata": {
    "tags": []
   },
   "outputs": [],
   "source": [
    "df_main = df_main.merge(df_mean_wind_speed_10m, left_index=True, right_index=True, how='left')\n",
    "df_main = df_main.merge(df_mean_wind_speed_100m, left_index=True, right_index=True, how='left')\n",
    "df_main = df_main.merge(df_wind_direction_angle_10m, left_index=True, right_index=True, how='left')\n",
    "df_main = df_main.merge(df_wind_direction_angle_100m, left_index=True, right_index=True, how='left')\n",
    "df_main = df_main.merge(df_msl, left_index=True, right_index=True, how='left')\n",
    "df_main = df_main.merge(df_i10fg, left_index=True, right_index=True, how='left')\n",
    "df_main = df_main.merge(df_t2m, left_index=True, right_index=True, how='left')"
   ]
  },
  {
   "cell_type": "code",
   "execution_count": 57,
   "id": "7e109e86-a72a-46db-94a2-1eaf57616329",
   "metadata": {
    "tags": []
   },
   "outputs": [
    {
     "name": "stdout",
     "output_type": "stream",
     "text": [
      "<class 'pandas.core.frame.DataFrame'>\n",
      "DatetimeIndex: 49656 entries, 2018-01-01 00:00:00+00:00 to 2023-08-31 23:00:00+00:00\n",
      "Data columns (total 22 columns):\n",
      " #   Column                                          Non-Null Count  Dtype              \n",
      "---  ------                                          --------------  -----              \n",
      " 0   hour                                            49656 non-null  int32              \n",
      " 1   day_of_week                                     49656 non-null  int32              \n",
      " 2   day_of_month                                    49656 non-null  int32              \n",
      " 3   month_number                                    49656 non-null  int32              \n",
      " 4   year                                            49656 non-null  int32              \n",
      " 5   meteorological_season                           49656 non-null  object             \n",
      " 6   turbines_in_operation                           49656 non-null  int64              \n",
      " 7   total_nominal_capacity_operational_turbines_mw  49656 non-null  float64            \n",
      " 8   datetime_cet                                    49654 non-null  datetime64[ns, CET]\n",
      " 9   actual_generated_smard_mwh                      49654 non-null  float64            \n",
      " 10  day_ahead_price_eur_mwh                         43104 non-null  float64            \n",
      " 11  total_nominal_capacity_smard_mw                 49654 non-null  float64            \n",
      " 12  forecasted_generation_smard_mwh                 49630 non-null  float64            \n",
      " 13  total_net_load_smard_mwh                        49654 non-null  float64            \n",
      " 14  residual_load_smard_mwh                         49654 non-null  float64            \n",
      " 15  mean_wind_speed_10m                             48168 non-null  float32            \n",
      " 16  mean_wind_speed_100m                            48168 non-null  float32            \n",
      " 17  wind_direction_angle_10m                        48168 non-null  float32            \n",
      " 18  wind_direction_angle_100m                       48168 non-null  float32            \n",
      " 19  msl                                             48168 non-null  float32            \n",
      " 20  i10fg                                           48168 non-null  float32            \n",
      " 21  t2m                                             48168 non-null  float32            \n",
      "dtypes: datetime64[ns, CET](1), float32(7), float64(7), int32(5), int64(1), object(1)\n",
      "memory usage: 7.4+ MB\n"
     ]
    }
   ],
   "source": [
    "df_main.info()"
   ]
  },
  {
   "cell_type": "code",
   "execution_count": 58,
   "id": "d858a218-2bba-4a9a-84ff-18075de63e33",
   "metadata": {
    "tags": []
   },
   "outputs": [
    {
     "data": {
      "text/plain": [
       "hour                                                 0\n",
       "day_of_week                                          0\n",
       "day_of_month                                         0\n",
       "month_number                                         0\n",
       "year                                                 0\n",
       "meteorological_season                                0\n",
       "turbines_in_operation                                0\n",
       "total_nominal_capacity_operational_turbines_mw       0\n",
       "datetime_cet                                         2\n",
       "actual_generated_smard_mwh                           2\n",
       "day_ahead_price_eur_mwh                           6552\n",
       "total_nominal_capacity_smard_mw                      2\n",
       "forecasted_generation_smard_mwh                     26\n",
       "total_net_load_smard_mwh                             2\n",
       "residual_load_smard_mwh                              2\n",
       "mean_wind_speed_10m                               1488\n",
       "mean_wind_speed_100m                              1488\n",
       "wind_direction_angle_10m                          1488\n",
       "wind_direction_angle_100m                         1488\n",
       "msl                                               1488\n",
       "i10fg                                             1488\n",
       "t2m                                               1488\n",
       "dtype: int64"
      ]
     },
     "execution_count": 58,
     "metadata": {},
     "output_type": "execute_result"
    }
   ],
   "source": [
    "df_main.isna().sum()"
   ]
  },
  {
   "cell_type": "markdown",
   "id": "8c16d6e9-ebeb-4233-8b11-945887cb0ee1",
   "metadata": {},
   "source": [
    "#### Here I'll rename some features, convert to other units, and derive the intercardinal wind directions!\n",
    "- Pascals to hectopascal (hPa); same as millibar --> (1 hPa = 1 mb)"
   ]
  },
  {
   "cell_type": "code",
   "execution_count": 59,
   "id": "43613b6f-95ae-48e4-beab-592b1b61c10b",
   "metadata": {
    "tags": []
   },
   "outputs": [],
   "source": [
    "df_main.rename(columns={\n",
    "    'msl': 'mean_sea_level_pressure_mb',\n",
    "    'i10fg': 'wind_gusts_10m',\n",
    "    't2m': 'temp_2m_celsius',\n",
    "}, inplace=True)"
   ]
  },
  {
   "cell_type": "code",
   "execution_count": 60,
   "id": "bbe71c2d-f398-4001-934b-340f245cfa1a",
   "metadata": {
    "tags": []
   },
   "outputs": [
    {
     "data": {
      "text/plain": [
       "1016.3648106983629"
      ]
     },
     "execution_count": 60,
     "metadata": {},
     "output_type": "execute_result"
    }
   ],
   "source": [
    "# Convert Pascals to hPA/mb\n",
    "df_main['mean_sea_level_pressure_mb'] = df_main['mean_sea_level_pressure_mb'].apply(lambda pressure: pressure / 100)\n",
    "df_main['mean_sea_level_pressure_mb'].mean()"
   ]
  },
  {
   "cell_type": "code",
   "execution_count": 61,
   "id": "719316f5-d104-4944-be21-960c46af17ff",
   "metadata": {
    "tags": []
   },
   "outputs": [
    {
     "data": {
      "text/plain": [
       "10.216760820947304"
      ]
     },
     "execution_count": 61,
     "metadata": {},
     "output_type": "execute_result"
    }
   ],
   "source": [
    "# Convert Kelvin to Celsius\n",
    "df_main['temp_2m_celsius'] = df_main['temp_2m_celsius'].apply(lambda temp: temp - 273.15)\n",
    "df_main['temp_2m_celsius'].mean()"
   ]
  },
  {
   "cell_type": "code",
   "execution_count": 62,
   "id": "2c33ccbe-fe7f-40f3-8bdf-0af22071f943",
   "metadata": {
    "tags": []
   },
   "outputs": [
    {
     "data": {
      "text/html": [
       "<div>\n",
       "<style scoped>\n",
       "    .dataframe tbody tr th:only-of-type {\n",
       "        vertical-align: middle;\n",
       "    }\n",
       "\n",
       "    .dataframe tbody tr th {\n",
       "        vertical-align: top;\n",
       "    }\n",
       "\n",
       "    .dataframe thead th {\n",
       "        text-align: right;\n",
       "    }\n",
       "</style>\n",
       "<table border=\"1\" class=\"dataframe\">\n",
       "  <thead>\n",
       "    <tr style=\"text-align: right;\">\n",
       "      <th></th>\n",
       "      <th>hour</th>\n",
       "      <th>day_of_week</th>\n",
       "      <th>day_of_month</th>\n",
       "      <th>month_number</th>\n",
       "      <th>year</th>\n",
       "      <th>meteorological_season</th>\n",
       "      <th>turbines_in_operation</th>\n",
       "      <th>total_nominal_capacity_operational_turbines_mw</th>\n",
       "      <th>datetime_cet</th>\n",
       "      <th>actual_generated_smard_mwh</th>\n",
       "      <th>day_ahead_price_eur_mwh</th>\n",
       "      <th>total_nominal_capacity_smard_mw</th>\n",
       "      <th>forecasted_generation_smard_mwh</th>\n",
       "      <th>total_net_load_smard_mwh</th>\n",
       "      <th>residual_load_smard_mwh</th>\n",
       "      <th>mean_wind_speed_10m</th>\n",
       "      <th>mean_wind_speed_100m</th>\n",
       "      <th>wind_direction_angle_10m</th>\n",
       "      <th>wind_direction_angle_100m</th>\n",
       "      <th>mean_sea_level_pressure_mb</th>\n",
       "      <th>wind_gusts_10m</th>\n",
       "      <th>temp_2m_celsius</th>\n",
       "    </tr>\n",
       "    <tr>\n",
       "      <th>datetime_utc</th>\n",
       "      <th></th>\n",
       "      <th></th>\n",
       "      <th></th>\n",
       "      <th></th>\n",
       "      <th></th>\n",
       "      <th></th>\n",
       "      <th></th>\n",
       "      <th></th>\n",
       "      <th></th>\n",
       "      <th></th>\n",
       "      <th></th>\n",
       "      <th></th>\n",
       "      <th></th>\n",
       "      <th></th>\n",
       "      <th></th>\n",
       "      <th></th>\n",
       "      <th></th>\n",
       "      <th></th>\n",
       "      <th></th>\n",
       "      <th></th>\n",
       "      <th></th>\n",
       "      <th></th>\n",
       "    </tr>\n",
       "  </thead>\n",
       "  <tbody>\n",
       "    <tr>\n",
       "      <th>2021-07-13 17:00:00+00:00</th>\n",
       "      <td>17</td>\n",
       "      <td>1</td>\n",
       "      <td>13</td>\n",
       "      <td>7</td>\n",
       "      <td>2021</td>\n",
       "      <td>summer</td>\n",
       "      <td>28865</td>\n",
       "      <td>55109.247577</td>\n",
       "      <td>2021-07-13 19:00:00+02:00</td>\n",
       "      <td>5344.50</td>\n",
       "      <td>105.00</td>\n",
       "      <td>54499.0</td>\n",
       "      <td>6245.75</td>\n",
       "      <td>62619.25</td>\n",
       "      <td>53600.75</td>\n",
       "      <td>2.734197</td>\n",
       "      <td>4.450896</td>\n",
       "      <td>158.554245</td>\n",
       "      <td>152.361435</td>\n",
       "      <td>1009.228984</td>\n",
       "      <td>5.523561</td>\n",
       "      <td>21.436884</td>\n",
       "    </tr>\n",
       "    <tr>\n",
       "      <th>2020-01-03 04:00:00+00:00</th>\n",
       "      <td>4</td>\n",
       "      <td>4</td>\n",
       "      <td>3</td>\n",
       "      <td>1</td>\n",
       "      <td>2020</td>\n",
       "      <td>winter</td>\n",
       "      <td>28494</td>\n",
       "      <td>53064.101667</td>\n",
       "      <td>2020-01-03 05:00:00+01:00</td>\n",
       "      <td>24809.25</td>\n",
       "      <td>9.92</td>\n",
       "      <td>53184.0</td>\n",
       "      <td>25690.75</td>\n",
       "      <td>49863.00</td>\n",
       "      <td>18429.00</td>\n",
       "      <td>4.945132</td>\n",
       "      <td>8.611056</td>\n",
       "      <td>206.563034</td>\n",
       "      <td>214.337662</td>\n",
       "      <td>1021.287266</td>\n",
       "      <td>9.149274</td>\n",
       "      <td>2.671259</td>\n",
       "    </tr>\n",
       "    <tr>\n",
       "      <th>2018-06-02 16:00:00+00:00</th>\n",
       "      <td>16</td>\n",
       "      <td>5</td>\n",
       "      <td>2</td>\n",
       "      <td>6</td>\n",
       "      <td>2018</td>\n",
       "      <td>summer</td>\n",
       "      <td>27855</td>\n",
       "      <td>50943.563777</td>\n",
       "      <td>2018-06-02 18:00:00+02:00</td>\n",
       "      <td>3892.50</td>\n",
       "      <td>NaN</td>\n",
       "      <td>51633.0</td>\n",
       "      <td>4063.75</td>\n",
       "      <td>51636.25</td>\n",
       "      <td>40492.25</td>\n",
       "      <td>3.016524</td>\n",
       "      <td>4.214153</td>\n",
       "      <td>272.805481</td>\n",
       "      <td>271.064972</td>\n",
       "      <td>1016.768281</td>\n",
       "      <td>6.659554</td>\n",
       "      <td>21.102655</td>\n",
       "    </tr>\n",
       "    <tr>\n",
       "      <th>2019-03-12 22:00:00+00:00</th>\n",
       "      <td>22</td>\n",
       "      <td>1</td>\n",
       "      <td>12</td>\n",
       "      <td>3</td>\n",
       "      <td>2019</td>\n",
       "      <td>spring</td>\n",
       "      <td>28293</td>\n",
       "      <td>52297.867817</td>\n",
       "      <td>2019-03-12 23:00:00+01:00</td>\n",
       "      <td>34365.00</td>\n",
       "      <td>0.36</td>\n",
       "      <td>52792.0</td>\n",
       "      <td>32634.50</td>\n",
       "      <td>56701.75</td>\n",
       "      <td>16668.75</td>\n",
       "      <td>6.400259</td>\n",
       "      <td>11.044964</td>\n",
       "      <td>207.111298</td>\n",
       "      <td>211.175735</td>\n",
       "      <td>1003.150469</td>\n",
       "      <td>13.716187</td>\n",
       "      <td>6.345209</td>\n",
       "    </tr>\n",
       "    <tr>\n",
       "      <th>2018-08-22 00:00:00+00:00</th>\n",
       "      <td>0</td>\n",
       "      <td>2</td>\n",
       "      <td>22</td>\n",
       "      <td>8</td>\n",
       "      <td>2018</td>\n",
       "      <td>summer</td>\n",
       "      <td>28024</td>\n",
       "      <td>51488.382777</td>\n",
       "      <td>2018-08-22 02:00:00+02:00</td>\n",
       "      <td>6530.50</td>\n",
       "      <td>NaN</td>\n",
       "      <td>51633.0</td>\n",
       "      <td>5811.00</td>\n",
       "      <td>44995.50</td>\n",
       "      <td>37491.75</td>\n",
       "      <td>2.193209</td>\n",
       "      <td>4.708311</td>\n",
       "      <td>104.559769</td>\n",
       "      <td>110.493813</td>\n",
       "      <td>1019.978438</td>\n",
       "      <td>4.192609</td>\n",
       "      <td>16.356348</td>\n",
       "    </tr>\n",
       "    <tr>\n",
       "      <th>2018-08-23 08:00:00+00:00</th>\n",
       "      <td>8</td>\n",
       "      <td>3</td>\n",
       "      <td>23</td>\n",
       "      <td>8</td>\n",
       "      <td>2018</td>\n",
       "      <td>summer</td>\n",
       "      <td>28024</td>\n",
       "      <td>51488.382777</td>\n",
       "      <td>2018-08-23 10:00:00+02:00</td>\n",
       "      <td>2264.25</td>\n",
       "      <td>NaN</td>\n",
       "      <td>51633.0</td>\n",
       "      <td>1983.50</td>\n",
       "      <td>67671.00</td>\n",
       "      <td>47792.50</td>\n",
       "      <td>2.046690</td>\n",
       "      <td>2.704856</td>\n",
       "      <td>220.829956</td>\n",
       "      <td>221.579132</td>\n",
       "      <td>1013.492500</td>\n",
       "      <td>5.422263</td>\n",
       "      <td>22.682581</td>\n",
       "    </tr>\n",
       "    <tr>\n",
       "      <th>2022-08-17 17:00:00+00:00</th>\n",
       "      <td>17</td>\n",
       "      <td>2</td>\n",
       "      <td>17</td>\n",
       "      <td>8</td>\n",
       "      <td>2022</td>\n",
       "      <td>summer</td>\n",
       "      <td>29121</td>\n",
       "      <td>56923.069087</td>\n",
       "      <td>2022-08-17 19:00:00+02:00</td>\n",
       "      <td>4319.25</td>\n",
       "      <td>747.93</td>\n",
       "      <td>55289.0</td>\n",
       "      <td>3752.00</td>\n",
       "      <td>56500.25</td>\n",
       "      <td>47141.50</td>\n",
       "      <td>2.099707</td>\n",
       "      <td>3.537026</td>\n",
       "      <td>133.637558</td>\n",
       "      <td>129.329376</td>\n",
       "      <td>1010.254609</td>\n",
       "      <td>4.388546</td>\n",
       "      <td>26.432214</td>\n",
       "    </tr>\n",
       "    <tr>\n",
       "      <th>2023-05-02 13:00:00+00:00</th>\n",
       "      <td>13</td>\n",
       "      <td>1</td>\n",
       "      <td>2</td>\n",
       "      <td>5</td>\n",
       "      <td>2023</td>\n",
       "      <td>spring</td>\n",
       "      <td>29328</td>\n",
       "      <td>58708.285537</td>\n",
       "      <td>2023-05-02 15:00:00+02:00</td>\n",
       "      <td>11176.00</td>\n",
       "      <td>81.97</td>\n",
       "      <td>57590.0</td>\n",
       "      <td>11742.25</td>\n",
       "      <td>58379.25</td>\n",
       "      <td>23867.25</td>\n",
       "      <td>3.682838</td>\n",
       "      <td>4.957393</td>\n",
       "      <td>309.917938</td>\n",
       "      <td>309.386749</td>\n",
       "      <td>1023.652891</td>\n",
       "      <td>8.758039</td>\n",
       "      <td>11.985406</td>\n",
       "    </tr>\n",
       "    <tr>\n",
       "      <th>2023-08-31 12:00:00+00:00</th>\n",
       "      <td>12</td>\n",
       "      <td>3</td>\n",
       "      <td>31</td>\n",
       "      <td>8</td>\n",
       "      <td>2023</td>\n",
       "      <td>summer</td>\n",
       "      <td>29359</td>\n",
       "      <td>59228.739337</td>\n",
       "      <td>2023-08-31 14:00:00+02:00</td>\n",
       "      <td>16225.25</td>\n",
       "      <td>86.26</td>\n",
       "      <td>57590.0</td>\n",
       "      <td>14523.50</td>\n",
       "      <td>58496.75</td>\n",
       "      <td>16515.00</td>\n",
       "      <td>NaN</td>\n",
       "      <td>NaN</td>\n",
       "      <td>NaN</td>\n",
       "      <td>NaN</td>\n",
       "      <td>NaN</td>\n",
       "      <td>NaN</td>\n",
       "      <td>NaN</td>\n",
       "    </tr>\n",
       "    <tr>\n",
       "      <th>2020-10-21 11:00:00+00:00</th>\n",
       "      <td>11</td>\n",
       "      <td>2</td>\n",
       "      <td>21</td>\n",
       "      <td>10</td>\n",
       "      <td>2020</td>\n",
       "      <td>autumn</td>\n",
       "      <td>28680</td>\n",
       "      <td>53870.948467</td>\n",
       "      <td>2020-10-21 13:00:00+02:00</td>\n",
       "      <td>17960.50</td>\n",
       "      <td>31.83</td>\n",
       "      <td>53184.0</td>\n",
       "      <td>20634.25</td>\n",
       "      <td>69363.25</td>\n",
       "      <td>38439.00</td>\n",
       "      <td>4.401401</td>\n",
       "      <td>7.301148</td>\n",
       "      <td>183.995621</td>\n",
       "      <td>187.923492</td>\n",
       "      <td>1008.467813</td>\n",
       "      <td>9.324576</td>\n",
       "      <td>13.439386</td>\n",
       "    </tr>\n",
       "  </tbody>\n",
       "</table>\n",
       "</div>"
      ],
      "text/plain": [
       "                           hour  day_of_week  day_of_month  month_number  \\\n",
       "datetime_utc                                                               \n",
       "2021-07-13 17:00:00+00:00    17            1            13             7   \n",
       "2020-01-03 04:00:00+00:00     4            4             3             1   \n",
       "2018-06-02 16:00:00+00:00    16            5             2             6   \n",
       "2019-03-12 22:00:00+00:00    22            1            12             3   \n",
       "2018-08-22 00:00:00+00:00     0            2            22             8   \n",
       "2018-08-23 08:00:00+00:00     8            3            23             8   \n",
       "2022-08-17 17:00:00+00:00    17            2            17             8   \n",
       "2023-05-02 13:00:00+00:00    13            1             2             5   \n",
       "2023-08-31 12:00:00+00:00    12            3            31             8   \n",
       "2020-10-21 11:00:00+00:00    11            2            21            10   \n",
       "\n",
       "                           year meteorological_season  turbines_in_operation  \\\n",
       "datetime_utc                                                                   \n",
       "2021-07-13 17:00:00+00:00  2021                summer                  28865   \n",
       "2020-01-03 04:00:00+00:00  2020                winter                  28494   \n",
       "2018-06-02 16:00:00+00:00  2018                summer                  27855   \n",
       "2019-03-12 22:00:00+00:00  2019                spring                  28293   \n",
       "2018-08-22 00:00:00+00:00  2018                summer                  28024   \n",
       "2018-08-23 08:00:00+00:00  2018                summer                  28024   \n",
       "2022-08-17 17:00:00+00:00  2022                summer                  29121   \n",
       "2023-05-02 13:00:00+00:00  2023                spring                  29328   \n",
       "2023-08-31 12:00:00+00:00  2023                summer                  29359   \n",
       "2020-10-21 11:00:00+00:00  2020                autumn                  28680   \n",
       "\n",
       "                           total_nominal_capacity_operational_turbines_mw  \\\n",
       "datetime_utc                                                                \n",
       "2021-07-13 17:00:00+00:00                                    55109.247577   \n",
       "2020-01-03 04:00:00+00:00                                    53064.101667   \n",
       "2018-06-02 16:00:00+00:00                                    50943.563777   \n",
       "2019-03-12 22:00:00+00:00                                    52297.867817   \n",
       "2018-08-22 00:00:00+00:00                                    51488.382777   \n",
       "2018-08-23 08:00:00+00:00                                    51488.382777   \n",
       "2022-08-17 17:00:00+00:00                                    56923.069087   \n",
       "2023-05-02 13:00:00+00:00                                    58708.285537   \n",
       "2023-08-31 12:00:00+00:00                                    59228.739337   \n",
       "2020-10-21 11:00:00+00:00                                    53870.948467   \n",
       "\n",
       "                                       datetime_cet  \\\n",
       "datetime_utc                                          \n",
       "2021-07-13 17:00:00+00:00 2021-07-13 19:00:00+02:00   \n",
       "2020-01-03 04:00:00+00:00 2020-01-03 05:00:00+01:00   \n",
       "2018-06-02 16:00:00+00:00 2018-06-02 18:00:00+02:00   \n",
       "2019-03-12 22:00:00+00:00 2019-03-12 23:00:00+01:00   \n",
       "2018-08-22 00:00:00+00:00 2018-08-22 02:00:00+02:00   \n",
       "2018-08-23 08:00:00+00:00 2018-08-23 10:00:00+02:00   \n",
       "2022-08-17 17:00:00+00:00 2022-08-17 19:00:00+02:00   \n",
       "2023-05-02 13:00:00+00:00 2023-05-02 15:00:00+02:00   \n",
       "2023-08-31 12:00:00+00:00 2023-08-31 14:00:00+02:00   \n",
       "2020-10-21 11:00:00+00:00 2020-10-21 13:00:00+02:00   \n",
       "\n",
       "                           actual_generated_smard_mwh  \\\n",
       "datetime_utc                                            \n",
       "2021-07-13 17:00:00+00:00                     5344.50   \n",
       "2020-01-03 04:00:00+00:00                    24809.25   \n",
       "2018-06-02 16:00:00+00:00                     3892.50   \n",
       "2019-03-12 22:00:00+00:00                    34365.00   \n",
       "2018-08-22 00:00:00+00:00                     6530.50   \n",
       "2018-08-23 08:00:00+00:00                     2264.25   \n",
       "2022-08-17 17:00:00+00:00                     4319.25   \n",
       "2023-05-02 13:00:00+00:00                    11176.00   \n",
       "2023-08-31 12:00:00+00:00                    16225.25   \n",
       "2020-10-21 11:00:00+00:00                    17960.50   \n",
       "\n",
       "                           day_ahead_price_eur_mwh  \\\n",
       "datetime_utc                                         \n",
       "2021-07-13 17:00:00+00:00                   105.00   \n",
       "2020-01-03 04:00:00+00:00                     9.92   \n",
       "2018-06-02 16:00:00+00:00                      NaN   \n",
       "2019-03-12 22:00:00+00:00                     0.36   \n",
       "2018-08-22 00:00:00+00:00                      NaN   \n",
       "2018-08-23 08:00:00+00:00                      NaN   \n",
       "2022-08-17 17:00:00+00:00                   747.93   \n",
       "2023-05-02 13:00:00+00:00                    81.97   \n",
       "2023-08-31 12:00:00+00:00                    86.26   \n",
       "2020-10-21 11:00:00+00:00                    31.83   \n",
       "\n",
       "                           total_nominal_capacity_smard_mw  \\\n",
       "datetime_utc                                                 \n",
       "2021-07-13 17:00:00+00:00                          54499.0   \n",
       "2020-01-03 04:00:00+00:00                          53184.0   \n",
       "2018-06-02 16:00:00+00:00                          51633.0   \n",
       "2019-03-12 22:00:00+00:00                          52792.0   \n",
       "2018-08-22 00:00:00+00:00                          51633.0   \n",
       "2018-08-23 08:00:00+00:00                          51633.0   \n",
       "2022-08-17 17:00:00+00:00                          55289.0   \n",
       "2023-05-02 13:00:00+00:00                          57590.0   \n",
       "2023-08-31 12:00:00+00:00                          57590.0   \n",
       "2020-10-21 11:00:00+00:00                          53184.0   \n",
       "\n",
       "                           forecasted_generation_smard_mwh  \\\n",
       "datetime_utc                                                 \n",
       "2021-07-13 17:00:00+00:00                          6245.75   \n",
       "2020-01-03 04:00:00+00:00                         25690.75   \n",
       "2018-06-02 16:00:00+00:00                          4063.75   \n",
       "2019-03-12 22:00:00+00:00                         32634.50   \n",
       "2018-08-22 00:00:00+00:00                          5811.00   \n",
       "2018-08-23 08:00:00+00:00                          1983.50   \n",
       "2022-08-17 17:00:00+00:00                          3752.00   \n",
       "2023-05-02 13:00:00+00:00                         11742.25   \n",
       "2023-08-31 12:00:00+00:00                         14523.50   \n",
       "2020-10-21 11:00:00+00:00                         20634.25   \n",
       "\n",
       "                           total_net_load_smard_mwh  residual_load_smard_mwh  \\\n",
       "datetime_utc                                                                   \n",
       "2021-07-13 17:00:00+00:00                  62619.25                 53600.75   \n",
       "2020-01-03 04:00:00+00:00                  49863.00                 18429.00   \n",
       "2018-06-02 16:00:00+00:00                  51636.25                 40492.25   \n",
       "2019-03-12 22:00:00+00:00                  56701.75                 16668.75   \n",
       "2018-08-22 00:00:00+00:00                  44995.50                 37491.75   \n",
       "2018-08-23 08:00:00+00:00                  67671.00                 47792.50   \n",
       "2022-08-17 17:00:00+00:00                  56500.25                 47141.50   \n",
       "2023-05-02 13:00:00+00:00                  58379.25                 23867.25   \n",
       "2023-08-31 12:00:00+00:00                  58496.75                 16515.00   \n",
       "2020-10-21 11:00:00+00:00                  69363.25                 38439.00   \n",
       "\n",
       "                           mean_wind_speed_10m  mean_wind_speed_100m  \\\n",
       "datetime_utc                                                           \n",
       "2021-07-13 17:00:00+00:00             2.734197              4.450896   \n",
       "2020-01-03 04:00:00+00:00             4.945132              8.611056   \n",
       "2018-06-02 16:00:00+00:00             3.016524              4.214153   \n",
       "2019-03-12 22:00:00+00:00             6.400259             11.044964   \n",
       "2018-08-22 00:00:00+00:00             2.193209              4.708311   \n",
       "2018-08-23 08:00:00+00:00             2.046690              2.704856   \n",
       "2022-08-17 17:00:00+00:00             2.099707              3.537026   \n",
       "2023-05-02 13:00:00+00:00             3.682838              4.957393   \n",
       "2023-08-31 12:00:00+00:00                  NaN                   NaN   \n",
       "2020-10-21 11:00:00+00:00             4.401401              7.301148   \n",
       "\n",
       "                           wind_direction_angle_10m  \\\n",
       "datetime_utc                                          \n",
       "2021-07-13 17:00:00+00:00                158.554245   \n",
       "2020-01-03 04:00:00+00:00                206.563034   \n",
       "2018-06-02 16:00:00+00:00                272.805481   \n",
       "2019-03-12 22:00:00+00:00                207.111298   \n",
       "2018-08-22 00:00:00+00:00                104.559769   \n",
       "2018-08-23 08:00:00+00:00                220.829956   \n",
       "2022-08-17 17:00:00+00:00                133.637558   \n",
       "2023-05-02 13:00:00+00:00                309.917938   \n",
       "2023-08-31 12:00:00+00:00                       NaN   \n",
       "2020-10-21 11:00:00+00:00                183.995621   \n",
       "\n",
       "                           wind_direction_angle_100m  \\\n",
       "datetime_utc                                           \n",
       "2021-07-13 17:00:00+00:00                 152.361435   \n",
       "2020-01-03 04:00:00+00:00                 214.337662   \n",
       "2018-06-02 16:00:00+00:00                 271.064972   \n",
       "2019-03-12 22:00:00+00:00                 211.175735   \n",
       "2018-08-22 00:00:00+00:00                 110.493813   \n",
       "2018-08-23 08:00:00+00:00                 221.579132   \n",
       "2022-08-17 17:00:00+00:00                 129.329376   \n",
       "2023-05-02 13:00:00+00:00                 309.386749   \n",
       "2023-08-31 12:00:00+00:00                        NaN   \n",
       "2020-10-21 11:00:00+00:00                 187.923492   \n",
       "\n",
       "                           mean_sea_level_pressure_mb  wind_gusts_10m  \\\n",
       "datetime_utc                                                            \n",
       "2021-07-13 17:00:00+00:00                 1009.228984        5.523561   \n",
       "2020-01-03 04:00:00+00:00                 1021.287266        9.149274   \n",
       "2018-06-02 16:00:00+00:00                 1016.768281        6.659554   \n",
       "2019-03-12 22:00:00+00:00                 1003.150469       13.716187   \n",
       "2018-08-22 00:00:00+00:00                 1019.978438        4.192609   \n",
       "2018-08-23 08:00:00+00:00                 1013.492500        5.422263   \n",
       "2022-08-17 17:00:00+00:00                 1010.254609        4.388546   \n",
       "2023-05-02 13:00:00+00:00                 1023.652891        8.758039   \n",
       "2023-08-31 12:00:00+00:00                         NaN             NaN   \n",
       "2020-10-21 11:00:00+00:00                 1008.467813        9.324576   \n",
       "\n",
       "                           temp_2m_celsius  \n",
       "datetime_utc                                \n",
       "2021-07-13 17:00:00+00:00        21.436884  \n",
       "2020-01-03 04:00:00+00:00         2.671259  \n",
       "2018-06-02 16:00:00+00:00        21.102655  \n",
       "2019-03-12 22:00:00+00:00         6.345209  \n",
       "2018-08-22 00:00:00+00:00        16.356348  \n",
       "2018-08-23 08:00:00+00:00        22.682581  \n",
       "2022-08-17 17:00:00+00:00        26.432214  \n",
       "2023-05-02 13:00:00+00:00        11.985406  \n",
       "2023-08-31 12:00:00+00:00              NaN  \n",
       "2020-10-21 11:00:00+00:00        13.439386  "
      ]
     },
     "execution_count": 62,
     "metadata": {},
     "output_type": "execute_result"
    }
   ],
   "source": [
    "df_main.sample(10)"
   ]
  },
  {
   "cell_type": "code",
   "execution_count": 63,
   "id": "0c19aa49-cba7-4474-aa44-e12f21d5cf59",
   "metadata": {
    "tags": []
   },
   "outputs": [
    {
     "data": {
      "text/html": [
       "<div>\n",
       "<style scoped>\n",
       "    .dataframe tbody tr th:only-of-type {\n",
       "        vertical-align: middle;\n",
       "    }\n",
       "\n",
       "    .dataframe tbody tr th {\n",
       "        vertical-align: top;\n",
       "    }\n",
       "\n",
       "    .dataframe thead th {\n",
       "        text-align: right;\n",
       "    }\n",
       "</style>\n",
       "<table border=\"1\" class=\"dataframe\">\n",
       "  <thead>\n",
       "    <tr style=\"text-align: right;\">\n",
       "      <th></th>\n",
       "      <th>hour</th>\n",
       "      <th>day_of_week</th>\n",
       "      <th>day_of_month</th>\n",
       "      <th>month_number</th>\n",
       "      <th>year</th>\n",
       "      <th>meteorological_season</th>\n",
       "      <th>turbines_in_operation</th>\n",
       "      <th>total_nominal_capacity_operational_turbines_mw</th>\n",
       "      <th>datetime_cet</th>\n",
       "      <th>actual_generated_smard_mwh</th>\n",
       "      <th>day_ahead_price_eur_mwh</th>\n",
       "      <th>total_nominal_capacity_smard_mw</th>\n",
       "      <th>forecasted_generation_smard_mwh</th>\n",
       "      <th>total_net_load_smard_mwh</th>\n",
       "      <th>residual_load_smard_mwh</th>\n",
       "      <th>mean_wind_speed_10m</th>\n",
       "      <th>mean_wind_speed_100m</th>\n",
       "      <th>wind_direction_angle_10m</th>\n",
       "      <th>wind_direction_angle_100m</th>\n",
       "      <th>mean_sea_level_pressure_mb</th>\n",
       "      <th>wind_gusts_10m</th>\n",
       "      <th>temp_2m_celsius</th>\n",
       "    </tr>\n",
       "    <tr>\n",
       "      <th>datetime_utc</th>\n",
       "      <th></th>\n",
       "      <th></th>\n",
       "      <th></th>\n",
       "      <th></th>\n",
       "      <th></th>\n",
       "      <th></th>\n",
       "      <th></th>\n",
       "      <th></th>\n",
       "      <th></th>\n",
       "      <th></th>\n",
       "      <th></th>\n",
       "      <th></th>\n",
       "      <th></th>\n",
       "      <th></th>\n",
       "      <th></th>\n",
       "      <th></th>\n",
       "      <th></th>\n",
       "      <th></th>\n",
       "      <th></th>\n",
       "      <th></th>\n",
       "      <th></th>\n",
       "      <th></th>\n",
       "    </tr>\n",
       "  </thead>\n",
       "  <tbody>\n",
       "    <tr>\n",
       "      <th>2018-01-01 00:00:00+00:00</th>\n",
       "      <td>0</td>\n",
       "      <td>0</td>\n",
       "      <td>1</td>\n",
       "      <td>1</td>\n",
       "      <td>2018</td>\n",
       "      <td>winter</td>\n",
       "      <td>27464</td>\n",
       "      <td>49732.097897</td>\n",
       "      <td>2018-01-01 01:00:00+01:00</td>\n",
       "      <td>29638.00</td>\n",
       "      <td>NaN</td>\n",
       "      <td>51633.0</td>\n",
       "      <td>29632.75</td>\n",
       "      <td>44270.00</td>\n",
       "      <td>11634.25</td>\n",
       "      <td>5.978772</td>\n",
       "      <td>10.395984</td>\n",
       "      <td>220.756622</td>\n",
       "      <td>225.207733</td>\n",
       "      <td>1000.349453</td>\n",
       "      <td>12.419700</td>\n",
       "      <td>8.510492</td>\n",
       "    </tr>\n",
       "    <tr>\n",
       "      <th>2018-01-01 01:00:00+00:00</th>\n",
       "      <td>1</td>\n",
       "      <td>0</td>\n",
       "      <td>1</td>\n",
       "      <td>1</td>\n",
       "      <td>2018</td>\n",
       "      <td>winter</td>\n",
       "      <td>27464</td>\n",
       "      <td>49732.097897</td>\n",
       "      <td>2018-01-01 02:00:00+01:00</td>\n",
       "      <td>30173.75</td>\n",
       "      <td>NaN</td>\n",
       "      <td>51633.0</td>\n",
       "      <td>30978.75</td>\n",
       "      <td>43195.75</td>\n",
       "      <td>9928.75</td>\n",
       "      <td>6.309438</td>\n",
       "      <td>10.805341</td>\n",
       "      <td>224.697327</td>\n",
       "      <td>228.564713</td>\n",
       "      <td>1000.427969</td>\n",
       "      <td>13.007113</td>\n",
       "      <td>8.281854</td>\n",
       "    </tr>\n",
       "  </tbody>\n",
       "</table>\n",
       "</div>"
      ],
      "text/plain": [
       "                           hour  day_of_week  day_of_month  month_number  \\\n",
       "datetime_utc                                                               \n",
       "2018-01-01 00:00:00+00:00     0            0             1             1   \n",
       "2018-01-01 01:00:00+00:00     1            0             1             1   \n",
       "\n",
       "                           year meteorological_season  turbines_in_operation  \\\n",
       "datetime_utc                                                                   \n",
       "2018-01-01 00:00:00+00:00  2018                winter                  27464   \n",
       "2018-01-01 01:00:00+00:00  2018                winter                  27464   \n",
       "\n",
       "                           total_nominal_capacity_operational_turbines_mw  \\\n",
       "datetime_utc                                                                \n",
       "2018-01-01 00:00:00+00:00                                    49732.097897   \n",
       "2018-01-01 01:00:00+00:00                                    49732.097897   \n",
       "\n",
       "                                       datetime_cet  \\\n",
       "datetime_utc                                          \n",
       "2018-01-01 00:00:00+00:00 2018-01-01 01:00:00+01:00   \n",
       "2018-01-01 01:00:00+00:00 2018-01-01 02:00:00+01:00   \n",
       "\n",
       "                           actual_generated_smard_mwh  \\\n",
       "datetime_utc                                            \n",
       "2018-01-01 00:00:00+00:00                    29638.00   \n",
       "2018-01-01 01:00:00+00:00                    30173.75   \n",
       "\n",
       "                           day_ahead_price_eur_mwh  \\\n",
       "datetime_utc                                         \n",
       "2018-01-01 00:00:00+00:00                      NaN   \n",
       "2018-01-01 01:00:00+00:00                      NaN   \n",
       "\n",
       "                           total_nominal_capacity_smard_mw  \\\n",
       "datetime_utc                                                 \n",
       "2018-01-01 00:00:00+00:00                          51633.0   \n",
       "2018-01-01 01:00:00+00:00                          51633.0   \n",
       "\n",
       "                           forecasted_generation_smard_mwh  \\\n",
       "datetime_utc                                                 \n",
       "2018-01-01 00:00:00+00:00                         29632.75   \n",
       "2018-01-01 01:00:00+00:00                         30978.75   \n",
       "\n",
       "                           total_net_load_smard_mwh  residual_load_smard_mwh  \\\n",
       "datetime_utc                                                                   \n",
       "2018-01-01 00:00:00+00:00                  44270.00                 11634.25   \n",
       "2018-01-01 01:00:00+00:00                  43195.75                  9928.75   \n",
       "\n",
       "                           mean_wind_speed_10m  mean_wind_speed_100m  \\\n",
       "datetime_utc                                                           \n",
       "2018-01-01 00:00:00+00:00             5.978772             10.395984   \n",
       "2018-01-01 01:00:00+00:00             6.309438             10.805341   \n",
       "\n",
       "                           wind_direction_angle_10m  \\\n",
       "datetime_utc                                          \n",
       "2018-01-01 00:00:00+00:00                220.756622   \n",
       "2018-01-01 01:00:00+00:00                224.697327   \n",
       "\n",
       "                           wind_direction_angle_100m  \\\n",
       "datetime_utc                                           \n",
       "2018-01-01 00:00:00+00:00                 225.207733   \n",
       "2018-01-01 01:00:00+00:00                 228.564713   \n",
       "\n",
       "                           mean_sea_level_pressure_mb  wind_gusts_10m  \\\n",
       "datetime_utc                                                            \n",
       "2018-01-01 00:00:00+00:00                 1000.349453       12.419700   \n",
       "2018-01-01 01:00:00+00:00                 1000.427969       13.007113   \n",
       "\n",
       "                           temp_2m_celsius  \n",
       "datetime_utc                                \n",
       "2018-01-01 00:00:00+00:00         8.510492  \n",
       "2018-01-01 01:00:00+00:00         8.281854  "
      ]
     },
     "execution_count": 63,
     "metadata": {},
     "output_type": "execute_result"
    }
   ],
   "source": [
    "df_main.head(2)"
   ]
  },
  {
   "cell_type": "markdown",
   "id": "fcf248f4-f0be-4950-a6cd-1068c5d27d4f",
   "metadata": {},
   "source": [
    "#### Save `df_main` progress to pickle"
   ]
  },
  {
   "cell_type": "code",
   "execution_count": 65,
   "id": "9cc070fd-eaf7-48fe-9f1a-862a1029cf01",
   "metadata": {
    "tags": []
   },
   "outputs": [],
   "source": [
    "# df_main.to_pickle(data_push_path / 'df_main_smard_era5.pkl')"
   ]
  },
  {
   "cell_type": "markdown",
   "id": "88026ed7-ba5a-4183-a714-4dfcf1834fe9",
   "metadata": {},
   "source": [
    "------"
   ]
  },
  {
   "cell_type": "markdown",
   "id": "5a4c266f-8304-40b8-86bd-d7820a62b31a",
   "metadata": {},
   "source": [
    "# Next step: derive intercardinal directions!"
   ]
  },
  {
   "cell_type": "markdown",
   "id": "703ce408-8668-4575-b3bc-894507c59830",
   "metadata": {},
   "source": [
    "##### Read in latest `df_main`"
   ]
  },
  {
   "cell_type": "code",
   "execution_count": 73,
   "id": "f513ea7d-410e-4509-a4c1-c7440cd4830e",
   "metadata": {
    "tags": []
   },
   "outputs": [],
   "source": [
    "df_main = pd.read_pickle(data_push_path / 'df_main_smard_era5.pkl')"
   ]
  },
  {
   "cell_type": "code",
   "execution_count": 75,
   "id": "0ed4f450-aeb3-404a-b112-518e10e2e067",
   "metadata": {
    "tags": []
   },
   "outputs": [],
   "source": [
    "def wind_direction_to_intercardinal(wind_direction_degrees):\n",
    "    # Make sure value is between 0-360 using modulo python assignment operator %= (same as x = x % 360)\n",
    "    # If 380 --> 20 degrees (starts back at 0 at 360)\n",
    "    wind_direction_degrees %= 360\n",
    "    \n",
    "    # The 16 intercardinal direction sectors in order as they appear on compass and their corresponding ranges spanning 22.5 degrees each\n",
    "    # Note: the boundaries are 11.25 in both directions from the direction's true centre line, creating sectors\n",
    "    intercardinal_directions = ['N', 'NNE', 'NE', 'ENE', 'E', 'ESE', 'SE', 'SSE', 'S', 'SSW', 'SW', 'WSW', 'W', 'WNW', 'NW', 'NNW', 'N']\n",
    "    sector_boundaries = [11.25, 33.75, 56.25, 78.75, 101.25, 123.75, 146.25, 168.75, 191.25, 213.75, 236.25, 258.75, 281.25, 303.75, 326.25, 348.75, 360]\n",
    "\n",
    "    # Loop through sector boundaries and return first direction at index i when condition is False\n",
    "    for i in range(len(sector_boundaries)):\n",
    "        # Only enter if statement once conditional is False (i.e. when wind angle is no longer less than sector boundary)\n",
    "        if wind_direction_degrees < sector_boundaries[i]:\n",
    "            return intercardinal_directions[i]"
   ]
  },
  {
   "cell_type": "code",
   "execution_count": 76,
   "id": "937e0950-e74b-448d-ae9a-a1729725c296",
   "metadata": {
    "tags": []
   },
   "outputs": [],
   "source": [
    "df_main['wind_direction_intercardinal_10m'] = df_main['wind_direction_angle_10m'].apply(wind_direction_to_intercardinal)\n",
    "df_main['wind_direction_intercardinal_100m'] = df_main['wind_direction_angle_100m'].apply(wind_direction_to_intercardinal)"
   ]
  },
  {
   "cell_type": "markdown",
   "id": "63d44102-6251-436f-8eb5-2c67955999c4",
   "metadata": {},
   "source": [
    "--------"
   ]
  },
  {
   "cell_type": "markdown",
   "id": "73a6c5de-988f-4bbe-a6e6-b64cd1bfcc3d",
   "metadata": {},
   "source": [
    "## Calculate/derive weighted mean features for ERA5 data variables!\n",
    "- The weights will be applied to each grid point linked to a turbine that was operational during relevant period\n",
    "- The weights are the number of turbines linked to each grid point, so ERA5 data is more heavily weighted where turbines density is higher when calculating the mean"
   ]
  },
  {
   "cell_type": "code",
   "execution_count": 82,
   "id": "8b4be15a-e80e-4a87-bb0b-a5288ada60f2",
   "metadata": {
    "tags": []
   },
   "outputs": [],
   "source": [
    "# Get latest unique grid points\n",
    "used_grid_points = df_turbines['nearest_grid_point'].unique()"
   ]
  },
  {
   "cell_type": "code",
   "execution_count": 83,
   "id": "e32c9e88-1bb8-4729-8d7c-b4dc41b0b852",
   "metadata": {
    "tags": []
   },
   "outputs": [
    {
     "data": {
      "text/plain": [
       "(750,)"
      ]
     },
     "execution_count": 83,
     "metadata": {},
     "output_type": "execute_result"
    }
   ],
   "source": [
    "used_grid_points.shape"
   ]
  },
  {
   "cell_type": "code",
   "execution_count": 85,
   "id": "844cb4d8-aa8c-4c1e-a8a6-1de92a969e56",
   "metadata": {
    "tags": []
   },
   "outputs": [],
   "source": [
    "# Zeros array with same shape at lat and lon dimensions (30,37)\n",
    "weights_array = np.zeros((len(ds['latitude']), len(ds['longitude'])))\n",
    "\n",
    "# loop through all 750 grid points\n",
    "for lat, lon in used_grid_points:\n",
    "    lat_idx = np.where(ds['latitude'] == lat)[0][0]\n",
    "    lon_idx = np.where(ds['longitude'] == lon)[0][0]\n",
    "    # Use broadcasting to insert weights into weights array\n",
    "    weights_array[lat_idx, lon_idx] = grid_point_weights_dict[(lat, lon)]\n",
    "    \n",
    "# create the DataArray of weights\n",
    "da_weights = xr.DataArray(weights_array, coords=[ds['latitude'], ds['longitude']], dims=['latitude', 'longitude'])\n",
    "\n",
    "# total of the weights\n",
    "total_weight = da_weights.sum(dim=['latitude', 'longitude'])\n",
    "\n",
    "# calculate the weighted means for all 7 of my data variables\n",
    "weighted_mean_t2m = (ds['t2m'] * da_weights).sum(dim=['latitude', 'longitude']) / total_weight\n",
    "weighted_mean_i10fg = (ds['i10fg'] * da_weights).sum(dim=['latitude', 'longitude']) / total_weight\n",
    "weighted_mean_msl = (ds['msl'] * da_weights).sum(dim=['latitude', 'longitude']) / total_weight\n",
    "weighted_mean_mean_wind_speed_10m = (ds['mean_wind_speed_10m'] * da_weights).sum(dim=['latitude', 'longitude']) / total_weight\n",
    "weighted_mean_mean_wind_speed_100m = (ds['mean_wind_speed_100m'] * da_weights).sum(dim=['latitude', 'longitude']) / total_weight\n",
    "weighted_mean_wind_direction_angle_10m = (ds['wind_direction_angle_10m'] * da_weights).sum(dim=['latitude', 'longitude']) / total_weight\n",
    "weighted_mean_wind_direction_angle_100m = (ds['wind_direction_angle_100m'] * da_weights).sum(dim=['latitude', 'longitude']) / total_weight"
   ]
  },
  {
   "cell_type": "code",
   "execution_count": 87,
   "id": "de429670-a595-4a53-a4a0-f9f510a3a12c",
   "metadata": {
    "tags": []
   },
   "outputs": [],
   "source": [
    "# Convert weighted mean DataArrays for each data variable to pandas dataframe\n",
    "# And set index to tz aware UTC\n",
    "df_weighted_mean_t2m = weighted_mean_t2m.to_dataframe(name='weighted_t2m')\n",
    "df_weighted_mean_t2m.index = df_weighted_mean_t2m.index.tz_localize(tz='utc')\n",
    "\n",
    "df_weighted_mean_i10fg = weighted_mean_i10fg.to_dataframe(name='weighted_i10fg')\n",
    "df_weighted_mean_i10fg.index = df_weighted_mean_i10fg.index.tz_localize(tz='utc')\n",
    "\n",
    "df_weighted_mean_msl = weighted_mean_msl.to_dataframe(name='weighted_msl')\n",
    "df_weighted_mean_msl.index = df_weighted_mean_msl.index.tz_localize(tz='utc')\n",
    "\n",
    "df_weighted_mean_mean_wind_speed_10m = weighted_mean_mean_wind_speed_10m.to_dataframe(name='weighted_mean_wind_speed_10m')\n",
    "df_weighted_mean_mean_wind_speed_10m.index = df_weighted_mean_mean_wind_speed_10m.index.tz_localize(tz='utc')\n",
    "\n",
    "df_weighted_mean_mean_wind_speed_100m = weighted_mean_mean_wind_speed_100m.to_dataframe(name='weighted_mean_wind_speed_100m')\n",
    "df_weighted_mean_mean_wind_speed_100m.index = df_weighted_mean_mean_wind_speed_100m.index.tz_localize(tz='utc')\n",
    "\n",
    "df_weighted_mean_wind_direction_angle_10m = weighted_mean_wind_direction_angle_10m.to_dataframe(name='weighted_mean_wind_direction_angle_10m')\n",
    "df_weighted_mean_wind_direction_angle_10m.index = df_weighted_mean_wind_direction_angle_10m.index.tz_localize(tz='utc')\n",
    "\n",
    "df_weighted_mean_wind_direction_angle_100m = weighted_mean_wind_direction_angle_100m.to_dataframe(name='weighted_mean_wind_direction_angle_100m')\n",
    "df_weighted_mean_wind_direction_angle_100m.index = df_weighted_mean_wind_direction_angle_100m.index.tz_localize(tz='utc')"
   ]
  },
  {
   "cell_type": "markdown",
   "id": "417eeaae-4139-4a14-ac53-bebc299aa3b2",
   "metadata": {},
   "source": [
    "#### Left merge above 7 dataframes of mean values onto `df_main` using indices of both"
   ]
  },
  {
   "cell_type": "code",
   "execution_count": 88,
   "id": "a7939e44-4f3f-4891-94c4-ab645f77b84d",
   "metadata": {
    "tags": []
   },
   "outputs": [],
   "source": [
    "df_main = df_main.merge(df_weighted_mean_t2m, left_index=True, right_index=True, how='left')\n",
    "df_main = df_main.merge(df_weighted_mean_i10fg, left_index=True, right_index=True, how='left')\n",
    "df_main = df_main.merge(df_weighted_mean_msl, left_index=True, right_index=True, how='left')\n",
    "df_main = df_main.merge(df_weighted_mean_mean_wind_speed_10m, left_index=True, right_index=True, how='left')\n",
    "df_main = df_main.merge(df_weighted_mean_mean_wind_speed_100m, left_index=True, right_index=True, how='left')\n",
    "df_main = df_main.merge(df_weighted_mean_wind_direction_angle_10m, left_index=True, right_index=True, how='left')\n",
    "df_main = df_main.merge(df_weighted_mean_wind_direction_angle_100m, left_index=True, right_index=True, how='left')"
   ]
  },
  {
   "cell_type": "code",
   "execution_count": 89,
   "id": "8207b9b6-40cb-4109-9c77-a5be53511852",
   "metadata": {
    "tags": []
   },
   "outputs": [
    {
     "name": "stdout",
     "output_type": "stream",
     "text": [
      "<class 'pandas.core.frame.DataFrame'>\n",
      "DatetimeIndex: 49656 entries, 2018-01-01 00:00:00+00:00 to 2023-08-31 23:00:00+00:00\n",
      "Data columns (total 31 columns):\n",
      " #   Column                                          Non-Null Count  Dtype              \n",
      "---  ------                                          --------------  -----              \n",
      " 0   hour                                            49656 non-null  int32              \n",
      " 1   day_of_week                                     49656 non-null  int32              \n",
      " 2   day_of_month                                    49656 non-null  int32              \n",
      " 3   month_number                                    49656 non-null  int32              \n",
      " 4   year                                            49656 non-null  int32              \n",
      " 5   meteorological_season                           49656 non-null  object             \n",
      " 6   turbines_in_operation                           49656 non-null  int64              \n",
      " 7   total_nominal_capacity_operational_turbines_mw  49656 non-null  float64            \n",
      " 8   datetime_cet                                    49654 non-null  datetime64[ns, CET]\n",
      " 9   actual_generated_smard_mwh                      49654 non-null  float64            \n",
      " 10  day_ahead_price_eur_mwh                         43104 non-null  float64            \n",
      " 11  total_nominal_capacity_smard_mw                 49654 non-null  float64            \n",
      " 12  forecasted_generation_smard_mwh                 49630 non-null  float64            \n",
      " 13  total_net_load_smard_mwh                        49654 non-null  float64            \n",
      " 14  residual_load_smard_mwh                         49654 non-null  float64            \n",
      " 15  mean_wind_speed_10m                             48168 non-null  float32            \n",
      " 16  mean_wind_speed_100m                            48168 non-null  float32            \n",
      " 17  wind_direction_angle_10m                        48168 non-null  float32            \n",
      " 18  wind_direction_angle_100m                       48168 non-null  float32            \n",
      " 19  mean_sea_level_pressure_mb                      48168 non-null  float64            \n",
      " 20  wind_gusts_10m                                  48168 non-null  float32            \n",
      " 21  temp_2m_celsius                                 48168 non-null  float64            \n",
      " 22  wind_direction_intercardinal_10m                48168 non-null  object             \n",
      " 23  wind_direction_intercardinal_100m               48168 non-null  object             \n",
      " 24  weighted_t2m                                    48168 non-null  float64            \n",
      " 25  weighted_i10fg                                  48168 non-null  float64            \n",
      " 26  weighted_msl                                    48168 non-null  float64            \n",
      " 27  weighted_mean_wind_speed_10m                    48168 non-null  float64            \n",
      " 28  weighted_mean_wind_speed_100m                   48168 non-null  float64            \n",
      " 29  weighted_mean_wind_direction_angle_10m          48168 non-null  float64            \n",
      " 30  weighted_mean_wind_direction_angle_100m         48168 non-null  float64            \n",
      "dtypes: datetime64[ns, CET](1), float32(5), float64(16), int32(5), int64(1), object(3)\n",
      "memory usage: 11.2+ MB\n"
     ]
    }
   ],
   "source": [
    "df_main.info()"
   ]
  },
  {
   "cell_type": "code",
   "execution_count": 90,
   "id": "1cb3663f-796a-4baf-8b95-bac674f1bc24",
   "metadata": {
    "tags": []
   },
   "outputs": [],
   "source": [
    "df_main.rename(columns={\n",
    "    'weighted_msl': 'weighted_mean_sea_level_pressure_mb',\n",
    "    'weighted_i10fg': 'weighted_wind_gusts_10m',\n",
    "    'weighted_t2m': 'weighted_temp_2m_celsius',\n",
    "}, inplace=True)"
   ]
  },
  {
   "cell_type": "code",
   "execution_count": 91,
   "id": "9a34af3b-9fbe-4377-9b4c-8015e4e8866b",
   "metadata": {
    "tags": []
   },
   "outputs": [
    {
     "data": {
      "text/plain": [
       "1015.9126181005638"
      ]
     },
     "execution_count": 91,
     "metadata": {},
     "output_type": "execute_result"
    }
   ],
   "source": [
    "# Convert Pascals to hPA/mb\n",
    "df_main['weighted_mean_sea_level_pressure_mb'] = df_main['weighted_mean_sea_level_pressure_mb'].apply(lambda pressure: pressure / 100)\n",
    "df_main['weighted_mean_sea_level_pressure_mb'].mean()"
   ]
  },
  {
   "cell_type": "code",
   "execution_count": 92,
   "id": "677e02da-61c3-41f9-a854-b1d6dc18d442",
   "metadata": {
    "tags": []
   },
   "outputs": [
    {
     "data": {
      "text/plain": [
       "10.357187341127316"
      ]
     },
     "execution_count": 92,
     "metadata": {},
     "output_type": "execute_result"
    }
   ],
   "source": [
    "# Convert Kelvin to Celsius\n",
    "df_main['weighted_temp_2m_celsius'] = df_main['weighted_temp_2m_celsius'].apply(lambda temp: temp - 273.15)\n",
    "df_main['weighted_temp_2m_celsius'].mean()"
   ]
  },
  {
   "cell_type": "code",
   "execution_count": 93,
   "id": "6ea83c12-0191-4511-9b10-ab14ef584498",
   "metadata": {
    "tags": []
   },
   "outputs": [],
   "source": [
    "df_main['weighted_wind_direction_intercardinal_10m'] = df_main['weighted_mean_wind_direction_angle_10m'].apply(wind_direction_to_intercardinal)\n",
    "df_main['weighted_wind_direction_intercardinal_100m'] = df_main['weighted_mean_wind_direction_angle_100m'].apply(wind_direction_to_intercardinal)"
   ]
  },
  {
   "cell_type": "code",
   "execution_count": 94,
   "id": "8d7c322f-60ee-4883-babc-af7f0c0bc76b",
   "metadata": {
    "tags": []
   },
   "outputs": [
    {
     "name": "stdout",
     "output_type": "stream",
     "text": [
      "<class 'pandas.core.frame.DataFrame'>\n",
      "DatetimeIndex: 49656 entries, 2018-01-01 00:00:00+00:00 to 2023-08-31 23:00:00+00:00\n",
      "Data columns (total 33 columns):\n",
      " #   Column                                          Non-Null Count  Dtype              \n",
      "---  ------                                          --------------  -----              \n",
      " 0   hour                                            49656 non-null  int32              \n",
      " 1   day_of_week                                     49656 non-null  int32              \n",
      " 2   day_of_month                                    49656 non-null  int32              \n",
      " 3   month_number                                    49656 non-null  int32              \n",
      " 4   year                                            49656 non-null  int32              \n",
      " 5   meteorological_season                           49656 non-null  object             \n",
      " 6   turbines_in_operation                           49656 non-null  int64              \n",
      " 7   total_nominal_capacity_operational_turbines_mw  49656 non-null  float64            \n",
      " 8   datetime_cet                                    49654 non-null  datetime64[ns, CET]\n",
      " 9   actual_generated_smard_mwh                      49654 non-null  float64            \n",
      " 10  day_ahead_price_eur_mwh                         43104 non-null  float64            \n",
      " 11  total_nominal_capacity_smard_mw                 49654 non-null  float64            \n",
      " 12  forecasted_generation_smard_mwh                 49630 non-null  float64            \n",
      " 13  total_net_load_smard_mwh                        49654 non-null  float64            \n",
      " 14  residual_load_smard_mwh                         49654 non-null  float64            \n",
      " 15  mean_wind_speed_10m                             48168 non-null  float32            \n",
      " 16  mean_wind_speed_100m                            48168 non-null  float32            \n",
      " 17  wind_direction_angle_10m                        48168 non-null  float32            \n",
      " 18  wind_direction_angle_100m                       48168 non-null  float32            \n",
      " 19  mean_sea_level_pressure_mb                      48168 non-null  float64            \n",
      " 20  wind_gusts_10m                                  48168 non-null  float32            \n",
      " 21  temp_2m_celsius                                 48168 non-null  float64            \n",
      " 22  wind_direction_intercardinal_10m                48168 non-null  object             \n",
      " 23  wind_direction_intercardinal_100m               48168 non-null  object             \n",
      " 24  weighted_temp_2m_celsius                        48168 non-null  float64            \n",
      " 25  weighted_wind_gusts_10m                         48168 non-null  float64            \n",
      " 26  weighted_mean_sea_level_pressure_mb             48168 non-null  float64            \n",
      " 27  weighted_mean_wind_speed_10m                    48168 non-null  float64            \n",
      " 28  weighted_mean_wind_speed_100m                   48168 non-null  float64            \n",
      " 29  weighted_mean_wind_direction_angle_10m          48168 non-null  float64            \n",
      " 30  weighted_mean_wind_direction_angle_100m         48168 non-null  float64            \n",
      " 31  weighted_wind_direction_intercardinal_10m       48168 non-null  object             \n",
      " 32  weighted_wind_direction_intercardinal_100m      48168 non-null  object             \n",
      "dtypes: datetime64[ns, CET](1), float32(5), float64(16), int32(5), int64(1), object(5)\n",
      "memory usage: 12.0+ MB\n"
     ]
    }
   ],
   "source": [
    "df_main.info()"
   ]
  },
  {
   "cell_type": "code",
   "execution_count": 95,
   "id": "94858607-7037-4cd2-962f-71f9b47e7434",
   "metadata": {
    "tags": []
   },
   "outputs": [
    {
     "data": {
      "text/html": [
       "<div>\n",
       "<style scoped>\n",
       "    .dataframe tbody tr th:only-of-type {\n",
       "        vertical-align: middle;\n",
       "    }\n",
       "\n",
       "    .dataframe tbody tr th {\n",
       "        vertical-align: top;\n",
       "    }\n",
       "\n",
       "    .dataframe thead th {\n",
       "        text-align: right;\n",
       "    }\n",
       "</style>\n",
       "<table border=\"1\" class=\"dataframe\">\n",
       "  <thead>\n",
       "    <tr style=\"text-align: right;\">\n",
       "      <th></th>\n",
       "      <th>hour</th>\n",
       "      <th>day_of_week</th>\n",
       "      <th>day_of_month</th>\n",
       "      <th>month_number</th>\n",
       "      <th>year</th>\n",
       "      <th>meteorological_season</th>\n",
       "      <th>turbines_in_operation</th>\n",
       "      <th>total_nominal_capacity_operational_turbines_mw</th>\n",
       "      <th>datetime_cet</th>\n",
       "      <th>actual_generated_smard_mwh</th>\n",
       "      <th>day_ahead_price_eur_mwh</th>\n",
       "      <th>total_nominal_capacity_smard_mw</th>\n",
       "      <th>forecasted_generation_smard_mwh</th>\n",
       "      <th>total_net_load_smard_mwh</th>\n",
       "      <th>residual_load_smard_mwh</th>\n",
       "      <th>mean_wind_speed_10m</th>\n",
       "      <th>mean_wind_speed_100m</th>\n",
       "      <th>wind_direction_angle_10m</th>\n",
       "      <th>wind_direction_angle_100m</th>\n",
       "      <th>mean_sea_level_pressure_mb</th>\n",
       "      <th>wind_gusts_10m</th>\n",
       "      <th>temp_2m_celsius</th>\n",
       "      <th>wind_direction_intercardinal_10m</th>\n",
       "      <th>wind_direction_intercardinal_100m</th>\n",
       "      <th>weighted_temp_2m_celsius</th>\n",
       "      <th>weighted_wind_gusts_10m</th>\n",
       "      <th>weighted_mean_sea_level_pressure_mb</th>\n",
       "      <th>weighted_mean_wind_speed_10m</th>\n",
       "      <th>weighted_mean_wind_speed_100m</th>\n",
       "      <th>weighted_mean_wind_direction_angle_10m</th>\n",
       "      <th>weighted_mean_wind_direction_angle_100m</th>\n",
       "      <th>weighted_wind_direction_intercardinal_10m</th>\n",
       "      <th>weighted_wind_direction_intercardinal_100m</th>\n",
       "    </tr>\n",
       "    <tr>\n",
       "      <th>datetime_utc</th>\n",
       "      <th></th>\n",
       "      <th></th>\n",
       "      <th></th>\n",
       "      <th></th>\n",
       "      <th></th>\n",
       "      <th></th>\n",
       "      <th></th>\n",
       "      <th></th>\n",
       "      <th></th>\n",
       "      <th></th>\n",
       "      <th></th>\n",
       "      <th></th>\n",
       "      <th></th>\n",
       "      <th></th>\n",
       "      <th></th>\n",
       "      <th></th>\n",
       "      <th></th>\n",
       "      <th></th>\n",
       "      <th></th>\n",
       "      <th></th>\n",
       "      <th></th>\n",
       "      <th></th>\n",
       "      <th></th>\n",
       "      <th></th>\n",
       "      <th></th>\n",
       "      <th></th>\n",
       "      <th></th>\n",
       "      <th></th>\n",
       "      <th></th>\n",
       "      <th></th>\n",
       "      <th></th>\n",
       "      <th></th>\n",
       "      <th></th>\n",
       "    </tr>\n",
       "  </thead>\n",
       "  <tbody>\n",
       "    <tr>\n",
       "      <th>2018-01-01 00:00:00+00:00</th>\n",
       "      <td>0</td>\n",
       "      <td>0</td>\n",
       "      <td>1</td>\n",
       "      <td>1</td>\n",
       "      <td>2018</td>\n",
       "      <td>winter</td>\n",
       "      <td>27464</td>\n",
       "      <td>49732.097897</td>\n",
       "      <td>2018-01-01 01:00:00+01:00</td>\n",
       "      <td>29638.00</td>\n",
       "      <td>NaN</td>\n",
       "      <td>51633.0</td>\n",
       "      <td>29632.75</td>\n",
       "      <td>44270.00</td>\n",
       "      <td>11634.25</td>\n",
       "      <td>5.978772</td>\n",
       "      <td>10.395984</td>\n",
       "      <td>220.756622</td>\n",
       "      <td>225.207733</td>\n",
       "      <td>1000.349453</td>\n",
       "      <td>12.419700</td>\n",
       "      <td>8.510492</td>\n",
       "      <td>SW</td>\n",
       "      <td>SW</td>\n",
       "      <td>9.207286</td>\n",
       "      <td>13.089894</td>\n",
       "      <td>997.749018</td>\n",
       "      <td>6.337690</td>\n",
       "      <td>10.819870</td>\n",
       "      <td>223.051711</td>\n",
       "      <td>226.127482</td>\n",
       "      <td>SW</td>\n",
       "      <td>SW</td>\n",
       "    </tr>\n",
       "    <tr>\n",
       "      <th>2018-01-01 01:00:00+00:00</th>\n",
       "      <td>1</td>\n",
       "      <td>0</td>\n",
       "      <td>1</td>\n",
       "      <td>1</td>\n",
       "      <td>2018</td>\n",
       "      <td>winter</td>\n",
       "      <td>27464</td>\n",
       "      <td>49732.097897</td>\n",
       "      <td>2018-01-01 02:00:00+01:00</td>\n",
       "      <td>30173.75</td>\n",
       "      <td>NaN</td>\n",
       "      <td>51633.0</td>\n",
       "      <td>30978.75</td>\n",
       "      <td>43195.75</td>\n",
       "      <td>9928.75</td>\n",
       "      <td>6.309438</td>\n",
       "      <td>10.805341</td>\n",
       "      <td>224.697327</td>\n",
       "      <td>228.564713</td>\n",
       "      <td>1000.427969</td>\n",
       "      <td>13.007113</td>\n",
       "      <td>8.281854</td>\n",
       "      <td>SW</td>\n",
       "      <td>SW</td>\n",
       "      <td>8.921161</td>\n",
       "      <td>13.771541</td>\n",
       "      <td>997.737445</td>\n",
       "      <td>6.722992</td>\n",
       "      <td>11.314126</td>\n",
       "      <td>226.120270</td>\n",
       "      <td>228.464003</td>\n",
       "      <td>SW</td>\n",
       "      <td>SW</td>\n",
       "    </tr>\n",
       "    <tr>\n",
       "      <th>2018-01-01 02:00:00+00:00</th>\n",
       "      <td>2</td>\n",
       "      <td>0</td>\n",
       "      <td>1</td>\n",
       "      <td>1</td>\n",
       "      <td>2018</td>\n",
       "      <td>winter</td>\n",
       "      <td>27464</td>\n",
       "      <td>49732.097897</td>\n",
       "      <td>2018-01-01 03:00:00+01:00</td>\n",
       "      <td>31021.50</td>\n",
       "      <td>NaN</td>\n",
       "      <td>51633.0</td>\n",
       "      <td>32154.25</td>\n",
       "      <td>42527.50</td>\n",
       "      <td>8371.50</td>\n",
       "      <td>6.685641</td>\n",
       "      <td>11.288467</td>\n",
       "      <td>228.800705</td>\n",
       "      <td>232.298874</td>\n",
       "      <td>1000.821328</td>\n",
       "      <td>13.622252</td>\n",
       "      <td>8.135431</td>\n",
       "      <td>SW</td>\n",
       "      <td>SW</td>\n",
       "      <td>8.717961</td>\n",
       "      <td>14.434282</td>\n",
       "      <td>998.046871</td>\n",
       "      <td>7.154381</td>\n",
       "      <td>11.899254</td>\n",
       "      <td>229.267554</td>\n",
       "      <td>231.341858</td>\n",
       "      <td>SW</td>\n",
       "      <td>SW</td>\n",
       "    </tr>\n",
       "    <tr>\n",
       "      <th>2018-01-01 03:00:00+00:00</th>\n",
       "      <td>3</td>\n",
       "      <td>0</td>\n",
       "      <td>1</td>\n",
       "      <td>1</td>\n",
       "      <td>2018</td>\n",
       "      <td>winter</td>\n",
       "      <td>27464</td>\n",
       "      <td>49732.097897</td>\n",
       "      <td>2018-01-01 04:00:00+01:00</td>\n",
       "      <td>31015.00</td>\n",
       "      <td>NaN</td>\n",
       "      <td>51633.0</td>\n",
       "      <td>33045.50</td>\n",
       "      <td>42515.75</td>\n",
       "      <td>8291.25</td>\n",
       "      <td>6.894922</td>\n",
       "      <td>11.552816</td>\n",
       "      <td>231.736252</td>\n",
       "      <td>235.041382</td>\n",
       "      <td>1001.264219</td>\n",
       "      <td>14.090265</td>\n",
       "      <td>7.977838</td>\n",
       "      <td>SW</td>\n",
       "      <td>SW</td>\n",
       "      <td>8.495501</td>\n",
       "      <td>14.913757</td>\n",
       "      <td>998.378348</td>\n",
       "      <td>7.391741</td>\n",
       "      <td>12.219056</td>\n",
       "      <td>230.808404</td>\n",
       "      <td>232.740422</td>\n",
       "      <td>SW</td>\n",
       "      <td>SW</td>\n",
       "    </tr>\n",
       "    <tr>\n",
       "      <th>2018-01-01 04:00:00+00:00</th>\n",
       "      <td>4</td>\n",
       "      <td>0</td>\n",
       "      <td>1</td>\n",
       "      <td>1</td>\n",
       "      <td>2018</td>\n",
       "      <td>winter</td>\n",
       "      <td>27464</td>\n",
       "      <td>49732.097897</td>\n",
       "      <td>2018-01-01 05:00:00+01:00</td>\n",
       "      <td>31534.00</td>\n",
       "      <td>NaN</td>\n",
       "      <td>51633.0</td>\n",
       "      <td>33644.50</td>\n",
       "      <td>42278.00</td>\n",
       "      <td>7465.50</td>\n",
       "      <td>7.060956</td>\n",
       "      <td>11.751130</td>\n",
       "      <td>234.274536</td>\n",
       "      <td>236.804169</td>\n",
       "      <td>1001.436406</td>\n",
       "      <td>14.186666</td>\n",
       "      <td>7.647913</td>\n",
       "      <td>SW</td>\n",
       "      <td>WSW</td>\n",
       "      <td>8.080761</td>\n",
       "      <td>14.866367</td>\n",
       "      <td>998.388523</td>\n",
       "      <td>7.513337</td>\n",
       "      <td>12.358206</td>\n",
       "      <td>231.433313</td>\n",
       "      <td>233.460190</td>\n",
       "      <td>SW</td>\n",
       "      <td>SW</td>\n",
       "    </tr>\n",
       "    <tr>\n",
       "      <th>...</th>\n",
       "      <td>...</td>\n",
       "      <td>...</td>\n",
       "      <td>...</td>\n",
       "      <td>...</td>\n",
       "      <td>...</td>\n",
       "      <td>...</td>\n",
       "      <td>...</td>\n",
       "      <td>...</td>\n",
       "      <td>...</td>\n",
       "      <td>...</td>\n",
       "      <td>...</td>\n",
       "      <td>...</td>\n",
       "      <td>...</td>\n",
       "      <td>...</td>\n",
       "      <td>...</td>\n",
       "      <td>...</td>\n",
       "      <td>...</td>\n",
       "      <td>...</td>\n",
       "      <td>...</td>\n",
       "      <td>...</td>\n",
       "      <td>...</td>\n",
       "      <td>...</td>\n",
       "      <td>...</td>\n",
       "      <td>...</td>\n",
       "      <td>...</td>\n",
       "      <td>...</td>\n",
       "      <td>...</td>\n",
       "      <td>...</td>\n",
       "      <td>...</td>\n",
       "      <td>...</td>\n",
       "      <td>...</td>\n",
       "      <td>...</td>\n",
       "      <td>...</td>\n",
       "    </tr>\n",
       "    <tr>\n",
       "      <th>2023-08-31 19:00:00+00:00</th>\n",
       "      <td>19</td>\n",
       "      <td>3</td>\n",
       "      <td>31</td>\n",
       "      <td>8</td>\n",
       "      <td>2023</td>\n",
       "      <td>summer</td>\n",
       "      <td>29359</td>\n",
       "      <td>59228.739337</td>\n",
       "      <td>2023-08-31 21:00:00+02:00</td>\n",
       "      <td>11080.75</td>\n",
       "      <td>125.50</td>\n",
       "      <td>57590.0</td>\n",
       "      <td>9225.00</td>\n",
       "      <td>52445.75</td>\n",
       "      <td>38865.00</td>\n",
       "      <td>NaN</td>\n",
       "      <td>NaN</td>\n",
       "      <td>NaN</td>\n",
       "      <td>NaN</td>\n",
       "      <td>NaN</td>\n",
       "      <td>NaN</td>\n",
       "      <td>NaN</td>\n",
       "      <td>None</td>\n",
       "      <td>None</td>\n",
       "      <td>NaN</td>\n",
       "      <td>NaN</td>\n",
       "      <td>NaN</td>\n",
       "      <td>NaN</td>\n",
       "      <td>NaN</td>\n",
       "      <td>NaN</td>\n",
       "      <td>NaN</td>\n",
       "      <td>None</td>\n",
       "      <td>None</td>\n",
       "    </tr>\n",
       "    <tr>\n",
       "      <th>2023-08-31 20:00:00+00:00</th>\n",
       "      <td>20</td>\n",
       "      <td>3</td>\n",
       "      <td>31</td>\n",
       "      <td>8</td>\n",
       "      <td>2023</td>\n",
       "      <td>summer</td>\n",
       "      <td>29359</td>\n",
       "      <td>59228.739337</td>\n",
       "      <td>2023-08-31 22:00:00+02:00</td>\n",
       "      <td>11553.25</td>\n",
       "      <td>106.03</td>\n",
       "      <td>57590.0</td>\n",
       "      <td>9885.75</td>\n",
       "      <td>48692.25</td>\n",
       "      <td>34340.00</td>\n",
       "      <td>NaN</td>\n",
       "      <td>NaN</td>\n",
       "      <td>NaN</td>\n",
       "      <td>NaN</td>\n",
       "      <td>NaN</td>\n",
       "      <td>NaN</td>\n",
       "      <td>NaN</td>\n",
       "      <td>None</td>\n",
       "      <td>None</td>\n",
       "      <td>NaN</td>\n",
       "      <td>NaN</td>\n",
       "      <td>NaN</td>\n",
       "      <td>NaN</td>\n",
       "      <td>NaN</td>\n",
       "      <td>NaN</td>\n",
       "      <td>NaN</td>\n",
       "      <td>None</td>\n",
       "      <td>None</td>\n",
       "    </tr>\n",
       "    <tr>\n",
       "      <th>2023-08-31 21:00:00+00:00</th>\n",
       "      <td>21</td>\n",
       "      <td>3</td>\n",
       "      <td>31</td>\n",
       "      <td>8</td>\n",
       "      <td>2023</td>\n",
       "      <td>summer</td>\n",
       "      <td>29359</td>\n",
       "      <td>59228.739337</td>\n",
       "      <td>2023-08-31 23:00:00+02:00</td>\n",
       "      <td>11290.00</td>\n",
       "      <td>96.89</td>\n",
       "      <td>57590.0</td>\n",
       "      <td>10282.50</td>\n",
       "      <td>45385.75</td>\n",
       "      <td>31281.25</td>\n",
       "      <td>NaN</td>\n",
       "      <td>NaN</td>\n",
       "      <td>NaN</td>\n",
       "      <td>NaN</td>\n",
       "      <td>NaN</td>\n",
       "      <td>NaN</td>\n",
       "      <td>NaN</td>\n",
       "      <td>None</td>\n",
       "      <td>None</td>\n",
       "      <td>NaN</td>\n",
       "      <td>NaN</td>\n",
       "      <td>NaN</td>\n",
       "      <td>NaN</td>\n",
       "      <td>NaN</td>\n",
       "      <td>NaN</td>\n",
       "      <td>NaN</td>\n",
       "      <td>None</td>\n",
       "      <td>None</td>\n",
       "    </tr>\n",
       "    <tr>\n",
       "      <th>2023-08-31 22:00:00+00:00</th>\n",
       "      <td>22</td>\n",
       "      <td>3</td>\n",
       "      <td>31</td>\n",
       "      <td>8</td>\n",
       "      <td>2023</td>\n",
       "      <td>summer</td>\n",
       "      <td>29359</td>\n",
       "      <td>59228.739337</td>\n",
       "      <td>NaT</td>\n",
       "      <td>NaN</td>\n",
       "      <td>NaN</td>\n",
       "      <td>NaN</td>\n",
       "      <td>NaN</td>\n",
       "      <td>NaN</td>\n",
       "      <td>NaN</td>\n",
       "      <td>NaN</td>\n",
       "      <td>NaN</td>\n",
       "      <td>NaN</td>\n",
       "      <td>NaN</td>\n",
       "      <td>NaN</td>\n",
       "      <td>NaN</td>\n",
       "      <td>NaN</td>\n",
       "      <td>None</td>\n",
       "      <td>None</td>\n",
       "      <td>NaN</td>\n",
       "      <td>NaN</td>\n",
       "      <td>NaN</td>\n",
       "      <td>NaN</td>\n",
       "      <td>NaN</td>\n",
       "      <td>NaN</td>\n",
       "      <td>NaN</td>\n",
       "      <td>None</td>\n",
       "      <td>None</td>\n",
       "    </tr>\n",
       "    <tr>\n",
       "      <th>2023-08-31 23:00:00+00:00</th>\n",
       "      <td>23</td>\n",
       "      <td>3</td>\n",
       "      <td>31</td>\n",
       "      <td>8</td>\n",
       "      <td>2023</td>\n",
       "      <td>summer</td>\n",
       "      <td>29359</td>\n",
       "      <td>59228.739337</td>\n",
       "      <td>NaT</td>\n",
       "      <td>NaN</td>\n",
       "      <td>NaN</td>\n",
       "      <td>NaN</td>\n",
       "      <td>NaN</td>\n",
       "      <td>NaN</td>\n",
       "      <td>NaN</td>\n",
       "      <td>NaN</td>\n",
       "      <td>NaN</td>\n",
       "      <td>NaN</td>\n",
       "      <td>NaN</td>\n",
       "      <td>NaN</td>\n",
       "      <td>NaN</td>\n",
       "      <td>NaN</td>\n",
       "      <td>None</td>\n",
       "      <td>None</td>\n",
       "      <td>NaN</td>\n",
       "      <td>NaN</td>\n",
       "      <td>NaN</td>\n",
       "      <td>NaN</td>\n",
       "      <td>NaN</td>\n",
       "      <td>NaN</td>\n",
       "      <td>NaN</td>\n",
       "      <td>None</td>\n",
       "      <td>None</td>\n",
       "    </tr>\n",
       "  </tbody>\n",
       "</table>\n",
       "<p>49656 rows × 33 columns</p>\n",
       "</div>"
      ],
      "text/plain": [
       "                           hour  day_of_week  day_of_month  month_number  \\\n",
       "datetime_utc                                                               \n",
       "2018-01-01 00:00:00+00:00     0            0             1             1   \n",
       "2018-01-01 01:00:00+00:00     1            0             1             1   \n",
       "2018-01-01 02:00:00+00:00     2            0             1             1   \n",
       "2018-01-01 03:00:00+00:00     3            0             1             1   \n",
       "2018-01-01 04:00:00+00:00     4            0             1             1   \n",
       "...                         ...          ...           ...           ...   \n",
       "2023-08-31 19:00:00+00:00    19            3            31             8   \n",
       "2023-08-31 20:00:00+00:00    20            3            31             8   \n",
       "2023-08-31 21:00:00+00:00    21            3            31             8   \n",
       "2023-08-31 22:00:00+00:00    22            3            31             8   \n",
       "2023-08-31 23:00:00+00:00    23            3            31             8   \n",
       "\n",
       "                           year meteorological_season  turbines_in_operation  \\\n",
       "datetime_utc                                                                   \n",
       "2018-01-01 00:00:00+00:00  2018                winter                  27464   \n",
       "2018-01-01 01:00:00+00:00  2018                winter                  27464   \n",
       "2018-01-01 02:00:00+00:00  2018                winter                  27464   \n",
       "2018-01-01 03:00:00+00:00  2018                winter                  27464   \n",
       "2018-01-01 04:00:00+00:00  2018                winter                  27464   \n",
       "...                         ...                   ...                    ...   \n",
       "2023-08-31 19:00:00+00:00  2023                summer                  29359   \n",
       "2023-08-31 20:00:00+00:00  2023                summer                  29359   \n",
       "2023-08-31 21:00:00+00:00  2023                summer                  29359   \n",
       "2023-08-31 22:00:00+00:00  2023                summer                  29359   \n",
       "2023-08-31 23:00:00+00:00  2023                summer                  29359   \n",
       "\n",
       "                           total_nominal_capacity_operational_turbines_mw  \\\n",
       "datetime_utc                                                                \n",
       "2018-01-01 00:00:00+00:00                                    49732.097897   \n",
       "2018-01-01 01:00:00+00:00                                    49732.097897   \n",
       "2018-01-01 02:00:00+00:00                                    49732.097897   \n",
       "2018-01-01 03:00:00+00:00                                    49732.097897   \n",
       "2018-01-01 04:00:00+00:00                                    49732.097897   \n",
       "...                                                                   ...   \n",
       "2023-08-31 19:00:00+00:00                                    59228.739337   \n",
       "2023-08-31 20:00:00+00:00                                    59228.739337   \n",
       "2023-08-31 21:00:00+00:00                                    59228.739337   \n",
       "2023-08-31 22:00:00+00:00                                    59228.739337   \n",
       "2023-08-31 23:00:00+00:00                                    59228.739337   \n",
       "\n",
       "                                       datetime_cet  \\\n",
       "datetime_utc                                          \n",
       "2018-01-01 00:00:00+00:00 2018-01-01 01:00:00+01:00   \n",
       "2018-01-01 01:00:00+00:00 2018-01-01 02:00:00+01:00   \n",
       "2018-01-01 02:00:00+00:00 2018-01-01 03:00:00+01:00   \n",
       "2018-01-01 03:00:00+00:00 2018-01-01 04:00:00+01:00   \n",
       "2018-01-01 04:00:00+00:00 2018-01-01 05:00:00+01:00   \n",
       "...                                             ...   \n",
       "2023-08-31 19:00:00+00:00 2023-08-31 21:00:00+02:00   \n",
       "2023-08-31 20:00:00+00:00 2023-08-31 22:00:00+02:00   \n",
       "2023-08-31 21:00:00+00:00 2023-08-31 23:00:00+02:00   \n",
       "2023-08-31 22:00:00+00:00                       NaT   \n",
       "2023-08-31 23:00:00+00:00                       NaT   \n",
       "\n",
       "                           actual_generated_smard_mwh  \\\n",
       "datetime_utc                                            \n",
       "2018-01-01 00:00:00+00:00                    29638.00   \n",
       "2018-01-01 01:00:00+00:00                    30173.75   \n",
       "2018-01-01 02:00:00+00:00                    31021.50   \n",
       "2018-01-01 03:00:00+00:00                    31015.00   \n",
       "2018-01-01 04:00:00+00:00                    31534.00   \n",
       "...                                               ...   \n",
       "2023-08-31 19:00:00+00:00                    11080.75   \n",
       "2023-08-31 20:00:00+00:00                    11553.25   \n",
       "2023-08-31 21:00:00+00:00                    11290.00   \n",
       "2023-08-31 22:00:00+00:00                         NaN   \n",
       "2023-08-31 23:00:00+00:00                         NaN   \n",
       "\n",
       "                           day_ahead_price_eur_mwh  \\\n",
       "datetime_utc                                         \n",
       "2018-01-01 00:00:00+00:00                      NaN   \n",
       "2018-01-01 01:00:00+00:00                      NaN   \n",
       "2018-01-01 02:00:00+00:00                      NaN   \n",
       "2018-01-01 03:00:00+00:00                      NaN   \n",
       "2018-01-01 04:00:00+00:00                      NaN   \n",
       "...                                            ...   \n",
       "2023-08-31 19:00:00+00:00                   125.50   \n",
       "2023-08-31 20:00:00+00:00                   106.03   \n",
       "2023-08-31 21:00:00+00:00                    96.89   \n",
       "2023-08-31 22:00:00+00:00                      NaN   \n",
       "2023-08-31 23:00:00+00:00                      NaN   \n",
       "\n",
       "                           total_nominal_capacity_smard_mw  \\\n",
       "datetime_utc                                                 \n",
       "2018-01-01 00:00:00+00:00                          51633.0   \n",
       "2018-01-01 01:00:00+00:00                          51633.0   \n",
       "2018-01-01 02:00:00+00:00                          51633.0   \n",
       "2018-01-01 03:00:00+00:00                          51633.0   \n",
       "2018-01-01 04:00:00+00:00                          51633.0   \n",
       "...                                                    ...   \n",
       "2023-08-31 19:00:00+00:00                          57590.0   \n",
       "2023-08-31 20:00:00+00:00                          57590.0   \n",
       "2023-08-31 21:00:00+00:00                          57590.0   \n",
       "2023-08-31 22:00:00+00:00                              NaN   \n",
       "2023-08-31 23:00:00+00:00                              NaN   \n",
       "\n",
       "                           forecasted_generation_smard_mwh  \\\n",
       "datetime_utc                                                 \n",
       "2018-01-01 00:00:00+00:00                         29632.75   \n",
       "2018-01-01 01:00:00+00:00                         30978.75   \n",
       "2018-01-01 02:00:00+00:00                         32154.25   \n",
       "2018-01-01 03:00:00+00:00                         33045.50   \n",
       "2018-01-01 04:00:00+00:00                         33644.50   \n",
       "...                                                    ...   \n",
       "2023-08-31 19:00:00+00:00                          9225.00   \n",
       "2023-08-31 20:00:00+00:00                          9885.75   \n",
       "2023-08-31 21:00:00+00:00                         10282.50   \n",
       "2023-08-31 22:00:00+00:00                              NaN   \n",
       "2023-08-31 23:00:00+00:00                              NaN   \n",
       "\n",
       "                           total_net_load_smard_mwh  residual_load_smard_mwh  \\\n",
       "datetime_utc                                                                   \n",
       "2018-01-01 00:00:00+00:00                  44270.00                 11634.25   \n",
       "2018-01-01 01:00:00+00:00                  43195.75                  9928.75   \n",
       "2018-01-01 02:00:00+00:00                  42527.50                  8371.50   \n",
       "2018-01-01 03:00:00+00:00                  42515.75                  8291.25   \n",
       "2018-01-01 04:00:00+00:00                  42278.00                  7465.50   \n",
       "...                                             ...                      ...   \n",
       "2023-08-31 19:00:00+00:00                  52445.75                 38865.00   \n",
       "2023-08-31 20:00:00+00:00                  48692.25                 34340.00   \n",
       "2023-08-31 21:00:00+00:00                  45385.75                 31281.25   \n",
       "2023-08-31 22:00:00+00:00                       NaN                      NaN   \n",
       "2023-08-31 23:00:00+00:00                       NaN                      NaN   \n",
       "\n",
       "                           mean_wind_speed_10m  mean_wind_speed_100m  \\\n",
       "datetime_utc                                                           \n",
       "2018-01-01 00:00:00+00:00             5.978772             10.395984   \n",
       "2018-01-01 01:00:00+00:00             6.309438             10.805341   \n",
       "2018-01-01 02:00:00+00:00             6.685641             11.288467   \n",
       "2018-01-01 03:00:00+00:00             6.894922             11.552816   \n",
       "2018-01-01 04:00:00+00:00             7.060956             11.751130   \n",
       "...                                        ...                   ...   \n",
       "2023-08-31 19:00:00+00:00                  NaN                   NaN   \n",
       "2023-08-31 20:00:00+00:00                  NaN                   NaN   \n",
       "2023-08-31 21:00:00+00:00                  NaN                   NaN   \n",
       "2023-08-31 22:00:00+00:00                  NaN                   NaN   \n",
       "2023-08-31 23:00:00+00:00                  NaN                   NaN   \n",
       "\n",
       "                           wind_direction_angle_10m  \\\n",
       "datetime_utc                                          \n",
       "2018-01-01 00:00:00+00:00                220.756622   \n",
       "2018-01-01 01:00:00+00:00                224.697327   \n",
       "2018-01-01 02:00:00+00:00                228.800705   \n",
       "2018-01-01 03:00:00+00:00                231.736252   \n",
       "2018-01-01 04:00:00+00:00                234.274536   \n",
       "...                                             ...   \n",
       "2023-08-31 19:00:00+00:00                       NaN   \n",
       "2023-08-31 20:00:00+00:00                       NaN   \n",
       "2023-08-31 21:00:00+00:00                       NaN   \n",
       "2023-08-31 22:00:00+00:00                       NaN   \n",
       "2023-08-31 23:00:00+00:00                       NaN   \n",
       "\n",
       "                           wind_direction_angle_100m  \\\n",
       "datetime_utc                                           \n",
       "2018-01-01 00:00:00+00:00                 225.207733   \n",
       "2018-01-01 01:00:00+00:00                 228.564713   \n",
       "2018-01-01 02:00:00+00:00                 232.298874   \n",
       "2018-01-01 03:00:00+00:00                 235.041382   \n",
       "2018-01-01 04:00:00+00:00                 236.804169   \n",
       "...                                              ...   \n",
       "2023-08-31 19:00:00+00:00                        NaN   \n",
       "2023-08-31 20:00:00+00:00                        NaN   \n",
       "2023-08-31 21:00:00+00:00                        NaN   \n",
       "2023-08-31 22:00:00+00:00                        NaN   \n",
       "2023-08-31 23:00:00+00:00                        NaN   \n",
       "\n",
       "                           mean_sea_level_pressure_mb  wind_gusts_10m  \\\n",
       "datetime_utc                                                            \n",
       "2018-01-01 00:00:00+00:00                 1000.349453       12.419700   \n",
       "2018-01-01 01:00:00+00:00                 1000.427969       13.007113   \n",
       "2018-01-01 02:00:00+00:00                 1000.821328       13.622252   \n",
       "2018-01-01 03:00:00+00:00                 1001.264219       14.090265   \n",
       "2018-01-01 04:00:00+00:00                 1001.436406       14.186666   \n",
       "...                                               ...             ...   \n",
       "2023-08-31 19:00:00+00:00                         NaN             NaN   \n",
       "2023-08-31 20:00:00+00:00                         NaN             NaN   \n",
       "2023-08-31 21:00:00+00:00                         NaN             NaN   \n",
       "2023-08-31 22:00:00+00:00                         NaN             NaN   \n",
       "2023-08-31 23:00:00+00:00                         NaN             NaN   \n",
       "\n",
       "                           temp_2m_celsius wind_direction_intercardinal_10m  \\\n",
       "datetime_utc                                                                  \n",
       "2018-01-01 00:00:00+00:00         8.510492                               SW   \n",
       "2018-01-01 01:00:00+00:00         8.281854                               SW   \n",
       "2018-01-01 02:00:00+00:00         8.135431                               SW   \n",
       "2018-01-01 03:00:00+00:00         7.977838                               SW   \n",
       "2018-01-01 04:00:00+00:00         7.647913                               SW   \n",
       "...                                    ...                              ...   \n",
       "2023-08-31 19:00:00+00:00              NaN                             None   \n",
       "2023-08-31 20:00:00+00:00              NaN                             None   \n",
       "2023-08-31 21:00:00+00:00              NaN                             None   \n",
       "2023-08-31 22:00:00+00:00              NaN                             None   \n",
       "2023-08-31 23:00:00+00:00              NaN                             None   \n",
       "\n",
       "                          wind_direction_intercardinal_100m  \\\n",
       "datetime_utc                                                  \n",
       "2018-01-01 00:00:00+00:00                                SW   \n",
       "2018-01-01 01:00:00+00:00                                SW   \n",
       "2018-01-01 02:00:00+00:00                                SW   \n",
       "2018-01-01 03:00:00+00:00                                SW   \n",
       "2018-01-01 04:00:00+00:00                               WSW   \n",
       "...                                                     ...   \n",
       "2023-08-31 19:00:00+00:00                              None   \n",
       "2023-08-31 20:00:00+00:00                              None   \n",
       "2023-08-31 21:00:00+00:00                              None   \n",
       "2023-08-31 22:00:00+00:00                              None   \n",
       "2023-08-31 23:00:00+00:00                              None   \n",
       "\n",
       "                           weighted_temp_2m_celsius  weighted_wind_gusts_10m  \\\n",
       "datetime_utc                                                                   \n",
       "2018-01-01 00:00:00+00:00                  9.207286                13.089894   \n",
       "2018-01-01 01:00:00+00:00                  8.921161                13.771541   \n",
       "2018-01-01 02:00:00+00:00                  8.717961                14.434282   \n",
       "2018-01-01 03:00:00+00:00                  8.495501                14.913757   \n",
       "2018-01-01 04:00:00+00:00                  8.080761                14.866367   \n",
       "...                                             ...                      ...   \n",
       "2023-08-31 19:00:00+00:00                       NaN                      NaN   \n",
       "2023-08-31 20:00:00+00:00                       NaN                      NaN   \n",
       "2023-08-31 21:00:00+00:00                       NaN                      NaN   \n",
       "2023-08-31 22:00:00+00:00                       NaN                      NaN   \n",
       "2023-08-31 23:00:00+00:00                       NaN                      NaN   \n",
       "\n",
       "                           weighted_mean_sea_level_pressure_mb  \\\n",
       "datetime_utc                                                     \n",
       "2018-01-01 00:00:00+00:00                           997.749018   \n",
       "2018-01-01 01:00:00+00:00                           997.737445   \n",
       "2018-01-01 02:00:00+00:00                           998.046871   \n",
       "2018-01-01 03:00:00+00:00                           998.378348   \n",
       "2018-01-01 04:00:00+00:00                           998.388523   \n",
       "...                                                        ...   \n",
       "2023-08-31 19:00:00+00:00                                  NaN   \n",
       "2023-08-31 20:00:00+00:00                                  NaN   \n",
       "2023-08-31 21:00:00+00:00                                  NaN   \n",
       "2023-08-31 22:00:00+00:00                                  NaN   \n",
       "2023-08-31 23:00:00+00:00                                  NaN   \n",
       "\n",
       "                           weighted_mean_wind_speed_10m  \\\n",
       "datetime_utc                                              \n",
       "2018-01-01 00:00:00+00:00                      6.337690   \n",
       "2018-01-01 01:00:00+00:00                      6.722992   \n",
       "2018-01-01 02:00:00+00:00                      7.154381   \n",
       "2018-01-01 03:00:00+00:00                      7.391741   \n",
       "2018-01-01 04:00:00+00:00                      7.513337   \n",
       "...                                                 ...   \n",
       "2023-08-31 19:00:00+00:00                           NaN   \n",
       "2023-08-31 20:00:00+00:00                           NaN   \n",
       "2023-08-31 21:00:00+00:00                           NaN   \n",
       "2023-08-31 22:00:00+00:00                           NaN   \n",
       "2023-08-31 23:00:00+00:00                           NaN   \n",
       "\n",
       "                           weighted_mean_wind_speed_100m  \\\n",
       "datetime_utc                                               \n",
       "2018-01-01 00:00:00+00:00                      10.819870   \n",
       "2018-01-01 01:00:00+00:00                      11.314126   \n",
       "2018-01-01 02:00:00+00:00                      11.899254   \n",
       "2018-01-01 03:00:00+00:00                      12.219056   \n",
       "2018-01-01 04:00:00+00:00                      12.358206   \n",
       "...                                                  ...   \n",
       "2023-08-31 19:00:00+00:00                            NaN   \n",
       "2023-08-31 20:00:00+00:00                            NaN   \n",
       "2023-08-31 21:00:00+00:00                            NaN   \n",
       "2023-08-31 22:00:00+00:00                            NaN   \n",
       "2023-08-31 23:00:00+00:00                            NaN   \n",
       "\n",
       "                           weighted_mean_wind_direction_angle_10m  \\\n",
       "datetime_utc                                                        \n",
       "2018-01-01 00:00:00+00:00                              223.051711   \n",
       "2018-01-01 01:00:00+00:00                              226.120270   \n",
       "2018-01-01 02:00:00+00:00                              229.267554   \n",
       "2018-01-01 03:00:00+00:00                              230.808404   \n",
       "2018-01-01 04:00:00+00:00                              231.433313   \n",
       "...                                                           ...   \n",
       "2023-08-31 19:00:00+00:00                                     NaN   \n",
       "2023-08-31 20:00:00+00:00                                     NaN   \n",
       "2023-08-31 21:00:00+00:00                                     NaN   \n",
       "2023-08-31 22:00:00+00:00                                     NaN   \n",
       "2023-08-31 23:00:00+00:00                                     NaN   \n",
       "\n",
       "                           weighted_mean_wind_direction_angle_100m  \\\n",
       "datetime_utc                                                         \n",
       "2018-01-01 00:00:00+00:00                               226.127482   \n",
       "2018-01-01 01:00:00+00:00                               228.464003   \n",
       "2018-01-01 02:00:00+00:00                               231.341858   \n",
       "2018-01-01 03:00:00+00:00                               232.740422   \n",
       "2018-01-01 04:00:00+00:00                               233.460190   \n",
       "...                                                            ...   \n",
       "2023-08-31 19:00:00+00:00                                      NaN   \n",
       "2023-08-31 20:00:00+00:00                                      NaN   \n",
       "2023-08-31 21:00:00+00:00                                      NaN   \n",
       "2023-08-31 22:00:00+00:00                                      NaN   \n",
       "2023-08-31 23:00:00+00:00                                      NaN   \n",
       "\n",
       "                          weighted_wind_direction_intercardinal_10m  \\\n",
       "datetime_utc                                                          \n",
       "2018-01-01 00:00:00+00:00                                        SW   \n",
       "2018-01-01 01:00:00+00:00                                        SW   \n",
       "2018-01-01 02:00:00+00:00                                        SW   \n",
       "2018-01-01 03:00:00+00:00                                        SW   \n",
       "2018-01-01 04:00:00+00:00                                        SW   \n",
       "...                                                             ...   \n",
       "2023-08-31 19:00:00+00:00                                      None   \n",
       "2023-08-31 20:00:00+00:00                                      None   \n",
       "2023-08-31 21:00:00+00:00                                      None   \n",
       "2023-08-31 22:00:00+00:00                                      None   \n",
       "2023-08-31 23:00:00+00:00                                      None   \n",
       "\n",
       "                          weighted_wind_direction_intercardinal_100m  \n",
       "datetime_utc                                                          \n",
       "2018-01-01 00:00:00+00:00                                         SW  \n",
       "2018-01-01 01:00:00+00:00                                         SW  \n",
       "2018-01-01 02:00:00+00:00                                         SW  \n",
       "2018-01-01 03:00:00+00:00                                         SW  \n",
       "2018-01-01 04:00:00+00:00                                         SW  \n",
       "...                                                              ...  \n",
       "2023-08-31 19:00:00+00:00                                       None  \n",
       "2023-08-31 20:00:00+00:00                                       None  \n",
       "2023-08-31 21:00:00+00:00                                       None  \n",
       "2023-08-31 22:00:00+00:00                                       None  \n",
       "2023-08-31 23:00:00+00:00                                       None  \n",
       "\n",
       "[49656 rows x 33 columns]"
      ]
     },
     "execution_count": 95,
     "metadata": {},
     "output_type": "execute_result"
    }
   ],
   "source": [
    "df_main"
   ]
  },
  {
   "cell_type": "code",
   "execution_count": null,
   "id": "f3eaa580-94f3-49f4-af17-1ca3afa0bb3c",
   "metadata": {},
   "outputs": [],
   "source": []
  },
  {
   "cell_type": "code",
   "execution_count": null,
   "id": "3f0c1e8b-ea17-423c-a059-d1bbb719287f",
   "metadata": {},
   "outputs": [],
   "source": []
  },
  {
   "cell_type": "markdown",
   "id": "a1d97741-a2a7-4d84-812b-b4fe457b5d45",
   "metadata": {},
   "source": [
    "#### Save `df_main` progress to pickle"
   ]
  },
  {
   "cell_type": "code",
   "execution_count": 96,
   "id": "4bc3d9e5-da71-421a-b60f-9287b22b35e3",
   "metadata": {
    "tags": []
   },
   "outputs": [],
   "source": [
    "# df_main.to_pickle(data_push_path / 'df_main_smard_era5_prefinal.pkl')"
   ]
  },
  {
   "cell_type": "code",
   "execution_count": null,
   "id": "15edcfa4-e7ac-4355-a3d5-3950f9fab122",
   "metadata": {},
   "outputs": [],
   "source": []
  },
  {
   "cell_type": "markdown",
   "id": "e97ef217-799a-48ca-bdcb-383d84610fc8",
   "metadata": {},
   "source": [
    "## Next: cut off tail end of rows that go beyond ERA5 data (beyond end of June 2023)"
   ]
  },
  {
   "cell_type": "code",
   "execution_count": 104,
   "id": "8cc3d2bb-e7ab-4507-b606-18b4e1892250",
   "metadata": {
    "tags": []
   },
   "outputs": [],
   "source": [
    "df_main = df_main.loc[df_main.index < pd.to_datetime('2023-07-01 00:00:00+00:00', utc=True)]"
   ]
  },
  {
   "cell_type": "code",
   "execution_count": 106,
   "id": "7f536f6e-2ad3-4d55-8812-7cd5c621bd21",
   "metadata": {
    "tags": []
   },
   "outputs": [
    {
     "name": "stdout",
     "output_type": "stream",
     "text": [
      "<class 'pandas.core.frame.DataFrame'>\n",
      "DatetimeIndex: 48168 entries, 2018-01-01 00:00:00+00:00 to 2023-06-30 23:00:00+00:00\n",
      "Data columns (total 33 columns):\n",
      " #   Column                                          Non-Null Count  Dtype              \n",
      "---  ------                                          --------------  -----              \n",
      " 0   hour                                            48168 non-null  int32              \n",
      " 1   day_of_week                                     48168 non-null  int32              \n",
      " 2   day_of_month                                    48168 non-null  int32              \n",
      " 3   month_number                                    48168 non-null  int32              \n",
      " 4   year                                            48168 non-null  int32              \n",
      " 5   meteorological_season                           48168 non-null  object             \n",
      " 6   turbines_in_operation                           48168 non-null  int64              \n",
      " 7   total_nominal_capacity_operational_turbines_mw  48168 non-null  float64            \n",
      " 8   datetime_cet                                    48168 non-null  datetime64[ns, CET]\n",
      " 9   actual_generated_smard_mwh                      48168 non-null  float64            \n",
      " 10  day_ahead_price_eur_mwh                         41618 non-null  float64            \n",
      " 11  total_nominal_capacity_smard_mw                 48168 non-null  float64            \n",
      " 12  forecasted_generation_smard_mwh                 48144 non-null  float64            \n",
      " 13  total_net_load_smard_mwh                        48168 non-null  float64            \n",
      " 14  residual_load_smard_mwh                         48168 non-null  float64            \n",
      " 15  mean_wind_speed_10m                             48168 non-null  float32            \n",
      " 16  mean_wind_speed_100m                            48168 non-null  float32            \n",
      " 17  wind_direction_angle_10m                        48168 non-null  float32            \n",
      " 18  wind_direction_angle_100m                       48168 non-null  float32            \n",
      " 19  mean_sea_level_pressure_mb                      48168 non-null  float64            \n",
      " 20  wind_gusts_10m                                  48168 non-null  float32            \n",
      " 21  temp_2m_celsius                                 48168 non-null  float64            \n",
      " 22  wind_direction_intercardinal_10m                48168 non-null  object             \n",
      " 23  wind_direction_intercardinal_100m               48168 non-null  object             \n",
      " 24  weighted_temp_2m_celsius                        48168 non-null  float64            \n",
      " 25  weighted_wind_gusts_10m                         48168 non-null  float64            \n",
      " 26  weighted_mean_sea_level_pressure_mb             48168 non-null  float64            \n",
      " 27  weighted_mean_wind_speed_10m                    48168 non-null  float64            \n",
      " 28  weighted_mean_wind_speed_100m                   48168 non-null  float64            \n",
      " 29  weighted_mean_wind_direction_angle_10m          48168 non-null  float64            \n",
      " 30  weighted_mean_wind_direction_angle_100m         48168 non-null  float64            \n",
      " 31  weighted_wind_direction_intercardinal_10m       48168 non-null  object             \n",
      " 32  weighted_wind_direction_intercardinal_100m      48168 non-null  object             \n",
      "dtypes: datetime64[ns, CET](1), float32(5), float64(16), int32(5), int64(1), object(5)\n",
      "memory usage: 10.7+ MB\n"
     ]
    }
   ],
   "source": [
    "df_main.info()"
   ]
  },
  {
   "cell_type": "code",
   "execution_count": null,
   "id": "039e4396-ff54-4225-9cdd-18d601470588",
   "metadata": {},
   "outputs": [],
   "source": []
  },
  {
   "cell_type": "markdown",
   "id": "2001bc8c-f10c-4247-8a03-6fae7c6f9366",
   "metadata": {},
   "source": [
    "#### Save final `df_main` progress to pickle"
   ]
  },
  {
   "cell_type": "code",
   "execution_count": 107,
   "id": "ee24c3aa-f00d-472c-8194-4574c40384df",
   "metadata": {
    "tags": []
   },
   "outputs": [],
   "source": [
    "# df_main.to_pickle(data_push_path / 'df_main_smard_era5_final.pkl')"
   ]
  },
  {
   "cell_type": "code",
   "execution_count": 109,
   "id": "976dab15-ee74-4700-8a1c-77487118e1be",
   "metadata": {
    "tags": []
   },
   "outputs": [
    {
     "data": {
      "text/plain": [
       "hour                                                 0\n",
       "day_of_week                                          0\n",
       "day_of_month                                         0\n",
       "month_number                                         0\n",
       "year                                                 0\n",
       "meteorological_season                                0\n",
       "turbines_in_operation                                0\n",
       "total_nominal_capacity_operational_turbines_mw       0\n",
       "datetime_cet                                         0\n",
       "actual_generated_smard_mwh                           0\n",
       "day_ahead_price_eur_mwh                           6550\n",
       "total_nominal_capacity_smard_mw                      0\n",
       "forecasted_generation_smard_mwh                     24\n",
       "total_net_load_smard_mwh                             0\n",
       "residual_load_smard_mwh                              0\n",
       "mean_wind_speed_10m                                  0\n",
       "mean_wind_speed_100m                                 0\n",
       "wind_direction_angle_10m                             0\n",
       "wind_direction_angle_100m                            0\n",
       "mean_sea_level_pressure_mb                           0\n",
       "wind_gusts_10m                                       0\n",
       "temp_2m_celsius                                      0\n",
       "wind_direction_intercardinal_10m                     0\n",
       "wind_direction_intercardinal_100m                    0\n",
       "weighted_temp_2m_celsius                             0\n",
       "weighted_wind_gusts_10m                              0\n",
       "weighted_mean_sea_level_pressure_mb                  0\n",
       "weighted_mean_wind_speed_10m                         0\n",
       "weighted_mean_wind_speed_100m                        0\n",
       "weighted_mean_wind_direction_angle_10m               0\n",
       "weighted_mean_wind_direction_angle_100m              0\n",
       "weighted_wind_direction_intercardinal_10m            0\n",
       "weighted_wind_direction_intercardinal_100m           0\n",
       "dtype: int64"
      ]
     },
     "execution_count": 109,
     "metadata": {},
     "output_type": "execute_result"
    }
   ],
   "source": [
    "df_main.isna().sum()"
   ]
  },
  {
   "cell_type": "code",
   "execution_count": null,
   "id": "03da0c3a-a756-4c28-84bb-56bf3ef3f1eb",
   "metadata": {},
   "outputs": [],
   "source": []
  },
  {
   "cell_type": "code",
   "execution_count": null,
   "id": "641c3cfc-0879-46d4-bd5a-f7200ea5e479",
   "metadata": {},
   "outputs": [],
   "source": []
  },
  {
   "cell_type": "markdown",
   "id": "4d1d22db-b0f2-4d68-b013-f3b220e34a9f",
   "metadata": {},
   "source": [
    "## Idea - weight the mean calculation using number of turbines linked to each grid point!\n",
    "- run for every hourly timestamp and use value counts for turbines in operation at that time\n",
    "- Get value counts of nearest grid points for turbines operational during 01.01.2018 to 01.06.2023!\n",
    "- Run through is_operational function and keep track of grid point occurences by updating a dict's keys and values?\n",
    "    - if key seen for first time, add key to dict\n",
    "    - keep tally of times that key (the coord pair) comes up\n",
    "    - Use Counter?"
   ]
  },
  {
   "cell_type": "markdown",
   "id": "d69b72c1-2172-4a0f-8cac-9e74688d65c5",
   "metadata": {},
   "source": [
    "### Get overall coord pair weights since 2018 "
   ]
  },
  {
   "cell_type": "markdown",
   "id": "03b238f1-8a33-4734-ac15-d498a4164733",
   "metadata": {},
   "source": [
    "### ACTUAL relevant grid points if my time series is only going back to start of 2018!\n",
    "- Basically same as the 751 I had before (750 now)\n",
    "- This also doesn't give me the WEIGHTS... WTF!\n",
    "- Looks like 30_547 turbines were active during my time series period (out of 30_638) That means 91 turbines operated completely outside of this period!"
   ]
  },
  {
   "cell_type": "code",
   "execution_count": 1567,
   "id": "aa6642d4-554a-45af-9a24-172a832e408d",
   "metadata": {
    "tags": []
   },
   "outputs": [],
   "source": [
    "# This codeblock takes 5+ minutes to run! I didn't bother to write something more performant as it's not critical\n",
    "\n",
    "# Get datetimes in index before ERA5 data cutoff \n",
    "# subset_datetime_idx = df_main.loc[df_main.index < pd.to_datetime('2023-06-30 23:00:00', utc=True)].index\n",
    "\n",
    "# # initialise empty set to update\n",
    "# unique_set_of_idx = set()\n",
    "\n",
    "# # loop through all timestamps \n",
    "# for timestamp in subset_datetime_idx:\n",
    "#     # return bool series of turbines in operation on timestamp\n",
    "#     is_operational_bool_mask = is_operational(timestamp, df_turbines)\n",
    "    \n",
    "#     # Then get list of grid points for those turbines, make set, and update main set\n",
    "#     idx_set = set(df_turbines.loc[is_operational_bool_mask].index.to_list())\n",
    "#     unique_set_of_idx.update(idx_set)"
   ]
  },
  {
   "cell_type": "markdown",
   "id": "7c4028ed-5d02-40ab-81c6-42e7d90f906b",
   "metadata": {},
   "source": [
    "#### Now filter df_turbines using this set of indexes"
   ]
  },
  {
   "cell_type": "code",
   "execution_count": 1577,
   "id": "2ee8ec94-154c-4a2f-bf16-85e132d05731",
   "metadata": {
    "tags": []
   },
   "outputs": [],
   "source": [
    "# New dataframe to save to pickle\n",
    "# df_turbines_2018_2023 = df_turbines.iloc[list(unique_set_of_idx)]"
   ]
  },
  {
   "cell_type": "code",
   "execution_count": 1601,
   "id": "9c1df92d-c0fb-4288-86c5-047cc6ca10eb",
   "metadata": {
    "tags": []
   },
   "outputs": [],
   "source": [
    "# Reset index before saving to pickle\n",
    "# df_turbines_2018_2023.reset_index(drop=True, inplace=True)"
   ]
  },
  {
   "cell_type": "code",
   "execution_count": 1603,
   "id": "8e01e85f-6725-4a9e-a0f0-a55a4d58ddf7",
   "metadata": {
    "tags": []
   },
   "outputs": [],
   "source": [
    "# Save to pickle\n",
    "# df_turbines_2018_2023.to_pickle(data_push_path / 'df_turbines_knn_blades_haversine_elevation_utc_2_2018_2023.pkl')"
   ]
  },
  {
   "cell_type": "code",
   "execution_count": 1594,
   "id": "97733f56-5411-4e41-b693-062dfa3906e5",
   "metadata": {
    "tags": []
   },
   "outputs": [
    {
     "data": {
      "text/plain": [
       "750"
      ]
     },
     "execution_count": 1594,
     "metadata": {},
     "output_type": "execute_result"
    }
   ],
   "source": [
    "# df_turbines_2018_2023['nearest_grid_point'].nunique()"
   ]
  },
  {
   "cell_type": "markdown",
   "id": "6fc4e8d9-1e2f-4863-a643-2eb87e212570",
   "metadata": {},
   "source": [
    "#### These are the weights for each grid point!"
   ]
  },
  {
   "cell_type": "code",
   "execution_count": 1595,
   "id": "cb43ab63-91d4-4626-8eb8-26cb51e7e3c0",
   "metadata": {
    "tags": []
   },
   "outputs": [
    {
     "data": {
      "text/plain": [
       "nearest_grid_point\n",
       "(54.07, 8.97)     454\n",
       "(54.57, 8.97)     356\n",
       "(54.57, 9.22)     343\n",
       "(51.57, 8.72)     325\n",
       "(53.32, 13.97)    286\n",
       "                 ... \n",
       "(48.82, 8.97)       1\n",
       "(47.57, 10.72)      1\n",
       "(52.32, 12.97)      1\n",
       "(50.57, 7.47)       1\n",
       "(48.82, 8.22)       1\n",
       "Name: count, Length: 750, dtype: int64"
      ]
     },
     "execution_count": 1595,
     "metadata": {},
     "output_type": "execute_result"
    }
   ],
   "source": [
    "# df_turbines_2018_2023['nearest_grid_point'].value_counts()"
   ]
  },
  {
   "cell_type": "markdown",
   "id": "3f6719a6-c196-4d7d-a54f-e5f67855b3f3",
   "metadata": {},
   "source": [
    "----"
   ]
  },
  {
   "cell_type": "markdown",
   "id": "275e6f39-bd81-4999-8b36-230dcb5346fd",
   "metadata": {},
   "source": [
    "-----"
   ]
  },
  {
   "cell_type": "markdown",
   "id": "78f9b4c6-3ba8-4964-8087-dd55da1852c5",
   "metadata": {},
   "source": [
    "## Scratch book of random code I want to keep for reference "
   ]
  },
  {
   "cell_type": "code",
   "execution_count": 1411,
   "id": "4c3a4515-8528-4dee-a7d9-04de06e2eab1",
   "metadata": {
    "tags": []
   },
   "outputs": [
    {
     "data": {
      "text/plain": [
       "array([3.1659725], dtype=float32)"
      ]
     },
     "execution_count": 1411,
     "metadata": {},
     "output_type": "execute_result"
    }
   ],
   "source": [
    "ds.sel(time=['2022-01-01T00:00:00'], latitude=47.82, longitude=10.97)['mean_wind_speed_10m'].values"
   ]
  },
  {
   "cell_type": "code",
   "execution_count": 1412,
   "id": "bd8f3439-dc1c-4a96-9835-0f6c88719074",
   "metadata": {
    "tags": []
   },
   "outputs": [
    {
     "data": {
      "text/plain": [
       "48168"
      ]
     },
     "execution_count": 1412,
     "metadata": {},
     "output_type": "execute_result"
    }
   ],
   "source": [
    "# All values for a data var for a specific grid point across all timestamps\n",
    "len(ds.sel(latitude=47.82, longitude=10.97)['mean_wind_speed_10m'].values)"
   ]
  },
  {
   "cell_type": "code",
   "execution_count": 1413,
   "id": "d0b8df64-8cd0-4243-8477-0d83ea5e72d8",
   "metadata": {
    "tags": []
   },
   "outputs": [
    {
     "data": {
      "text/plain": [
       "array([2.603206 , 2.6633532, 2.7366667, ..., 2.0954723, 3.0069587,\n",
       "       3.1353345], dtype=float32)"
      ]
     },
     "execution_count": 1413,
     "metadata": {},
     "output_type": "execute_result"
    }
   ],
   "source": [
    "ds.sel(latitude=47.82, longitude=10.97)['mean_wind_speed_10m'].values"
   ]
  },
  {
   "cell_type": "code",
   "execution_count": null,
   "id": "883c1a58-8428-4a16-a2cd-a9d235c26cf2",
   "metadata": {},
   "outputs": [],
   "source": []
  },
  {
   "cell_type": "code",
   "execution_count": null,
   "id": "038e3868-d833-455f-b53c-347d3f68ec26",
   "metadata": {},
   "outputs": [],
   "source": []
  },
  {
   "cell_type": "code",
   "execution_count": null,
   "id": "029cf163-d07b-4114-96f4-7de74535bf84",
   "metadata": {},
   "outputs": [],
   "source": []
  },
  {
   "cell_type": "code",
   "execution_count": null,
   "id": "f48bface-b335-44e9-a5fd-69085ea6fbda",
   "metadata": {},
   "outputs": [],
   "source": []
  },
  {
   "cell_type": "code",
   "execution_count": null,
   "id": "c5580424-e54c-4275-bfba-7bbbdc39819f",
   "metadata": {},
   "outputs": [],
   "source": []
  },
  {
   "cell_type": "code",
   "execution_count": null,
   "id": "84c70c72-d0e6-4f1f-b436-7009e020a3d4",
   "metadata": {},
   "outputs": [],
   "source": []
  },
  {
   "cell_type": "code",
   "execution_count": null,
   "id": "606a6f40-4910-4f12-b6ae-beb1e1f816e1",
   "metadata": {},
   "outputs": [],
   "source": []
  }
 ],
 "metadata": {
  "kernelspec": {
   "display_name": "course_project",
   "language": "python",
   "name": "course_project"
  },
  "language_info": {
   "codemirror_mode": {
    "name": "ipython",
    "version": 3
   },
   "file_extension": ".py",
   "mimetype": "text/x-python",
   "name": "python",
   "nbconvert_exporter": "python",
   "pygments_lexer": "ipython3",
   "version": "3.10.12"
  }
 },
 "nbformat": 4,
 "nbformat_minor": 5
}
