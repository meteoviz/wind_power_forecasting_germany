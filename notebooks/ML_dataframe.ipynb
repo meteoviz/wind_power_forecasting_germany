{
 "cells": [
  {
   "cell_type": "markdown",
   "id": "7f9a5697-a50e-45e1-b047-07252557afa0",
   "metadata": {},
   "source": [
    "# Building the ML dataframe"
   ]
  },
  {
   "cell_type": "code",
   "execution_count": 1,
   "id": "a207893c-6f98-4c83-b0c1-8a241b78c41d",
   "metadata": {
    "tags": []
   },
   "outputs": [],
   "source": [
    "from pathlib import Path\n",
    "\n",
    "import numpy as np\n",
    "import pandas as pd\n",
    "import xarray as xr"
   ]
  },
  {
   "cell_type": "code",
   "execution_count": 3,
   "id": "ad32155d-e98f-4351-ba14-dada857077c3",
   "metadata": {
    "tags": []
   },
   "outputs": [],
   "source": [
    "# Set max number of columns to display; default 20\n",
    "pd.options.display.max_columns = 80"
   ]
  },
  {
   "cell_type": "code",
   "execution_count": 4,
   "id": "86d7e9b7-8a39-44bc-a77b-670c2411d40d",
   "metadata": {
    "tags": []
   },
   "outputs": [],
   "source": [
    "# Directory where data files will be downloaded\n",
    "cwd_path = Path.cwd()\n",
    "data_path = cwd_path.parent.joinpath('data')\n",
    "data_push_path = cwd_path.parent.joinpath('data_to_push')"
   ]
  },
  {
   "cell_type": "markdown",
   "id": "594f09e2-8dfa-4537-87c8-02f59c316c2f",
   "metadata": {},
   "source": [
    "### Load in latest wind turbine data\n",
    "- Note: Only 9 turbines decommissioned before 2019!\n",
    "- Now only 751 unique grid points used"
   ]
  },
  {
   "cell_type": "code",
   "execution_count": 1218,
   "id": "60756d12-c942-4221-8bfb-55539c5cb587",
   "metadata": {
    "tags": []
   },
   "outputs": [
    {
     "name": "stdout",
     "output_type": "stream",
     "text": [
      "<class 'pandas.core.frame.DataFrame'>\n",
      "RangeIndex: 30638 entries, 0 to 30637\n",
      "Data columns (total 30 columns):\n",
      " #   Column                                            Non-Null Count  Dtype              \n",
      "---  ------                                            --------------  -----              \n",
      " 0   EinheitMastrNummer                                30638 non-null  object             \n",
      " 1   DatumLetzteAktualisierung                         30638 non-null  datetime64[ns, UTC]\n",
      " 2   Bundesland                                        30638 non-null  object             \n",
      " 3   Postleitzahl                                      30638 non-null  int64              \n",
      " 4   Ort                                               30638 non-null  object             \n",
      " 5   Laengengrad                                       30638 non-null  float64            \n",
      " 6   Breitengrad                                       30638 non-null  float64            \n",
      " 7   Registrierungsdatum                               30638 non-null  datetime64[ns, UTC]\n",
      " 8   Inbetriebnahmedatum                               30638 non-null  datetime64[ns, UTC]\n",
      " 9   EinheitBetriebsstatus                             30638 non-null  object             \n",
      " 10  DatumEndgueltigeStilllegung                       1155 non-null   datetime64[ns, UTC]\n",
      " 11  DatumBeginnVoruebergehendeStilllegung             68 non-null     datetime64[ns, UTC]\n",
      " 12  DatumWiederaufnahmeBetrieb                        6 non-null      datetime64[ns, UTC]\n",
      " 13  NameStromerzeugungseinheit                        30638 non-null  object             \n",
      " 14  Nettonennleistung                                 30638 non-null  float64            \n",
      " 15  AnschlussAnHoechstOderHochSpannung                22068 non-null  float64            \n",
      " 16  Einspeisungsart                                   30200 non-null  object             \n",
      " 17  NameWindpark                                      29855 non-null  object             \n",
      " 18  Hersteller                                        30381 non-null  object             \n",
      " 19  Technologie                                       30638 non-null  object             \n",
      " 20  Typenbezeichnung                                  30376 non-null  object             \n",
      " 21  Nabenhoehe                                        30638 non-null  float64            \n",
      " 22  Rotordurchmesser                                  30638 non-null  float64            \n",
      " 23  Rotorblattenteisungssystem                        23262 non-null  float64            \n",
      " 24  area_blades                                       30638 non-null  int64              \n",
      " 25  nearest_grid_point                                30638 non-null  object             \n",
      " 26  nearest_grid_point_elevation                      30638 non-null  float64            \n",
      " 27  turbine_elevation                                 30638 non-null  float64            \n",
      " 28  nearest_grid_point_distance                       30638 non-null  float64            \n",
      " 29  turbine_elevation_relative_to_nearest_grid_point  30638 non-null  float64            \n",
      "dtypes: datetime64[ns, UTC](6), float64(11), int64(2), object(11)\n",
      "memory usage: 7.0+ MB\n"
     ]
    }
   ],
   "source": [
    "# Read in latest turbine data\n",
    "# Now only 30,638 after removing 3 turbines outside bounding box and 4 clearly outside Germany\n",
    "df_turbines = pd.read_pickle(data_push_path / 'df_turbines_knn_blades_haversine_elevation_utc_2.pkl')\n",
    "df_turbines.info()"
   ]
  },
  {
   "cell_type": "code",
   "execution_count": 1219,
   "id": "e8b6d791-7cdc-47cf-a229-3e7be5f1cf07",
   "metadata": {
    "tags": []
   },
   "outputs": [],
   "source": [
    "# List of datetime column names for convenient indexing later\n",
    "turbine_date_columns = [\n",
    "    'DatumLetzteAktualisierung',\n",
    "    'Registrierungsdatum',\n",
    "    'Inbetriebnahmedatum',\n",
    "    'DatumEndgueltigeStilllegung',\n",
    "    'DatumBeginnVoruebergehendeStilllegung',\n",
    "    'DatumWiederaufnahmeBetrieb'\n",
    "]"
   ]
  },
  {
   "cell_type": "code",
   "execution_count": 371,
   "id": "23f23d69-5644-4975-b7a8-ffa6547c372a",
   "metadata": {
    "tags": []
   },
   "outputs": [],
   "source": [
    "# # Cast all tz naive datetime64 columns to UTC tz aware\n",
    "# df_turbines[turbine_date_columns] = df_turbines[turbine_date_columns].apply(lambda series: series.dt.tz_localize('UTC'), axis=0)\n",
    "\n",
    "# # save to pickle\n",
    "# df_turbines.to_pickle(data_push_path / 'df_turbines_knn_blades_haversine_elevation_utc.pkl')"
   ]
  },
  {
   "cell_type": "markdown",
   "id": "a7afd1be-4f95-46ca-8725-c5c8fd7eb3cc",
   "metadata": {},
   "source": [
    "-----"
   ]
  },
  {
   "cell_type": "markdown",
   "id": "072ead41-6439-49d1-9f7c-64802ac83833",
   "metadata": {},
   "source": [
    "# Load in all SMARD data"
   ]
  },
  {
   "cell_type": "markdown",
   "id": "394288e6-6c14-4f46-a8ce-99f0ba4fc912",
   "metadata": {},
   "source": [
    "### Load in SMARD energy generated data (actual measured generation)\n",
    "- My response variable `y` (aka target/label) "
   ]
  },
  {
   "cell_type": "code",
   "execution_count": 1220,
   "id": "da86b8a3-c807-4621-8fe2-76067cc762e2",
   "metadata": {
    "tags": []
   },
   "outputs": [],
   "source": [
    "# Get all SMARD CSV files, load into dataframes, and concat them\n",
    "\n",
    "def load_SMARD_generated_data():\n",
    "    \"\"\"\n",
    "    Look for CSV files in the SMARD directory\n",
    "    \"\"\"\n",
    "    list_of_dataframes = []\n",
    "    for filepath in data_path.joinpath('SMARD').iterdir():\n",
    "        if filepath.name.startswith('Realisierte_Erzeugung'):\n",
    "            list_of_dataframes.append(pd.read_csv(filepath, sep=';'))\n",
    "            \n",
    "    # Check that num of rows is what I expect after concatenating dfs\n",
    "    num_of_rows = 0\n",
    "    for df in list_of_dataframes:\n",
    "        num_of_rows += len(df)\n",
    "    \n",
    "    # concat dataframes\n",
    "    df = pd.concat(list_of_dataframes)\n",
    "    print(f'Number of rows match up: {num_of_rows == len(df)}')\n",
    "    \n",
    "    # Select columns to keep\n",
    "    # Note: I'm using the interval start time to create the timestamps\n",
    "    # ERA5 surface parameters are instantaneous so can't perfectly align anyway\n",
    "    df = df[[\n",
    "        'Datum',\n",
    "        'Anfang',\n",
    "        # 'Ende',\n",
    "        'Wind Onshore [MWh] Berechnete Auflösungen'\n",
    "    ]]\n",
    "    \n",
    "    # rename columns\n",
    "    df.rename(columns={\n",
    "        'Datum': 'date',\n",
    "        'Anfang': 'interval_start_time', \n",
    "        # 'Ende': 'interval_end_time',\n",
    "        'Wind Onshore [MWh] Berechnete Auflösungen': 'actual_generated_smard_mwh'\n",
    "    }, inplace=True)\n",
    "    \n",
    "    # Handle dates and times to create unified datetime64 timestamps\n",
    "    df['date'] = pd.to_datetime(df['date'], format='%d.%m.%Y')\n",
    "    df['start_time_delta'] = pd.to_timedelta(df['interval_start_time'] + ':00')\n",
    "    df['datetime_cet'] = df['date'] + df['start_time_delta']\n",
    "    # Add CET timezone info and infer change from CET->CEST->CET, etc\n",
    "    df['datetime_cet'] = df['datetime_cet'].dt.tz_localize(tz='CET', ambiguous='infer')\n",
    "    \n",
    "    # Drop un-needed columns\n",
    "    df = df.drop(columns=['date', 'start_time_delta', 'interval_start_time'])\n",
    "    # Re-arrange columns\n",
    "    df = df[['datetime_cet', 'actual_generated_smard_mwh']]\n",
    "    \n",
    "    # Convert European thousands and decimal seperators in values to (US/UK) decimal full stop format\n",
    "    translation_table = str.maketrans({'.': None, ',': '.'})\n",
    "    df['actual_generated_smard_mwh'] = df['actual_generated_smard_mwh'].str.translate(translation_table).astype(float)\n",
    "    \n",
    "    # Sort rows by datetime_cet\n",
    "    df.sort_values('datetime_cet', inplace=True)\n",
    "    # Reset index\n",
    "    df.reset_index(drop=True, inplace=True)\n",
    "    \n",
    "    return df.copy()"
   ]
  },
  {
   "cell_type": "code",
   "execution_count": 1221,
   "id": "24e68d75-5a7f-470d-957e-2323ecb3b23a",
   "metadata": {
    "tags": []
   },
   "outputs": [
    {
     "name": "stdout",
     "output_type": "stream",
     "text": [
      "Number of rows match up: True\n",
      "<class 'pandas.core.frame.DataFrame'>\n",
      "RangeIndex: 49655 entries, 0 to 49654\n",
      "Data columns (total 2 columns):\n",
      " #   Column                      Non-Null Count  Dtype              \n",
      "---  ------                      --------------  -----              \n",
      " 0   datetime_cet                49655 non-null  datetime64[ns, CET]\n",
      " 1   actual_generated_smard_mwh  49655 non-null  float64            \n",
      "dtypes: datetime64[ns, CET](1), float64(1)\n",
      "memory usage: 776.0 KB\n"
     ]
    }
   ],
   "source": [
    "# Load SMARD data\n",
    "df_smard_generated = load_SMARD_generated_data()\n",
    "df_smard_generated.info()"
   ]
  },
  {
   "cell_type": "code",
   "execution_count": 1222,
   "id": "b5c04cd6-c69b-4f24-ae2f-a97192f1add6",
   "metadata": {
    "tags": []
   },
   "outputs": [
    {
     "data": {
      "text/plain": [
       "datetime_cet                  0\n",
       "actual_generated_smard_mwh    0\n",
       "dtype: int64"
      ]
     },
     "execution_count": 1222,
     "metadata": {},
     "output_type": "execute_result"
    }
   ],
   "source": [
    "df_smard_generated.isna().sum()"
   ]
  },
  {
   "cell_type": "markdown",
   "id": "b03ae16e-a4b7-4174-9e46-8e48fc6310a9",
   "metadata": {},
   "source": [
    "-----"
   ]
  },
  {
   "cell_type": "markdown",
   "id": "5ee3ed30-dd65-4a6d-8526-b4f97478de70",
   "metadata": {},
   "source": [
    "### Load in SMARD day-ahead prices\n",
    "- Wholesale prices: https://www.smard.de/page/en/wiki-article/5884/5976\n",
    "- This is the day-ahead price!\n",
    "    - \"Weighted wholesale electricity price (day-ahead price on the exchange) for each hour [€/MWh] determined on the day-ahead auction that took place ones on the previous day - data is delivered no later than 2 hours after trading closes. Source: ENTSO-E\"\n",
    "- Data only goes back to 2018-10-01 (October 1, 2018)\n",
    "- This is for the bidding area Germany/Luxembourg (not just Germany)"
   ]
  },
  {
   "cell_type": "code",
   "execution_count": 1223,
   "id": "58b57c79-8906-45b3-88b1-80be43113775",
   "metadata": {
    "tags": []
   },
   "outputs": [],
   "source": [
    "# Get all SMARD CSV files, load into dataframes, and concat them\n",
    "\n",
    "def load_SMARD_market_price_data():\n",
    "    \"\"\"\n",
    "    Look for CSV files in the SMARD directory\n",
    "    \"\"\"\n",
    "    list_of_dataframes = []\n",
    "    for filepath in data_path.joinpath('SMARD').iterdir():\n",
    "        if filepath.name.startswith('Gro_handelspreise'):\n",
    "            list_of_dataframes.append(pd.read_csv(filepath, sep=';', na_values='-'))\n",
    "            \n",
    "    # Check that num of rows is what I expect after concatenating dfs\n",
    "    num_of_rows = 0\n",
    "    for df in list_of_dataframes:\n",
    "        num_of_rows += len(df)\n",
    "    \n",
    "    # concat dataframes\n",
    "    df = pd.concat(list_of_dataframes)\n",
    "    print(f'Number of rows match up: {num_of_rows == len(df)}')\n",
    "    \n",
    "    # Select columns to keep\n",
    "    # Note: I'm using the interval start time to create the timestamps\n",
    "    # ERA5 surface parameters are instantaneous so can't perfectly align anyway\n",
    "    df = df[[\n",
    "        'Datum',\n",
    "        'Anfang',\n",
    "        # 'Ende',\n",
    "        'Deutschland/Luxemburg [€/MWh] Originalauflösungen'\n",
    "    ]]\n",
    "    \n",
    "    # rename columns\n",
    "    df.rename(columns={\n",
    "        'Datum': 'date',\n",
    "        'Anfang': 'interval_start_time', \n",
    "        # 'Ende': 'interval_end_time',\n",
    "        'Deutschland/Luxemburg [€/MWh] Originalauflösungen': 'day_ahead_price_eur_mwh'\n",
    "    }, inplace=True)\n",
    "    \n",
    "    # Handle dates and times to create unified datetime64 timestamps\n",
    "    df['date'] = pd.to_datetime(df['date'], format='%d.%m.%Y')\n",
    "    df['start_time_delta'] = pd.to_timedelta(df['interval_start_time'] + ':00')\n",
    "    df['datetime_cet'] = df['date'] + df['start_time_delta']\n",
    "    # Add CET timezone info and infer change from CET->CEST->CET, etc\n",
    "    df['datetime_cet'] = df['datetime_cet'].dt.tz_localize(tz='CET', ambiguous='infer')\n",
    "    \n",
    "    # Drop un-needed columns\n",
    "    df = df.drop(columns=['date', 'start_time_delta', 'interval_start_time'])\n",
    "    # Re-arrange columns\n",
    "    df = df[['datetime_cet', 'day_ahead_price_eur_mwh']]\n",
    "    \n",
    "    # Convert European thousands and decimal seperators in values to (US/UK) decimal full stop format\n",
    "    translation_table = str.maketrans({'.': None, ',': '.'})\n",
    "    df['day_ahead_price_eur_mwh'] = df['day_ahead_price_eur_mwh'].str.translate(translation_table).astype(float)\n",
    "    \n",
    "    # Drop the numerous (700+) duplicate rows\n",
    "    df.drop_duplicates(subset='datetime_cet', inplace=True)\n",
    "    # Sort rows by datetime_cet\n",
    "    df.sort_values('datetime_cet', inplace=True)\n",
    "    # Reset index\n",
    "    df.reset_index(drop=True, inplace=True)\n",
    "    \n",
    "    return df.copy()"
   ]
  },
  {
   "cell_type": "code",
   "execution_count": 1224,
   "id": "0ba10680-0ec5-4008-8b61-efc90d159c21",
   "metadata": {
    "tags": []
   },
   "outputs": [
    {
     "name": "stdout",
     "output_type": "stream",
     "text": [
      "Number of rows match up: True\n"
     ]
    }
   ],
   "source": [
    "df_smard_market_price = load_SMARD_market_price_data()"
   ]
  },
  {
   "cell_type": "code",
   "execution_count": 1225,
   "id": "711e5f87-95df-4c49-af34-5790dab56acf",
   "metadata": {
    "tags": []
   },
   "outputs": [
    {
     "data": {
      "text/plain": [
       "datetime_cet                  0\n",
       "day_ahead_price_eur_mwh    6551\n",
       "dtype: int64"
      ]
     },
     "execution_count": 1225,
     "metadata": {},
     "output_type": "execute_result"
    }
   ],
   "source": [
    "df_smard_market_price.isna().sum()"
   ]
  },
  {
   "cell_type": "code",
   "execution_count": 1226,
   "id": "07a8495e-e2c7-44a3-acb2-8b744038b2a6",
   "metadata": {
    "tags": []
   },
   "outputs": [
    {
     "data": {
      "text/plain": [
       "count    43104.000000\n",
       "mean        97.537291\n",
       "std        106.238714\n",
       "min       -500.000000\n",
       "25%         35.260000\n",
       "50%         55.155000\n",
       "75%        118.750000\n",
       "max        871.000000\n",
       "Name: day_ahead_price_eur_mwh, dtype: float64"
      ]
     },
     "execution_count": 1226,
     "metadata": {},
     "output_type": "execute_result"
    }
   ],
   "source": [
    "df_smard_market_price['day_ahead_price_eur_mwh'].describe()"
   ]
  },
  {
   "cell_type": "markdown",
   "id": "b1390efc-5355-4ea2-a6a0-347edb76b444",
   "metadata": {},
   "source": [
    "-----"
   ]
  },
  {
   "cell_type": "markdown",
   "id": "59e0627e-fdce-497a-80b6-33bec255295e",
   "metadata": {},
   "source": [
    "### Load in SMARD installed capacity data\n",
    "- Note: CSV reader infers decimal comma (European) format 54.499 as decimal point 54.499 even though it's 54,499.00!\n",
    "    - Specify dtype of column in the read_csv method"
   ]
  },
  {
   "cell_type": "code",
   "execution_count": 1227,
   "id": "f361fedf-2472-4048-8039-67f9230d05e3",
   "metadata": {
    "tags": []
   },
   "outputs": [],
   "source": [
    "def load_SMARD_installed_capacity_data():\n",
    "    \"\"\"\n",
    "    Look for CSV files in the SMARD directory\n",
    "    \"\"\"\n",
    "    list_of_dataframes = []\n",
    "    for filepath in data_path.joinpath('SMARD').iterdir():\n",
    "        if filepath.name.startswith('Installierte_Erzeugungsleistung'):\n",
    "            list_of_dataframes.append(\n",
    "                pd.read_csv(filepath, sep=';', dtype={'Wind Onshore [MW] Berechnete Auflösungen': str})\n",
    "            )\n",
    "            \n",
    "    # Check that num of rows is what I expect after concatenating dfs\n",
    "    num_of_rows = 0\n",
    "    for df in list_of_dataframes:\n",
    "        num_of_rows += len(df)\n",
    "    \n",
    "    # concat dataframes\n",
    "    df = pd.concat(list_of_dataframes)\n",
    "    print(f'Number of rows match up: {num_of_rows == len(df)}')\n",
    "    \n",
    "    # Select columns to keep\n",
    "    # Note: I'm using the interval start time to create the timestamps\n",
    "    # ERA5 surface parameters are instantaneous so can't perfectly align anyway\n",
    "    df = df[[\n",
    "        'Datum',\n",
    "        'Anfang',\n",
    "        # 'Ende',\n",
    "        'Wind Onshore [MW] Berechnete Auflösungen'\n",
    "    ]]\n",
    "    \n",
    "    # rename columns\n",
    "    df.rename(columns={\n",
    "        'Datum': 'date',\n",
    "        'Anfang': 'interval_start_time', \n",
    "        # 'Ende': 'interval_end_time',\n",
    "        'Wind Onshore [MW] Berechnete Auflösungen': 'total_nominal_capacity_smard_mw'\n",
    "    }, inplace=True)\n",
    "    \n",
    "    # Handle dates and times to create unified datetime64 timestamps\n",
    "    df['date'] = pd.to_datetime(df['date'], format='%d.%m.%Y')\n",
    "    df['start_time_delta'] = pd.to_timedelta(df['interval_start_time'] + ':00')\n",
    "    df['datetime_cet'] = df['date'] + df['start_time_delta']\n",
    "    # Add CET timezone info and infer change from CET->CEST->CET, etc\n",
    "    df['datetime_cet'] = df['datetime_cet'].dt.tz_localize(tz='CET', ambiguous='infer')\n",
    "    \n",
    "    # Drop un-needed columns\n",
    "    df = df.drop(columns=['date', 'start_time_delta', 'interval_start_time'])\n",
    "    # Re-arrange columns\n",
    "    df = df[['datetime_cet', 'total_nominal_capacity_smard_mw']]\n",
    "    \n",
    "    # Convert European thousands and decimal seperators in values to (US/UK) decimal full stop format\n",
    "    translation_table = str.maketrans({'.': None, ',': '.'})\n",
    "    df['total_nominal_capacity_smard_mw'] = df['total_nominal_capacity_smard_mw'].str.translate(translation_table).astype(float)\n",
    "    \n",
    "    # Sort rows by datetime_cet\n",
    "    df.sort_values('datetime_cet', inplace=True)\n",
    "    # Reset index\n",
    "    df.reset_index(drop=True, inplace=True)\n",
    "    \n",
    "    return df.copy()"
   ]
  },
  {
   "cell_type": "code",
   "execution_count": 1228,
   "id": "888a84e1-95e8-4921-a7d4-df7db6a234af",
   "metadata": {
    "tags": []
   },
   "outputs": [
    {
     "name": "stdout",
     "output_type": "stream",
     "text": [
      "Number of rows match up: True\n"
     ]
    }
   ],
   "source": [
    "df_smard_installed_capacity = load_SMARD_installed_capacity_data()"
   ]
  },
  {
   "cell_type": "code",
   "execution_count": 1229,
   "id": "94ed203e-734c-460f-a350-6ca262ba7be6",
   "metadata": {
    "tags": []
   },
   "outputs": [
    {
     "name": "stdout",
     "output_type": "stream",
     "text": [
      "<class 'pandas.core.frame.DataFrame'>\n",
      "RangeIndex: 49655 entries, 0 to 49654\n",
      "Data columns (total 2 columns):\n",
      " #   Column                           Non-Null Count  Dtype              \n",
      "---  ------                           --------------  -----              \n",
      " 0   datetime_cet                     49655 non-null  datetime64[ns, CET]\n",
      " 1   total_nominal_capacity_smard_mw  49655 non-null  float64            \n",
      "dtypes: datetime64[ns, CET](1), float64(1)\n",
      "memory usage: 776.0 KB\n"
     ]
    }
   ],
   "source": [
    "df_smard_installed_capacity.info()"
   ]
  },
  {
   "cell_type": "code",
   "execution_count": 1230,
   "id": "6fd4bfd2-ec57-40b3-88f8-1511ff39073d",
   "metadata": {
    "tags": []
   },
   "outputs": [
    {
     "data": {
      "text/plain": [
       "datetime_cet                       0\n",
       "total_nominal_capacity_smard_mw    0\n",
       "dtype: int64"
      ]
     },
     "execution_count": 1230,
     "metadata": {},
     "output_type": "execute_result"
    }
   ],
   "source": [
    "df_smard_installed_capacity.isna().sum()"
   ]
  },
  {
   "cell_type": "markdown",
   "id": "4831fa1f-bb2a-4b9f-ae27-2f9cdaeb8a00",
   "metadata": {},
   "source": [
    "------"
   ]
  },
  {
   "cell_type": "markdown",
   "id": "c9ddb688-d9f2-40b5-839f-82073d53ba6a",
   "metadata": {},
   "source": [
    "### Load in SMARD day-ahead generation forecast\n",
    "- Wind Onshore [MWh] Berechnete Auflösungen for Germany\n",
    "- Only has 24 missing values for the day of 2022-12-21 (verified on SMARD data visuals)\n",
    "- TSOs transmit their forecasts to the ENTSO-E transparency platform no later than 18:00 of the previous day"
   ]
  },
  {
   "cell_type": "code",
   "execution_count": 1231,
   "id": "a33ca2cf-0d43-4582-9ff2-dc710d7906a4",
   "metadata": {
    "tags": []
   },
   "outputs": [],
   "source": [
    "def load_SMARD_forecasted_generation_data():\n",
    "    \"\"\"\n",
    "    Look for CSV files in the SMARD directory\n",
    "    \"\"\"\n",
    "    list_of_dataframes = []\n",
    "    for filepath in data_path.joinpath('SMARD').iterdir():\n",
    "        if filepath.name.startswith('Prognostizierte_Erzeugung_Day-Ahead'):\n",
    "            list_of_dataframes.append(pd.read_csv(filepath, sep=';', na_values='-'))\n",
    "            \n",
    "    # Check that num of rows is what I expect after concatenating dfs\n",
    "    num_of_rows = 0\n",
    "    for df in list_of_dataframes:\n",
    "        num_of_rows += len(df)\n",
    "    \n",
    "    # concat dataframes\n",
    "    df = pd.concat(list_of_dataframes)\n",
    "    print(f'Number of rows match up: {num_of_rows == len(df)}')\n",
    "    \n",
    "    # Select columns to keep\n",
    "    # Note: I'm using the interval start time to create the timestamps\n",
    "    # ERA5 surface parameters are instantaneous so can't perfectly align anyway\n",
    "    df = df[[\n",
    "        'Datum',\n",
    "        'Anfang',\n",
    "        # 'Ende',\n",
    "        'Wind Onshore [MWh] Berechnete Auflösungen'\n",
    "    ]]\n",
    "    \n",
    "    # rename columns\n",
    "    df.rename(columns={\n",
    "        'Datum': 'date',\n",
    "        'Anfang': 'interval_start_time', \n",
    "        # 'Ende': 'interval_end_time',\n",
    "        'Wind Onshore [MWh] Berechnete Auflösungen': 'forecasted_generation_smard_mwh'\n",
    "    }, inplace=True)\n",
    "    \n",
    "    # Handle dates and times to create unified datetime64 timestamps\n",
    "    df['date'] = pd.to_datetime(df['date'], format='%d.%m.%Y')\n",
    "    df['start_time_delta'] = pd.to_timedelta(df['interval_start_time'] + ':00')\n",
    "    df['datetime_cet'] = df['date'] + df['start_time_delta']\n",
    "    # Add CET timezone info and infer change from CET->CEST->CET, etc\n",
    "    df['datetime_cet'] = df['datetime_cet'].dt.tz_localize(tz='CET', ambiguous='infer')\n",
    "    \n",
    "    # Drop un-needed columns\n",
    "    df = df.drop(columns=['date', 'start_time_delta', 'interval_start_time'])\n",
    "    # Re-arrange columns\n",
    "    df = df[['datetime_cet', 'forecasted_generation_smard_mwh']]\n",
    "    \n",
    "    # Convert European thousands and decimal seperators in values to (US/UK) decimal full stop format\n",
    "    translation_table = str.maketrans({'.': None, ',': '.'})\n",
    "    df['forecasted_generation_smard_mwh'] = df['forecasted_generation_smard_mwh'].str.translate(translation_table).astype(float)\n",
    "        \n",
    "    # Sort rows by datetime_cet\n",
    "    df.sort_values('datetime_cet', inplace=True)\n",
    "    # Reset index\n",
    "    df.reset_index(drop=True, inplace=True)\n",
    "    \n",
    "    return df.copy()"
   ]
  },
  {
   "cell_type": "code",
   "execution_count": 1232,
   "id": "3b1658ac-b2a4-47f3-9b4a-7bf9df8e9ebc",
   "metadata": {
    "tags": []
   },
   "outputs": [
    {
     "name": "stdout",
     "output_type": "stream",
     "text": [
      "Number of rows match up: True\n"
     ]
    }
   ],
   "source": [
    "df_smard_forecasted_generation = load_SMARD_forecasted_generation_data()"
   ]
  },
  {
   "cell_type": "code",
   "execution_count": 1233,
   "id": "e35dc963-ee2a-4cd6-9633-6f3eebec9dfb",
   "metadata": {
    "tags": []
   },
   "outputs": [
    {
     "name": "stdout",
     "output_type": "stream",
     "text": [
      "<class 'pandas.core.frame.DataFrame'>\n",
      "RangeIndex: 49655 entries, 0 to 49654\n",
      "Data columns (total 2 columns):\n",
      " #   Column                           Non-Null Count  Dtype              \n",
      "---  ------                           --------------  -----              \n",
      " 0   datetime_cet                     49655 non-null  datetime64[ns, CET]\n",
      " 1   forecasted_generation_smard_mwh  49631 non-null  float64            \n",
      "dtypes: datetime64[ns, CET](1), float64(1)\n",
      "memory usage: 776.0 KB\n"
     ]
    }
   ],
   "source": [
    "df_smard_forecasted_generation.info()"
   ]
  },
  {
   "cell_type": "code",
   "execution_count": 1234,
   "id": "ea0d11dd-8560-42c0-a903-82c777eb78f0",
   "metadata": {
    "tags": []
   },
   "outputs": [
    {
     "data": {
      "text/plain": [
       "datetime_cet                        0\n",
       "forecasted_generation_smard_mwh    24\n",
       "dtype: int64"
      ]
     },
     "execution_count": 1234,
     "metadata": {},
     "output_type": "execute_result"
    }
   ],
   "source": [
    "df_smard_forecasted_generation.isna().sum()"
   ]
  },
  {
   "cell_type": "markdown",
   "id": "38422baf-a79f-49b9-835d-d4b5d1cf61c7",
   "metadata": {},
   "source": [
    "-----"
   ]
  },
  {
   "cell_type": "markdown",
   "id": "1ba2c31b-6791-481a-b358-f087fa3420c7",
   "metadata": {},
   "source": [
    "-----"
   ]
  },
  {
   "cell_type": "markdown",
   "id": "de974db7-3217-4bdf-a4c1-aa2eba699b22",
   "metadata": {},
   "source": [
    "# Begin building ML dataframe `df_main`\n",
    "- Start with one full year: 2022\n",
    "    - Then bring in another year like 2021 and run through the same transformations and then concat along datetimeindex?\n",
    "- Good resource on time-related feature engineering: https://scikit-learn.org/stable/auto_examples/applications/plot_cyclical_feature_engineering.html"
   ]
  },
  {
   "cell_type": "code",
   "execution_count": 1235,
   "id": "6fbe7769-32ac-446d-a262-f11297b79026",
   "metadata": {
    "tags": []
   },
   "outputs": [
    {
     "data": {
      "text/html": [
       "<div>\n",
       "<style scoped>\n",
       "    .dataframe tbody tr th:only-of-type {\n",
       "        vertical-align: middle;\n",
       "    }\n",
       "\n",
       "    .dataframe tbody tr th {\n",
       "        vertical-align: top;\n",
       "    }\n",
       "\n",
       "    .dataframe thead th {\n",
       "        text-align: right;\n",
       "    }\n",
       "</style>\n",
       "<table border=\"1\" class=\"dataframe\">\n",
       "  <thead>\n",
       "    <tr style=\"text-align: right;\">\n",
       "      <th></th>\n",
       "      <th>datetime_utc</th>\n",
       "      <th>hour</th>\n",
       "      <th>day_of_week</th>\n",
       "      <th>day_of_month</th>\n",
       "      <th>month_number</th>\n",
       "      <th>year</th>\n",
       "      <th>meteorological_season</th>\n",
       "    </tr>\n",
       "  </thead>\n",
       "  <tbody>\n",
       "    <tr>\n",
       "      <th>0</th>\n",
       "      <td>2018-01-01 00:00:00+00:00</td>\n",
       "      <td>0</td>\n",
       "      <td>0</td>\n",
       "      <td>1</td>\n",
       "      <td>1</td>\n",
       "      <td>2018</td>\n",
       "      <td>winter</td>\n",
       "    </tr>\n",
       "    <tr>\n",
       "      <th>1</th>\n",
       "      <td>2018-01-01 01:00:00+00:00</td>\n",
       "      <td>1</td>\n",
       "      <td>0</td>\n",
       "      <td>1</td>\n",
       "      <td>1</td>\n",
       "      <td>2018</td>\n",
       "      <td>winter</td>\n",
       "    </tr>\n",
       "    <tr>\n",
       "      <th>2</th>\n",
       "      <td>2018-01-01 02:00:00+00:00</td>\n",
       "      <td>2</td>\n",
       "      <td>0</td>\n",
       "      <td>1</td>\n",
       "      <td>1</td>\n",
       "      <td>2018</td>\n",
       "      <td>winter</td>\n",
       "    </tr>\n",
       "    <tr>\n",
       "      <th>3</th>\n",
       "      <td>2018-01-01 03:00:00+00:00</td>\n",
       "      <td>3</td>\n",
       "      <td>0</td>\n",
       "      <td>1</td>\n",
       "      <td>1</td>\n",
       "      <td>2018</td>\n",
       "      <td>winter</td>\n",
       "    </tr>\n",
       "    <tr>\n",
       "      <th>4</th>\n",
       "      <td>2018-01-01 04:00:00+00:00</td>\n",
       "      <td>4</td>\n",
       "      <td>0</td>\n",
       "      <td>1</td>\n",
       "      <td>1</td>\n",
       "      <td>2018</td>\n",
       "      <td>winter</td>\n",
       "    </tr>\n",
       "    <tr>\n",
       "      <th>...</th>\n",
       "      <td>...</td>\n",
       "      <td>...</td>\n",
       "      <td>...</td>\n",
       "      <td>...</td>\n",
       "      <td>...</td>\n",
       "      <td>...</td>\n",
       "      <td>...</td>\n",
       "    </tr>\n",
       "    <tr>\n",
       "      <th>49651</th>\n",
       "      <td>2023-08-31 19:00:00+00:00</td>\n",
       "      <td>19</td>\n",
       "      <td>3</td>\n",
       "      <td>31</td>\n",
       "      <td>8</td>\n",
       "      <td>2023</td>\n",
       "      <td>summer</td>\n",
       "    </tr>\n",
       "    <tr>\n",
       "      <th>49652</th>\n",
       "      <td>2023-08-31 20:00:00+00:00</td>\n",
       "      <td>20</td>\n",
       "      <td>3</td>\n",
       "      <td>31</td>\n",
       "      <td>8</td>\n",
       "      <td>2023</td>\n",
       "      <td>summer</td>\n",
       "    </tr>\n",
       "    <tr>\n",
       "      <th>49653</th>\n",
       "      <td>2023-08-31 21:00:00+00:00</td>\n",
       "      <td>21</td>\n",
       "      <td>3</td>\n",
       "      <td>31</td>\n",
       "      <td>8</td>\n",
       "      <td>2023</td>\n",
       "      <td>summer</td>\n",
       "    </tr>\n",
       "    <tr>\n",
       "      <th>49654</th>\n",
       "      <td>2023-08-31 22:00:00+00:00</td>\n",
       "      <td>22</td>\n",
       "      <td>3</td>\n",
       "      <td>31</td>\n",
       "      <td>8</td>\n",
       "      <td>2023</td>\n",
       "      <td>summer</td>\n",
       "    </tr>\n",
       "    <tr>\n",
       "      <th>49655</th>\n",
       "      <td>2023-08-31 23:00:00+00:00</td>\n",
       "      <td>23</td>\n",
       "      <td>3</td>\n",
       "      <td>31</td>\n",
       "      <td>8</td>\n",
       "      <td>2023</td>\n",
       "      <td>summer</td>\n",
       "    </tr>\n",
       "  </tbody>\n",
       "</table>\n",
       "<p>49656 rows × 7 columns</p>\n",
       "</div>"
      ],
      "text/plain": [
       "                   datetime_utc  hour  day_of_week  day_of_month  \\\n",
       "0     2018-01-01 00:00:00+00:00     0            0             1   \n",
       "1     2018-01-01 01:00:00+00:00     1            0             1   \n",
       "2     2018-01-01 02:00:00+00:00     2            0             1   \n",
       "3     2018-01-01 03:00:00+00:00     3            0             1   \n",
       "4     2018-01-01 04:00:00+00:00     4            0             1   \n",
       "...                         ...   ...          ...           ...   \n",
       "49651 2023-08-31 19:00:00+00:00    19            3            31   \n",
       "49652 2023-08-31 20:00:00+00:00    20            3            31   \n",
       "49653 2023-08-31 21:00:00+00:00    21            3            31   \n",
       "49654 2023-08-31 22:00:00+00:00    22            3            31   \n",
       "49655 2023-08-31 23:00:00+00:00    23            3            31   \n",
       "\n",
       "       month_number  year meteorological_season  \n",
       "0                 1  2018                winter  \n",
       "1                 1  2018                winter  \n",
       "2                 1  2018                winter  \n",
       "3                 1  2018                winter  \n",
       "4                 1  2018                winter  \n",
       "...             ...   ...                   ...  \n",
       "49651             8  2023                summer  \n",
       "49652             8  2023                summer  \n",
       "49653             8  2023                summer  \n",
       "49654             8  2023                summer  \n",
       "49655             8  2023                summer  \n",
       "\n",
       "[49656 rows x 7 columns]"
      ]
     },
     "execution_count": 1235,
     "metadata": {},
     "output_type": "execute_result"
    }
   ],
   "source": [
    "# Make time zone aware UTC?\n",
    "datetime_index_utc = pd.date_range(start='2018-01-01', end='2023-08-31 23:59:59', freq='H', name='datetime_utc', tz='UTC')\n",
    "\n",
    "# Make index to dataframe and reset\n",
    "df_main = datetime_index_utc.to_frame().reset_index(drop=True)\n",
    "\n",
    "# Extract properties and derive new columns\n",
    "df_main['hour'] = df_main['datetime_utc'].dt.hour\n",
    "# 0-6 (Monday-Sunday)\n",
    "df_main['day_of_week'] = df_main['datetime_utc'].dt.dayofweek\n",
    "df_main['day_of_month'] = df_main['datetime_utc'].dt.day\n",
    "df_main['month_number'] = df_main['datetime_utc'].dt.month\n",
    "df_main['year'] = df_main['datetime_utc'].dt.year\n",
    "\n",
    "# Function to get meteorological season based on month number (1-12)\n",
    "# Should I just go ahead and encode the discrete numerical value?\n",
    "def get_meteorological_season(month):\n",
    "    if 3 <= month <= 5:\n",
    "        return 'spring'\n",
    "    elif 6 <= month <= 8:\n",
    "        return 'summer'\n",
    "    elif 9 <= month <= 11:\n",
    "        return 'autumn'\n",
    "    else:\n",
    "        return 'winter'\n",
    "    \n",
    "df_main['meteorological_season'] = df_main['month_number'].apply(get_meteorological_season)\n",
    "\n",
    "df_main"
   ]
  },
  {
   "cell_type": "markdown",
   "id": "23dcf113-d403-4117-89d2-bece362f52cc",
   "metadata": {},
   "source": [
    "----"
   ]
  },
  {
   "cell_type": "markdown",
   "id": "4958a86a-adc1-4399-bbf1-4d0f4ad1a26e",
   "metadata": {},
   "source": [
    "## Derive new columns `turbines_in_operation` and `total_nominal_capacity_operational_turbines_mw`"
   ]
  },
  {
   "cell_type": "markdown",
   "id": "58ba8c6d-52fb-479e-9fd0-8a9a0d6702ee",
   "metadata": {},
   "source": [
    "#### Function to check if turbine operational at a given UTC hour timestamp"
   ]
  },
  {
   "cell_type": "code",
   "execution_count": 1236,
   "id": "67ca575e-6270-484d-9ae1-1515ade674ca",
   "metadata": {
    "tags": []
   },
   "outputs": [],
   "source": [
    "def is_operational(timestamp_utc, df_turbines):\n",
    "    \"\"\"\n",
    "    Inputs: hourly tz aware utc timestamps, turbine dataframe\n",
    "    Get a bool series of turbines that are operational at the time of the [hourly] timestamp\n",
    "    \"\"\"\n",
    "    # Turbines that went into operation before the timestamp; returns bool series for bool indexing\n",
    "    started_operations = df_turbines['Inbetriebnahmedatum'] <= timestamp_utc\n",
    "\n",
    "    # Turbines already decommissioned before the timestamp; returns bool series for bool indexing\n",
    "    already_decommissioned = df_turbines['DatumEndgueltigeStilllegung'] <= timestamp_utc\n",
    "\n",
    "    # Turbines that went into maintenance before timestamp and haven't come back into operation before the timestamp\n",
    "    # Note: Some turbines go straight from temporary maintenance to decommissioned without ever going back into operation\n",
    "    still_in_maintenance_or_decommissioned = (df_turbines['DatumBeginnVoruebergehendeStilllegung'] <= timestamp_utc) & \\\n",
    "    ((df_turbines['DatumWiederaufnahmeBetrieb'] > timestamp_utc) | df_turbines['DatumWiederaufnahmeBetrieb'].isna())\n",
    "\n",
    "    # Number of turbines operational at the timestamp\n",
    "    # Note the tildas to inverse these bool series\n",
    "    # This is a bool series with df_turbines index\n",
    "    turbines_in_operation_bool_series = (started_operations & ~already_decommissioned & ~still_in_maintenance_or_decommissioned)\n",
    "\n",
    "    return turbines_in_operation_bool_series"
   ]
  },
  {
   "cell_type": "markdown",
   "id": "4dd13a8b-8e19-4d98-a673-11b469fc868b",
   "metadata": {},
   "source": [
    "##### Derive column for total turbines in operation for every hourly timestamp"
   ]
  },
  {
   "cell_type": "code",
   "execution_count": 1237,
   "id": "5cd5411d-7359-452f-b6de-7ab18e1d2d11",
   "metadata": {
    "tags": []
   },
   "outputs": [],
   "source": [
    "# 1min 7s to run for 2018-23\n",
    "df_main['turbines_in_operation'] = df_main['datetime_utc'].apply(lambda timestamp: is_operational(timestamp, df_turbines).sum())"
   ]
  },
  {
   "cell_type": "markdown",
   "id": "16931cec-e622-40ba-9c0c-87ec1719debd",
   "metadata": {},
   "source": [
    "##### Derive column for total nominal capacity for every hourly timestamp"
   ]
  },
  {
   "cell_type": "code",
   "execution_count": 1238,
   "id": "ea22436c-4276-43a7-b002-b23c07a97a66",
   "metadata": {
    "tags": []
   },
   "outputs": [],
   "source": [
    "# Nettonennleistung is in kW; I divide by 1_000 to convert kilo-watts (kW) to mega-watts (MW)\n",
    "# 1min 30s to run for 2018-23\n",
    "df_main['total_nominal_capacity_operational_turbines_mw'] = df_main['datetime_utc'].apply(\n",
    "    lambda timestamp: df_turbines.loc[:, 'Nettonennleistung'].loc[is_operational(timestamp, df_turbines)].sum() / 1_000)"
   ]
  },
  {
   "cell_type": "markdown",
   "id": "3c47e39f-135c-4110-917a-d1f9c29ebda6",
   "metadata": {},
   "source": [
    "#### Save progress to pickle"
   ]
  },
  {
   "cell_type": "code",
   "execution_count": 1240,
   "id": "6ae08b6e-b45b-4038-a0f5-e7acef9bdfca",
   "metadata": {
    "tags": []
   },
   "outputs": [],
   "source": [
    "# df_main.to_pickle(data_push_path / 'df_main.pkl')"
   ]
  },
  {
   "cell_type": "code",
   "execution_count": 1241,
   "id": "10150896-efe0-496d-a60c-1ae77165da5b",
   "metadata": {
    "tags": []
   },
   "outputs": [],
   "source": [
    "# df_main['turbines_in_operation'].plot()"
   ]
  },
  {
   "cell_type": "code",
   "execution_count": 1242,
   "id": "27ca57a6-aff7-4627-ba3d-52c42d828fa4",
   "metadata": {
    "tags": []
   },
   "outputs": [],
   "source": [
    "# df_main['total_nominal_capacity_operational_turbines_mw'].plot()"
   ]
  },
  {
   "cell_type": "code",
   "execution_count": 1243,
   "id": "874c4dca-addc-4089-ae3a-726eafa79e0c",
   "metadata": {
    "tags": []
   },
   "outputs": [
    {
     "name": "stdout",
     "output_type": "stream",
     "text": [
      "<class 'pandas.core.frame.DataFrame'>\n",
      "RangeIndex: 49656 entries, 0 to 49655\n",
      "Data columns (total 9 columns):\n",
      " #   Column                                          Non-Null Count  Dtype              \n",
      "---  ------                                          --------------  -----              \n",
      " 0   datetime_utc                                    49656 non-null  datetime64[ns, UTC]\n",
      " 1   hour                                            49656 non-null  int32              \n",
      " 2   day_of_week                                     49656 non-null  int32              \n",
      " 3   day_of_month                                    49656 non-null  int32              \n",
      " 4   month_number                                    49656 non-null  int32              \n",
      " 5   year                                            49656 non-null  int32              \n",
      " 6   meteorological_season                           49656 non-null  object             \n",
      " 7   turbines_in_operation                           49656 non-null  int64              \n",
      " 8   total_nominal_capacity_operational_turbines_mw  49656 non-null  float64            \n",
      "dtypes: datetime64[ns, UTC](1), float64(1), int32(5), int64(1), object(1)\n",
      "memory usage: 5.1 MB\n"
     ]
    }
   ],
   "source": [
    "df_main.info(memory_usage='deep')"
   ]
  },
  {
   "cell_type": "markdown",
   "id": "0486df29-ed07-4d11-ae78-4163d385c03a",
   "metadata": {},
   "source": [
    "-----"
   ]
  },
  {
   "cell_type": "markdown",
   "id": "89d489ca-6e9c-48b8-b18d-0db331af9f0f",
   "metadata": {},
   "source": [
    "## Merge SMARD data onto `df_main` on key datetime\n",
    "- Dataframes to merge with `df_main`:\n",
    "    - `df_smard_generated`\n",
    "    - `df_smard_market_price`\n",
    "    - `df_smard_installed_capacity`\n",
    "    - `df_smard_forecasted_generation`"
   ]
  },
  {
   "cell_type": "markdown",
   "id": "5fdcf8a4-c57f-42d1-908f-b9a5e2d48da7",
   "metadata": {},
   "source": [
    "##### Load in latest `df_main`"
   ]
  },
  {
   "cell_type": "code",
   "execution_count": 1244,
   "id": "1eb7f5ec-2e30-4a9a-8ff0-28bf9b72cfa3",
   "metadata": {
    "tags": []
   },
   "outputs": [
    {
     "name": "stdout",
     "output_type": "stream",
     "text": [
      "<class 'pandas.core.frame.DataFrame'>\n",
      "RangeIndex: 49656 entries, 0 to 49655\n",
      "Data columns (total 9 columns):\n",
      " #   Column                                          Non-Null Count  Dtype              \n",
      "---  ------                                          --------------  -----              \n",
      " 0   datetime_utc                                    49656 non-null  datetime64[ns, UTC]\n",
      " 1   hour                                            49656 non-null  int32              \n",
      " 2   day_of_week                                     49656 non-null  int32              \n",
      " 3   day_of_month                                    49656 non-null  int32              \n",
      " 4   month_number                                    49656 non-null  int32              \n",
      " 5   year                                            49656 non-null  int32              \n",
      " 6   meteorological_season                           49656 non-null  object             \n",
      " 7   turbines_in_operation                           49656 non-null  int64              \n",
      " 8   total_nominal_capacity_operational_turbines_mw  49656 non-null  float64            \n",
      "dtypes: datetime64[ns, UTC](1), float64(1), int32(5), int64(1), object(1)\n",
      "memory usage: 2.5+ MB\n"
     ]
    }
   ],
   "source": [
    "df_main = pd.read_pickle(data_push_path / 'df_main.pkl')\n",
    "df_main.info()"
   ]
  },
  {
   "cell_type": "markdown",
   "id": "f5c31e8a-2660-4491-a68c-7224b22bfd88",
   "metadata": {},
   "source": [
    "##### Merge operations"
   ]
  },
  {
   "cell_type": "code",
   "execution_count": 1245,
   "id": "697d6021-be1c-4874-8266-8508ff0e707e",
   "metadata": {
    "tags": []
   },
   "outputs": [],
   "source": [
    "# Generated data; the response variable `y`\n",
    "# keep the datetime_cet column for reference\n",
    "df_main = df_main.merge(df_smard_generated, left_on='datetime_utc', right_on='datetime_cet', how='left')\n",
    "\n",
    "# The day-ahead price data\n",
    "# -> only add suffix to overlapping columns in right df being merged\n",
    "df_main = df_main.merge(df_smard_market_price, left_on='datetime_utc', right_on='datetime_cet', how='left', suffixes=(None, '_remove'))\n",
    "\n",
    "# Installed capacity\n",
    "df_main = df_main.merge(df_smard_installed_capacity, left_on='datetime_utc', right_on='datetime_cet', how='left', suffixes=(None, '_remove'))\n",
    "\n",
    "# The day-ahead forecasted generation\n",
    "df_main = df_main.merge(df_smard_forecasted_generation, left_on='datetime_utc', right_on='datetime_cet', how='left', suffixes=(None, '_remove'))"
   ]
  },
  {
   "cell_type": "markdown",
   "id": "07b738de-ee0b-450a-ad4e-01e3318235da",
   "metadata": {},
   "source": [
    "##### Remove all the duplicate `datetime_cet` columns with suffix `_remove`"
   ]
  },
  {
   "cell_type": "code",
   "execution_count": 1246,
   "id": "5655764f-e82b-4a63-a11e-7256cc6cf730",
   "metadata": {
    "tags": []
   },
   "outputs": [],
   "source": [
    "# filter using regex; $ binds the expression to end of a string\n",
    "df_main.drop(df_main.filter(regex='_remove$').columns, axis=1, inplace=True)"
   ]
  },
  {
   "cell_type": "markdown",
   "id": "7a4e597b-c5d9-4f21-a0e4-959b23fe9e2e",
   "metadata": {},
   "source": [
    "#### Save progress to pickle"
   ]
  },
  {
   "cell_type": "code",
   "execution_count": 1247,
   "id": "2d05a351-b65b-407e-8fd1-16f5a88466ae",
   "metadata": {
    "tags": []
   },
   "outputs": [],
   "source": [
    "# df_main.to_pickle(data_push_path / 'df_main_smard.pkl')"
   ]
  },
  {
   "cell_type": "markdown",
   "id": "6fc861e1-e05e-49f5-825b-104aebf38b64",
   "metadata": {},
   "source": [
    "-----"
   ]
  },
  {
   "cell_type": "markdown",
   "id": "39e1a79c-c43c-4c14-a20c-8bdcea0ab907",
   "metadata": {},
   "source": [
    "----"
   ]
  },
  {
   "cell_type": "markdown",
   "id": "afbbe83f-7094-4ea0-a603-ac7009bb54a6",
   "metadata": {},
   "source": [
    "# Checkpoints: Next step here..."
   ]
  },
  {
   "cell_type": "markdown",
   "id": "eb39edde-4525-483d-a75b-812abdb53aed",
   "metadata": {},
   "source": [
    "##### Load in latest `df_main`"
   ]
  },
  {
   "cell_type": "code",
   "execution_count": 1397,
   "id": "98ccf7a8-8827-48f2-a7ae-bf4521ddf910",
   "metadata": {
    "tags": []
   },
   "outputs": [
    {
     "name": "stdout",
     "output_type": "stream",
     "text": [
      "<class 'pandas.core.frame.DataFrame'>\n",
      "RangeIndex: 49656 entries, 0 to 49655\n",
      "Data columns (total 14 columns):\n",
      " #   Column                                          Non-Null Count  Dtype              \n",
      "---  ------                                          --------------  -----              \n",
      " 0   datetime_utc                                    49656 non-null  datetime64[ns, UTC]\n",
      " 1   hour                                            49656 non-null  int32              \n",
      " 2   day_of_week                                     49656 non-null  int32              \n",
      " 3   day_of_month                                    49656 non-null  int32              \n",
      " 4   month_number                                    49656 non-null  int32              \n",
      " 5   year                                            49656 non-null  int32              \n",
      " 6   meteorological_season                           49656 non-null  object             \n",
      " 7   turbines_in_operation                           49656 non-null  int64              \n",
      " 8   total_nominal_capacity_operational_turbines_mw  49656 non-null  float64            \n",
      " 9   datetime_cet                                    49654 non-null  datetime64[ns, CET]\n",
      " 10  actual_generated_smard_mwh                      49654 non-null  float64            \n",
      " 11  day_ahead_price_eur_mwh                         43104 non-null  float64            \n",
      " 12  total_nominal_capacity_smard_mw                 49654 non-null  float64            \n",
      " 13  forecasted_generation_smard_mwh                 49630 non-null  float64            \n",
      "dtypes: datetime64[ns, CET](1), datetime64[ns, UTC](1), float64(5), int32(5), int64(1), object(1)\n",
      "memory usage: 4.4+ MB\n"
     ]
    }
   ],
   "source": [
    "df_main = pd.read_pickle(data_push_path / 'df_main_smard.pkl')\n",
    "df_main.info()"
   ]
  },
  {
   "cell_type": "markdown",
   "id": "b2794fdf-ae70-4db9-8042-78083a484614",
   "metadata": {},
   "source": [
    "#### Set datetime_utc column to index"
   ]
  },
  {
   "cell_type": "code",
   "execution_count": 1398,
   "id": "d63aada3-0d33-47d5-939c-028dc0d4f5b5",
   "metadata": {
    "tags": []
   },
   "outputs": [],
   "source": [
    "df_main.set_index('datetime_utc', inplace=True)"
   ]
  },
  {
   "cell_type": "markdown",
   "id": "2f8045a2-a77b-46ff-8428-4576c6f82a2c",
   "metadata": {},
   "source": [
    "-------"
   ]
  },
  {
   "cell_type": "markdown",
   "id": "252a4803-c6d6-4be5-83ea-83aa0005c649",
   "metadata": {},
   "source": [
    "## Merge mean hourly ERA5 data vars across all used grid points into `df_main`"
   ]
  },
  {
   "cell_type": "markdown",
   "id": "67499bef-ca92-499c-8063-bcec905f5d35",
   "metadata": {},
   "source": [
    "#### Read in latest ERA5 dataset that I've combined, subsetted, and with the new data vars I derived"
   ]
  },
  {
   "cell_type": "code",
   "execution_count": 1399,
   "id": "d20ea03f-cf26-40b5-ba5c-e978db4f77a9",
   "metadata": {
    "tags": []
   },
   "outputs": [
    {
     "data": {
      "text/plain": [
       "Data variables:\n",
       "    t2m                        (time, latitude, longitude) float32 ...\n",
       "    i10fg                      (time, latitude, longitude) float32 ...\n",
       "    msl                        (time, latitude, longitude) float32 ...\n",
       "    mean_wind_speed_10m        (time, latitude, longitude) float32 ...\n",
       "    mean_wind_speed_100m       (time, latitude, longitude) float32 ...\n",
       "    wind_direction_angle_10m   (time, latitude, longitude) float32 ...\n",
       "    wind_direction_angle_100m  (time, latitude, longitude) float32 ..."
      ]
     },
     "execution_count": 1399,
     "metadata": {},
     "output_type": "execute_result"
    }
   ],
   "source": [
    "ds = xr.open_dataset(data_path.joinpath('ERA5').joinpath('era5_combined_subset_derived_dropped_masked.nc'))\n",
    "ds.data_vars"
   ]
  },
  {
   "cell_type": "markdown",
   "id": "993aa33c-6ea7-4b6d-b3c6-250fc13dbccd",
   "metadata": {},
   "source": [
    "#### How to get mean for a data var for every hour in time dimension?\n",
    "- Use `xarray.DataArray.mean`: https://docs.xarray.dev/en/stable/generated/xarray.DataArray.mean.html"
   ]
  },
  {
   "cell_type": "markdown",
   "id": "88b082db-1e78-475b-a4ba-8d73f7686990",
   "metadata": {},
   "source": [
    "-----"
   ]
  },
  {
   "cell_type": "markdown",
   "id": "75d59a00-0bb1-4699-9729-4bf630c70c1e",
   "metadata": {},
   "source": [
    "## Taking the mean of my 7 data vars across all lats and lons and assigning to pandas dataframes\n",
    "- Also localise ERA5 tz naive datetimeindex objects to tz UTC aware!"
   ]
  },
  {
   "cell_type": "code",
   "execution_count": 1400,
   "id": "771658c7-a105-40bd-8447-b8a266c967b4",
   "metadata": {
    "tags": []
   },
   "outputs": [],
   "source": [
    "# I validated that it is indeed the hourly mean across all lats and lons!\n",
    "# (ds.sel(time=['2018-01-01 00:00:00'])['mean_wind_speed_10m'].values).mean()"
   ]
  },
  {
   "cell_type": "markdown",
   "id": "ac736671-19b2-4746-bfa8-5247734ba2fb",
   "metadata": {},
   "source": [
    "#### All dataframes have index set to datetimeindex"
   ]
  },
  {
   "cell_type": "code",
   "execution_count": 1401,
   "id": "6d671ba7-d2d0-495d-97f5-4695b59ad239",
   "metadata": {
    "tags": []
   },
   "outputs": [],
   "source": [
    "# Calculate mean across all lats and lons, assign to new df, and convert naive datetimeindex to UTC tz aware\n",
    "\n",
    "# Units: m/s\n",
    "df_mean_wind_speed_10m = ds['mean_wind_speed_10m'].mean(dim=['latitude', 'longitude']).to_dataframe()\n",
    "df_mean_wind_speed_10m.index = df_mean_wind_speed_10m.index.tz_localize(tz='utc')\n",
    "\n",
    "# Units: m/s\n",
    "df_mean_wind_speed_100m = ds['mean_wind_speed_100m'].mean(dim=['latitude', 'longitude']).to_dataframe()\n",
    "df_mean_wind_speed_100m.index = df_mean_wind_speed_100m.index.tz_localize(tz='utc')\n",
    "\n",
    "# Units: degrees\n",
    "df_wind_direction_angle_10m = ds['wind_direction_angle_10m'].mean(dim=['latitude', 'longitude']).to_dataframe()\n",
    "df_wind_direction_angle_10m.index = df_wind_direction_angle_10m.index.tz_localize(tz='utc')\n",
    "\n",
    "# Units: degrees\n",
    "df_wind_direction_angle_100m = ds['wind_direction_angle_100m'].mean(dim=['latitude', 'longitude']).to_dataframe()\n",
    "df_wind_direction_angle_100m.index = df_wind_direction_angle_100m.index.tz_localize(tz='utc')\n",
    "\n",
    "# Units: Pascals (Pa)\n",
    "df_msl = ds['msl'].mean(dim=['latitude', 'longitude']).to_dataframe()\n",
    "df_msl.index = df_msl.index.tz_localize(tz='utc')\n",
    "\n",
    "# instantaneous_10m_wind_gust; units: m/s\n",
    "df_i10fg = ds['i10fg'].mean(dim=['latitude', 'longitude']).to_dataframe()\n",
    "df_i10fg.index = df_i10fg.index.tz_localize(tz='utc')\n",
    "\n",
    "# 2m_temperature; units: Kelvin\n",
    "df_t2m = ds['t2m'].mean(dim=['latitude', 'longitude']).to_dataframe()\n",
    "df_t2m.index = df_t2m.index.tz_localize(tz='utc')"
   ]
  },
  {
   "cell_type": "markdown",
   "id": "53720c9a-18ca-47f2-bfa0-2772dadf2afa",
   "metadata": {},
   "source": [
    "#### Left merge above 7 dataframes of mean values onto `df_main` using indices of both"
   ]
  },
  {
   "cell_type": "code",
   "execution_count": 1402,
   "id": "7bad684d-a8f3-43ef-974c-5ec541b6abe1",
   "metadata": {
    "tags": []
   },
   "outputs": [],
   "source": [
    "df_main = df_main.merge(df_mean_wind_speed_10m, left_index=True, right_index=True, how='left')\n",
    "df_main = df_main.merge(df_mean_wind_speed_100m, left_index=True, right_index=True, how='left')\n",
    "df_main = df_main.merge(df_wind_direction_angle_10m, left_index=True, right_index=True, how='left')\n",
    "df_main = df_main.merge(df_wind_direction_angle_100m, left_index=True, right_index=True, how='left')\n",
    "df_main = df_main.merge(df_msl, left_index=True, right_index=True, how='left')\n",
    "df_main = df_main.merge(df_i10fg, left_index=True, right_index=True, how='left')\n",
    "df_main = df_main.merge(df_t2m, left_index=True, right_index=True, how='left')"
   ]
  },
  {
   "cell_type": "code",
   "execution_count": 1403,
   "id": "7e109e86-a72a-46db-94a2-1eaf57616329",
   "metadata": {
    "tags": []
   },
   "outputs": [
    {
     "name": "stdout",
     "output_type": "stream",
     "text": [
      "<class 'pandas.core.frame.DataFrame'>\n",
      "DatetimeIndex: 49656 entries, 2018-01-01 00:00:00+00:00 to 2023-08-31 23:00:00+00:00\n",
      "Data columns (total 20 columns):\n",
      " #   Column                                          Non-Null Count  Dtype              \n",
      "---  ------                                          --------------  -----              \n",
      " 0   hour                                            49656 non-null  int32              \n",
      " 1   day_of_week                                     49656 non-null  int32              \n",
      " 2   day_of_month                                    49656 non-null  int32              \n",
      " 3   month_number                                    49656 non-null  int32              \n",
      " 4   year                                            49656 non-null  int32              \n",
      " 5   meteorological_season                           49656 non-null  object             \n",
      " 6   turbines_in_operation                           49656 non-null  int64              \n",
      " 7   total_nominal_capacity_operational_turbines_mw  49656 non-null  float64            \n",
      " 8   datetime_cet                                    49654 non-null  datetime64[ns, CET]\n",
      " 9   actual_generated_smard_mwh                      49654 non-null  float64            \n",
      " 10  day_ahead_price_eur_mwh                         43104 non-null  float64            \n",
      " 11  total_nominal_capacity_smard_mw                 49654 non-null  float64            \n",
      " 12  forecasted_generation_smard_mwh                 49630 non-null  float64            \n",
      " 13  mean_wind_speed_10m                             48168 non-null  float32            \n",
      " 14  mean_wind_speed_100m                            48168 non-null  float32            \n",
      " 15  wind_direction_angle_10m                        48168 non-null  float32            \n",
      " 16  wind_direction_angle_100m                       48168 non-null  float32            \n",
      " 17  msl                                             48168 non-null  float32            \n",
      " 18  i10fg                                           48168 non-null  float32            \n",
      " 19  t2m                                             48168 non-null  float32            \n",
      "dtypes: datetime64[ns, CET](1), float32(7), float64(5), int32(5), int64(1), object(1)\n",
      "memory usage: 6.7+ MB\n"
     ]
    }
   ],
   "source": [
    "df_main.info()"
   ]
  },
  {
   "cell_type": "code",
   "execution_count": 1404,
   "id": "d858a218-2bba-4a9a-84ff-18075de63e33",
   "metadata": {
    "tags": []
   },
   "outputs": [
    {
     "data": {
      "text/plain": [
       "hour                                                 0\n",
       "day_of_week                                          0\n",
       "day_of_month                                         0\n",
       "month_number                                         0\n",
       "year                                                 0\n",
       "meteorological_season                                0\n",
       "turbines_in_operation                                0\n",
       "total_nominal_capacity_operational_turbines_mw       0\n",
       "datetime_cet                                         2\n",
       "actual_generated_smard_mwh                           2\n",
       "day_ahead_price_eur_mwh                           6552\n",
       "total_nominal_capacity_smard_mw                      2\n",
       "forecasted_generation_smard_mwh                     26\n",
       "mean_wind_speed_10m                               1488\n",
       "mean_wind_speed_100m                              1488\n",
       "wind_direction_angle_10m                          1488\n",
       "wind_direction_angle_100m                         1488\n",
       "msl                                               1488\n",
       "i10fg                                             1488\n",
       "t2m                                               1488\n",
       "dtype: int64"
      ]
     },
     "execution_count": 1404,
     "metadata": {},
     "output_type": "execute_result"
    }
   ],
   "source": [
    "df_main.isna().sum()"
   ]
  },
  {
   "cell_type": "markdown",
   "id": "8c16d6e9-ebeb-4233-8b11-945887cb0ee1",
   "metadata": {},
   "source": [
    "#### Here I'll rename some features, convert to other units, and derive the intercardinal wind directions!\n",
    "- Pascals to hectopascal (hPa); same as millibar --> (1 hPa = 1 mb)"
   ]
  },
  {
   "cell_type": "code",
   "execution_count": 1405,
   "id": "43613b6f-95ae-48e4-beab-592b1b61c10b",
   "metadata": {
    "tags": []
   },
   "outputs": [],
   "source": [
    "df_main.rename(columns={\n",
    "    'msl': 'mean_sea_level_pressure_mb',\n",
    "    'i10fg': 'wind_gusts_10m',\n",
    "    't2m': 'temp_2m_celsius',\n",
    "}, inplace=True)"
   ]
  },
  {
   "cell_type": "code",
   "execution_count": 1406,
   "id": "bbe71c2d-f398-4001-934b-340f245cfa1a",
   "metadata": {
    "tags": []
   },
   "outputs": [
    {
     "data": {
      "text/plain": [
       "1016.3655476373059"
      ]
     },
     "execution_count": 1406,
     "metadata": {},
     "output_type": "execute_result"
    }
   ],
   "source": [
    "# Convert Pascals to hPA/mb\n",
    "df_main['mean_sea_level_pressure_mb'] = df_main['mean_sea_level_pressure_mb'].apply(lambda pressure: pressure / 100)\n",
    "df_main['mean_sea_level_pressure_mb'].mean()"
   ]
  },
  {
   "cell_type": "code",
   "execution_count": 1407,
   "id": "719316f5-d104-4944-be21-960c46af17ff",
   "metadata": {
    "tags": []
   },
   "outputs": [
    {
     "data": {
      "text/plain": [
       "10.216879226083973"
      ]
     },
     "execution_count": 1407,
     "metadata": {},
     "output_type": "execute_result"
    }
   ],
   "source": [
    "# Convert Kelvin to Celsius\n",
    "df_main['temp_2m_celsius'] = df_main['temp_2m_celsius'].apply(lambda temp: temp - 273.15)\n",
    "df_main['temp_2m_celsius'].mean()"
   ]
  },
  {
   "cell_type": "code",
   "execution_count": 1408,
   "id": "2c33ccbe-fe7f-40f3-8bdf-0af22071f943",
   "metadata": {
    "tags": []
   },
   "outputs": [
    {
     "data": {
      "text/html": [
       "<div>\n",
       "<style scoped>\n",
       "    .dataframe tbody tr th:only-of-type {\n",
       "        vertical-align: middle;\n",
       "    }\n",
       "\n",
       "    .dataframe tbody tr th {\n",
       "        vertical-align: top;\n",
       "    }\n",
       "\n",
       "    .dataframe thead th {\n",
       "        text-align: right;\n",
       "    }\n",
       "</style>\n",
       "<table border=\"1\" class=\"dataframe\">\n",
       "  <thead>\n",
       "    <tr style=\"text-align: right;\">\n",
       "      <th></th>\n",
       "      <th>hour</th>\n",
       "      <th>day_of_week</th>\n",
       "      <th>day_of_month</th>\n",
       "      <th>month_number</th>\n",
       "      <th>year</th>\n",
       "      <th>meteorological_season</th>\n",
       "      <th>turbines_in_operation</th>\n",
       "      <th>total_nominal_capacity_operational_turbines_mw</th>\n",
       "      <th>datetime_cet</th>\n",
       "      <th>actual_generated_smard_mwh</th>\n",
       "      <th>day_ahead_price_eur_mwh</th>\n",
       "      <th>total_nominal_capacity_smard_mw</th>\n",
       "      <th>forecasted_generation_smard_mwh</th>\n",
       "      <th>mean_wind_speed_10m</th>\n",
       "      <th>mean_wind_speed_100m</th>\n",
       "      <th>wind_direction_angle_10m</th>\n",
       "      <th>wind_direction_angle_100m</th>\n",
       "      <th>mean_sea_level_pressure_mb</th>\n",
       "      <th>wind_gusts_10m</th>\n",
       "      <th>temp_2m_celsius</th>\n",
       "    </tr>\n",
       "    <tr>\n",
       "      <th>datetime_utc</th>\n",
       "      <th></th>\n",
       "      <th></th>\n",
       "      <th></th>\n",
       "      <th></th>\n",
       "      <th></th>\n",
       "      <th></th>\n",
       "      <th></th>\n",
       "      <th></th>\n",
       "      <th></th>\n",
       "      <th></th>\n",
       "      <th></th>\n",
       "      <th></th>\n",
       "      <th></th>\n",
       "      <th></th>\n",
       "      <th></th>\n",
       "      <th></th>\n",
       "      <th></th>\n",
       "      <th></th>\n",
       "      <th></th>\n",
       "      <th></th>\n",
       "    </tr>\n",
       "  </thead>\n",
       "  <tbody>\n",
       "    <tr>\n",
       "      <th>2022-08-04 23:00:00+00:00</th>\n",
       "      <td>23</td>\n",
       "      <td>3</td>\n",
       "      <td>4</td>\n",
       "      <td>8</td>\n",
       "      <td>2022</td>\n",
       "      <td>summer</td>\n",
       "      <td>29119</td>\n",
       "      <td>56904.005087</td>\n",
       "      <td>2022-08-05 01:00:00+02:00</td>\n",
       "      <td>7191.25</td>\n",
       "      <td>358.18</td>\n",
       "      <td>55289.0</td>\n",
       "      <td>6362.50</td>\n",
       "      <td>2.848923</td>\n",
       "      <td>5.323184</td>\n",
       "      <td>210.033783</td>\n",
       "      <td>215.370605</td>\n",
       "      <td>1013.475391</td>\n",
       "      <td>5.048066</td>\n",
       "      <td>21.768457</td>\n",
       "    </tr>\n",
       "    <tr>\n",
       "      <th>2021-01-15 02:00:00+00:00</th>\n",
       "      <td>2</td>\n",
       "      <td>4</td>\n",
       "      <td>15</td>\n",
       "      <td>1</td>\n",
       "      <td>2021</td>\n",
       "      <td>winter</td>\n",
       "      <td>28741</td>\n",
       "      <td>54284.700077</td>\n",
       "      <td>2021-01-15 03:00:00+01:00</td>\n",
       "      <td>7089.00</td>\n",
       "      <td>46.60</td>\n",
       "      <td>54499.0</td>\n",
       "      <td>6796.25</td>\n",
       "      <td>2.834356</td>\n",
       "      <td>5.187321</td>\n",
       "      <td>135.718445</td>\n",
       "      <td>119.775574</td>\n",
       "      <td>1021.676875</td>\n",
       "      <td>5.241850</td>\n",
       "      <td>-1.542761</td>\n",
       "    </tr>\n",
       "    <tr>\n",
       "      <th>2019-06-14 22:00:00+00:00</th>\n",
       "      <td>22</td>\n",
       "      <td>4</td>\n",
       "      <td>14</td>\n",
       "      <td>6</td>\n",
       "      <td>2019</td>\n",
       "      <td>summer</td>\n",
       "      <td>28302</td>\n",
       "      <td>52377.389417</td>\n",
       "      <td>2019-06-15 00:00:00+02:00</td>\n",
       "      <td>10575.25</td>\n",
       "      <td>33.29</td>\n",
       "      <td>52792.0</td>\n",
       "      <td>11741.00</td>\n",
       "      <td>2.738302</td>\n",
       "      <td>5.359201</td>\n",
       "      <td>107.071465</td>\n",
       "      <td>102.251396</td>\n",
       "      <td>1013.152031</td>\n",
       "      <td>5.738999</td>\n",
       "      <td>19.660333</td>\n",
       "    </tr>\n",
       "    <tr>\n",
       "      <th>2018-01-13 11:00:00+00:00</th>\n",
       "      <td>11</td>\n",
       "      <td>5</td>\n",
       "      <td>13</td>\n",
       "      <td>1</td>\n",
       "      <td>2018</td>\n",
       "      <td>winter</td>\n",
       "      <td>27472</td>\n",
       "      <td>49751.012897</td>\n",
       "      <td>2018-01-13 12:00:00+01:00</td>\n",
       "      <td>10818.50</td>\n",
       "      <td>NaN</td>\n",
       "      <td>51633.0</td>\n",
       "      <td>9889.25</td>\n",
       "      <td>4.169396</td>\n",
       "      <td>5.997514</td>\n",
       "      <td>108.619400</td>\n",
       "      <td>110.241905</td>\n",
       "      <td>1028.595703</td>\n",
       "      <td>8.682322</td>\n",
       "      <td>2.125391</td>\n",
       "    </tr>\n",
       "    <tr>\n",
       "      <th>2022-01-22 22:00:00+00:00</th>\n",
       "      <td>22</td>\n",
       "      <td>5</td>\n",
       "      <td>22</td>\n",
       "      <td>1</td>\n",
       "      <td>2022</td>\n",
       "      <td>winter</td>\n",
       "      <td>28962</td>\n",
       "      <td>55918.162347</td>\n",
       "      <td>2022-01-22 23:00:00+01:00</td>\n",
       "      <td>8108.50</td>\n",
       "      <td>175.07</td>\n",
       "      <td>55289.0</td>\n",
       "      <td>8850.25</td>\n",
       "      <td>2.899634</td>\n",
       "      <td>5.389684</td>\n",
       "      <td>277.875793</td>\n",
       "      <td>287.687927</td>\n",
       "      <td>1032.828750</td>\n",
       "      <td>5.694593</td>\n",
       "      <td>3.299188</td>\n",
       "    </tr>\n",
       "    <tr>\n",
       "      <th>2019-01-15 03:00:00+00:00</th>\n",
       "      <td>3</td>\n",
       "      <td>1</td>\n",
       "      <td>15</td>\n",
       "      <td>1</td>\n",
       "      <td>2019</td>\n",
       "      <td>winter</td>\n",
       "      <td>28267</td>\n",
       "      <td>52212.495317</td>\n",
       "      <td>2019-01-15 04:00:00+01:00</td>\n",
       "      <td>28137.25</td>\n",
       "      <td>30.80</td>\n",
       "      <td>52792.0</td>\n",
       "      <td>27191.75</td>\n",
       "      <td>5.567495</td>\n",
       "      <td>9.490885</td>\n",
       "      <td>270.659546</td>\n",
       "      <td>274.952179</td>\n",
       "      <td>1017.000469</td>\n",
       "      <td>10.982825</td>\n",
       "      <td>1.624719</td>\n",
       "    </tr>\n",
       "    <tr>\n",
       "      <th>2023-05-25 04:00:00+00:00</th>\n",
       "      <td>4</td>\n",
       "      <td>3</td>\n",
       "      <td>25</td>\n",
       "      <td>5</td>\n",
       "      <td>2023</td>\n",
       "      <td>spring</td>\n",
       "      <td>29355</td>\n",
       "      <td>58912.584937</td>\n",
       "      <td>2023-05-25 06:00:00+02:00</td>\n",
       "      <td>7074.50</td>\n",
       "      <td>122.58</td>\n",
       "      <td>57590.0</td>\n",
       "      <td>6799.50</td>\n",
       "      <td>2.676599</td>\n",
       "      <td>5.073065</td>\n",
       "      <td>179.200027</td>\n",
       "      <td>172.288132</td>\n",
       "      <td>1024.232656</td>\n",
       "      <td>4.705706</td>\n",
       "      <td>7.288660</td>\n",
       "    </tr>\n",
       "    <tr>\n",
       "      <th>2021-09-04 23:00:00+00:00</th>\n",
       "      <td>23</td>\n",
       "      <td>5</td>\n",
       "      <td>4</td>\n",
       "      <td>9</td>\n",
       "      <td>2021</td>\n",
       "      <td>autumn</td>\n",
       "      <td>28880</td>\n",
       "      <td>55286.113077</td>\n",
       "      <td>2021-09-05 01:00:00+02:00</td>\n",
       "      <td>5918.00</td>\n",
       "      <td>99.88</td>\n",
       "      <td>54499.0</td>\n",
       "      <td>5568.75</td>\n",
       "      <td>2.140193</td>\n",
       "      <td>4.231317</td>\n",
       "      <td>99.263069</td>\n",
       "      <td>88.796265</td>\n",
       "      <td>1020.327891</td>\n",
       "      <td>4.150099</td>\n",
       "      <td>12.334619</td>\n",
       "    </tr>\n",
       "    <tr>\n",
       "      <th>2020-09-24 19:00:00+00:00</th>\n",
       "      <td>19</td>\n",
       "      <td>3</td>\n",
       "      <td>24</td>\n",
       "      <td>9</td>\n",
       "      <td>2020</td>\n",
       "      <td>autumn</td>\n",
       "      <td>28662</td>\n",
       "      <td>53776.592467</td>\n",
       "      <td>2020-09-24 21:00:00+02:00</td>\n",
       "      <td>9995.75</td>\n",
       "      <td>47.63</td>\n",
       "      <td>53184.0</td>\n",
       "      <td>10026.75</td>\n",
       "      <td>2.622452</td>\n",
       "      <td>5.235234</td>\n",
       "      <td>154.221207</td>\n",
       "      <td>165.558914</td>\n",
       "      <td>1002.845234</td>\n",
       "      <td>5.048709</td>\n",
       "      <td>14.628137</td>\n",
       "    </tr>\n",
       "    <tr>\n",
       "      <th>2018-12-09 23:00:00+00:00</th>\n",
       "      <td>23</td>\n",
       "      <td>6</td>\n",
       "      <td>9</td>\n",
       "      <td>12</td>\n",
       "      <td>2018</td>\n",
       "      <td>winter</td>\n",
       "      <td>28195</td>\n",
       "      <td>51995.930317</td>\n",
       "      <td>2018-12-10 00:00:00+01:00</td>\n",
       "      <td>32407.50</td>\n",
       "      <td>4.96</td>\n",
       "      <td>51633.0</td>\n",
       "      <td>33291.50</td>\n",
       "      <td>6.483200</td>\n",
       "      <td>10.766809</td>\n",
       "      <td>287.919769</td>\n",
       "      <td>290.532928</td>\n",
       "      <td>1009.267422</td>\n",
       "      <td>13.229383</td>\n",
       "      <td>5.042657</td>\n",
       "    </tr>\n",
       "  </tbody>\n",
       "</table>\n",
       "</div>"
      ],
      "text/plain": [
       "                           hour  day_of_week  day_of_month  month_number  \\\n",
       "datetime_utc                                                               \n",
       "2022-08-04 23:00:00+00:00    23            3             4             8   \n",
       "2021-01-15 02:00:00+00:00     2            4            15             1   \n",
       "2019-06-14 22:00:00+00:00    22            4            14             6   \n",
       "2018-01-13 11:00:00+00:00    11            5            13             1   \n",
       "2022-01-22 22:00:00+00:00    22            5            22             1   \n",
       "2019-01-15 03:00:00+00:00     3            1            15             1   \n",
       "2023-05-25 04:00:00+00:00     4            3            25             5   \n",
       "2021-09-04 23:00:00+00:00    23            5             4             9   \n",
       "2020-09-24 19:00:00+00:00    19            3            24             9   \n",
       "2018-12-09 23:00:00+00:00    23            6             9            12   \n",
       "\n",
       "                           year meteorological_season  turbines_in_operation  \\\n",
       "datetime_utc                                                                   \n",
       "2022-08-04 23:00:00+00:00  2022                summer                  29119   \n",
       "2021-01-15 02:00:00+00:00  2021                winter                  28741   \n",
       "2019-06-14 22:00:00+00:00  2019                summer                  28302   \n",
       "2018-01-13 11:00:00+00:00  2018                winter                  27472   \n",
       "2022-01-22 22:00:00+00:00  2022                winter                  28962   \n",
       "2019-01-15 03:00:00+00:00  2019                winter                  28267   \n",
       "2023-05-25 04:00:00+00:00  2023                spring                  29355   \n",
       "2021-09-04 23:00:00+00:00  2021                autumn                  28880   \n",
       "2020-09-24 19:00:00+00:00  2020                autumn                  28662   \n",
       "2018-12-09 23:00:00+00:00  2018                winter                  28195   \n",
       "\n",
       "                           total_nominal_capacity_operational_turbines_mw  \\\n",
       "datetime_utc                                                                \n",
       "2022-08-04 23:00:00+00:00                                    56904.005087   \n",
       "2021-01-15 02:00:00+00:00                                    54284.700077   \n",
       "2019-06-14 22:00:00+00:00                                    52377.389417   \n",
       "2018-01-13 11:00:00+00:00                                    49751.012897   \n",
       "2022-01-22 22:00:00+00:00                                    55918.162347   \n",
       "2019-01-15 03:00:00+00:00                                    52212.495317   \n",
       "2023-05-25 04:00:00+00:00                                    58912.584937   \n",
       "2021-09-04 23:00:00+00:00                                    55286.113077   \n",
       "2020-09-24 19:00:00+00:00                                    53776.592467   \n",
       "2018-12-09 23:00:00+00:00                                    51995.930317   \n",
       "\n",
       "                                       datetime_cet  \\\n",
       "datetime_utc                                          \n",
       "2022-08-04 23:00:00+00:00 2022-08-05 01:00:00+02:00   \n",
       "2021-01-15 02:00:00+00:00 2021-01-15 03:00:00+01:00   \n",
       "2019-06-14 22:00:00+00:00 2019-06-15 00:00:00+02:00   \n",
       "2018-01-13 11:00:00+00:00 2018-01-13 12:00:00+01:00   \n",
       "2022-01-22 22:00:00+00:00 2022-01-22 23:00:00+01:00   \n",
       "2019-01-15 03:00:00+00:00 2019-01-15 04:00:00+01:00   \n",
       "2023-05-25 04:00:00+00:00 2023-05-25 06:00:00+02:00   \n",
       "2021-09-04 23:00:00+00:00 2021-09-05 01:00:00+02:00   \n",
       "2020-09-24 19:00:00+00:00 2020-09-24 21:00:00+02:00   \n",
       "2018-12-09 23:00:00+00:00 2018-12-10 00:00:00+01:00   \n",
       "\n",
       "                           actual_generated_smard_mwh  \\\n",
       "datetime_utc                                            \n",
       "2022-08-04 23:00:00+00:00                     7191.25   \n",
       "2021-01-15 02:00:00+00:00                     7089.00   \n",
       "2019-06-14 22:00:00+00:00                    10575.25   \n",
       "2018-01-13 11:00:00+00:00                    10818.50   \n",
       "2022-01-22 22:00:00+00:00                     8108.50   \n",
       "2019-01-15 03:00:00+00:00                    28137.25   \n",
       "2023-05-25 04:00:00+00:00                     7074.50   \n",
       "2021-09-04 23:00:00+00:00                     5918.00   \n",
       "2020-09-24 19:00:00+00:00                     9995.75   \n",
       "2018-12-09 23:00:00+00:00                    32407.50   \n",
       "\n",
       "                           day_ahead_price_eur_mwh  \\\n",
       "datetime_utc                                         \n",
       "2022-08-04 23:00:00+00:00                   358.18   \n",
       "2021-01-15 02:00:00+00:00                    46.60   \n",
       "2019-06-14 22:00:00+00:00                    33.29   \n",
       "2018-01-13 11:00:00+00:00                      NaN   \n",
       "2022-01-22 22:00:00+00:00                   175.07   \n",
       "2019-01-15 03:00:00+00:00                    30.80   \n",
       "2023-05-25 04:00:00+00:00                   122.58   \n",
       "2021-09-04 23:00:00+00:00                    99.88   \n",
       "2020-09-24 19:00:00+00:00                    47.63   \n",
       "2018-12-09 23:00:00+00:00                     4.96   \n",
       "\n",
       "                           total_nominal_capacity_smard_mw  \\\n",
       "datetime_utc                                                 \n",
       "2022-08-04 23:00:00+00:00                          55289.0   \n",
       "2021-01-15 02:00:00+00:00                          54499.0   \n",
       "2019-06-14 22:00:00+00:00                          52792.0   \n",
       "2018-01-13 11:00:00+00:00                          51633.0   \n",
       "2022-01-22 22:00:00+00:00                          55289.0   \n",
       "2019-01-15 03:00:00+00:00                          52792.0   \n",
       "2023-05-25 04:00:00+00:00                          57590.0   \n",
       "2021-09-04 23:00:00+00:00                          54499.0   \n",
       "2020-09-24 19:00:00+00:00                          53184.0   \n",
       "2018-12-09 23:00:00+00:00                          51633.0   \n",
       "\n",
       "                           forecasted_generation_smard_mwh  \\\n",
       "datetime_utc                                                 \n",
       "2022-08-04 23:00:00+00:00                          6362.50   \n",
       "2021-01-15 02:00:00+00:00                          6796.25   \n",
       "2019-06-14 22:00:00+00:00                         11741.00   \n",
       "2018-01-13 11:00:00+00:00                          9889.25   \n",
       "2022-01-22 22:00:00+00:00                          8850.25   \n",
       "2019-01-15 03:00:00+00:00                         27191.75   \n",
       "2023-05-25 04:00:00+00:00                          6799.50   \n",
       "2021-09-04 23:00:00+00:00                          5568.75   \n",
       "2020-09-24 19:00:00+00:00                         10026.75   \n",
       "2018-12-09 23:00:00+00:00                         33291.50   \n",
       "\n",
       "                           mean_wind_speed_10m  mean_wind_speed_100m  \\\n",
       "datetime_utc                                                           \n",
       "2022-08-04 23:00:00+00:00             2.848923              5.323184   \n",
       "2021-01-15 02:00:00+00:00             2.834356              5.187321   \n",
       "2019-06-14 22:00:00+00:00             2.738302              5.359201   \n",
       "2018-01-13 11:00:00+00:00             4.169396              5.997514   \n",
       "2022-01-22 22:00:00+00:00             2.899634              5.389684   \n",
       "2019-01-15 03:00:00+00:00             5.567495              9.490885   \n",
       "2023-05-25 04:00:00+00:00             2.676599              5.073065   \n",
       "2021-09-04 23:00:00+00:00             2.140193              4.231317   \n",
       "2020-09-24 19:00:00+00:00             2.622452              5.235234   \n",
       "2018-12-09 23:00:00+00:00             6.483200             10.766809   \n",
       "\n",
       "                           wind_direction_angle_10m  \\\n",
       "datetime_utc                                          \n",
       "2022-08-04 23:00:00+00:00                210.033783   \n",
       "2021-01-15 02:00:00+00:00                135.718445   \n",
       "2019-06-14 22:00:00+00:00                107.071465   \n",
       "2018-01-13 11:00:00+00:00                108.619400   \n",
       "2022-01-22 22:00:00+00:00                277.875793   \n",
       "2019-01-15 03:00:00+00:00                270.659546   \n",
       "2023-05-25 04:00:00+00:00                179.200027   \n",
       "2021-09-04 23:00:00+00:00                 99.263069   \n",
       "2020-09-24 19:00:00+00:00                154.221207   \n",
       "2018-12-09 23:00:00+00:00                287.919769   \n",
       "\n",
       "                           wind_direction_angle_100m  \\\n",
       "datetime_utc                                           \n",
       "2022-08-04 23:00:00+00:00                 215.370605   \n",
       "2021-01-15 02:00:00+00:00                 119.775574   \n",
       "2019-06-14 22:00:00+00:00                 102.251396   \n",
       "2018-01-13 11:00:00+00:00                 110.241905   \n",
       "2022-01-22 22:00:00+00:00                 287.687927   \n",
       "2019-01-15 03:00:00+00:00                 274.952179   \n",
       "2023-05-25 04:00:00+00:00                 172.288132   \n",
       "2021-09-04 23:00:00+00:00                  88.796265   \n",
       "2020-09-24 19:00:00+00:00                 165.558914   \n",
       "2018-12-09 23:00:00+00:00                 290.532928   \n",
       "\n",
       "                           mean_sea_level_pressure_mb  wind_gusts_10m  \\\n",
       "datetime_utc                                                            \n",
       "2022-08-04 23:00:00+00:00                 1013.475391        5.048066   \n",
       "2021-01-15 02:00:00+00:00                 1021.676875        5.241850   \n",
       "2019-06-14 22:00:00+00:00                 1013.152031        5.738999   \n",
       "2018-01-13 11:00:00+00:00                 1028.595703        8.682322   \n",
       "2022-01-22 22:00:00+00:00                 1032.828750        5.694593   \n",
       "2019-01-15 03:00:00+00:00                 1017.000469       10.982825   \n",
       "2023-05-25 04:00:00+00:00                 1024.232656        4.705706   \n",
       "2021-09-04 23:00:00+00:00                 1020.327891        4.150099   \n",
       "2020-09-24 19:00:00+00:00                 1002.845234        5.048709   \n",
       "2018-12-09 23:00:00+00:00                 1009.267422       13.229383   \n",
       "\n",
       "                           temp_2m_celsius  \n",
       "datetime_utc                                \n",
       "2022-08-04 23:00:00+00:00        21.768457  \n",
       "2021-01-15 02:00:00+00:00        -1.542761  \n",
       "2019-06-14 22:00:00+00:00        19.660333  \n",
       "2018-01-13 11:00:00+00:00         2.125391  \n",
       "2022-01-22 22:00:00+00:00         3.299188  \n",
       "2019-01-15 03:00:00+00:00         1.624719  \n",
       "2023-05-25 04:00:00+00:00         7.288660  \n",
       "2021-09-04 23:00:00+00:00        12.334619  \n",
       "2020-09-24 19:00:00+00:00        14.628137  \n",
       "2018-12-09 23:00:00+00:00         5.042657  "
      ]
     },
     "execution_count": 1408,
     "metadata": {},
     "output_type": "execute_result"
    }
   ],
   "source": [
    "df_main.sample(10)"
   ]
  },
  {
   "cell_type": "code",
   "execution_count": 1409,
   "id": "0c19aa49-cba7-4474-aa44-e12f21d5cf59",
   "metadata": {
    "tags": []
   },
   "outputs": [
    {
     "data": {
      "text/html": [
       "<div>\n",
       "<style scoped>\n",
       "    .dataframe tbody tr th:only-of-type {\n",
       "        vertical-align: middle;\n",
       "    }\n",
       "\n",
       "    .dataframe tbody tr th {\n",
       "        vertical-align: top;\n",
       "    }\n",
       "\n",
       "    .dataframe thead th {\n",
       "        text-align: right;\n",
       "    }\n",
       "</style>\n",
       "<table border=\"1\" class=\"dataframe\">\n",
       "  <thead>\n",
       "    <tr style=\"text-align: right;\">\n",
       "      <th></th>\n",
       "      <th>hour</th>\n",
       "      <th>day_of_week</th>\n",
       "      <th>day_of_month</th>\n",
       "      <th>month_number</th>\n",
       "      <th>year</th>\n",
       "      <th>meteorological_season</th>\n",
       "      <th>turbines_in_operation</th>\n",
       "      <th>total_nominal_capacity_operational_turbines_mw</th>\n",
       "      <th>datetime_cet</th>\n",
       "      <th>actual_generated_smard_mwh</th>\n",
       "      <th>day_ahead_price_eur_mwh</th>\n",
       "      <th>total_nominal_capacity_smard_mw</th>\n",
       "      <th>forecasted_generation_smard_mwh</th>\n",
       "      <th>mean_wind_speed_10m</th>\n",
       "      <th>mean_wind_speed_100m</th>\n",
       "      <th>wind_direction_angle_10m</th>\n",
       "      <th>wind_direction_angle_100m</th>\n",
       "      <th>mean_sea_level_pressure_mb</th>\n",
       "      <th>wind_gusts_10m</th>\n",
       "      <th>temp_2m_celsius</th>\n",
       "    </tr>\n",
       "    <tr>\n",
       "      <th>datetime_utc</th>\n",
       "      <th></th>\n",
       "      <th></th>\n",
       "      <th></th>\n",
       "      <th></th>\n",
       "      <th></th>\n",
       "      <th></th>\n",
       "      <th></th>\n",
       "      <th></th>\n",
       "      <th></th>\n",
       "      <th></th>\n",
       "      <th></th>\n",
       "      <th></th>\n",
       "      <th></th>\n",
       "      <th></th>\n",
       "      <th></th>\n",
       "      <th></th>\n",
       "      <th></th>\n",
       "      <th></th>\n",
       "      <th></th>\n",
       "      <th></th>\n",
       "    </tr>\n",
       "  </thead>\n",
       "  <tbody>\n",
       "    <tr>\n",
       "      <th>2018-01-01 00:00:00+00:00</th>\n",
       "      <td>0</td>\n",
       "      <td>0</td>\n",
       "      <td>1</td>\n",
       "      <td>1</td>\n",
       "      <td>2018</td>\n",
       "      <td>winter</td>\n",
       "      <td>27464</td>\n",
       "      <td>49732.097897</td>\n",
       "      <td>2018-01-01 01:00:00+01:00</td>\n",
       "      <td>29638.00</td>\n",
       "      <td>NaN</td>\n",
       "      <td>51633.0</td>\n",
       "      <td>29632.75</td>\n",
       "      <td>5.979852</td>\n",
       "      <td>10.397236</td>\n",
       "      <td>220.783127</td>\n",
       "      <td>225.230560</td>\n",
       "      <td>1000.352422</td>\n",
       "      <td>12.423384</td>\n",
       "      <td>8.510889</td>\n",
       "    </tr>\n",
       "    <tr>\n",
       "      <th>2018-01-01 01:00:00+00:00</th>\n",
       "      <td>1</td>\n",
       "      <td>0</td>\n",
       "      <td>1</td>\n",
       "      <td>1</td>\n",
       "      <td>2018</td>\n",
       "      <td>winter</td>\n",
       "      <td>27464</td>\n",
       "      <td>49732.097897</td>\n",
       "      <td>2018-01-01 02:00:00+01:00</td>\n",
       "      <td>30173.75</td>\n",
       "      <td>NaN</td>\n",
       "      <td>51633.0</td>\n",
       "      <td>30978.75</td>\n",
       "      <td>6.309907</td>\n",
       "      <td>10.805794</td>\n",
       "      <td>224.717834</td>\n",
       "      <td>228.582657</td>\n",
       "      <td>1000.431563</td>\n",
       "      <td>13.009854</td>\n",
       "      <td>8.281549</td>\n",
       "    </tr>\n",
       "  </tbody>\n",
       "</table>\n",
       "</div>"
      ],
      "text/plain": [
       "                           hour  day_of_week  day_of_month  month_number  \\\n",
       "datetime_utc                                                               \n",
       "2018-01-01 00:00:00+00:00     0            0             1             1   \n",
       "2018-01-01 01:00:00+00:00     1            0             1             1   \n",
       "\n",
       "                           year meteorological_season  turbines_in_operation  \\\n",
       "datetime_utc                                                                   \n",
       "2018-01-01 00:00:00+00:00  2018                winter                  27464   \n",
       "2018-01-01 01:00:00+00:00  2018                winter                  27464   \n",
       "\n",
       "                           total_nominal_capacity_operational_turbines_mw  \\\n",
       "datetime_utc                                                                \n",
       "2018-01-01 00:00:00+00:00                                    49732.097897   \n",
       "2018-01-01 01:00:00+00:00                                    49732.097897   \n",
       "\n",
       "                                       datetime_cet  \\\n",
       "datetime_utc                                          \n",
       "2018-01-01 00:00:00+00:00 2018-01-01 01:00:00+01:00   \n",
       "2018-01-01 01:00:00+00:00 2018-01-01 02:00:00+01:00   \n",
       "\n",
       "                           actual_generated_smard_mwh  \\\n",
       "datetime_utc                                            \n",
       "2018-01-01 00:00:00+00:00                    29638.00   \n",
       "2018-01-01 01:00:00+00:00                    30173.75   \n",
       "\n",
       "                           day_ahead_price_eur_mwh  \\\n",
       "datetime_utc                                         \n",
       "2018-01-01 00:00:00+00:00                      NaN   \n",
       "2018-01-01 01:00:00+00:00                      NaN   \n",
       "\n",
       "                           total_nominal_capacity_smard_mw  \\\n",
       "datetime_utc                                                 \n",
       "2018-01-01 00:00:00+00:00                          51633.0   \n",
       "2018-01-01 01:00:00+00:00                          51633.0   \n",
       "\n",
       "                           forecasted_generation_smard_mwh  \\\n",
       "datetime_utc                                                 \n",
       "2018-01-01 00:00:00+00:00                         29632.75   \n",
       "2018-01-01 01:00:00+00:00                         30978.75   \n",
       "\n",
       "                           mean_wind_speed_10m  mean_wind_speed_100m  \\\n",
       "datetime_utc                                                           \n",
       "2018-01-01 00:00:00+00:00             5.979852             10.397236   \n",
       "2018-01-01 01:00:00+00:00             6.309907             10.805794   \n",
       "\n",
       "                           wind_direction_angle_10m  \\\n",
       "datetime_utc                                          \n",
       "2018-01-01 00:00:00+00:00                220.783127   \n",
       "2018-01-01 01:00:00+00:00                224.717834   \n",
       "\n",
       "                           wind_direction_angle_100m  \\\n",
       "datetime_utc                                           \n",
       "2018-01-01 00:00:00+00:00                 225.230560   \n",
       "2018-01-01 01:00:00+00:00                 228.582657   \n",
       "\n",
       "                           mean_sea_level_pressure_mb  wind_gusts_10m  \\\n",
       "datetime_utc                                                            \n",
       "2018-01-01 00:00:00+00:00                 1000.352422       12.423384   \n",
       "2018-01-01 01:00:00+00:00                 1000.431563       13.009854   \n",
       "\n",
       "                           temp_2m_celsius  \n",
       "datetime_utc                                \n",
       "2018-01-01 00:00:00+00:00         8.510889  \n",
       "2018-01-01 01:00:00+00:00         8.281549  "
      ]
     },
     "execution_count": 1409,
     "metadata": {},
     "output_type": "execute_result"
    }
   ],
   "source": [
    "df_main.head(2)"
   ]
  },
  {
   "cell_type": "markdown",
   "id": "fcf248f4-f0be-4950-a6cd-1068c5d27d4f",
   "metadata": {},
   "source": [
    "#### Save `df_main` progress to pickle"
   ]
  },
  {
   "cell_type": "code",
   "execution_count": 1410,
   "id": "9cc070fd-eaf7-48fe-9f1a-862a1029cf01",
   "metadata": {
    "tags": []
   },
   "outputs": [],
   "source": [
    "df_main.to_pickle(data_push_path / 'df_main_smard_era5.pkl')"
   ]
  },
  {
   "cell_type": "markdown",
   "id": "88026ed7-ba5a-4183-a714-4dfcf1834fe9",
   "metadata": {},
   "source": [
    "------"
   ]
  },
  {
   "cell_type": "markdown",
   "id": "5a4c266f-8304-40b8-86bd-d7820a62b31a",
   "metadata": {},
   "source": [
    "# Next step: derive intercardinal directions!"
   ]
  },
  {
   "cell_type": "code",
   "execution_count": 1418,
   "id": "0ed4f450-aeb3-404a-b112-518e10e2e067",
   "metadata": {
    "tags": []
   },
   "outputs": [],
   "source": [
    "def wind_direction_to_intercardinal(wind_direction_degrees):\n",
    "    # Make sure value is between 0-360 using modulo python assignment operator %= (same as x = x % 360)\n",
    "    # If 380 --> 20 degrees (starts back at 0 at 360)\n",
    "    wind_direction_degrees %= 360\n",
    "    \n",
    "    # The 16 intercardinal direction sectors in order as they appear on compass and their corresponding ranges spanning 22.5 degrees each\n",
    "    # Note: the boundaries are 11.25 in both directions from the direction's true centre line, creating sectors\n",
    "    intercardinal_directions = ['N', 'NNE', 'NE', 'ENE', 'E', 'ESE', 'SE', 'SSE', 'S', 'SSW', 'SW', 'WSW', 'W', 'WNW', 'NW', 'NNW', 'N']\n",
    "    sector_boundaries = [11.25, 33.75, 56.25, 78.75, 101.25, 123.75, 146.25, 168.75, 191.25, 213.75, 236.25, 258.75, 281.25, 303.75, 326.25, 348.75, 360]\n",
    "\n",
    "    # Loop through sector boundaries and return first direction at index i when condition is False\n",
    "    for i in range(len(sector_boundaries)):\n",
    "        # Only enter if statement once conditional is False (i.e. when wind angle is no longer less than sector boundary)\n",
    "        if wind_direction_degrees < sector_boundaries[i]:\n",
    "            return intercardinal_directions[i]"
   ]
  },
  {
   "cell_type": "code",
   "execution_count": 1419,
   "id": "699d135a-26fb-482f-9072-dcccbe4a025c",
   "metadata": {
    "tags": []
   },
   "outputs": [
    {
     "data": {
      "text/plain": [
       "datetime_utc\n",
       "2018-01-01 00:00:00+00:00      SW\n",
       "2018-01-01 01:00:00+00:00      SW\n",
       "2018-01-01 02:00:00+00:00      SW\n",
       "2018-01-01 03:00:00+00:00      SW\n",
       "2018-01-01 04:00:00+00:00      SW\n",
       "                             ... \n",
       "2023-08-31 19:00:00+00:00    None\n",
       "2023-08-31 20:00:00+00:00    None\n",
       "2023-08-31 21:00:00+00:00    None\n",
       "2023-08-31 22:00:00+00:00    None\n",
       "2023-08-31 23:00:00+00:00    None\n",
       "Name: wind_direction_angle_10m, Length: 49656, dtype: object"
      ]
     },
     "execution_count": 1419,
     "metadata": {},
     "output_type": "execute_result"
    }
   ],
   "source": [
    "df_main['wind_direction_angle_10m'].apply(wind_direction_to_intercardinal)"
   ]
  },
  {
   "cell_type": "code",
   "execution_count": 1420,
   "id": "a0324d65-fd83-4699-8278-b0179f864281",
   "metadata": {
    "tags": []
   },
   "outputs": [
    {
     "data": {
      "text/plain": [
       "datetime_utc\n",
       "2018-01-01 00:00:00+00:00      SW\n",
       "2018-01-01 01:00:00+00:00      SW\n",
       "2018-01-01 02:00:00+00:00      SW\n",
       "2018-01-01 03:00:00+00:00      SW\n",
       "2018-01-01 04:00:00+00:00     WSW\n",
       "                             ... \n",
       "2023-08-31 19:00:00+00:00    None\n",
       "2023-08-31 20:00:00+00:00    None\n",
       "2023-08-31 21:00:00+00:00    None\n",
       "2023-08-31 22:00:00+00:00    None\n",
       "2023-08-31 23:00:00+00:00    None\n",
       "Name: wind_direction_angle_100m, Length: 49656, dtype: object"
      ]
     },
     "execution_count": 1420,
     "metadata": {},
     "output_type": "execute_result"
    }
   ],
   "source": [
    "df_main['wind_direction_angle_100m'].apply(wind_direction_to_intercardinal)"
   ]
  },
  {
   "cell_type": "code",
   "execution_count": null,
   "id": "0b14f1ef-5282-409a-b6d3-53e74857482e",
   "metadata": {},
   "outputs": [],
   "source": []
  },
  {
   "cell_type": "code",
   "execution_count": null,
   "id": "db6858e0-8bdf-4353-990b-9fbe047ef706",
   "metadata": {},
   "outputs": [],
   "source": []
  },
  {
   "cell_type": "code",
   "execution_count": null,
   "id": "60d659fb-9783-43a8-ae4c-5e097e0b4b22",
   "metadata": {},
   "outputs": [],
   "source": []
  },
  {
   "cell_type": "code",
   "execution_count": null,
   "id": "ac36653c-9123-496d-a0a7-657a03a38774",
   "metadata": {},
   "outputs": [],
   "source": []
  },
  {
   "cell_type": "code",
   "execution_count": 1411,
   "id": "4c3a4515-8528-4dee-a7d9-04de06e2eab1",
   "metadata": {
    "tags": []
   },
   "outputs": [
    {
     "data": {
      "text/plain": [
       "array([3.1659725], dtype=float32)"
      ]
     },
     "execution_count": 1411,
     "metadata": {},
     "output_type": "execute_result"
    }
   ],
   "source": [
    "ds.sel(time=['2022-01-01T00:00:00'], latitude=47.82, longitude=10.97)['mean_wind_speed_10m'].values"
   ]
  },
  {
   "cell_type": "code",
   "execution_count": 1412,
   "id": "bd8f3439-dc1c-4a96-9835-0f6c88719074",
   "metadata": {
    "tags": []
   },
   "outputs": [
    {
     "data": {
      "text/plain": [
       "48168"
      ]
     },
     "execution_count": 1412,
     "metadata": {},
     "output_type": "execute_result"
    }
   ],
   "source": [
    "# All values for a data var for a specific grid point across all timestamps\n",
    "len(ds.sel(latitude=47.82, longitude=10.97)['mean_wind_speed_10m'].values)"
   ]
  },
  {
   "cell_type": "code",
   "execution_count": 1413,
   "id": "d0b8df64-8cd0-4243-8477-0d83ea5e72d8",
   "metadata": {
    "tags": []
   },
   "outputs": [
    {
     "data": {
      "text/plain": [
       "array([2.603206 , 2.6633532, 2.7366667, ..., 2.0954723, 3.0069587,\n",
       "       3.1353345], dtype=float32)"
      ]
     },
     "execution_count": 1413,
     "metadata": {},
     "output_type": "execute_result"
    }
   ],
   "source": [
    "ds.sel(latitude=47.82, longitude=10.97)['mean_wind_speed_10m'].values"
   ]
  },
  {
   "cell_type": "code",
   "execution_count": null,
   "id": "883c1a58-8428-4a16-a2cd-a9d235c26cf2",
   "metadata": {},
   "outputs": [],
   "source": []
  },
  {
   "cell_type": "code",
   "execution_count": null,
   "id": "038e3868-d833-455f-b53c-347d3f68ec26",
   "metadata": {},
   "outputs": [],
   "source": []
  },
  {
   "cell_type": "code",
   "execution_count": null,
   "id": "029cf163-d07b-4114-96f4-7de74535bf84",
   "metadata": {},
   "outputs": [],
   "source": []
  },
  {
   "cell_type": "code",
   "execution_count": null,
   "id": "f48bface-b335-44e9-a5fd-69085ea6fbda",
   "metadata": {},
   "outputs": [],
   "source": []
  },
  {
   "cell_type": "code",
   "execution_count": null,
   "id": "c5580424-e54c-4275-bfba-7bbbdc39819f",
   "metadata": {},
   "outputs": [],
   "source": []
  },
  {
   "cell_type": "code",
   "execution_count": null,
   "id": "84c70c72-d0e6-4f1f-b436-7009e020a3d4",
   "metadata": {},
   "outputs": [],
   "source": []
  },
  {
   "cell_type": "code",
   "execution_count": null,
   "id": "606a6f40-4910-4f12-b6ae-beb1e1f816e1",
   "metadata": {},
   "outputs": [],
   "source": []
  }
 ],
 "metadata": {
  "kernelspec": {
   "display_name": "course_project",
   "language": "python",
   "name": "course_project"
  },
  "language_info": {
   "codemirror_mode": {
    "name": "ipython",
    "version": 3
   },
   "file_extension": ".py",
   "mimetype": "text/x-python",
   "name": "python",
   "nbconvert_exporter": "python",
   "pygments_lexer": "ipython3",
   "version": "3.10.12"
  }
 },
 "nbformat": 4,
 "nbformat_minor": 5
}
