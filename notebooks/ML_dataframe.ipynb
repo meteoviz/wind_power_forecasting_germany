{
 "cells": [
  {
   "cell_type": "markdown",
   "id": "7f9a5697-a50e-45e1-b047-07252557afa0",
   "metadata": {},
   "source": [
    "# Building the ML dataframe"
   ]
  },
  {
   "cell_type": "code",
   "execution_count": 1,
   "id": "a207893c-6f98-4c83-b0c1-8a241b78c41d",
   "metadata": {
    "tags": []
   },
   "outputs": [],
   "source": [
    "from pathlib import Path\n",
    "\n",
    "import numpy as np\n",
    "import pandas as pd\n",
    "import xarray as xr"
   ]
  },
  {
   "cell_type": "code",
   "execution_count": 3,
   "id": "ad32155d-e98f-4351-ba14-dada857077c3",
   "metadata": {
    "tags": []
   },
   "outputs": [],
   "source": [
    "# Set max number of columns to display; default 20\n",
    "pd.options.display.max_columns = 80"
   ]
  },
  {
   "cell_type": "code",
   "execution_count": 4,
   "id": "86d7e9b7-8a39-44bc-a77b-670c2411d40d",
   "metadata": {
    "tags": []
   },
   "outputs": [],
   "source": [
    "# Directory where data files will be downloaded\n",
    "cwd_path = Path.cwd()\n",
    "data_path = cwd_path.parent.joinpath('data')\n",
    "data_push_path = cwd_path.parent.joinpath('data_to_push')"
   ]
  },
  {
   "cell_type": "markdown",
   "id": "594f09e2-8dfa-4537-87c8-02f59c316c2f",
   "metadata": {},
   "source": [
    "#### Load in latest wind turbine data"
   ]
  },
  {
   "cell_type": "code",
   "execution_count": 5,
   "id": "60756d12-c942-4221-8bfb-55539c5cb587",
   "metadata": {
    "tags": []
   },
   "outputs": [
    {
     "name": "stdout",
     "output_type": "stream",
     "text": [
      "<class 'pandas.core.frame.DataFrame'>\n",
      "RangeIndex: 30642 entries, 0 to 30641\n",
      "Data columns (total 30 columns):\n",
      " #   Column                                            Non-Null Count  Dtype         \n",
      "---  ------                                            --------------  -----         \n",
      " 0   EinheitMastrNummer                                30642 non-null  object        \n",
      " 1   DatumLetzteAktualisierung                         30642 non-null  datetime64[ns]\n",
      " 2   Bundesland                                        30642 non-null  object        \n",
      " 3   Postleitzahl                                      30642 non-null  int64         \n",
      " 4   Ort                                               30642 non-null  object        \n",
      " 5   Laengengrad                                       30642 non-null  float64       \n",
      " 6   Breitengrad                                       30642 non-null  float64       \n",
      " 7   Registrierungsdatum                               30642 non-null  datetime64[ns]\n",
      " 8   Inbetriebnahmedatum                               30642 non-null  datetime64[ns]\n",
      " 9   EinheitBetriebsstatus                             30642 non-null  object        \n",
      " 10  DatumEndgueltigeStilllegung                       1155 non-null   datetime64[ns]\n",
      " 11  DatumBeginnVoruebergehendeStilllegung             68 non-null     datetime64[ns]\n",
      " 12  DatumWiederaufnahmeBetrieb                        6 non-null      datetime64[ns]\n",
      " 13  NameStromerzeugungseinheit                        30642 non-null  object        \n",
      " 14  Nettonennleistung                                 30642 non-null  float64       \n",
      " 15  AnschlussAnHoechstOderHochSpannung                22069 non-null  float64       \n",
      " 16  Einspeisungsart                                   30204 non-null  object        \n",
      " 17  NameWindpark                                      29857 non-null  object        \n",
      " 18  Hersteller                                        30385 non-null  object        \n",
      " 19  Technologie                                       30642 non-null  object        \n",
      " 20  Typenbezeichnung                                  30380 non-null  object        \n",
      " 21  Nabenhoehe                                        30642 non-null  float64       \n",
      " 22  Rotordurchmesser                                  30642 non-null  float64       \n",
      " 23  Rotorblattenteisungssystem                        23265 non-null  float64       \n",
      " 24  area_blades                                       30642 non-null  int64         \n",
      " 25  nearest_grid_point                                30642 non-null  object        \n",
      " 26  nearest_grid_point_elevation                      30642 non-null  float64       \n",
      " 27  turbine_elevation                                 30642 non-null  float64       \n",
      " 28  nearest_grid_point_distance                       30642 non-null  float64       \n",
      " 29  turbine_elevation_relative_to_nearest_grid_point  30642 non-null  float64       \n",
      "dtypes: datetime64[ns](6), float64(11), int64(2), object(11)\n",
      "memory usage: 7.0+ MB\n"
     ]
    }
   ],
   "source": [
    "# Read in latest turbine data\n",
    "# Now only 30,642 after removing 3 turbines outside bounding box\n",
    "df_turbines = pd.read_pickle(data_push_path / 'df_turbines_knn_blades_haversine_elevation.pkl')\n",
    "df_turbines.info()"
   ]
  },
  {
   "cell_type": "markdown",
   "id": "38422baf-a79f-49b9-835d-d4b5d1cf61c7",
   "metadata": {},
   "source": [
    "-----"
   ]
  },
  {
   "cell_type": "markdown",
   "id": "de974db7-3217-4bdf-a4c1-aa2eba699b22",
   "metadata": {},
   "source": [
    "## Begin building ML dataframe\n",
    "- Start with one full year: 2022\n",
    "    - Then bring in another year like 2021 and run through the same transformations and then concat along datetimeindex?\n",
    "- Good resource on time-related feature engineering: https://scikit-learn.org/stable/auto_examples/applications/plot_cyclical_feature_engineering.html"
   ]
  },
  {
   "cell_type": "code",
   "execution_count": 23,
   "id": "6fbe7769-32ac-446d-a262-f11297b79026",
   "metadata": {
    "tags": []
   },
   "outputs": [
    {
     "data": {
      "text/plain": [
       "DatetimeIndex(['2022-01-01 00:00:00+00:00', '2022-01-01 01:00:00+00:00',\n",
       "               '2022-01-01 02:00:00+00:00', '2022-01-01 03:00:00+00:00',\n",
       "               '2022-01-01 04:00:00+00:00', '2022-01-01 05:00:00+00:00',\n",
       "               '2022-01-01 06:00:00+00:00', '2022-01-01 07:00:00+00:00',\n",
       "               '2022-01-01 08:00:00+00:00', '2022-01-01 09:00:00+00:00',\n",
       "               ...\n",
       "               '2022-12-31 14:00:00+00:00', '2022-12-31 15:00:00+00:00',\n",
       "               '2022-12-31 16:00:00+00:00', '2022-12-31 17:00:00+00:00',\n",
       "               '2022-12-31 18:00:00+00:00', '2022-12-31 19:00:00+00:00',\n",
       "               '2022-12-31 20:00:00+00:00', '2022-12-31 21:00:00+00:00',\n",
       "               '2022-12-31 22:00:00+00:00', '2022-12-31 23:00:00+00:00'],\n",
       "              dtype='datetime64[ns, UTC]', name='datetime_utc', length=8760, freq='H')"
      ]
     },
     "execution_count": 23,
     "metadata": {},
     "output_type": "execute_result"
    }
   ],
   "source": [
    "# Year 2022\n",
    "# Make time zone aware UTC?\n",
    "datetime_index_utc = pd.date_range(start='2022-01-01', end='2022-12-31 23:59:59', freq='H', name='datetime_utc', tz='UTC')\n",
    "datetime_index_utc"
   ]
  },
  {
   "cell_type": "code",
   "execution_count": 24,
   "id": "503b2f87-73a9-4563-b409-dfbc49085241",
   "metadata": {
    "tags": []
   },
   "outputs": [],
   "source": [
    "# Create dataframe from datetimeindex, reset index and drop the duplicated datetime column\n",
    "# datetime_index_utc.to_frame().reset_index(drop=True, inplace=True)"
   ]
  },
  {
   "cell_type": "code",
   "execution_count": 25,
   "id": "1c6a8916-abb9-466c-8a22-987efc9477de",
   "metadata": {
    "tags": []
   },
   "outputs": [
    {
     "data": {
      "text/html": [
       "<div>\n",
       "<style scoped>\n",
       "    .dataframe tbody tr th:only-of-type {\n",
       "        vertical-align: middle;\n",
       "    }\n",
       "\n",
       "    .dataframe tbody tr th {\n",
       "        vertical-align: top;\n",
       "    }\n",
       "\n",
       "    .dataframe thead th {\n",
       "        text-align: right;\n",
       "    }\n",
       "</style>\n",
       "<table border=\"1\" class=\"dataframe\">\n",
       "  <thead>\n",
       "    <tr style=\"text-align: right;\">\n",
       "      <th></th>\n",
       "      <th>datetime_utc</th>\n",
       "    </tr>\n",
       "  </thead>\n",
       "  <tbody>\n",
       "    <tr>\n",
       "      <th>0</th>\n",
       "      <td>2022-01-01 00:00:00+00:00</td>\n",
       "    </tr>\n",
       "    <tr>\n",
       "      <th>1</th>\n",
       "      <td>2022-01-01 01:00:00+00:00</td>\n",
       "    </tr>\n",
       "    <tr>\n",
       "      <th>2</th>\n",
       "      <td>2022-01-01 02:00:00+00:00</td>\n",
       "    </tr>\n",
       "    <tr>\n",
       "      <th>3</th>\n",
       "      <td>2022-01-01 03:00:00+00:00</td>\n",
       "    </tr>\n",
       "    <tr>\n",
       "      <th>4</th>\n",
       "      <td>2022-01-01 04:00:00+00:00</td>\n",
       "    </tr>\n",
       "    <tr>\n",
       "      <th>...</th>\n",
       "      <td>...</td>\n",
       "    </tr>\n",
       "    <tr>\n",
       "      <th>8755</th>\n",
       "      <td>2022-12-31 19:00:00+00:00</td>\n",
       "    </tr>\n",
       "    <tr>\n",
       "      <th>8756</th>\n",
       "      <td>2022-12-31 20:00:00+00:00</td>\n",
       "    </tr>\n",
       "    <tr>\n",
       "      <th>8757</th>\n",
       "      <td>2022-12-31 21:00:00+00:00</td>\n",
       "    </tr>\n",
       "    <tr>\n",
       "      <th>8758</th>\n",
       "      <td>2022-12-31 22:00:00+00:00</td>\n",
       "    </tr>\n",
       "    <tr>\n",
       "      <th>8759</th>\n",
       "      <td>2022-12-31 23:00:00+00:00</td>\n",
       "    </tr>\n",
       "  </tbody>\n",
       "</table>\n",
       "<p>8760 rows × 1 columns</p>\n",
       "</div>"
      ],
      "text/plain": [
       "                  datetime_utc\n",
       "0    2022-01-01 00:00:00+00:00\n",
       "1    2022-01-01 01:00:00+00:00\n",
       "2    2022-01-01 02:00:00+00:00\n",
       "3    2022-01-01 03:00:00+00:00\n",
       "4    2022-01-01 04:00:00+00:00\n",
       "...                        ...\n",
       "8755 2022-12-31 19:00:00+00:00\n",
       "8756 2022-12-31 20:00:00+00:00\n",
       "8757 2022-12-31 21:00:00+00:00\n",
       "8758 2022-12-31 22:00:00+00:00\n",
       "8759 2022-12-31 23:00:00+00:00\n",
       "\n",
       "[8760 rows x 1 columns]"
      ]
     },
     "execution_count": 25,
     "metadata": {},
     "output_type": "execute_result"
    }
   ],
   "source": [
    "df = datetime_index_utc.to_frame().reset_index(drop=True)\n",
    "df"
   ]
  },
  {
   "cell_type": "code",
   "execution_count": 30,
   "id": "8926b9a7-1f72-4154-96df-46e5e525ef2e",
   "metadata": {
    "tags": []
   },
   "outputs": [],
   "source": [
    "# Extract properties\n",
    "df['hour'] = df['datetime_utc'].dt.hour\n",
    "# 0-6 (Monday-Sunday)\n",
    "df['day_of_week'] = df['datetime_utc'].dt.dayofweek\n",
    "df['day_of_month'] = df['datetime_utc'].dt.day\n",
    "df['month_number'] = df['datetime_utc'].dt.month\n",
    "\n",
    "# Function to get meteorological season based on month number (1-12)\n",
    "# Should I just go ahead and encode the discrete numerical value?\n",
    "def get_meteorological_season(month):\n",
    "    if 3 <= month <= 5:\n",
    "        return 'spring'\n",
    "    elif 6 <= month <= 8:\n",
    "        return 'summer'\n",
    "    elif 9 <= month <= 11:\n",
    "        return 'autumn'\n",
    "    else:\n",
    "        return 'winter'\n",
    "    \n",
    "df['meteorological_season'] = df['month_number'].apply(get_meteorological_season)"
   ]
  },
  {
   "cell_type": "code",
   "execution_count": 31,
   "id": "a52ad929-1b38-4ac1-9a1b-773640b7acb0",
   "metadata": {
    "tags": []
   },
   "outputs": [
    {
     "data": {
      "text/html": [
       "<div>\n",
       "<style scoped>\n",
       "    .dataframe tbody tr th:only-of-type {\n",
       "        vertical-align: middle;\n",
       "    }\n",
       "\n",
       "    .dataframe tbody tr th {\n",
       "        vertical-align: top;\n",
       "    }\n",
       "\n",
       "    .dataframe thead th {\n",
       "        text-align: right;\n",
       "    }\n",
       "</style>\n",
       "<table border=\"1\" class=\"dataframe\">\n",
       "  <thead>\n",
       "    <tr style=\"text-align: right;\">\n",
       "      <th></th>\n",
       "      <th>datetime_utc</th>\n",
       "      <th>hour</th>\n",
       "      <th>day_of_week</th>\n",
       "      <th>day_of_month</th>\n",
       "      <th>month_number</th>\n",
       "      <th>meteorological_season</th>\n",
       "    </tr>\n",
       "  </thead>\n",
       "  <tbody>\n",
       "    <tr>\n",
       "      <th>0</th>\n",
       "      <td>2022-01-01 00:00:00+00:00</td>\n",
       "      <td>0</td>\n",
       "      <td>5</td>\n",
       "      <td>1</td>\n",
       "      <td>1</td>\n",
       "      <td>winter</td>\n",
       "    </tr>\n",
       "    <tr>\n",
       "      <th>1</th>\n",
       "      <td>2022-01-01 01:00:00+00:00</td>\n",
       "      <td>1</td>\n",
       "      <td>5</td>\n",
       "      <td>1</td>\n",
       "      <td>1</td>\n",
       "      <td>winter</td>\n",
       "    </tr>\n",
       "    <tr>\n",
       "      <th>2</th>\n",
       "      <td>2022-01-01 02:00:00+00:00</td>\n",
       "      <td>2</td>\n",
       "      <td>5</td>\n",
       "      <td>1</td>\n",
       "      <td>1</td>\n",
       "      <td>winter</td>\n",
       "    </tr>\n",
       "    <tr>\n",
       "      <th>3</th>\n",
       "      <td>2022-01-01 03:00:00+00:00</td>\n",
       "      <td>3</td>\n",
       "      <td>5</td>\n",
       "      <td>1</td>\n",
       "      <td>1</td>\n",
       "      <td>winter</td>\n",
       "    </tr>\n",
       "    <tr>\n",
       "      <th>4</th>\n",
       "      <td>2022-01-01 04:00:00+00:00</td>\n",
       "      <td>4</td>\n",
       "      <td>5</td>\n",
       "      <td>1</td>\n",
       "      <td>1</td>\n",
       "      <td>winter</td>\n",
       "    </tr>\n",
       "    <tr>\n",
       "      <th>...</th>\n",
       "      <td>...</td>\n",
       "      <td>...</td>\n",
       "      <td>...</td>\n",
       "      <td>...</td>\n",
       "      <td>...</td>\n",
       "      <td>...</td>\n",
       "    </tr>\n",
       "    <tr>\n",
       "      <th>8755</th>\n",
       "      <td>2022-12-31 19:00:00+00:00</td>\n",
       "      <td>19</td>\n",
       "      <td>5</td>\n",
       "      <td>31</td>\n",
       "      <td>12</td>\n",
       "      <td>winter</td>\n",
       "    </tr>\n",
       "    <tr>\n",
       "      <th>8756</th>\n",
       "      <td>2022-12-31 20:00:00+00:00</td>\n",
       "      <td>20</td>\n",
       "      <td>5</td>\n",
       "      <td>31</td>\n",
       "      <td>12</td>\n",
       "      <td>winter</td>\n",
       "    </tr>\n",
       "    <tr>\n",
       "      <th>8757</th>\n",
       "      <td>2022-12-31 21:00:00+00:00</td>\n",
       "      <td>21</td>\n",
       "      <td>5</td>\n",
       "      <td>31</td>\n",
       "      <td>12</td>\n",
       "      <td>winter</td>\n",
       "    </tr>\n",
       "    <tr>\n",
       "      <th>8758</th>\n",
       "      <td>2022-12-31 22:00:00+00:00</td>\n",
       "      <td>22</td>\n",
       "      <td>5</td>\n",
       "      <td>31</td>\n",
       "      <td>12</td>\n",
       "      <td>winter</td>\n",
       "    </tr>\n",
       "    <tr>\n",
       "      <th>8759</th>\n",
       "      <td>2022-12-31 23:00:00+00:00</td>\n",
       "      <td>23</td>\n",
       "      <td>5</td>\n",
       "      <td>31</td>\n",
       "      <td>12</td>\n",
       "      <td>winter</td>\n",
       "    </tr>\n",
       "  </tbody>\n",
       "</table>\n",
       "<p>8760 rows × 6 columns</p>\n",
       "</div>"
      ],
      "text/plain": [
       "                  datetime_utc  hour  day_of_week  day_of_month  month_number  \\\n",
       "0    2022-01-01 00:00:00+00:00     0            5             1             1   \n",
       "1    2022-01-01 01:00:00+00:00     1            5             1             1   \n",
       "2    2022-01-01 02:00:00+00:00     2            5             1             1   \n",
       "3    2022-01-01 03:00:00+00:00     3            5             1             1   \n",
       "4    2022-01-01 04:00:00+00:00     4            5             1             1   \n",
       "...                        ...   ...          ...           ...           ...   \n",
       "8755 2022-12-31 19:00:00+00:00    19            5            31            12   \n",
       "8756 2022-12-31 20:00:00+00:00    20            5            31            12   \n",
       "8757 2022-12-31 21:00:00+00:00    21            5            31            12   \n",
       "8758 2022-12-31 22:00:00+00:00    22            5            31            12   \n",
       "8759 2022-12-31 23:00:00+00:00    23            5            31            12   \n",
       "\n",
       "     meteorological_season  \n",
       "0                   winter  \n",
       "1                   winter  \n",
       "2                   winter  \n",
       "3                   winter  \n",
       "4                   winter  \n",
       "...                    ...  \n",
       "8755                winter  \n",
       "8756                winter  \n",
       "8757                winter  \n",
       "8758                winter  \n",
       "8759                winter  \n",
       "\n",
       "[8760 rows x 6 columns]"
      ]
     },
     "execution_count": 31,
     "metadata": {},
     "output_type": "execute_result"
    }
   ],
   "source": [
    "df"
   ]
  },
  {
   "cell_type": "code",
   "execution_count": null,
   "id": "9eee66a6-9834-4dad-be80-78917dcbd797",
   "metadata": {},
   "outputs": [],
   "source": []
  }
 ],
 "metadata": {
  "kernelspec": {
   "display_name": "course_project",
   "language": "python",
   "name": "course_project"
  },
  "language_info": {
   "codemirror_mode": {
    "name": "ipython",
    "version": 3
   },
   "file_extension": ".py",
   "mimetype": "text/x-python",
   "name": "python",
   "nbconvert_exporter": "python",
   "pygments_lexer": "ipython3",
   "version": "3.10.12"
  }
 },
 "nbformat": 4,
 "nbformat_minor": 5
}
