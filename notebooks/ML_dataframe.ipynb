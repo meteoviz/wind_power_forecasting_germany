{
 "cells": [
  {
   "cell_type": "markdown",
   "id": "7f9a5697-a50e-45e1-b047-07252557afa0",
   "metadata": {},
   "source": [
    "# Building the ML dataframe"
   ]
  },
  {
   "cell_type": "code",
   "execution_count": 1,
   "id": "a207893c-6f98-4c83-b0c1-8a241b78c41d",
   "metadata": {
    "tags": []
   },
   "outputs": [],
   "source": [
    "from pathlib import Path\n",
    "\n",
    "import numpy as np\n",
    "import pandas as pd\n",
    "import xarray as xr"
   ]
  },
  {
   "cell_type": "code",
   "execution_count": 3,
   "id": "ad32155d-e98f-4351-ba14-dada857077c3",
   "metadata": {
    "tags": []
   },
   "outputs": [],
   "source": [
    "# Set max number of columns to display; default 20\n",
    "pd.options.display.max_columns = 80"
   ]
  },
  {
   "cell_type": "code",
   "execution_count": 4,
   "id": "86d7e9b7-8a39-44bc-a77b-670c2411d40d",
   "metadata": {
    "tags": []
   },
   "outputs": [],
   "source": [
    "# Directory where data files will be downloaded\n",
    "cwd_path = Path.cwd()\n",
    "data_path = cwd_path.parent.joinpath('data')\n",
    "data_push_path = cwd_path.parent.joinpath('data_to_push')"
   ]
  },
  {
   "cell_type": "markdown",
   "id": "594f09e2-8dfa-4537-87c8-02f59c316c2f",
   "metadata": {},
   "source": [
    "#### Load in latest wind turbine data\n",
    "- Note: Only 9 turbines decommissioned before 2019!"
   ]
  },
  {
   "cell_type": "code",
   "execution_count": 375,
   "id": "60756d12-c942-4221-8bfb-55539c5cb587",
   "metadata": {
    "tags": []
   },
   "outputs": [
    {
     "name": "stdout",
     "output_type": "stream",
     "text": [
      "<class 'pandas.core.frame.DataFrame'>\n",
      "RangeIndex: 30642 entries, 0 to 30641\n",
      "Data columns (total 30 columns):\n",
      " #   Column                                            Non-Null Count  Dtype              \n",
      "---  ------                                            --------------  -----              \n",
      " 0   EinheitMastrNummer                                30642 non-null  object             \n",
      " 1   DatumLetzteAktualisierung                         30642 non-null  datetime64[ns, UTC]\n",
      " 2   Bundesland                                        30642 non-null  object             \n",
      " 3   Postleitzahl                                      30642 non-null  int64              \n",
      " 4   Ort                                               30642 non-null  object             \n",
      " 5   Laengengrad                                       30642 non-null  float64            \n",
      " 6   Breitengrad                                       30642 non-null  float64            \n",
      " 7   Registrierungsdatum                               30642 non-null  datetime64[ns, UTC]\n",
      " 8   Inbetriebnahmedatum                               30642 non-null  datetime64[ns, UTC]\n",
      " 9   EinheitBetriebsstatus                             30642 non-null  object             \n",
      " 10  DatumEndgueltigeStilllegung                       1155 non-null   datetime64[ns, UTC]\n",
      " 11  DatumBeginnVoruebergehendeStilllegung             68 non-null     datetime64[ns, UTC]\n",
      " 12  DatumWiederaufnahmeBetrieb                        6 non-null      datetime64[ns, UTC]\n",
      " 13  NameStromerzeugungseinheit                        30642 non-null  object             \n",
      " 14  Nettonennleistung                                 30642 non-null  float64            \n",
      " 15  AnschlussAnHoechstOderHochSpannung                22069 non-null  float64            \n",
      " 16  Einspeisungsart                                   30204 non-null  object             \n",
      " 17  NameWindpark                                      29857 non-null  object             \n",
      " 18  Hersteller                                        30385 non-null  object             \n",
      " 19  Technologie                                       30642 non-null  object             \n",
      " 20  Typenbezeichnung                                  30380 non-null  object             \n",
      " 21  Nabenhoehe                                        30642 non-null  float64            \n",
      " 22  Rotordurchmesser                                  30642 non-null  float64            \n",
      " 23  Rotorblattenteisungssystem                        23265 non-null  float64            \n",
      " 24  area_blades                                       30642 non-null  int64              \n",
      " 25  nearest_grid_point                                30642 non-null  object             \n",
      " 26  nearest_grid_point_elevation                      30642 non-null  float64            \n",
      " 27  turbine_elevation                                 30642 non-null  float64            \n",
      " 28  nearest_grid_point_distance                       30642 non-null  float64            \n",
      " 29  turbine_elevation_relative_to_nearest_grid_point  30642 non-null  float64            \n",
      "dtypes: datetime64[ns, UTC](6), float64(11), int64(2), object(11)\n",
      "memory usage: 7.0+ MB\n"
     ]
    }
   ],
   "source": [
    "# Read in latest turbine data\n",
    "# Now only 30,642 after removing 3 turbines outside bounding box\n",
    "df_turbines = pd.read_pickle(data_push_path / 'df_turbines_knn_blades_haversine_elevation_utc.pkl')\n",
    "df_turbines.info()"
   ]
  },
  {
   "cell_type": "code",
   "execution_count": 376,
   "id": "e8b6d791-7cdc-47cf-a229-3e7be5f1cf07",
   "metadata": {
    "tags": []
   },
   "outputs": [],
   "source": [
    "# List of datetime column names for convenient indexing later\n",
    "turbine_date_columns = [\n",
    "    'DatumLetzteAktualisierung',\n",
    "    'Registrierungsdatum',\n",
    "    'Inbetriebnahmedatum',\n",
    "    'DatumEndgueltigeStilllegung',\n",
    "    'DatumBeginnVoruebergehendeStilllegung',\n",
    "    'DatumWiederaufnahmeBetrieb'\n",
    "]"
   ]
  },
  {
   "cell_type": "code",
   "execution_count": 371,
   "id": "23f23d69-5644-4975-b7a8-ffa6547c372a",
   "metadata": {
    "tags": []
   },
   "outputs": [],
   "source": [
    "# # Cast all tz naive datetime64 columns to UTC tz aware\n",
    "# df_turbines[turbine_date_columns] = df_turbines[turbine_date_columns].apply(lambda series: series.dt.tz_localize('UTC'), axis=0)\n",
    "\n",
    "# # save to pickle\n",
    "# df_turbines.to_pickle(data_push_path / 'df_turbines_knn_blades_haversine_elevation_utc.pkl')"
   ]
  },
  {
   "cell_type": "markdown",
   "id": "a7afd1be-4f95-46ca-8725-c5c8fd7eb3cc",
   "metadata": {},
   "source": [
    "-----"
   ]
  },
  {
   "cell_type": "markdown",
   "id": "394288e6-6c14-4f46-a8ce-99f0ba4fc912",
   "metadata": {},
   "source": [
    "#### Load in SMARD energy generated data"
   ]
  },
  {
   "cell_type": "code",
   "execution_count": 680,
   "id": "da86b8a3-c807-4621-8fe2-76067cc762e2",
   "metadata": {
    "tags": []
   },
   "outputs": [],
   "source": [
    "# Get all SMARD CSV files, load into dataframes, and concat them\n",
    "\n",
    "def load_SMARD_generated_data():\n",
    "    \"\"\"\n",
    "    Look for CSV files in the SMARD directory\n",
    "    \"\"\"\n",
    "    list_of_dataframes = []\n",
    "    for filepath in data_path.joinpath('SMARD').iterdir():\n",
    "        if filepath.name.startswith('Realisierte_Erzeugung'):\n",
    "            list_of_dataframes.append(pd.read_csv(filepath, sep=';'))\n",
    "            \n",
    "    # Check that num of rows is what I expect after concatenating dfs\n",
    "    num_of_rows = 0\n",
    "    for df in list_of_dataframes:\n",
    "        num_of_rows += len(df)\n",
    "    \n",
    "    # concat dataframes\n",
    "    df = pd.concat(list_of_dataframes)\n",
    "    print(f'Number of rows match up: {num_of_rows == len(df)}')\n",
    "    \n",
    "    # Select columns to keep\n",
    "    # Note: I'm using the interval start time to create the timestamps\n",
    "    # ERA5 surface parameters are instantaneous so can't perfectly align anyway\n",
    "    df = df[[\n",
    "        'Datum',\n",
    "        'Anfang',\n",
    "        # 'Ende',\n",
    "        'Wind Onshore [MWh] Berechnete Auflösungen'\n",
    "    ]]\n",
    "    \n",
    "    # rename columns\n",
    "    df.rename(columns={\n",
    "        'Datum': 'date',\n",
    "        'Anfang': 'interval_start_time', \n",
    "        # 'Ende': 'interval_end_time',\n",
    "        'Wind Onshore [MWh] Berechnete Auflösungen': 'onshore_generated_mwh'\n",
    "    }, inplace=True)\n",
    "    \n",
    "    # Handle dates and times to create unified datetime64 timestamps\n",
    "    df['date'] = pd.to_datetime(df['date'], format='%d.%m.%Y')\n",
    "    df['start_time_delta'] = pd.to_timedelta(df['interval_start_time'] + ':00')\n",
    "    df['datetime_cet'] = df['date'] + df['start_time_delta']\n",
    "    # Add CET timezone info and infer change from CET->CEST->CET, etc\n",
    "    df['datetime_cet'] = df['datetime_cet'].dt.tz_localize(tz='CET', ambiguous='infer')\n",
    "    \n",
    "    # Drop un-needed columns\n",
    "    df = df.drop(columns=['date', 'start_time_delta', 'interval_start_time'])\n",
    "    # Re-arrange columns\n",
    "    df = df[['datetime_cet', 'onshore_generated_mwh']]\n",
    "    \n",
    "    # Convert European thousands and decimal seperators in values to (US/UK) decimal full stop format\n",
    "    translation_table = str.maketrans({'.': None, ',': '.'})\n",
    "    df['onshore_generated_mwh'] = df['onshore_generated_mwh'].str.translate(translation_table).astype(float)\n",
    "    \n",
    "    # Sort rows by datetime_cet\n",
    "    df.sort_values('datetime_cet', inplace=True)\n",
    "    # Reset index\n",
    "    df.reset_index(drop=True, inplace=True)\n",
    "    \n",
    "    return df.copy()"
   ]
  },
  {
   "cell_type": "code",
   "execution_count": 681,
   "id": "24e68d75-5a7f-470d-957e-2323ecb3b23a",
   "metadata": {
    "tags": []
   },
   "outputs": [
    {
     "name": "stdout",
     "output_type": "stream",
     "text": [
      "Number of rows match up: True\n",
      "<class 'pandas.core.frame.DataFrame'>\n",
      "RangeIndex: 49655 entries, 0 to 49654\n",
      "Data columns (total 2 columns):\n",
      " #   Column                 Non-Null Count  Dtype              \n",
      "---  ------                 --------------  -----              \n",
      " 0   datetime_cet           49655 non-null  datetime64[ns, CET]\n",
      " 1   onshore_generated_mwh  49655 non-null  float64            \n",
      "dtypes: datetime64[ns, CET](1), float64(1)\n",
      "memory usage: 776.0 KB\n"
     ]
    }
   ],
   "source": [
    "# Load SMARD data\n",
    "df_smard_generated = load_SMARD_generated_data()\n",
    "df_smard_generated.info()"
   ]
  },
  {
   "cell_type": "code",
   "execution_count": 682,
   "id": "4b2ae06f-ecc6-4d59-a38d-6313cf519767",
   "metadata": {
    "tags": []
   },
   "outputs": [],
   "source": [
    "# df_smard[df_smard['datetime'] < pd.Timestamp('2022-10-30')]"
   ]
  },
  {
   "cell_type": "code",
   "execution_count": 683,
   "id": "e98838a8-e8a7-4803-a745-80fd1af506ea",
   "metadata": {
    "tags": []
   },
   "outputs": [
    {
     "data": {
      "text/html": [
       "<div>\n",
       "<style scoped>\n",
       "    .dataframe tbody tr th:only-of-type {\n",
       "        vertical-align: middle;\n",
       "    }\n",
       "\n",
       "    .dataframe tbody tr th {\n",
       "        vertical-align: top;\n",
       "    }\n",
       "\n",
       "    .dataframe thead th {\n",
       "        text-align: right;\n",
       "    }\n",
       "</style>\n",
       "<table border=\"1\" class=\"dataframe\">\n",
       "  <thead>\n",
       "    <tr style=\"text-align: right;\">\n",
       "      <th></th>\n",
       "      <th>datetime_cet</th>\n",
       "      <th>onshore_generated_mwh</th>\n",
       "    </tr>\n",
       "  </thead>\n",
       "  <tbody>\n",
       "    <tr>\n",
       "      <th>0</th>\n",
       "      <td>2018-01-01 00:00:00+01:00</td>\n",
       "      <td>28503.50</td>\n",
       "    </tr>\n",
       "    <tr>\n",
       "      <th>1</th>\n",
       "      <td>2018-01-01 01:00:00+01:00</td>\n",
       "      <td>29638.00</td>\n",
       "    </tr>\n",
       "    <tr>\n",
       "      <th>2</th>\n",
       "      <td>2018-01-01 02:00:00+01:00</td>\n",
       "      <td>30173.75</td>\n",
       "    </tr>\n",
       "  </tbody>\n",
       "</table>\n",
       "</div>"
      ],
      "text/plain": [
       "               datetime_cet  onshore_generated_mwh\n",
       "0 2018-01-01 00:00:00+01:00               28503.50\n",
       "1 2018-01-01 01:00:00+01:00               29638.00\n",
       "2 2018-01-01 02:00:00+01:00               30173.75"
      ]
     },
     "execution_count": 683,
     "metadata": {},
     "output_type": "execute_result"
    }
   ],
   "source": [
    "df_smard_generated.head(3)"
   ]
  },
  {
   "cell_type": "markdown",
   "id": "b03ae16e-a4b7-4174-9e46-8e48fc6310a9",
   "metadata": {},
   "source": [
    "-----"
   ]
  },
  {
   "cell_type": "markdown",
   "id": "5ee3ed30-dd65-4a6d-8526-b4f97478de70",
   "metadata": {},
   "source": [
    "#### Load in SMARD day-ahead prices\n",
    "- Wholesale prices: https://www.smard.de/page/en/wiki-article/5884/5976\n",
    "- This is the day-ahead price!\n",
    "    - \"Weighted wholesale electricity price (day-ahead price on the exchange) for each hour [€/MWh] determined on the day-ahead auction that took place ones on the previous day - data is delivered no later than 2 hours after trading closes. Source: ENTSO-E\"\n",
    "- Data only goes back to 2018-10-01 (October 1, 2018)"
   ]
  },
  {
   "cell_type": "code",
   "execution_count": 716,
   "id": "58b57c79-8906-45b3-88b1-80be43113775",
   "metadata": {
    "tags": []
   },
   "outputs": [],
   "source": [
    "# Get all SMARD CSV files, load into dataframes, and concat them\n",
    "\n",
    "def load_SMARD_market_price_data():\n",
    "    \"\"\"\n",
    "    Look for CSV files in the SMARD directory\n",
    "    \"\"\"\n",
    "    list_of_dataframes = []\n",
    "    for filepath in data_path.joinpath('SMARD').iterdir():\n",
    "        if filepath.name.startswith('Gro_handelspreise'):\n",
    "            list_of_dataframes.append(pd.read_csv(filepath, sep=';', na_values='-'))\n",
    "            \n",
    "    # Check that num of rows is what I expect after concatenating dfs\n",
    "    num_of_rows = 0\n",
    "    for df in list_of_dataframes:\n",
    "        num_of_rows += len(df)\n",
    "    \n",
    "    # concat dataframes\n",
    "    df = pd.concat(list_of_dataframes)\n",
    "    print(f'Number of rows match up: {num_of_rows == len(df)}')\n",
    "    \n",
    "    # Select columns to keep\n",
    "    # Note: I'm using the interval start time to create the timestamps\n",
    "    # ERA5 surface parameters are instantaneous so can't perfectly align anyway\n",
    "    df = df[[\n",
    "        'Datum',\n",
    "        'Anfang',\n",
    "        # 'Ende',\n",
    "        'Deutschland/Luxemburg [€/MWh] Originalauflösungen'\n",
    "    ]]\n",
    "    \n",
    "    # rename columns\n",
    "    df.rename(columns={\n",
    "        'Datum': 'date',\n",
    "        'Anfang': 'interval_start_time', \n",
    "        # 'Ende': 'interval_end_time',\n",
    "        'Deutschland/Luxemburg [€/MWh] Originalauflösungen': 'day_ahead_price_eur_mwh'\n",
    "    }, inplace=True)\n",
    "    \n",
    "    # Handle dates and times to create unified datetime64 timestamps\n",
    "    df['date'] = pd.to_datetime(df['date'], format='%d.%m.%Y')\n",
    "    df['start_time_delta'] = pd.to_timedelta(df['interval_start_time'] + ':00')\n",
    "    df['datetime_cet'] = df['date'] + df['start_time_delta']\n",
    "    # Add CET timezone info and infer change from CET->CEST->CET, etc\n",
    "    df['datetime_cet'] = df['datetime_cet'].dt.tz_localize(tz='CET', ambiguous='infer')\n",
    "    \n",
    "    # Drop un-needed columns\n",
    "    df = df.drop(columns=['date', 'start_time_delta', 'interval_start_time'])\n",
    "    # Re-arrange columns\n",
    "    df = df[['datetime_cet', 'day_ahead_price_eur_mwh']]\n",
    "    \n",
    "    # Convert European thousands and decimal seperators in values to (US/UK) decimal full stop format\n",
    "    translation_table = str.maketrans({'.': None, ',': '.'})\n",
    "    df['day_ahead_price_eur_mwh'] = df['day_ahead_price_eur_mwh'].str.translate(translation_table).astype(float)\n",
    "    \n",
    "    # Sort rows by datetime_cet\n",
    "    df.sort_values('datetime_cet', inplace=True)\n",
    "    # Reset index\n",
    "    df.reset_index(drop=True, inplace=True)\n",
    "    \n",
    "    return df.copy()"
   ]
  },
  {
   "cell_type": "code",
   "execution_count": 717,
   "id": "0ba10680-0ec5-4008-8b61-efc90d159c21",
   "metadata": {
    "tags": []
   },
   "outputs": [
    {
     "name": "stdout",
     "output_type": "stream",
     "text": [
      "Number of rows match up: True\n"
     ]
    }
   ],
   "source": [
    "df_smard_market_price = load_SMARD_market_price_data()"
   ]
  },
  {
   "cell_type": "code",
   "execution_count": 718,
   "id": "2afe653b-e839-43db-872e-d2b5edaadf83",
   "metadata": {
    "tags": []
   },
   "outputs": [],
   "source": [
    "# df_smard_market_price = pd.read_csv(data_path.joinpath('SMARD') / 'Gro_handelspreise_202201010000_202212312359_Stunde.csv', sep=';')"
   ]
  },
  {
   "cell_type": "code",
   "execution_count": 719,
   "id": "207ef6b8-f1c8-4c09-bdd4-a2edc7884667",
   "metadata": {
    "tags": []
   },
   "outputs": [
    {
     "data": {
      "text/html": [
       "<div>\n",
       "<style scoped>\n",
       "    .dataframe tbody tr th:only-of-type {\n",
       "        vertical-align: middle;\n",
       "    }\n",
       "\n",
       "    .dataframe tbody tr th {\n",
       "        vertical-align: top;\n",
       "    }\n",
       "\n",
       "    .dataframe thead th {\n",
       "        text-align: right;\n",
       "    }\n",
       "</style>\n",
       "<table border=\"1\" class=\"dataframe\">\n",
       "  <thead>\n",
       "    <tr style=\"text-align: right;\">\n",
       "      <th></th>\n",
       "      <th>datetime_cet</th>\n",
       "      <th>day_ahead_price_eur_mwh</th>\n",
       "    </tr>\n",
       "  </thead>\n",
       "  <tbody>\n",
       "    <tr>\n",
       "      <th>6550</th>\n",
       "      <td>2018-09-30 23:00:00+02:00</td>\n",
       "      <td>NaN</td>\n",
       "    </tr>\n",
       "    <tr>\n",
       "      <th>6551</th>\n",
       "      <td>2018-10-01 00:00:00+02:00</td>\n",
       "      <td>59.53</td>\n",
       "    </tr>\n",
       "    <tr>\n",
       "      <th>6552</th>\n",
       "      <td>2018-10-01 01:00:00+02:00</td>\n",
       "      <td>56.10</td>\n",
       "    </tr>\n",
       "    <tr>\n",
       "      <th>6553</th>\n",
       "      <td>2018-10-01 02:00:00+02:00</td>\n",
       "      <td>51.41</td>\n",
       "    </tr>\n",
       "    <tr>\n",
       "      <th>6554</th>\n",
       "      <td>2018-10-01 03:00:00+02:00</td>\n",
       "      <td>47.38</td>\n",
       "    </tr>\n",
       "    <tr>\n",
       "      <th>6555</th>\n",
       "      <td>2018-10-01 04:00:00+02:00</td>\n",
       "      <td>47.59</td>\n",
       "    </tr>\n",
       "    <tr>\n",
       "      <th>6556</th>\n",
       "      <td>2018-10-01 05:00:00+02:00</td>\n",
       "      <td>51.61</td>\n",
       "    </tr>\n",
       "    <tr>\n",
       "      <th>6557</th>\n",
       "      <td>2018-10-01 06:00:00+02:00</td>\n",
       "      <td>69.13</td>\n",
       "    </tr>\n",
       "    <tr>\n",
       "      <th>6558</th>\n",
       "      <td>2018-10-01 07:00:00+02:00</td>\n",
       "      <td>77.32</td>\n",
       "    </tr>\n",
       "    <tr>\n",
       "      <th>6559</th>\n",
       "      <td>2018-10-01 08:00:00+02:00</td>\n",
       "      <td>84.97</td>\n",
       "    </tr>\n",
       "    <tr>\n",
       "      <th>6560</th>\n",
       "      <td>2018-10-01 09:00:00+02:00</td>\n",
       "      <td>79.56</td>\n",
       "    </tr>\n",
       "    <tr>\n",
       "      <th>6561</th>\n",
       "      <td>2018-10-01 10:00:00+02:00</td>\n",
       "      <td>73.70</td>\n",
       "    </tr>\n",
       "    <tr>\n",
       "      <th>6562</th>\n",
       "      <td>2018-10-01 11:00:00+02:00</td>\n",
       "      <td>71.63</td>\n",
       "    </tr>\n",
       "    <tr>\n",
       "      <th>6563</th>\n",
       "      <td>2018-10-01 12:00:00+02:00</td>\n",
       "      <td>63.15</td>\n",
       "    </tr>\n",
       "    <tr>\n",
       "      <th>6564</th>\n",
       "      <td>2018-10-01 13:00:00+02:00</td>\n",
       "      <td>60.24</td>\n",
       "    </tr>\n",
       "    <tr>\n",
       "      <th>6565</th>\n",
       "      <td>2018-10-01 14:00:00+02:00</td>\n",
       "      <td>56.18</td>\n",
       "    </tr>\n",
       "    <tr>\n",
       "      <th>6566</th>\n",
       "      <td>2018-10-01 15:00:00+02:00</td>\n",
       "      <td>53.00</td>\n",
       "    </tr>\n",
       "    <tr>\n",
       "      <th>6567</th>\n",
       "      <td>2018-10-01 16:00:00+02:00</td>\n",
       "      <td>53.37</td>\n",
       "    </tr>\n",
       "    <tr>\n",
       "      <th>6568</th>\n",
       "      <td>2018-10-01 17:00:00+02:00</td>\n",
       "      <td>60.42</td>\n",
       "    </tr>\n",
       "    <tr>\n",
       "      <th>6569</th>\n",
       "      <td>2018-10-01 18:00:00+02:00</td>\n",
       "      <td>69.93</td>\n",
       "    </tr>\n",
       "  </tbody>\n",
       "</table>\n",
       "</div>"
      ],
      "text/plain": [
       "                  datetime_cet  day_ahead_price_eur_mwh\n",
       "6550 2018-09-30 23:00:00+02:00                      NaN\n",
       "6551 2018-10-01 00:00:00+02:00                    59.53\n",
       "6552 2018-10-01 01:00:00+02:00                    56.10\n",
       "6553 2018-10-01 02:00:00+02:00                    51.41\n",
       "6554 2018-10-01 03:00:00+02:00                    47.38\n",
       "6555 2018-10-01 04:00:00+02:00                    47.59\n",
       "6556 2018-10-01 05:00:00+02:00                    51.61\n",
       "6557 2018-10-01 06:00:00+02:00                    69.13\n",
       "6558 2018-10-01 07:00:00+02:00                    77.32\n",
       "6559 2018-10-01 08:00:00+02:00                    84.97\n",
       "6560 2018-10-01 09:00:00+02:00                    79.56\n",
       "6561 2018-10-01 10:00:00+02:00                    73.70\n",
       "6562 2018-10-01 11:00:00+02:00                    71.63\n",
       "6563 2018-10-01 12:00:00+02:00                    63.15\n",
       "6564 2018-10-01 13:00:00+02:00                    60.24\n",
       "6565 2018-10-01 14:00:00+02:00                    56.18\n",
       "6566 2018-10-01 15:00:00+02:00                    53.00\n",
       "6567 2018-10-01 16:00:00+02:00                    53.37\n",
       "6568 2018-10-01 17:00:00+02:00                    60.42\n",
       "6569 2018-10-01 18:00:00+02:00                    69.93"
      ]
     },
     "execution_count": 719,
     "metadata": {},
     "output_type": "execute_result"
    }
   ],
   "source": [
    "df_smard_market_price.iloc[6550:].head(20)"
   ]
  },
  {
   "cell_type": "code",
   "execution_count": 721,
   "id": "9aa08fb2-1ac8-4aad-a20d-d73bfe945586",
   "metadata": {
    "tags": []
   },
   "outputs": [
    {
     "data": {
      "text/plain": [
       "datetime_cet                  0\n",
       "day_ahead_price_eur_mwh    6551\n",
       "dtype: int64"
      ]
     },
     "execution_count": 721,
     "metadata": {},
     "output_type": "execute_result"
    }
   ],
   "source": [
    "df_smard_market_price.isna().sum()"
   ]
  },
  {
   "cell_type": "code",
   "execution_count": 720,
   "id": "07a8495e-e2c7-44a3-acb2-8b744038b2a6",
   "metadata": {
    "tags": []
   },
   "outputs": [
    {
     "data": {
      "text/plain": [
       "count    43848.000000\n",
       "mean        98.728242\n",
       "std        106.185053\n",
       "min       -500.000000\n",
       "25%         35.500000\n",
       "50%         56.065000\n",
       "75%        121.902500\n",
       "max        871.000000\n",
       "Name: day_ahead_price_eur_mwh, dtype: float64"
      ]
     },
     "execution_count": 720,
     "metadata": {},
     "output_type": "execute_result"
    }
   ],
   "source": [
    "df_smard_market_price['day_ahead_price_eur_mwh'].describe()"
   ]
  },
  {
   "cell_type": "markdown",
   "id": "b1390efc-5355-4ea2-a6a0-347edb76b444",
   "metadata": {},
   "source": [
    "-----"
   ]
  },
  {
   "cell_type": "markdown",
   "id": "59e0627e-fdce-497a-80b6-33bec255295e",
   "metadata": {},
   "source": [
    "#### Load in SMARD installed capacity data"
   ]
  },
  {
   "cell_type": "code",
   "execution_count": 722,
   "id": "f361fedf-2472-4048-8039-67f9230d05e3",
   "metadata": {
    "tags": []
   },
   "outputs": [],
   "source": [
    "def load_SMARD_installed_capacity_data():\n",
    "    \"\"\"\n",
    "    Look for CSV files in the SMARD directory\n",
    "    \"\"\"\n",
    "    list_of_dataframes = []\n",
    "    for filepath in data_path.joinpath('SMARD').iterdir():\n",
    "        if filepath.name.startswith('Installierte_Erzeugungsleistung'):\n",
    "            list_of_dataframes.append(pd.read_csv(filepath, sep=';'))\n",
    "            \n",
    "    # Check that num of rows is what I expect after concatenating dfs\n",
    "    num_of_rows = 0\n",
    "    for df in list_of_dataframes:\n",
    "        num_of_rows += len(df)\n",
    "    \n",
    "    # concat dataframes\n",
    "    df = pd.concat(list_of_dataframes)\n",
    "    print(f'Number of rows match up: {num_of_rows == len(df)}')\n",
    "    \n",
    "    return df.copy()"
   ]
  },
  {
   "cell_type": "code",
   "execution_count": 723,
   "id": "888a84e1-95e8-4921-a7d4-df7db6a234af",
   "metadata": {
    "tags": []
   },
   "outputs": [
    {
     "name": "stdout",
     "output_type": "stream",
     "text": [
      "Number of rows match up: True\n"
     ]
    }
   ],
   "source": [
    "df_smard_installed_capacity = load_SMARD_installed_capacity_data()"
   ]
  },
  {
   "cell_type": "code",
   "execution_count": 724,
   "id": "94ed203e-734c-460f-a350-6ca262ba7be6",
   "metadata": {
    "tags": []
   },
   "outputs": [
    {
     "name": "stdout",
     "output_type": "stream",
     "text": [
      "<class 'pandas.core.frame.DataFrame'>\n",
      "Index: 41639 entries, 0 to 5830\n",
      "Data columns (total 15 columns):\n",
      " #   Column                                               Non-Null Count  Dtype  \n",
      "---  ------                                               --------------  -----  \n",
      " 0   Datum                                                41639 non-null  object \n",
      " 1   Anfang                                               41639 non-null  object \n",
      " 2   Ende                                                 41639 non-null  object \n",
      " 3   Biomasse [MW] Berechnete Auflösungen                 41639 non-null  float64\n",
      " 4   Wasserkraft [MW] Berechnete Auflösungen              41639 non-null  float64\n",
      " 5   Wind Offshore [MW] Berechnete Auflösungen            41639 non-null  float64\n",
      " 6   Wind Onshore [MW] Berechnete Auflösungen             41639 non-null  float64\n",
      " 7   Photovoltaik [MW] Berechnete Auflösungen             41639 non-null  float64\n",
      " 8   Sonstige Erneuerbare [MW] Berechnete Auflösungen     41639 non-null  int64  \n",
      " 9   Kernenergie [MW] Berechnete Auflösungen              41639 non-null  float64\n",
      " 10  Braunkohle [MW] Berechnete Auflösungen               41639 non-null  float64\n",
      " 11  Steinkohle [MW] Berechnete Auflösungen               41639 non-null  float64\n",
      " 12  Erdgas [MW] Berechnete Auflösungen                   41639 non-null  float64\n",
      " 13  Pumpspeicher [MW] Berechnete Auflösungen             41639 non-null  float64\n",
      " 14  Sonstige Konventionelle [MW] Berechnete Auflösungen  41639 non-null  float64\n",
      "dtypes: float64(11), int64(1), object(3)\n",
      "memory usage: 5.1+ MB\n"
     ]
    }
   ],
   "source": [
    "df_smard_installed_capacity.info()"
   ]
  },
  {
   "cell_type": "code",
   "execution_count": 725,
   "id": "4757e9a6-5d28-4452-b1c3-5d43923b42ce",
   "metadata": {
    "tags": []
   },
   "outputs": [
    {
     "data": {
      "text/html": [
       "<div>\n",
       "<style scoped>\n",
       "    .dataframe tbody tr th:only-of-type {\n",
       "        vertical-align: middle;\n",
       "    }\n",
       "\n",
       "    .dataframe tbody tr th {\n",
       "        vertical-align: top;\n",
       "    }\n",
       "\n",
       "    .dataframe thead th {\n",
       "        text-align: right;\n",
       "    }\n",
       "</style>\n",
       "<table border=\"1\" class=\"dataframe\">\n",
       "  <thead>\n",
       "    <tr style=\"text-align: right;\">\n",
       "      <th></th>\n",
       "      <th>Datum</th>\n",
       "      <th>Anfang</th>\n",
       "      <th>Ende</th>\n",
       "      <th>Biomasse [MW] Berechnete Auflösungen</th>\n",
       "      <th>Wasserkraft [MW] Berechnete Auflösungen</th>\n",
       "      <th>Wind Offshore [MW] Berechnete Auflösungen</th>\n",
       "      <th>Wind Onshore [MW] Berechnete Auflösungen</th>\n",
       "      <th>Photovoltaik [MW] Berechnete Auflösungen</th>\n",
       "      <th>Sonstige Erneuerbare [MW] Berechnete Auflösungen</th>\n",
       "      <th>Kernenergie [MW] Berechnete Auflösungen</th>\n",
       "      <th>Braunkohle [MW] Berechnete Auflösungen</th>\n",
       "      <th>Steinkohle [MW] Berechnete Auflösungen</th>\n",
       "      <th>Erdgas [MW] Berechnete Auflösungen</th>\n",
       "      <th>Pumpspeicher [MW] Berechnete Auflösungen</th>\n",
       "      <th>Sonstige Konventionelle [MW] Berechnete Auflösungen</th>\n",
       "    </tr>\n",
       "  </thead>\n",
       "  <tbody>\n",
       "    <tr>\n",
       "      <th>0</th>\n",
       "      <td>01.01.2021</td>\n",
       "      <td>00:00</td>\n",
       "      <td>01:00</td>\n",
       "      <td>8.400</td>\n",
       "      <td>5.112</td>\n",
       "      <td>7.774</td>\n",
       "      <td>54.499</td>\n",
       "      <td>53.302</td>\n",
       "      <td>464</td>\n",
       "      <td>8.114</td>\n",
       "      <td>20.487</td>\n",
       "      <td>23.499</td>\n",
       "      <td>31.942</td>\n",
       "      <td>9.422</td>\n",
       "      <td>7.463</td>\n",
       "    </tr>\n",
       "    <tr>\n",
       "      <th>1</th>\n",
       "      <td>01.01.2021</td>\n",
       "      <td>01:00</td>\n",
       "      <td>02:00</td>\n",
       "      <td>8.400</td>\n",
       "      <td>5.112</td>\n",
       "      <td>7.774</td>\n",
       "      <td>54.499</td>\n",
       "      <td>53.302</td>\n",
       "      <td>464</td>\n",
       "      <td>8.114</td>\n",
       "      <td>20.487</td>\n",
       "      <td>23.499</td>\n",
       "      <td>31.942</td>\n",
       "      <td>9.422</td>\n",
       "      <td>7.463</td>\n",
       "    </tr>\n",
       "    <tr>\n",
       "      <th>2</th>\n",
       "      <td>01.01.2021</td>\n",
       "      <td>02:00</td>\n",
       "      <td>03:00</td>\n",
       "      <td>8.400</td>\n",
       "      <td>5.112</td>\n",
       "      <td>7.774</td>\n",
       "      <td>54.499</td>\n",
       "      <td>53.302</td>\n",
       "      <td>464</td>\n",
       "      <td>8.114</td>\n",
       "      <td>20.487</td>\n",
       "      <td>23.499</td>\n",
       "      <td>31.942</td>\n",
       "      <td>9.422</td>\n",
       "      <td>7.463</td>\n",
       "    </tr>\n",
       "    <tr>\n",
       "      <th>3</th>\n",
       "      <td>01.01.2021</td>\n",
       "      <td>03:00</td>\n",
       "      <td>04:00</td>\n",
       "      <td>8.400</td>\n",
       "      <td>5.112</td>\n",
       "      <td>7.774</td>\n",
       "      <td>54.499</td>\n",
       "      <td>53.302</td>\n",
       "      <td>464</td>\n",
       "      <td>8.114</td>\n",
       "      <td>20.487</td>\n",
       "      <td>23.499</td>\n",
       "      <td>31.942</td>\n",
       "      <td>9.422</td>\n",
       "      <td>7.463</td>\n",
       "    </tr>\n",
       "    <tr>\n",
       "      <th>4</th>\n",
       "      <td>01.01.2021</td>\n",
       "      <td>04:00</td>\n",
       "      <td>05:00</td>\n",
       "      <td>8.400</td>\n",
       "      <td>5.112</td>\n",
       "      <td>7.774</td>\n",
       "      <td>54.499</td>\n",
       "      <td>53.302</td>\n",
       "      <td>464</td>\n",
       "      <td>8.114</td>\n",
       "      <td>20.487</td>\n",
       "      <td>23.499</td>\n",
       "      <td>31.942</td>\n",
       "      <td>9.422</td>\n",
       "      <td>7.463</td>\n",
       "    </tr>\n",
       "    <tr>\n",
       "      <th>...</th>\n",
       "      <td>...</td>\n",
       "      <td>...</td>\n",
       "      <td>...</td>\n",
       "      <td>...</td>\n",
       "      <td>...</td>\n",
       "      <td>...</td>\n",
       "      <td>...</td>\n",
       "      <td>...</td>\n",
       "      <td>...</td>\n",
       "      <td>...</td>\n",
       "      <td>...</td>\n",
       "      <td>...</td>\n",
       "      <td>...</td>\n",
       "      <td>...</td>\n",
       "      <td>...</td>\n",
       "    </tr>\n",
       "    <tr>\n",
       "      <th>5826</th>\n",
       "      <td>31.08.2023</td>\n",
       "      <td>19:00</td>\n",
       "      <td>20:00</td>\n",
       "      <td>8.467</td>\n",
       "      <td>5.148</td>\n",
       "      <td>8.129</td>\n",
       "      <td>57.590</td>\n",
       "      <td>63.066</td>\n",
       "      <td>440</td>\n",
       "      <td>4.056</td>\n",
       "      <td>17.692</td>\n",
       "      <td>18.127</td>\n",
       "      <td>31.808</td>\n",
       "      <td>10.028</td>\n",
       "      <td>8.958</td>\n",
       "    </tr>\n",
       "    <tr>\n",
       "      <th>5827</th>\n",
       "      <td>31.08.2023</td>\n",
       "      <td>20:00</td>\n",
       "      <td>21:00</td>\n",
       "      <td>8.467</td>\n",
       "      <td>5.148</td>\n",
       "      <td>8.129</td>\n",
       "      <td>57.590</td>\n",
       "      <td>63.066</td>\n",
       "      <td>440</td>\n",
       "      <td>4.056</td>\n",
       "      <td>17.692</td>\n",
       "      <td>18.127</td>\n",
       "      <td>31.808</td>\n",
       "      <td>10.028</td>\n",
       "      <td>8.958</td>\n",
       "    </tr>\n",
       "    <tr>\n",
       "      <th>5828</th>\n",
       "      <td>31.08.2023</td>\n",
       "      <td>21:00</td>\n",
       "      <td>22:00</td>\n",
       "      <td>8.467</td>\n",
       "      <td>5.148</td>\n",
       "      <td>8.129</td>\n",
       "      <td>57.590</td>\n",
       "      <td>63.066</td>\n",
       "      <td>440</td>\n",
       "      <td>4.056</td>\n",
       "      <td>17.692</td>\n",
       "      <td>18.127</td>\n",
       "      <td>31.808</td>\n",
       "      <td>10.028</td>\n",
       "      <td>8.958</td>\n",
       "    </tr>\n",
       "    <tr>\n",
       "      <th>5829</th>\n",
       "      <td>31.08.2023</td>\n",
       "      <td>22:00</td>\n",
       "      <td>23:00</td>\n",
       "      <td>8.467</td>\n",
       "      <td>5.148</td>\n",
       "      <td>8.129</td>\n",
       "      <td>57.590</td>\n",
       "      <td>63.066</td>\n",
       "      <td>440</td>\n",
       "      <td>4.056</td>\n",
       "      <td>17.692</td>\n",
       "      <td>18.127</td>\n",
       "      <td>31.808</td>\n",
       "      <td>10.028</td>\n",
       "      <td>8.958</td>\n",
       "    </tr>\n",
       "    <tr>\n",
       "      <th>5830</th>\n",
       "      <td>31.08.2023</td>\n",
       "      <td>23:00</td>\n",
       "      <td>00:00</td>\n",
       "      <td>8.467</td>\n",
       "      <td>5.148</td>\n",
       "      <td>8.129</td>\n",
       "      <td>57.590</td>\n",
       "      <td>63.066</td>\n",
       "      <td>440</td>\n",
       "      <td>4.056</td>\n",
       "      <td>17.692</td>\n",
       "      <td>18.127</td>\n",
       "      <td>31.808</td>\n",
       "      <td>10.028</td>\n",
       "      <td>8.958</td>\n",
       "    </tr>\n",
       "  </tbody>\n",
       "</table>\n",
       "<p>41639 rows × 15 columns</p>\n",
       "</div>"
      ],
      "text/plain": [
       "           Datum Anfang   Ende  Biomasse [MW] Berechnete Auflösungen  \\\n",
       "0     01.01.2021  00:00  01:00                                 8.400   \n",
       "1     01.01.2021  01:00  02:00                                 8.400   \n",
       "2     01.01.2021  02:00  03:00                                 8.400   \n",
       "3     01.01.2021  03:00  04:00                                 8.400   \n",
       "4     01.01.2021  04:00  05:00                                 8.400   \n",
       "...          ...    ...    ...                                   ...   \n",
       "5826  31.08.2023  19:00  20:00                                 8.467   \n",
       "5827  31.08.2023  20:00  21:00                                 8.467   \n",
       "5828  31.08.2023  21:00  22:00                                 8.467   \n",
       "5829  31.08.2023  22:00  23:00                                 8.467   \n",
       "5830  31.08.2023  23:00  00:00                                 8.467   \n",
       "\n",
       "      Wasserkraft [MW] Berechnete Auflösungen  \\\n",
       "0                                       5.112   \n",
       "1                                       5.112   \n",
       "2                                       5.112   \n",
       "3                                       5.112   \n",
       "4                                       5.112   \n",
       "...                                       ...   \n",
       "5826                                    5.148   \n",
       "5827                                    5.148   \n",
       "5828                                    5.148   \n",
       "5829                                    5.148   \n",
       "5830                                    5.148   \n",
       "\n",
       "      Wind Offshore [MW] Berechnete Auflösungen  \\\n",
       "0                                         7.774   \n",
       "1                                         7.774   \n",
       "2                                         7.774   \n",
       "3                                         7.774   \n",
       "4                                         7.774   \n",
       "...                                         ...   \n",
       "5826                                      8.129   \n",
       "5827                                      8.129   \n",
       "5828                                      8.129   \n",
       "5829                                      8.129   \n",
       "5830                                      8.129   \n",
       "\n",
       "      Wind Onshore [MW] Berechnete Auflösungen  \\\n",
       "0                                       54.499   \n",
       "1                                       54.499   \n",
       "2                                       54.499   \n",
       "3                                       54.499   \n",
       "4                                       54.499   \n",
       "...                                        ...   \n",
       "5826                                    57.590   \n",
       "5827                                    57.590   \n",
       "5828                                    57.590   \n",
       "5829                                    57.590   \n",
       "5830                                    57.590   \n",
       "\n",
       "      Photovoltaik [MW] Berechnete Auflösungen  \\\n",
       "0                                       53.302   \n",
       "1                                       53.302   \n",
       "2                                       53.302   \n",
       "3                                       53.302   \n",
       "4                                       53.302   \n",
       "...                                        ...   \n",
       "5826                                    63.066   \n",
       "5827                                    63.066   \n",
       "5828                                    63.066   \n",
       "5829                                    63.066   \n",
       "5830                                    63.066   \n",
       "\n",
       "      Sonstige Erneuerbare [MW] Berechnete Auflösungen  \\\n",
       "0                                                  464   \n",
       "1                                                  464   \n",
       "2                                                  464   \n",
       "3                                                  464   \n",
       "4                                                  464   \n",
       "...                                                ...   \n",
       "5826                                               440   \n",
       "5827                                               440   \n",
       "5828                                               440   \n",
       "5829                                               440   \n",
       "5830                                               440   \n",
       "\n",
       "      Kernenergie [MW] Berechnete Auflösungen  \\\n",
       "0                                       8.114   \n",
       "1                                       8.114   \n",
       "2                                       8.114   \n",
       "3                                       8.114   \n",
       "4                                       8.114   \n",
       "...                                       ...   \n",
       "5826                                    4.056   \n",
       "5827                                    4.056   \n",
       "5828                                    4.056   \n",
       "5829                                    4.056   \n",
       "5830                                    4.056   \n",
       "\n",
       "      Braunkohle [MW] Berechnete Auflösungen  \\\n",
       "0                                     20.487   \n",
       "1                                     20.487   \n",
       "2                                     20.487   \n",
       "3                                     20.487   \n",
       "4                                     20.487   \n",
       "...                                      ...   \n",
       "5826                                  17.692   \n",
       "5827                                  17.692   \n",
       "5828                                  17.692   \n",
       "5829                                  17.692   \n",
       "5830                                  17.692   \n",
       "\n",
       "      Steinkohle [MW] Berechnete Auflösungen  \\\n",
       "0                                     23.499   \n",
       "1                                     23.499   \n",
       "2                                     23.499   \n",
       "3                                     23.499   \n",
       "4                                     23.499   \n",
       "...                                      ...   \n",
       "5826                                  18.127   \n",
       "5827                                  18.127   \n",
       "5828                                  18.127   \n",
       "5829                                  18.127   \n",
       "5830                                  18.127   \n",
       "\n",
       "      Erdgas [MW] Berechnete Auflösungen  \\\n",
       "0                                 31.942   \n",
       "1                                 31.942   \n",
       "2                                 31.942   \n",
       "3                                 31.942   \n",
       "4                                 31.942   \n",
       "...                                  ...   \n",
       "5826                              31.808   \n",
       "5827                              31.808   \n",
       "5828                              31.808   \n",
       "5829                              31.808   \n",
       "5830                              31.808   \n",
       "\n",
       "      Pumpspeicher [MW] Berechnete Auflösungen  \\\n",
       "0                                        9.422   \n",
       "1                                        9.422   \n",
       "2                                        9.422   \n",
       "3                                        9.422   \n",
       "4                                        9.422   \n",
       "...                                        ...   \n",
       "5826                                    10.028   \n",
       "5827                                    10.028   \n",
       "5828                                    10.028   \n",
       "5829                                    10.028   \n",
       "5830                                    10.028   \n",
       "\n",
       "      Sonstige Konventionelle [MW] Berechnete Auflösungen  \n",
       "0                                                 7.463    \n",
       "1                                                 7.463    \n",
       "2                                                 7.463    \n",
       "3                                                 7.463    \n",
       "4                                                 7.463    \n",
       "...                                                 ...    \n",
       "5826                                              8.958    \n",
       "5827                                              8.958    \n",
       "5828                                              8.958    \n",
       "5829                                              8.958    \n",
       "5830                                              8.958    \n",
       "\n",
       "[41639 rows x 15 columns]"
      ]
     },
     "execution_count": 725,
     "metadata": {},
     "output_type": "execute_result"
    }
   ],
   "source": [
    "df_smard_installed_capacity"
   ]
  },
  {
   "cell_type": "code",
   "execution_count": null,
   "id": "95a0e05d-9ac5-4833-9f48-e678b9912d10",
   "metadata": {},
   "outputs": [],
   "source": []
  },
  {
   "cell_type": "code",
   "execution_count": null,
   "id": "b88f65c6-5548-4e19-a1d4-39ed8807e1e9",
   "metadata": {},
   "outputs": [],
   "source": []
  },
  {
   "cell_type": "code",
   "execution_count": null,
   "id": "178dfdc3-1425-434c-adac-4c9e5146f56b",
   "metadata": {},
   "outputs": [],
   "source": []
  },
  {
   "cell_type": "code",
   "execution_count": null,
   "id": "23113a9e-0a9f-4f72-8fc7-bc182e2ed919",
   "metadata": {},
   "outputs": [],
   "source": []
  },
  {
   "cell_type": "code",
   "execution_count": null,
   "id": "ae2259e7-c638-4f45-8aa5-eb2514101d3a",
   "metadata": {},
   "outputs": [],
   "source": []
  },
  {
   "cell_type": "markdown",
   "id": "4831fa1f-bb2a-4b9f-ae27-2f9cdaeb8a00",
   "metadata": {},
   "source": [
    "------"
   ]
  },
  {
   "cell_type": "markdown",
   "id": "c9ddb688-d9f2-40b5-839f-82073d53ba6a",
   "metadata": {},
   "source": [
    "#### Load in SMARD day-ahead generation forecast"
   ]
  },
  {
   "cell_type": "code",
   "execution_count": null,
   "id": "a33ca2cf-0d43-4582-9ff2-dc710d7906a4",
   "metadata": {},
   "outputs": [],
   "source": [
    "def load_SMARD_forecasted_generation_data():\n",
    "    \"\"\"\n",
    "    Look for CSV files in the SMARD directory\n",
    "    \"\"\"\n",
    "    list_of_dataframes = []\n",
    "    for filepath in data_path.joinpath('SMARD').iterdir():\n",
    "        if filepath.name.startswith('Prognostizierte_Erzeugung_Day-Ahead'):\n",
    "            list_of_dataframes.append(pd.read_csv(filepath, sep=';'))\n",
    "            \n",
    "    # Check that num of rows is what I expect after concatenating dfs\n",
    "    num_of_rows = 0\n",
    "    for df in list_of_dataframes:\n",
    "        num_of_rows += len(df)\n",
    "    \n",
    "    # concat dataframes\n",
    "    df = pd.concat(list_of_dataframes)\n",
    "    print(f'Number of rows match up: {num_of_rows == len(df)}')\n",
    "    \n",
    "    return df.copy()"
   ]
  },
  {
   "cell_type": "code",
   "execution_count": null,
   "id": "3b1658ac-b2a4-47f3-9b4a-7bf9df8e9ebc",
   "metadata": {},
   "outputs": [],
   "source": [
    "df_smard_market_price = load_SMARD_market_price_data()"
   ]
  },
  {
   "cell_type": "code",
   "execution_count": null,
   "id": "c50ee98e-5e2d-4f45-a398-95e1b269cfdb",
   "metadata": {},
   "outputs": [],
   "source": []
  },
  {
   "cell_type": "code",
   "execution_count": null,
   "id": "14bbdff1-c2cd-4884-b518-be7fd1e014f8",
   "metadata": {},
   "outputs": [],
   "source": []
  },
  {
   "cell_type": "code",
   "execution_count": null,
   "id": "4d5d18d0-70c1-43b3-8480-6b4d76cd2c90",
   "metadata": {},
   "outputs": [],
   "source": []
  },
  {
   "cell_type": "code",
   "execution_count": null,
   "id": "e660c15d-024c-4062-895d-bcbafcce3c64",
   "metadata": {},
   "outputs": [],
   "source": []
  },
  {
   "cell_type": "markdown",
   "id": "38422baf-a79f-49b9-835d-d4b5d1cf61c7",
   "metadata": {},
   "source": [
    "-----"
   ]
  },
  {
   "cell_type": "markdown",
   "id": "de974db7-3217-4bdf-a4c1-aa2eba699b22",
   "metadata": {},
   "source": [
    "## Begin building ML dataframe `df_main`\n",
    "- Start with one full year: 2022\n",
    "    - Then bring in another year like 2021 and run through the same transformations and then concat along datetimeindex?\n",
    "- Good resource on time-related feature engineering: https://scikit-learn.org/stable/auto_examples/applications/plot_cyclical_feature_engineering.html"
   ]
  },
  {
   "cell_type": "code",
   "execution_count": 617,
   "id": "6fbe7769-32ac-446d-a262-f11297b79026",
   "metadata": {
    "tags": []
   },
   "outputs": [
    {
     "data": {
      "text/html": [
       "<div>\n",
       "<style scoped>\n",
       "    .dataframe tbody tr th:only-of-type {\n",
       "        vertical-align: middle;\n",
       "    }\n",
       "\n",
       "    .dataframe tbody tr th {\n",
       "        vertical-align: top;\n",
       "    }\n",
       "\n",
       "    .dataframe thead th {\n",
       "        text-align: right;\n",
       "    }\n",
       "</style>\n",
       "<table border=\"1\" class=\"dataframe\">\n",
       "  <thead>\n",
       "    <tr style=\"text-align: right;\">\n",
       "      <th></th>\n",
       "      <th>datetime_utc</th>\n",
       "      <th>hour</th>\n",
       "      <th>day_of_week</th>\n",
       "      <th>day_of_month</th>\n",
       "      <th>month_number</th>\n",
       "      <th>meteorological_season</th>\n",
       "    </tr>\n",
       "  </thead>\n",
       "  <tbody>\n",
       "    <tr>\n",
       "      <th>0</th>\n",
       "      <td>2022-01-01 00:00:00+00:00</td>\n",
       "      <td>0</td>\n",
       "      <td>5</td>\n",
       "      <td>1</td>\n",
       "      <td>1</td>\n",
       "      <td>winter</td>\n",
       "    </tr>\n",
       "    <tr>\n",
       "      <th>1</th>\n",
       "      <td>2022-01-01 01:00:00+00:00</td>\n",
       "      <td>1</td>\n",
       "      <td>5</td>\n",
       "      <td>1</td>\n",
       "      <td>1</td>\n",
       "      <td>winter</td>\n",
       "    </tr>\n",
       "    <tr>\n",
       "      <th>2</th>\n",
       "      <td>2022-01-01 02:00:00+00:00</td>\n",
       "      <td>2</td>\n",
       "      <td>5</td>\n",
       "      <td>1</td>\n",
       "      <td>1</td>\n",
       "      <td>winter</td>\n",
       "    </tr>\n",
       "    <tr>\n",
       "      <th>3</th>\n",
       "      <td>2022-01-01 03:00:00+00:00</td>\n",
       "      <td>3</td>\n",
       "      <td>5</td>\n",
       "      <td>1</td>\n",
       "      <td>1</td>\n",
       "      <td>winter</td>\n",
       "    </tr>\n",
       "    <tr>\n",
       "      <th>4</th>\n",
       "      <td>2022-01-01 04:00:00+00:00</td>\n",
       "      <td>4</td>\n",
       "      <td>5</td>\n",
       "      <td>1</td>\n",
       "      <td>1</td>\n",
       "      <td>winter</td>\n",
       "    </tr>\n",
       "    <tr>\n",
       "      <th>...</th>\n",
       "      <td>...</td>\n",
       "      <td>...</td>\n",
       "      <td>...</td>\n",
       "      <td>...</td>\n",
       "      <td>...</td>\n",
       "      <td>...</td>\n",
       "    </tr>\n",
       "    <tr>\n",
       "      <th>8755</th>\n",
       "      <td>2022-12-31 19:00:00+00:00</td>\n",
       "      <td>19</td>\n",
       "      <td>5</td>\n",
       "      <td>31</td>\n",
       "      <td>12</td>\n",
       "      <td>winter</td>\n",
       "    </tr>\n",
       "    <tr>\n",
       "      <th>8756</th>\n",
       "      <td>2022-12-31 20:00:00+00:00</td>\n",
       "      <td>20</td>\n",
       "      <td>5</td>\n",
       "      <td>31</td>\n",
       "      <td>12</td>\n",
       "      <td>winter</td>\n",
       "    </tr>\n",
       "    <tr>\n",
       "      <th>8757</th>\n",
       "      <td>2022-12-31 21:00:00+00:00</td>\n",
       "      <td>21</td>\n",
       "      <td>5</td>\n",
       "      <td>31</td>\n",
       "      <td>12</td>\n",
       "      <td>winter</td>\n",
       "    </tr>\n",
       "    <tr>\n",
       "      <th>8758</th>\n",
       "      <td>2022-12-31 22:00:00+00:00</td>\n",
       "      <td>22</td>\n",
       "      <td>5</td>\n",
       "      <td>31</td>\n",
       "      <td>12</td>\n",
       "      <td>winter</td>\n",
       "    </tr>\n",
       "    <tr>\n",
       "      <th>8759</th>\n",
       "      <td>2022-12-31 23:00:00+00:00</td>\n",
       "      <td>23</td>\n",
       "      <td>5</td>\n",
       "      <td>31</td>\n",
       "      <td>12</td>\n",
       "      <td>winter</td>\n",
       "    </tr>\n",
       "  </tbody>\n",
       "</table>\n",
       "<p>8760 rows × 6 columns</p>\n",
       "</div>"
      ],
      "text/plain": [
       "                  datetime_utc  hour  day_of_week  day_of_month  month_number  \\\n",
       "0    2022-01-01 00:00:00+00:00     0            5             1             1   \n",
       "1    2022-01-01 01:00:00+00:00     1            5             1             1   \n",
       "2    2022-01-01 02:00:00+00:00     2            5             1             1   \n",
       "3    2022-01-01 03:00:00+00:00     3            5             1             1   \n",
       "4    2022-01-01 04:00:00+00:00     4            5             1             1   \n",
       "...                        ...   ...          ...           ...           ...   \n",
       "8755 2022-12-31 19:00:00+00:00    19            5            31            12   \n",
       "8756 2022-12-31 20:00:00+00:00    20            5            31            12   \n",
       "8757 2022-12-31 21:00:00+00:00    21            5            31            12   \n",
       "8758 2022-12-31 22:00:00+00:00    22            5            31            12   \n",
       "8759 2022-12-31 23:00:00+00:00    23            5            31            12   \n",
       "\n",
       "     meteorological_season  \n",
       "0                   winter  \n",
       "1                   winter  \n",
       "2                   winter  \n",
       "3                   winter  \n",
       "4                   winter  \n",
       "...                    ...  \n",
       "8755                winter  \n",
       "8756                winter  \n",
       "8757                winter  \n",
       "8758                winter  \n",
       "8759                winter  \n",
       "\n",
       "[8760 rows x 6 columns]"
      ]
     },
     "execution_count": 617,
     "metadata": {},
     "output_type": "execute_result"
    }
   ],
   "source": [
    "# Year 2022\n",
    "# Make time zone aware UTC?\n",
    "datetime_index_utc = pd.date_range(start='2022-01-01', end='2022-12-31 23:59:59', freq='H', name='datetime_utc', tz='UTC')\n",
    "\n",
    "# Make index to dataframe and reset\n",
    "df_main = datetime_index_utc.to_frame().reset_index(drop=True)\n",
    "\n",
    "# Extract properties and derive new columns\n",
    "df_main['hour'] = df_main['datetime_utc'].dt.hour\n",
    "# 0-6 (Monday-Sunday)\n",
    "df_main['day_of_week'] = df_main['datetime_utc'].dt.dayofweek\n",
    "df_main['day_of_month'] = df_main['datetime_utc'].dt.day\n",
    "df_main['month_number'] = df_main['datetime_utc'].dt.month\n",
    "\n",
    "# Function to get meteorological season based on month number (1-12)\n",
    "# Should I just go ahead and encode the discrete numerical value?\n",
    "def get_meteorological_season(month):\n",
    "    if 3 <= month <= 5:\n",
    "        return 'spring'\n",
    "    elif 6 <= month <= 8:\n",
    "        return 'summer'\n",
    "    elif 9 <= month <= 11:\n",
    "        return 'autumn'\n",
    "    else:\n",
    "        return 'winter'\n",
    "    \n",
    "df_main['meteorological_season'] = df_main['month_number'].apply(get_meteorological_season)\n",
    "\n",
    "df_main"
   ]
  },
  {
   "cell_type": "markdown",
   "id": "23dcf113-d403-4117-89d2-bece362f52cc",
   "metadata": {},
   "source": [
    "----"
   ]
  },
  {
   "cell_type": "markdown",
   "id": "4958a86a-adc1-4399-bbf1-4d0f4ad1a26e",
   "metadata": {},
   "source": [
    "## Derive new columns `turbines_in_operation` and `total_nominal_capacity_operational_turbines_mwh`"
   ]
  },
  {
   "cell_type": "markdown",
   "id": "58ba8c6d-52fb-479e-9fd0-8a9a0d6702ee",
   "metadata": {},
   "source": [
    "#### Function to check if turbine operational at a given UTC hour timestamp"
   ]
  },
  {
   "cell_type": "code",
   "execution_count": 618,
   "id": "67ca575e-6270-484d-9ae1-1515ade674ca",
   "metadata": {
    "tags": []
   },
   "outputs": [],
   "source": [
    "def is_operational(timestamp_utc, df_turbines):\n",
    "    \"\"\"\n",
    "    Inputs: hourly tz aware utc timestamps, turbine dataframe\n",
    "    Get a bool series of turbines that are operational at the time of the [hourly] timestamp\n",
    "    \"\"\"\n",
    "    # Turbines that went into operation before the timestamp; returns bool series for bool indexing\n",
    "    started_operations = df_turbines['Inbetriebnahmedatum'] <= timestamp_utc\n",
    "\n",
    "    # Turbines already decommissioned before the timestamp; returns bool series for bool indexing\n",
    "    already_decommissioned = df_turbines['DatumEndgueltigeStilllegung'] <= timestamp_utc\n",
    "\n",
    "    # Turbines that went into maintenance before timestamp and haven't come back into operation before the timestamp\n",
    "    # Note: Some turbines go straight from temporary maintenance to decommissioned without ever going back into operation\n",
    "    still_in_maintenance_or_decommissioned = (df_turbines['DatumBeginnVoruebergehendeStilllegung'] <= timestamp_utc) & \\\n",
    "    ((df_turbines['DatumWiederaufnahmeBetrieb'] > timestamp_utc) | df_turbines['DatumWiederaufnahmeBetrieb'].isna())\n",
    "\n",
    "    # Number of turbines operational at the timestamp\n",
    "    # Note the tildas to inverse these bool series\n",
    "    # This is a bool series with df_turbines index\n",
    "    turbines_in_operation_bool_series = (started_operations & ~already_decommissioned & ~still_in_maintenance_or_decommissioned)\n",
    "\n",
    "    return turbines_in_operation_bool_series"
   ]
  },
  {
   "cell_type": "markdown",
   "id": "4dd13a8b-8e19-4d98-a673-11b469fc868b",
   "metadata": {},
   "source": [
    "##### Derive column for total turbines in operation for every hourly timestamp"
   ]
  },
  {
   "cell_type": "code",
   "execution_count": 619,
   "id": "5cd5411d-7359-452f-b6de-7ab18e1d2d11",
   "metadata": {
    "tags": []
   },
   "outputs": [],
   "source": [
    "df_main['turbines_in_operation'] = df_main['datetime_utc'].apply(lambda timestamp: is_operational(timestamp, df_turbines).sum())"
   ]
  },
  {
   "cell_type": "markdown",
   "id": "16931cec-e622-40ba-9c0c-87ec1719debd",
   "metadata": {},
   "source": [
    "##### Derive column for total nominal capacity for every hourly timestamp"
   ]
  },
  {
   "cell_type": "code",
   "execution_count": 625,
   "id": "ea22436c-4276-43a7-b002-b23c07a97a66",
   "metadata": {
    "tags": []
   },
   "outputs": [],
   "source": [
    "# Note that I divide by 1_000 to convert kilo-watts (kW) to mega-watts (MW)\n",
    "df_main['total_nominal_capacity_operational_turbines_mwh'] = df_main['datetime_utc'].apply(\n",
    "    lambda timestamp: df_turbines.loc[:, 'Nettonennleistung'].loc[is_operational(timestamp, df_turbines)].sum() / 1_000)"
   ]
  },
  {
   "cell_type": "code",
   "execution_count": 622,
   "id": "af250543-1b5a-483d-b51b-1e32ddc20f28",
   "metadata": {
    "tags": []
   },
   "outputs": [
    {
     "data": {
      "text/html": [
       "<div>\n",
       "<style scoped>\n",
       "    .dataframe tbody tr th:only-of-type {\n",
       "        vertical-align: middle;\n",
       "    }\n",
       "\n",
       "    .dataframe tbody tr th {\n",
       "        vertical-align: top;\n",
       "    }\n",
       "\n",
       "    .dataframe thead th {\n",
       "        text-align: right;\n",
       "    }\n",
       "</style>\n",
       "<table border=\"1\" class=\"dataframe\">\n",
       "  <thead>\n",
       "    <tr style=\"text-align: right;\">\n",
       "      <th></th>\n",
       "      <th>datetime_utc</th>\n",
       "      <th>hour</th>\n",
       "      <th>day_of_week</th>\n",
       "      <th>day_of_month</th>\n",
       "      <th>month_number</th>\n",
       "      <th>meteorological_season</th>\n",
       "      <th>turbines_in_operation</th>\n",
       "    </tr>\n",
       "  </thead>\n",
       "  <tbody>\n",
       "    <tr>\n",
       "      <th>0</th>\n",
       "      <td>2022-01-01 00:00:00+00:00</td>\n",
       "      <td>0</td>\n",
       "      <td>5</td>\n",
       "      <td>1</td>\n",
       "      <td>1</td>\n",
       "      <td>winter</td>\n",
       "      <td>28965</td>\n",
       "    </tr>\n",
       "    <tr>\n",
       "      <th>1</th>\n",
       "      <td>2022-01-01 01:00:00+00:00</td>\n",
       "      <td>1</td>\n",
       "      <td>5</td>\n",
       "      <td>1</td>\n",
       "      <td>1</td>\n",
       "      <td>winter</td>\n",
       "      <td>28965</td>\n",
       "    </tr>\n",
       "    <tr>\n",
       "      <th>2</th>\n",
       "      <td>2022-01-01 02:00:00+00:00</td>\n",
       "      <td>2</td>\n",
       "      <td>5</td>\n",
       "      <td>1</td>\n",
       "      <td>1</td>\n",
       "      <td>winter</td>\n",
       "      <td>28965</td>\n",
       "    </tr>\n",
       "    <tr>\n",
       "      <th>3</th>\n",
       "      <td>2022-01-01 03:00:00+00:00</td>\n",
       "      <td>3</td>\n",
       "      <td>5</td>\n",
       "      <td>1</td>\n",
       "      <td>1</td>\n",
       "      <td>winter</td>\n",
       "      <td>28965</td>\n",
       "    </tr>\n",
       "    <tr>\n",
       "      <th>4</th>\n",
       "      <td>2022-01-01 04:00:00+00:00</td>\n",
       "      <td>4</td>\n",
       "      <td>5</td>\n",
       "      <td>1</td>\n",
       "      <td>1</td>\n",
       "      <td>winter</td>\n",
       "      <td>28965</td>\n",
       "    </tr>\n",
       "    <tr>\n",
       "      <th>...</th>\n",
       "      <td>...</td>\n",
       "      <td>...</td>\n",
       "      <td>...</td>\n",
       "      <td>...</td>\n",
       "      <td>...</td>\n",
       "      <td>...</td>\n",
       "      <td>...</td>\n",
       "    </tr>\n",
       "    <tr>\n",
       "      <th>8755</th>\n",
       "      <td>2022-12-31 19:00:00+00:00</td>\n",
       "      <td>19</td>\n",
       "      <td>5</td>\n",
       "      <td>31</td>\n",
       "      <td>12</td>\n",
       "      <td>winter</td>\n",
       "      <td>29262</td>\n",
       "    </tr>\n",
       "    <tr>\n",
       "      <th>8756</th>\n",
       "      <td>2022-12-31 20:00:00+00:00</td>\n",
       "      <td>20</td>\n",
       "      <td>5</td>\n",
       "      <td>31</td>\n",
       "      <td>12</td>\n",
       "      <td>winter</td>\n",
       "      <td>29262</td>\n",
       "    </tr>\n",
       "    <tr>\n",
       "      <th>8757</th>\n",
       "      <td>2022-12-31 21:00:00+00:00</td>\n",
       "      <td>21</td>\n",
       "      <td>5</td>\n",
       "      <td>31</td>\n",
       "      <td>12</td>\n",
       "      <td>winter</td>\n",
       "      <td>29262</td>\n",
       "    </tr>\n",
       "    <tr>\n",
       "      <th>8758</th>\n",
       "      <td>2022-12-31 22:00:00+00:00</td>\n",
       "      <td>22</td>\n",
       "      <td>5</td>\n",
       "      <td>31</td>\n",
       "      <td>12</td>\n",
       "      <td>winter</td>\n",
       "      <td>29262</td>\n",
       "    </tr>\n",
       "    <tr>\n",
       "      <th>8759</th>\n",
       "      <td>2022-12-31 23:00:00+00:00</td>\n",
       "      <td>23</td>\n",
       "      <td>5</td>\n",
       "      <td>31</td>\n",
       "      <td>12</td>\n",
       "      <td>winter</td>\n",
       "      <td>29262</td>\n",
       "    </tr>\n",
       "  </tbody>\n",
       "</table>\n",
       "<p>8760 rows × 7 columns</p>\n",
       "</div>"
      ],
      "text/plain": [
       "                  datetime_utc  hour  day_of_week  day_of_month  month_number  \\\n",
       "0    2022-01-01 00:00:00+00:00     0            5             1             1   \n",
       "1    2022-01-01 01:00:00+00:00     1            5             1             1   \n",
       "2    2022-01-01 02:00:00+00:00     2            5             1             1   \n",
       "3    2022-01-01 03:00:00+00:00     3            5             1             1   \n",
       "4    2022-01-01 04:00:00+00:00     4            5             1             1   \n",
       "...                        ...   ...          ...           ...           ...   \n",
       "8755 2022-12-31 19:00:00+00:00    19            5            31            12   \n",
       "8756 2022-12-31 20:00:00+00:00    20            5            31            12   \n",
       "8757 2022-12-31 21:00:00+00:00    21            5            31            12   \n",
       "8758 2022-12-31 22:00:00+00:00    22            5            31            12   \n",
       "8759 2022-12-31 23:00:00+00:00    23            5            31            12   \n",
       "\n",
       "     meteorological_season  turbines_in_operation  \n",
       "0                   winter                  28965  \n",
       "1                   winter                  28965  \n",
       "2                   winter                  28965  \n",
       "3                   winter                  28965  \n",
       "4                   winter                  28965  \n",
       "...                    ...                    ...  \n",
       "8755                winter                  29262  \n",
       "8756                winter                  29262  \n",
       "8757                winter                  29262  \n",
       "8758                winter                  29262  \n",
       "8759                winter                  29262  \n",
       "\n",
       "[8760 rows x 7 columns]"
      ]
     },
     "execution_count": 622,
     "metadata": {},
     "output_type": "execute_result"
    }
   ],
   "source": [
    "df_main"
   ]
  },
  {
   "cell_type": "code",
   "execution_count": 623,
   "id": "10150896-efe0-496d-a60c-1ae77165da5b",
   "metadata": {
    "tags": []
   },
   "outputs": [
    {
     "data": {
      "text/plain": [
       "<Axes: >"
      ]
     },
     "execution_count": 623,
     "metadata": {},
     "output_type": "execute_result"
    },
    {
     "data": {
      "image/png": "[encoded data removed]",
      "text/plain": [
       "<Figure size 704x528 with 1 Axes>"
      ]
     },
     "metadata": {},
     "output_type": "display_data"
    }
   ],
   "source": [
    "df_main['turbines_in_operation'].plot()"
   ]
  },
  {
   "cell_type": "code",
   "execution_count": 627,
   "id": "27ca57a6-aff7-4627-ba3d-52c42d828fa4",
   "metadata": {
    "tags": []
   },
   "outputs": [
    {
     "data": {
      "text/plain": [
       "<Axes: >"
      ]
     },
     "execution_count": 627,
     "metadata": {},
     "output_type": "execute_result"
    },
    {
     "data": {
      "image/png": "[encoded data removed]",
      "text/plain": [
       "<Figure size 704x528 with 1 Axes>"
      ]
     },
     "metadata": {},
     "output_type": "display_data"
    }
   ],
   "source": [
    "df_main['total_nominal_capacity_operational_turbines_mwh'].plot()"
   ]
  },
  {
   "cell_type": "markdown",
   "id": "0486df29-ed07-4d11-ae78-4163d385c03a",
   "metadata": {},
   "source": [
    "-----"
   ]
  },
  {
   "cell_type": "markdown",
   "id": "89d489ca-6e9c-48b8-b18d-0db331af9f0f",
   "metadata": {},
   "source": [
    "## Test merging SMARD data onto `df` on key datetime"
   ]
  },
  {
   "cell_type": "markdown",
   "id": "70713f74-a9b1-4863-ab36-6a618d51572c",
   "metadata": {},
   "source": [
    "##### Generated data; the response variable `y`"
   ]
  },
  {
   "cell_type": "code",
   "execution_count": 653,
   "id": "697d6021-be1c-4874-8266-8508ff0e707e",
   "metadata": {
    "tags": []
   },
   "outputs": [],
   "source": [
    "# keep the datetime_cet column for reference\n",
    "df_main = df_main.merge(df_smard_generated, left_on='datetime_utc', right_on='datetime_cet', how='left')"
   ]
  },
  {
   "cell_type": "markdown",
   "id": "57db11f9-a09a-407d-9452-ac79ceb2083c",
   "metadata": {},
   "source": [
    "##### The day-ahead price data"
   ]
  },
  {
   "cell_type": "code",
   "execution_count": 660,
   "id": "fee2a046-9910-4aee-a628-aa43d1b9cae6",
   "metadata": {
    "tags": []
   },
   "outputs": [],
   "source": [
    "# Figure out how to handle the overlapping cet columns? \n",
    "# -> only add suffix to overlapping columns in right df being merged\n",
    "df_main = df_main.merge(df_smard_market_price, left_on='datetime_utc', right_on='datetime_cet', how='left', suffixes=(None, '_remove'))"
   ]
  },
  {
   "cell_type": "code",
   "execution_count": 667,
   "id": "5655764f-e82b-4a63-a11e-7256cc6cf730",
   "metadata": {
    "tags": []
   },
   "outputs": [],
   "source": [
    "# filter using regex; $ binds the expression to end of a string\n",
    "df_main.drop(df_main.filter(regex='_remove$').columns, axis=1, inplace=True)"
   ]
  },
  {
   "cell_type": "code",
   "execution_count": 668,
   "id": "fee26d98-3930-4df8-8f91-ae0745071928",
   "metadata": {
    "tags": []
   },
   "outputs": [
    {
     "name": "stdout",
     "output_type": "stream",
     "text": [
      "<class 'pandas.core.frame.DataFrame'>\n",
      "RangeIndex: 8760 entries, 0 to 8759\n",
      "Data columns (total 11 columns):\n",
      " #   Column                                           Non-Null Count  Dtype              \n",
      "---  ------                                           --------------  -----              \n",
      " 0   datetime_utc                                     8760 non-null   datetime64[ns, UTC]\n",
      " 1   hour                                             8760 non-null   int32              \n",
      " 2   day_of_week                                      8760 non-null   int32              \n",
      " 3   day_of_month                                     8760 non-null   int32              \n",
      " 4   month_number                                     8760 non-null   int32              \n",
      " 5   meteorological_season                            8760 non-null   object             \n",
      " 6   turbines_in_operation                            8760 non-null   int64              \n",
      " 7   total_nominal_capacity_operational_turbines_mwh  8760 non-null   float64            \n",
      " 8   datetime_cet                                     8759 non-null   datetime64[ns, CET]\n",
      " 9   onshore_generated_mwh                            8759 non-null   float64            \n",
      " 10  day_ahead_price_eur_mwh                          8759 non-null   float64            \n",
      "dtypes: datetime64[ns, CET](1), datetime64[ns, UTC](1), float64(3), int32(4), int64(1), object(1)\n",
      "memory usage: 616.1+ KB\n"
     ]
    }
   ],
   "source": [
    "df_main.info()"
   ]
  },
  {
   "cell_type": "code",
   "execution_count": null,
   "id": "f0d1a827-0bcc-425e-813d-794bfa56b46b",
   "metadata": {},
   "outputs": [],
   "source": []
  },
  {
   "cell_type": "code",
   "execution_count": null,
   "id": "ae0688b8-4904-4528-87ce-e16c3f3121b7",
   "metadata": {},
   "outputs": [],
   "source": []
  },
  {
   "cell_type": "code",
   "execution_count": null,
   "id": "4e04d8e5-fee6-46de-b02e-5a0f8a53f3a7",
   "metadata": {},
   "outputs": [],
   "source": []
  }
 ],
 "metadata": {
  "kernelspec": {
   "display_name": "course_project",
   "language": "python",
   "name": "course_project"
  },
  "language_info": {
   "codemirror_mode": {
    "name": "ipython",
    "version": 3
   },
   "file_extension": ".py",
   "mimetype": "text/x-python",
   "name": "python",
   "nbconvert_exporter": "python",
   "pygments_lexer": "ipython3",
   "version": "3.10.12"
  }
 },
 "nbformat": 4,
 "nbformat_minor": 5
}
