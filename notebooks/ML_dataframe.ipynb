{
 "cells": [
  {
   "cell_type": "markdown",
   "id": "7f9a5697-a50e-45e1-b047-07252557afa0",
   "metadata": {},
   "source": [
    "# Building the ML dataframe"
   ]
  },
  {
   "cell_type": "code",
   "execution_count": 1,
   "id": "a207893c-6f98-4c83-b0c1-8a241b78c41d",
   "metadata": {
    "tags": []
   },
   "outputs": [],
   "source": [
    "from pathlib import Path\n",
    "\n",
    "import numpy as np\n",
    "import pandas as pd\n",
    "import xarray as xr"
   ]
  },
  {
   "cell_type": "code",
   "execution_count": 3,
   "id": "ad32155d-e98f-4351-ba14-dada857077c3",
   "metadata": {
    "tags": []
   },
   "outputs": [],
   "source": [
    "# Set max number of columns to display; default 20\n",
    "pd.options.display.max_columns = 80"
   ]
  },
  {
   "cell_type": "code",
   "execution_count": 4,
   "id": "86d7e9b7-8a39-44bc-a77b-670c2411d40d",
   "metadata": {
    "tags": []
   },
   "outputs": [],
   "source": [
    "# Directory where data files will be downloaded\n",
    "cwd_path = Path.cwd()\n",
    "data_path = cwd_path.parent.joinpath('data')\n",
    "data_push_path = cwd_path.parent.joinpath('data_to_push')"
   ]
  },
  {
   "cell_type": "markdown",
   "id": "594f09e2-8dfa-4537-87c8-02f59c316c2f",
   "metadata": {},
   "source": [
    "### Load in latest wind turbine data\n",
    "- Note: Only 9 turbines decommissioned before 2019!"
   ]
  },
  {
   "cell_type": "code",
   "execution_count": 1218,
   "id": "60756d12-c942-4221-8bfb-55539c5cb587",
   "metadata": {
    "tags": []
   },
   "outputs": [
    {
     "name": "stdout",
     "output_type": "stream",
     "text": [
      "<class 'pandas.core.frame.DataFrame'>\n",
      "RangeIndex: 30638 entries, 0 to 30637\n",
      "Data columns (total 30 columns):\n",
      " #   Column                                            Non-Null Count  Dtype              \n",
      "---  ------                                            --------------  -----              \n",
      " 0   EinheitMastrNummer                                30638 non-null  object             \n",
      " 1   DatumLetzteAktualisierung                         30638 non-null  datetime64[ns, UTC]\n",
      " 2   Bundesland                                        30638 non-null  object             \n",
      " 3   Postleitzahl                                      30638 non-null  int64              \n",
      " 4   Ort                                               30638 non-null  object             \n",
      " 5   Laengengrad                                       30638 non-null  float64            \n",
      " 6   Breitengrad                                       30638 non-null  float64            \n",
      " 7   Registrierungsdatum                               30638 non-null  datetime64[ns, UTC]\n",
      " 8   Inbetriebnahmedatum                               30638 non-null  datetime64[ns, UTC]\n",
      " 9   EinheitBetriebsstatus                             30638 non-null  object             \n",
      " 10  DatumEndgueltigeStilllegung                       1155 non-null   datetime64[ns, UTC]\n",
      " 11  DatumBeginnVoruebergehendeStilllegung             68 non-null     datetime64[ns, UTC]\n",
      " 12  DatumWiederaufnahmeBetrieb                        6 non-null      datetime64[ns, UTC]\n",
      " 13  NameStromerzeugungseinheit                        30638 non-null  object             \n",
      " 14  Nettonennleistung                                 30638 non-null  float64            \n",
      " 15  AnschlussAnHoechstOderHochSpannung                22068 non-null  float64            \n",
      " 16  Einspeisungsart                                   30200 non-null  object             \n",
      " 17  NameWindpark                                      29855 non-null  object             \n",
      " 18  Hersteller                                        30381 non-null  object             \n",
      " 19  Technologie                                       30638 non-null  object             \n",
      " 20  Typenbezeichnung                                  30376 non-null  object             \n",
      " 21  Nabenhoehe                                        30638 non-null  float64            \n",
      " 22  Rotordurchmesser                                  30638 non-null  float64            \n",
      " 23  Rotorblattenteisungssystem                        23262 non-null  float64            \n",
      " 24  area_blades                                       30638 non-null  int64              \n",
      " 25  nearest_grid_point                                30638 non-null  object             \n",
      " 26  nearest_grid_point_elevation                      30638 non-null  float64            \n",
      " 27  turbine_elevation                                 30638 non-null  float64            \n",
      " 28  nearest_grid_point_distance                       30638 non-null  float64            \n",
      " 29  turbine_elevation_relative_to_nearest_grid_point  30638 non-null  float64            \n",
      "dtypes: datetime64[ns, UTC](6), float64(11), int64(2), object(11)\n",
      "memory usage: 7.0+ MB\n"
     ]
    }
   ],
   "source": [
    "# Read in latest turbine data\n",
    "# Now only 30,642 after removing 3 turbines outside bounding box\n",
    "df_turbines = pd.read_pickle(data_push_path / 'df_turbines_knn_blades_haversine_elevation_utc_2.pkl')\n",
    "df_turbines.info()"
   ]
  },
  {
   "cell_type": "code",
   "execution_count": 1219,
   "id": "e8b6d791-7cdc-47cf-a229-3e7be5f1cf07",
   "metadata": {
    "tags": []
   },
   "outputs": [],
   "source": [
    "# List of datetime column names for convenient indexing later\n",
    "turbine_date_columns = [\n",
    "    'DatumLetzteAktualisierung',\n",
    "    'Registrierungsdatum',\n",
    "    'Inbetriebnahmedatum',\n",
    "    'DatumEndgueltigeStilllegung',\n",
    "    'DatumBeginnVoruebergehendeStilllegung',\n",
    "    'DatumWiederaufnahmeBetrieb'\n",
    "]"
   ]
  },
  {
   "cell_type": "code",
   "execution_count": 371,
   "id": "23f23d69-5644-4975-b7a8-ffa6547c372a",
   "metadata": {
    "tags": []
   },
   "outputs": [],
   "source": [
    "# # Cast all tz naive datetime64 columns to UTC tz aware\n",
    "# df_turbines[turbine_date_columns] = df_turbines[turbine_date_columns].apply(lambda series: series.dt.tz_localize('UTC'), axis=0)\n",
    "\n",
    "# # save to pickle\n",
    "# df_turbines.to_pickle(data_push_path / 'df_turbines_knn_blades_haversine_elevation_utc.pkl')"
   ]
  },
  {
   "cell_type": "markdown",
   "id": "a7afd1be-4f95-46ca-8725-c5c8fd7eb3cc",
   "metadata": {},
   "source": [
    "-----"
   ]
  },
  {
   "cell_type": "markdown",
   "id": "072ead41-6439-49d1-9f7c-64802ac83833",
   "metadata": {},
   "source": [
    "# Load in all SMARD data"
   ]
  },
  {
   "cell_type": "markdown",
   "id": "394288e6-6c14-4f46-a8ce-99f0ba4fc912",
   "metadata": {},
   "source": [
    "### Load in SMARD energy generated data (actual measured generation)\n",
    "- My response variable `y` (aka target/label) "
   ]
  },
  {
   "cell_type": "code",
   "execution_count": 1220,
   "id": "da86b8a3-c807-4621-8fe2-76067cc762e2",
   "metadata": {
    "tags": []
   },
   "outputs": [],
   "source": [
    "# Get all SMARD CSV files, load into dataframes, and concat them\n",
    "\n",
    "def load_SMARD_generated_data():\n",
    "    \"\"\"\n",
    "    Look for CSV files in the SMARD directory\n",
    "    \"\"\"\n",
    "    list_of_dataframes = []\n",
    "    for filepath in data_path.joinpath('SMARD').iterdir():\n",
    "        if filepath.name.startswith('Realisierte_Erzeugung'):\n",
    "            list_of_dataframes.append(pd.read_csv(filepath, sep=';'))\n",
    "            \n",
    "    # Check that num of rows is what I expect after concatenating dfs\n",
    "    num_of_rows = 0\n",
    "    for df in list_of_dataframes:\n",
    "        num_of_rows += len(df)\n",
    "    \n",
    "    # concat dataframes\n",
    "    df = pd.concat(list_of_dataframes)\n",
    "    print(f'Number of rows match up: {num_of_rows == len(df)}')\n",
    "    \n",
    "    # Select columns to keep\n",
    "    # Note: I'm using the interval start time to create the timestamps\n",
    "    # ERA5 surface parameters are instantaneous so can't perfectly align anyway\n",
    "    df = df[[\n",
    "        'Datum',\n",
    "        'Anfang',\n",
    "        # 'Ende',\n",
    "        'Wind Onshore [MWh] Berechnete Auflösungen'\n",
    "    ]]\n",
    "    \n",
    "    # rename columns\n",
    "    df.rename(columns={\n",
    "        'Datum': 'date',\n",
    "        'Anfang': 'interval_start_time', \n",
    "        # 'Ende': 'interval_end_time',\n",
    "        'Wind Onshore [MWh] Berechnete Auflösungen': 'actual_generated_smard_mwh'\n",
    "    }, inplace=True)\n",
    "    \n",
    "    # Handle dates and times to create unified datetime64 timestamps\n",
    "    df['date'] = pd.to_datetime(df['date'], format='%d.%m.%Y')\n",
    "    df['start_time_delta'] = pd.to_timedelta(df['interval_start_time'] + ':00')\n",
    "    df['datetime_cet'] = df['date'] + df['start_time_delta']\n",
    "    # Add CET timezone info and infer change from CET->CEST->CET, etc\n",
    "    df['datetime_cet'] = df['datetime_cet'].dt.tz_localize(tz='CET', ambiguous='infer')\n",
    "    \n",
    "    # Drop un-needed columns\n",
    "    df = df.drop(columns=['date', 'start_time_delta', 'interval_start_time'])\n",
    "    # Re-arrange columns\n",
    "    df = df[['datetime_cet', 'actual_generated_smard_mwh']]\n",
    "    \n",
    "    # Convert European thousands and decimal seperators in values to (US/UK) decimal full stop format\n",
    "    translation_table = str.maketrans({'.': None, ',': '.'})\n",
    "    df['actual_generated_smard_mwh'] = df['actual_generated_smard_mwh'].str.translate(translation_table).astype(float)\n",
    "    \n",
    "    # Sort rows by datetime_cet\n",
    "    df.sort_values('datetime_cet', inplace=True)\n",
    "    # Reset index\n",
    "    df.reset_index(drop=True, inplace=True)\n",
    "    \n",
    "    return df.copy()"
   ]
  },
  {
   "cell_type": "code",
   "execution_count": 1221,
   "id": "24e68d75-5a7f-470d-957e-2323ecb3b23a",
   "metadata": {
    "tags": []
   },
   "outputs": [
    {
     "name": "stdout",
     "output_type": "stream",
     "text": [
      "Number of rows match up: True\n",
      "<class 'pandas.core.frame.DataFrame'>\n",
      "RangeIndex: 49655 entries, 0 to 49654\n",
      "Data columns (total 2 columns):\n",
      " #   Column                      Non-Null Count  Dtype              \n",
      "---  ------                      --------------  -----              \n",
      " 0   datetime_cet                49655 non-null  datetime64[ns, CET]\n",
      " 1   actual_generated_smard_mwh  49655 non-null  float64            \n",
      "dtypes: datetime64[ns, CET](1), float64(1)\n",
      "memory usage: 776.0 KB\n"
     ]
    }
   ],
   "source": [
    "# Load SMARD data\n",
    "df_smard_generated = load_SMARD_generated_data()\n",
    "df_smard_generated.info()"
   ]
  },
  {
   "cell_type": "code",
   "execution_count": 1222,
   "id": "b5c04cd6-c69b-4f24-ae2f-a97192f1add6",
   "metadata": {
    "tags": []
   },
   "outputs": [
    {
     "data": {
      "text/plain": [
       "datetime_cet                  0\n",
       "actual_generated_smard_mwh    0\n",
       "dtype: int64"
      ]
     },
     "execution_count": 1222,
     "metadata": {},
     "output_type": "execute_result"
    }
   ],
   "source": [
    "df_smard_generated.isna().sum()"
   ]
  },
  {
   "cell_type": "markdown",
   "id": "b03ae16e-a4b7-4174-9e46-8e48fc6310a9",
   "metadata": {},
   "source": [
    "-----"
   ]
  },
  {
   "cell_type": "markdown",
   "id": "5ee3ed30-dd65-4a6d-8526-b4f97478de70",
   "metadata": {},
   "source": [
    "### Load in SMARD day-ahead prices\n",
    "- Wholesale prices: https://www.smard.de/page/en/wiki-article/5884/5976\n",
    "- This is the day-ahead price!\n",
    "    - \"Weighted wholesale electricity price (day-ahead price on the exchange) for each hour [€/MWh] determined on the day-ahead auction that took place ones on the previous day - data is delivered no later than 2 hours after trading closes. Source: ENTSO-E\"\n",
    "- Data only goes back to 2018-10-01 (October 1, 2018)\n",
    "- This is for the bidding area Germany/Luxembourg (not just Germany)"
   ]
  },
  {
   "cell_type": "code",
   "execution_count": 1223,
   "id": "58b57c79-8906-45b3-88b1-80be43113775",
   "metadata": {
    "tags": []
   },
   "outputs": [],
   "source": [
    "# Get all SMARD CSV files, load into dataframes, and concat them\n",
    "\n",
    "def load_SMARD_market_price_data():\n",
    "    \"\"\"\n",
    "    Look for CSV files in the SMARD directory\n",
    "    \"\"\"\n",
    "    list_of_dataframes = []\n",
    "    for filepath in data_path.joinpath('SMARD').iterdir():\n",
    "        if filepath.name.startswith('Gro_handelspreise'):\n",
    "            list_of_dataframes.append(pd.read_csv(filepath, sep=';', na_values='-'))\n",
    "            \n",
    "    # Check that num of rows is what I expect after concatenating dfs\n",
    "    num_of_rows = 0\n",
    "    for df in list_of_dataframes:\n",
    "        num_of_rows += len(df)\n",
    "    \n",
    "    # concat dataframes\n",
    "    df = pd.concat(list_of_dataframes)\n",
    "    print(f'Number of rows match up: {num_of_rows == len(df)}')\n",
    "    \n",
    "    # Select columns to keep\n",
    "    # Note: I'm using the interval start time to create the timestamps\n",
    "    # ERA5 surface parameters are instantaneous so can't perfectly align anyway\n",
    "    df = df[[\n",
    "        'Datum',\n",
    "        'Anfang',\n",
    "        # 'Ende',\n",
    "        'Deutschland/Luxemburg [€/MWh] Originalauflösungen'\n",
    "    ]]\n",
    "    \n",
    "    # rename columns\n",
    "    df.rename(columns={\n",
    "        'Datum': 'date',\n",
    "        'Anfang': 'interval_start_time', \n",
    "        # 'Ende': 'interval_end_time',\n",
    "        'Deutschland/Luxemburg [€/MWh] Originalauflösungen': 'day_ahead_price_eur_mwh'\n",
    "    }, inplace=True)\n",
    "    \n",
    "    # Handle dates and times to create unified datetime64 timestamps\n",
    "    df['date'] = pd.to_datetime(df['date'], format='%d.%m.%Y')\n",
    "    df['start_time_delta'] = pd.to_timedelta(df['interval_start_time'] + ':00')\n",
    "    df['datetime_cet'] = df['date'] + df['start_time_delta']\n",
    "    # Add CET timezone info and infer change from CET->CEST->CET, etc\n",
    "    df['datetime_cet'] = df['datetime_cet'].dt.tz_localize(tz='CET', ambiguous='infer')\n",
    "    \n",
    "    # Drop un-needed columns\n",
    "    df = df.drop(columns=['date', 'start_time_delta', 'interval_start_time'])\n",
    "    # Re-arrange columns\n",
    "    df = df[['datetime_cet', 'day_ahead_price_eur_mwh']]\n",
    "    \n",
    "    # Convert European thousands and decimal seperators in values to (US/UK) decimal full stop format\n",
    "    translation_table = str.maketrans({'.': None, ',': '.'})\n",
    "    df['day_ahead_price_eur_mwh'] = df['day_ahead_price_eur_mwh'].str.translate(translation_table).astype(float)\n",
    "    \n",
    "    # Drop the numerous (700+) duplicate rows\n",
    "    df.drop_duplicates(subset='datetime_cet', inplace=True)\n",
    "    # Sort rows by datetime_cet\n",
    "    df.sort_values('datetime_cet', inplace=True)\n",
    "    # Reset index\n",
    "    df.reset_index(drop=True, inplace=True)\n",
    "    \n",
    "    return df.copy()"
   ]
  },
  {
   "cell_type": "code",
   "execution_count": 1224,
   "id": "0ba10680-0ec5-4008-8b61-efc90d159c21",
   "metadata": {
    "tags": []
   },
   "outputs": [
    {
     "name": "stdout",
     "output_type": "stream",
     "text": [
      "Number of rows match up: True\n"
     ]
    }
   ],
   "source": [
    "df_smard_market_price = load_SMARD_market_price_data()"
   ]
  },
  {
   "cell_type": "code",
   "execution_count": 1225,
   "id": "711e5f87-95df-4c49-af34-5790dab56acf",
   "metadata": {
    "tags": []
   },
   "outputs": [
    {
     "data": {
      "text/plain": [
       "datetime_cet                  0\n",
       "day_ahead_price_eur_mwh    6551\n",
       "dtype: int64"
      ]
     },
     "execution_count": 1225,
     "metadata": {},
     "output_type": "execute_result"
    }
   ],
   "source": [
    "df_smard_market_price.isna().sum()"
   ]
  },
  {
   "cell_type": "code",
   "execution_count": 1226,
   "id": "07a8495e-e2c7-44a3-acb2-8b744038b2a6",
   "metadata": {
    "tags": []
   },
   "outputs": [
    {
     "data": {
      "text/plain": [
       "count    43104.000000\n",
       "mean        97.537291\n",
       "std        106.238714\n",
       "min       -500.000000\n",
       "25%         35.260000\n",
       "50%         55.155000\n",
       "75%        118.750000\n",
       "max        871.000000\n",
       "Name: day_ahead_price_eur_mwh, dtype: float64"
      ]
     },
     "execution_count": 1226,
     "metadata": {},
     "output_type": "execute_result"
    }
   ],
   "source": [
    "df_smard_market_price['day_ahead_price_eur_mwh'].describe()"
   ]
  },
  {
   "cell_type": "markdown",
   "id": "b1390efc-5355-4ea2-a6a0-347edb76b444",
   "metadata": {},
   "source": [
    "-----"
   ]
  },
  {
   "cell_type": "markdown",
   "id": "59e0627e-fdce-497a-80b6-33bec255295e",
   "metadata": {},
   "source": [
    "### Load in SMARD installed capacity data\n",
    "- Note: CSV reader infers decimal comma (European) format 54.499 as decimal point 54.499 even though it's 54,499.00!\n",
    "    - Specify dtype of column in the read_csv method"
   ]
  },
  {
   "cell_type": "code",
   "execution_count": 1227,
   "id": "f361fedf-2472-4048-8039-67f9230d05e3",
   "metadata": {
    "tags": []
   },
   "outputs": [],
   "source": [
    "def load_SMARD_installed_capacity_data():\n",
    "    \"\"\"\n",
    "    Look for CSV files in the SMARD directory\n",
    "    \"\"\"\n",
    "    list_of_dataframes = []\n",
    "    for filepath in data_path.joinpath('SMARD').iterdir():\n",
    "        if filepath.name.startswith('Installierte_Erzeugungsleistung'):\n",
    "            list_of_dataframes.append(\n",
    "                pd.read_csv(filepath, sep=';', dtype={'Wind Onshore [MW] Berechnete Auflösungen': str})\n",
    "            )\n",
    "            \n",
    "    # Check that num of rows is what I expect after concatenating dfs\n",
    "    num_of_rows = 0\n",
    "    for df in list_of_dataframes:\n",
    "        num_of_rows += len(df)\n",
    "    \n",
    "    # concat dataframes\n",
    "    df = pd.concat(list_of_dataframes)\n",
    "    print(f'Number of rows match up: {num_of_rows == len(df)}')\n",
    "    \n",
    "    # Select columns to keep\n",
    "    # Note: I'm using the interval start time to create the timestamps\n",
    "    # ERA5 surface parameters are instantaneous so can't perfectly align anyway\n",
    "    df = df[[\n",
    "        'Datum',\n",
    "        'Anfang',\n",
    "        # 'Ende',\n",
    "        'Wind Onshore [MW] Berechnete Auflösungen'\n",
    "    ]]\n",
    "    \n",
    "    # rename columns\n",
    "    df.rename(columns={\n",
    "        'Datum': 'date',\n",
    "        'Anfang': 'interval_start_time', \n",
    "        # 'Ende': 'interval_end_time',\n",
    "        'Wind Onshore [MW] Berechnete Auflösungen': 'total_nominal_capacity_smard_mw'\n",
    "    }, inplace=True)\n",
    "    \n",
    "    # Handle dates and times to create unified datetime64 timestamps\n",
    "    df['date'] = pd.to_datetime(df['date'], format='%d.%m.%Y')\n",
    "    df['start_time_delta'] = pd.to_timedelta(df['interval_start_time'] + ':00')\n",
    "    df['datetime_cet'] = df['date'] + df['start_time_delta']\n",
    "    # Add CET timezone info and infer change from CET->CEST->CET, etc\n",
    "    df['datetime_cet'] = df['datetime_cet'].dt.tz_localize(tz='CET', ambiguous='infer')\n",
    "    \n",
    "    # Drop un-needed columns\n",
    "    df = df.drop(columns=['date', 'start_time_delta', 'interval_start_time'])\n",
    "    # Re-arrange columns\n",
    "    df = df[['datetime_cet', 'total_nominal_capacity_smard_mw']]\n",
    "    \n",
    "    # Convert European thousands and decimal seperators in values to (US/UK) decimal full stop format\n",
    "    translation_table = str.maketrans({'.': None, ',': '.'})\n",
    "    df['total_nominal_capacity_smard_mw'] = df['total_nominal_capacity_smard_mw'].str.translate(translation_table).astype(float)\n",
    "    \n",
    "    # Sort rows by datetime_cet\n",
    "    df.sort_values('datetime_cet', inplace=True)\n",
    "    # Reset index\n",
    "    df.reset_index(drop=True, inplace=True)\n",
    "    \n",
    "    return df.copy()"
   ]
  },
  {
   "cell_type": "code",
   "execution_count": 1228,
   "id": "888a84e1-95e8-4921-a7d4-df7db6a234af",
   "metadata": {
    "tags": []
   },
   "outputs": [
    {
     "name": "stdout",
     "output_type": "stream",
     "text": [
      "Number of rows match up: True\n"
     ]
    }
   ],
   "source": [
    "df_smard_installed_capacity = load_SMARD_installed_capacity_data()"
   ]
  },
  {
   "cell_type": "code",
   "execution_count": 1229,
   "id": "94ed203e-734c-460f-a350-6ca262ba7be6",
   "metadata": {
    "tags": []
   },
   "outputs": [
    {
     "name": "stdout",
     "output_type": "stream",
     "text": [
      "<class 'pandas.core.frame.DataFrame'>\n",
      "RangeIndex: 49655 entries, 0 to 49654\n",
      "Data columns (total 2 columns):\n",
      " #   Column                           Non-Null Count  Dtype              \n",
      "---  ------                           --------------  -----              \n",
      " 0   datetime_cet                     49655 non-null  datetime64[ns, CET]\n",
      " 1   total_nominal_capacity_smard_mw  49655 non-null  float64            \n",
      "dtypes: datetime64[ns, CET](1), float64(1)\n",
      "memory usage: 776.0 KB\n"
     ]
    }
   ],
   "source": [
    "df_smard_installed_capacity.info()"
   ]
  },
  {
   "cell_type": "code",
   "execution_count": 1230,
   "id": "6fd4bfd2-ec57-40b3-88f8-1511ff39073d",
   "metadata": {
    "tags": []
   },
   "outputs": [
    {
     "data": {
      "text/plain": [
       "datetime_cet                       0\n",
       "total_nominal_capacity_smard_mw    0\n",
       "dtype: int64"
      ]
     },
     "execution_count": 1230,
     "metadata": {},
     "output_type": "execute_result"
    }
   ],
   "source": [
    "df_smard_installed_capacity.isna().sum()"
   ]
  },
  {
   "cell_type": "markdown",
   "id": "4831fa1f-bb2a-4b9f-ae27-2f9cdaeb8a00",
   "metadata": {},
   "source": [
    "------"
   ]
  },
  {
   "cell_type": "markdown",
   "id": "c9ddb688-d9f2-40b5-839f-82073d53ba6a",
   "metadata": {},
   "source": [
    "### Load in SMARD day-ahead generation forecast\n",
    "- Wind Onshore [MWh] Berechnete Auflösungen for Germany\n",
    "- Only has 24 missing values for the day of 2022-12-21 (verified on SMARD data visuals)\n",
    "- TSOs transmit their forecasts to the ENTSO-E transparency platform no later than 18:00 of the previous day"
   ]
  },
  {
   "cell_type": "code",
   "execution_count": 1231,
   "id": "a33ca2cf-0d43-4582-9ff2-dc710d7906a4",
   "metadata": {
    "tags": []
   },
   "outputs": [],
   "source": [
    "def load_SMARD_forecasted_generation_data():\n",
    "    \"\"\"\n",
    "    Look for CSV files in the SMARD directory\n",
    "    \"\"\"\n",
    "    list_of_dataframes = []\n",
    "    for filepath in data_path.joinpath('SMARD').iterdir():\n",
    "        if filepath.name.startswith('Prognostizierte_Erzeugung_Day-Ahead'):\n",
    "            list_of_dataframes.append(pd.read_csv(filepath, sep=';', na_values='-'))\n",
    "            \n",
    "    # Check that num of rows is what I expect after concatenating dfs\n",
    "    num_of_rows = 0\n",
    "    for df in list_of_dataframes:\n",
    "        num_of_rows += len(df)\n",
    "    \n",
    "    # concat dataframes\n",
    "    df = pd.concat(list_of_dataframes)\n",
    "    print(f'Number of rows match up: {num_of_rows == len(df)}')\n",
    "    \n",
    "    # Select columns to keep\n",
    "    # Note: I'm using the interval start time to create the timestamps\n",
    "    # ERA5 surface parameters are instantaneous so can't perfectly align anyway\n",
    "    df = df[[\n",
    "        'Datum',\n",
    "        'Anfang',\n",
    "        # 'Ende',\n",
    "        'Wind Onshore [MWh] Berechnete Auflösungen'\n",
    "    ]]\n",
    "    \n",
    "    # rename columns\n",
    "    df.rename(columns={\n",
    "        'Datum': 'date',\n",
    "        'Anfang': 'interval_start_time', \n",
    "        # 'Ende': 'interval_end_time',\n",
    "        'Wind Onshore [MWh] Berechnete Auflösungen': 'forecasted_generation_smard_mwh'\n",
    "    }, inplace=True)\n",
    "    \n",
    "    # Handle dates and times to create unified datetime64 timestamps\n",
    "    df['date'] = pd.to_datetime(df['date'], format='%d.%m.%Y')\n",
    "    df['start_time_delta'] = pd.to_timedelta(df['interval_start_time'] + ':00')\n",
    "    df['datetime_cet'] = df['date'] + df['start_time_delta']\n",
    "    # Add CET timezone info and infer change from CET->CEST->CET, etc\n",
    "    df['datetime_cet'] = df['datetime_cet'].dt.tz_localize(tz='CET', ambiguous='infer')\n",
    "    \n",
    "    # Drop un-needed columns\n",
    "    df = df.drop(columns=['date', 'start_time_delta', 'interval_start_time'])\n",
    "    # Re-arrange columns\n",
    "    df = df[['datetime_cet', 'forecasted_generation_smard_mwh']]\n",
    "    \n",
    "    # Convert European thousands and decimal seperators in values to (US/UK) decimal full stop format\n",
    "    translation_table = str.maketrans({'.': None, ',': '.'})\n",
    "    df['forecasted_generation_smard_mwh'] = df['forecasted_generation_smard_mwh'].str.translate(translation_table).astype(float)\n",
    "        \n",
    "    # Sort rows by datetime_cet\n",
    "    df.sort_values('datetime_cet', inplace=True)\n",
    "    # Reset index\n",
    "    df.reset_index(drop=True, inplace=True)\n",
    "    \n",
    "    return df.copy()"
   ]
  },
  {
   "cell_type": "code",
   "execution_count": 1232,
   "id": "3b1658ac-b2a4-47f3-9b4a-7bf9df8e9ebc",
   "metadata": {
    "tags": []
   },
   "outputs": [
    {
     "name": "stdout",
     "output_type": "stream",
     "text": [
      "Number of rows match up: True\n"
     ]
    }
   ],
   "source": [
    "df_smard_forecasted_generation = load_SMARD_forecasted_generation_data()"
   ]
  },
  {
   "cell_type": "code",
   "execution_count": 1233,
   "id": "e35dc963-ee2a-4cd6-9633-6f3eebec9dfb",
   "metadata": {
    "tags": []
   },
   "outputs": [
    {
     "name": "stdout",
     "output_type": "stream",
     "text": [
      "<class 'pandas.core.frame.DataFrame'>\n",
      "RangeIndex: 49655 entries, 0 to 49654\n",
      "Data columns (total 2 columns):\n",
      " #   Column                           Non-Null Count  Dtype              \n",
      "---  ------                           --------------  -----              \n",
      " 0   datetime_cet                     49655 non-null  datetime64[ns, CET]\n",
      " 1   forecasted_generation_smard_mwh  49631 non-null  float64            \n",
      "dtypes: datetime64[ns, CET](1), float64(1)\n",
      "memory usage: 776.0 KB\n"
     ]
    }
   ],
   "source": [
    "df_smard_forecasted_generation.info()"
   ]
  },
  {
   "cell_type": "code",
   "execution_count": 1234,
   "id": "ea0d11dd-8560-42c0-a903-82c777eb78f0",
   "metadata": {
    "tags": []
   },
   "outputs": [
    {
     "data": {
      "text/plain": [
       "datetime_cet                        0\n",
       "forecasted_generation_smard_mwh    24\n",
       "dtype: int64"
      ]
     },
     "execution_count": 1234,
     "metadata": {},
     "output_type": "execute_result"
    }
   ],
   "source": [
    "df_smard_forecasted_generation.isna().sum()"
   ]
  },
  {
   "cell_type": "markdown",
   "id": "38422baf-a79f-49b9-835d-d4b5d1cf61c7",
   "metadata": {},
   "source": [
    "-----"
   ]
  },
  {
   "cell_type": "markdown",
   "id": "1ba2c31b-6791-481a-b358-f087fa3420c7",
   "metadata": {},
   "source": [
    "-----"
   ]
  },
  {
   "cell_type": "markdown",
   "id": "de974db7-3217-4bdf-a4c1-aa2eba699b22",
   "metadata": {},
   "source": [
    "# Begin building ML dataframe `df_main`\n",
    "- Start with one full year: 2022\n",
    "    - Then bring in another year like 2021 and run through the same transformations and then concat along datetimeindex?\n",
    "- Good resource on time-related feature engineering: https://scikit-learn.org/stable/auto_examples/applications/plot_cyclical_feature_engineering.html"
   ]
  },
  {
   "cell_type": "code",
   "execution_count": 1235,
   "id": "6fbe7769-32ac-446d-a262-f11297b79026",
   "metadata": {
    "tags": []
   },
   "outputs": [
    {
     "data": {
      "text/html": [
       "<div>\n",
       "<style scoped>\n",
       "    .dataframe tbody tr th:only-of-type {\n",
       "        vertical-align: middle;\n",
       "    }\n",
       "\n",
       "    .dataframe tbody tr th {\n",
       "        vertical-align: top;\n",
       "    }\n",
       "\n",
       "    .dataframe thead th {\n",
       "        text-align: right;\n",
       "    }\n",
       "</style>\n",
       "<table border=\"1\" class=\"dataframe\">\n",
       "  <thead>\n",
       "    <tr style=\"text-align: right;\">\n",
       "      <th></th>\n",
       "      <th>datetime_utc</th>\n",
       "      <th>hour</th>\n",
       "      <th>day_of_week</th>\n",
       "      <th>day_of_month</th>\n",
       "      <th>month_number</th>\n",
       "      <th>year</th>\n",
       "      <th>meteorological_season</th>\n",
       "    </tr>\n",
       "  </thead>\n",
       "  <tbody>\n",
       "    <tr>\n",
       "      <th>0</th>\n",
       "      <td>2018-01-01 00:00:00+00:00</td>\n",
       "      <td>0</td>\n",
       "      <td>0</td>\n",
       "      <td>1</td>\n",
       "      <td>1</td>\n",
       "      <td>2018</td>\n",
       "      <td>winter</td>\n",
       "    </tr>\n",
       "    <tr>\n",
       "      <th>1</th>\n",
       "      <td>2018-01-01 01:00:00+00:00</td>\n",
       "      <td>1</td>\n",
       "      <td>0</td>\n",
       "      <td>1</td>\n",
       "      <td>1</td>\n",
       "      <td>2018</td>\n",
       "      <td>winter</td>\n",
       "    </tr>\n",
       "    <tr>\n",
       "      <th>2</th>\n",
       "      <td>2018-01-01 02:00:00+00:00</td>\n",
       "      <td>2</td>\n",
       "      <td>0</td>\n",
       "      <td>1</td>\n",
       "      <td>1</td>\n",
       "      <td>2018</td>\n",
       "      <td>winter</td>\n",
       "    </tr>\n",
       "    <tr>\n",
       "      <th>3</th>\n",
       "      <td>2018-01-01 03:00:00+00:00</td>\n",
       "      <td>3</td>\n",
       "      <td>0</td>\n",
       "      <td>1</td>\n",
       "      <td>1</td>\n",
       "      <td>2018</td>\n",
       "      <td>winter</td>\n",
       "    </tr>\n",
       "    <tr>\n",
       "      <th>4</th>\n",
       "      <td>2018-01-01 04:00:00+00:00</td>\n",
       "      <td>4</td>\n",
       "      <td>0</td>\n",
       "      <td>1</td>\n",
       "      <td>1</td>\n",
       "      <td>2018</td>\n",
       "      <td>winter</td>\n",
       "    </tr>\n",
       "    <tr>\n",
       "      <th>...</th>\n",
       "      <td>...</td>\n",
       "      <td>...</td>\n",
       "      <td>...</td>\n",
       "      <td>...</td>\n",
       "      <td>...</td>\n",
       "      <td>...</td>\n",
       "      <td>...</td>\n",
       "    </tr>\n",
       "    <tr>\n",
       "      <th>49651</th>\n",
       "      <td>2023-08-31 19:00:00+00:00</td>\n",
       "      <td>19</td>\n",
       "      <td>3</td>\n",
       "      <td>31</td>\n",
       "      <td>8</td>\n",
       "      <td>2023</td>\n",
       "      <td>summer</td>\n",
       "    </tr>\n",
       "    <tr>\n",
       "      <th>49652</th>\n",
       "      <td>2023-08-31 20:00:00+00:00</td>\n",
       "      <td>20</td>\n",
       "      <td>3</td>\n",
       "      <td>31</td>\n",
       "      <td>8</td>\n",
       "      <td>2023</td>\n",
       "      <td>summer</td>\n",
       "    </tr>\n",
       "    <tr>\n",
       "      <th>49653</th>\n",
       "      <td>2023-08-31 21:00:00+00:00</td>\n",
       "      <td>21</td>\n",
       "      <td>3</td>\n",
       "      <td>31</td>\n",
       "      <td>8</td>\n",
       "      <td>2023</td>\n",
       "      <td>summer</td>\n",
       "    </tr>\n",
       "    <tr>\n",
       "      <th>49654</th>\n",
       "      <td>2023-08-31 22:00:00+00:00</td>\n",
       "      <td>22</td>\n",
       "      <td>3</td>\n",
       "      <td>31</td>\n",
       "      <td>8</td>\n",
       "      <td>2023</td>\n",
       "      <td>summer</td>\n",
       "    </tr>\n",
       "    <tr>\n",
       "      <th>49655</th>\n",
       "      <td>2023-08-31 23:00:00+00:00</td>\n",
       "      <td>23</td>\n",
       "      <td>3</td>\n",
       "      <td>31</td>\n",
       "      <td>8</td>\n",
       "      <td>2023</td>\n",
       "      <td>summer</td>\n",
       "    </tr>\n",
       "  </tbody>\n",
       "</table>\n",
       "<p>49656 rows × 7 columns</p>\n",
       "</div>"
      ],
      "text/plain": [
       "                   datetime_utc  hour  day_of_week  day_of_month  \\\n",
       "0     2018-01-01 00:00:00+00:00     0            0             1   \n",
       "1     2018-01-01 01:00:00+00:00     1            0             1   \n",
       "2     2018-01-01 02:00:00+00:00     2            0             1   \n",
       "3     2018-01-01 03:00:00+00:00     3            0             1   \n",
       "4     2018-01-01 04:00:00+00:00     4            0             1   \n",
       "...                         ...   ...          ...           ...   \n",
       "49651 2023-08-31 19:00:00+00:00    19            3            31   \n",
       "49652 2023-08-31 20:00:00+00:00    20            3            31   \n",
       "49653 2023-08-31 21:00:00+00:00    21            3            31   \n",
       "49654 2023-08-31 22:00:00+00:00    22            3            31   \n",
       "49655 2023-08-31 23:00:00+00:00    23            3            31   \n",
       "\n",
       "       month_number  year meteorological_season  \n",
       "0                 1  2018                winter  \n",
       "1                 1  2018                winter  \n",
       "2                 1  2018                winter  \n",
       "3                 1  2018                winter  \n",
       "4                 1  2018                winter  \n",
       "...             ...   ...                   ...  \n",
       "49651             8  2023                summer  \n",
       "49652             8  2023                summer  \n",
       "49653             8  2023                summer  \n",
       "49654             8  2023                summer  \n",
       "49655             8  2023                summer  \n",
       "\n",
       "[49656 rows x 7 columns]"
      ]
     },
     "execution_count": 1235,
     "metadata": {},
     "output_type": "execute_result"
    }
   ],
   "source": [
    "# Make time zone aware UTC?\n",
    "datetime_index_utc = pd.date_range(start='2018-01-01', end='2023-08-31 23:59:59', freq='H', name='datetime_utc', tz='UTC')\n",
    "\n",
    "# Make index to dataframe and reset\n",
    "df_main = datetime_index_utc.to_frame().reset_index(drop=True)\n",
    "\n",
    "# Extract properties and derive new columns\n",
    "df_main['hour'] = df_main['datetime_utc'].dt.hour\n",
    "# 0-6 (Monday-Sunday)\n",
    "df_main['day_of_week'] = df_main['datetime_utc'].dt.dayofweek\n",
    "df_main['day_of_month'] = df_main['datetime_utc'].dt.day\n",
    "df_main['month_number'] = df_main['datetime_utc'].dt.month\n",
    "df_main['year'] = df_main['datetime_utc'].dt.year\n",
    "\n",
    "# Function to get meteorological season based on month number (1-12)\n",
    "# Should I just go ahead and encode the discrete numerical value?\n",
    "def get_meteorological_season(month):\n",
    "    if 3 <= month <= 5:\n",
    "        return 'spring'\n",
    "    elif 6 <= month <= 8:\n",
    "        return 'summer'\n",
    "    elif 9 <= month <= 11:\n",
    "        return 'autumn'\n",
    "    else:\n",
    "        return 'winter'\n",
    "    \n",
    "df_main['meteorological_season'] = df_main['month_number'].apply(get_meteorological_season)\n",
    "\n",
    "df_main"
   ]
  },
  {
   "cell_type": "markdown",
   "id": "23dcf113-d403-4117-89d2-bece362f52cc",
   "metadata": {},
   "source": [
    "----"
   ]
  },
  {
   "cell_type": "markdown",
   "id": "4958a86a-adc1-4399-bbf1-4d0f4ad1a26e",
   "metadata": {},
   "source": [
    "## Derive new columns `turbines_in_operation` and `total_nominal_capacity_operational_turbines_mw`"
   ]
  },
  {
   "cell_type": "markdown",
   "id": "58ba8c6d-52fb-479e-9fd0-8a9a0d6702ee",
   "metadata": {},
   "source": [
    "#### Function to check if turbine operational at a given UTC hour timestamp"
   ]
  },
  {
   "cell_type": "code",
   "execution_count": 1236,
   "id": "67ca575e-6270-484d-9ae1-1515ade674ca",
   "metadata": {
    "tags": []
   },
   "outputs": [],
   "source": [
    "def is_operational(timestamp_utc, df_turbines):\n",
    "    \"\"\"\n",
    "    Inputs: hourly tz aware utc timestamps, turbine dataframe\n",
    "    Get a bool series of turbines that are operational at the time of the [hourly] timestamp\n",
    "    \"\"\"\n",
    "    # Turbines that went into operation before the timestamp; returns bool series for bool indexing\n",
    "    started_operations = df_turbines['Inbetriebnahmedatum'] <= timestamp_utc\n",
    "\n",
    "    # Turbines already decommissioned before the timestamp; returns bool series for bool indexing\n",
    "    already_decommissioned = df_turbines['DatumEndgueltigeStilllegung'] <= timestamp_utc\n",
    "\n",
    "    # Turbines that went into maintenance before timestamp and haven't come back into operation before the timestamp\n",
    "    # Note: Some turbines go straight from temporary maintenance to decommissioned without ever going back into operation\n",
    "    still_in_maintenance_or_decommissioned = (df_turbines['DatumBeginnVoruebergehendeStilllegung'] <= timestamp_utc) & \\\n",
    "    ((df_turbines['DatumWiederaufnahmeBetrieb'] > timestamp_utc) | df_turbines['DatumWiederaufnahmeBetrieb'].isna())\n",
    "\n",
    "    # Number of turbines operational at the timestamp\n",
    "    # Note the tildas to inverse these bool series\n",
    "    # This is a bool series with df_turbines index\n",
    "    turbines_in_operation_bool_series = (started_operations & ~already_decommissioned & ~still_in_maintenance_or_decommissioned)\n",
    "\n",
    "    return turbines_in_operation_bool_series"
   ]
  },
  {
   "cell_type": "markdown",
   "id": "4dd13a8b-8e19-4d98-a673-11b469fc868b",
   "metadata": {},
   "source": [
    "##### Derive column for total turbines in operation for every hourly timestamp"
   ]
  },
  {
   "cell_type": "code",
   "execution_count": 1237,
   "id": "5cd5411d-7359-452f-b6de-7ab18e1d2d11",
   "metadata": {
    "tags": []
   },
   "outputs": [],
   "source": [
    "# 1min 7s to run for 2018-23\n",
    "df_main['turbines_in_operation'] = df_main['datetime_utc'].apply(lambda timestamp: is_operational(timestamp, df_turbines).sum())"
   ]
  },
  {
   "cell_type": "markdown",
   "id": "16931cec-e622-40ba-9c0c-87ec1719debd",
   "metadata": {},
   "source": [
    "##### Derive column for total nominal capacity for every hourly timestamp"
   ]
  },
  {
   "cell_type": "code",
   "execution_count": 1238,
   "id": "ea22436c-4276-43a7-b002-b23c07a97a66",
   "metadata": {
    "tags": []
   },
   "outputs": [],
   "source": [
    "# Nettonennleistung is in kW; I divide by 1_000 to convert kilo-watts (kW) to mega-watts (MW)\n",
    "# 1min 30s to run for 2018-23\n",
    "df_main['total_nominal_capacity_operational_turbines_mw'] = df_main['datetime_utc'].apply(\n",
    "    lambda timestamp: df_turbines.loc[:, 'Nettonennleistung'].loc[is_operational(timestamp, df_turbines)].sum() / 1_000)"
   ]
  },
  {
   "cell_type": "markdown",
   "id": "3c47e39f-135c-4110-917a-d1f9c29ebda6",
   "metadata": {},
   "source": [
    "#### Save progress to pickle"
   ]
  },
  {
   "cell_type": "code",
   "execution_count": 1240,
   "id": "6ae08b6e-b45b-4038-a0f5-e7acef9bdfca",
   "metadata": {
    "tags": []
   },
   "outputs": [],
   "source": [
    "# df_main.to_pickle(data_push_path / 'df_main.pkl')"
   ]
  },
  {
   "cell_type": "code",
   "execution_count": 1241,
   "id": "10150896-efe0-496d-a60c-1ae77165da5b",
   "metadata": {
    "tags": []
   },
   "outputs": [],
   "source": [
    "# df_main['turbines_in_operation'].plot()"
   ]
  },
  {
   "cell_type": "code",
   "execution_count": 1242,
   "id": "27ca57a6-aff7-4627-ba3d-52c42d828fa4",
   "metadata": {
    "tags": []
   },
   "outputs": [],
   "source": [
    "# df_main['total_nominal_capacity_operational_turbines_mw'].plot()"
   ]
  },
  {
   "cell_type": "code",
   "execution_count": 1243,
   "id": "874c4dca-addc-4089-ae3a-726eafa79e0c",
   "metadata": {
    "tags": []
   },
   "outputs": [
    {
     "name": "stdout",
     "output_type": "stream",
     "text": [
      "<class 'pandas.core.frame.DataFrame'>\n",
      "RangeIndex: 49656 entries, 0 to 49655\n",
      "Data columns (total 9 columns):\n",
      " #   Column                                          Non-Null Count  Dtype              \n",
      "---  ------                                          --------------  -----              \n",
      " 0   datetime_utc                                    49656 non-null  datetime64[ns, UTC]\n",
      " 1   hour                                            49656 non-null  int32              \n",
      " 2   day_of_week                                     49656 non-null  int32              \n",
      " 3   day_of_month                                    49656 non-null  int32              \n",
      " 4   month_number                                    49656 non-null  int32              \n",
      " 5   year                                            49656 non-null  int32              \n",
      " 6   meteorological_season                           49656 non-null  object             \n",
      " 7   turbines_in_operation                           49656 non-null  int64              \n",
      " 8   total_nominal_capacity_operational_turbines_mw  49656 non-null  float64            \n",
      "dtypes: datetime64[ns, UTC](1), float64(1), int32(5), int64(1), object(1)\n",
      "memory usage: 5.1 MB\n"
     ]
    }
   ],
   "source": [
    "df_main.info(memory_usage='deep')"
   ]
  },
  {
   "cell_type": "markdown",
   "id": "0486df29-ed07-4d11-ae78-4163d385c03a",
   "metadata": {},
   "source": [
    "-----"
   ]
  },
  {
   "cell_type": "markdown",
   "id": "89d489ca-6e9c-48b8-b18d-0db331af9f0f",
   "metadata": {},
   "source": [
    "## Merge SMARD data onto `df_main` on key datetime\n",
    "- Dataframes to merge with `df_main`:\n",
    "    - `df_smard_generated`\n",
    "    - `df_smard_market_price`\n",
    "    - `df_smard_installed_capacity`\n",
    "    - `df_smard_forecasted_generation`"
   ]
  },
  {
   "cell_type": "markdown",
   "id": "5fdcf8a4-c57f-42d1-908f-b9a5e2d48da7",
   "metadata": {},
   "source": [
    "##### Load in latest `df_main`"
   ]
  },
  {
   "cell_type": "code",
   "execution_count": 1244,
   "id": "1eb7f5ec-2e30-4a9a-8ff0-28bf9b72cfa3",
   "metadata": {
    "tags": []
   },
   "outputs": [
    {
     "name": "stdout",
     "output_type": "stream",
     "text": [
      "<class 'pandas.core.frame.DataFrame'>\n",
      "RangeIndex: 49656 entries, 0 to 49655\n",
      "Data columns (total 9 columns):\n",
      " #   Column                                          Non-Null Count  Dtype              \n",
      "---  ------                                          --------------  -----              \n",
      " 0   datetime_utc                                    49656 non-null  datetime64[ns, UTC]\n",
      " 1   hour                                            49656 non-null  int32              \n",
      " 2   day_of_week                                     49656 non-null  int32              \n",
      " 3   day_of_month                                    49656 non-null  int32              \n",
      " 4   month_number                                    49656 non-null  int32              \n",
      " 5   year                                            49656 non-null  int32              \n",
      " 6   meteorological_season                           49656 non-null  object             \n",
      " 7   turbines_in_operation                           49656 non-null  int64              \n",
      " 8   total_nominal_capacity_operational_turbines_mw  49656 non-null  float64            \n",
      "dtypes: datetime64[ns, UTC](1), float64(1), int32(5), int64(1), object(1)\n",
      "memory usage: 2.5+ MB\n"
     ]
    }
   ],
   "source": [
    "df_main = pd.read_pickle(data_push_path / 'df_main.pkl')\n",
    "df_main.info()"
   ]
  },
  {
   "cell_type": "markdown",
   "id": "f5c31e8a-2660-4491-a68c-7224b22bfd88",
   "metadata": {},
   "source": [
    "##### Merge operations"
   ]
  },
  {
   "cell_type": "code",
   "execution_count": 1245,
   "id": "697d6021-be1c-4874-8266-8508ff0e707e",
   "metadata": {
    "tags": []
   },
   "outputs": [],
   "source": [
    "# Generated data; the response variable `y`\n",
    "# keep the datetime_cet column for reference\n",
    "df_main = df_main.merge(df_smard_generated, left_on='datetime_utc', right_on='datetime_cet', how='left')\n",
    "\n",
    "# The day-ahead price data\n",
    "# -> only add suffix to overlapping columns in right df being merged\n",
    "df_main = df_main.merge(df_smard_market_price, left_on='datetime_utc', right_on='datetime_cet', how='left', suffixes=(None, '_remove'))\n",
    "\n",
    "# Installed capacity\n",
    "df_main = df_main.merge(df_smard_installed_capacity, left_on='datetime_utc', right_on='datetime_cet', how='left', suffixes=(None, '_remove'))\n",
    "\n",
    "# The day-ahead forecasted generation\n",
    "df_main = df_main.merge(df_smard_forecasted_generation, left_on='datetime_utc', right_on='datetime_cet', how='left', suffixes=(None, '_remove'))"
   ]
  },
  {
   "cell_type": "markdown",
   "id": "07b738de-ee0b-450a-ad4e-01e3318235da",
   "metadata": {},
   "source": [
    "##### Remove all the duplicate `datetime_cet` columns with suffix `_remove`"
   ]
  },
  {
   "cell_type": "code",
   "execution_count": 1246,
   "id": "5655764f-e82b-4a63-a11e-7256cc6cf730",
   "metadata": {
    "tags": []
   },
   "outputs": [],
   "source": [
    "# filter using regex; $ binds the expression to end of a string\n",
    "df_main.drop(df_main.filter(regex='_remove$').columns, axis=1, inplace=True)"
   ]
  },
  {
   "cell_type": "markdown",
   "id": "7a4e597b-c5d9-4f21-a0e4-959b23fe9e2e",
   "metadata": {},
   "source": [
    "#### Save progress to pickle"
   ]
  },
  {
   "cell_type": "code",
   "execution_count": 1247,
   "id": "2d05a351-b65b-407e-8fd1-16f5a88466ae",
   "metadata": {
    "tags": []
   },
   "outputs": [],
   "source": [
    "# df_main.to_pickle(data_push_path / 'df_main_smard.pkl')"
   ]
  },
  {
   "cell_type": "markdown",
   "id": "6fc861e1-e05e-49f5-825b-104aebf38b64",
   "metadata": {},
   "source": [
    "-----"
   ]
  },
  {
   "cell_type": "markdown",
   "id": "39e1a79c-c43c-4c14-a20c-8bdcea0ab907",
   "metadata": {},
   "source": [
    "----"
   ]
  },
  {
   "cell_type": "markdown",
   "id": "afbbe83f-7094-4ea0-a603-ac7009bb54a6",
   "metadata": {},
   "source": [
    "## Next step here..."
   ]
  },
  {
   "cell_type": "markdown",
   "id": "eb39edde-4525-483d-a75b-812abdb53aed",
   "metadata": {},
   "source": [
    "##### Load in latest `df_main`"
   ]
  },
  {
   "cell_type": "code",
   "execution_count": 1251,
   "id": "98ccf7a8-8827-48f2-a7ae-bf4521ddf910",
   "metadata": {
    "tags": []
   },
   "outputs": [
    {
     "name": "stdout",
     "output_type": "stream",
     "text": [
      "<class 'pandas.core.frame.DataFrame'>\n",
      "RangeIndex: 49656 entries, 0 to 49655\n",
      "Data columns (total 14 columns):\n",
      " #   Column                                          Non-Null Count  Dtype              \n",
      "---  ------                                          --------------  -----              \n",
      " 0   datetime_utc                                    49656 non-null  datetime64[ns, UTC]\n",
      " 1   hour                                            49656 non-null  int32              \n",
      " 2   day_of_week                                     49656 non-null  int32              \n",
      " 3   day_of_month                                    49656 non-null  int32              \n",
      " 4   month_number                                    49656 non-null  int32              \n",
      " 5   year                                            49656 non-null  int32              \n",
      " 6   meteorological_season                           49656 non-null  object             \n",
      " 7   turbines_in_operation                           49656 non-null  int64              \n",
      " 8   total_nominal_capacity_operational_turbines_mw  49656 non-null  float64            \n",
      " 9   datetime_cet                                    49654 non-null  datetime64[ns, CET]\n",
      " 10  actual_generated_smard_mwh                      49654 non-null  float64            \n",
      " 11  day_ahead_price_eur_mwh                         43104 non-null  float64            \n",
      " 12  total_nominal_capacity_smard_mw                 49654 non-null  float64            \n",
      " 13  forecasted_generation_smard_mwh                 49630 non-null  float64            \n",
      "dtypes: datetime64[ns, CET](1), datetime64[ns, UTC](1), float64(5), int32(5), int64(1), object(1)\n",
      "memory usage: 4.4+ MB\n"
     ]
    }
   ],
   "source": [
    "df_main = pd.read_pickle(data_push_path / 'df_main_smard.pkl')\n",
    "df_main.info()"
   ]
  },
  {
   "cell_type": "markdown",
   "id": "b2794fdf-ae70-4db9-8042-78083a484614",
   "metadata": {},
   "source": [
    "#### Set datetime_utc column to index"
   ]
  },
  {
   "cell_type": "code",
   "execution_count": 1295,
   "id": "d63aada3-0d33-47d5-939c-028dc0d4f5b5",
   "metadata": {
    "tags": []
   },
   "outputs": [],
   "source": [
    "df_main.set_index('datetime_utc', inplace=True)"
   ]
  },
  {
   "cell_type": "markdown",
   "id": "2f8045a2-a77b-46ff-8428-4576c6f82a2c",
   "metadata": {},
   "source": [
    "-------"
   ]
  },
  {
   "cell_type": "markdown",
   "id": "252a4803-c6d6-4be5-83ea-83aa0005c649",
   "metadata": {},
   "source": [
    "## Merge mean hourly ERA5 data vars across all used grid points into `df_main`"
   ]
  },
  {
   "cell_type": "markdown",
   "id": "67499bef-ca92-499c-8063-bcec905f5d35",
   "metadata": {},
   "source": [
    "#### Read in latest ERA5 dataset that I've combined, subsetted, and with the new data vars I derived"
   ]
  },
  {
   "cell_type": "code",
   "execution_count": 1252,
   "id": "d20ea03f-cf26-40b5-ba5c-e978db4f77a9",
   "metadata": {
    "tags": []
   },
   "outputs": [
    {
     "data": {
      "text/plain": [
       "Data variables:\n",
       "    u100                       (time, latitude, longitude) float32 ...\n",
       "    v100                       (time, latitude, longitude) float32 ...\n",
       "    u10                        (time, latitude, longitude) float32 ...\n",
       "    v10                        (time, latitude, longitude) float32 ...\n",
       "    t2m                        (time, latitude, longitude) float32 ...\n",
       "    i10fg                      (time, latitude, longitude) float32 ...\n",
       "    msl                        (time, latitude, longitude) float32 ...\n",
       "    mean_wind_speed_10m        (time, latitude, longitude) float32 ...\n",
       "    mean_wind_speed_100m       (time, latitude, longitude) float32 ...\n",
       "    wind_direction_angle_10m   (time, latitude, longitude) float32 ...\n",
       "    wind_direction_angle_100m  (time, latitude, longitude) float32 ..."
      ]
     },
     "execution_count": 1252,
     "metadata": {},
     "output_type": "execute_result"
    }
   ],
   "source": [
    "ds = xr.open_dataset(data_path.joinpath('ERA5').joinpath('era5_combined_subset_derived.nc'))\n",
    "ds.data_vars"
   ]
  },
  {
   "cell_type": "markdown",
   "id": "993aa33c-6ea7-4b6d-b3c6-250fc13dbccd",
   "metadata": {},
   "source": [
    "#### How to get mean for a data var for every hour in time dimension?\n",
    "- Use `xarray.DataArray.mean`: https://docs.xarray.dev/en/stable/generated/xarray.DataArray.mean.html"
   ]
  },
  {
   "cell_type": "code",
   "execution_count": 1279,
   "id": "34007c82-65d0-4a46-aea4-2a792b7bea15",
   "metadata": {
    "tags": []
   },
   "outputs": [
    {
     "data": {
      "text/html": [
       "<div><svg style=\"position: absolute; width: 0; height: 0; overflow: hidden\">\n",
       "<defs>\n",
       "<symbol id=\"icon-database\" viewBox=\"0 0 32 32\">\n",
       "<path d=\"M16 0c-8.837 0-16 2.239-16 5v4c0 2.761 7.163 5 16 5s16-2.239 16-5v-4c0-2.761-7.163-5-16-5z\"></path>\n",
       "<path d=\"M16 17c-8.837 0-16-2.239-16-5v6c0 2.761 7.163 5 16 5s16-2.239 16-5v-6c0 2.761-7.163 5-16 5z\"></path>\n",
       "<path d=\"M16 26c-8.837 0-16-2.239-16-5v6c0 2.761 7.163 5 16 5s16-2.239 16-5v-6c0 2.761-7.163 5-16 5z\"></path>\n",
       "</symbol>\n",
       "<symbol id=\"icon-file-text2\" viewBox=\"0 0 32 32\">\n",
       "<path d=\"M28.681 7.159c-0.694-0.947-1.662-2.053-2.724-3.116s-2.169-2.030-3.116-2.724c-1.612-1.182-2.393-1.319-2.841-1.319h-15.5c-1.378 0-2.5 1.121-2.5 2.5v27c0 1.378 1.122 2.5 2.5 2.5h23c1.378 0 2.5-1.122 2.5-2.5v-19.5c0-0.448-0.137-1.23-1.319-2.841zM24.543 5.457c0.959 0.959 1.712 1.825 2.268 2.543h-4.811v-4.811c0.718 0.556 1.584 1.309 2.543 2.268zM28 29.5c0 0.271-0.229 0.5-0.5 0.5h-23c-0.271 0-0.5-0.229-0.5-0.5v-27c0-0.271 0.229-0.5 0.5-0.5 0 0 15.499-0 15.5 0v7c0 0.552 0.448 1 1 1h7v19.5z\"></path>\n",
       "<path d=\"M23 26h-14c-0.552 0-1-0.448-1-1s0.448-1 1-1h14c0.552 0 1 0.448 1 1s-0.448 1-1 1z\"></path>\n",
       "<path d=\"M23 22h-14c-0.552 0-1-0.448-1-1s0.448-1 1-1h14c0.552 0 1 0.448 1 1s-0.448 1-1 1z\"></path>\n",
       "<path d=\"M23 18h-14c-0.552 0-1-0.448-1-1s0.448-1 1-1h14c0.552 0 1 0.448 1 1s-0.448 1-1 1z\"></path>\n",
       "</symbol>\n",
       "</defs>\n",
       "</svg>\n",
       "<style>/* CSS stylesheet for displaying xarray objects in jupyterlab.\n",
       " *\n",
       " */\n",
       "\n",
       ":root {\n",
       "  --xr-font-color0: var(--jp-content-font-color0, rgba(0, 0, 0, 1));\n",
       "  --xr-font-color2: var(--jp-content-font-color2, rgba(0, 0, 0, 0.54));\n",
       "  --xr-font-color3: var(--jp-content-font-color3, rgba(0, 0, 0, 0.38));\n",
       "  --xr-border-color: var(--jp-border-color2, #e0e0e0);\n",
       "  --xr-disabled-color: var(--jp-layout-color3, #bdbdbd);\n",
       "  --xr-background-color: var(--jp-layout-color0, white);\n",
       "  --xr-background-color-row-even: var(--jp-layout-color1, white);\n",
       "  --xr-background-color-row-odd: var(--jp-layout-color2, #eeeeee);\n",
       "}\n",
       "\n",
       "html[theme=dark],\n",
       "body[data-theme=dark],\n",
       "body.vscode-dark {\n",
       "  --xr-font-color0: rgba(255, 255, 255, 1);\n",
       "  --xr-font-color2: rgba(255, 255, 255, 0.54);\n",
       "  --xr-font-color3: rgba(255, 255, 255, 0.38);\n",
       "  --xr-border-color: #1F1F1F;\n",
       "  --xr-disabled-color: #515151;\n",
       "  --xr-background-color: #111111;\n",
       "  --xr-background-color-row-even: #111111;\n",
       "  --xr-background-color-row-odd: #313131;\n",
       "}\n",
       "\n",
       ".xr-wrap {\n",
       "  display: block !important;\n",
       "  min-width: 300px;\n",
       "  max-width: 700px;\n",
       "}\n",
       "\n",
       ".xr-text-repr-fallback {\n",
       "  /* fallback to plain text repr when CSS is not injected (untrusted notebook) */\n",
       "  display: none;\n",
       "}\n",
       "\n",
       ".xr-header {\n",
       "  padding-top: 6px;\n",
       "  padding-bottom: 6px;\n",
       "  margin-bottom: 4px;\n",
       "  border-bottom: solid 1px var(--xr-border-color);\n",
       "}\n",
       "\n",
       ".xr-header > div,\n",
       ".xr-header > ul {\n",
       "  display: inline;\n",
       "  margin-top: 0;\n",
       "  margin-bottom: 0;\n",
       "}\n",
       "\n",
       ".xr-obj-type,\n",
       ".xr-array-name {\n",
       "  margin-left: 2px;\n",
       "  margin-right: 10px;\n",
       "}\n",
       "\n",
       ".xr-obj-type {\n",
       "  color: var(--xr-font-color2);\n",
       "}\n",
       "\n",
       ".xr-sections {\n",
       "  padding-left: 0 !important;\n",
       "  display: grid;\n",
       "  grid-template-columns: 150px auto auto 1fr 20px 20px;\n",
       "}\n",
       "\n",
       ".xr-section-item {\n",
       "  display: contents;\n",
       "}\n",
       "\n",
       ".xr-section-item input {\n",
       "  display: none;\n",
       "}\n",
       "\n",
       ".xr-section-item input + label {\n",
       "  color: var(--xr-disabled-color);\n",
       "}\n",
       "\n",
       ".xr-section-item input:enabled + label {\n",
       "  cursor: pointer;\n",
       "  color: var(--xr-font-color2);\n",
       "}\n",
       "\n",
       ".xr-section-item input:enabled + label:hover {\n",
       "  color: var(--xr-font-color0);\n",
       "}\n",
       "\n",
       ".xr-section-summary {\n",
       "  grid-column: 1;\n",
       "  color: var(--xr-font-color2);\n",
       "  font-weight: 500;\n",
       "}\n",
       "\n",
       ".xr-section-summary > span {\n",
       "  display: inline-block;\n",
       "  padding-left: 0.5em;\n",
       "}\n",
       "\n",
       ".xr-section-summary-in:disabled + label {\n",
       "  color: var(--xr-font-color2);\n",
       "}\n",
       "\n",
       ".xr-section-summary-in + label:before {\n",
       "  display: inline-block;\n",
       "  content: '►';\n",
       "  font-size: 11px;\n",
       "  width: 15px;\n",
       "  text-align: center;\n",
       "}\n",
       "\n",
       ".xr-section-summary-in:disabled + label:before {\n",
       "  color: var(--xr-disabled-color);\n",
       "}\n",
       "\n",
       ".xr-section-summary-in:checked + label:before {\n",
       "  content: '▼';\n",
       "}\n",
       "\n",
       ".xr-section-summary-in:checked + label > span {\n",
       "  display: none;\n",
       "}\n",
       "\n",
       ".xr-section-summary,\n",
       ".xr-section-inline-details {\n",
       "  padding-top: 4px;\n",
       "  padding-bottom: 4px;\n",
       "}\n",
       "\n",
       ".xr-section-inline-details {\n",
       "  grid-column: 2 / -1;\n",
       "}\n",
       "\n",
       ".xr-section-details {\n",
       "  display: none;\n",
       "  grid-column: 1 / -1;\n",
       "  margin-bottom: 5px;\n",
       "}\n",
       "\n",
       ".xr-section-summary-in:checked ~ .xr-section-details {\n",
       "  display: contents;\n",
       "}\n",
       "\n",
       ".xr-array-wrap {\n",
       "  grid-column: 1 / -1;\n",
       "  display: grid;\n",
       "  grid-template-columns: 20px auto;\n",
       "}\n",
       "\n",
       ".xr-array-wrap > label {\n",
       "  grid-column: 1;\n",
       "  vertical-align: top;\n",
       "}\n",
       "\n",
       ".xr-preview {\n",
       "  color: var(--xr-font-color3);\n",
       "}\n",
       "\n",
       ".xr-array-preview,\n",
       ".xr-array-data {\n",
       "  padding: 0 5px !important;\n",
       "  grid-column: 2;\n",
       "}\n",
       "\n",
       ".xr-array-data,\n",
       ".xr-array-in:checked ~ .xr-array-preview {\n",
       "  display: none;\n",
       "}\n",
       "\n",
       ".xr-array-in:checked ~ .xr-array-data,\n",
       ".xr-array-preview {\n",
       "  display: inline-block;\n",
       "}\n",
       "\n",
       ".xr-dim-list {\n",
       "  display: inline-block !important;\n",
       "  list-style: none;\n",
       "  padding: 0 !important;\n",
       "  margin: 0;\n",
       "}\n",
       "\n",
       ".xr-dim-list li {\n",
       "  display: inline-block;\n",
       "  padding: 0;\n",
       "  margin: 0;\n",
       "}\n",
       "\n",
       ".xr-dim-list:before {\n",
       "  content: '(';\n",
       "}\n",
       "\n",
       ".xr-dim-list:after {\n",
       "  content: ')';\n",
       "}\n",
       "\n",
       ".xr-dim-list li:not(:last-child):after {\n",
       "  content: ',';\n",
       "  padding-right: 5px;\n",
       "}\n",
       "\n",
       ".xr-has-index {\n",
       "  font-weight: bold;\n",
       "}\n",
       "\n",
       ".xr-var-list,\n",
       ".xr-var-item {\n",
       "  display: contents;\n",
       "}\n",
       "\n",
       ".xr-var-item > div,\n",
       ".xr-var-item label,\n",
       ".xr-var-item > .xr-var-name span {\n",
       "  background-color: var(--xr-background-color-row-even);\n",
       "  margin-bottom: 0;\n",
       "}\n",
       "\n",
       ".xr-var-item > .xr-var-name:hover span {\n",
       "  padding-right: 5px;\n",
       "}\n",
       "\n",
       ".xr-var-list > li:nth-child(odd) > div,\n",
       ".xr-var-list > li:nth-child(odd) > label,\n",
       ".xr-var-list > li:nth-child(odd) > .xr-var-name span {\n",
       "  background-color: var(--xr-background-color-row-odd);\n",
       "}\n",
       "\n",
       ".xr-var-name {\n",
       "  grid-column: 1;\n",
       "}\n",
       "\n",
       ".xr-var-dims {\n",
       "  grid-column: 2;\n",
       "}\n",
       "\n",
       ".xr-var-dtype {\n",
       "  grid-column: 3;\n",
       "  text-align: right;\n",
       "  color: var(--xr-font-color2);\n",
       "}\n",
       "\n",
       ".xr-var-preview {\n",
       "  grid-column: 4;\n",
       "}\n",
       "\n",
       ".xr-index-preview {\n",
       "  grid-column: 2 / 5;\n",
       "  color: var(--xr-font-color2);\n",
       "}\n",
       "\n",
       ".xr-var-name,\n",
       ".xr-var-dims,\n",
       ".xr-var-dtype,\n",
       ".xr-preview,\n",
       ".xr-attrs dt {\n",
       "  white-space: nowrap;\n",
       "  overflow: hidden;\n",
       "  text-overflow: ellipsis;\n",
       "  padding-right: 10px;\n",
       "}\n",
       "\n",
       ".xr-var-name:hover,\n",
       ".xr-var-dims:hover,\n",
       ".xr-var-dtype:hover,\n",
       ".xr-attrs dt:hover {\n",
       "  overflow: visible;\n",
       "  width: auto;\n",
       "  z-index: 1;\n",
       "}\n",
       "\n",
       ".xr-var-attrs,\n",
       ".xr-var-data,\n",
       ".xr-index-data {\n",
       "  display: none;\n",
       "  background-color: var(--xr-background-color) !important;\n",
       "  padding-bottom: 5px !important;\n",
       "}\n",
       "\n",
       ".xr-var-attrs-in:checked ~ .xr-var-attrs,\n",
       ".xr-var-data-in:checked ~ .xr-var-data,\n",
       ".xr-index-data-in:checked ~ .xr-index-data {\n",
       "  display: block;\n",
       "}\n",
       "\n",
       ".xr-var-data > table {\n",
       "  float: right;\n",
       "}\n",
       "\n",
       ".xr-var-name span,\n",
       ".xr-var-data,\n",
       ".xr-index-name div,\n",
       ".xr-index-data,\n",
       ".xr-attrs {\n",
       "  padding-left: 25px !important;\n",
       "}\n",
       "\n",
       ".xr-attrs,\n",
       ".xr-var-attrs,\n",
       ".xr-var-data,\n",
       ".xr-index-data {\n",
       "  grid-column: 1 / -1;\n",
       "}\n",
       "\n",
       "dl.xr-attrs {\n",
       "  padding: 0;\n",
       "  margin: 0;\n",
       "  display: grid;\n",
       "  grid-template-columns: 125px auto;\n",
       "}\n",
       "\n",
       ".xr-attrs dt,\n",
       ".xr-attrs dd {\n",
       "  padding: 0;\n",
       "  margin: 0;\n",
       "  float: left;\n",
       "  padding-right: 10px;\n",
       "  width: auto;\n",
       "}\n",
       "\n",
       ".xr-attrs dt {\n",
       "  font-weight: normal;\n",
       "  grid-column: 1;\n",
       "}\n",
       "\n",
       ".xr-attrs dt:hover span {\n",
       "  display: inline-block;\n",
       "  background: var(--xr-background-color);\n",
       "  padding-right: 10px;\n",
       "}\n",
       "\n",
       ".xr-attrs dd {\n",
       "  grid-column: 2;\n",
       "  white-space: pre-wrap;\n",
       "  word-break: break-all;\n",
       "}\n",
       "\n",
       ".xr-icon-database,\n",
       ".xr-icon-file-text2,\n",
       ".xr-no-icon {\n",
       "  display: inline-block;\n",
       "  vertical-align: middle;\n",
       "  width: 1em;\n",
       "  height: 1.5em !important;\n",
       "  stroke-width: 0;\n",
       "  stroke: currentColor;\n",
       "  fill: currentColor;\n",
       "}\n",
       "</style><pre class='xr-text-repr-fallback'>&lt;xarray.DataArray &#x27;t2m&#x27; (time: 48168, latitude: 30, longitude: 37)&gt;\n",
       "[53466480 values with dtype=float32]\n",
       "Coordinates:\n",
       "  * longitude  (longitude) float32 5.97 6.22 6.47 6.72 ... 14.47 14.72 14.97\n",
       "  * latitude   (latitude) float32 47.57 47.82 48.07 48.32 ... 54.32 54.57 54.82\n",
       "  * time       (time) datetime64[ns] 2018-01-01 ... 2023-06-30T23:00:00\n",
       "Attributes:\n",
       "    units:      K\n",
       "    long_name:  2 metre temperature</pre><div class='xr-wrap' style='display:none'><div class='xr-header'><div class='xr-obj-type'>xarray.DataArray</div><div class='xr-array-name'>'t2m'</div><ul class='xr-dim-list'><li><span class='xr-has-index'>time</span>: 48168</li><li><span class='xr-has-index'>latitude</span>: 30</li><li><span class='xr-has-index'>longitude</span>: 37</li></ul></div><ul class='xr-sections'><li class='xr-section-item'><div class='xr-array-wrap'><input id='section-c271ec97-6e50-4583-8b41-982efabbd2fb' class='xr-array-in' type='checkbox' checked><label for='section-c271ec97-6e50-4583-8b41-982efabbd2fb' title='Show/hide data repr'><svg class='icon xr-icon-database'><use xlink:href='#icon-database'></use></svg></label><div class='xr-array-preview xr-preview'><span>...</span></div><div class='xr-array-data'><pre>[53466480 values with dtype=float32]</pre></div></div></li><li class='xr-section-item'><input id='section-412251ee-d035-4047-a35a-0ae25956a68c' class='xr-section-summary-in' type='checkbox'  checked><label for='section-412251ee-d035-4047-a35a-0ae25956a68c' class='xr-section-summary' >Coordinates: <span>(3)</span></label><div class='xr-section-inline-details'></div><div class='xr-section-details'><ul class='xr-var-list'><li class='xr-var-item'><div class='xr-var-name'><span class='xr-has-index'>longitude</span></div><div class='xr-var-dims'>(longitude)</div><div class='xr-var-dtype'>float32</div><div class='xr-var-preview xr-preview'>5.97 6.22 6.47 ... 14.72 14.97</div><input id='attrs-9619402c-bae4-432d-b8ac-b783a91cd5ce' class='xr-var-attrs-in' type='checkbox' disabled><label for='attrs-9619402c-bae4-432d-b8ac-b783a91cd5ce' title='Show/Hide attributes'><svg class='icon xr-icon-file-text2'><use xlink:href='#icon-file-text2'></use></svg></label><input id='data-72325aab-e077-4f9c-a01e-21e86e669e04' class='xr-var-data-in' type='checkbox'><label for='data-72325aab-e077-4f9c-a01e-21e86e669e04' title='Show/Hide data repr'><svg class='icon xr-icon-database'><use xlink:href='#icon-database'></use></svg></label><div class='xr-var-attrs'><dl class='xr-attrs'></dl></div><div class='xr-var-data'><pre>array([ 5.97,  6.22,  6.47,  6.72,  6.97,  7.22,  7.47,  7.72,  7.97,  8.22,\n",
       "        8.47,  8.72,  8.97,  9.22,  9.47,  9.72,  9.97, 10.22, 10.47, 10.72,\n",
       "       10.97, 11.22, 11.47, 11.72, 11.97, 12.22, 12.47, 12.72, 12.97, 13.22,\n",
       "       13.47, 13.72, 13.97, 14.22, 14.47, 14.72, 14.97], dtype=float32)</pre></div></li><li class='xr-var-item'><div class='xr-var-name'><span class='xr-has-index'>latitude</span></div><div class='xr-var-dims'>(latitude)</div><div class='xr-var-dtype'>float32</div><div class='xr-var-preview xr-preview'>47.57 47.82 48.07 ... 54.57 54.82</div><input id='attrs-ac981d5e-975d-4692-af14-d5073f0a3c2c' class='xr-var-attrs-in' type='checkbox' disabled><label for='attrs-ac981d5e-975d-4692-af14-d5073f0a3c2c' title='Show/Hide attributes'><svg class='icon xr-icon-file-text2'><use xlink:href='#icon-file-text2'></use></svg></label><input id='data-5174aef1-1594-499a-862f-bf657f070a87' class='xr-var-data-in' type='checkbox'><label for='data-5174aef1-1594-499a-862f-bf657f070a87' title='Show/Hide data repr'><svg class='icon xr-icon-database'><use xlink:href='#icon-database'></use></svg></label><div class='xr-var-attrs'><dl class='xr-attrs'></dl></div><div class='xr-var-data'><pre>array([47.57, 47.82, 48.07, 48.32, 48.57, 48.82, 49.07, 49.32, 49.57, 49.82,\n",
       "       50.07, 50.32, 50.57, 50.82, 51.07, 51.32, 51.57, 51.82, 52.07, 52.32,\n",
       "       52.57, 52.82, 53.07, 53.32, 53.57, 53.82, 54.07, 54.32, 54.57, 54.82],\n",
       "      dtype=float32)</pre></div></li><li class='xr-var-item'><div class='xr-var-name'><span class='xr-has-index'>time</span></div><div class='xr-var-dims'>(time)</div><div class='xr-var-dtype'>datetime64[ns]</div><div class='xr-var-preview xr-preview'>2018-01-01 ... 2023-06-30T23:00:00</div><input id='attrs-731ab790-7219-4490-957c-d061a92991fe' class='xr-var-attrs-in' type='checkbox' disabled><label for='attrs-731ab790-7219-4490-957c-d061a92991fe' title='Show/Hide attributes'><svg class='icon xr-icon-file-text2'><use xlink:href='#icon-file-text2'></use></svg></label><input id='data-dba0766d-1361-4196-85e5-796a229c89a1' class='xr-var-data-in' type='checkbox'><label for='data-dba0766d-1361-4196-85e5-796a229c89a1' title='Show/Hide data repr'><svg class='icon xr-icon-database'><use xlink:href='#icon-database'></use></svg></label><div class='xr-var-attrs'><dl class='xr-attrs'></dl></div><div class='xr-var-data'><pre>array([&#x27;2018-01-01T00:00:00.000000000&#x27;, &#x27;2018-01-01T01:00:00.000000000&#x27;,\n",
       "       &#x27;2018-01-01T02:00:00.000000000&#x27;, ..., &#x27;2023-06-30T21:00:00.000000000&#x27;,\n",
       "       &#x27;2023-06-30T22:00:00.000000000&#x27;, &#x27;2023-06-30T23:00:00.000000000&#x27;],\n",
       "      dtype=&#x27;datetime64[ns]&#x27;)</pre></div></li></ul></div></li><li class='xr-section-item'><input id='section-936e0026-1797-4336-8080-ca5bf7492e85' class='xr-section-summary-in' type='checkbox'  ><label for='section-936e0026-1797-4336-8080-ca5bf7492e85' class='xr-section-summary' >Indexes: <span>(3)</span></label><div class='xr-section-inline-details'></div><div class='xr-section-details'><ul class='xr-var-list'><li class='xr-var-item'><div class='xr-index-name'><div>longitude</div></div><div class='xr-index-preview'>PandasIndex</div><div></div><input id='index-94362e10-3e35-489b-845f-908467e58f82' class='xr-index-data-in' type='checkbox'/><label for='index-94362e10-3e35-489b-845f-908467e58f82' title='Show/Hide index repr'><svg class='icon xr-icon-database'><use xlink:href='#icon-database'></use></svg></label><div class='xr-index-data'><pre>PandasIndex(Index([  5.96999979019165,   6.21999979019165,   6.46999979019165,\n",
       "         6.71999979019165,   6.96999979019165,   7.21999979019165,\n",
       "         7.46999979019165,   7.71999979019165,   7.96999979019165,\n",
       "        8.220000267028809,  8.470000267028809,  8.720000267028809,\n",
       "        8.970000267028809,  9.220000267028809,  9.470000267028809,\n",
       "        9.720000267028809,  9.970000267028809, 10.220000267028809,\n",
       "       10.470000267028809, 10.720000267028809, 10.970000267028809,\n",
       "       11.220000267028809, 11.470000267028809, 11.720000267028809,\n",
       "       11.970000267028809, 12.220000267028809, 12.470000267028809,\n",
       "       12.720000267028809, 12.970000267028809, 13.220000267028809,\n",
       "       13.470000267028809, 13.720000267028809, 13.970000267028809,\n",
       "       14.220000267028809, 14.470000267028809, 14.720000267028809,\n",
       "       14.970000267028809],\n",
       "      dtype=&#x27;float32&#x27;, name=&#x27;longitude&#x27;))</pre></div></li><li class='xr-var-item'><div class='xr-index-name'><div>latitude</div></div><div class='xr-index-preview'>PandasIndex</div><div></div><input id='index-f2e83198-accc-4adf-aeaf-5601c7f3b838' class='xr-index-data-in' type='checkbox'/><label for='index-f2e83198-accc-4adf-aeaf-5601c7f3b838' title='Show/Hide index repr'><svg class='icon xr-icon-database'><use xlink:href='#icon-database'></use></svg></label><div class='xr-index-data'><pre>PandasIndex(Index([47.56999969482422, 47.81999969482422, 48.06999969482422,\n",
       "       48.31999969482422, 48.56999969482422, 48.81999969482422,\n",
       "       49.06999969482422, 49.31999969482422, 49.56999969482422,\n",
       "       49.81999969482422, 50.06999969482422, 50.31999969482422,\n",
       "       50.56999969482422, 50.81999969482422, 51.06999969482422,\n",
       "       51.31999969482422, 51.56999969482422, 51.81999969482422,\n",
       "       52.06999969482422, 52.31999969482422, 52.56999969482422,\n",
       "       52.81999969482422, 53.06999969482422, 53.31999969482422,\n",
       "       53.56999969482422, 53.81999969482422, 54.06999969482422,\n",
       "       54.31999969482422, 54.56999969482422, 54.81999969482422],\n",
       "      dtype=&#x27;float32&#x27;, name=&#x27;latitude&#x27;))</pre></div></li><li class='xr-var-item'><div class='xr-index-name'><div>time</div></div><div class='xr-index-preview'>PandasIndex</div><div></div><input id='index-6dfd137f-92be-4a2f-81cc-b71c58559740' class='xr-index-data-in' type='checkbox'/><label for='index-6dfd137f-92be-4a2f-81cc-b71c58559740' title='Show/Hide index repr'><svg class='icon xr-icon-database'><use xlink:href='#icon-database'></use></svg></label><div class='xr-index-data'><pre>PandasIndex(DatetimeIndex([&#x27;2018-01-01 00:00:00&#x27;, &#x27;2018-01-01 01:00:00&#x27;,\n",
       "               &#x27;2018-01-01 02:00:00&#x27;, &#x27;2018-01-01 03:00:00&#x27;,\n",
       "               &#x27;2018-01-01 04:00:00&#x27;, &#x27;2018-01-01 05:00:00&#x27;,\n",
       "               &#x27;2018-01-01 06:00:00&#x27;, &#x27;2018-01-01 07:00:00&#x27;,\n",
       "               &#x27;2018-01-01 08:00:00&#x27;, &#x27;2018-01-01 09:00:00&#x27;,\n",
       "               ...\n",
       "               &#x27;2023-06-30 14:00:00&#x27;, &#x27;2023-06-30 15:00:00&#x27;,\n",
       "               &#x27;2023-06-30 16:00:00&#x27;, &#x27;2023-06-30 17:00:00&#x27;,\n",
       "               &#x27;2023-06-30 18:00:00&#x27;, &#x27;2023-06-30 19:00:00&#x27;,\n",
       "               &#x27;2023-06-30 20:00:00&#x27;, &#x27;2023-06-30 21:00:00&#x27;,\n",
       "               &#x27;2023-06-30 22:00:00&#x27;, &#x27;2023-06-30 23:00:00&#x27;],\n",
       "              dtype=&#x27;datetime64[ns]&#x27;, name=&#x27;time&#x27;, length=48168, freq=None))</pre></div></li></ul></div></li><li class='xr-section-item'><input id='section-c4cf0fb4-77d6-4ab5-8f19-0d8560d2dc2a' class='xr-section-summary-in' type='checkbox'  checked><label for='section-c4cf0fb4-77d6-4ab5-8f19-0d8560d2dc2a' class='xr-section-summary' >Attributes: <span>(2)</span></label><div class='xr-section-inline-details'></div><div class='xr-section-details'><dl class='xr-attrs'><dt><span>units :</span></dt><dd>K</dd><dt><span>long_name :</span></dt><dd>2 metre temperature</dd></dl></div></li></ul></div></div>"
      ],
      "text/plain": [
       "<xarray.DataArray 't2m' (time: 48168, latitude: 30, longitude: 37)>\n",
       "[53466480 values with dtype=float32]\n",
       "Coordinates:\n",
       "  * longitude  (longitude) float32 5.97 6.22 6.47 6.72 ... 14.47 14.72 14.97\n",
       "  * latitude   (latitude) float32 47.57 47.82 48.07 48.32 ... 54.32 54.57 54.82\n",
       "  * time       (time) datetime64[ns] 2018-01-01 ... 2023-06-30T23:00:00\n",
       "Attributes:\n",
       "    units:      K\n",
       "    long_name:  2 metre temperature"
      ]
     },
     "execution_count": 1279,
     "metadata": {},
     "output_type": "execute_result"
    }
   ],
   "source": [
    "ds['t2m']"
   ]
  },
  {
   "cell_type": "markdown",
   "id": "88b082db-1e78-475b-a4ba-8d73f7686990",
   "metadata": {},
   "source": [
    "-----"
   ]
  },
  {
   "cell_type": "markdown",
   "id": "75d59a00-0bb1-4699-9729-4bf630c70c1e",
   "metadata": {},
   "source": [
    "## Taking the mean of my 7 data vars across all lats and lons and assigning to pandas dataframes\n",
    "- Also localise ERA5 tz naive datetimeindex objects to tz UTC aware!"
   ]
  },
  {
   "cell_type": "code",
   "execution_count": 1274,
   "id": "771658c7-a105-40bd-8447-b8a266c967b4",
   "metadata": {
    "tags": []
   },
   "outputs": [
    {
     "data": {
      "text/plain": [
       "5.90585"
      ]
     },
     "execution_count": 1274,
     "metadata": {},
     "output_type": "execute_result"
    }
   ],
   "source": [
    "# I validated that it is indeed the hourly mean across all lats and lons!\n",
    "# (ds.sel(time=['2018-01-01 00:00:00'])['mean_wind_speed_10m'].values).mean()"
   ]
  },
  {
   "cell_type": "markdown",
   "id": "ac736671-19b2-4746-bfa8-5247734ba2fb",
   "metadata": {},
   "source": [
    "#### All dataframes have index set to datetimeindex"
   ]
  },
  {
   "cell_type": "code",
   "execution_count": 1290,
   "id": "6d671ba7-d2d0-495d-97f5-4695b59ad239",
   "metadata": {
    "tags": []
   },
   "outputs": [],
   "source": [
    "# Calculate mean across all lats and lons, assign to new df, and convert naive datetimeindex to UTC tz aware\n",
    "\n",
    "# Units: m/s\n",
    "df_mean_wind_speed_10m = ds['mean_wind_speed_10m'].mean(dim=['latitude', 'longitude']).to_dataframe()\n",
    "df_mean_wind_speed_10m.index = df_mean_wind_speed_10m.index.tz_localize(tz='utc')\n",
    "\n",
    "# Units: m/s\n",
    "df_mean_wind_speed_100m = ds['mean_wind_speed_100m'].mean(dim=['latitude', 'longitude']).to_dataframe()\n",
    "df_mean_wind_speed_100m.index = df_mean_wind_speed_100m.index.tz_localize(tz='utc')\n",
    "\n",
    "# Units: degrees\n",
    "df_wind_direction_angle_10m = ds['wind_direction_angle_10m'].mean(dim=['latitude', 'longitude']).to_dataframe()\n",
    "df_wind_direction_angle_10m.index = df_wind_direction_angle_10m.index.tz_localize(tz='utc')\n",
    "\n",
    "# Units: degrees\n",
    "df_wind_direction_angle_100m = ds['wind_direction_angle_100m'].mean(dim=['latitude', 'longitude']).to_dataframe()\n",
    "df_wind_direction_angle_100m.index = df_wind_direction_angle_100m.index.tz_localize(tz='utc')\n",
    "\n",
    "# Units: Pascals (Pa)\n",
    "df_msl = ds['msl'].mean(dim=['latitude', 'longitude']).to_dataframe()\n",
    "df_msl.index = df_msl.index.tz_localize(tz='utc')\n",
    "\n",
    "# instantaneous_10m_wind_gust; units: m/s\n",
    "df_i10fg = ds['i10fg'].mean(dim=['latitude', 'longitude']).to_dataframe()\n",
    "df_i10fg.index = df_i10fg.index.tz_localize(tz='utc')\n",
    "\n",
    "# 2m_temperature; units: Kelvin\n",
    "df_t2m = ds['t2m'].mean(dim=['latitude', 'longitude']).to_dataframe()\n",
    "df_t2m.index = df_t2m.index.tz_localize(tz='utc')"
   ]
  },
  {
   "cell_type": "markdown",
   "id": "53720c9a-18ca-47f2-bfa0-2772dadf2afa",
   "metadata": {},
   "source": [
    "#### Left merge above 7 dataframes of mean values onto `df_main` using indices of both"
   ]
  },
  {
   "cell_type": "code",
   "execution_count": 1299,
   "id": "7bad684d-a8f3-43ef-974c-5ec541b6abe1",
   "metadata": {
    "tags": []
   },
   "outputs": [],
   "source": [
    "df_main = df_main.merge(df_mean_wind_speed_10m, left_index=True, right_index=True, how='left')\n",
    "df_main = df_main.merge(df_mean_wind_speed_100m, left_index=True, right_index=True, how='left')\n",
    "df_main = df_main.merge(df_wind_direction_angle_10m, left_index=True, right_index=True, how='left')\n",
    "df_main = df_main.merge(df_wind_direction_angle_100m, left_index=True, right_index=True, how='left')\n",
    "df_main = df_main.merge(df_msl, left_index=True, right_index=True, how='left')\n",
    "df_main = df_main.merge(df_i10fg, left_index=True, right_index=True, how='left')\n",
    "df_main = df_main.merge(df_t2m, left_index=True, right_index=True, how='left')"
   ]
  },
  {
   "cell_type": "code",
   "execution_count": 1301,
   "id": "7e109e86-a72a-46db-94a2-1eaf57616329",
   "metadata": {
    "tags": []
   },
   "outputs": [
    {
     "name": "stdout",
     "output_type": "stream",
     "text": [
      "<class 'pandas.core.frame.DataFrame'>\n",
      "DatetimeIndex: 49656 entries, 2018-01-01 00:00:00+00:00 to 2023-08-31 23:00:00+00:00\n",
      "Data columns (total 20 columns):\n",
      " #   Column                                          Non-Null Count  Dtype              \n",
      "---  ------                                          --------------  -----              \n",
      " 0   hour                                            49656 non-null  int32              \n",
      " 1   day_of_week                                     49656 non-null  int32              \n",
      " 2   day_of_month                                    49656 non-null  int32              \n",
      " 3   month_number                                    49656 non-null  int32              \n",
      " 4   year                                            49656 non-null  int32              \n",
      " 5   meteorological_season                           49656 non-null  object             \n",
      " 6   turbines_in_operation                           49656 non-null  int64              \n",
      " 7   total_nominal_capacity_operational_turbines_mw  49656 non-null  float64            \n",
      " 8   datetime_cet                                    49654 non-null  datetime64[ns, CET]\n",
      " 9   actual_generated_smard_mwh                      49654 non-null  float64            \n",
      " 10  day_ahead_price_eur_mwh                         43104 non-null  float64            \n",
      " 11  total_nominal_capacity_smard_mw                 49654 non-null  float64            \n",
      " 12  forecasted_generation_smard_mwh                 49630 non-null  float64            \n",
      " 13  mean_wind_speed_10m                             48168 non-null  float32            \n",
      " 14  mean_wind_speed_100m                            48168 non-null  float32            \n",
      " 15  wind_direction_angle_10m                        48168 non-null  float32            \n",
      " 16  wind_direction_angle_100m                       48168 non-null  float32            \n",
      " 17  msl                                             48168 non-null  float32            \n",
      " 18  i10fg                                           48168 non-null  float32            \n",
      " 19  t2m                                             48168 non-null  float32            \n",
      "dtypes: datetime64[ns, CET](1), float32(7), float64(5), int32(5), int64(1), object(1)\n",
      "memory usage: 6.7+ MB\n"
     ]
    }
   ],
   "source": [
    "df_main.info()"
   ]
  },
  {
   "cell_type": "code",
   "execution_count": 1302,
   "id": "d858a218-2bba-4a9a-84ff-18075de63e33",
   "metadata": {
    "tags": []
   },
   "outputs": [
    {
     "data": {
      "text/plain": [
       "hour                                                 0\n",
       "day_of_week                                          0\n",
       "day_of_month                                         0\n",
       "month_number                                         0\n",
       "year                                                 0\n",
       "meteorological_season                                0\n",
       "turbines_in_operation                                0\n",
       "total_nominal_capacity_operational_turbines_mw       0\n",
       "datetime_cet                                         2\n",
       "actual_generated_smard_mwh                           2\n",
       "day_ahead_price_eur_mwh                           6552\n",
       "total_nominal_capacity_smard_mw                      2\n",
       "forecasted_generation_smard_mwh                     26\n",
       "mean_wind_speed_10m                               1488\n",
       "mean_wind_speed_100m                              1488\n",
       "wind_direction_angle_10m                          1488\n",
       "wind_direction_angle_100m                         1488\n",
       "msl                                               1488\n",
       "i10fg                                             1488\n",
       "t2m                                               1488\n",
       "dtype: int64"
      ]
     },
     "execution_count": 1302,
     "metadata": {},
     "output_type": "execute_result"
    }
   ],
   "source": [
    "df_main.isna().sum()"
   ]
  },
  {
   "cell_type": "code",
   "execution_count": 1303,
   "id": "ec2c3483-40ef-4112-b9fa-bd7a56ad92e6",
   "metadata": {
    "tags": []
   },
   "outputs": [
    {
     "data": {
      "text/html": [
       "<div>\n",
       "<style scoped>\n",
       "    .dataframe tbody tr th:only-of-type {\n",
       "        vertical-align: middle;\n",
       "    }\n",
       "\n",
       "    .dataframe tbody tr th {\n",
       "        vertical-align: top;\n",
       "    }\n",
       "\n",
       "    .dataframe thead th {\n",
       "        text-align: right;\n",
       "    }\n",
       "</style>\n",
       "<table border=\"1\" class=\"dataframe\">\n",
       "  <thead>\n",
       "    <tr style=\"text-align: right;\">\n",
       "      <th></th>\n",
       "      <th>hour</th>\n",
       "      <th>day_of_week</th>\n",
       "      <th>day_of_month</th>\n",
       "      <th>month_number</th>\n",
       "      <th>year</th>\n",
       "      <th>meteorological_season</th>\n",
       "      <th>turbines_in_operation</th>\n",
       "      <th>total_nominal_capacity_operational_turbines_mw</th>\n",
       "      <th>datetime_cet</th>\n",
       "      <th>actual_generated_smard_mwh</th>\n",
       "      <th>day_ahead_price_eur_mwh</th>\n",
       "      <th>total_nominal_capacity_smard_mw</th>\n",
       "      <th>forecasted_generation_smard_mwh</th>\n",
       "      <th>mean_wind_speed_10m</th>\n",
       "      <th>mean_wind_speed_100m</th>\n",
       "      <th>wind_direction_angle_10m</th>\n",
       "      <th>wind_direction_angle_100m</th>\n",
       "      <th>msl</th>\n",
       "      <th>i10fg</th>\n",
       "      <th>t2m</th>\n",
       "    </tr>\n",
       "    <tr>\n",
       "      <th>datetime_utc</th>\n",
       "      <th></th>\n",
       "      <th></th>\n",
       "      <th></th>\n",
       "      <th></th>\n",
       "      <th></th>\n",
       "      <th></th>\n",
       "      <th></th>\n",
       "      <th></th>\n",
       "      <th></th>\n",
       "      <th></th>\n",
       "      <th></th>\n",
       "      <th></th>\n",
       "      <th></th>\n",
       "      <th></th>\n",
       "      <th></th>\n",
       "      <th></th>\n",
       "      <th></th>\n",
       "      <th></th>\n",
       "      <th></th>\n",
       "      <th></th>\n",
       "    </tr>\n",
       "  </thead>\n",
       "  <tbody>\n",
       "    <tr>\n",
       "      <th>2018-03-11 15:00:00+00:00</th>\n",
       "      <td>15</td>\n",
       "      <td>6</td>\n",
       "      <td>11</td>\n",
       "      <td>3</td>\n",
       "      <td>2018</td>\n",
       "      <td>spring</td>\n",
       "      <td>27616</td>\n",
       "      <td>50198.160277</td>\n",
       "      <td>2018-03-11 16:00:00+01:00</td>\n",
       "      <td>6688.50</td>\n",
       "      <td>NaN</td>\n",
       "      <td>51633.0</td>\n",
       "      <td>7938.25</td>\n",
       "      <td>3.276044</td>\n",
       "      <td>5.392661</td>\n",
       "      <td>157.142288</td>\n",
       "      <td>162.422333</td>\n",
       "      <td>99580.523438</td>\n",
       "      <td>6.121439</td>\n",
       "      <td>286.236877</td>\n",
       "    </tr>\n",
       "    <tr>\n",
       "      <th>2018-10-17 17:00:00+00:00</th>\n",
       "      <td>17</td>\n",
       "      <td>2</td>\n",
       "      <td>17</td>\n",
       "      <td>10</td>\n",
       "      <td>2018</td>\n",
       "      <td>autumn</td>\n",
       "      <td>28144</td>\n",
       "      <td>51824.876017</td>\n",
       "      <td>2018-10-17 19:00:00+02:00</td>\n",
       "      <td>1820.25</td>\n",
       "      <td>112.66</td>\n",
       "      <td>51633.0</td>\n",
       "      <td>1501.25</td>\n",
       "      <td>2.076409</td>\n",
       "      <td>3.434926</td>\n",
       "      <td>125.832153</td>\n",
       "      <td>128.514664</td>\n",
       "      <td>101853.820312</td>\n",
       "      <td>2.993047</td>\n",
       "      <td>288.277771</td>\n",
       "    </tr>\n",
       "    <tr>\n",
       "      <th>2022-03-22 11:00:00+00:00</th>\n",
       "      <td>11</td>\n",
       "      <td>1</td>\n",
       "      <td>22</td>\n",
       "      <td>3</td>\n",
       "      <td>2022</td>\n",
       "      <td>spring</td>\n",
       "      <td>28990</td>\n",
       "      <td>56148.295747</td>\n",
       "      <td>2022-03-22 12:00:00+01:00</td>\n",
       "      <td>1101.00</td>\n",
       "      <td>183.66</td>\n",
       "      <td>55289.0</td>\n",
       "      <td>895.25</td>\n",
       "      <td>2.096840</td>\n",
       "      <td>2.808356</td>\n",
       "      <td>124.054955</td>\n",
       "      <td>128.389359</td>\n",
       "      <td>103331.125000</td>\n",
       "      <td>5.490824</td>\n",
       "      <td>285.641418</td>\n",
       "    </tr>\n",
       "    <tr>\n",
       "      <th>2018-12-18 18:00:00+00:00</th>\n",
       "      <td>18</td>\n",
       "      <td>1</td>\n",
       "      <td>18</td>\n",
       "      <td>12</td>\n",
       "      <td>2018</td>\n",
       "      <td>winter</td>\n",
       "      <td>28231</td>\n",
       "      <td>52097.175317</td>\n",
       "      <td>2018-12-18 19:00:00+01:00</td>\n",
       "      <td>19321.25</td>\n",
       "      <td>55.07</td>\n",
       "      <td>51633.0</td>\n",
       "      <td>15993.25</td>\n",
       "      <td>3.990237</td>\n",
       "      <td>7.326513</td>\n",
       "      <td>142.450195</td>\n",
       "      <td>148.109573</td>\n",
       "      <td>102223.539062</td>\n",
       "      <td>7.101932</td>\n",
       "      <td>275.357513</td>\n",
       "    </tr>\n",
       "    <tr>\n",
       "      <th>2023-02-20 20:00:00+00:00</th>\n",
       "      <td>20</td>\n",
       "      <td>0</td>\n",
       "      <td>20</td>\n",
       "      <td>2</td>\n",
       "      <td>2023</td>\n",
       "      <td>winter</td>\n",
       "      <td>29266</td>\n",
       "      <td>58113.114847</td>\n",
       "      <td>2023-02-20 21:00:00+01:00</td>\n",
       "      <td>34438.00</td>\n",
       "      <td>87.73</td>\n",
       "      <td>57590.0</td>\n",
       "      <td>33968.25</td>\n",
       "      <td>6.103575</td>\n",
       "      <td>10.171242</td>\n",
       "      <td>259.669800</td>\n",
       "      <td>265.571320</td>\n",
       "      <td>101753.109375</td>\n",
       "      <td>11.346268</td>\n",
       "      <td>280.850891</td>\n",
       "    </tr>\n",
       "    <tr>\n",
       "      <th>2019-08-28 00:00:00+00:00</th>\n",
       "      <td>0</td>\n",
       "      <td>2</td>\n",
       "      <td>28</td>\n",
       "      <td>8</td>\n",
       "      <td>2019</td>\n",
       "      <td>summer</td>\n",
       "      <td>28330</td>\n",
       "      <td>52488.971817</td>\n",
       "      <td>2019-08-28 02:00:00+02:00</td>\n",
       "      <td>5060.25</td>\n",
       "      <td>34.92</td>\n",
       "      <td>52792.0</td>\n",
       "      <td>4210.50</td>\n",
       "      <td>2.488330</td>\n",
       "      <td>5.000344</td>\n",
       "      <td>156.190628</td>\n",
       "      <td>170.133087</td>\n",
       "      <td>101605.781250</td>\n",
       "      <td>3.896215</td>\n",
       "      <td>292.939911</td>\n",
       "    </tr>\n",
       "    <tr>\n",
       "      <th>2018-01-14 08:00:00+00:00</th>\n",
       "      <td>8</td>\n",
       "      <td>6</td>\n",
       "      <td>14</td>\n",
       "      <td>1</td>\n",
       "      <td>2018</td>\n",
       "      <td>winter</td>\n",
       "      <td>27472</td>\n",
       "      <td>49751.012897</td>\n",
       "      <td>2018-01-14 09:00:00+01:00</td>\n",
       "      <td>12442.25</td>\n",
       "      <td>NaN</td>\n",
       "      <td>51633.0</td>\n",
       "      <td>12288.75</td>\n",
       "      <td>4.263299</td>\n",
       "      <td>6.823984</td>\n",
       "      <td>109.927994</td>\n",
       "      <td>113.486023</td>\n",
       "      <td>102585.242188</td>\n",
       "      <td>7.885798</td>\n",
       "      <td>272.509491</td>\n",
       "    </tr>\n",
       "    <tr>\n",
       "      <th>2020-02-15 23:00:00+00:00</th>\n",
       "      <td>23</td>\n",
       "      <td>5</td>\n",
       "      <td>15</td>\n",
       "      <td>2</td>\n",
       "      <td>2020</td>\n",
       "      <td>winter</td>\n",
       "      <td>28533</td>\n",
       "      <td>53250.248167</td>\n",
       "      <td>2020-02-16 00:00:00+01:00</td>\n",
       "      <td>33111.25</td>\n",
       "      <td>-5.90</td>\n",
       "      <td>53184.0</td>\n",
       "      <td>34426.50</td>\n",
       "      <td>6.787458</td>\n",
       "      <td>11.506101</td>\n",
       "      <td>197.479218</td>\n",
       "      <td>203.662445</td>\n",
       "      <td>101439.476562</td>\n",
       "      <td>12.421384</td>\n",
       "      <td>280.225098</td>\n",
       "    </tr>\n",
       "    <tr>\n",
       "      <th>2021-10-17 12:00:00+00:00</th>\n",
       "      <td>12</td>\n",
       "      <td>6</td>\n",
       "      <td>17</td>\n",
       "      <td>10</td>\n",
       "      <td>2021</td>\n",
       "      <td>autumn</td>\n",
       "      <td>28886</td>\n",
       "      <td>55433.260047</td>\n",
       "      <td>2021-10-17 14:00:00+02:00</td>\n",
       "      <td>3526.25</td>\n",
       "      <td>101.39</td>\n",
       "      <td>54499.0</td>\n",
       "      <td>4376.25</td>\n",
       "      <td>2.595593</td>\n",
       "      <td>3.544051</td>\n",
       "      <td>219.543365</td>\n",
       "      <td>221.266678</td>\n",
       "      <td>102035.187500</td>\n",
       "      <td>6.107945</td>\n",
       "      <td>284.212067</td>\n",
       "    </tr>\n",
       "    <tr>\n",
       "      <th>2021-09-13 10:00:00+00:00</th>\n",
       "      <td>10</td>\n",
       "      <td>0</td>\n",
       "      <td>13</td>\n",
       "      <td>9</td>\n",
       "      <td>2021</td>\n",
       "      <td>autumn</td>\n",
       "      <td>28884</td>\n",
       "      <td>55319.336077</td>\n",
       "      <td>2021-09-13 12:00:00+02:00</td>\n",
       "      <td>2160.00</td>\n",
       "      <td>118.84</td>\n",
       "      <td>54499.0</td>\n",
       "      <td>2104.75</td>\n",
       "      <td>2.299514</td>\n",
       "      <td>2.878744</td>\n",
       "      <td>212.845490</td>\n",
       "      <td>213.045731</td>\n",
       "      <td>101888.695312</td>\n",
       "      <td>5.654827</td>\n",
       "      <td>291.439484</td>\n",
       "    </tr>\n",
       "  </tbody>\n",
       "</table>\n",
       "</div>"
      ],
      "text/plain": [
       "                           hour  day_of_week  day_of_month  month_number  \\\n",
       "datetime_utc                                                               \n",
       "2018-03-11 15:00:00+00:00    15            6            11             3   \n",
       "2018-10-17 17:00:00+00:00    17            2            17            10   \n",
       "2022-03-22 11:00:00+00:00    11            1            22             3   \n",
       "2018-12-18 18:00:00+00:00    18            1            18            12   \n",
       "2023-02-20 20:00:00+00:00    20            0            20             2   \n",
       "2019-08-28 00:00:00+00:00     0            2            28             8   \n",
       "2018-01-14 08:00:00+00:00     8            6            14             1   \n",
       "2020-02-15 23:00:00+00:00    23            5            15             2   \n",
       "2021-10-17 12:00:00+00:00    12            6            17            10   \n",
       "2021-09-13 10:00:00+00:00    10            0            13             9   \n",
       "\n",
       "                           year meteorological_season  turbines_in_operation  \\\n",
       "datetime_utc                                                                   \n",
       "2018-03-11 15:00:00+00:00  2018                spring                  27616   \n",
       "2018-10-17 17:00:00+00:00  2018                autumn                  28144   \n",
       "2022-03-22 11:00:00+00:00  2022                spring                  28990   \n",
       "2018-12-18 18:00:00+00:00  2018                winter                  28231   \n",
       "2023-02-20 20:00:00+00:00  2023                winter                  29266   \n",
       "2019-08-28 00:00:00+00:00  2019                summer                  28330   \n",
       "2018-01-14 08:00:00+00:00  2018                winter                  27472   \n",
       "2020-02-15 23:00:00+00:00  2020                winter                  28533   \n",
       "2021-10-17 12:00:00+00:00  2021                autumn                  28886   \n",
       "2021-09-13 10:00:00+00:00  2021                autumn                  28884   \n",
       "\n",
       "                           total_nominal_capacity_operational_turbines_mw  \\\n",
       "datetime_utc                                                                \n",
       "2018-03-11 15:00:00+00:00                                    50198.160277   \n",
       "2018-10-17 17:00:00+00:00                                    51824.876017   \n",
       "2022-03-22 11:00:00+00:00                                    56148.295747   \n",
       "2018-12-18 18:00:00+00:00                                    52097.175317   \n",
       "2023-02-20 20:00:00+00:00                                    58113.114847   \n",
       "2019-08-28 00:00:00+00:00                                    52488.971817   \n",
       "2018-01-14 08:00:00+00:00                                    49751.012897   \n",
       "2020-02-15 23:00:00+00:00                                    53250.248167   \n",
       "2021-10-17 12:00:00+00:00                                    55433.260047   \n",
       "2021-09-13 10:00:00+00:00                                    55319.336077   \n",
       "\n",
       "                                       datetime_cet  \\\n",
       "datetime_utc                                          \n",
       "2018-03-11 15:00:00+00:00 2018-03-11 16:00:00+01:00   \n",
       "2018-10-17 17:00:00+00:00 2018-10-17 19:00:00+02:00   \n",
       "2022-03-22 11:00:00+00:00 2022-03-22 12:00:00+01:00   \n",
       "2018-12-18 18:00:00+00:00 2018-12-18 19:00:00+01:00   \n",
       "2023-02-20 20:00:00+00:00 2023-02-20 21:00:00+01:00   \n",
       "2019-08-28 00:00:00+00:00 2019-08-28 02:00:00+02:00   \n",
       "2018-01-14 08:00:00+00:00 2018-01-14 09:00:00+01:00   \n",
       "2020-02-15 23:00:00+00:00 2020-02-16 00:00:00+01:00   \n",
       "2021-10-17 12:00:00+00:00 2021-10-17 14:00:00+02:00   \n",
       "2021-09-13 10:00:00+00:00 2021-09-13 12:00:00+02:00   \n",
       "\n",
       "                           actual_generated_smard_mwh  \\\n",
       "datetime_utc                                            \n",
       "2018-03-11 15:00:00+00:00                     6688.50   \n",
       "2018-10-17 17:00:00+00:00                     1820.25   \n",
       "2022-03-22 11:00:00+00:00                     1101.00   \n",
       "2018-12-18 18:00:00+00:00                    19321.25   \n",
       "2023-02-20 20:00:00+00:00                    34438.00   \n",
       "2019-08-28 00:00:00+00:00                     5060.25   \n",
       "2018-01-14 08:00:00+00:00                    12442.25   \n",
       "2020-02-15 23:00:00+00:00                    33111.25   \n",
       "2021-10-17 12:00:00+00:00                     3526.25   \n",
       "2021-09-13 10:00:00+00:00                     2160.00   \n",
       "\n",
       "                           day_ahead_price_eur_mwh  \\\n",
       "datetime_utc                                         \n",
       "2018-03-11 15:00:00+00:00                      NaN   \n",
       "2018-10-17 17:00:00+00:00                   112.66   \n",
       "2022-03-22 11:00:00+00:00                   183.66   \n",
       "2018-12-18 18:00:00+00:00                    55.07   \n",
       "2023-02-20 20:00:00+00:00                    87.73   \n",
       "2019-08-28 00:00:00+00:00                    34.92   \n",
       "2018-01-14 08:00:00+00:00                      NaN   \n",
       "2020-02-15 23:00:00+00:00                    -5.90   \n",
       "2021-10-17 12:00:00+00:00                   101.39   \n",
       "2021-09-13 10:00:00+00:00                   118.84   \n",
       "\n",
       "                           total_nominal_capacity_smard_mw  \\\n",
       "datetime_utc                                                 \n",
       "2018-03-11 15:00:00+00:00                          51633.0   \n",
       "2018-10-17 17:00:00+00:00                          51633.0   \n",
       "2022-03-22 11:00:00+00:00                          55289.0   \n",
       "2018-12-18 18:00:00+00:00                          51633.0   \n",
       "2023-02-20 20:00:00+00:00                          57590.0   \n",
       "2019-08-28 00:00:00+00:00                          52792.0   \n",
       "2018-01-14 08:00:00+00:00                          51633.0   \n",
       "2020-02-15 23:00:00+00:00                          53184.0   \n",
       "2021-10-17 12:00:00+00:00                          54499.0   \n",
       "2021-09-13 10:00:00+00:00                          54499.0   \n",
       "\n",
       "                           forecasted_generation_smard_mwh  \\\n",
       "datetime_utc                                                 \n",
       "2018-03-11 15:00:00+00:00                          7938.25   \n",
       "2018-10-17 17:00:00+00:00                          1501.25   \n",
       "2022-03-22 11:00:00+00:00                           895.25   \n",
       "2018-12-18 18:00:00+00:00                         15993.25   \n",
       "2023-02-20 20:00:00+00:00                         33968.25   \n",
       "2019-08-28 00:00:00+00:00                          4210.50   \n",
       "2018-01-14 08:00:00+00:00                         12288.75   \n",
       "2020-02-15 23:00:00+00:00                         34426.50   \n",
       "2021-10-17 12:00:00+00:00                          4376.25   \n",
       "2021-09-13 10:00:00+00:00                          2104.75   \n",
       "\n",
       "                           mean_wind_speed_10m  mean_wind_speed_100m  \\\n",
       "datetime_utc                                                           \n",
       "2018-03-11 15:00:00+00:00             3.276044              5.392661   \n",
       "2018-10-17 17:00:00+00:00             2.076409              3.434926   \n",
       "2022-03-22 11:00:00+00:00             2.096840              2.808356   \n",
       "2018-12-18 18:00:00+00:00             3.990237              7.326513   \n",
       "2023-02-20 20:00:00+00:00             6.103575             10.171242   \n",
       "2019-08-28 00:00:00+00:00             2.488330              5.000344   \n",
       "2018-01-14 08:00:00+00:00             4.263299              6.823984   \n",
       "2020-02-15 23:00:00+00:00             6.787458             11.506101   \n",
       "2021-10-17 12:00:00+00:00             2.595593              3.544051   \n",
       "2021-09-13 10:00:00+00:00             2.299514              2.878744   \n",
       "\n",
       "                           wind_direction_angle_10m  \\\n",
       "datetime_utc                                          \n",
       "2018-03-11 15:00:00+00:00                157.142288   \n",
       "2018-10-17 17:00:00+00:00                125.832153   \n",
       "2022-03-22 11:00:00+00:00                124.054955   \n",
       "2018-12-18 18:00:00+00:00                142.450195   \n",
       "2023-02-20 20:00:00+00:00                259.669800   \n",
       "2019-08-28 00:00:00+00:00                156.190628   \n",
       "2018-01-14 08:00:00+00:00                109.927994   \n",
       "2020-02-15 23:00:00+00:00                197.479218   \n",
       "2021-10-17 12:00:00+00:00                219.543365   \n",
       "2021-09-13 10:00:00+00:00                212.845490   \n",
       "\n",
       "                           wind_direction_angle_100m            msl  \\\n",
       "datetime_utc                                                          \n",
       "2018-03-11 15:00:00+00:00                 162.422333   99580.523438   \n",
       "2018-10-17 17:00:00+00:00                 128.514664  101853.820312   \n",
       "2022-03-22 11:00:00+00:00                 128.389359  103331.125000   \n",
       "2018-12-18 18:00:00+00:00                 148.109573  102223.539062   \n",
       "2023-02-20 20:00:00+00:00                 265.571320  101753.109375   \n",
       "2019-08-28 00:00:00+00:00                 170.133087  101605.781250   \n",
       "2018-01-14 08:00:00+00:00                 113.486023  102585.242188   \n",
       "2020-02-15 23:00:00+00:00                 203.662445  101439.476562   \n",
       "2021-10-17 12:00:00+00:00                 221.266678  102035.187500   \n",
       "2021-09-13 10:00:00+00:00                 213.045731  101888.695312   \n",
       "\n",
       "                               i10fg         t2m  \n",
       "datetime_utc                                      \n",
       "2018-03-11 15:00:00+00:00   6.121439  286.236877  \n",
       "2018-10-17 17:00:00+00:00   2.993047  288.277771  \n",
       "2022-03-22 11:00:00+00:00   5.490824  285.641418  \n",
       "2018-12-18 18:00:00+00:00   7.101932  275.357513  \n",
       "2023-02-20 20:00:00+00:00  11.346268  280.850891  \n",
       "2019-08-28 00:00:00+00:00   3.896215  292.939911  \n",
       "2018-01-14 08:00:00+00:00   7.885798  272.509491  \n",
       "2020-02-15 23:00:00+00:00  12.421384  280.225098  \n",
       "2021-10-17 12:00:00+00:00   6.107945  284.212067  \n",
       "2021-09-13 10:00:00+00:00   5.654827  291.439484  "
      ]
     },
     "execution_count": 1303,
     "metadata": {},
     "output_type": "execute_result"
    }
   ],
   "source": [
    "df_main.sample(10)"
   ]
  },
  {
   "cell_type": "code",
   "execution_count": null,
   "id": "e90e12f2-76b0-4ab4-be23-a0d39beb363d",
   "metadata": {},
   "outputs": [],
   "source": []
  },
  {
   "cell_type": "markdown",
   "id": "fcf248f4-f0be-4950-a6cd-1068c5d27d4f",
   "metadata": {},
   "source": [
    "#### Save `df_main` progress to pickle"
   ]
  },
  {
   "cell_type": "code",
   "execution_count": 1304,
   "id": "9cc070fd-eaf7-48fe-9f1a-862a1029cf01",
   "metadata": {
    "tags": []
   },
   "outputs": [],
   "source": [
    "# df_main.to_pickle(data_push_path / 'df_main_smard_era5.pkl')"
   ]
  },
  {
   "cell_type": "code",
   "execution_count": null,
   "id": "112506bf-6740-4d8b-88eb-48528e4229f7",
   "metadata": {},
   "outputs": [],
   "source": []
  }
 ],
 "metadata": {
  "kernelspec": {
   "display_name": "course_project",
   "language": "python",
   "name": "course_project"
  },
  "language_info": {
   "codemirror_mode": {
    "name": "ipython",
    "version": 3
   },
   "file_extension": ".py",
   "mimetype": "text/x-python",
   "name": "python",
   "nbconvert_exporter": "python",
   "pygments_lexer": "ipython3",
   "version": "3.10.12"
  }
 },
 "nbformat": 4,
 "nbformat_minor": 5
}
