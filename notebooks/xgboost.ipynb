{
 "cells": [
  {
   "cell_type": "markdown",
   "id": "57a07599-70ea-4b85-a2e7-6f7c65fcd9cb",
   "metadata": {},
   "source": [
    "# XGBoost regressor model "
   ]
  },
  {
   "cell_type": "code",
   "execution_count": 1,
   "id": "de9ec0a9-3010-44be-8968-d704a35f5335",
   "metadata": {
    "tags": []
   },
   "outputs": [],
   "source": [
    "from pathlib import Path\n",
    "\n",
    "import numpy as np\n",
    "import pandas as pd\n",
    "import matplotlib.pyplot as plt\n",
    "import seaborn as sns\n",
    "from sklearn.metrics import mean_squared_error\n",
    "import xgboost as xgb"
   ]
  },
  {
   "cell_type": "code",
   "execution_count": 2,
   "id": "3e762d06-0ffd-4c43-9dfe-a7b2a476f25e",
   "metadata": {
    "tags": []
   },
   "outputs": [],
   "source": [
    "# Set max number of columns to display; default 20\n",
    "pd.options.display.max_columns = 50"
   ]
  },
  {
   "cell_type": "code",
   "execution_count": 3,
   "id": "1318aa56-48e5-4aa0-ba1b-7852ef65c123",
   "metadata": {
    "tags": []
   },
   "outputs": [],
   "source": [
    "# Paths to data directories\n",
    "cwd_path = Path.cwd()\n",
    "data_path = cwd_path.parent.joinpath('data')\n",
    "data_push_path = cwd_path.parent.joinpath('data_to_push')"
   ]
  },
  {
   "cell_type": "markdown",
   "id": "f964c4e5-0c5f-4005-88e3-f0439e4890fe",
   "metadata": {},
   "source": [
    "#### Read in data (and wrangle a bit)"
   ]
  },
  {
   "cell_type": "code",
   "execution_count": 4,
   "id": "9e21cb6a-3f00-4e3e-b118-97b8494d3527",
   "metadata": {
    "tags": []
   },
   "outputs": [
    {
     "name": "stdout",
     "output_type": "stream",
     "text": [
      "<class 'pandas.core.frame.DataFrame'>\n",
      "DatetimeIndex: 48168 entries, 2018-01-01 00:00:00+00:00 to 2023-06-30 23:00:00+00:00\n",
      "Data columns (total 34 columns):\n",
      " #   Column                                          Non-Null Count  Dtype  \n",
      "---  ------                                          --------------  -----  \n",
      " 0   hour                                            48168 non-null  int32  \n",
      " 1   day_of_week                                     48168 non-null  int32  \n",
      " 2   day_of_month                                    48168 non-null  int32  \n",
      " 3   day_of_year                                     48168 non-null  int32  \n",
      " 4   week_of_year                                    48168 non-null  UInt32 \n",
      " 5   month_number                                    48168 non-null  int32  \n",
      " 6   year                                            48168 non-null  int32  \n",
      " 7   meteorological_season                           48168 non-null  object \n",
      " 8   public_holiday                                  48168 non-null  int64  \n",
      " 9   turbines_in_operation                           48168 non-null  int64  \n",
      " 10  total_nominal_capacity_operational_turbines_mw  48168 non-null  float64\n",
      " 11  total_nominal_capacity_smard_mw                 48168 non-null  float64\n",
      " 12  day_ahead_price_eur_mwh                         41618 non-null  float64\n",
      " 13  total_net_load_smard_mwh                        48168 non-null  float64\n",
      " 14  residual_load_smard_mwh                         48168 non-null  float64\n",
      " 15  temp_2m_celsius                                 48168 non-null  float64\n",
      " 16  mean_sea_level_pressure_mb                      48168 non-null  float64\n",
      " 17  wind_gusts_10m                                  48168 non-null  float32\n",
      " 18  mean_wind_speed_10m                             48168 non-null  float32\n",
      " 19  mean_wind_speed_100m                            48168 non-null  float32\n",
      " 20  wind_direction_angle_10m                        48168 non-null  float32\n",
      " 21  wind_direction_angle_100m                       48168 non-null  float32\n",
      " 22  wind_direction_intercardinal_10m                48168 non-null  object \n",
      " 23  wind_direction_intercardinal_100m               48168 non-null  object \n",
      " 24  weighted_temp_2m_celsius                        48168 non-null  float64\n",
      " 25  weighted_mean_sea_level_pressure_mb             48168 non-null  float64\n",
      " 26  weighted_wind_gusts_10m                         48168 non-null  float64\n",
      " 27  weighted_mean_wind_speed_10m                    48168 non-null  float64\n",
      " 28  weighted_mean_wind_speed_100m                   48168 non-null  float64\n",
      " 29  weighted_mean_wind_direction_angle_10m          48168 non-null  float64\n",
      " 30  weighted_mean_wind_direction_angle_100m         48168 non-null  float64\n",
      " 31  weighted_wind_direction_intercardinal_10m       48168 non-null  object \n",
      " 32  weighted_wind_direction_intercardinal_100m      48168 non-null  object \n",
      " 33  actual_generated_smard_mwh                      48168 non-null  float64\n",
      "dtypes: UInt32(1), float32(5), float64(15), int32(6), int64(2), object(5)\n",
      "memory usage: 10.7+ MB\n"
     ]
    }
   ],
   "source": [
    "df = pd.read_pickle(data_push_path / 'df_main_smard_era5_final_reordered.pkl')\n",
    "\n",
    "# split off SMARD forecasted and actuals into separate dataframe and drop SMARD forecasted\n",
    "df_smard_preds_vs_actuals = df.loc[:, ['forecasted_generation_smard_mwh', 'actual_generated_smard_mwh']].copy()\n",
    "df.drop(columns=['forecasted_generation_smard_mwh'], inplace=True)\n",
    "\n",
    "df.info()"
   ]
  },
  {
   "cell_type": "code",
   "execution_count": null,
   "id": "0500ad7a-c3fd-419a-8608-098626b8dc70",
   "metadata": {},
   "outputs": [],
   "source": []
  }
 ],
 "metadata": {
  "kernelspec": {
   "display_name": "course_project",
   "language": "python",
   "name": "course_project"
  },
  "language_info": {
   "codemirror_mode": {
    "name": "ipython",
    "version": 3
   },
   "file_extension": ".py",
   "mimetype": "text/x-python",
   "name": "python",
   "nbconvert_exporter": "python",
   "pygments_lexer": "ipython3",
   "version": "3.10.12"
  }
 },
 "nbformat": 4,
 "nbformat_minor": 5
}
